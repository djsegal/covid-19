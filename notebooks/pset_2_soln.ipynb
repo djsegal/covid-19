{
 "cells": [
  {
   "cell_type": "markdown",
   "metadata": {},
   "source": [
    "## 6.S083 / 18.S190\n",
    "# PSET 2 Solution – Recovery Modeling\n",
    "\n",
    "#### Author: Dan Segal (@[djsegal](https://github.com/djsegal))"
   ]
  },
  {
   "cell_type": "markdown",
   "metadata": {},
   "source": [
    "----\n",
    "\n",
    "## Exercise 1: Frequencies\n",
    "\n",
    "In this exercise we will write a general function to count occurrences of values in a set of data"
   ]
  },
  {
   "cell_type": "markdown",
   "metadata": {},
   "source": [
    "### 1. Write a function `counts` that:\n",
    "+ accepts a vector `data` \n",
    "+ calculates the number of times each value in `data` occurs"
   ]
  },
  {
   "cell_type": "code",
   "execution_count": 1,
   "metadata": {},
   "outputs": [
    {
     "data": {
      "text/plain": [
       "counts (generic function with 1 method)"
      ]
     },
     "execution_count": 1,
     "metadata": {},
     "output_type": "execute_result"
    }
   ],
   "source": [
    "function counts(data::Vector)\n",
    "  d = Dict{Int, Int}()\n",
    "  \n",
    "  for cur_value in data\n",
    "    if haskey(d, cur_value)\n",
    "      d[cur_value] += 1\n",
    "    else\n",
    "      d[cur_value] = 1\n",
    "    end\n",
    "  end\n",
    "  \n",
    "  return d\n",
    "end\n"
   ]
  },
  {
   "cell_type": "markdown",
   "metadata": {},
   "source": [
    "### 2. Test that your code is correct:\n",
    "\n",
    "+ Apply it to obtain the counts of the data vector\n",
    "\n",
    "```\n",
    "vv = [1, 0, 1, 0, 1000, 1, 1, 1000]\n",
    "```"
   ]
  },
  {
   "cell_type": "code",
   "execution_count": 2,
   "metadata": {},
   "outputs": [],
   "source": [
    "vv = [1, 0, 1, 0, 1000, 1, 1, 1000]\n",
    "cc = counts(vv)\n",
    "\n",
    "@assert cc[0] == 2\n",
    "@assert cc[1] == 4\n",
    "@assert cc[1000] == 2\n"
   ]
  },
  {
   "cell_type": "markdown",
   "metadata": {},
   "source": [
    "### 3. Extract vectors `ks` of keys and `vs` of values \n",
    "\n",
    "+ using the `keys()` and `values()` functions \n",
    "+ convert the results into a vector using the `collect` function.\n"
   ]
  },
  {
   "cell_type": "code",
   "execution_count": 3,
   "metadata": {},
   "outputs": [],
   "source": [
    "ks = collect(keys(cc))\n",
    "vs = collect(values(cc))\n",
    "\n",
    "@assert sort(ks) == [0, 1, 1000]\n",
    "@assert sort(vs) == [2, 2, 4]\n"
   ]
  },
  {
   "cell_type": "markdown",
   "metadata": {},
   "source": [
    "### 4. Define variable `p` as the result of running `sortperm` on `ks`\n",
    "\n",
    "+ this gives a **permutation** that tells you \n",
    "+ in which order you need to take the keys to give a sorted version\n"
   ]
  },
  {
   "cell_type": "code",
   "execution_count": 4,
   "metadata": {},
   "outputs": [
    {
     "data": {
      "text/plain": [
       "3-element Array{Int64,1}:\n",
       " 1\n",
       " 3\n",
       " 2"
      ]
     },
     "execution_count": 4,
     "metadata": {},
     "output_type": "execute_result"
    }
   ],
   "source": [
    "# note that you can't do: sortperm(keys(cc))\n",
    "\n",
    "p = sortperm(ks)\n"
   ]
  },
  {
   "cell_type": "markdown",
   "metadata": {},
   "source": [
    "### 5. Use indexing `ks[p]` to return the sorted keys/values vectors \n"
   ]
  },
  {
   "cell_type": "code",
   "execution_count": 5,
   "metadata": {},
   "outputs": [
    {
     "data": {
      "text/plain": [
       "3-element Array{Int64,1}:\n",
       " 2\n",
       " 4\n",
       " 2"
      ]
     },
     "execution_count": 5,
     "metadata": {},
     "output_type": "execute_result"
    }
   ],
   "source": [
    "@assert ks[p] == sort(ks)\n",
    "\n",
    "vs[p]\n"
   ]
  },
  {
   "cell_type": "markdown",
   "metadata": {},
   "source": [
    "### 6. Test that your new `counts` function gives the correct result\n",
    "\n",
    "+ make sure output for vector `v` \n",
    "+ matches the true result you can derive by hand\n"
   ]
  },
  {
   "cell_type": "code",
   "execution_count": 6,
   "metadata": {},
   "outputs": [
    {
     "data": {
      "text/plain": [
       "sorted_counts (generic function with 1 method)"
      ]
     },
     "execution_count": 6,
     "metadata": {},
     "output_type": "execute_result"
    }
   ],
   "source": [
    "function sorted_counts(data::Vector)\n",
    "  cc = counts(data)\n",
    "  ks = collect(keys(cc))\n",
    "  vs = collect(values(cc))\n",
    "  \n",
    "  p = sortperm(ks)\n",
    "  ks .= ks[p]\n",
    "  vs .= vs[p]\n",
    "  \n",
    "  return (ks, vs)\n",
    "end\n"
   ]
  },
  {
   "cell_type": "code",
   "execution_count": 7,
   "metadata": {},
   "outputs": [],
   "source": [
    "# vv = [1, 0, 1, 0, 1000, 1, 1, 1000]\n",
    "sc = sorted_counts(vv)\n",
    "\n",
    "expected = [(0,2), (1,4), (1000,2)]\n",
    "k_list, v_list = sc\n",
    "\n",
    "for (cur_index, (cur_key, cur_value)) in enumerate(expected)\n",
    "  @assert cur_key == k_list[cur_index]\n",
    "  @assert cur_value == v_list[cur_index]\n",
    "end\n"
   ]
  },
  {
   "cell_type": "markdown",
   "metadata": {},
   "source": [
    "### 7. Make a function `probability_distribution` \n",
    "\n",
    "+ that normalizes result of `counts` to calculate relative frequency\n",
    "+ the function should return the keys and probabilities\n"
   ]
  },
  {
   "cell_type": "code",
   "execution_count": 8,
   "metadata": {},
   "outputs": [
    {
     "data": {
      "text/plain": [
       "probability_distribution (generic function with 1 method)"
      ]
     },
     "execution_count": 8,
     "metadata": {},
     "output_type": "execute_result"
    }
   ],
   "source": [
    "function probability_distribution(data::Vector)\n",
    "  (ks, vs) = sorted_counts(data)\n",
    "  \n",
    "  # implicitly casts as floats\n",
    "  vs = vs / sum(vs)\n",
    "  \n",
    "  return (ks, vs)\n",
    "end\n"
   ]
  },
  {
   "cell_type": "code",
   "execution_count": 9,
   "metadata": {},
   "outputs": [],
   "source": [
    "# vv = [1, 0, 1, 0, 1000, 1, 1, 1000]\n",
    "sc = probability_distribution(vv)\n",
    "\n",
    "expected = [(0,2/8), (1,4/8), (1000,2/8)]\n",
    "k_list, v_list = sc\n",
    "\n",
    "for (cur_index, (cur_key, cur_value)) in enumerate(expected)\n",
    "  @assert cur_key == k_list[cur_index]\n",
    "  @assert cur_value == v_list[cur_index]\n",
    "end\n",
    "\n",
    "@assert sum(v_list) == 1.0\n"
   ]
  },
  {
   "cell_type": "markdown",
   "metadata": {},
   "source": [
    "----\n",
    "\n",
    "## Exercise 2: Modeling recovery\n",
    "\n",
    "In this exercise, we will investigate the simple model of recovery from an infection where an individual who is infected has probability $p$ to recover each day. If they recover on day $n$ then $\\tau = n$.\n",
    "We see that $\\tau$ is a random variable, so we need to study its **probability distribution**.\n"
   ]
  },
  {
   "cell_type": "markdown",
   "metadata": {},
   "source": [
    "----\n",
    "\n",
    "### 1. Define the function `bernoulli(p)` from lectures. Recall that this generates `true` with probability $p$ and `false` with probability $(1 - p)$.\n"
   ]
  },
  {
   "cell_type": "code",
   "execution_count": 10,
   "metadata": {},
   "outputs": [
    {
     "data": {
      "text/plain": [
       "bernoulli (generic function with 1 method)"
      ]
     },
     "execution_count": 10,
     "metadata": {},
     "output_type": "execute_result"
    }
   ],
   "source": [
    "bernoulli(p) = rand() <= p"
   ]
  },
  {
   "cell_type": "code",
   "execution_count": 11,
   "metadata": {},
   "outputs": [],
   "source": [
    "coin_dict = Dict(true=>0, false=>0)\n",
    "\n",
    "for _ in 1:10000\n",
    "  @assert bernoulli(1) == true\n",
    "  @assert bernoulli(0) == false\n",
    "  \n",
    "  coin_dict[bernoulli(0.5)] += 1\n",
    "end\n",
    "\n",
    "@assert coin_dict[true] > 0\n",
    "@assert coin_dict[false] > 0"
   ]
  },
  {
   "cell_type": "markdown",
   "metadata": {},
   "source": [
    "\n",
    "### 2. Write a function `geometric(p)`. \n",
    "+ This should run a simulation with probability $p$ to recover \n",
    "+ and wait *until* the individual recovers\n",
    "+ at which point it returns the time taken to recover.\n"
   ]
  },
  {
   "cell_type": "code",
   "execution_count": 12,
   "metadata": {},
   "outputs": [
    {
     "data": {
      "text/plain": [
       "geometric (generic function with 1 method)"
      ]
     },
     "execution_count": 12,
     "metadata": {},
     "output_type": "execute_result"
    }
   ],
   "source": [
    "function geometric(p)\n",
    "  @assert 0 < p <= 1\n",
    "  \n",
    "  tau = 1\n",
    "  while !bernoulli(p)\n",
    "    tau += 1\n",
    "  end\n",
    "  return tau\n",
    "end\n"
   ]
  },
  {
   "cell_type": "code",
   "execution_count": 13,
   "metadata": {},
   "outputs": [],
   "source": [
    "# geometric(0) raises error (inf loop)\n",
    "\n",
    "@assert geometric(1) == 1\n"
   ]
  },
  {
   "cell_type": "markdown",
   "metadata": {},
   "source": [
    "\n",
    "### 3. Write a function `experiment(p, N)` \n",
    "\n",
    "That runs the function from [2] `N` times and collects the results into a vector.\n"
   ]
  },
  {
   "cell_type": "code",
   "execution_count": 14,
   "metadata": {},
   "outputs": [],
   "source": [
    "experiment(p, N) = [ geometric(p) for _ in 1:N ]\n",
    "\n",
    "@assert experiment(1, 1) == [1]\n"
   ]
  },
  {
   "cell_type": "markdown",
   "metadata": {},
   "source": [
    "\n",
    "### 4. Run an experiment with $p=0.25$ and $N=10,000$. \n",
    "\n",
    "+ Plot the resulting probability distribution, \n",
    "+ i.e. plot $P(\\tau = n)$ against $n$, where $n$ is the recovery time.\n"
   ]
  },
  {
   "cell_type": "code",
   "execution_count": 15,
   "metadata": {},
   "outputs": [],
   "source": [
    "p = 0.25\n",
    "N = 10^4\n",
    "\n",
    "cur_experiment = experiment(p, N)\n",
    "default_distribution = probability_distribution(cur_experiment)\n",
    "\n",
    "@assert length(cur_experiment) == N\n"
   ]
  },
  {
   "cell_type": "code",
   "execution_count": 16,
   "metadata": {},
   "outputs": [
    {
     "data": {
      "image/svg+xml": [
       "<?xml version=\"1.0\" encoding=\"utf-8\"?>\n",
       "<svg xmlns=\"http://www.w3.org/2000/svg\" xmlns:xlink=\"http://www.w3.org/1999/xlink\" width=\"600\" height=\"400\" viewBox=\"0 0 2400 1600\">\n",
       "<defs>\n",
       "  <clipPath id=\"clip1100\">\n",
       "    <rect x=\"0\" y=\"0\" width=\"2400\" height=\"1600\"/>\n",
       "  </clipPath>\n",
       "</defs>\n",
       "<path clip-path=\"url(#clip1100)\" d=\"\n",
       "M0 1600 L2400 1600 L2400 0 L0 0  Z\n",
       "  \" fill=\"#ffffff\" fill-rule=\"evenodd\" fill-opacity=\"1\"/>\n",
       "<defs>\n",
       "  <clipPath id=\"clip1101\">\n",
       "    <rect x=\"480\" y=\"0\" width=\"1681\" height=\"1600\"/>\n",
       "  </clipPath>\n",
       "</defs>\n",
       "<path clip-path=\"url(#clip1100)\" d=\"\n",
       "M242.516 1425.62 L2352.76 1425.62 L2352.76 121.675 L242.516 121.675  Z\n",
       "  \" fill=\"#ffffff\" fill-rule=\"evenodd\" fill-opacity=\"1\"/>\n",
       "<defs>\n",
       "  <clipPath id=\"clip1102\">\n",
       "    <rect x=\"242\" y=\"121\" width=\"2111\" height=\"1305\"/>\n",
       "  </clipPath>\n",
       "</defs>\n",
       "<polyline clip-path=\"url(#clip1102)\" style=\"stroke:#000000; stroke-width:2; stroke-opacity:0.1; fill:none\" points=\"\n",
       "  321.997,1425.62 321.997,121.675 \n",
       "  \"/>\n",
       "<polyline clip-path=\"url(#clip1102)\" style=\"stroke:#000000; stroke-width:2; stroke-opacity:0.1; fill:none\" points=\"\n",
       "  931.771,1425.62 931.771,121.675 \n",
       "  \"/>\n",
       "<polyline clip-path=\"url(#clip1102)\" style=\"stroke:#000000; stroke-width:2; stroke-opacity:0.1; fill:none\" points=\"\n",
       "  1541.55,1425.62 1541.55,121.675 \n",
       "  \"/>\n",
       "<polyline clip-path=\"url(#clip1102)\" style=\"stroke:#000000; stroke-width:2; stroke-opacity:0.1; fill:none\" points=\"\n",
       "  2151.32,1425.62 2151.32,121.675 \n",
       "  \"/>\n",
       "<polyline clip-path=\"url(#clip1102)\" style=\"stroke:#000000; stroke-width:2; stroke-opacity:0.1; fill:none\" points=\"\n",
       "  242.516,1388.71 2352.76,1388.71 \n",
       "  \"/>\n",
       "<polyline clip-path=\"url(#clip1102)\" style=\"stroke:#000000; stroke-width:2; stroke-opacity:0.1; fill:none\" points=\"\n",
       "  242.516,1141.8 2352.76,1141.8 \n",
       "  \"/>\n",
       "<polyline clip-path=\"url(#clip1102)\" style=\"stroke:#000000; stroke-width:2; stroke-opacity:0.1; fill:none\" points=\"\n",
       "  242.516,894.883 2352.76,894.883 \n",
       "  \"/>\n",
       "<polyline clip-path=\"url(#clip1102)\" style=\"stroke:#000000; stroke-width:2; stroke-opacity:0.1; fill:none\" points=\"\n",
       "  242.516,647.967 2352.76,647.967 \n",
       "  \"/>\n",
       "<polyline clip-path=\"url(#clip1102)\" style=\"stroke:#000000; stroke-width:2; stroke-opacity:0.1; fill:none\" points=\"\n",
       "  242.516,401.051 2352.76,401.051 \n",
       "  \"/>\n",
       "<polyline clip-path=\"url(#clip1102)\" style=\"stroke:#000000; stroke-width:2; stroke-opacity:0.1; fill:none\" points=\"\n",
       "  242.516,154.135 2352.76,154.135 \n",
       "  \"/>\n",
       "<polyline clip-path=\"url(#clip1100)\" style=\"stroke:#000000; stroke-width:4; stroke-opacity:1; fill:none\" points=\"\n",
       "  242.516,1425.62 2352.76,1425.62 \n",
       "  \"/>\n",
       "<polyline clip-path=\"url(#clip1100)\" style=\"stroke:#000000; stroke-width:4; stroke-opacity:1; fill:none\" points=\"\n",
       "  242.516,1425.62 242.516,121.675 \n",
       "  \"/>\n",
       "<polyline clip-path=\"url(#clip1100)\" style=\"stroke:#000000; stroke-width:4; stroke-opacity:1; fill:none\" points=\"\n",
       "  321.997,1425.62 321.997,1409.97 \n",
       "  \"/>\n",
       "<polyline clip-path=\"url(#clip1100)\" style=\"stroke:#000000; stroke-width:4; stroke-opacity:1; fill:none\" points=\"\n",
       "  931.771,1425.62 931.771,1409.97 \n",
       "  \"/>\n",
       "<polyline clip-path=\"url(#clip1100)\" style=\"stroke:#000000; stroke-width:4; stroke-opacity:1; fill:none\" points=\"\n",
       "  1541.55,1425.62 1541.55,1409.97 \n",
       "  \"/>\n",
       "<polyline clip-path=\"url(#clip1100)\" style=\"stroke:#000000; stroke-width:4; stroke-opacity:1; fill:none\" points=\"\n",
       "  2151.32,1425.62 2151.32,1409.97 \n",
       "  \"/>\n",
       "<polyline clip-path=\"url(#clip1100)\" style=\"stroke:#000000; stroke-width:4; stroke-opacity:1; fill:none\" points=\"\n",
       "  242.516,1388.71 267.839,1388.71 \n",
       "  \"/>\n",
       "<polyline clip-path=\"url(#clip1100)\" style=\"stroke:#000000; stroke-width:4; stroke-opacity:1; fill:none\" points=\"\n",
       "  242.516,1141.8 267.839,1141.8 \n",
       "  \"/>\n",
       "<polyline clip-path=\"url(#clip1100)\" style=\"stroke:#000000; stroke-width:4; stroke-opacity:1; fill:none\" points=\"\n",
       "  242.516,894.883 267.839,894.883 \n",
       "  \"/>\n",
       "<polyline clip-path=\"url(#clip1100)\" style=\"stroke:#000000; stroke-width:4; stroke-opacity:1; fill:none\" points=\"\n",
       "  242.516,647.967 267.839,647.967 \n",
       "  \"/>\n",
       "<polyline clip-path=\"url(#clip1100)\" style=\"stroke:#000000; stroke-width:4; stroke-opacity:1; fill:none\" points=\"\n",
       "  242.516,401.051 267.839,401.051 \n",
       "  \"/>\n",
       "<polyline clip-path=\"url(#clip1100)\" style=\"stroke:#000000; stroke-width:4; stroke-opacity:1; fill:none\" points=\"\n",
       "  242.516,154.135 267.839,154.135 \n",
       "  \"/>\n",
       "<g clip-path=\"url(#clip1100)\">\n",
       "<text style=\"fill:#000000; fill-opacity:1; font-family:Arial,Helvetica Neue,Helvetica,sans-serif; font-size:48px; text-anchor:middle;\" transform=\"rotate(0, 321.997, 1479.62)\" x=\"321.997\" y=\"1479.62\">0</text>\n",
       "</g>\n",
       "<g clip-path=\"url(#clip1100)\">\n",
       "<text style=\"fill:#000000; fill-opacity:1; font-family:Arial,Helvetica Neue,Helvetica,sans-serif; font-size:48px; text-anchor:middle;\" transform=\"rotate(0, 931.771, 1479.62)\" x=\"931.771\" y=\"1479.62\">10</text>\n",
       "</g>\n",
       "<g clip-path=\"url(#clip1100)\">\n",
       "<text style=\"fill:#000000; fill-opacity:1; font-family:Arial,Helvetica Neue,Helvetica,sans-serif; font-size:48px; text-anchor:middle;\" transform=\"rotate(0, 1541.55, 1479.62)\" x=\"1541.55\" y=\"1479.62\">20</text>\n",
       "</g>\n",
       "<g clip-path=\"url(#clip1100)\">\n",
       "<text style=\"fill:#000000; fill-opacity:1; font-family:Arial,Helvetica Neue,Helvetica,sans-serif; font-size:48px; text-anchor:middle;\" transform=\"rotate(0, 2151.32, 1479.62)\" x=\"2151.32\" y=\"1479.62\">30</text>\n",
       "</g>\n",
       "<g clip-path=\"url(#clip1100)\">\n",
       "<text style=\"fill:#000000; fill-opacity:1; font-family:Arial,Helvetica Neue,Helvetica,sans-serif; font-size:48px; text-anchor:end;\" transform=\"rotate(0, 218.516, 1406.21)\" x=\"218.516\" y=\"1406.21\">0.00</text>\n",
       "</g>\n",
       "<g clip-path=\"url(#clip1100)\">\n",
       "<text style=\"fill:#000000; fill-opacity:1; font-family:Arial,Helvetica Neue,Helvetica,sans-serif; font-size:48px; text-anchor:end;\" transform=\"rotate(0, 218.516, 1159.3)\" x=\"218.516\" y=\"1159.3\">0.05</text>\n",
       "</g>\n",
       "<g clip-path=\"url(#clip1100)\">\n",
       "<text style=\"fill:#000000; fill-opacity:1; font-family:Arial,Helvetica Neue,Helvetica,sans-serif; font-size:48px; text-anchor:end;\" transform=\"rotate(0, 218.516, 912.383)\" x=\"218.516\" y=\"912.383\">0.10</text>\n",
       "</g>\n",
       "<g clip-path=\"url(#clip1100)\">\n",
       "<text style=\"fill:#000000; fill-opacity:1; font-family:Arial,Helvetica Neue,Helvetica,sans-serif; font-size:48px; text-anchor:end;\" transform=\"rotate(0, 218.516, 665.467)\" x=\"218.516\" y=\"665.467\">0.15</text>\n",
       "</g>\n",
       "<g clip-path=\"url(#clip1100)\">\n",
       "<text style=\"fill:#000000; fill-opacity:1; font-family:Arial,Helvetica Neue,Helvetica,sans-serif; font-size:48px; text-anchor:end;\" transform=\"rotate(0, 218.516, 418.551)\" x=\"218.516\" y=\"418.551\">0.20</text>\n",
       "</g>\n",
       "<g clip-path=\"url(#clip1100)\">\n",
       "<text style=\"fill:#000000; fill-opacity:1; font-family:Arial,Helvetica Neue,Helvetica,sans-serif; font-size:48px; text-anchor:end;\" transform=\"rotate(0, 218.516, 171.635)\" x=\"218.516\" y=\"171.635\">0.25</text>\n",
       "</g>\n",
       "<g clip-path=\"url(#clip1100)\">\n",
       "<text style=\"fill:#000000; fill-opacity:1; font-family:Arial,Helvetica Neue,Helvetica,sans-serif; font-size:84px; text-anchor:middle;\" transform=\"rotate(0, 1297.64, 73.2)\" x=\"1297.64\" y=\"73.2\">Recovery Time</text>\n",
       "</g>\n",
       "<g clip-path=\"url(#clip1100)\">\n",
       "<text style=\"fill:#000000; fill-opacity:1; font-family:Arial,Helvetica Neue,Helvetica,sans-serif; font-size:66px; text-anchor:middle;\" transform=\"rotate(0, 1297.64, 1559.48)\" x=\"1297.64\" y=\"1559.48\">tau</text>\n",
       "</g>\n",
       "<g clip-path=\"url(#clip1100)\">\n",
       "<text style=\"fill:#000000; fill-opacity:1; font-family:Arial,Helvetica Neue,Helvetica,sans-serif; font-size:66px; text-anchor:middle;\" transform=\"rotate(-90, 89.2861, 773.647)\" x=\"89.2861\" y=\"773.647\">p</text>\n",
       "</g>\n",
       "<path clip-path=\"url(#clip1102)\" d=\"\n",
       "M358.583 158.579 L358.583 1388.71 L407.365 1388.71 L407.365 158.579 L358.583 158.579 L358.583 158.579  Z\n",
       "  \" fill=\"#009af9\" fill-rule=\"evenodd\" fill-opacity=\"1\"/>\n",
       "<polyline clip-path=\"url(#clip1102)\" style=\"stroke:#000000; stroke-width:4; stroke-opacity:1; fill:none\" points=\"\n",
       "  358.583,158.579 358.583,1388.71 407.365,1388.71 407.365,158.579 358.583,158.579 \n",
       "  \"/>\n",
       "<path clip-path=\"url(#clip1102)\" d=\"\n",
       "M419.561 462.286 L419.561 1388.71 L468.343 1388.71 L468.343 462.286 L419.561 462.286 L419.561 462.286  Z\n",
       "  \" fill=\"#009af9\" fill-rule=\"evenodd\" fill-opacity=\"1\"/>\n",
       "<polyline clip-path=\"url(#clip1102)\" style=\"stroke:#000000; stroke-width:4; stroke-opacity:1; fill:none\" points=\"\n",
       "  419.561,462.286 419.561,1388.71 468.343,1388.71 468.343,462.286 419.561,462.286 \n",
       "  \"/>\n",
       "<path clip-path=\"url(#clip1102)\" d=\"\n",
       "M480.538 676.609 L480.538 1388.71 L529.32 1388.71 L529.32 676.609 L480.538 676.609 L480.538 676.609  Z\n",
       "  \" fill=\"#009af9\" fill-rule=\"evenodd\" fill-opacity=\"1\"/>\n",
       "<polyline clip-path=\"url(#clip1102)\" style=\"stroke:#000000; stroke-width:4; stroke-opacity:1; fill:none\" points=\"\n",
       "  480.538,676.609 480.538,1388.71 529.32,1388.71 529.32,676.609 480.538,676.609 \n",
       "  \"/>\n",
       "<path clip-path=\"url(#clip1102)\" d=\"\n",
       "M541.516 874.636 L541.516 1388.71 L590.298 1388.71 L590.298 874.636 L541.516 874.636 L541.516 874.636  Z\n",
       "  \" fill=\"#009af9\" fill-rule=\"evenodd\" fill-opacity=\"1\"/>\n",
       "<polyline clip-path=\"url(#clip1102)\" style=\"stroke:#000000; stroke-width:4; stroke-opacity:1; fill:none\" points=\"\n",
       "  541.516,874.636 541.516,1388.71 590.298,1388.71 590.298,874.636 541.516,874.636 \n",
       "  \"/>\n",
       "<path clip-path=\"url(#clip1102)\" d=\"\n",
       "M602.493 1009.95 L602.493 1388.71 L651.275 1388.71 L651.275 1009.95 L602.493 1009.95 L602.493 1009.95  Z\n",
       "  \" fill=\"#009af9\" fill-rule=\"evenodd\" fill-opacity=\"1\"/>\n",
       "<polyline clip-path=\"url(#clip1102)\" style=\"stroke:#000000; stroke-width:4; stroke-opacity:1; fill:none\" points=\"\n",
       "  602.493,1009.95 602.493,1388.71 651.275,1388.71 651.275,1009.95 602.493,1009.95 \n",
       "  \"/>\n",
       "<path clip-path=\"url(#clip1102)\" d=\"\n",
       "M663.471 1091.43 L663.471 1388.71 L712.253 1388.71 L712.253 1091.43 L663.471 1091.43 L663.471 1091.43  Z\n",
       "  \" fill=\"#009af9\" fill-rule=\"evenodd\" fill-opacity=\"1\"/>\n",
       "<polyline clip-path=\"url(#clip1102)\" style=\"stroke:#000000; stroke-width:4; stroke-opacity:1; fill:none\" points=\"\n",
       "  663.471,1091.43 663.471,1388.71 712.253,1388.71 712.253,1091.43 663.471,1091.43 \n",
       "  \"/>\n",
       "<path clip-path=\"url(#clip1102)\" d=\"\n",
       "M724.448 1162.05 L724.448 1388.71 L773.23 1388.71 L773.23 1162.05 L724.448 1162.05 L724.448 1162.05  Z\n",
       "  \" fill=\"#009af9\" fill-rule=\"evenodd\" fill-opacity=\"1\"/>\n",
       "<polyline clip-path=\"url(#clip1102)\" style=\"stroke:#000000; stroke-width:4; stroke-opacity:1; fill:none\" points=\"\n",
       "  724.448,1162.05 724.448,1388.71 773.23,1388.71 773.23,1162.05 724.448,1162.05 \n",
       "  \"/>\n",
       "<path clip-path=\"url(#clip1102)\" d=\"\n",
       "M785.426 1219.82 L785.426 1388.71 L834.208 1388.71 L834.208 1219.82 L785.426 1219.82 L785.426 1219.82  Z\n",
       "  \" fill=\"#009af9\" fill-rule=\"evenodd\" fill-opacity=\"1\"/>\n",
       "<polyline clip-path=\"url(#clip1102)\" style=\"stroke:#000000; stroke-width:4; stroke-opacity:1; fill:none\" points=\"\n",
       "  785.426,1219.82 785.426,1388.71 834.208,1388.71 834.208,1219.82 785.426,1219.82 \n",
       "  \"/>\n",
       "<path clip-path=\"url(#clip1102)\" d=\"\n",
       "M846.403 1249.45 L846.403 1388.71 L895.185 1388.71 L895.185 1249.45 L846.403 1249.45 L846.403 1249.45  Z\n",
       "  \" fill=\"#009af9\" fill-rule=\"evenodd\" fill-opacity=\"1\"/>\n",
       "<polyline clip-path=\"url(#clip1102)\" style=\"stroke:#000000; stroke-width:4; stroke-opacity:1; fill:none\" points=\"\n",
       "  846.403,1249.45 846.403,1388.71 895.185,1388.71 895.185,1249.45 846.403,1249.45 \n",
       "  \"/>\n",
       "<path clip-path=\"url(#clip1102)\" d=\"\n",
       "M907.38 1307.73 L907.38 1388.71 L956.162 1388.71 L956.162 1307.73 L907.38 1307.73 L907.38 1307.73  Z\n",
       "  \" fill=\"#009af9\" fill-rule=\"evenodd\" fill-opacity=\"1\"/>\n",
       "<polyline clip-path=\"url(#clip1102)\" style=\"stroke:#000000; stroke-width:4; stroke-opacity:1; fill:none\" points=\"\n",
       "  907.38,1307.73 907.38,1388.71 956.162,1388.71 956.162,1307.73 907.38,1307.73 \n",
       "  \"/>\n",
       "<path clip-path=\"url(#clip1102)\" d=\"\n",
       "M968.358 1322.05 L968.358 1388.71 L1017.14 1388.71 L1017.14 1322.05 L968.358 1322.05 L968.358 1322.05  Z\n",
       "  \" fill=\"#009af9\" fill-rule=\"evenodd\" fill-opacity=\"1\"/>\n",
       "<polyline clip-path=\"url(#clip1102)\" style=\"stroke:#000000; stroke-width:4; stroke-opacity:1; fill:none\" points=\"\n",
       "  968.358,1322.05 968.358,1388.71 1017.14,1388.71 1017.14,1322.05 968.358,1322.05 \n",
       "  \"/>\n",
       "<path clip-path=\"url(#clip1102)\" d=\"\n",
       "M1029.34 1342.29 L1029.34 1388.71 L1078.12 1388.71 L1078.12 1342.29 L1029.34 1342.29 L1029.34 1342.29  Z\n",
       "  \" fill=\"#009af9\" fill-rule=\"evenodd\" fill-opacity=\"1\"/>\n",
       "<polyline clip-path=\"url(#clip1102)\" style=\"stroke:#000000; stroke-width:4; stroke-opacity:1; fill:none\" points=\"\n",
       "  1029.34,1342.29 1029.34,1388.71 1078.12,1388.71 1078.12,1342.29 1029.34,1342.29 \n",
       "  \"/>\n",
       "<path clip-path=\"url(#clip1102)\" d=\"\n",
       "M1090.31 1351.68 L1090.31 1388.71 L1139.09 1388.71 L1139.09 1351.68 L1090.31 1351.68 L1090.31 1351.68  Z\n",
       "  \" fill=\"#009af9\" fill-rule=\"evenodd\" fill-opacity=\"1\"/>\n",
       "<polyline clip-path=\"url(#clip1102)\" style=\"stroke:#000000; stroke-width:4; stroke-opacity:1; fill:none\" points=\"\n",
       "  1090.31,1351.68 1090.31,1388.71 1139.09,1388.71 1139.09,1351.68 1090.31,1351.68 \n",
       "  \"/>\n",
       "<path clip-path=\"url(#clip1102)\" d=\"\n",
       "M1151.29 1362.05 L1151.29 1388.71 L1200.07 1388.71 L1200.07 1362.05 L1151.29 1362.05 L1151.29 1362.05  Z\n",
       "  \" fill=\"#009af9\" fill-rule=\"evenodd\" fill-opacity=\"1\"/>\n",
       "<polyline clip-path=\"url(#clip1102)\" style=\"stroke:#000000; stroke-width:4; stroke-opacity:1; fill:none\" points=\"\n",
       "  1151.29,1362.05 1151.29,1388.71 1200.07,1388.71 1200.07,1362.05 1151.29,1362.05 \n",
       "  \"/>\n",
       "<path clip-path=\"url(#clip1102)\" d=\"\n",
       "M1212.27 1368.96 L1212.27 1388.71 L1261.05 1388.71 L1261.05 1368.96 L1212.27 1368.96 L1212.27 1368.96  Z\n",
       "  \" fill=\"#009af9\" fill-rule=\"evenodd\" fill-opacity=\"1\"/>\n",
       "<polyline clip-path=\"url(#clip1102)\" style=\"stroke:#000000; stroke-width:4; stroke-opacity:1; fill:none\" points=\"\n",
       "  1212.27,1368.96 1212.27,1388.71 1261.05,1388.71 1261.05,1368.96 1212.27,1368.96 \n",
       "  \"/>\n",
       "<path clip-path=\"url(#clip1102)\" d=\"\n",
       "M1273.25 1373.9 L1273.25 1388.71 L1322.03 1388.71 L1322.03 1373.9 L1273.25 1373.9 L1273.25 1373.9  Z\n",
       "  \" fill=\"#009af9\" fill-rule=\"evenodd\" fill-opacity=\"1\"/>\n",
       "<polyline clip-path=\"url(#clip1102)\" style=\"stroke:#000000; stroke-width:4; stroke-opacity:1; fill:none\" points=\"\n",
       "  1273.25,1373.9 1273.25,1388.71 1322.03,1388.71 1322.03,1373.9 1273.25,1373.9 \n",
       "  \"/>\n",
       "<path clip-path=\"url(#clip1102)\" d=\"\n",
       "M1334.22 1374.39 L1334.22 1388.71 L1383 1388.71 L1383 1374.39 L1334.22 1374.39 L1334.22 1374.39  Z\n",
       "  \" fill=\"#009af9\" fill-rule=\"evenodd\" fill-opacity=\"1\"/>\n",
       "<polyline clip-path=\"url(#clip1102)\" style=\"stroke:#000000; stroke-width:4; stroke-opacity:1; fill:none\" points=\"\n",
       "  1334.22,1374.39 1334.22,1388.71 1383,1388.71 1383,1374.39 1334.22,1374.39 \n",
       "  \"/>\n",
       "<path clip-path=\"url(#clip1102)\" d=\"\n",
       "M1395.2 1382.79 L1395.2 1388.71 L1443.98 1388.71 L1443.98 1382.79 L1395.2 1382.79 L1395.2 1382.79  Z\n",
       "  \" fill=\"#009af9\" fill-rule=\"evenodd\" fill-opacity=\"1\"/>\n",
       "<polyline clip-path=\"url(#clip1102)\" style=\"stroke:#000000; stroke-width:4; stroke-opacity:1; fill:none\" points=\"\n",
       "  1395.2,1382.79 1395.2,1388.71 1443.98,1388.71 1443.98,1382.79 1395.2,1382.79 \n",
       "  \"/>\n",
       "<path clip-path=\"url(#clip1102)\" d=\"\n",
       "M1456.18 1381.31 L1456.18 1388.71 L1504.96 1388.71 L1504.96 1381.31 L1456.18 1381.31 L1456.18 1381.31  Z\n",
       "  \" fill=\"#009af9\" fill-rule=\"evenodd\" fill-opacity=\"1\"/>\n",
       "<polyline clip-path=\"url(#clip1102)\" style=\"stroke:#000000; stroke-width:4; stroke-opacity:1; fill:none\" points=\"\n",
       "  1456.18,1381.31 1456.18,1388.71 1504.96,1388.71 1504.96,1381.31 1456.18,1381.31 \n",
       "  \"/>\n",
       "<path clip-path=\"url(#clip1102)\" d=\"\n",
       "M1517.16 1382.79 L1517.16 1388.71 L1565.94 1388.71 L1565.94 1382.79 L1517.16 1382.79 L1517.16 1382.79  Z\n",
       "  \" fill=\"#009af9\" fill-rule=\"evenodd\" fill-opacity=\"1\"/>\n",
       "<polyline clip-path=\"url(#clip1102)\" style=\"stroke:#000000; stroke-width:4; stroke-opacity:1; fill:none\" points=\"\n",
       "  1517.16,1382.79 1517.16,1388.71 1565.94,1388.71 1565.94,1382.79 1517.16,1382.79 \n",
       "  \"/>\n",
       "<path clip-path=\"url(#clip1102)\" d=\"\n",
       "M1578.13 1383.78 L1578.13 1388.71 L1626.91 1388.71 L1626.91 1383.78 L1578.13 1383.78 L1578.13 1383.78  Z\n",
       "  \" fill=\"#009af9\" fill-rule=\"evenodd\" fill-opacity=\"1\"/>\n",
       "<polyline clip-path=\"url(#clip1102)\" style=\"stroke:#000000; stroke-width:4; stroke-opacity:1; fill:none\" points=\"\n",
       "  1578.13,1383.78 1578.13,1388.71 1626.91,1388.71 1626.91,1383.78 1578.13,1383.78 \n",
       "  \"/>\n",
       "<path clip-path=\"url(#clip1102)\" d=\"\n",
       "M1639.11 1384.27 L1639.11 1388.71 L1687.89 1388.71 L1687.89 1384.27 L1639.11 1384.27 L1639.11 1384.27  Z\n",
       "  \" fill=\"#009af9\" fill-rule=\"evenodd\" fill-opacity=\"1\"/>\n",
       "<polyline clip-path=\"url(#clip1102)\" style=\"stroke:#000000; stroke-width:4; stroke-opacity:1; fill:none\" points=\"\n",
       "  1639.11,1384.27 1639.11,1388.71 1687.89,1388.71 1687.89,1384.27 1639.11,1384.27 \n",
       "  \"/>\n",
       "<path clip-path=\"url(#clip1102)\" d=\"\n",
       "M1700.09 1386.25 L1700.09 1388.71 L1748.87 1388.71 L1748.87 1386.25 L1700.09 1386.25 L1700.09 1386.25  Z\n",
       "  \" fill=\"#009af9\" fill-rule=\"evenodd\" fill-opacity=\"1\"/>\n",
       "<polyline clip-path=\"url(#clip1102)\" style=\"stroke:#000000; stroke-width:4; stroke-opacity:1; fill:none\" points=\"\n",
       "  1700.09,1386.25 1700.09,1388.71 1748.87,1388.71 1748.87,1386.25 1700.09,1386.25 \n",
       "  \"/>\n",
       "<path clip-path=\"url(#clip1102)\" d=\"\n",
       "M1761.06 1386.74 L1761.06 1388.71 L1809.85 1388.71 L1809.85 1386.74 L1761.06 1386.74 L1761.06 1386.74  Z\n",
       "  \" fill=\"#009af9\" fill-rule=\"evenodd\" fill-opacity=\"1\"/>\n",
       "<polyline clip-path=\"url(#clip1102)\" style=\"stroke:#000000; stroke-width:4; stroke-opacity:1; fill:none\" points=\"\n",
       "  1761.06,1386.74 1761.06,1388.71 1809.85,1388.71 1809.85,1386.74 1761.06,1386.74 \n",
       "  \"/>\n",
       "<path clip-path=\"url(#clip1102)\" d=\"\n",
       "M1822.04 1388.22 L1822.04 1388.71 L1870.82 1388.71 L1870.82 1388.22 L1822.04 1388.22 L1822.04 1388.22  Z\n",
       "  \" fill=\"#009af9\" fill-rule=\"evenodd\" fill-opacity=\"1\"/>\n",
       "<polyline clip-path=\"url(#clip1102)\" style=\"stroke:#000000; stroke-width:4; stroke-opacity:1; fill:none\" points=\"\n",
       "  1822.04,1388.22 1822.04,1388.71 1870.82,1388.71 1870.82,1388.22 1822.04,1388.22 \n",
       "  \"/>\n",
       "<path clip-path=\"url(#clip1102)\" d=\"\n",
       "M1883.02 1387.23 L1883.02 1388.71 L1931.8 1388.71 L1931.8 1387.23 L1883.02 1387.23 L1883.02 1387.23  Z\n",
       "  \" fill=\"#009af9\" fill-rule=\"evenodd\" fill-opacity=\"1\"/>\n",
       "<polyline clip-path=\"url(#clip1102)\" style=\"stroke:#000000; stroke-width:4; stroke-opacity:1; fill:none\" points=\"\n",
       "  1883.02,1387.23 1883.02,1388.71 1931.8,1388.71 1931.8,1387.23 1883.02,1387.23 \n",
       "  \"/>\n",
       "<path clip-path=\"url(#clip1102)\" d=\"\n",
       "M1944 1386.74 L1944 1388.71 L1992.78 1388.71 L1992.78 1386.74 L1944 1386.74 L1944 1386.74  Z\n",
       "  \" fill=\"#009af9\" fill-rule=\"evenodd\" fill-opacity=\"1\"/>\n",
       "<polyline clip-path=\"url(#clip1102)\" style=\"stroke:#000000; stroke-width:4; stroke-opacity:1; fill:none\" points=\"\n",
       "  1944,1386.74 1944,1388.71 1992.78,1388.71 1992.78,1386.74 1944,1386.74 \n",
       "  \"/>\n",
       "<path clip-path=\"url(#clip1102)\" d=\"\n",
       "M2126.93 1388.22 L2126.93 1388.71 L2175.71 1388.71 L2175.71 1388.22 L2126.93 1388.22 L2126.93 1388.22  Z\n",
       "  \" fill=\"#009af9\" fill-rule=\"evenodd\" fill-opacity=\"1\"/>\n",
       "<polyline clip-path=\"url(#clip1102)\" style=\"stroke:#000000; stroke-width:4; stroke-opacity:1; fill:none\" points=\"\n",
       "  2126.93,1388.22 2126.93,1388.71 2175.71,1388.71 2175.71,1388.22 2126.93,1388.22 \n",
       "  \"/>\n",
       "<path clip-path=\"url(#clip1102)\" d=\"\n",
       "M2187.91 1388.22 L2187.91 1388.71 L2236.69 1388.71 L2236.69 1388.22 L2187.91 1388.22 L2187.91 1388.22  Z\n",
       "  \" fill=\"#009af9\" fill-rule=\"evenodd\" fill-opacity=\"1\"/>\n",
       "<polyline clip-path=\"url(#clip1102)\" style=\"stroke:#000000; stroke-width:4; stroke-opacity:1; fill:none\" points=\"\n",
       "  2187.91,1388.22 2187.91,1388.71 2236.69,1388.71 2236.69,1388.22 2187.91,1388.22 \n",
       "  \"/>\n",
       "</svg>\n"
      ]
     },
     "execution_count": 16,
     "metadata": {},
     "output_type": "execute_result"
    }
   ],
   "source": [
    "using Plots\n",
    "\n",
    "dist_plot(cur_distribution) = bar(\n",
    "  cur_distribution, title=\"Recovery Time\",\n",
    "  xlabel=\"tau\", ylabel=\"p\", label=\"\"\n",
    ")\n",
    "\n",
    "dist_plot(default_distribution)\n"
   ]
  },
  {
   "cell_type": "markdown",
   "metadata": {},
   "source": [
    "#### // note that around 25% of population recovered in 1 day\n",
    "\n",
    "---"
   ]
  },
  {
   "cell_type": "markdown",
   "metadata": {},
   "source": [
    "\n",
    "### 5. Calculate the mean recovery time and add it to the plot using the `vline!()` function and the `ls=:dash` argument to make a dashed line.\n"
   ]
  },
  {
   "cell_type": "code",
   "execution_count": 17,
   "metadata": {},
   "outputs": [
    {
     "name": "stdout",
     "output_type": "stream",
     "text": [
      "mean recovery is: ~4 days\n",
      "\n"
     ]
    },
    {
     "data": {
      "image/svg+xml": [
       "<?xml version=\"1.0\" encoding=\"utf-8\"?>\n",
       "<svg xmlns=\"http://www.w3.org/2000/svg\" xmlns:xlink=\"http://www.w3.org/1999/xlink\" width=\"600\" height=\"400\" viewBox=\"0 0 2400 1600\">\n",
       "<defs>\n",
       "  <clipPath id=\"clip1500\">\n",
       "    <rect x=\"0\" y=\"0\" width=\"2400\" height=\"1600\"/>\n",
       "  </clipPath>\n",
       "</defs>\n",
       "<path clip-path=\"url(#clip1500)\" d=\"\n",
       "M0 1600 L2400 1600 L2400 0 L0 0  Z\n",
       "  \" fill=\"#ffffff\" fill-rule=\"evenodd\" fill-opacity=\"1\"/>\n",
       "<defs>\n",
       "  <clipPath id=\"clip1501\">\n",
       "    <rect x=\"480\" y=\"0\" width=\"1681\" height=\"1600\"/>\n",
       "  </clipPath>\n",
       "</defs>\n",
       "<path clip-path=\"url(#clip1500)\" d=\"\n",
       "M242.516 1425.62 L2352.76 1425.62 L2352.76 121.675 L242.516 121.675  Z\n",
       "  \" fill=\"#ffffff\" fill-rule=\"evenodd\" fill-opacity=\"1\"/>\n",
       "<defs>\n",
       "  <clipPath id=\"clip1502\">\n",
       "    <rect x=\"242\" y=\"121\" width=\"2111\" height=\"1305\"/>\n",
       "  </clipPath>\n",
       "</defs>\n",
       "<polyline clip-path=\"url(#clip1502)\" style=\"stroke:#000000; stroke-width:2; stroke-opacity:0.1; fill:none\" points=\"\n",
       "  321.997,1425.62 321.997,121.675 \n",
       "  \"/>\n",
       "<polyline clip-path=\"url(#clip1502)\" style=\"stroke:#000000; stroke-width:2; stroke-opacity:0.1; fill:none\" points=\"\n",
       "  931.771,1425.62 931.771,121.675 \n",
       "  \"/>\n",
       "<polyline clip-path=\"url(#clip1502)\" style=\"stroke:#000000; stroke-width:2; stroke-opacity:0.1; fill:none\" points=\"\n",
       "  1541.55,1425.62 1541.55,121.675 \n",
       "  \"/>\n",
       "<polyline clip-path=\"url(#clip1502)\" style=\"stroke:#000000; stroke-width:2; stroke-opacity:0.1; fill:none\" points=\"\n",
       "  2151.32,1425.62 2151.32,121.675 \n",
       "  \"/>\n",
       "<polyline clip-path=\"url(#clip1502)\" style=\"stroke:#000000; stroke-width:2; stroke-opacity:0.1; fill:none\" points=\"\n",
       "  242.516,1388.71 2352.76,1388.71 \n",
       "  \"/>\n",
       "<polyline clip-path=\"url(#clip1502)\" style=\"stroke:#000000; stroke-width:2; stroke-opacity:0.1; fill:none\" points=\"\n",
       "  242.516,1141.8 2352.76,1141.8 \n",
       "  \"/>\n",
       "<polyline clip-path=\"url(#clip1502)\" style=\"stroke:#000000; stroke-width:2; stroke-opacity:0.1; fill:none\" points=\"\n",
       "  242.516,894.883 2352.76,894.883 \n",
       "  \"/>\n",
       "<polyline clip-path=\"url(#clip1502)\" style=\"stroke:#000000; stroke-width:2; stroke-opacity:0.1; fill:none\" points=\"\n",
       "  242.516,647.967 2352.76,647.967 \n",
       "  \"/>\n",
       "<polyline clip-path=\"url(#clip1502)\" style=\"stroke:#000000; stroke-width:2; stroke-opacity:0.1; fill:none\" points=\"\n",
       "  242.516,401.051 2352.76,401.051 \n",
       "  \"/>\n",
       "<polyline clip-path=\"url(#clip1502)\" style=\"stroke:#000000; stroke-width:2; stroke-opacity:0.1; fill:none\" points=\"\n",
       "  242.516,154.135 2352.76,154.135 \n",
       "  \"/>\n",
       "<polyline clip-path=\"url(#clip1500)\" style=\"stroke:#000000; stroke-width:4; stroke-opacity:1; fill:none\" points=\"\n",
       "  242.516,1425.62 2352.76,1425.62 \n",
       "  \"/>\n",
       "<polyline clip-path=\"url(#clip1500)\" style=\"stroke:#000000; stroke-width:4; stroke-opacity:1; fill:none\" points=\"\n",
       "  242.516,1425.62 242.516,121.675 \n",
       "  \"/>\n",
       "<polyline clip-path=\"url(#clip1500)\" style=\"stroke:#000000; stroke-width:4; stroke-opacity:1; fill:none\" points=\"\n",
       "  321.997,1425.62 321.997,1409.97 \n",
       "  \"/>\n",
       "<polyline clip-path=\"url(#clip1500)\" style=\"stroke:#000000; stroke-width:4; stroke-opacity:1; fill:none\" points=\"\n",
       "  931.771,1425.62 931.771,1409.97 \n",
       "  \"/>\n",
       "<polyline clip-path=\"url(#clip1500)\" style=\"stroke:#000000; stroke-width:4; stroke-opacity:1; fill:none\" points=\"\n",
       "  1541.55,1425.62 1541.55,1409.97 \n",
       "  \"/>\n",
       "<polyline clip-path=\"url(#clip1500)\" style=\"stroke:#000000; stroke-width:4; stroke-opacity:1; fill:none\" points=\"\n",
       "  2151.32,1425.62 2151.32,1409.97 \n",
       "  \"/>\n",
       "<polyline clip-path=\"url(#clip1500)\" style=\"stroke:#000000; stroke-width:4; stroke-opacity:1; fill:none\" points=\"\n",
       "  242.516,1388.71 267.839,1388.71 \n",
       "  \"/>\n",
       "<polyline clip-path=\"url(#clip1500)\" style=\"stroke:#000000; stroke-width:4; stroke-opacity:1; fill:none\" points=\"\n",
       "  242.516,1141.8 267.839,1141.8 \n",
       "  \"/>\n",
       "<polyline clip-path=\"url(#clip1500)\" style=\"stroke:#000000; stroke-width:4; stroke-opacity:1; fill:none\" points=\"\n",
       "  242.516,894.883 267.839,894.883 \n",
       "  \"/>\n",
       "<polyline clip-path=\"url(#clip1500)\" style=\"stroke:#000000; stroke-width:4; stroke-opacity:1; fill:none\" points=\"\n",
       "  242.516,647.967 267.839,647.967 \n",
       "  \"/>\n",
       "<polyline clip-path=\"url(#clip1500)\" style=\"stroke:#000000; stroke-width:4; stroke-opacity:1; fill:none\" points=\"\n",
       "  242.516,401.051 267.839,401.051 \n",
       "  \"/>\n",
       "<polyline clip-path=\"url(#clip1500)\" style=\"stroke:#000000; stroke-width:4; stroke-opacity:1; fill:none\" points=\"\n",
       "  242.516,154.135 267.839,154.135 \n",
       "  \"/>\n",
       "<g clip-path=\"url(#clip1500)\">\n",
       "<text style=\"fill:#000000; fill-opacity:1; font-family:Arial,Helvetica Neue,Helvetica,sans-serif; font-size:48px; text-anchor:middle;\" transform=\"rotate(0, 321.997, 1479.62)\" x=\"321.997\" y=\"1479.62\">0</text>\n",
       "</g>\n",
       "<g clip-path=\"url(#clip1500)\">\n",
       "<text style=\"fill:#000000; fill-opacity:1; font-family:Arial,Helvetica Neue,Helvetica,sans-serif; font-size:48px; text-anchor:middle;\" transform=\"rotate(0, 931.771, 1479.62)\" x=\"931.771\" y=\"1479.62\">10</text>\n",
       "</g>\n",
       "<g clip-path=\"url(#clip1500)\">\n",
       "<text style=\"fill:#000000; fill-opacity:1; font-family:Arial,Helvetica Neue,Helvetica,sans-serif; font-size:48px; text-anchor:middle;\" transform=\"rotate(0, 1541.55, 1479.62)\" x=\"1541.55\" y=\"1479.62\">20</text>\n",
       "</g>\n",
       "<g clip-path=\"url(#clip1500)\">\n",
       "<text style=\"fill:#000000; fill-opacity:1; font-family:Arial,Helvetica Neue,Helvetica,sans-serif; font-size:48px; text-anchor:middle;\" transform=\"rotate(0, 2151.32, 1479.62)\" x=\"2151.32\" y=\"1479.62\">30</text>\n",
       "</g>\n",
       "<g clip-path=\"url(#clip1500)\">\n",
       "<text style=\"fill:#000000; fill-opacity:1; font-family:Arial,Helvetica Neue,Helvetica,sans-serif; font-size:48px; text-anchor:end;\" transform=\"rotate(0, 218.516, 1406.21)\" x=\"218.516\" y=\"1406.21\">0.00</text>\n",
       "</g>\n",
       "<g clip-path=\"url(#clip1500)\">\n",
       "<text style=\"fill:#000000; fill-opacity:1; font-family:Arial,Helvetica Neue,Helvetica,sans-serif; font-size:48px; text-anchor:end;\" transform=\"rotate(0, 218.516, 1159.3)\" x=\"218.516\" y=\"1159.3\">0.05</text>\n",
       "</g>\n",
       "<g clip-path=\"url(#clip1500)\">\n",
       "<text style=\"fill:#000000; fill-opacity:1; font-family:Arial,Helvetica Neue,Helvetica,sans-serif; font-size:48px; text-anchor:end;\" transform=\"rotate(0, 218.516, 912.383)\" x=\"218.516\" y=\"912.383\">0.10</text>\n",
       "</g>\n",
       "<g clip-path=\"url(#clip1500)\">\n",
       "<text style=\"fill:#000000; fill-opacity:1; font-family:Arial,Helvetica Neue,Helvetica,sans-serif; font-size:48px; text-anchor:end;\" transform=\"rotate(0, 218.516, 665.467)\" x=\"218.516\" y=\"665.467\">0.15</text>\n",
       "</g>\n",
       "<g clip-path=\"url(#clip1500)\">\n",
       "<text style=\"fill:#000000; fill-opacity:1; font-family:Arial,Helvetica Neue,Helvetica,sans-serif; font-size:48px; text-anchor:end;\" transform=\"rotate(0, 218.516, 418.551)\" x=\"218.516\" y=\"418.551\">0.20</text>\n",
       "</g>\n",
       "<g clip-path=\"url(#clip1500)\">\n",
       "<text style=\"fill:#000000; fill-opacity:1; font-family:Arial,Helvetica Neue,Helvetica,sans-serif; font-size:48px; text-anchor:end;\" transform=\"rotate(0, 218.516, 171.635)\" x=\"218.516\" y=\"171.635\">0.25</text>\n",
       "</g>\n",
       "<g clip-path=\"url(#clip1500)\">\n",
       "<text style=\"fill:#000000; fill-opacity:1; font-family:Arial,Helvetica Neue,Helvetica,sans-serif; font-size:84px; text-anchor:middle;\" transform=\"rotate(0, 1297.64, 73.2)\" x=\"1297.64\" y=\"73.2\">Recovery Time</text>\n",
       "</g>\n",
       "<g clip-path=\"url(#clip1500)\">\n",
       "<text style=\"fill:#000000; fill-opacity:1; font-family:Arial,Helvetica Neue,Helvetica,sans-serif; font-size:66px; text-anchor:middle;\" transform=\"rotate(0, 1297.64, 1559.48)\" x=\"1297.64\" y=\"1559.48\">tau</text>\n",
       "</g>\n",
       "<g clip-path=\"url(#clip1500)\">\n",
       "<text style=\"fill:#000000; fill-opacity:1; font-family:Arial,Helvetica Neue,Helvetica,sans-serif; font-size:66px; text-anchor:middle;\" transform=\"rotate(-90, 89.2861, 773.647)\" x=\"89.2861\" y=\"773.647\">p</text>\n",
       "</g>\n",
       "<path clip-path=\"url(#clip1502)\" d=\"\n",
       "M358.583 158.579 L358.583 1388.71 L407.365 1388.71 L407.365 158.579 L358.583 158.579 L358.583 158.579  Z\n",
       "  \" fill=\"#009af9\" fill-rule=\"evenodd\" fill-opacity=\"1\"/>\n",
       "<polyline clip-path=\"url(#clip1502)\" style=\"stroke:#000000; stroke-width:4; stroke-opacity:1; fill:none\" points=\"\n",
       "  358.583,158.579 358.583,1388.71 407.365,1388.71 407.365,158.579 358.583,158.579 \n",
       "  \"/>\n",
       "<path clip-path=\"url(#clip1502)\" d=\"\n",
       "M419.561 462.286 L419.561 1388.71 L468.343 1388.71 L468.343 462.286 L419.561 462.286 L419.561 462.286  Z\n",
       "  \" fill=\"#009af9\" fill-rule=\"evenodd\" fill-opacity=\"1\"/>\n",
       "<polyline clip-path=\"url(#clip1502)\" style=\"stroke:#000000; stroke-width:4; stroke-opacity:1; fill:none\" points=\"\n",
       "  419.561,462.286 419.561,1388.71 468.343,1388.71 468.343,462.286 419.561,462.286 \n",
       "  \"/>\n",
       "<path clip-path=\"url(#clip1502)\" d=\"\n",
       "M480.538 676.609 L480.538 1388.71 L529.32 1388.71 L529.32 676.609 L480.538 676.609 L480.538 676.609  Z\n",
       "  \" fill=\"#009af9\" fill-rule=\"evenodd\" fill-opacity=\"1\"/>\n",
       "<polyline clip-path=\"url(#clip1502)\" style=\"stroke:#000000; stroke-width:4; stroke-opacity:1; fill:none\" points=\"\n",
       "  480.538,676.609 480.538,1388.71 529.32,1388.71 529.32,676.609 480.538,676.609 \n",
       "  \"/>\n",
       "<path clip-path=\"url(#clip1502)\" d=\"\n",
       "M541.516 874.636 L541.516 1388.71 L590.298 1388.71 L590.298 874.636 L541.516 874.636 L541.516 874.636  Z\n",
       "  \" fill=\"#009af9\" fill-rule=\"evenodd\" fill-opacity=\"1\"/>\n",
       "<polyline clip-path=\"url(#clip1502)\" style=\"stroke:#000000; stroke-width:4; stroke-opacity:1; fill:none\" points=\"\n",
       "  541.516,874.636 541.516,1388.71 590.298,1388.71 590.298,874.636 541.516,874.636 \n",
       "  \"/>\n",
       "<path clip-path=\"url(#clip1502)\" d=\"\n",
       "M602.493 1009.95 L602.493 1388.71 L651.275 1388.71 L651.275 1009.95 L602.493 1009.95 L602.493 1009.95  Z\n",
       "  \" fill=\"#009af9\" fill-rule=\"evenodd\" fill-opacity=\"1\"/>\n",
       "<polyline clip-path=\"url(#clip1502)\" style=\"stroke:#000000; stroke-width:4; stroke-opacity:1; fill:none\" points=\"\n",
       "  602.493,1009.95 602.493,1388.71 651.275,1388.71 651.275,1009.95 602.493,1009.95 \n",
       "  \"/>\n",
       "<path clip-path=\"url(#clip1502)\" d=\"\n",
       "M663.471 1091.43 L663.471 1388.71 L712.253 1388.71 L712.253 1091.43 L663.471 1091.43 L663.471 1091.43  Z\n",
       "  \" fill=\"#009af9\" fill-rule=\"evenodd\" fill-opacity=\"1\"/>\n",
       "<polyline clip-path=\"url(#clip1502)\" style=\"stroke:#000000; stroke-width:4; stroke-opacity:1; fill:none\" points=\"\n",
       "  663.471,1091.43 663.471,1388.71 712.253,1388.71 712.253,1091.43 663.471,1091.43 \n",
       "  \"/>\n",
       "<path clip-path=\"url(#clip1502)\" d=\"\n",
       "M724.448 1162.05 L724.448 1388.71 L773.23 1388.71 L773.23 1162.05 L724.448 1162.05 L724.448 1162.05  Z\n",
       "  \" fill=\"#009af9\" fill-rule=\"evenodd\" fill-opacity=\"1\"/>\n",
       "<polyline clip-path=\"url(#clip1502)\" style=\"stroke:#000000; stroke-width:4; stroke-opacity:1; fill:none\" points=\"\n",
       "  724.448,1162.05 724.448,1388.71 773.23,1388.71 773.23,1162.05 724.448,1162.05 \n",
       "  \"/>\n",
       "<path clip-path=\"url(#clip1502)\" d=\"\n",
       "M785.426 1219.82 L785.426 1388.71 L834.208 1388.71 L834.208 1219.82 L785.426 1219.82 L785.426 1219.82  Z\n",
       "  \" fill=\"#009af9\" fill-rule=\"evenodd\" fill-opacity=\"1\"/>\n",
       "<polyline clip-path=\"url(#clip1502)\" style=\"stroke:#000000; stroke-width:4; stroke-opacity:1; fill:none\" points=\"\n",
       "  785.426,1219.82 785.426,1388.71 834.208,1388.71 834.208,1219.82 785.426,1219.82 \n",
       "  \"/>\n",
       "<path clip-path=\"url(#clip1502)\" d=\"\n",
       "M846.403 1249.45 L846.403 1388.71 L895.185 1388.71 L895.185 1249.45 L846.403 1249.45 L846.403 1249.45  Z\n",
       "  \" fill=\"#009af9\" fill-rule=\"evenodd\" fill-opacity=\"1\"/>\n",
       "<polyline clip-path=\"url(#clip1502)\" style=\"stroke:#000000; stroke-width:4; stroke-opacity:1; fill:none\" points=\"\n",
       "  846.403,1249.45 846.403,1388.71 895.185,1388.71 895.185,1249.45 846.403,1249.45 \n",
       "  \"/>\n",
       "<path clip-path=\"url(#clip1502)\" d=\"\n",
       "M907.38 1307.73 L907.38 1388.71 L956.162 1388.71 L956.162 1307.73 L907.38 1307.73 L907.38 1307.73  Z\n",
       "  \" fill=\"#009af9\" fill-rule=\"evenodd\" fill-opacity=\"1\"/>\n",
       "<polyline clip-path=\"url(#clip1502)\" style=\"stroke:#000000; stroke-width:4; stroke-opacity:1; fill:none\" points=\"\n",
       "  907.38,1307.73 907.38,1388.71 956.162,1388.71 956.162,1307.73 907.38,1307.73 \n",
       "  \"/>\n",
       "<path clip-path=\"url(#clip1502)\" d=\"\n",
       "M968.358 1322.05 L968.358 1388.71 L1017.14 1388.71 L1017.14 1322.05 L968.358 1322.05 L968.358 1322.05  Z\n",
       "  \" fill=\"#009af9\" fill-rule=\"evenodd\" fill-opacity=\"1\"/>\n",
       "<polyline clip-path=\"url(#clip1502)\" style=\"stroke:#000000; stroke-width:4; stroke-opacity:1; fill:none\" points=\"\n",
       "  968.358,1322.05 968.358,1388.71 1017.14,1388.71 1017.14,1322.05 968.358,1322.05 \n",
       "  \"/>\n",
       "<path clip-path=\"url(#clip1502)\" d=\"\n",
       "M1029.34 1342.29 L1029.34 1388.71 L1078.12 1388.71 L1078.12 1342.29 L1029.34 1342.29 L1029.34 1342.29  Z\n",
       "  \" fill=\"#009af9\" fill-rule=\"evenodd\" fill-opacity=\"1\"/>\n",
       "<polyline clip-path=\"url(#clip1502)\" style=\"stroke:#000000; stroke-width:4; stroke-opacity:1; fill:none\" points=\"\n",
       "  1029.34,1342.29 1029.34,1388.71 1078.12,1388.71 1078.12,1342.29 1029.34,1342.29 \n",
       "  \"/>\n",
       "<path clip-path=\"url(#clip1502)\" d=\"\n",
       "M1090.31 1351.68 L1090.31 1388.71 L1139.09 1388.71 L1139.09 1351.68 L1090.31 1351.68 L1090.31 1351.68  Z\n",
       "  \" fill=\"#009af9\" fill-rule=\"evenodd\" fill-opacity=\"1\"/>\n",
       "<polyline clip-path=\"url(#clip1502)\" style=\"stroke:#000000; stroke-width:4; stroke-opacity:1; fill:none\" points=\"\n",
       "  1090.31,1351.68 1090.31,1388.71 1139.09,1388.71 1139.09,1351.68 1090.31,1351.68 \n",
       "  \"/>\n",
       "<path clip-path=\"url(#clip1502)\" d=\"\n",
       "M1151.29 1362.05 L1151.29 1388.71 L1200.07 1388.71 L1200.07 1362.05 L1151.29 1362.05 L1151.29 1362.05  Z\n",
       "  \" fill=\"#009af9\" fill-rule=\"evenodd\" fill-opacity=\"1\"/>\n",
       "<polyline clip-path=\"url(#clip1502)\" style=\"stroke:#000000; stroke-width:4; stroke-opacity:1; fill:none\" points=\"\n",
       "  1151.29,1362.05 1151.29,1388.71 1200.07,1388.71 1200.07,1362.05 1151.29,1362.05 \n",
       "  \"/>\n",
       "<path clip-path=\"url(#clip1502)\" d=\"\n",
       "M1212.27 1368.96 L1212.27 1388.71 L1261.05 1388.71 L1261.05 1368.96 L1212.27 1368.96 L1212.27 1368.96  Z\n",
       "  \" fill=\"#009af9\" fill-rule=\"evenodd\" fill-opacity=\"1\"/>\n",
       "<polyline clip-path=\"url(#clip1502)\" style=\"stroke:#000000; stroke-width:4; stroke-opacity:1; fill:none\" points=\"\n",
       "  1212.27,1368.96 1212.27,1388.71 1261.05,1388.71 1261.05,1368.96 1212.27,1368.96 \n",
       "  \"/>\n",
       "<path clip-path=\"url(#clip1502)\" d=\"\n",
       "M1273.25 1373.9 L1273.25 1388.71 L1322.03 1388.71 L1322.03 1373.9 L1273.25 1373.9 L1273.25 1373.9  Z\n",
       "  \" fill=\"#009af9\" fill-rule=\"evenodd\" fill-opacity=\"1\"/>\n",
       "<polyline clip-path=\"url(#clip1502)\" style=\"stroke:#000000; stroke-width:4; stroke-opacity:1; fill:none\" points=\"\n",
       "  1273.25,1373.9 1273.25,1388.71 1322.03,1388.71 1322.03,1373.9 1273.25,1373.9 \n",
       "  \"/>\n",
       "<path clip-path=\"url(#clip1502)\" d=\"\n",
       "M1334.22 1374.39 L1334.22 1388.71 L1383 1388.71 L1383 1374.39 L1334.22 1374.39 L1334.22 1374.39  Z\n",
       "  \" fill=\"#009af9\" fill-rule=\"evenodd\" fill-opacity=\"1\"/>\n",
       "<polyline clip-path=\"url(#clip1502)\" style=\"stroke:#000000; stroke-width:4; stroke-opacity:1; fill:none\" points=\"\n",
       "  1334.22,1374.39 1334.22,1388.71 1383,1388.71 1383,1374.39 1334.22,1374.39 \n",
       "  \"/>\n",
       "<path clip-path=\"url(#clip1502)\" d=\"\n",
       "M1395.2 1382.79 L1395.2 1388.71 L1443.98 1388.71 L1443.98 1382.79 L1395.2 1382.79 L1395.2 1382.79  Z\n",
       "  \" fill=\"#009af9\" fill-rule=\"evenodd\" fill-opacity=\"1\"/>\n",
       "<polyline clip-path=\"url(#clip1502)\" style=\"stroke:#000000; stroke-width:4; stroke-opacity:1; fill:none\" points=\"\n",
       "  1395.2,1382.79 1395.2,1388.71 1443.98,1388.71 1443.98,1382.79 1395.2,1382.79 \n",
       "  \"/>\n",
       "<path clip-path=\"url(#clip1502)\" d=\"\n",
       "M1456.18 1381.31 L1456.18 1388.71 L1504.96 1388.71 L1504.96 1381.31 L1456.18 1381.31 L1456.18 1381.31  Z\n",
       "  \" fill=\"#009af9\" fill-rule=\"evenodd\" fill-opacity=\"1\"/>\n",
       "<polyline clip-path=\"url(#clip1502)\" style=\"stroke:#000000; stroke-width:4; stroke-opacity:1; fill:none\" points=\"\n",
       "  1456.18,1381.31 1456.18,1388.71 1504.96,1388.71 1504.96,1381.31 1456.18,1381.31 \n",
       "  \"/>\n",
       "<path clip-path=\"url(#clip1502)\" d=\"\n",
       "M1517.16 1382.79 L1517.16 1388.71 L1565.94 1388.71 L1565.94 1382.79 L1517.16 1382.79 L1517.16 1382.79  Z\n",
       "  \" fill=\"#009af9\" fill-rule=\"evenodd\" fill-opacity=\"1\"/>\n",
       "<polyline clip-path=\"url(#clip1502)\" style=\"stroke:#000000; stroke-width:4; stroke-opacity:1; fill:none\" points=\"\n",
       "  1517.16,1382.79 1517.16,1388.71 1565.94,1388.71 1565.94,1382.79 1517.16,1382.79 \n",
       "  \"/>\n",
       "<path clip-path=\"url(#clip1502)\" d=\"\n",
       "M1578.13 1383.78 L1578.13 1388.71 L1626.91 1388.71 L1626.91 1383.78 L1578.13 1383.78 L1578.13 1383.78  Z\n",
       "  \" fill=\"#009af9\" fill-rule=\"evenodd\" fill-opacity=\"1\"/>\n",
       "<polyline clip-path=\"url(#clip1502)\" style=\"stroke:#000000; stroke-width:4; stroke-opacity:1; fill:none\" points=\"\n",
       "  1578.13,1383.78 1578.13,1388.71 1626.91,1388.71 1626.91,1383.78 1578.13,1383.78 \n",
       "  \"/>\n",
       "<path clip-path=\"url(#clip1502)\" d=\"\n",
       "M1639.11 1384.27 L1639.11 1388.71 L1687.89 1388.71 L1687.89 1384.27 L1639.11 1384.27 L1639.11 1384.27  Z\n",
       "  \" fill=\"#009af9\" fill-rule=\"evenodd\" fill-opacity=\"1\"/>\n",
       "<polyline clip-path=\"url(#clip1502)\" style=\"stroke:#000000; stroke-width:4; stroke-opacity:1; fill:none\" points=\"\n",
       "  1639.11,1384.27 1639.11,1388.71 1687.89,1388.71 1687.89,1384.27 1639.11,1384.27 \n",
       "  \"/>\n",
       "<path clip-path=\"url(#clip1502)\" d=\"\n",
       "M1700.09 1386.25 L1700.09 1388.71 L1748.87 1388.71 L1748.87 1386.25 L1700.09 1386.25 L1700.09 1386.25  Z\n",
       "  \" fill=\"#009af9\" fill-rule=\"evenodd\" fill-opacity=\"1\"/>\n",
       "<polyline clip-path=\"url(#clip1502)\" style=\"stroke:#000000; stroke-width:4; stroke-opacity:1; fill:none\" points=\"\n",
       "  1700.09,1386.25 1700.09,1388.71 1748.87,1388.71 1748.87,1386.25 1700.09,1386.25 \n",
       "  \"/>\n",
       "<path clip-path=\"url(#clip1502)\" d=\"\n",
       "M1761.06 1386.74 L1761.06 1388.71 L1809.85 1388.71 L1809.85 1386.74 L1761.06 1386.74 L1761.06 1386.74  Z\n",
       "  \" fill=\"#009af9\" fill-rule=\"evenodd\" fill-opacity=\"1\"/>\n",
       "<polyline clip-path=\"url(#clip1502)\" style=\"stroke:#000000; stroke-width:4; stroke-opacity:1; fill:none\" points=\"\n",
       "  1761.06,1386.74 1761.06,1388.71 1809.85,1388.71 1809.85,1386.74 1761.06,1386.74 \n",
       "  \"/>\n",
       "<path clip-path=\"url(#clip1502)\" d=\"\n",
       "M1822.04 1388.22 L1822.04 1388.71 L1870.82 1388.71 L1870.82 1388.22 L1822.04 1388.22 L1822.04 1388.22  Z\n",
       "  \" fill=\"#009af9\" fill-rule=\"evenodd\" fill-opacity=\"1\"/>\n",
       "<polyline clip-path=\"url(#clip1502)\" style=\"stroke:#000000; stroke-width:4; stroke-opacity:1; fill:none\" points=\"\n",
       "  1822.04,1388.22 1822.04,1388.71 1870.82,1388.71 1870.82,1388.22 1822.04,1388.22 \n",
       "  \"/>\n",
       "<path clip-path=\"url(#clip1502)\" d=\"\n",
       "M1883.02 1387.23 L1883.02 1388.71 L1931.8 1388.71 L1931.8 1387.23 L1883.02 1387.23 L1883.02 1387.23  Z\n",
       "  \" fill=\"#009af9\" fill-rule=\"evenodd\" fill-opacity=\"1\"/>\n",
       "<polyline clip-path=\"url(#clip1502)\" style=\"stroke:#000000; stroke-width:4; stroke-opacity:1; fill:none\" points=\"\n",
       "  1883.02,1387.23 1883.02,1388.71 1931.8,1388.71 1931.8,1387.23 1883.02,1387.23 \n",
       "  \"/>\n",
       "<path clip-path=\"url(#clip1502)\" d=\"\n",
       "M1944 1386.74 L1944 1388.71 L1992.78 1388.71 L1992.78 1386.74 L1944 1386.74 L1944 1386.74  Z\n",
       "  \" fill=\"#009af9\" fill-rule=\"evenodd\" fill-opacity=\"1\"/>\n",
       "<polyline clip-path=\"url(#clip1502)\" style=\"stroke:#000000; stroke-width:4; stroke-opacity:1; fill:none\" points=\"\n",
       "  1944,1386.74 1944,1388.71 1992.78,1388.71 1992.78,1386.74 1944,1386.74 \n",
       "  \"/>\n",
       "<path clip-path=\"url(#clip1502)\" d=\"\n",
       "M2126.93 1388.22 L2126.93 1388.71 L2175.71 1388.71 L2175.71 1388.22 L2126.93 1388.22 L2126.93 1388.22  Z\n",
       "  \" fill=\"#009af9\" fill-rule=\"evenodd\" fill-opacity=\"1\"/>\n",
       "<polyline clip-path=\"url(#clip1502)\" style=\"stroke:#000000; stroke-width:4; stroke-opacity:1; fill:none\" points=\"\n",
       "  2126.93,1388.22 2126.93,1388.71 2175.71,1388.71 2175.71,1388.22 2126.93,1388.22 \n",
       "  \"/>\n",
       "<path clip-path=\"url(#clip1502)\" d=\"\n",
       "M2187.91 1388.22 L2187.91 1388.71 L2236.69 1388.71 L2236.69 1388.22 L2187.91 1388.22 L2187.91 1388.22  Z\n",
       "  \" fill=\"#009af9\" fill-rule=\"evenodd\" fill-opacity=\"1\"/>\n",
       "<polyline clip-path=\"url(#clip1502)\" style=\"stroke:#000000; stroke-width:4; stroke-opacity:1; fill:none\" points=\"\n",
       "  2187.91,1388.22 2187.91,1388.71 2236.69,1388.71 2236.69,1388.22 2187.91,1388.22 \n",
       "  \"/>\n",
       "<polyline clip-path=\"url(#clip1502)\" style=\"stroke:#e26f46; stroke-width:4; stroke-opacity:1; fill:none\" stroke-dasharray=\"16, 10\" points=\"\n",
       "  565.029,2729.56 565.029,-1182.27 \n",
       "  \"/>\n",
       "<path clip-path=\"url(#clip1500)\" d=\"\n",
       "M1826.71 326.155 L2280.76 326.155 L2280.76 205.195 L1826.71 205.195  Z\n",
       "  \" fill=\"#ffffff\" fill-rule=\"evenodd\" fill-opacity=\"1\"/>\n",
       "<polyline clip-path=\"url(#clip1500)\" style=\"stroke:#000000; stroke-width:4; stroke-opacity:1; fill:none\" points=\"\n",
       "  1826.71,326.155 2280.76,326.155 2280.76,205.195 1826.71,205.195 1826.71,326.155 \n",
       "  \"/>\n",
       "<polyline clip-path=\"url(#clip1500)\" style=\"stroke:#e26f46; stroke-width:4; stroke-opacity:1; fill:none\" stroke-dasharray=\"16, 10\" points=\"\n",
       "  1850.71,265.675 1994.71,265.675 \n",
       "  \"/>\n",
       "<g clip-path=\"url(#clip1500)\">\n",
       "<text style=\"fill:#000000; fill-opacity:1; font-family:Arial,Helvetica Neue,Helvetica,sans-serif; font-size:48px; text-anchor:start;\" transform=\"rotate(0, 2018.71, 283.175)\" x=\"2018.71\" y=\"283.175\">tau_mean</text>\n",
       "</g>\n",
       "</svg>\n"
      ]
     },
     "execution_count": 17,
     "metadata": {},
     "output_type": "execute_result"
    }
   ],
   "source": [
    "function calc_mean_tau(cur_distribution) \n",
    "  mean_tau = 0.0\n",
    "\n",
    "  for (cur_tau, cur_prob) in zip(cur_distribution...)\n",
    "    mean_tau += cur_prob * cur_tau\n",
    "  end\n",
    "\n",
    "  return mean_tau\n",
    "  \n",
    "end\n",
    "\n",
    "cur_mean_tau = calc_mean_tau(default_distribution)\n",
    "println(\"mean recovery is: ~\" * string(Int(round(cur_mean_tau))) * \" days\\n\")\n",
    "\n",
    "dist_plot(default_distribution)\n",
    "vline!([cur_mean_tau], ls=:dash, label=\"tau_mean\")\n"
   ]
  },
  {
   "cell_type": "markdown",
   "metadata": {},
   "source": [
    "\n",
    "### 6. What shape does the distribution seem to have? Can you verify that by using one or more log scales?\n"
   ]
  },
  {
   "cell_type": "markdown",
   "metadata": {},
   "source": [
    "#### A: The plot appears to be a [geometric distribution](https://en.wikipedia.org/wiki/Geometric_distribution) \n",
    "\n",
    "// the discrete analogue of the exponential distribution"
   ]
  },
  {
   "cell_type": "code",
   "execution_count": 18,
   "metadata": {
    "scrolled": false
   },
   "outputs": [
    {
     "data": {
      "image/svg+xml": [
       "<?xml version=\"1.0\" encoding=\"utf-8\"?>\n",
       "<svg xmlns=\"http://www.w3.org/2000/svg\" xmlns:xlink=\"http://www.w3.org/1999/xlink\" width=\"600\" height=\"400\" viewBox=\"0 0 2400 1600\">\n",
       "<defs>\n",
       "  <clipPath id=\"clip1900\">\n",
       "    <rect x=\"0\" y=\"0\" width=\"2400\" height=\"1600\"/>\n",
       "  </clipPath>\n",
       "</defs>\n",
       "<path clip-path=\"url(#clip1900)\" d=\"\n",
       "M0 1600 L2400 1600 L2400 0 L0 0  Z\n",
       "  \" fill=\"#ffffff\" fill-rule=\"evenodd\" fill-opacity=\"1\"/>\n",
       "<defs>\n",
       "  <clipPath id=\"clip1901\">\n",
       "    <rect x=\"480\" y=\"0\" width=\"1681\" height=\"1600\"/>\n",
       "  </clipPath>\n",
       "</defs>\n",
       "<path clip-path=\"url(#clip1900)\" d=\"\n",
       "M242.516 1425.62 L2352.76 1425.62 L2352.76 121.675 L242.516 121.675  Z\n",
       "  \" fill=\"#ffffff\" fill-rule=\"evenodd\" fill-opacity=\"1\"/>\n",
       "<defs>\n",
       "  <clipPath id=\"clip1902\">\n",
       "    <rect x=\"242\" y=\"121\" width=\"2111\" height=\"1305\"/>\n",
       "  </clipPath>\n",
       "</defs>\n",
       "<polyline clip-path=\"url(#clip1902)\" style=\"stroke:#000000; stroke-width:2; stroke-opacity:0.1; fill:none\" points=\"\n",
       "  302.24,1425.62 302.24,121.675 \n",
       "  \"/>\n",
       "<polyline clip-path=\"url(#clip1902)\" style=\"stroke:#000000; stroke-width:2; stroke-opacity:0.1; fill:none\" points=\"\n",
       "  969.681,1425.62 969.681,121.675 \n",
       "  \"/>\n",
       "<polyline clip-path=\"url(#clip1902)\" style=\"stroke:#000000; stroke-width:2; stroke-opacity:0.1; fill:none\" points=\"\n",
       "  1637.12,1425.62 1637.12,121.675 \n",
       "  \"/>\n",
       "<polyline clip-path=\"url(#clip1902)\" style=\"stroke:#000000; stroke-width:2; stroke-opacity:0.1; fill:none\" points=\"\n",
       "  2304.56,1425.62 2304.56,121.675 \n",
       "  \"/>\n",
       "<polyline clip-path=\"url(#clip1902)\" style=\"stroke:#000000; stroke-width:2; stroke-opacity:0.1; fill:none\" points=\"\n",
       "  242.516,1389.21 2352.76,1389.21 \n",
       "  \"/>\n",
       "<polyline clip-path=\"url(#clip1902)\" style=\"stroke:#000000; stroke-width:2; stroke-opacity:0.1; fill:none\" points=\"\n",
       "  242.516,1142.19 2352.76,1142.19 \n",
       "  \"/>\n",
       "<polyline clip-path=\"url(#clip1902)\" style=\"stroke:#000000; stroke-width:2; stroke-opacity:0.1; fill:none\" points=\"\n",
       "  242.516,895.178 2352.76,895.178 \n",
       "  \"/>\n",
       "<polyline clip-path=\"url(#clip1902)\" style=\"stroke:#000000; stroke-width:2; stroke-opacity:0.1; fill:none\" points=\"\n",
       "  242.516,648.163 2352.76,648.163 \n",
       "  \"/>\n",
       "<polyline clip-path=\"url(#clip1902)\" style=\"stroke:#000000; stroke-width:2; stroke-opacity:0.1; fill:none\" points=\"\n",
       "  242.516,401.148 2352.76,401.148 \n",
       "  \"/>\n",
       "<polyline clip-path=\"url(#clip1902)\" style=\"stroke:#000000; stroke-width:2; stroke-opacity:0.1; fill:none\" points=\"\n",
       "  242.516,154.133 2352.76,154.133 \n",
       "  \"/>\n",
       "<polyline clip-path=\"url(#clip1900)\" style=\"stroke:#000000; stroke-width:4; stroke-opacity:1; fill:none\" points=\"\n",
       "  242.516,1425.62 2352.76,1425.62 \n",
       "  \"/>\n",
       "<polyline clip-path=\"url(#clip1900)\" style=\"stroke:#000000; stroke-width:4; stroke-opacity:1; fill:none\" points=\"\n",
       "  242.516,1425.62 242.516,121.675 \n",
       "  \"/>\n",
       "<polyline clip-path=\"url(#clip1900)\" style=\"stroke:#000000; stroke-width:4; stroke-opacity:1; fill:none\" points=\"\n",
       "  302.24,1425.62 302.24,1409.97 \n",
       "  \"/>\n",
       "<polyline clip-path=\"url(#clip1900)\" style=\"stroke:#000000; stroke-width:4; stroke-opacity:1; fill:none\" points=\"\n",
       "  969.681,1425.62 969.681,1409.97 \n",
       "  \"/>\n",
       "<polyline clip-path=\"url(#clip1900)\" style=\"stroke:#000000; stroke-width:4; stroke-opacity:1; fill:none\" points=\"\n",
       "  1637.12,1425.62 1637.12,1409.97 \n",
       "  \"/>\n",
       "<polyline clip-path=\"url(#clip1900)\" style=\"stroke:#000000; stroke-width:4; stroke-opacity:1; fill:none\" points=\"\n",
       "  2304.56,1425.62 2304.56,1409.97 \n",
       "  \"/>\n",
       "<polyline clip-path=\"url(#clip1900)\" style=\"stroke:#000000; stroke-width:4; stroke-opacity:1; fill:none\" points=\"\n",
       "  242.516,1389.21 267.839,1389.21 \n",
       "  \"/>\n",
       "<polyline clip-path=\"url(#clip1900)\" style=\"stroke:#000000; stroke-width:4; stroke-opacity:1; fill:none\" points=\"\n",
       "  242.516,1142.19 267.839,1142.19 \n",
       "  \"/>\n",
       "<polyline clip-path=\"url(#clip1900)\" style=\"stroke:#000000; stroke-width:4; stroke-opacity:1; fill:none\" points=\"\n",
       "  242.516,895.178 267.839,895.178 \n",
       "  \"/>\n",
       "<polyline clip-path=\"url(#clip1900)\" style=\"stroke:#000000; stroke-width:4; stroke-opacity:1; fill:none\" points=\"\n",
       "  242.516,648.163 267.839,648.163 \n",
       "  \"/>\n",
       "<polyline clip-path=\"url(#clip1900)\" style=\"stroke:#000000; stroke-width:4; stroke-opacity:1; fill:none\" points=\"\n",
       "  242.516,401.148 267.839,401.148 \n",
       "  \"/>\n",
       "<polyline clip-path=\"url(#clip1900)\" style=\"stroke:#000000; stroke-width:4; stroke-opacity:1; fill:none\" points=\"\n",
       "  242.516,154.133 267.839,154.133 \n",
       "  \"/>\n",
       "<g clip-path=\"url(#clip1900)\">\n",
       "<text style=\"fill:#000000; fill-opacity:1; font-family:Arial,Helvetica Neue,Helvetica,sans-serif; font-size:48px; text-anchor:start;\" transform=\"rotate(0, 248.297, 1500.63)\" x=\"248.297\" y=\"1500.63\">10</text>\n",
       "</g>\n",
       "<g clip-path=\"url(#clip1900)\">\n",
       "<text style=\"fill:#000000; fill-opacity:1; font-family:Arial,Helvetica Neue,Helvetica,sans-serif; font-size:38px; text-anchor:start;\" transform=\"rotate(0, 301.822, 1473.22)\" x=\"301.822\" y=\"1473.22\">0.0</text>\n",
       "</g>\n",
       "<g clip-path=\"url(#clip1900)\">\n",
       "<text style=\"fill:#000000; fill-opacity:1; font-family:Arial,Helvetica Neue,Helvetica,sans-serif; font-size:48px; text-anchor:start;\" transform=\"rotate(0, 915.738, 1500.63)\" x=\"915.738\" y=\"1500.63\">10</text>\n",
       "</g>\n",
       "<g clip-path=\"url(#clip1900)\">\n",
       "<text style=\"fill:#000000; fill-opacity:1; font-family:Arial,Helvetica Neue,Helvetica,sans-serif; font-size:38px; text-anchor:start;\" transform=\"rotate(0, 969.263, 1473.22)\" x=\"969.263\" y=\"1473.22\">0.5</text>\n",
       "</g>\n",
       "<g clip-path=\"url(#clip1900)\">\n",
       "<text style=\"fill:#000000; fill-opacity:1; font-family:Arial,Helvetica Neue,Helvetica,sans-serif; font-size:48px; text-anchor:start;\" transform=\"rotate(0, 1583.18, 1500.63)\" x=\"1583.18\" y=\"1500.63\">10</text>\n",
       "</g>\n",
       "<g clip-path=\"url(#clip1900)\">\n",
       "<text style=\"fill:#000000; fill-opacity:1; font-family:Arial,Helvetica Neue,Helvetica,sans-serif; font-size:38px; text-anchor:start;\" transform=\"rotate(0, 1636.7, 1473.22)\" x=\"1636.7\" y=\"1473.22\">1.0</text>\n",
       "</g>\n",
       "<g clip-path=\"url(#clip1900)\">\n",
       "<text style=\"fill:#000000; fill-opacity:1; font-family:Arial,Helvetica Neue,Helvetica,sans-serif; font-size:48px; text-anchor:start;\" transform=\"rotate(0, 2250.62, 1500.63)\" x=\"2250.62\" y=\"1500.63\">10</text>\n",
       "</g>\n",
       "<g clip-path=\"url(#clip1900)\">\n",
       "<text style=\"fill:#000000; fill-opacity:1; font-family:Arial,Helvetica Neue,Helvetica,sans-serif; font-size:38px; text-anchor:start;\" transform=\"rotate(0, 2304.15, 1473.22)\" x=\"2304.15\" y=\"1473.22\">1.5</text>\n",
       "</g>\n",
       "<g clip-path=\"url(#clip1900)\">\n",
       "<text style=\"fill:#000000; fill-opacity:1; font-family:Arial,Helvetica Neue,Helvetica,sans-serif; font-size:48px; text-anchor:end;\" transform=\"rotate(0, 218.516, 1406.71)\" x=\"218.516\" y=\"1406.71\">0.00</text>\n",
       "</g>\n",
       "<g clip-path=\"url(#clip1900)\">\n",
       "<text style=\"fill:#000000; fill-opacity:1; font-family:Arial,Helvetica Neue,Helvetica,sans-serif; font-size:48px; text-anchor:end;\" transform=\"rotate(0, 218.516, 1159.69)\" x=\"218.516\" y=\"1159.69\">0.05</text>\n",
       "</g>\n",
       "<g clip-path=\"url(#clip1900)\">\n",
       "<text style=\"fill:#000000; fill-opacity:1; font-family:Arial,Helvetica Neue,Helvetica,sans-serif; font-size:48px; text-anchor:end;\" transform=\"rotate(0, 218.516, 912.678)\" x=\"218.516\" y=\"912.678\">0.10</text>\n",
       "</g>\n",
       "<g clip-path=\"url(#clip1900)\">\n",
       "<text style=\"fill:#000000; fill-opacity:1; font-family:Arial,Helvetica Neue,Helvetica,sans-serif; font-size:48px; text-anchor:end;\" transform=\"rotate(0, 218.516, 665.663)\" x=\"218.516\" y=\"665.663\">0.15</text>\n",
       "</g>\n",
       "<g clip-path=\"url(#clip1900)\">\n",
       "<text style=\"fill:#000000; fill-opacity:1; font-family:Arial,Helvetica Neue,Helvetica,sans-serif; font-size:48px; text-anchor:end;\" transform=\"rotate(0, 218.516, 418.648)\" x=\"218.516\" y=\"418.648\">0.20</text>\n",
       "</g>\n",
       "<g clip-path=\"url(#clip1900)\">\n",
       "<text style=\"fill:#000000; fill-opacity:1; font-family:Arial,Helvetica Neue,Helvetica,sans-serif; font-size:48px; text-anchor:end;\" transform=\"rotate(0, 218.516, 171.633)\" x=\"218.516\" y=\"171.633\">0.25</text>\n",
       "</g>\n",
       "<g clip-path=\"url(#clip1900)\">\n",
       "<text style=\"fill:#000000; fill-opacity:1; font-family:Arial,Helvetica Neue,Helvetica,sans-serif; font-size:84px; text-anchor:middle;\" transform=\"rotate(0, 1297.64, 73.2)\" x=\"1297.64\" y=\"73.2\">Geometric Distribution</text>\n",
       "</g>\n",
       "<g clip-path=\"url(#clip1900)\">\n",
       "<text style=\"fill:#000000; fill-opacity:1; font-family:Arial,Helvetica Neue,Helvetica,sans-serif; font-size:66px; text-anchor:middle;\" transform=\"rotate(0, 1297.64, 1559.48)\" x=\"1297.64\" y=\"1559.48\">tau</text>\n",
       "</g>\n",
       "<g clip-path=\"url(#clip1900)\">\n",
       "<text style=\"fill:#000000; fill-opacity:1; font-family:Arial,Helvetica Neue,Helvetica,sans-serif; font-size:66px; text-anchor:middle;\" transform=\"rotate(-90, 89.2861, 773.647)\" x=\"89.2861\" y=\"773.647\">p</text>\n",
       "</g>\n",
       "<polyline clip-path=\"url(#clip1902)\" style=\"stroke:#009af9; stroke-width:4; stroke-opacity:1; fill:none\" points=\"\n",
       "  302.24,158.579 704.08,462.408 939.141,676.817 1105.92,874.923 1235.28,1010.29 1340.98,1091.8 1430.35,1162.45 1507.76,1220.25 1576.04,1249.89 1637.12,1308.19 \n",
       "  1692.38,1322.51 1742.82,1342.77 1789.22,1352.16 1832.19,1362.53 1872.18,1369.45 1909.6,1374.39 1944.74,1374.88 1977.88,1383.28 2009.23,1381.8 2038.96,1383.28 \n",
       "  2067.25,1384.27 2094.22,1384.76 2119.99,1386.74 2144.66,1387.23 2168.33,1388.71 2191.06,1387.73 2212.94,1387.23 2274.02,1388.71 2293.03,1388.71 \n",
       "  \"/>\n",
       "</svg>\n"
      ]
     },
     "execution_count": 18,
     "metadata": {},
     "output_type": "execute_result"
    }
   ],
   "source": [
    "plot(\n",
    "  default_distribution, title=\"Geometric Distribution\", \n",
    "  xlabel=\"tau\", ylabel=\"p\", label=\"\",\n",
    "  xscale=:log10\n",
    ")\n"
   ]
  },
  {
   "cell_type": "markdown",
   "metadata": {},
   "source": [
    "\n",
    "### 7. Write an interactive visualization that repeats [4] for $p$ varying between $0$ and $1$ and $N$ between $0$ and $100,000$.\n"
   ]
  },
  {
   "cell_type": "code",
   "execution_count": 19,
   "metadata": {},
   "outputs": [
    {
     "data": {
      "text/plain": [
       "make_recovery_plot (generic function with 1 method)"
      ]
     },
     "execution_count": 19,
     "metadata": {},
     "output_type": "execute_result"
    }
   ],
   "source": [
    "function make_recovery_plot(p, N)\n",
    "  \n",
    "  cur_experiment = experiment(p, N)\n",
    "  cur_distribution = probability_distribution(cur_experiment)\n",
    "\n",
    "  cur_mean_tau = calc_mean_tau(cur_distribution)\n",
    "\n",
    "  dist_plot(cur_distribution)\n",
    "  vline!([cur_mean_tau], ls=:dash, label=\"tau_mean\")\n",
    "\n",
    "end"
   ]
  },
  {
   "cell_type": "code",
   "execution_count": 20,
   "metadata": {},
   "outputs": [
    {
     "data": {
      "text/html": [
       "<script>\n",
       "// Immediately-invoked-function-expression to avoid global variables.\n",
       "(function() {\n",
       "    var warning_div = document.getElementById(\"webio-warning-12867339391254021257\");\n",
       "    var hide = function () {\n",
       "        var script = document.getElementById(\"webio-setup-9411727539646371217\");\n",
       "        var parent = script && script.parentElement;\n",
       "        var grandparent = parent && parent.parentElement;\n",
       "        if (grandparent) {\n",
       "            grandparent.style.display = \"none\";\n",
       "        }\n",
       "        warning_div.style.display = \"none\";\n",
       "    };\n",
       "    if (typeof Jupyter !== \"undefined\") {\n",
       "        console.log(\"WebIO detected Jupyter notebook environment.\");\n",
       "        // Jupyter notebook.\n",
       "        var extensions = (\n",
       "            Jupyter\n",
       "            && Jupyter.notebook.config.data\n",
       "            && Jupyter.notebook.config.data.load_extensions\n",
       "        );\n",
       "        if (extensions && extensions[\"webio-jupyter-notebook\"]) {\n",
       "            // Extension already loaded.\n",
       "            console.log(\"Jupyter WebIO nbextension detected; not loading ad-hoc.\");\n",
       "            hide();\n",
       "            return;\n",
       "        }\n",
       "    } else if (window.location.pathname.includes(\"/lab\")) {\n",
       "        // Guessing JupyterLa\n",
       "        console.log(\"Jupyter Lab detected; make sure the @webio/jupyter-lab-provider labextension is installed.\");\n",
       "        hide();\n",
       "        return;\n",
       "    }\n",
       "})();\n",
       "\n",
       "</script>\n",
       "<p\n",
       "    id=\"webio-warning-12867339391254021257\"\n",
       "    class=\"output_text output_stderr\"\n",
       "    style=\"padding: 1em; font-weight: bold;\"\n",
       ">\n",
       "    Unable to load WebIO. Please make sure WebIO works for your Jupyter client.\n",
       "    For troubleshooting, please see <a href=\"https://juliagizmos.github.io/WebIO.jl/latest/providers/ijulia/\">\n",
       "    the WebIO/IJulia documentation</a>.\n",
       "    <!-- TODO: link to installation docs. -->\n",
       "</p>\n"
      ],
      "text/plain": [
       "HTML{String}(\"<script>\\n// Immediately-invoked-function-expression to avoid global variables.\\n(function() {\\n    var warning_div = document.getElementById(\\\"webio-warning-12867339391254021257\\\");\\n    var hide = function () {\\n        var script = document.getElementById(\\\"webio-setup-9411727539646371217\\\");\\n        var parent = script && script.parentElement;\\n        var grandparent = parent && parent.parentElement;\\n        if (grandparent) {\\n            grandparent.style.display = \\\"none\\\";\\n        }\\n        warning_div.style.display = \\\"none\\\";\\n    };\\n    if (typeof Jupyter !== \\\"undefined\\\") {\\n        console.log(\\\"WebIO detected Jupyter notebook environment.\\\");\\n        // Jupyter notebook.\\n        var extensions = (\\n            Jupyter\\n            && Jupyter.notebook.config.data\\n            && Jupyter.notebook.config.data.load_extensions\\n        );\\n        if (extensions && extensions[\\\"webio-jupyter-notebook\\\"]) {\\n            // Extension already loaded.\\n            console.log(\\\"Jupyter WebIO nbextension detected; not loading ad-hoc.\\\");\\n            hide();\\n            return;\\n        }\\n    } else if (window.location.pathname.includes(\\\"/lab\\\")) {\\n        // Guessing JupyterLa\\n        console.log(\\\"Jupyter Lab detected; make sure the @webio/jupyter-lab-provider labextension is installed.\\\");\\n        hide();\\n        return;\\n    }\\n})();\\n\\n</script>\\n<p\\n    id=\\\"webio-warning-12867339391254021257\\\"\\n    class=\\\"output_text output_stderr\\\"\\n    style=\\\"padding: 1em; font-weight: bold;\\\"\\n>\\n    Unable to load WebIO. Please make sure WebIO works for your Jupyter client.\\n    For troubleshooting, please see <a href=\\\"https://juliagizmos.github.io/WebIO.jl/latest/providers/ijulia/\\\">\\n    the WebIO/IJulia documentation</a>.\\n    <!-- TODO: link to installation docs. -->\\n</p>\\n\")"
      ]
     },
     "metadata": {},
     "output_type": "display_data"
    },
    {
     "data": {
      "application/vnd.webio.node+json": {
       "children": [
        {
         "children": [
          {
           "children": [
            {
             "children": [
              {
               "children": [
                {
                 "children": [
                  "p"
                 ],
                 "instanceArgs": {
                  "namespace": "html",
                  "tag": "label"
                 },
                 "nodeType": "DOM",
                 "props": {
                  "className": "interact ",
                  "style": {
                   "padding": "5px 10px 0px 10px"
                  }
                 },
                 "type": "node"
                }
               ],
               "instanceArgs": {
                "namespace": "html",
                "tag": "div"
               },
               "nodeType": "DOM",
               "props": {
                "className": "interact-flex-row-left"
               },
               "type": "node"
              },
              {
               "children": [
                {
                 "children": [],
                 "instanceArgs": {
                  "namespace": "html",
                  "tag": "input"
                 },
                 "nodeType": "DOM",
                 "props": {
                  "attributes": {
                   "data-bind": "numericValue: index, valueUpdate: 'input', event: {change: function (){this.changes(this.changes()+1)}}",
                   "orient": "horizontal",
                   "type": "range"
                  },
                  "className": "slider slider is-fullwidth",
                  "max": 10,
                  "min": 1,
                  "step": 1,
                  "style": {}
                 },
                 "type": "node"
                }
               ],
               "instanceArgs": {
                "namespace": "html",
                "tag": "div"
               },
               "nodeType": "DOM",
               "props": {
                "className": "interact-flex-row-center"
               },
               "type": "node"
              },
              {
               "children": [
                {
                 "children": [],
                 "instanceArgs": {
                  "namespace": "html",
                  "tag": "p"
                 },
                 "nodeType": "DOM",
                 "props": {
                  "attributes": {
                   "data-bind": "text: formatted_val"
                  }
                 },
                 "type": "node"
                }
               ],
               "instanceArgs": {
                "namespace": "html",
                "tag": "div"
               },
               "nodeType": "DOM",
               "props": {
                "className": "interact-flex-row-right"
               },
               "type": "node"
              }
             ],
             "instanceArgs": {
              "namespace": "html",
              "tag": "div"
             },
             "nodeType": "DOM",
             "props": {
              "className": "interact-flex-row interact-widget"
             },
             "type": "node"
            }
           ],
           "instanceArgs": {
            "handlers": {
             "changes": [
              "(function (val){return (val!=this.model[\"changes\"]()) ? (this.valueFromJulia[\"changes\"]=true, this.model[\"changes\"](val)) : undefined})"
             ],
             "index": [
              "(function (val){return (val!=this.model[\"index\"]()) ? (this.valueFromJulia[\"index\"]=true, this.model[\"index\"](val)) : undefined})"
             ]
            },
            "id": "1038108401888968370",
            "imports": {
             "data": [
              {
               "name": "knockout",
               "type": "js",
               "url": "/assetserver/847903f5df732148b510ba93542242ba69c4346c-knockout.js"
              },
              {
               "name": "knockout_punches",
               "type": "js",
               "url": "/assetserver/c0b325de111f2589153d52b7b74e82babec63146-knockout_punches.js"
              },
              {
               "name": null,
               "type": "js",
               "url": "/assetserver/51952c19a9a6ce93cd17825f07a8fe28d322efde-all.js"
              },
              {
               "name": null,
               "type": "css",
               "url": "/assetserver/104d64c7b780621be0c8d84ac84d7a5a84de4524-style.css"
              },
              {
               "name": null,
               "type": "css",
               "url": "/assetserver/9e3206e22736e731411e8095c384ec75a742e5c8-bulma_confined.min.css"
              }
             ],
             "type": "async_block"
            },
            "mount_callbacks": [
             "function () {\n    var handler = (function (ko, koPunches) {\n    ko.punches.enableAll();\n    ko.bindingHandlers.numericValue = {\n        init: function(element, valueAccessor, allBindings, data, context) {\n            var stringified = ko.observable(ko.unwrap(valueAccessor()));\n            stringified.subscribe(function(value) {\n                var val = parseFloat(value);\n                if (!isNaN(val)) {\n                    valueAccessor()(val);\n                }\n            });\n            valueAccessor().subscribe(function(value) {\n                var str = JSON.stringify(value);\n                if ((str == \"0\") && ([\"-0\", \"-0.\"].indexOf(stringified()) >= 0))\n                     return;\n                 if ([\"null\", \"\"].indexOf(str) >= 0)\n                     return;\n                stringified(str);\n            });\n            ko.applyBindingsToNode(\n                element,\n                {\n                    value: stringified,\n                    valueUpdate: allBindings.get('valueUpdate'),\n                },\n                context,\n            );\n        }\n    };\n    var json_data = {\"formatted_vals\":[\"0.1\",\"0.2\",\"0.3\",\"0.4\",\"0.5\",\"0.6\",\"0.7\",\"0.8\",\"0.9\",\"1.0\"],\"changes\":WebIO.getval({\"name\":\"changes\",\"scope\":\"1038108401888968370\",\"id\":\"17816014312455813383\",\"type\":\"observable\"}),\"index\":WebIO.getval({\"name\":\"index\",\"scope\":\"1038108401888968370\",\"id\":\"5007471761566300981\",\"type\":\"observable\"})};\n    var self = this;\n    function AppViewModel() {\n        for (var key in json_data) {\n            var el = json_data[key];\n            this[key] = Array.isArray(el) ? ko.observableArray(el) : ko.observable(el);\n        }\n        \n        [this[\"formatted_val\"]=ko.computed(    function(){\n        return this.formatted_vals()[parseInt(this.index())-(1)];\n    }\n,this)]\n        [this[\"changes\"].subscribe((function (val){!(this.valueFromJulia[\"changes\"]) ? (WebIO.setval({\"name\":\"changes\",\"scope\":\"1038108401888968370\",\"id\":\"17816014312455813383\",\"type\":\"observable\"},val)) : undefined; return this.valueFromJulia[\"changes\"]=false}),self),this[\"index\"].subscribe((function (val){!(this.valueFromJulia[\"index\"]) ? (WebIO.setval({\"name\":\"index\",\"scope\":\"1038108401888968370\",\"id\":\"5007471761566300981\",\"type\":\"observable\"},val)) : undefined; return this.valueFromJulia[\"index\"]=false}),self)]\n        \n    }\n    self.model = new AppViewModel();\n    self.valueFromJulia = {};\n    for (var key in json_data) {\n        self.valueFromJulia[key] = false;\n    }\n    ko.applyBindings(self.model, self.dom);\n}\n);\n    (WebIO.importBlock({\"data\":[{\"name\":\"knockout\",\"type\":\"js\",\"url\":\"/assetserver/847903f5df732148b510ba93542242ba69c4346c-knockout.js\"},{\"name\":\"knockout_punches\",\"type\":\"js\",\"url\":\"/assetserver/c0b325de111f2589153d52b7b74e82babec63146-knockout_punches.js\"}],\"type\":\"async_block\"})).then((imports) => handler.apply(this, imports));\n}\n"
            ],
            "observables": {
             "changes": {
              "id": "17816014312455813383",
              "sync": false,
              "value": 0
             },
             "index": {
              "id": "5007471761566300981",
              "sync": true,
              "value": 5
             }
            },
            "systemjs_options": null
           },
           "nodeType": "Scope",
           "props": {},
           "type": "node"
          }
         ],
         "instanceArgs": {
          "namespace": "html",
          "tag": "div"
         },
         "nodeType": "DOM",
         "props": {
          "className": "field interact-widget"
         },
         "type": "node"
        },
        {
         "children": [
          {
           "children": [
            {
             "children": [
              {
               "children": [
                {
                 "children": [
                  "N"
                 ],
                 "instanceArgs": {
                  "namespace": "html",
                  "tag": "label"
                 },
                 "nodeType": "DOM",
                 "props": {
                  "className": "interact ",
                  "style": {
                   "padding": "5px 10px 0px 10px"
                  }
                 },
                 "type": "node"
                }
               ],
               "instanceArgs": {
                "namespace": "html",
                "tag": "div"
               },
               "nodeType": "DOM",
               "props": {
                "className": "interact-flex-row-left"
               },
               "type": "node"
              },
              {
               "children": [
                {
                 "children": [],
                 "instanceArgs": {
                  "namespace": "html",
                  "tag": "input"
                 },
                 "nodeType": "DOM",
                 "props": {
                  "attributes": {
                   "data-bind": "numericValue: index, valueUpdate: 'input', event: {change: function (){this.changes(this.changes()+1)}}",
                   "orient": "horizontal",
                   "type": "range"
                  },
                  "className": "slider slider is-fullwidth",
                  "max": 6,
                  "min": 1,
                  "step": 1,
                  "style": {}
                 },
                 "type": "node"
                }
               ],
               "instanceArgs": {
                "namespace": "html",
                "tag": "div"
               },
               "nodeType": "DOM",
               "props": {
                "className": "interact-flex-row-center"
               },
               "type": "node"
              },
              {
               "children": [
                {
                 "children": [],
                 "instanceArgs": {
                  "namespace": "html",
                  "tag": "p"
                 },
                 "nodeType": "DOM",
                 "props": {
                  "attributes": {
                   "data-bind": "text: formatted_val"
                  }
                 },
                 "type": "node"
                }
               ],
               "instanceArgs": {
                "namespace": "html",
                "tag": "div"
               },
               "nodeType": "DOM",
               "props": {
                "className": "interact-flex-row-right"
               },
               "type": "node"
              }
             ],
             "instanceArgs": {
              "namespace": "html",
              "tag": "div"
             },
             "nodeType": "DOM",
             "props": {
              "className": "interact-flex-row interact-widget"
             },
             "type": "node"
            }
           ],
           "instanceArgs": {
            "handlers": {
             "changes": [
              "(function (val){return (val!=this.model[\"changes\"]()) ? (this.valueFromJulia[\"changes\"]=true, this.model[\"changes\"](val)) : undefined})"
             ],
             "index": [
              "(function (val){return (val!=this.model[\"index\"]()) ? (this.valueFromJulia[\"index\"]=true, this.model[\"index\"](val)) : undefined})"
             ]
            },
            "id": "7202780362914876039",
            "imports": {
             "data": [
              {
               "name": "knockout",
               "type": "js",
               "url": "/assetserver/847903f5df732148b510ba93542242ba69c4346c-knockout.js"
              },
              {
               "name": "knockout_punches",
               "type": "js",
               "url": "/assetserver/c0b325de111f2589153d52b7b74e82babec63146-knockout_punches.js"
              },
              {
               "name": null,
               "type": "js",
               "url": "/assetserver/51952c19a9a6ce93cd17825f07a8fe28d322efde-all.js"
              },
              {
               "name": null,
               "type": "css",
               "url": "/assetserver/104d64c7b780621be0c8d84ac84d7a5a84de4524-style.css"
              },
              {
               "name": null,
               "type": "css",
               "url": "/assetserver/9e3206e22736e731411e8095c384ec75a742e5c8-bulma_confined.min.css"
              }
             ],
             "type": "async_block"
            },
            "mount_callbacks": [
             "function () {\n    var handler = (function (ko, koPunches) {\n    ko.punches.enableAll();\n    ko.bindingHandlers.numericValue = {\n        init: function(element, valueAccessor, allBindings, data, context) {\n            var stringified = ko.observable(ko.unwrap(valueAccessor()));\n            stringified.subscribe(function(value) {\n                var val = parseFloat(value);\n                if (!isNaN(val)) {\n                    valueAccessor()(val);\n                }\n            });\n            valueAccessor().subscribe(function(value) {\n                var str = JSON.stringify(value);\n                if ((str == \"0\") && ([\"-0\", \"-0.\"].indexOf(stringified()) >= 0))\n                     return;\n                 if ([\"null\", \"\"].indexOf(str) >= 0)\n                     return;\n                stringified(str);\n            });\n            ko.applyBindingsToNode(\n                element,\n                {\n                    value: stringified,\n                    valueUpdate: allBindings.get('valueUpdate'),\n                },\n                context,\n            );\n        }\n    };\n    var json_data = {\"formatted_vals\":[\"1\",\"10\",\"100\",\"1000\",\"10000\",\"100000\"],\"changes\":WebIO.getval({\"name\":\"changes\",\"scope\":\"7202780362914876039\",\"id\":\"8371123162967185347\",\"type\":\"observable\"}),\"index\":WebIO.getval({\"name\":\"index\",\"scope\":\"7202780362914876039\",\"id\":\"17711443218730868386\",\"type\":\"observable\"})};\n    var self = this;\n    function AppViewModel() {\n        for (var key in json_data) {\n            var el = json_data[key];\n            this[key] = Array.isArray(el) ? ko.observableArray(el) : ko.observable(el);\n        }\n        \n        [this[\"formatted_val\"]=ko.computed(    function(){\n        return this.formatted_vals()[parseInt(this.index())-(1)];\n    }\n,this)]\n        [this[\"changes\"].subscribe((function (val){!(this.valueFromJulia[\"changes\"]) ? (WebIO.setval({\"name\":\"changes\",\"scope\":\"7202780362914876039\",\"id\":\"8371123162967185347\",\"type\":\"observable\"},val)) : undefined; return this.valueFromJulia[\"changes\"]=false}),self),this[\"index\"].subscribe((function (val){!(this.valueFromJulia[\"index\"]) ? (WebIO.setval({\"name\":\"index\",\"scope\":\"7202780362914876039\",\"id\":\"17711443218730868386\",\"type\":\"observable\"},val)) : undefined; return this.valueFromJulia[\"index\"]=false}),self)]\n        \n    }\n    self.model = new AppViewModel();\n    self.valueFromJulia = {};\n    for (var key in json_data) {\n        self.valueFromJulia[key] = false;\n    }\n    ko.applyBindings(self.model, self.dom);\n}\n);\n    (WebIO.importBlock({\"data\":[{\"name\":\"knockout\",\"type\":\"js\",\"url\":\"/assetserver/847903f5df732148b510ba93542242ba69c4346c-knockout.js\"},{\"name\":\"knockout_punches\",\"type\":\"js\",\"url\":\"/assetserver/c0b325de111f2589153d52b7b74e82babec63146-knockout_punches.js\"}],\"type\":\"async_block\"})).then((imports) => handler.apply(this, imports));\n}\n"
            ],
            "observables": {
             "changes": {
              "id": "8371123162967185347",
              "sync": false,
              "value": 0
             },
             "index": {
              "id": "17711443218730868386",
              "sync": true,
              "value": 3
             }
            },
            "systemjs_options": null
           },
           "nodeType": "Scope",
           "props": {},
           "type": "node"
          }
         ],
         "instanceArgs": {
          "namespace": "html",
          "tag": "div"
         },
         "nodeType": "DOM",
         "props": {
          "className": "field interact-widget"
         },
         "type": "node"
        },
        {
         "children": [
          {
           "children": [],
           "instanceArgs": {
            "id": "6735435956606469008",
            "name": "obs-node"
           },
           "nodeType": "ObservableNode",
           "props": {},
           "type": "node"
          }
         ],
         "instanceArgs": {
          "handlers": {},
          "id": "13904865940478177098",
          "imports": {
           "data": [],
           "type": "async_block"
          },
          "mount_callbacks": [],
          "observables": {
           "obs-node": {
            "id": "6735435956606469008",
            "sync": false,
            "value": {
             "children": [
              {
               "children": [],
               "instanceArgs": {
                "namespace": "html",
                "tag": "div"
               },
               "nodeType": "DOM",
               "props": {
                "setInnerHtml": "<?xml version=\"1.0\" encoding=\"utf-8\"?>\n<svg xmlns=\"http://www.w3.org/2000/svg\" xmlns:xlink=\"http://www.w3.org/1999/xlink\" width=\"600\" height=\"400\" viewBox=\"0 0 2400 1600\">\n<defs>\n  <clipPath id=\"clip2700\">\n    <rect x=\"0\" y=\"0\" width=\"2400\" height=\"1600\"/>\n  </clipPath>\n</defs>\n<path clip-path=\"url(#clip2700)\" d=\"\nM0 1600 L2400 1600 L2400 0 L0 0  Z\n  \" fill=\"#ffffff\" fill-rule=\"evenodd\" fill-opacity=\"1\"/>\n<defs>\n  <clipPath id=\"clip2701\">\n    <rect x=\"480\" y=\"0\" width=\"1681\" height=\"1600\"/>\n  </clipPath>\n</defs>\n<path clip-path=\"url(#clip2700)\" d=\"\nM215.754 1425.62 L2352.76 1425.62 L2352.76 121.675 L215.754 121.675  Z\n  \" fill=\"#ffffff\" fill-rule=\"evenodd\" fill-opacity=\"1\"/>\n<defs>\n  <clipPath id=\"clip2702\">\n    <rect x=\"215\" y=\"121\" width=\"2138\" height=\"1305\"/>\n  </clipPath>\n</defs>\n<polyline clip-path=\"url(#clip2702)\" style=\"stroke:#000000; stroke-width:2; stroke-opacity:0.1; fill:none\" points=\"\n  464.46,1425.62 464.46,121.675 \n  \"/>\n<polyline clip-path=\"url(#clip2702)\" style=\"stroke:#000000; stroke-width:2; stroke-opacity:0.1; fill:none\" points=\"\n  792.378,1425.62 792.378,121.675 \n  \"/>\n<polyline clip-path=\"url(#clip2702)\" style=\"stroke:#000000; stroke-width:2; stroke-opacity:0.1; fill:none\" points=\"\n  1120.3,1425.62 1120.3,121.675 \n  \"/>\n<polyline clip-path=\"url(#clip2702)\" style=\"stroke:#000000; stroke-width:2; stroke-opacity:0.1; fill:none\" points=\"\n  1448.21,1425.62 1448.21,121.675 \n  \"/>\n<polyline clip-path=\"url(#clip2702)\" style=\"stroke:#000000; stroke-width:2; stroke-opacity:0.1; fill:none\" points=\"\n  1776.13,1425.62 1776.13,121.675 \n  \"/>\n<polyline clip-path=\"url(#clip2702)\" style=\"stroke:#000000; stroke-width:2; stroke-opacity:0.1; fill:none\" points=\"\n  2104.05,1425.62 2104.05,121.675 \n  \"/>\n<polyline clip-path=\"url(#clip2702)\" style=\"stroke:#000000; stroke-width:2; stroke-opacity:0.1; fill:none\" points=\"\n  215.754,1388.71 2352.76,1388.71 \n  \"/>\n<polyline clip-path=\"url(#clip2702)\" style=\"stroke:#000000; stroke-width:2; stroke-opacity:0.1; fill:none\" points=\"\n  215.754,1081.18 2352.76,1081.18 \n  \"/>\n<polyline clip-path=\"url(#clip2702)\" style=\"stroke:#000000; stroke-width:2; stroke-opacity:0.1; fill:none\" points=\"\n  215.754,773.647 2352.76,773.647 \n  \"/>\n<polyline clip-path=\"url(#clip2702)\" style=\"stroke:#000000; stroke-width:2; stroke-opacity:0.1; fill:none\" points=\"\n  215.754,466.113 2352.76,466.113 \n  \"/>\n<polyline clip-path=\"url(#clip2702)\" style=\"stroke:#000000; stroke-width:2; stroke-opacity:0.1; fill:none\" points=\"\n  215.754,158.579 2352.76,158.579 \n  \"/>\n<polyline clip-path=\"url(#clip2700)\" style=\"stroke:#000000; stroke-width:4; stroke-opacity:1; fill:none\" points=\"\n  215.754,1425.62 2352.76,1425.62 \n  \"/>\n<polyline clip-path=\"url(#clip2700)\" style=\"stroke:#000000; stroke-width:4; stroke-opacity:1; fill:none\" points=\"\n  215.754,1425.62 215.754,121.675 \n  \"/>\n<polyline clip-path=\"url(#clip2700)\" style=\"stroke:#000000; stroke-width:4; stroke-opacity:1; fill:none\" points=\"\n  464.46,1425.62 464.46,1409.97 \n  \"/>\n<polyline clip-path=\"url(#clip2700)\" style=\"stroke:#000000; stroke-width:4; stroke-opacity:1; fill:none\" points=\"\n  792.378,1425.62 792.378,1409.97 \n  \"/>\n<polyline clip-path=\"url(#clip2700)\" style=\"stroke:#000000; stroke-width:4; stroke-opacity:1; fill:none\" points=\"\n  1120.3,1425.62 1120.3,1409.97 \n  \"/>\n<polyline clip-path=\"url(#clip2700)\" style=\"stroke:#000000; stroke-width:4; stroke-opacity:1; fill:none\" points=\"\n  1448.21,1425.62 1448.21,1409.97 \n  \"/>\n<polyline clip-path=\"url(#clip2700)\" style=\"stroke:#000000; stroke-width:4; stroke-opacity:1; fill:none\" points=\"\n  1776.13,1425.62 1776.13,1409.97 \n  \"/>\n<polyline clip-path=\"url(#clip2700)\" style=\"stroke:#000000; stroke-width:4; stroke-opacity:1; fill:none\" points=\"\n  2104.05,1425.62 2104.05,1409.97 \n  \"/>\n<polyline clip-path=\"url(#clip2700)\" style=\"stroke:#000000; stroke-width:4; stroke-opacity:1; fill:none\" points=\"\n  215.754,1388.71 241.398,1388.71 \n  \"/>\n<polyline clip-path=\"url(#clip2700)\" style=\"stroke:#000000; stroke-width:4; stroke-opacity:1; fill:none\" points=\"\n  215.754,1081.18 241.398,1081.18 \n  \"/>\n<polyline clip-path=\"url(#clip2700)\" style=\"stroke:#000000; stroke-width:4; stroke-opacity:1; fill:none\" points=\"\n  215.754,773.647 241.398,773.647 \n  \"/>\n<polyline clip-path=\"url(#clip2700)\" style=\"stroke:#000000; stroke-width:4; stroke-opacity:1; fill:none\" points=\"\n  215.754,466.113 241.398,466.113 \n  \"/>\n<polyline clip-path=\"url(#clip2700)\" style=\"stroke:#000000; stroke-width:4; stroke-opacity:1; fill:none\" points=\"\n  215.754,158.579 241.398,158.579 \n  \"/>\n<g clip-path=\"url(#clip2700)\">\n<text style=\"fill:#000000; fill-opacity:1; font-family:Arial,Helvetica Neue,Helvetica,sans-serif; font-size:48px; text-anchor:middle;\" transform=\"rotate(0, 464.46, 1479.62)\" x=\"464.46\" y=\"1479.62\">1</text>\n</g>\n<g clip-path=\"url(#clip2700)\">\n<text style=\"fill:#000000; fill-opacity:1; font-family:Arial,Helvetica Neue,Helvetica,sans-serif; font-size:48px; text-anchor:middle;\" transform=\"rotate(0, 792.378, 1479.62)\" x=\"792.378\" y=\"1479.62\">2</text>\n</g>\n<g clip-path=\"url(#clip2700)\">\n<text style=\"fill:#000000; fill-opacity:1; font-family:Arial,Helvetica Neue,Helvetica,sans-serif; font-size:48px; text-anchor:middle;\" transform=\"rotate(0, 1120.3, 1479.62)\" x=\"1120.3\" y=\"1479.62\">3</text>\n</g>\n<g clip-path=\"url(#clip2700)\">\n<text style=\"fill:#000000; fill-opacity:1; font-family:Arial,Helvetica Neue,Helvetica,sans-serif; font-size:48px; text-anchor:middle;\" transform=\"rotate(0, 1448.21, 1479.62)\" x=\"1448.21\" y=\"1479.62\">4</text>\n</g>\n<g clip-path=\"url(#clip2700)\">\n<text style=\"fill:#000000; fill-opacity:1; font-family:Arial,Helvetica Neue,Helvetica,sans-serif; font-size:48px; text-anchor:middle;\" transform=\"rotate(0, 1776.13, 1479.62)\" x=\"1776.13\" y=\"1479.62\">5</text>\n</g>\n<g clip-path=\"url(#clip2700)\">\n<text style=\"fill:#000000; fill-opacity:1; font-family:Arial,Helvetica Neue,Helvetica,sans-serif; font-size:48px; text-anchor:middle;\" transform=\"rotate(0, 2104.05, 1479.62)\" x=\"2104.05\" y=\"1479.62\">6</text>\n</g>\n<g clip-path=\"url(#clip2700)\">\n<text style=\"fill:#000000; fill-opacity:1; font-family:Arial,Helvetica Neue,Helvetica,sans-serif; font-size:48px; text-anchor:end;\" transform=\"rotate(0, 191.754, 1406.21)\" x=\"191.754\" y=\"1406.21\">0.0</text>\n</g>\n<g clip-path=\"url(#clip2700)\">\n<text style=\"fill:#000000; fill-opacity:1; font-family:Arial,Helvetica Neue,Helvetica,sans-serif; font-size:48px; text-anchor:end;\" transform=\"rotate(0, 191.754, 1098.68)\" x=\"191.754\" y=\"1098.68\">0.1</text>\n</g>\n<g clip-path=\"url(#clip2700)\">\n<text style=\"fill:#000000; fill-opacity:1; font-family:Arial,Helvetica Neue,Helvetica,sans-serif; font-size:48px; text-anchor:end;\" transform=\"rotate(0, 191.754, 791.147)\" x=\"191.754\" y=\"791.147\">0.2</text>\n</g>\n<g clip-path=\"url(#clip2700)\">\n<text style=\"fill:#000000; fill-opacity:1; font-family:Arial,Helvetica Neue,Helvetica,sans-serif; font-size:48px; text-anchor:end;\" transform=\"rotate(0, 191.754, 483.613)\" x=\"191.754\" y=\"483.613\">0.3</text>\n</g>\n<g clip-path=\"url(#clip2700)\">\n<text style=\"fill:#000000; fill-opacity:1; font-family:Arial,Helvetica Neue,Helvetica,sans-serif; font-size:48px; text-anchor:end;\" transform=\"rotate(0, 191.754, 176.079)\" x=\"191.754\" y=\"176.079\">0.4</text>\n</g>\n<g clip-path=\"url(#clip2700)\">\n<text style=\"fill:#000000; fill-opacity:1; font-family:Arial,Helvetica Neue,Helvetica,sans-serif; font-size:84px; text-anchor:middle;\" transform=\"rotate(0, 1284.25, 73.2)\" x=\"1284.25\" y=\"73.2\">Recovery Time</text>\n</g>\n<g clip-path=\"url(#clip2700)\">\n<text style=\"fill:#000000; fill-opacity:1; font-family:Arial,Helvetica Neue,Helvetica,sans-serif; font-size:66px; text-anchor:middle;\" transform=\"rotate(0, 1284.25, 1559.48)\" x=\"1284.25\" y=\"1559.48\">tau</text>\n</g>\n<g clip-path=\"url(#clip2700)\">\n<text style=\"fill:#000000; fill-opacity:1; font-family:Arial,Helvetica Neue,Helvetica,sans-serif; font-size:66px; text-anchor:middle;\" transform=\"rotate(-90, 89.2861, 773.647)\" x=\"89.2861\" y=\"773.647\">p</text>\n</g>\n<path clip-path=\"url(#clip2702)\" d=\"\nM333.293 158.579 L333.293 1388.71 L595.627 1388.71 L595.627 158.579 L333.293 158.579 L333.293 158.579  Z\n  \" fill=\"#009af9\" fill-rule=\"evenodd\" fill-opacity=\"1\"/>\n<polyline clip-path=\"url(#clip2702)\" style=\"stroke:#000000; stroke-width:4; stroke-opacity:1; fill:none\" points=\"\n  333.293,158.579 333.293,1388.71 595.627,1388.71 595.627,158.579 333.293,158.579 \n  \"/>\n<path clip-path=\"url(#clip2702)\" d=\"\nM661.211 312.346 L661.211 1388.71 L923.545 1388.71 L923.545 312.346 L661.211 312.346 L661.211 312.346  Z\n  \" fill=\"#009af9\" fill-rule=\"evenodd\" fill-opacity=\"1\"/>\n<polyline clip-path=\"url(#clip2702)\" style=\"stroke:#000000; stroke-width:4; stroke-opacity:1; fill:none\" points=\"\n  661.211,312.346 661.211,1388.71 923.545,1388.71 923.545,312.346 661.211,312.346 \n  \"/>\n<path clip-path=\"url(#clip2702)\" d=\"\nM989.129 1050.43 L989.129 1388.71 L1251.46 1388.71 L1251.46 1050.43 L989.129 1050.43 L989.129 1050.43  Z\n  \" fill=\"#009af9\" fill-rule=\"evenodd\" fill-opacity=\"1\"/>\n<polyline clip-path=\"url(#clip2702)\" style=\"stroke:#000000; stroke-width:4; stroke-opacity:1; fill:none\" points=\"\n  989.129,1050.43 989.129,1388.71 1251.46,1388.71 1251.46,1050.43 989.129,1050.43 \n  \"/>\n<path clip-path=\"url(#clip2702)\" d=\"\nM1317.05 1204.19 L1317.05 1388.71 L1579.38 1388.71 L1579.38 1204.19 L1317.05 1204.19 L1317.05 1204.19  Z\n  \" fill=\"#009af9\" fill-rule=\"evenodd\" fill-opacity=\"1\"/>\n<polyline clip-path=\"url(#clip2702)\" style=\"stroke:#000000; stroke-width:4; stroke-opacity:1; fill:none\" points=\"\n  1317.05,1204.19 1317.05,1388.71 1579.38,1388.71 1579.38,1204.19 1317.05,1204.19 \n  \"/>\n<path clip-path=\"url(#clip2702)\" d=\"\nM1644.96 1234.95 L1644.96 1388.71 L1907.3 1388.71 L1907.3 1234.95 L1644.96 1234.95 L1644.96 1234.95  Z\n  \" fill=\"#009af9\" fill-rule=\"evenodd\" fill-opacity=\"1\"/>\n<polyline clip-path=\"url(#clip2702)\" style=\"stroke:#000000; stroke-width:4; stroke-opacity:1; fill:none\" points=\"\n  1644.96,1234.95 1644.96,1388.71 1907.3,1388.71 1907.3,1234.95 1644.96,1234.95 \n  \"/>\n<path clip-path=\"url(#clip2702)\" d=\"\nM1972.88 1296.45 L1972.88 1388.71 L2235.22 1388.71 L2235.22 1296.45 L1972.88 1296.45 L1972.88 1296.45  Z\n  \" fill=\"#009af9\" fill-rule=\"evenodd\" fill-opacity=\"1\"/>\n<polyline clip-path=\"url(#clip2702)\" style=\"stroke:#000000; stroke-width:4; stroke-opacity:1; fill:none\" points=\"\n  1972.88,1296.45 1972.88,1388.71 2235.22,1388.71 2235.22,1296.45 1972.88,1296.45 \n  \"/>\n<polyline clip-path=\"url(#clip2702)\" style=\"stroke:#e26f46; stroke-width:4; stroke-opacity:1; fill:none\" stroke-dasharray=\"16, 10\" points=\"\n  825.17,2729.56 825.17,-1182.27 \n  \"/>\n<path clip-path=\"url(#clip2700)\" d=\"\nM1826.71 326.155 L2280.76 326.155 L2280.76 205.195 L1826.71 205.195  Z\n  \" fill=\"#ffffff\" fill-rule=\"evenodd\" fill-opacity=\"1\"/>\n<polyline clip-path=\"url(#clip2700)\" style=\"stroke:#000000; stroke-width:4; stroke-opacity:1; fill:none\" points=\"\n  1826.71,326.155 2280.76,326.155 2280.76,205.195 1826.71,205.195 1826.71,326.155 \n  \"/>\n<polyline clip-path=\"url(#clip2700)\" style=\"stroke:#e26f46; stroke-width:4; stroke-opacity:1; fill:none\" stroke-dasharray=\"16, 10\" points=\"\n  1850.71,265.675 1994.71,265.675 \n  \"/>\n<g clip-path=\"url(#clip2700)\">\n<text style=\"fill:#000000; fill-opacity:1; font-family:Arial,Helvetica Neue,Helvetica,sans-serif; font-size:48px; text-anchor:start;\" transform=\"rotate(0, 2018.71, 283.175)\" x=\"2018.71\" y=\"283.175\">tau_mean</text>\n</g>\n</svg>\n"
               },
               "type": "node"
              }
             ],
             "instanceArgs": {
              "namespace": "html",
              "tag": "div"
             },
             "nodeType": "DOM",
             "props": {
              "className": "interact-flex-row interact-widget"
             },
             "type": "node"
            }
           }
          },
          "systemjs_options": null
         },
         "nodeType": "Scope",
         "props": {},
         "type": "node"
        }
       ],
       "instanceArgs": {
        "namespace": "html",
        "tag": "div"
       },
       "nodeType": "DOM",
       "props": {},
       "type": "node"
      },
      "text/html": [
       "<div\n",
       "    class=\"webio-mountpoint\"\n",
       "    data-webio-mountpoint=\"12008859360117910926\"\n",
       ">\n",
       "    <script>\n",
       "    if (window.require && require.defined && require.defined(\"nbextensions/webio-jupyter-notebook\")) {\n",
       "        console.log(\"Jupyter WebIO extension detected, not mounting.\");\n",
       "    } else if (window.WebIO) {\n",
       "        WebIO.mount(\n",
       "            document.querySelector('[data-webio-mountpoint=\"12008859360117910926\"]'),\n",
       "            {\"props\":{},\"nodeType\":\"DOM\",\"type\":\"node\",\"instanceArgs\":{\"namespace\":\"html\",\"tag\":\"div\"},\"children\":[{\"props\":{\"className\":\"field interact-widget\"},\"nodeType\":\"DOM\",\"type\":\"node\",\"instanceArgs\":{\"namespace\":\"html\",\"tag\":\"div\"},\"children\":[{\"props\":{},\"nodeType\":\"Scope\",\"type\":\"node\",\"instanceArgs\":{\"imports\":{\"data\":[{\"name\":\"knockout\",\"type\":\"js\",\"url\":\"\\/assetserver\\/847903f5df732148b510ba93542242ba69c4346c-knockout.js\"},{\"name\":\"knockout_punches\",\"type\":\"js\",\"url\":\"\\/assetserver\\/c0b325de111f2589153d52b7b74e82babec63146-knockout_punches.js\"},{\"name\":null,\"type\":\"js\",\"url\":\"\\/assetserver\\/51952c19a9a6ce93cd17825f07a8fe28d322efde-all.js\"},{\"name\":null,\"type\":\"css\",\"url\":\"\\/assetserver\\/104d64c7b780621be0c8d84ac84d7a5a84de4524-style.css\"},{\"name\":null,\"type\":\"css\",\"url\":\"\\/assetserver\\/9e3206e22736e731411e8095c384ec75a742e5c8-bulma_confined.min.css\"}],\"type\":\"async_block\"},\"id\":\"1038108401888968370\",\"handlers\":{\"changes\":[\"(function (val){return (val!=this.model[\\\"changes\\\"]()) ? (this.valueFromJulia[\\\"changes\\\"]=true, this.model[\\\"changes\\\"](val)) : undefined})\"],\"index\":[\"(function (val){return (val!=this.model[\\\"index\\\"]()) ? (this.valueFromJulia[\\\"index\\\"]=true, this.model[\\\"index\\\"](val)) : undefined})\"]},\"systemjs_options\":null,\"mount_callbacks\":[\"function () {\\n    var handler = (function (ko, koPunches) {\\n    ko.punches.enableAll();\\n    ko.bindingHandlers.numericValue = {\\n        init: function(element, valueAccessor, allBindings, data, context) {\\n            var stringified = ko.observable(ko.unwrap(valueAccessor()));\\n            stringified.subscribe(function(value) {\\n                var val = parseFloat(value);\\n                if (!isNaN(val)) {\\n                    valueAccessor()(val);\\n                }\\n            });\\n            valueAccessor().subscribe(function(value) {\\n                var str = JSON.stringify(value);\\n                if ((str == \\\"0\\\") && ([\\\"-0\\\", \\\"-0.\\\"].indexOf(stringified()) >= 0))\\n                     return;\\n                 if ([\\\"null\\\", \\\"\\\"].indexOf(str) >= 0)\\n                     return;\\n                stringified(str);\\n            });\\n            ko.applyBindingsToNode(\\n                element,\\n                {\\n                    value: stringified,\\n                    valueUpdate: allBindings.get('valueUpdate'),\\n                },\\n                context,\\n            );\\n        }\\n    };\\n    var json_data = {\\\"formatted_vals\\\":[\\\"0.1\\\",\\\"0.2\\\",\\\"0.3\\\",\\\"0.4\\\",\\\"0.5\\\",\\\"0.6\\\",\\\"0.7\\\",\\\"0.8\\\",\\\"0.9\\\",\\\"1.0\\\"],\\\"changes\\\":WebIO.getval({\\\"name\\\":\\\"changes\\\",\\\"scope\\\":\\\"1038108401888968370\\\",\\\"id\\\":\\\"17816014312455813383\\\",\\\"type\\\":\\\"observable\\\"}),\\\"index\\\":WebIO.getval({\\\"name\\\":\\\"index\\\",\\\"scope\\\":\\\"1038108401888968370\\\",\\\"id\\\":\\\"5007471761566300981\\\",\\\"type\\\":\\\"observable\\\"})};\\n    var self = this;\\n    function AppViewModel() {\\n        for (var key in json_data) {\\n            var el = json_data[key];\\n            this[key] = Array.isArray(el) ? ko.observableArray(el) : ko.observable(el);\\n        }\\n        \\n        [this[\\\"formatted_val\\\"]=ko.computed(    function(){\\n        return this.formatted_vals()[parseInt(this.index())-(1)];\\n    }\\n,this)]\\n        [this[\\\"changes\\\"].subscribe((function (val){!(this.valueFromJulia[\\\"changes\\\"]) ? (WebIO.setval({\\\"name\\\":\\\"changes\\\",\\\"scope\\\":\\\"1038108401888968370\\\",\\\"id\\\":\\\"17816014312455813383\\\",\\\"type\\\":\\\"observable\\\"},val)) : undefined; return this.valueFromJulia[\\\"changes\\\"]=false}),self),this[\\\"index\\\"].subscribe((function (val){!(this.valueFromJulia[\\\"index\\\"]) ? (WebIO.setval({\\\"name\\\":\\\"index\\\",\\\"scope\\\":\\\"1038108401888968370\\\",\\\"id\\\":\\\"5007471761566300981\\\",\\\"type\\\":\\\"observable\\\"},val)) : undefined; return this.valueFromJulia[\\\"index\\\"]=false}),self)]\\n        \\n    }\\n    self.model = new AppViewModel();\\n    self.valueFromJulia = {};\\n    for (var key in json_data) {\\n        self.valueFromJulia[key] = false;\\n    }\\n    ko.applyBindings(self.model, self.dom);\\n}\\n);\\n    (WebIO.importBlock({\\\"data\\\":[{\\\"name\\\":\\\"knockout\\\",\\\"type\\\":\\\"js\\\",\\\"url\\\":\\\"\\/assetserver\\/847903f5df732148b510ba93542242ba69c4346c-knockout.js\\\"},{\\\"name\\\":\\\"knockout_punches\\\",\\\"type\\\":\\\"js\\\",\\\"url\\\":\\\"\\/assetserver\\/c0b325de111f2589153d52b7b74e82babec63146-knockout_punches.js\\\"}],\\\"type\\\":\\\"async_block\\\"})).then((imports) => handler.apply(this, imports));\\n}\\n\"],\"observables\":{\"changes\":{\"sync\":false,\"id\":\"17816014312455813383\",\"value\":0},\"index\":{\"sync\":true,\"id\":\"5007471761566300981\",\"value\":5}}},\"children\":[{\"props\":{\"className\":\"interact-flex-row interact-widget\"},\"nodeType\":\"DOM\",\"type\":\"node\",\"instanceArgs\":{\"namespace\":\"html\",\"tag\":\"div\"},\"children\":[{\"props\":{\"className\":\"interact-flex-row-left\"},\"nodeType\":\"DOM\",\"type\":\"node\",\"instanceArgs\":{\"namespace\":\"html\",\"tag\":\"div\"},\"children\":[{\"props\":{\"className\":\"interact \",\"style\":{\"padding\":\"5px 10px 0px 10px\"}},\"nodeType\":\"DOM\",\"type\":\"node\",\"instanceArgs\":{\"namespace\":\"html\",\"tag\":\"label\"},\"children\":[\"p\"]}]},{\"props\":{\"className\":\"interact-flex-row-center\"},\"nodeType\":\"DOM\",\"type\":\"node\",\"instanceArgs\":{\"namespace\":\"html\",\"tag\":\"div\"},\"children\":[{\"props\":{\"max\":10,\"min\":1,\"attributes\":{\"type\":\"range\",\"data-bind\":\"numericValue: index, valueUpdate: 'input', event: {change: function (){this.changes(this.changes()+1)}}\",\"orient\":\"horizontal\"},\"step\":1,\"className\":\"slider slider is-fullwidth\",\"style\":{}},\"nodeType\":\"DOM\",\"type\":\"node\",\"instanceArgs\":{\"namespace\":\"html\",\"tag\":\"input\"},\"children\":[]}]},{\"props\":{\"className\":\"interact-flex-row-right\"},\"nodeType\":\"DOM\",\"type\":\"node\",\"instanceArgs\":{\"namespace\":\"html\",\"tag\":\"div\"},\"children\":[{\"props\":{\"attributes\":{\"data-bind\":\"text: formatted_val\"}},\"nodeType\":\"DOM\",\"type\":\"node\",\"instanceArgs\":{\"namespace\":\"html\",\"tag\":\"p\"},\"children\":[]}]}]}]}]},{\"props\":{\"className\":\"field interact-widget\"},\"nodeType\":\"DOM\",\"type\":\"node\",\"instanceArgs\":{\"namespace\":\"html\",\"tag\":\"div\"},\"children\":[{\"props\":{},\"nodeType\":\"Scope\",\"type\":\"node\",\"instanceArgs\":{\"imports\":{\"data\":[{\"name\":\"knockout\",\"type\":\"js\",\"url\":\"\\/assetserver\\/847903f5df732148b510ba93542242ba69c4346c-knockout.js\"},{\"name\":\"knockout_punches\",\"type\":\"js\",\"url\":\"\\/assetserver\\/c0b325de111f2589153d52b7b74e82babec63146-knockout_punches.js\"},{\"name\":null,\"type\":\"js\",\"url\":\"\\/assetserver\\/51952c19a9a6ce93cd17825f07a8fe28d322efde-all.js\"},{\"name\":null,\"type\":\"css\",\"url\":\"\\/assetserver\\/104d64c7b780621be0c8d84ac84d7a5a84de4524-style.css\"},{\"name\":null,\"type\":\"css\",\"url\":\"\\/assetserver\\/9e3206e22736e731411e8095c384ec75a742e5c8-bulma_confined.min.css\"}],\"type\":\"async_block\"},\"id\":\"7202780362914876039\",\"handlers\":{\"changes\":[\"(function (val){return (val!=this.model[\\\"changes\\\"]()) ? (this.valueFromJulia[\\\"changes\\\"]=true, this.model[\\\"changes\\\"](val)) : undefined})\"],\"index\":[\"(function (val){return (val!=this.model[\\\"index\\\"]()) ? (this.valueFromJulia[\\\"index\\\"]=true, this.model[\\\"index\\\"](val)) : undefined})\"]},\"systemjs_options\":null,\"mount_callbacks\":[\"function () {\\n    var handler = (function (ko, koPunches) {\\n    ko.punches.enableAll();\\n    ko.bindingHandlers.numericValue = {\\n        init: function(element, valueAccessor, allBindings, data, context) {\\n            var stringified = ko.observable(ko.unwrap(valueAccessor()));\\n            stringified.subscribe(function(value) {\\n                var val = parseFloat(value);\\n                if (!isNaN(val)) {\\n                    valueAccessor()(val);\\n                }\\n            });\\n            valueAccessor().subscribe(function(value) {\\n                var str = JSON.stringify(value);\\n                if ((str == \\\"0\\\") && ([\\\"-0\\\", \\\"-0.\\\"].indexOf(stringified()) >= 0))\\n                     return;\\n                 if ([\\\"null\\\", \\\"\\\"].indexOf(str) >= 0)\\n                     return;\\n                stringified(str);\\n            });\\n            ko.applyBindingsToNode(\\n                element,\\n                {\\n                    value: stringified,\\n                    valueUpdate: allBindings.get('valueUpdate'),\\n                },\\n                context,\\n            );\\n        }\\n    };\\n    var json_data = {\\\"formatted_vals\\\":[\\\"1\\\",\\\"10\\\",\\\"100\\\",\\\"1000\\\",\\\"10000\\\",\\\"100000\\\"],\\\"changes\\\":WebIO.getval({\\\"name\\\":\\\"changes\\\",\\\"scope\\\":\\\"7202780362914876039\\\",\\\"id\\\":\\\"8371123162967185347\\\",\\\"type\\\":\\\"observable\\\"}),\\\"index\\\":WebIO.getval({\\\"name\\\":\\\"index\\\",\\\"scope\\\":\\\"7202780362914876039\\\",\\\"id\\\":\\\"17711443218730868386\\\",\\\"type\\\":\\\"observable\\\"})};\\n    var self = this;\\n    function AppViewModel() {\\n        for (var key in json_data) {\\n            var el = json_data[key];\\n            this[key] = Array.isArray(el) ? ko.observableArray(el) : ko.observable(el);\\n        }\\n        \\n        [this[\\\"formatted_val\\\"]=ko.computed(    function(){\\n        return this.formatted_vals()[parseInt(this.index())-(1)];\\n    }\\n,this)]\\n        [this[\\\"changes\\\"].subscribe((function (val){!(this.valueFromJulia[\\\"changes\\\"]) ? (WebIO.setval({\\\"name\\\":\\\"changes\\\",\\\"scope\\\":\\\"7202780362914876039\\\",\\\"id\\\":\\\"8371123162967185347\\\",\\\"type\\\":\\\"observable\\\"},val)) : undefined; return this.valueFromJulia[\\\"changes\\\"]=false}),self),this[\\\"index\\\"].subscribe((function (val){!(this.valueFromJulia[\\\"index\\\"]) ? (WebIO.setval({\\\"name\\\":\\\"index\\\",\\\"scope\\\":\\\"7202780362914876039\\\",\\\"id\\\":\\\"17711443218730868386\\\",\\\"type\\\":\\\"observable\\\"},val)) : undefined; return this.valueFromJulia[\\\"index\\\"]=false}),self)]\\n        \\n    }\\n    self.model = new AppViewModel();\\n    self.valueFromJulia = {};\\n    for (var key in json_data) {\\n        self.valueFromJulia[key] = false;\\n    }\\n    ko.applyBindings(self.model, self.dom);\\n}\\n);\\n    (WebIO.importBlock({\\\"data\\\":[{\\\"name\\\":\\\"knockout\\\",\\\"type\\\":\\\"js\\\",\\\"url\\\":\\\"\\/assetserver\\/847903f5df732148b510ba93542242ba69c4346c-knockout.js\\\"},{\\\"name\\\":\\\"knockout_punches\\\",\\\"type\\\":\\\"js\\\",\\\"url\\\":\\\"\\/assetserver\\/c0b325de111f2589153d52b7b74e82babec63146-knockout_punches.js\\\"}],\\\"type\\\":\\\"async_block\\\"})).then((imports) => handler.apply(this, imports));\\n}\\n\"],\"observables\":{\"changes\":{\"sync\":false,\"id\":\"8371123162967185347\",\"value\":0},\"index\":{\"sync\":true,\"id\":\"17711443218730868386\",\"value\":3}}},\"children\":[{\"props\":{\"className\":\"interact-flex-row interact-widget\"},\"nodeType\":\"DOM\",\"type\":\"node\",\"instanceArgs\":{\"namespace\":\"html\",\"tag\":\"div\"},\"children\":[{\"props\":{\"className\":\"interact-flex-row-left\"},\"nodeType\":\"DOM\",\"type\":\"node\",\"instanceArgs\":{\"namespace\":\"html\",\"tag\":\"div\"},\"children\":[{\"props\":{\"className\":\"interact \",\"style\":{\"padding\":\"5px 10px 0px 10px\"}},\"nodeType\":\"DOM\",\"type\":\"node\",\"instanceArgs\":{\"namespace\":\"html\",\"tag\":\"label\"},\"children\":[\"N\"]}]},{\"props\":{\"className\":\"interact-flex-row-center\"},\"nodeType\":\"DOM\",\"type\":\"node\",\"instanceArgs\":{\"namespace\":\"html\",\"tag\":\"div\"},\"children\":[{\"props\":{\"max\":6,\"min\":1,\"attributes\":{\"type\":\"range\",\"data-bind\":\"numericValue: index, valueUpdate: 'input', event: {change: function (){this.changes(this.changes()+1)}}\",\"orient\":\"horizontal\"},\"step\":1,\"className\":\"slider slider is-fullwidth\",\"style\":{}},\"nodeType\":\"DOM\",\"type\":\"node\",\"instanceArgs\":{\"namespace\":\"html\",\"tag\":\"input\"},\"children\":[]}]},{\"props\":{\"className\":\"interact-flex-row-right\"},\"nodeType\":\"DOM\",\"type\":\"node\",\"instanceArgs\":{\"namespace\":\"html\",\"tag\":\"div\"},\"children\":[{\"props\":{\"attributes\":{\"data-bind\":\"text: formatted_val\"}},\"nodeType\":\"DOM\",\"type\":\"node\",\"instanceArgs\":{\"namespace\":\"html\",\"tag\":\"p\"},\"children\":[]}]}]}]}]},{\"props\":{},\"nodeType\":\"Scope\",\"type\":\"node\",\"instanceArgs\":{\"imports\":{\"data\":[],\"type\":\"async_block\"},\"id\":\"7917779381068335862\",\"handlers\":{},\"systemjs_options\":null,\"mount_callbacks\":[],\"observables\":{\"obs-node\":{\"sync\":false,\"id\":\"11219819659218805056\",\"value\":{\"props\":{\"className\":\"interact-flex-row interact-widget\"},\"nodeType\":\"DOM\",\"type\":\"node\",\"instanceArgs\":{\"namespace\":\"html\",\"tag\":\"div\"},\"children\":[{\"props\":{\"setInnerHtml\":\"<?xml version=\\\"1.0\\\" encoding=\\\"utf-8\\\"?>\\n<svg xmlns=\\\"http:\\/\\/www.w3.org\\/2000\\/svg\\\" xmlns:xlink=\\\"http:\\/\\/www.w3.org\\/1999\\/xlink\\\" width=\\\"600\\\" height=\\\"400\\\" viewBox=\\\"0 0 2400 1600\\\">\\n<defs>\\n  <clipPath id=\\\"clip2300\\\">\\n    <rect x=\\\"0\\\" y=\\\"0\\\" width=\\\"2400\\\" height=\\\"1600\\\"\\/>\\n  <\\/clipPath>\\n<\\/defs>\\n<path clip-path=\\\"url(#clip2300)\\\" d=\\\"\\nM0 1600 L2400 1600 L2400 0 L0 0  Z\\n  \\\" fill=\\\"#ffffff\\\" fill-rule=\\\"evenodd\\\" fill-opacity=\\\"1\\\"\\/>\\n<defs>\\n  <clipPath id=\\\"clip2301\\\">\\n    <rect x=\\\"480\\\" y=\\\"0\\\" width=\\\"1681\\\" height=\\\"1600\\\"\\/>\\n  <\\/clipPath>\\n<\\/defs>\\n<path clip-path=\\\"url(#clip2300)\\\" d=\\\"\\nM215.754 1425.62 L2352.76 1425.62 L2352.76 121.675 L215.754 121.675  Z\\n  \\\" fill=\\\"#ffffff\\\" fill-rule=\\\"evenodd\\\" fill-opacity=\\\"1\\\"\\/>\\n<defs>\\n  <clipPath id=\\\"clip2302\\\">\\n    <rect x=\\\"215\\\" y=\\\"121\\\" width=\\\"2138\\\" height=\\\"1305\\\"\\/>\\n  <\\/clipPath>\\n<\\/defs>\\n<polyline clip-path=\\\"url(#clip2302)\\\" style=\\\"stroke:#000000; stroke-width:2; stroke-opacity:0.1; fill:none\\\" points=\\\"\\n  464.46,1425.62 464.46,121.675 \\n  \\\"\\/>\\n<polyline clip-path=\\\"url(#clip2302)\\\" style=\\\"stroke:#000000; stroke-width:2; stroke-opacity:0.1; fill:none\\\" points=\\\"\\n  792.378,1425.62 792.378,121.675 \\n  \\\"\\/>\\n<polyline clip-path=\\\"url(#clip2302)\\\" style=\\\"stroke:#000000; stroke-width:2; stroke-opacity:0.1; fill:none\\\" points=\\\"\\n  1120.3,1425.62 1120.3,121.675 \\n  \\\"\\/>\\n<polyline clip-path=\\\"url(#clip2302)\\\" style=\\\"stroke:#000000; stroke-width:2; stroke-opacity:0.1; fill:none\\\" points=\\\"\\n  1448.21,1425.62 1448.21,121.675 \\n  \\\"\\/>\\n<polyline clip-path=\\\"url(#clip2302)\\\" style=\\\"stroke:#000000; stroke-width:2; stroke-opacity:0.1; fill:none\\\" points=\\\"\\n  1776.13,1425.62 1776.13,121.675 \\n  \\\"\\/>\\n<polyline clip-path=\\\"url(#clip2302)\\\" style=\\\"stroke:#000000; stroke-width:2; stroke-opacity:0.1; fill:none\\\" points=\\\"\\n  2104.05,1425.62 2104.05,121.675 \\n  \\\"\\/>\\n<polyline clip-path=\\\"url(#clip2302)\\\" style=\\\"stroke:#000000; stroke-width:2; stroke-opacity:0.1; fill:none\\\" points=\\\"\\n  215.754,1388.71 2352.76,1388.71 \\n  \\\"\\/>\\n<polyline clip-path=\\\"url(#clip2302)\\\" style=\\\"stroke:#000000; stroke-width:2; stroke-opacity:0.1; fill:none\\\" points=\\\"\\n  215.754,1081.18 2352.76,1081.18 \\n  \\\"\\/>\\n<polyline clip-path=\\\"url(#clip2302)\\\" style=\\\"stroke:#000000; stroke-width:2; stroke-opacity:0.1; fill:none\\\" points=\\\"\\n  215.754,773.647 2352.76,773.647 \\n  \\\"\\/>\\n<polyline clip-path=\\\"url(#clip2302)\\\" style=\\\"stroke:#000000; stroke-width:2; stroke-opacity:0.1; fill:none\\\" points=\\\"\\n  215.754,466.113 2352.76,466.113 \\n  \\\"\\/>\\n<polyline clip-path=\\\"url(#clip2302)\\\" style=\\\"stroke:#000000; stroke-width:2; stroke-opacity:0.1; fill:none\\\" points=\\\"\\n  215.754,158.579 2352.76,158.579 \\n  \\\"\\/>\\n<polyline clip-path=\\\"url(#clip2300)\\\" style=\\\"stroke:#000000; stroke-width:4; stroke-opacity:1; fill:none\\\" points=\\\"\\n  215.754,1425.62 2352.76,1425.62 \\n  \\\"\\/>\\n<polyline clip-path=\\\"url(#clip2300)\\\" style=\\\"stroke:#000000; stroke-width:4; stroke-opacity:1; fill:none\\\" points=\\\"\\n  215.754,1425.62 215.754,121.675 \\n  \\\"\\/>\\n<polyline clip-path=\\\"url(#clip2300)\\\" style=\\\"stroke:#000000; stroke-width:4; stroke-opacity:1; fill:none\\\" points=\\\"\\n  464.46,1425.62 464.46,1409.97 \\n  \\\"\\/>\\n<polyline clip-path=\\\"url(#clip2300)\\\" style=\\\"stroke:#000000; stroke-width:4; stroke-opacity:1; fill:none\\\" points=\\\"\\n  792.378,1425.62 792.378,1409.97 \\n  \\\"\\/>\\n<polyline clip-path=\\\"url(#clip2300)\\\" style=\\\"stroke:#000000; stroke-width:4; stroke-opacity:1; fill:none\\\" points=\\\"\\n  1120.3,1425.62 1120.3,1409.97 \\n  \\\"\\/>\\n<polyline clip-path=\\\"url(#clip2300)\\\" style=\\\"stroke:#000000; stroke-width:4; stroke-opacity:1; fill:none\\\" points=\\\"\\n  1448.21,1425.62 1448.21,1409.97 \\n  \\\"\\/>\\n<polyline clip-path=\\\"url(#clip2300)\\\" style=\\\"stroke:#000000; stroke-width:4; stroke-opacity:1; fill:none\\\" points=\\\"\\n  1776.13,1425.62 1776.13,1409.97 \\n  \\\"\\/>\\n<polyline clip-path=\\\"url(#clip2300)\\\" style=\\\"stroke:#000000; stroke-width:4; stroke-opacity:1; fill:none\\\" points=\\\"\\n  2104.05,1425.62 2104.05,1409.97 \\n  \\\"\\/>\\n<polyline clip-path=\\\"url(#clip2300)\\\" style=\\\"stroke:#000000; stroke-width:4; stroke-opacity:1; fill:none\\\" points=\\\"\\n  215.754,1388.71 241.398,1388.71 \\n  \\\"\\/>\\n<polyline clip-path=\\\"url(#clip2300)\\\" style=\\\"stroke:#000000; stroke-width:4; stroke-opacity:1; fill:none\\\" points=\\\"\\n  215.754,1081.18 241.398,1081.18 \\n  \\\"\\/>\\n<polyline clip-path=\\\"url(#clip2300)\\\" style=\\\"stroke:#000000; stroke-width:4; stroke-opacity:1; fill:none\\\" points=\\\"\\n  215.754,773.647 241.398,773.647 \\n  \\\"\\/>\\n<polyline clip-path=\\\"url(#clip2300)\\\" style=\\\"stroke:#000000; stroke-width:4; stroke-opacity:1; fill:none\\\" points=\\\"\\n  215.754,466.113 241.398,466.113 \\n  \\\"\\/>\\n<polyline clip-path=\\\"url(#clip2300)\\\" style=\\\"stroke:#000000; stroke-width:4; stroke-opacity:1; fill:none\\\" points=\\\"\\n  215.754,158.579 241.398,158.579 \\n  \\\"\\/>\\n<g clip-path=\\\"url(#clip2300)\\\">\\n<text style=\\\"fill:#000000; fill-opacity:1; font-family:Arial,Helvetica Neue,Helvetica,sans-serif; font-size:48px; text-anchor:middle;\\\" transform=\\\"rotate(0, 464.46, 1479.62)\\\" x=\\\"464.46\\\" y=\\\"1479.62\\\">1<\\/text>\\n<\\/g>\\n<g clip-path=\\\"url(#clip2300)\\\">\\n<text style=\\\"fill:#000000; fill-opacity:1; font-family:Arial,Helvetica Neue,Helvetica,sans-serif; font-size:48px; text-anchor:middle;\\\" transform=\\\"rotate(0, 792.378, 1479.62)\\\" x=\\\"792.378\\\" y=\\\"1479.62\\\">2<\\/text>\\n<\\/g>\\n<g clip-path=\\\"url(#clip2300)\\\">\\n<text style=\\\"fill:#000000; fill-opacity:1; font-family:Arial,Helvetica Neue,Helvetica,sans-serif; font-size:48px; text-anchor:middle;\\\" transform=\\\"rotate(0, 1120.3, 1479.62)\\\" x=\\\"1120.3\\\" y=\\\"1479.62\\\">3<\\/text>\\n<\\/g>\\n<g clip-path=\\\"url(#clip2300)\\\">\\n<text style=\\\"fill:#000000; fill-opacity:1; font-family:Arial,Helvetica Neue,Helvetica,sans-serif; font-size:48px; text-anchor:middle;\\\" transform=\\\"rotate(0, 1448.21, 1479.62)\\\" x=\\\"1448.21\\\" y=\\\"1479.62\\\">4<\\/text>\\n<\\/g>\\n<g clip-path=\\\"url(#clip2300)\\\">\\n<text style=\\\"fill:#000000; fill-opacity:1; font-family:Arial,Helvetica Neue,Helvetica,sans-serif; font-size:48px; text-anchor:middle;\\\" transform=\\\"rotate(0, 1776.13, 1479.62)\\\" x=\\\"1776.13\\\" y=\\\"1479.62\\\">5<\\/text>\\n<\\/g>\\n<g clip-path=\\\"url(#clip2300)\\\">\\n<text style=\\\"fill:#000000; fill-opacity:1; font-family:Arial,Helvetica Neue,Helvetica,sans-serif; font-size:48px; text-anchor:middle;\\\" transform=\\\"rotate(0, 2104.05, 1479.62)\\\" x=\\\"2104.05\\\" y=\\\"1479.62\\\">6<\\/text>\\n<\\/g>\\n<g clip-path=\\\"url(#clip2300)\\\">\\n<text style=\\\"fill:#000000; fill-opacity:1; font-family:Arial,Helvetica Neue,Helvetica,sans-serif; font-size:48px; text-anchor:end;\\\" transform=\\\"rotate(0, 191.754, 1406.21)\\\" x=\\\"191.754\\\" y=\\\"1406.21\\\">0.0<\\/text>\\n<\\/g>\\n<g clip-path=\\\"url(#clip2300)\\\">\\n<text style=\\\"fill:#000000; fill-opacity:1; font-family:Arial,Helvetica Neue,Helvetica,sans-serif; font-size:48px; text-anchor:end;\\\" transform=\\\"rotate(0, 191.754, 1098.68)\\\" x=\\\"191.754\\\" y=\\\"1098.68\\\">0.1<\\/text>\\n<\\/g>\\n<g clip-path=\\\"url(#clip2300)\\\">\\n<text style=\\\"fill:#000000; fill-opacity:1; font-family:Arial,Helvetica Neue,Helvetica,sans-serif; font-size:48px; text-anchor:end;\\\" transform=\\\"rotate(0, 191.754, 791.147)\\\" x=\\\"191.754\\\" y=\\\"791.147\\\">0.2<\\/text>\\n<\\/g>\\n<g clip-path=\\\"url(#clip2300)\\\">\\n<text style=\\\"fill:#000000; fill-opacity:1; font-family:Arial,Helvetica Neue,Helvetica,sans-serif; font-size:48px; text-anchor:end;\\\" transform=\\\"rotate(0, 191.754, 483.613)\\\" x=\\\"191.754\\\" y=\\\"483.613\\\">0.3<\\/text>\\n<\\/g>\\n<g clip-path=\\\"url(#clip2300)\\\">\\n<text style=\\\"fill:#000000; fill-opacity:1; font-family:Arial,Helvetica Neue,Helvetica,sans-serif; font-size:48px; text-anchor:end;\\\" transform=\\\"rotate(0, 191.754, 176.079)\\\" x=\\\"191.754\\\" y=\\\"176.079\\\">0.4<\\/text>\\n<\\/g>\\n<g clip-path=\\\"url(#clip2300)\\\">\\n<text style=\\\"fill:#000000; fill-opacity:1; font-family:Arial,Helvetica Neue,Helvetica,sans-serif; font-size:84px; text-anchor:middle;\\\" transform=\\\"rotate(0, 1284.25, 73.2)\\\" x=\\\"1284.25\\\" y=\\\"73.2\\\">Recovery Time<\\/text>\\n<\\/g>\\n<g clip-path=\\\"url(#clip2300)\\\">\\n<text style=\\\"fill:#000000; fill-opacity:1; font-family:Arial,Helvetica Neue,Helvetica,sans-serif; font-size:66px; text-anchor:middle;\\\" transform=\\\"rotate(0, 1284.25, 1559.48)\\\" x=\\\"1284.25\\\" y=\\\"1559.48\\\">tau<\\/text>\\n<\\/g>\\n<g clip-path=\\\"url(#clip2300)\\\">\\n<text style=\\\"fill:#000000; fill-opacity:1; font-family:Arial,Helvetica Neue,Helvetica,sans-serif; font-size:66px; text-anchor:middle;\\\" transform=\\\"rotate(-90, 89.2861, 773.647)\\\" x=\\\"89.2861\\\" y=\\\"773.647\\\">p<\\/text>\\n<\\/g>\\n<path clip-path=\\\"url(#clip2302)\\\" d=\\\"\\nM333.293 158.579 L333.293 1388.71 L595.627 1388.71 L595.627 158.579 L333.293 158.579 L333.293 158.579  Z\\n  \\\" fill=\\\"#009af9\\\" fill-rule=\\\"evenodd\\\" fill-opacity=\\\"1\\\"\\/>\\n<polyline clip-path=\\\"url(#clip2302)\\\" style=\\\"stroke:#000000; stroke-width:4; stroke-opacity:1; fill:none\\\" points=\\\"\\n  333.293,158.579 333.293,1388.71 595.627,1388.71 595.627,158.579 333.293,158.579 \\n  \\\"\\/>\\n<path clip-path=\\\"url(#clip2302)\\\" d=\\\"\\nM661.211 312.346 L661.211 1388.71 L923.545 1388.71 L923.545 312.346 L661.211 312.346 L661.211 312.346  Z\\n  \\\" fill=\\\"#009af9\\\" fill-rule=\\\"evenodd\\\" fill-opacity=\\\"1\\\"\\/>\\n<polyline clip-path=\\\"url(#clip2302)\\\" style=\\\"stroke:#000000; stroke-width:4; stroke-opacity:1; fill:none\\\" points=\\\"\\n  661.211,312.346 661.211,1388.71 923.545,1388.71 923.545,312.346 661.211,312.346 \\n  \\\"\\/>\\n<path clip-path=\\\"url(#clip2302)\\\" d=\\\"\\nM989.129 1050.43 L989.129 1388.71 L1251.46 1388.71 L1251.46 1050.43 L989.129 1050.43 L989.129 1050.43  Z\\n  \\\" fill=\\\"#009af9\\\" fill-rule=\\\"evenodd\\\" fill-opacity=\\\"1\\\"\\/>\\n<polyline clip-path=\\\"url(#clip2302)\\\" style=\\\"stroke:#000000; stroke-width:4; stroke-opacity:1; fill:none\\\" points=\\\"\\n  989.129,1050.43 989.129,1388.71 1251.46,1388.71 1251.46,1050.43 989.129,1050.43 \\n  \\\"\\/>\\n<path clip-path=\\\"url(#clip2302)\\\" d=\\\"\\nM1317.05 1204.19 L1317.05 1388.71 L1579.38 1388.71 L1579.38 1204.19 L1317.05 1204.19 L1317.05 1204.19  Z\\n  \\\" fill=\\\"#009af9\\\" fill-rule=\\\"evenodd\\\" fill-opacity=\\\"1\\\"\\/>\\n<polyline clip-path=\\\"url(#clip2302)\\\" style=\\\"stroke:#000000; stroke-width:4; stroke-opacity:1; fill:none\\\" points=\\\"\\n  1317.05,1204.19 1317.05,1388.71 1579.38,1388.71 1579.38,1204.19 1317.05,1204.19 \\n  \\\"\\/>\\n<path clip-path=\\\"url(#clip2302)\\\" d=\\\"\\nM1644.96 1234.95 L1644.96 1388.71 L1907.3 1388.71 L1907.3 1234.95 L1644.96 1234.95 L1644.96 1234.95  Z\\n  \\\" fill=\\\"#009af9\\\" fill-rule=\\\"evenodd\\\" fill-opacity=\\\"1\\\"\\/>\\n<polyline clip-path=\\\"url(#clip2302)\\\" style=\\\"stroke:#000000; stroke-width:4; stroke-opacity:1; fill:none\\\" points=\\\"\\n  1644.96,1234.95 1644.96,1388.71 1907.3,1388.71 1907.3,1234.95 1644.96,1234.95 \\n  \\\"\\/>\\n<path clip-path=\\\"url(#clip2302)\\\" d=\\\"\\nM1972.88 1296.45 L1972.88 1388.71 L2235.22 1388.71 L2235.22 1296.45 L1972.88 1296.45 L1972.88 1296.45  Z\\n  \\\" fill=\\\"#009af9\\\" fill-rule=\\\"evenodd\\\" fill-opacity=\\\"1\\\"\\/>\\n<polyline clip-path=\\\"url(#clip2302)\\\" style=\\\"stroke:#000000; stroke-width:4; stroke-opacity:1; fill:none\\\" points=\\\"\\n  1972.88,1296.45 1972.88,1388.71 2235.22,1388.71 2235.22,1296.45 1972.88,1296.45 \\n  \\\"\\/>\\n<polyline clip-path=\\\"url(#clip2302)\\\" style=\\\"stroke:#e26f46; stroke-width:4; stroke-opacity:1; fill:none\\\" stroke-dasharray=\\\"16, 10\\\" points=\\\"\\n  825.17,2729.56 825.17,-1182.27 \\n  \\\"\\/>\\n<path clip-path=\\\"url(#clip2300)\\\" d=\\\"\\nM1826.71 326.155 L2280.76 326.155 L2280.76 205.195 L1826.71 205.195  Z\\n  \\\" fill=\\\"#ffffff\\\" fill-rule=\\\"evenodd\\\" fill-opacity=\\\"1\\\"\\/>\\n<polyline clip-path=\\\"url(#clip2300)\\\" style=\\\"stroke:#000000; stroke-width:4; stroke-opacity:1; fill:none\\\" points=\\\"\\n  1826.71,326.155 2280.76,326.155 2280.76,205.195 1826.71,205.195 1826.71,326.155 \\n  \\\"\\/>\\n<polyline clip-path=\\\"url(#clip2300)\\\" style=\\\"stroke:#e26f46; stroke-width:4; stroke-opacity:1; fill:none\\\" stroke-dasharray=\\\"16, 10\\\" points=\\\"\\n  1850.71,265.675 1994.71,265.675 \\n  \\\"\\/>\\n<g clip-path=\\\"url(#clip2300)\\\">\\n<text style=\\\"fill:#000000; fill-opacity:1; font-family:Arial,Helvetica Neue,Helvetica,sans-serif; font-size:48px; text-anchor:start;\\\" transform=\\\"rotate(0, 2018.71, 283.175)\\\" x=\\\"2018.71\\\" y=\\\"283.175\\\">tau_mean<\\/text>\\n<\\/g>\\n<\\/svg>\\n\"},\"nodeType\":\"DOM\",\"type\":\"node\",\"instanceArgs\":{\"namespace\":\"html\",\"tag\":\"div\"},\"children\":[]}]}}}},\"children\":[{\"props\":{},\"nodeType\":\"ObservableNode\",\"type\":\"node\",\"instanceArgs\":{\"id\":\"11219819659218805056\",\"name\":\"obs-node\"},\"children\":[]}]}]},\n",
       "            window,\n",
       "        );\n",
       "    } else {\n",
       "        document\n",
       "            .querySelector('[data-webio-mountpoint=\"12008859360117910926\"]')\n",
       "            .innerHTML = (\n",
       "                '<strong>WebIO not detected. Please read ' +\n",
       "                '<a href=\"https://juliagizmos.github.io/WebIO.jl/latest/troubleshooting/not-detected/\">the troubleshooting guide</a> ' +\n",
       "                'for more information on how to resolve this issue.' +\n",
       "                '</strong>'\n",
       "            );\n",
       "    }\n",
       "    </script>\n",
       "</div>\n"
      ],
      "text/plain": [
       "Node{WebIO.DOM}(WebIO.DOM(:html, :div), Any[Node{WebIO.DOM}(WebIO.DOM(:html, :div), Any[Scope(Node{WebIO.DOM}(WebIO.DOM(:html, :div), Any[Node{WebIO.DOM}(WebIO.DOM(:html, :div), Any[Node{WebIO.DOM}(WebIO.DOM(:html, :label), Any[\"p\"], Dict{Symbol,Any}(:className => \"interact \",:style => Dict{Any,Any}(:padding => \"5px 10px 0px 10px\")))], Dict{Symbol,Any}(:className => \"interact-flex-row-left\")), Node{WebIO.DOM}(WebIO.DOM(:html, :div), Any[Node{WebIO.DOM}(WebIO.DOM(:html, :input), Any[], Dict{Symbol,Any}(:max => 10,:min => 1,:attributes => Dict{Any,Any}(:type => \"range\",Symbol(\"data-bind\") => \"numericValue: index, valueUpdate: 'input', event: {change: function (){this.changes(this.changes()+1)}}\",\"orient\" => \"horizontal\"),:step => 1,:className => \"slider slider is-fullwidth\",:style => Dict{Any,Any}()))], Dict{Symbol,Any}(:className => \"interact-flex-row-center\")), Node{WebIO.DOM}(WebIO.DOM(:html, :div), Any[Node{WebIO.DOM}(WebIO.DOM(:html, :p), Any[], Dict{Symbol,Any}(:attributes => Dict(\"data-bind\" => \"text: formatted_val\")))], Dict{Symbol,Any}(:className => \"interact-flex-row-right\"))], Dict{Symbol,Any}(:className => \"interact-flex-row interact-widget\")), Dict{String,Tuple{Observables.AbstractObservable,Union{Nothing, Bool}}}(\"changes\" => (Observable{Int64} with 1 listeners. Value:\n",
       "0, nothing),\"index\" => (Observable{Any} with 2 listeners. Value:\n",
       "5, nothing)), Set(String[]), nothing, Asset[Asset(\"js\", \"knockout\", \"/Users/dan/.julia/packages/Knockout/IP1uR/src/../assets/knockout.js\"), Asset(\"js\", \"knockout_punches\", \"/Users/dan/.julia/packages/Knockout/IP1uR/src/../assets/knockout_punches.js\"), Asset(\"js\", nothing, \"/Users/dan/.julia/packages/InteractBase/NMcus/src/../assets/all.js\"), Asset(\"css\", nothing, \"/Users/dan/.julia/packages/InteractBase/NMcus/src/../assets/style.css\"), Asset(\"css\", nothing, \"/Users/dan/.julia/packages/Interact/SbgIk/src/../assets/bulma_confined.min.css\")], Dict{Any,Any}(\"changes\" => Any[WebIO.JSString(\"(function (val){return (val!=this.model[\\\"changes\\\"]()) ? (this.valueFromJulia[\\\"changes\\\"]=true, this.model[\\\"changes\\\"](val)) : undefined})\")],\"index\" => Any[WebIO.JSString(\"(function (val){return (val!=this.model[\\\"index\\\"]()) ? (this.valueFromJulia[\\\"index\\\"]=true, this.model[\\\"index\\\"](val)) : undefined})\")]), WebIO.ConnectionPool(Channel{Any}(sz_max:32,sz_curr:0), Set(AbstractConnection[]), Base.GenericCondition{Base.AlwaysLockedST}(Base.InvasiveLinkedList{Task}(Task (runnable) @0x000000010d6d5450, Task (runnable) @0x000000010d6d5450), Base.AlwaysLockedST(1))), WebIO.JSString[WebIO.JSString(\"function () {\\n    var handler = (function (ko, koPunches) {\\n    ko.punches.enableAll();\\n    ko.bindingHandlers.numericValue = {\\n        init: function(element, valueAccessor, allBindings, data, context) {\\n            var stringified = ko.observable(ko.unwrap(valueAccessor()));\\n            stringified.subscribe(function(value) {\\n                var val = parseFloat(value);\\n                if (!isNaN(val)) {\\n                    valueAccessor()(val);\\n                }\\n            });\\n            valueAccessor().subscribe(function(value) {\\n                var str = JSON.stringify(value);\\n                if ((str == \\\"0\\\") && ([\\\"-0\\\", \\\"-0.\\\"].indexOf(stringified()) >= 0))\\n                     return;\\n                 if ([\\\"null\\\", \\\"\\\"].indexOf(str) >= 0)\\n                     return;\\n                stringified(str);\\n            });\\n            ko.applyBindingsToNode(\\n                element,\\n                {\\n                    value: stringified,\\n                    valueUpdate: allBindings.get('valueUpdate'),\\n                },\\n                context,\\n            );\\n        }\\n    };\\n    var json_data = {\\\"formatted_vals\\\":[\\\"0.1\\\",\\\"0.2\\\",\\\"0.3\\\",\\\"0.4\\\",\\\"0.5\\\",\\\"0.6\\\",\\\"0.7\\\",\\\"0.8\\\",\\\"0.9\\\",\\\"1.0\\\"],\\\"changes\\\":WebIO.getval({\\\"name\\\":\\\"changes\\\",\\\"scope\\\":\\\"1038108401888968370\\\",\\\"id\\\":\\\"17816014312455813383\\\",\\\"type\\\":\\\"observable\\\"}),\\\"index\\\":WebIO.getval({\\\"name\\\":\\\"index\\\",\\\"scope\\\":\\\"1038108401888968370\\\",\\\"id\\\":\\\"5007471761566300981\\\",\\\"type\\\":\\\"observable\\\"})};\\n    var self = this;\\n    function AppViewModel() {\\n        for (var key in json_data) {\\n            var el = json_data[key];\\n            this[key] = Array.isArray(el) ? ko.observableArray(el) : ko.observable(el);\\n        }\\n        \\n        [this[\\\"formatted_val\\\"]=ko.computed(    function(){\\n        return this.formatted_vals()[parseInt(this.index())-(1)];\\n    }\\n,this)]\\n        [this[\\\"changes\\\"].subscribe((function (val){!(this.valueFromJulia[\\\"changes\\\"]) ? (WebIO.setval({\\\"name\\\":\\\"changes\\\",\\\"scope\\\":\\\"1038108401888968370\\\",\\\"id\\\":\\\"17816014312455813383\\\",\\\"type\\\":\\\"observable\\\"},val)) : undefined; return this.valueFromJulia[\\\"changes\\\"]=false}),self),this[\\\"index\\\"].subscribe((function (val){!(this.valueFromJulia[\\\"index\\\"]) ? (WebIO.setval({\\\"name\\\":\\\"index\\\",\\\"scope\\\":\\\"1038108401888968370\\\",\\\"id\\\":\\\"5007471761566300981\\\",\\\"type\\\":\\\"observable\\\"},val)) : undefined; return this.valueFromJulia[\\\"index\\\"]=false}),self)]\\n        \\n    }\\n    self.model = new AppViewModel();\\n    self.valueFromJulia = {};\\n    for (var key in json_data) {\\n        self.valueFromJulia[key] = false;\\n    }\\n    ko.applyBindings(self.model, self.dom);\\n}\\n);\\n    (WebIO.importBlock({\\\"data\\\":[{\\\"name\\\":\\\"knockout\\\",\\\"type\\\":\\\"js\\\",\\\"url\\\":\\\"/assetserver/847903f5df732148b510ba93542242ba69c4346c-knockout.js\\\"},{\\\"name\\\":\\\"knockout_punches\\\",\\\"type\\\":\\\"js\\\",\\\"url\\\":\\\"/assetserver/c0b325de111f2589153d52b7b74e82babec63146-knockout_punches.js\\\"}],\\\"type\\\":\\\"async_block\\\"})).then((imports) => handler.apply(this, imports));\\n}\\n\")])], Dict{Symbol,Any}(:className => \"field interact-widget\")), Node{WebIO.DOM}(WebIO.DOM(:html, :div), Any[Scope(Node{WebIO.DOM}(WebIO.DOM(:html, :div), Any[Node{WebIO.DOM}(WebIO.DOM(:html, :div), Any[Node{WebIO.DOM}(WebIO.DOM(:html, :label), Any[\"N\"], Dict{Symbol,Any}(:className => \"interact \",:style => Dict{Any,Any}(:padding => \"5px 10px 0px 10px\")))], Dict{Symbol,Any}(:className => \"interact-flex-row-left\")), Node{WebIO.DOM}(WebIO.DOM(:html, :div), Any[Node{WebIO.DOM}(WebIO.DOM(:html, :input), Any[], Dict{Symbol,Any}(:max => 6,:min => 1,:attributes => Dict{Any,Any}(:type => \"range\",Symbol(\"data-bind\") => \"numericValue: index, valueUpdate: 'input', event: {change: function (){this.changes(this.changes()+1)}}\",\"orient\" => \"horizontal\"),:step => 1,:className => \"slider slider is-fullwidth\",:style => Dict{Any,Any}()))], Dict{Symbol,Any}(:className => \"interact-flex-row-center\")), Node{WebIO.DOM}(WebIO.DOM(:html, :div), Any[Node{WebIO.DOM}(WebIO.DOM(:html, :p), Any[], Dict{Symbol,Any}(:attributes => Dict(\"data-bind\" => \"text: formatted_val\")))], Dict{Symbol,Any}(:className => \"interact-flex-row-right\"))], Dict{Symbol,Any}(:className => \"interact-flex-row interact-widget\")), Dict{String,Tuple{Observables.AbstractObservable,Union{Nothing, Bool}}}(\"changes\" => (Observable{Int64} with 1 listeners. Value:\n",
       "0, nothing),\"index\" => (Observable{Any} with 2 listeners. Value:\n",
       "3, nothing)), Set(String[]), nothing, Asset[Asset(\"js\", \"knockout\", \"/Users/dan/.julia/packages/Knockout/IP1uR/src/../assets/knockout.js\"), Asset(\"js\", \"knockout_punches\", \"/Users/dan/.julia/packages/Knockout/IP1uR/src/../assets/knockout_punches.js\"), Asset(\"js\", nothing, \"/Users/dan/.julia/packages/InteractBase/NMcus/src/../assets/all.js\"), Asset(\"css\", nothing, \"/Users/dan/.julia/packages/InteractBase/NMcus/src/../assets/style.css\"), Asset(\"css\", nothing, \"/Users/dan/.julia/packages/Interact/SbgIk/src/../assets/bulma_confined.min.css\")], Dict{Any,Any}(\"changes\" => Any[WebIO.JSString(\"(function (val){return (val!=this.model[\\\"changes\\\"]()) ? (this.valueFromJulia[\\\"changes\\\"]=true, this.model[\\\"changes\\\"](val)) : undefined})\")],\"index\" => Any[WebIO.JSString(\"(function (val){return (val!=this.model[\\\"index\\\"]()) ? (this.valueFromJulia[\\\"index\\\"]=true, this.model[\\\"index\\\"](val)) : undefined})\")]), WebIO.ConnectionPool(Channel{Any}(sz_max:32,sz_curr:0), Set(AbstractConnection[]), Base.GenericCondition{Base.AlwaysLockedST}(Base.InvasiveLinkedList{Task}(Task (runnable) @0x000000010cdeef50, Task (runnable) @0x000000010cdeef50), Base.AlwaysLockedST(1))), WebIO.JSString[WebIO.JSString(\"function () {\\n    var handler = (function (ko, koPunches) {\\n    ko.punches.enableAll();\\n    ko.bindingHandlers.numericValue = {\\n        init: function(element, valueAccessor, allBindings, data, context) {\\n            var stringified = ko.observable(ko.unwrap(valueAccessor()));\\n            stringified.subscribe(function(value) {\\n                var val = parseFloat(value);\\n                if (!isNaN(val)) {\\n                    valueAccessor()(val);\\n                }\\n            });\\n            valueAccessor().subscribe(function(value) {\\n                var str = JSON.stringify(value);\\n                if ((str == \\\"0\\\") && ([\\\"-0\\\", \\\"-0.\\\"].indexOf(stringified()) >= 0))\\n                     return;\\n                 if ([\\\"null\\\", \\\"\\\"].indexOf(str) >= 0)\\n                     return;\\n                stringified(str);\\n            });\\n            ko.applyBindingsToNode(\\n                element,\\n                {\\n                    value: stringified,\\n                    valueUpdate: allBindings.get('valueUpdate'),\\n                },\\n                context,\\n            );\\n        }\\n    };\\n    var json_data = {\\\"formatted_vals\\\":[\\\"1\\\",\\\"10\\\",\\\"100\\\",\\\"1000\\\",\\\"10000\\\",\\\"100000\\\"],\\\"changes\\\":WebIO.getval({\\\"name\\\":\\\"changes\\\",\\\"scope\\\":\\\"7202780362914876039\\\",\\\"id\\\":\\\"8371123162967185347\\\",\\\"type\\\":\\\"observable\\\"}),\\\"index\\\":WebIO.getval({\\\"name\\\":\\\"index\\\",\\\"scope\\\":\\\"7202780362914876039\\\",\\\"id\\\":\\\"17711443218730868386\\\",\\\"type\\\":\\\"observable\\\"})};\\n    var self = this;\\n    function AppViewModel() {\\n        for (var key in json_data) {\\n            var el = json_data[key];\\n            this[key] = Array.isArray(el) ? ko.observableArray(el) : ko.observable(el);\\n        }\\n        \\n        [this[\\\"formatted_val\\\"]=ko.computed(    function(){\\n        return this.formatted_vals()[parseInt(this.index())-(1)];\\n    }\\n,this)]\\n        [this[\\\"changes\\\"].subscribe((function (val){!(this.valueFromJulia[\\\"changes\\\"]) ? (WebIO.setval({\\\"name\\\":\\\"changes\\\",\\\"scope\\\":\\\"7202780362914876039\\\",\\\"id\\\":\\\"8371123162967185347\\\",\\\"type\\\":\\\"observable\\\"},val)) : undefined; return this.valueFromJulia[\\\"changes\\\"]=false}),self),this[\\\"index\\\"].subscribe((function (val){!(this.valueFromJulia[\\\"index\\\"]) ? (WebIO.setval({\\\"name\\\":\\\"index\\\",\\\"scope\\\":\\\"7202780362914876039\\\",\\\"id\\\":\\\"17711443218730868386\\\",\\\"type\\\":\\\"observable\\\"},val)) : undefined; return this.valueFromJulia[\\\"index\\\"]=false}),self)]\\n        \\n    }\\n    self.model = new AppViewModel();\\n    self.valueFromJulia = {};\\n    for (var key in json_data) {\\n        self.valueFromJulia[key] = false;\\n    }\\n    ko.applyBindings(self.model, self.dom);\\n}\\n);\\n    (WebIO.importBlock({\\\"data\\\":[{\\\"name\\\":\\\"knockout\\\",\\\"type\\\":\\\"js\\\",\\\"url\\\":\\\"/assetserver/847903f5df732148b510ba93542242ba69c4346c-knockout.js\\\"},{\\\"name\\\":\\\"knockout_punches\\\",\\\"type\\\":\\\"js\\\",\\\"url\\\":\\\"/assetserver/c0b325de111f2589153d52b7b74e82babec63146-knockout_punches.js\\\"}],\\\"type\\\":\\\"async_block\\\"})).then((imports) => handler.apply(this, imports));\\n}\\n\")])], Dict{Symbol,Any}(:className => \"field interact-widget\")), Observable{Any} with 0 listeners. Value:\n",
       "Node{WebIO.DOM}(WebIO.DOM(:html, :div), Any[Plot{Plots.GRBackend() n=2}], Dict{Symbol,Any}(:className => \"interact-flex-row interact-widget\"))], Dict{Symbol,Any}())"
      ]
     },
     "execution_count": 20,
     "metadata": {
      "application/vnd.webio.node+json": {
       "kernelId": "61dd9ceb-ee8b-4b1e-aaeb-0fa4699f6c90"
      }
     },
     "output_type": "execute_result"
    }
   ],
   "source": [
    "using Interact\n",
    "\n",
    "linspace(a,b,n) = range(a,stop=b,length=n)\n",
    "logspace(a::Int,b::Int,n) = map(Int,map(round, 10 .^ linspace(log10(a),log10(b),n)))\n",
    "\n",
    "@manipulate for p in linspace(0,1,11)[2:end], N=logspace(1, 10^5, 6)\n",
    "  make_recovery_plot(p, N)\n",
    "end\n"
   ]
  },
  {
   "cell_type": "markdown",
   "metadata": {},
   "source": [
    "#### As you decrease p, the expected tau tends towards infinity...\n",
    "\n",
    "----\n"
   ]
  },
  {
   "cell_type": "markdown",
   "metadata": {},
   "source": [
    "\n",
    "### 8. Fix $N = 10,000$ and calculate the *mean* time $\\langle \\tau(p) \\rangle$ to recover. \n",
    "\n",
    "+ Plot this as a function of $p$.\n",
    "+ Can you find the relationship between the two quantities?"
   ]
  },
  {
   "cell_type": "code",
   "execution_count": 21,
   "metadata": {},
   "outputs": [
    {
     "data": {
      "image/svg+xml": [
       "<?xml version=\"1.0\" encoding=\"utf-8\"?>\n",
       "<svg xmlns=\"http://www.w3.org/2000/svg\" xmlns:xlink=\"http://www.w3.org/1999/xlink\" width=\"600\" height=\"400\" viewBox=\"0 0 2400 1600\">\n",
       "<defs>\n",
       "  <clipPath id=\"clip3100\">\n",
       "    <rect x=\"0\" y=\"0\" width=\"2400\" height=\"1600\"/>\n",
       "  </clipPath>\n",
       "</defs>\n",
       "<path clip-path=\"url(#clip3100)\" d=\"\n",
       "M0 1600 L2400 1600 L2400 0 L0 0  Z\n",
       "  \" fill=\"#ffffff\" fill-rule=\"evenodd\" fill-opacity=\"1\"/>\n",
       "<defs>\n",
       "  <clipPath id=\"clip3101\">\n",
       "    <rect x=\"480\" y=\"0\" width=\"1681\" height=\"1600\"/>\n",
       "  </clipPath>\n",
       "</defs>\n",
       "<path clip-path=\"url(#clip3100)\" d=\"\n",
       "M180.66 1425.62 L2352.76 1425.62 L2352.76 121.675 L180.66 121.675  Z\n",
       "  \" fill=\"#ffffff\" fill-rule=\"evenodd\" fill-opacity=\"1\"/>\n",
       "<defs>\n",
       "  <clipPath id=\"clip3102\">\n",
       "    <rect x=\"180\" y=\"121\" width=\"2173\" height=\"1305\"/>\n",
       "  </clipPath>\n",
       "</defs>\n",
       "<polyline clip-path=\"url(#clip3102)\" style=\"stroke:#000000; stroke-width:2; stroke-opacity:0.1; fill:none\" points=\"\n",
       "  236.999,1425.62 236.999,121.675 \n",
       "  \"/>\n",
       "<polyline clip-path=\"url(#clip3102)\" style=\"stroke:#000000; stroke-width:2; stroke-opacity:0.1; fill:none\" points=\"\n",
       "  750.57,1425.62 750.57,121.675 \n",
       "  \"/>\n",
       "<polyline clip-path=\"url(#clip3102)\" style=\"stroke:#000000; stroke-width:2; stroke-opacity:0.1; fill:none\" points=\"\n",
       "  1264.14,1425.62 1264.14,121.675 \n",
       "  \"/>\n",
       "<polyline clip-path=\"url(#clip3102)\" style=\"stroke:#000000; stroke-width:2; stroke-opacity:0.1; fill:none\" points=\"\n",
       "  1777.71,1425.62 1777.71,121.675 \n",
       "  \"/>\n",
       "<polyline clip-path=\"url(#clip3102)\" style=\"stroke:#000000; stroke-width:2; stroke-opacity:0.1; fill:none\" points=\"\n",
       "  2291.28,1425.62 2291.28,121.675 \n",
       "  \"/>\n",
       "<polyline clip-path=\"url(#clip3102)\" style=\"stroke:#000000; stroke-width:2; stroke-opacity:0.1; fill:none\" points=\"\n",
       "  180.66,1391.78 2352.76,1391.78 \n",
       "  \"/>\n",
       "<polyline clip-path=\"url(#clip3102)\" style=\"stroke:#000000; stroke-width:2; stroke-opacity:0.1; fill:none\" points=\"\n",
       "  180.66,1083.48 2352.76,1083.48 \n",
       "  \"/>\n",
       "<polyline clip-path=\"url(#clip3102)\" style=\"stroke:#000000; stroke-width:2; stroke-opacity:0.1; fill:none\" points=\"\n",
       "  180.66,775.179 2352.76,775.179 \n",
       "  \"/>\n",
       "<polyline clip-path=\"url(#clip3102)\" style=\"stroke:#000000; stroke-width:2; stroke-opacity:0.1; fill:none\" points=\"\n",
       "  180.66,466.879 2352.76,466.879 \n",
       "  \"/>\n",
       "<polyline clip-path=\"url(#clip3102)\" style=\"stroke:#000000; stroke-width:2; stroke-opacity:0.1; fill:none\" points=\"\n",
       "  180.66,158.579 2352.76,158.579 \n",
       "  \"/>\n",
       "<polyline clip-path=\"url(#clip3100)\" style=\"stroke:#000000; stroke-width:4; stroke-opacity:1; fill:none\" points=\"\n",
       "  180.66,1425.62 2352.76,1425.62 \n",
       "  \"/>\n",
       "<polyline clip-path=\"url(#clip3100)\" style=\"stroke:#000000; stroke-width:4; stroke-opacity:1; fill:none\" points=\"\n",
       "  180.66,1425.62 180.66,121.675 \n",
       "  \"/>\n",
       "<polyline clip-path=\"url(#clip3100)\" style=\"stroke:#000000; stroke-width:4; stroke-opacity:1; fill:none\" points=\"\n",
       "  236.999,1425.62 236.999,1409.97 \n",
       "  \"/>\n",
       "<polyline clip-path=\"url(#clip3100)\" style=\"stroke:#000000; stroke-width:4; stroke-opacity:1; fill:none\" points=\"\n",
       "  750.57,1425.62 750.57,1409.97 \n",
       "  \"/>\n",
       "<polyline clip-path=\"url(#clip3100)\" style=\"stroke:#000000; stroke-width:4; stroke-opacity:1; fill:none\" points=\"\n",
       "  1264.14,1425.62 1264.14,1409.97 \n",
       "  \"/>\n",
       "<polyline clip-path=\"url(#clip3100)\" style=\"stroke:#000000; stroke-width:4; stroke-opacity:1; fill:none\" points=\"\n",
       "  1777.71,1425.62 1777.71,1409.97 \n",
       "  \"/>\n",
       "<polyline clip-path=\"url(#clip3100)\" style=\"stroke:#000000; stroke-width:4; stroke-opacity:1; fill:none\" points=\"\n",
       "  2291.28,1425.62 2291.28,1409.97 \n",
       "  \"/>\n",
       "<polyline clip-path=\"url(#clip3100)\" style=\"stroke:#000000; stroke-width:4; stroke-opacity:1; fill:none\" points=\"\n",
       "  180.66,1391.78 206.725,1391.78 \n",
       "  \"/>\n",
       "<polyline clip-path=\"url(#clip3100)\" style=\"stroke:#000000; stroke-width:4; stroke-opacity:1; fill:none\" points=\"\n",
       "  180.66,1083.48 206.725,1083.48 \n",
       "  \"/>\n",
       "<polyline clip-path=\"url(#clip3100)\" style=\"stroke:#000000; stroke-width:4; stroke-opacity:1; fill:none\" points=\"\n",
       "  180.66,775.179 206.725,775.179 \n",
       "  \"/>\n",
       "<polyline clip-path=\"url(#clip3100)\" style=\"stroke:#000000; stroke-width:4; stroke-opacity:1; fill:none\" points=\"\n",
       "  180.66,466.879 206.725,466.879 \n",
       "  \"/>\n",
       "<polyline clip-path=\"url(#clip3100)\" style=\"stroke:#000000; stroke-width:4; stroke-opacity:1; fill:none\" points=\"\n",
       "  180.66,158.579 206.725,158.579 \n",
       "  \"/>\n",
       "<g clip-path=\"url(#clip3100)\">\n",
       "<text style=\"fill:#000000; fill-opacity:1; font-family:Arial,Helvetica Neue,Helvetica,sans-serif; font-size:48px; text-anchor:middle;\" transform=\"rotate(0, 236.999, 1479.62)\" x=\"236.999\" y=\"1479.62\">0.00</text>\n",
       "</g>\n",
       "<g clip-path=\"url(#clip3100)\">\n",
       "<text style=\"fill:#000000; fill-opacity:1; font-family:Arial,Helvetica Neue,Helvetica,sans-serif; font-size:48px; text-anchor:middle;\" transform=\"rotate(0, 750.57, 1479.62)\" x=\"750.57\" y=\"1479.62\">0.25</text>\n",
       "</g>\n",
       "<g clip-path=\"url(#clip3100)\">\n",
       "<text style=\"fill:#000000; fill-opacity:1; font-family:Arial,Helvetica Neue,Helvetica,sans-serif; font-size:48px; text-anchor:middle;\" transform=\"rotate(0, 1264.14, 1479.62)\" x=\"1264.14\" y=\"1479.62\">0.50</text>\n",
       "</g>\n",
       "<g clip-path=\"url(#clip3100)\">\n",
       "<text style=\"fill:#000000; fill-opacity:1; font-family:Arial,Helvetica Neue,Helvetica,sans-serif; font-size:48px; text-anchor:middle;\" transform=\"rotate(0, 1777.71, 1479.62)\" x=\"1777.71\" y=\"1479.62\">0.75</text>\n",
       "</g>\n",
       "<g clip-path=\"url(#clip3100)\">\n",
       "<text style=\"fill:#000000; fill-opacity:1; font-family:Arial,Helvetica Neue,Helvetica,sans-serif; font-size:48px; text-anchor:middle;\" transform=\"rotate(0, 2291.28, 1479.62)\" x=\"2291.28\" y=\"1479.62\">1.00</text>\n",
       "</g>\n",
       "<g clip-path=\"url(#clip3100)\">\n",
       "<text style=\"fill:#000000; fill-opacity:1; font-family:Arial,Helvetica Neue,Helvetica,sans-serif; font-size:48px; text-anchor:end;\" transform=\"rotate(0, 156.66, 1409.28)\" x=\"156.66\" y=\"1409.28\">0.00</text>\n",
       "</g>\n",
       "<g clip-path=\"url(#clip3100)\">\n",
       "<text style=\"fill:#000000; fill-opacity:1; font-family:Arial,Helvetica Neue,Helvetica,sans-serif; font-size:48px; text-anchor:end;\" transform=\"rotate(0, 156.66, 1100.98)\" x=\"156.66\" y=\"1100.98\">0.25</text>\n",
       "</g>\n",
       "<g clip-path=\"url(#clip3100)\">\n",
       "<text style=\"fill:#000000; fill-opacity:1; font-family:Arial,Helvetica Neue,Helvetica,sans-serif; font-size:48px; text-anchor:end;\" transform=\"rotate(0, 156.66, 792.679)\" x=\"156.66\" y=\"792.679\">0.50</text>\n",
       "</g>\n",
       "<g clip-path=\"url(#clip3100)\">\n",
       "<text style=\"fill:#000000; fill-opacity:1; font-family:Arial,Helvetica Neue,Helvetica,sans-serif; font-size:48px; text-anchor:end;\" transform=\"rotate(0, 156.66, 484.379)\" x=\"156.66\" y=\"484.379\">0.75</text>\n",
       "</g>\n",
       "<g clip-path=\"url(#clip3100)\">\n",
       "<text style=\"fill:#000000; fill-opacity:1; font-family:Arial,Helvetica Neue,Helvetica,sans-serif; font-size:48px; text-anchor:end;\" transform=\"rotate(0, 156.66, 176.079)\" x=\"156.66\" y=\"176.079\">1.00</text>\n",
       "</g>\n",
       "<g clip-path=\"url(#clip3100)\">\n",
       "<text style=\"fill:#000000; fill-opacity:1; font-family:Arial,Helvetica Neue,Helvetica,sans-serif; font-size:84px; text-anchor:middle;\" transform=\"rotate(0, 1266.71, 73.2)\" x=\"1266.71\" y=\"73.2\">tau = 1/p</text>\n",
       "</g>\n",
       "<g clip-path=\"url(#clip3100)\">\n",
       "<text style=\"fill:#000000; fill-opacity:1; font-family:Arial,Helvetica Neue,Helvetica,sans-serif; font-size:66px; text-anchor:middle;\" transform=\"rotate(0, 1266.71, 1559.48)\" x=\"1266.71\" y=\"1559.48\">tau</text>\n",
       "</g>\n",
       "<polyline clip-path=\"url(#clip3102)\" style=\"stroke:#009af9; stroke-width:4; stroke-opacity:1; fill:none\" points=\"\n",
       "  242.135,1388.71 247.27,1385.57 252.406,1382.52 257.542,1379.37 262.678,1376.21 267.813,1373.33 272.949,1370.22 278.085,1367.37 283.22,1364.63 288.356,1361.32 \n",
       "  293.492,1358.69 298.627,1354.66 303.763,1350.87 308.899,1348.04 314.035,1345.77 319.17,1342.82 324.306,1340.3 329.442,1336.18 334.577,1332.78 339.713,1328.46 \n",
       "  344.849,1328.17 349.985,1324.18 355.12,1321.62 360.256,1318.01 365.392,1315.53 370.527,1311.52 375.663,1308.95 380.799,1304.92 385.934,1302.7 391.07,1298.99 \n",
       "  396.206,1296.69 401.342,1293.68 406.477,1291 411.613,1286.97 416.749,1283.15 421.884,1281.38 427.02,1277.59 432.156,1273.95 437.292,1271.42 442.427,1270.05 \n",
       "  447.563,1265.56 452.699,1263.23 457.834,1257.21 462.97,1255.39 468.106,1251.65 473.241,1250.13 478.377,1246.9 483.513,1244.36 488.649,1239.04 493.784,1239.5 \n",
       "  498.92,1232.62 504.056,1230.22 509.191,1228.19 514.327,1224.1 519.463,1220.68 524.599,1219.15 529.734,1213.87 534.87,1213.17 540.006,1212.31 545.141,1203.76 \n",
       "  550.277,1204.66 555.413,1200.49 560.549,1196.34 565.684,1192.79 570.82,1186.88 575.956,1189.89 581.091,1187.82 586.227,1181.29 591.363,1178.51 596.498,1176.23 \n",
       "  601.634,1176.26 606.77,1168.27 611.906,1168.01 617.041,1165.7 622.177,1159.66 627.313,1161.05 632.448,1155.81 637.584,1147.9 642.72,1146.34 647.856,1146.7 \n",
       "  652.991,1142.48 658.127,1134.86 663.263,1135.65 668.398,1130.67 673.534,1128.29 678.67,1128.8 683.805,1128.33 688.941,1118.92 694.077,1117.69 699.213,1113.37 \n",
       "  704.348,1110.21 709.484,1109.03 714.62,1107.48 719.755,1100.72 724.891,1093.83 730.027,1093.96 735.163,1087.72 740.298,1088.28 745.434,1092.23 750.57,1085.66 \n",
       "  755.705,1085.43 760.841,1075.6 765.977,1073.11 771.112,1072.84 776.248,1070.13 781.384,1064.67 786.52,1063.06 791.655,1059.04 796.791,1057.44 801.927,1048.92 \n",
       "  807.062,1051.85 812.198,1048.8 817.334,1042.22 822.47,1039.24 827.605,1034.88 832.741,1032.73 837.877,1026.46 843.012,1028.55 848.148,1022.56 853.284,1021.28 \n",
       "  858.419,1015.1 863.555,1021.48 868.691,1009.57 873.827,1010.53 878.962,1009.58 884.098,1003.93 889.234,996.561 894.369,998.74 899.505,986.228 904.641,990.451 \n",
       "  909.777,990.895 914.912,980.438 920.048,977.481 925.184,971.136 930.319,974 935.455,963.674 940.591,965.671 945.726,959.805 950.862,969.725 955.998,959.32 \n",
       "  961.134,950.815 966.269,953.775 971.405,950.341 976.541,945.517 981.676,946.853 986.812,941.854 991.948,939.444 997.084,938.33 1002.22,933.374 1007.35,931.921 \n",
       "  1012.49,918.709 1017.63,922.364 1022.76,921.128 1027.9,911.542 1033.03,912.829 1038.17,917.344 1043.3,904.059 1048.44,909.74 1053.58,902.453 1058.71,895.362 \n",
       "  1063.85,887.856 1068.98,888.637 1074.12,888.165 1079.25,887.568 1084.39,883.264 1089.53,886.493 1094.66,883.18 1099.8,878.929 1104.93,866.096 1110.07,870.782 \n",
       "  1115.2,868.438 1120.34,856.35 1125.48,858.48 1130.61,854.765 1135.75,847.728 1140.88,845.535 1146.02,845.946 1151.15,846.525 1156.29,840.727 1161.43,834.451 \n",
       "  1166.56,833.467 1171.7,825.493 1176.83,826.998 1181.97,824.869 1187.1,821.012 1192.24,815.867 1197.38,816.592 1202.51,807.629 1207.65,811.204 1212.78,797.065 \n",
       "  1217.92,798.951 1223.05,790.423 1228.19,796.519 1233.33,797.036 1238.46,794.24 1243.6,795.021 1248.73,791.419 1253.87,770.613 1259,779.344 1264.14,775.826 \n",
       "  1269.28,770.707 1274.41,764.037 1279.55,779.708 1284.68,769.642 1289.82,764.324 1294.95,753.378 1300.09,756.469 1305.23,753.642 1310.36,755.256 1315.5,747.407 \n",
       "  1320.63,736.693 1325.77,732.772 1330.9,736.519 1336.04,725.796 1341.18,727.232 1346.31,722.035 1351.45,720.796 1356.58,721.998 1361.72,718.672 1366.85,706.592 \n",
       "  1371.99,710.604 1377.13,706.135 1382.26,705.982 1387.4,706.82 1392.53,702.263 1397.67,684.507 1402.8,691.057 1407.94,698.581 1413.08,689.421 1418.21,684.588 \n",
       "  1423.35,673.34 1428.48,679.482 1433.62,674.51 1438.75,674.51 1443.89,661.729 1449.03,661.037 1454.16,664.27 1459.3,655.804 1464.43,660.17 1469.57,651.874 \n",
       "  1474.7,644.521 1479.84,644.43 1484.98,646.328 1490.11,639.048 1495.25,631.53 1500.38,628.471 1505.52,634.518 1510.65,623.909 1515.79,627.288 1520.93,618.031 \n",
       "  1526.06,622.135 1531.2,611.322 1536.33,607.75 1541.47,614.373 1546.6,604.446 1551.74,606.801 1556.88,600.455 1562.01,590.271 1567.15,588.601 1572.28,597.447 \n",
       "  1577.42,590.948 1582.55,575.523 1587.69,580.036 1592.83,579.822 1597.96,576.009 1603.1,568.823 1608.23,570.412 1613.37,563.572 1618.5,565.293 1623.64,562.235 \n",
       "  1628.78,551.896 1633.91,555.598 1639.05,552.354 1644.18,552.411 1649.32,547.411 1654.45,537.111 1659.59,533.602 1664.73,537.171 1669.86,524.489 1675,533.543 \n",
       "  1680.13,516.673 1685.27,522.471 1690.4,516.548 1695.54,509.977 1700.68,513.369 1705.81,504.521 1710.95,507.701 1716.08,502.858 1721.22,499.578 1726.35,500.094 \n",
       "  1731.49,494.906 1736.63,485.414 1741.76,493.992 1746.9,485.947 1752.03,490.844 1757.17,473.468 1762.3,476.059 1767.44,480.727 1772.58,479.311 1777.71,468.863 \n",
       "  1782.85,460.5 1787.98,464.77 1793.12,448.533 1798.25,452.27 1803.39,449.758 1808.53,451.625 1813.66,447.015 1818.8,450.764 1823.93,433.06 1829.07,438.912 \n",
       "  1834.2,433.507 1839.34,428.793 1844.48,421.748 1849.61,423.728 1854.75,424.108 1859.88,417.687 1865.02,415.374 1870.15,416.917 1875.29,408.915 1880.43,404.508 \n",
       "  1885.56,405.771 1890.7,404.745 1895.83,400.142 1900.97,386.644 1906.1,397.584 1911.24,384.674 1916.37,383.933 1921.51,391.698 1926.65,378.301 1931.78,373.531 \n",
       "  1936.92,367.271 1942.05,366.164 1947.19,357.823 1952.32,357.996 1957.46,364.369 1962.6,358.775 1967.73,355.215 1972.87,347.579 1978,354.431 1983.14,340.816 \n",
       "  1988.27,340.189 1993.41,341.8 1998.55,333.965 2003.68,336.86 2008.82,326.748 2013.95,317.844 2019.09,323.241 2024.22,317.844 2029.36,318.031 2034.5,315.501 \n",
       "  2039.63,309.74 2044.77,307.743 2049.9,307.933 2055.04,302.091 2060.17,298.711 2065.31,294.529 2070.45,293.747 2075.58,287.058 2080.72,284.28 2085.85,282.188 \n",
       "  2090.99,280.788 2096.12,278.079 2101.26,274.041 2106.4,274.447 2111.53,272.113 2116.67,269.362 2121.8,262.268 2126.94,251.722 2132.07,251.3 2137.21,250.139 \n",
       "  2142.35,248.869 2147.48,242.371 2152.62,240.009 2157.75,238.717 2162.89,235.148 2168.02,237.53 2173.16,227.614 2178.3,228.931 2183.43,221.538 2188.57,221.538 \n",
       "  2193.7,217.527 2198.84,216.183 2203.97,211.006 2209.11,209.421 2214.25,203.153 2219.38,203.382 2224.52,198.552 2229.65,194.265 2234.79,191.117 2239.92,188.657 \n",
       "  2245.06,187.6 2250.2,180.741 2255.33,180.86 2260.47,176.684 2265.6,173.443 2270.74,169.7 2275.87,168.124 2281.01,165.569 2286.15,161.286 2291.28,158.579 \n",
       "  \n",
       "  \"/>\n",
       "<path clip-path=\"url(#clip3100)\" d=\"\n",
       "M1888.27 326.155 L2280.76 326.155 L2280.76 205.195 L1888.27 205.195  Z\n",
       "  \" fill=\"#ffffff\" fill-rule=\"evenodd\" fill-opacity=\"1\"/>\n",
       "<polyline clip-path=\"url(#clip3100)\" style=\"stroke:#000000; stroke-width:4; stroke-opacity:1; fill:none\" points=\"\n",
       "  1888.27,326.155 2280.76,326.155 2280.76,205.195 1888.27,205.195 1888.27,326.155 \n",
       "  \"/>\n",
       "<polyline clip-path=\"url(#clip3100)\" style=\"stroke:#009af9; stroke-width:4; stroke-opacity:1; fill:none\" points=\"\n",
       "  1912.27,265.675 2056.27,265.675 \n",
       "  \"/>\n",
       "<g clip-path=\"url(#clip3100)\">\n",
       "<text style=\"fill:#000000; fill-opacity:1; font-family:Arial,Helvetica Neue,Helvetica,sans-serif; font-size:48px; text-anchor:start;\" transform=\"rotate(0, 2080.27, 283.175)\" x=\"2080.27\" y=\"283.175\">( 1 / p )</text>\n",
       "</g>\n",
       "</svg>\n"
      ]
     },
     "execution_count": 21,
     "metadata": {},
     "output_type": "execute_result"
    }
   ],
   "source": [
    "N = 10^4\n",
    "n = 400\n",
    "\n",
    "xx = linspace(0,1,n+1)[2:end]\n",
    "yy = []\n",
    "\n",
    "for p in xx\n",
    "  cur_experiment = experiment(p, N)\n",
    "  cur_distribution = probability_distribution(cur_experiment)\n",
    "\n",
    "  cur_mean_tau = calc_mean_tau(cur_distribution)\n",
    "  push!(yy, cur_mean_tau)\n",
    "end\n",
    "\n",
    "plot(\n",
    "  xx, 1 ./ yy, xlabel=\"tau\", \n",
    "  label=\"( 1 / p )\", title=\"tau = 1/p\"\n",
    ")"
   ]
  },
  {
   "cell_type": "markdown",
   "metadata": {},
   "source": [
    "----\n",
    "\n",
    "## Exercise 3: More efficient geometric distributions\n",
    "\n",
    "Let's use the notation $P_n := \\mathbb{P}(\\tau = n)$ for the probability to recover on the $n$th step.\n",
    "\n",
    "Probability theory tells us that in the limit of an infinite number of trials, we have the exact results $P_1 = p$, that $P_2 = p (1-p)$, and in general $P_n = p (1 - p)^{n-1}$.\n",
    "\n",
    "----"
   ]
  },
  {
   "cell_type": "markdown",
   "metadata": {},
   "source": [
    "### 1. Fix $p = 0.25$. Make a vector of the values $P_n$ for $n=1, \\dots, 50$\n",
    "\n"
   ]
  },
  {
   "cell_type": "code",
   "execution_count": 22,
   "metadata": {},
   "outputs": [],
   "source": [
    "p = 0.25\n",
    "\n",
    "max_n = 50\n",
    "n_list = 1:max_n\n",
    "\n",
    "P(n) = p * (1-p) ^ (n-1)\n",
    "P_list = P.(n_list)\n",
    "\n",
    "@assert P_list[1] == p\n",
    "@assert P_list[2] == p * (1-p)\n"
   ]
  },
  {
   "cell_type": "markdown",
   "metadata": {},
   "source": [
    "### 2. Plot $P_n$ as a function of $n$ and compare it to last exercise\n",
    "\n"
   ]
  },
  {
   "cell_type": "code",
   "execution_count": 23,
   "metadata": {},
   "outputs": [
    {
     "data": {
      "image/svg+xml": [
       "<?xml version=\"1.0\" encoding=\"utf-8\"?>\n",
       "<svg xmlns=\"http://www.w3.org/2000/svg\" xmlns:xlink=\"http://www.w3.org/1999/xlink\" width=\"600\" height=\"400\" viewBox=\"0 0 2400 1600\">\n",
       "<defs>\n",
       "  <clipPath id=\"clip3500\">\n",
       "    <rect x=\"0\" y=\"0\" width=\"2400\" height=\"1600\"/>\n",
       "  </clipPath>\n",
       "</defs>\n",
       "<path clip-path=\"url(#clip3500)\" d=\"\n",
       "M0 1600 L2400 1600 L2400 0 L0 0  Z\n",
       "  \" fill=\"#ffffff\" fill-rule=\"evenodd\" fill-opacity=\"1\"/>\n",
       "<defs>\n",
       "  <clipPath id=\"clip3501\">\n",
       "    <rect x=\"480\" y=\"0\" width=\"1681\" height=\"1600\"/>\n",
       "  </clipPath>\n",
       "</defs>\n",
       "<path clip-path=\"url(#clip3500)\" d=\"\n",
       "M242.516 1425.62 L2352.76 1425.62 L2352.76 121.675 L242.516 121.675  Z\n",
       "  \" fill=\"#ffffff\" fill-rule=\"evenodd\" fill-opacity=\"1\"/>\n",
       "<defs>\n",
       "  <clipPath id=\"clip3502\">\n",
       "    <rect x=\"242\" y=\"121\" width=\"2111\" height=\"1305\"/>\n",
       "  </clipPath>\n",
       "</defs>\n",
       "<polyline clip-path=\"url(#clip3502)\" style=\"stroke:#000000; stroke-width:2; stroke-opacity:0.1; fill:none\" points=\"\n",
       "  322.107,1425.62 322.107,121.675 \n",
       "  \"/>\n",
       "<polyline clip-path=\"url(#clip3502)\" style=\"stroke:#000000; stroke-width:2; stroke-opacity:0.1; fill:none\" points=\"\n",
       "  716.292,1425.62 716.292,121.675 \n",
       "  \"/>\n",
       "<polyline clip-path=\"url(#clip3502)\" style=\"stroke:#000000; stroke-width:2; stroke-opacity:0.1; fill:none\" points=\"\n",
       "  1110.48,1425.62 1110.48,121.675 \n",
       "  \"/>\n",
       "<polyline clip-path=\"url(#clip3502)\" style=\"stroke:#000000; stroke-width:2; stroke-opacity:0.1; fill:none\" points=\"\n",
       "  1504.66,1425.62 1504.66,121.675 \n",
       "  \"/>\n",
       "<polyline clip-path=\"url(#clip3502)\" style=\"stroke:#000000; stroke-width:2; stroke-opacity:0.1; fill:none\" points=\"\n",
       "  1898.85,1425.62 1898.85,121.675 \n",
       "  \"/>\n",
       "<polyline clip-path=\"url(#clip3502)\" style=\"stroke:#000000; stroke-width:2; stroke-opacity:0.1; fill:none\" points=\"\n",
       "  2293.03,1425.62 2293.03,121.675 \n",
       "  \"/>\n",
       "<polyline clip-path=\"url(#clip3502)\" style=\"stroke:#000000; stroke-width:2; stroke-opacity:0.1; fill:none\" points=\"\n",
       "  242.516,1388.71 2352.76,1388.71 \n",
       "  \"/>\n",
       "<polyline clip-path=\"url(#clip3502)\" style=\"stroke:#000000; stroke-width:2; stroke-opacity:0.1; fill:none\" points=\"\n",
       "  242.516,1150.32 2352.76,1150.32 \n",
       "  \"/>\n",
       "<polyline clip-path=\"url(#clip3502)\" style=\"stroke:#000000; stroke-width:2; stroke-opacity:0.1; fill:none\" points=\"\n",
       "  242.516,911.918 2352.76,911.918 \n",
       "  \"/>\n",
       "<polyline clip-path=\"url(#clip3502)\" style=\"stroke:#000000; stroke-width:2; stroke-opacity:0.1; fill:none\" points=\"\n",
       "  242.516,673.52 2352.76,673.52 \n",
       "  \"/>\n",
       "<polyline clip-path=\"url(#clip3502)\" style=\"stroke:#000000; stroke-width:2; stroke-opacity:0.1; fill:none\" points=\"\n",
       "  242.516,435.121 2352.76,435.121 \n",
       "  \"/>\n",
       "<polyline clip-path=\"url(#clip3502)\" style=\"stroke:#000000; stroke-width:2; stroke-opacity:0.1; fill:none\" points=\"\n",
       "  242.516,196.723 2352.76,196.723 \n",
       "  \"/>\n",
       "<polyline clip-path=\"url(#clip3500)\" style=\"stroke:#000000; stroke-width:4; stroke-opacity:1; fill:none\" points=\"\n",
       "  242.516,1425.62 2352.76,1425.62 \n",
       "  \"/>\n",
       "<polyline clip-path=\"url(#clip3500)\" style=\"stroke:#000000; stroke-width:4; stroke-opacity:1; fill:none\" points=\"\n",
       "  242.516,1425.62 242.516,121.675 \n",
       "  \"/>\n",
       "<polyline clip-path=\"url(#clip3500)\" style=\"stroke:#000000; stroke-width:4; stroke-opacity:1; fill:none\" points=\"\n",
       "  322.107,1425.62 322.107,1409.97 \n",
       "  \"/>\n",
       "<polyline clip-path=\"url(#clip3500)\" style=\"stroke:#000000; stroke-width:4; stroke-opacity:1; fill:none\" points=\"\n",
       "  716.292,1425.62 716.292,1409.97 \n",
       "  \"/>\n",
       "<polyline clip-path=\"url(#clip3500)\" style=\"stroke:#000000; stroke-width:4; stroke-opacity:1; fill:none\" points=\"\n",
       "  1110.48,1425.62 1110.48,1409.97 \n",
       "  \"/>\n",
       "<polyline clip-path=\"url(#clip3500)\" style=\"stroke:#000000; stroke-width:4; stroke-opacity:1; fill:none\" points=\"\n",
       "  1504.66,1425.62 1504.66,1409.97 \n",
       "  \"/>\n",
       "<polyline clip-path=\"url(#clip3500)\" style=\"stroke:#000000; stroke-width:4; stroke-opacity:1; fill:none\" points=\"\n",
       "  1898.85,1425.62 1898.85,1409.97 \n",
       "  \"/>\n",
       "<polyline clip-path=\"url(#clip3500)\" style=\"stroke:#000000; stroke-width:4; stroke-opacity:1; fill:none\" points=\"\n",
       "  2293.03,1425.62 2293.03,1409.97 \n",
       "  \"/>\n",
       "<polyline clip-path=\"url(#clip3500)\" style=\"stroke:#000000; stroke-width:4; stroke-opacity:1; fill:none\" points=\"\n",
       "  242.516,1388.71 267.839,1388.71 \n",
       "  \"/>\n",
       "<polyline clip-path=\"url(#clip3500)\" style=\"stroke:#000000; stroke-width:4; stroke-opacity:1; fill:none\" points=\"\n",
       "  242.516,1150.32 267.839,1150.32 \n",
       "  \"/>\n",
       "<polyline clip-path=\"url(#clip3500)\" style=\"stroke:#000000; stroke-width:4; stroke-opacity:1; fill:none\" points=\"\n",
       "  242.516,911.918 267.839,911.918 \n",
       "  \"/>\n",
       "<polyline clip-path=\"url(#clip3500)\" style=\"stroke:#000000; stroke-width:4; stroke-opacity:1; fill:none\" points=\"\n",
       "  242.516,673.52 267.839,673.52 \n",
       "  \"/>\n",
       "<polyline clip-path=\"url(#clip3500)\" style=\"stroke:#000000; stroke-width:4; stroke-opacity:1; fill:none\" points=\"\n",
       "  242.516,435.121 267.839,435.121 \n",
       "  \"/>\n",
       "<polyline clip-path=\"url(#clip3500)\" style=\"stroke:#000000; stroke-width:4; stroke-opacity:1; fill:none\" points=\"\n",
       "  242.516,196.723 267.839,196.723 \n",
       "  \"/>\n",
       "<g clip-path=\"url(#clip3500)\">\n",
       "<text style=\"fill:#000000; fill-opacity:1; font-family:Arial,Helvetica Neue,Helvetica,sans-serif; font-size:48px; text-anchor:middle;\" transform=\"rotate(0, 322.107, 1479.62)\" x=\"322.107\" y=\"1479.62\">0</text>\n",
       "</g>\n",
       "<g clip-path=\"url(#clip3500)\">\n",
       "<text style=\"fill:#000000; fill-opacity:1; font-family:Arial,Helvetica Neue,Helvetica,sans-serif; font-size:48px; text-anchor:middle;\" transform=\"rotate(0, 716.292, 1479.62)\" x=\"716.292\" y=\"1479.62\">10</text>\n",
       "</g>\n",
       "<g clip-path=\"url(#clip3500)\">\n",
       "<text style=\"fill:#000000; fill-opacity:1; font-family:Arial,Helvetica Neue,Helvetica,sans-serif; font-size:48px; text-anchor:middle;\" transform=\"rotate(0, 1110.48, 1479.62)\" x=\"1110.48\" y=\"1479.62\">20</text>\n",
       "</g>\n",
       "<g clip-path=\"url(#clip3500)\">\n",
       "<text style=\"fill:#000000; fill-opacity:1; font-family:Arial,Helvetica Neue,Helvetica,sans-serif; font-size:48px; text-anchor:middle;\" transform=\"rotate(0, 1504.66, 1479.62)\" x=\"1504.66\" y=\"1479.62\">30</text>\n",
       "</g>\n",
       "<g clip-path=\"url(#clip3500)\">\n",
       "<text style=\"fill:#000000; fill-opacity:1; font-family:Arial,Helvetica Neue,Helvetica,sans-serif; font-size:48px; text-anchor:middle;\" transform=\"rotate(0, 1898.85, 1479.62)\" x=\"1898.85\" y=\"1479.62\">40</text>\n",
       "</g>\n",
       "<g clip-path=\"url(#clip3500)\">\n",
       "<text style=\"fill:#000000; fill-opacity:1; font-family:Arial,Helvetica Neue,Helvetica,sans-serif; font-size:48px; text-anchor:middle;\" transform=\"rotate(0, 2293.03, 1479.62)\" x=\"2293.03\" y=\"1479.62\">50</text>\n",
       "</g>\n",
       "<g clip-path=\"url(#clip3500)\">\n",
       "<text style=\"fill:#000000; fill-opacity:1; font-family:Arial,Helvetica Neue,Helvetica,sans-serif; font-size:48px; text-anchor:end;\" transform=\"rotate(0, 218.516, 1406.21)\" x=\"218.516\" y=\"1406.21\">0.00</text>\n",
       "</g>\n",
       "<g clip-path=\"url(#clip3500)\">\n",
       "<text style=\"fill:#000000; fill-opacity:1; font-family:Arial,Helvetica Neue,Helvetica,sans-serif; font-size:48px; text-anchor:end;\" transform=\"rotate(0, 218.516, 1167.82)\" x=\"218.516\" y=\"1167.82\">0.05</text>\n",
       "</g>\n",
       "<g clip-path=\"url(#clip3500)\">\n",
       "<text style=\"fill:#000000; fill-opacity:1; font-family:Arial,Helvetica Neue,Helvetica,sans-serif; font-size:48px; text-anchor:end;\" transform=\"rotate(0, 218.516, 929.418)\" x=\"218.516\" y=\"929.418\">0.10</text>\n",
       "</g>\n",
       "<g clip-path=\"url(#clip3500)\">\n",
       "<text style=\"fill:#000000; fill-opacity:1; font-family:Arial,Helvetica Neue,Helvetica,sans-serif; font-size:48px; text-anchor:end;\" transform=\"rotate(0, 218.516, 691.02)\" x=\"218.516\" y=\"691.02\">0.15</text>\n",
       "</g>\n",
       "<g clip-path=\"url(#clip3500)\">\n",
       "<text style=\"fill:#000000; fill-opacity:1; font-family:Arial,Helvetica Neue,Helvetica,sans-serif; font-size:48px; text-anchor:end;\" transform=\"rotate(0, 218.516, 452.621)\" x=\"218.516\" y=\"452.621\">0.20</text>\n",
       "</g>\n",
       "<g clip-path=\"url(#clip3500)\">\n",
       "<text style=\"fill:#000000; fill-opacity:1; font-family:Arial,Helvetica Neue,Helvetica,sans-serif; font-size:48px; text-anchor:end;\" transform=\"rotate(0, 218.516, 214.223)\" x=\"218.516\" y=\"214.223\">0.25</text>\n",
       "</g>\n",
       "<g clip-path=\"url(#clip3500)\">\n",
       "<text style=\"fill:#000000; fill-opacity:1; font-family:Arial,Helvetica Neue,Helvetica,sans-serif; font-size:84px; text-anchor:middle;\" transform=\"rotate(0, 1297.64, 73.2)\" x=\"1297.64\" y=\"73.2\">Geometric Comparison</text>\n",
       "</g>\n",
       "<g clip-path=\"url(#clip3500)\">\n",
       "<text style=\"fill:#000000; fill-opacity:1; font-family:Arial,Helvetica Neue,Helvetica,sans-serif; font-size:66px; text-anchor:middle;\" transform=\"rotate(0, 1297.64, 1559.48)\" x=\"1297.64\" y=\"1559.48\">n</text>\n",
       "</g>\n",
       "<g clip-path=\"url(#clip3500)\">\n",
       "<text style=\"fill:#000000; fill-opacity:1; font-family:Arial,Helvetica Neue,Helvetica,sans-serif; font-size:66px; text-anchor:middle;\" transform=\"rotate(-90, 89.2861, 773.647)\" x=\"89.2861\" y=\"773.647\">p</text>\n",
       "</g>\n",
       "<path clip-path=\"url(#clip3502)\" d=\"\n",
       "M345.758 158.579 L345.758 1388.71 L377.293 1388.71 L377.293 158.579 L345.758 158.579 L345.758 158.579  Z\n",
       "  \" fill=\"#009af9\" fill-rule=\"evenodd\" fill-opacity=\"1\"/>\n",
       "<polyline clip-path=\"url(#clip3502)\" style=\"stroke:#000000; stroke-width:4; stroke-opacity:1; fill:none\" points=\"\n",
       "  345.758,158.579 345.758,1388.71 377.293,1388.71 377.293,158.579 345.758,158.579 \n",
       "  \"/>\n",
       "<path clip-path=\"url(#clip3502)\" d=\"\n",
       "M385.177 508.071 L385.177 1388.71 L416.712 1388.71 L416.712 508.071 L385.177 508.071 L385.177 508.071  Z\n",
       "  \" fill=\"#009af9\" fill-rule=\"evenodd\" fill-opacity=\"1\"/>\n",
       "<polyline clip-path=\"url(#clip3502)\" style=\"stroke:#000000; stroke-width:4; stroke-opacity:1; fill:none\" points=\"\n",
       "  385.177,508.071 385.177,1388.71 416.712,1388.71 416.712,508.071 385.177,508.071 \n",
       "  \"/>\n",
       "<path clip-path=\"url(#clip3502)\" d=\"\n",
       "M424.595 721.199 L424.595 1388.71 L456.13 1388.71 L456.13 721.199 L424.595 721.199 L424.595 721.199  Z\n",
       "  \" fill=\"#009af9\" fill-rule=\"evenodd\" fill-opacity=\"1\"/>\n",
       "<polyline clip-path=\"url(#clip3502)\" style=\"stroke:#000000; stroke-width:4; stroke-opacity:1; fill:none\" points=\"\n",
       "  424.595,721.199 424.595,1388.71 456.13,1388.71 456.13,721.199 424.595,721.199 \n",
       "  \"/>\n",
       "<path clip-path=\"url(#clip3502)\" d=\"\n",
       "M464.014 906.196 L464.014 1388.71 L495.549 1388.71 L495.549 906.196 L464.014 906.196 L464.014 906.196  Z\n",
       "  \" fill=\"#009af9\" fill-rule=\"evenodd\" fill-opacity=\"1\"/>\n",
       "<polyline clip-path=\"url(#clip3502)\" style=\"stroke:#000000; stroke-width:4; stroke-opacity:1; fill:none\" points=\"\n",
       "  464.014,906.196 464.014,1388.71 495.549,1388.71 495.549,906.196 464.014,906.196 \n",
       "  \"/>\n",
       "<path clip-path=\"url(#clip3502)\" d=\"\n",
       "M503.432 1016.34 L503.432 1388.71 L534.967 1388.71 L534.967 1016.34 L503.432 1016.34 L503.432 1016.34  Z\n",
       "  \" fill=\"#009af9\" fill-rule=\"evenodd\" fill-opacity=\"1\"/>\n",
       "<polyline clip-path=\"url(#clip3502)\" style=\"stroke:#000000; stroke-width:4; stroke-opacity:1; fill:none\" points=\"\n",
       "  503.432,1016.34 503.432,1388.71 534.967,1388.71 534.967,1016.34 503.432,1016.34 \n",
       "  \"/>\n",
       "<path clip-path=\"url(#clip3502)\" d=\"\n",
       "M542.851 1117.89 L542.851 1388.71 L574.386 1388.71 L574.386 1117.89 L542.851 1117.89 L542.851 1117.89  Z\n",
       "  \" fill=\"#009af9\" fill-rule=\"evenodd\" fill-opacity=\"1\"/>\n",
       "<polyline clip-path=\"url(#clip3502)\" style=\"stroke:#000000; stroke-width:4; stroke-opacity:1; fill:none\" points=\"\n",
       "  542.851,1117.89 542.851,1388.71 574.386,1388.71 574.386,1117.89 542.851,1117.89 \n",
       "  \"/>\n",
       "<path clip-path=\"url(#clip3502)\" d=\"\n",
       "M582.269 1169.39 L582.269 1388.71 L613.804 1388.71 L613.804 1169.39 L582.269 1169.39 L582.269 1169.39  Z\n",
       "  \" fill=\"#009af9\" fill-rule=\"evenodd\" fill-opacity=\"1\"/>\n",
       "<polyline clip-path=\"url(#clip3502)\" style=\"stroke:#000000; stroke-width:4; stroke-opacity:1; fill:none\" points=\"\n",
       "  582.269,1169.39 582.269,1388.71 613.804,1388.71 613.804,1169.39 582.269,1169.39 \n",
       "  \"/>\n",
       "<path clip-path=\"url(#clip3502)\" d=\"\n",
       "M621.688 1242.34 L621.688 1388.71 L653.223 1388.71 L653.223 1242.34 L621.688 1242.34 L621.688 1242.34  Z\n",
       "  \" fill=\"#009af9\" fill-rule=\"evenodd\" fill-opacity=\"1\"/>\n",
       "<polyline clip-path=\"url(#clip3502)\" style=\"stroke:#000000; stroke-width:4; stroke-opacity:1; fill:none\" points=\"\n",
       "  621.688,1242.34 621.688,1388.71 653.223,1388.71 653.223,1242.34 621.688,1242.34 \n",
       "  \"/>\n",
       "<path clip-path=\"url(#clip3502)\" d=\"\n",
       "M661.106 1263.32 L661.106 1388.71 L692.641 1388.71 L692.641 1263.32 L661.106 1263.32 L661.106 1263.32  Z\n",
       "  \" fill=\"#009af9\" fill-rule=\"evenodd\" fill-opacity=\"1\"/>\n",
       "<polyline clip-path=\"url(#clip3502)\" style=\"stroke:#000000; stroke-width:4; stroke-opacity:1; fill:none\" points=\"\n",
       "  661.106,1263.32 661.106,1388.71 692.641,1388.71 692.641,1263.32 661.106,1263.32 \n",
       "  \"/>\n",
       "<path clip-path=\"url(#clip3502)\" d=\"\n",
       "M700.525 1293.36 L700.525 1388.71 L732.06 1388.71 L732.06 1293.36 L700.525 1293.36 L700.525 1293.36  Z\n",
       "  \" fill=\"#009af9\" fill-rule=\"evenodd\" fill-opacity=\"1\"/>\n",
       "<polyline clip-path=\"url(#clip3502)\" style=\"stroke:#000000; stroke-width:4; stroke-opacity:1; fill:none\" points=\"\n",
       "  700.525,1293.36 700.525,1388.71 732.06,1388.71 732.06,1293.36 700.525,1293.36 \n",
       "  \"/>\n",
       "<path clip-path=\"url(#clip3502)\" d=\"\n",
       "M739.943 1316.24 L739.943 1388.71 L771.478 1388.71 L771.478 1316.24 L739.943 1316.24 L739.943 1316.24  Z\n",
       "  \" fill=\"#009af9\" fill-rule=\"evenodd\" fill-opacity=\"1\"/>\n",
       "<polyline clip-path=\"url(#clip3502)\" style=\"stroke:#000000; stroke-width:4; stroke-opacity:1; fill:none\" points=\"\n",
       "  739.943,1316.24 739.943,1388.71 771.478,1388.71 771.478,1316.24 739.943,1316.24 \n",
       "  \"/>\n",
       "<path clip-path=\"url(#clip3502)\" d=\"\n",
       "M779.362 1342.47 L779.362 1388.71 L810.897 1388.71 L810.897 1342.47 L779.362 1342.47 L779.362 1342.47  Z\n",
       "  \" fill=\"#009af9\" fill-rule=\"evenodd\" fill-opacity=\"1\"/>\n",
       "<polyline clip-path=\"url(#clip3502)\" style=\"stroke:#000000; stroke-width:4; stroke-opacity:1; fill:none\" points=\"\n",
       "  779.362,1342.47 779.362,1388.71 810.897,1388.71 810.897,1342.47 779.362,1342.47 \n",
       "  \"/>\n",
       "<path clip-path=\"url(#clip3502)\" d=\"\n",
       "M818.78 1354.39 L818.78 1388.71 L850.315 1388.71 L850.315 1354.39 L818.78 1354.39 L818.78 1354.39  Z\n",
       "  \" fill=\"#009af9\" fill-rule=\"evenodd\" fill-opacity=\"1\"/>\n",
       "<polyline clip-path=\"url(#clip3502)\" style=\"stroke:#000000; stroke-width:4; stroke-opacity:1; fill:none\" points=\"\n",
       "  818.78,1354.39 818.78,1388.71 850.315,1388.71 850.315,1354.39 818.78,1354.39 \n",
       "  \"/>\n",
       "<path clip-path=\"url(#clip3502)\" d=\"\n",
       "M858.199 1361.06 L858.199 1388.71 L889.734 1388.71 L889.734 1361.06 L858.199 1361.06 L858.199 1361.06  Z\n",
       "  \" fill=\"#009af9\" fill-rule=\"evenodd\" fill-opacity=\"1\"/>\n",
       "<polyline clip-path=\"url(#clip3502)\" style=\"stroke:#000000; stroke-width:4; stroke-opacity:1; fill:none\" points=\"\n",
       "  858.199,1361.06 858.199,1388.71 889.734,1388.71 889.734,1361.06 858.199,1361.06 \n",
       "  \"/>\n",
       "<path clip-path=\"url(#clip3502)\" d=\"\n",
       "M897.617 1363.44 L897.617 1388.71 L929.152 1388.71 L929.152 1363.44 L897.617 1363.44 L897.617 1363.44  Z\n",
       "  \" fill=\"#009af9\" fill-rule=\"evenodd\" fill-opacity=\"1\"/>\n",
       "<polyline clip-path=\"url(#clip3502)\" style=\"stroke:#000000; stroke-width:4; stroke-opacity:1; fill:none\" points=\"\n",
       "  897.617,1363.44 897.617,1388.71 929.152,1388.71 929.152,1363.44 897.617,1363.44 \n",
       "  \"/>\n",
       "<path clip-path=\"url(#clip3502)\" d=\"\n",
       "M937.036 1373.93 L937.036 1388.71 L968.571 1388.71 L968.571 1373.93 L937.036 1373.93 L937.036 1373.93  Z\n",
       "  \" fill=\"#009af9\" fill-rule=\"evenodd\" fill-opacity=\"1\"/>\n",
       "<polyline clip-path=\"url(#clip3502)\" style=\"stroke:#000000; stroke-width:4; stroke-opacity:1; fill:none\" points=\"\n",
       "  937.036,1373.93 937.036,1388.71 968.571,1388.71 968.571,1373.93 937.036,1373.93 \n",
       "  \"/>\n",
       "<path clip-path=\"url(#clip3502)\" d=\"\n",
       "M976.454 1375.36 L976.454 1388.71 L1007.99 1388.71 L1007.99 1375.36 L976.454 1375.36 L976.454 1375.36  Z\n",
       "  \" fill=\"#009af9\" fill-rule=\"evenodd\" fill-opacity=\"1\"/>\n",
       "<polyline clip-path=\"url(#clip3502)\" style=\"stroke:#000000; stroke-width:4; stroke-opacity:1; fill:none\" points=\"\n",
       "  976.454,1375.36 976.454,1388.71 1007.99,1388.71 1007.99,1375.36 976.454,1375.36 \n",
       "  \"/>\n",
       "<path clip-path=\"url(#clip3502)\" d=\"\n",
       "M1015.87 1377.27 L1015.87 1388.71 L1047.41 1388.71 L1047.41 1377.27 L1015.87 1377.27 L1015.87 1377.27  Z\n",
       "  \" fill=\"#009af9\" fill-rule=\"evenodd\" fill-opacity=\"1\"/>\n",
       "<polyline clip-path=\"url(#clip3502)\" style=\"stroke:#000000; stroke-width:4; stroke-opacity:1; fill:none\" points=\"\n",
       "  1015.87,1377.27 1015.87,1388.71 1047.41,1388.71 1047.41,1377.27 1015.87,1377.27 \n",
       "  \"/>\n",
       "<path clip-path=\"url(#clip3502)\" d=\"\n",
       "M1055.29 1381.09 L1055.29 1388.71 L1086.83 1388.71 L1086.83 1381.09 L1055.29 1381.09 L1055.29 1381.09  Z\n",
       "  \" fill=\"#009af9\" fill-rule=\"evenodd\" fill-opacity=\"1\"/>\n",
       "<polyline clip-path=\"url(#clip3502)\" style=\"stroke:#000000; stroke-width:4; stroke-opacity:1; fill:none\" points=\"\n",
       "  1055.29,1381.09 1055.29,1388.71 1086.83,1388.71 1086.83,1381.09 1055.29,1381.09 \n",
       "  \"/>\n",
       "<path clip-path=\"url(#clip3502)\" d=\"\n",
       "M1094.71 1381.56 L1094.71 1388.71 L1126.24 1388.71 L1126.24 1381.56 L1094.71 1381.56 L1094.71 1381.56  Z\n",
       "  \" fill=\"#009af9\" fill-rule=\"evenodd\" fill-opacity=\"1\"/>\n",
       "<polyline clip-path=\"url(#clip3502)\" style=\"stroke:#000000; stroke-width:4; stroke-opacity:1; fill:none\" points=\"\n",
       "  1094.71,1381.56 1094.71,1388.71 1126.24,1388.71 1126.24,1381.56 1094.71,1381.56 \n",
       "  \"/>\n",
       "<path clip-path=\"url(#clip3502)\" d=\"\n",
       "M1134.13 1383.47 L1134.13 1388.71 L1165.66 1388.71 L1165.66 1383.47 L1134.13 1383.47 L1134.13 1383.47  Z\n",
       "  \" fill=\"#009af9\" fill-rule=\"evenodd\" fill-opacity=\"1\"/>\n",
       "<polyline clip-path=\"url(#clip3502)\" style=\"stroke:#000000; stroke-width:4; stroke-opacity:1; fill:none\" points=\"\n",
       "  1134.13,1383.47 1134.13,1388.71 1165.66,1388.71 1165.66,1383.47 1134.13,1383.47 \n",
       "  \"/>\n",
       "<path clip-path=\"url(#clip3502)\" d=\"\n",
       "M1173.55 1386.33 L1173.55 1388.71 L1205.08 1388.71 L1205.08 1386.33 L1173.55 1386.33 L1173.55 1386.33  Z\n",
       "  \" fill=\"#009af9\" fill-rule=\"evenodd\" fill-opacity=\"1\"/>\n",
       "<polyline clip-path=\"url(#clip3502)\" style=\"stroke:#000000; stroke-width:4; stroke-opacity:1; fill:none\" points=\"\n",
       "  1173.55,1386.33 1173.55,1388.71 1205.08,1388.71 1205.08,1386.33 1173.55,1386.33 \n",
       "  \"/>\n",
       "<path clip-path=\"url(#clip3502)\" d=\"\n",
       "M1212.97 1386.33 L1212.97 1388.71 L1244.5 1388.71 L1244.5 1386.33 L1212.97 1386.33 L1212.97 1386.33  Z\n",
       "  \" fill=\"#009af9\" fill-rule=\"evenodd\" fill-opacity=\"1\"/>\n",
       "<polyline clip-path=\"url(#clip3502)\" style=\"stroke:#000000; stroke-width:4; stroke-opacity:1; fill:none\" points=\"\n",
       "  1212.97,1386.33 1212.97,1388.71 1244.5,1388.71 1244.5,1386.33 1212.97,1386.33 \n",
       "  \"/>\n",
       "<path clip-path=\"url(#clip3502)\" d=\"\n",
       "M1252.38 1386.33 L1252.38 1388.71 L1283.92 1388.71 L1283.92 1386.33 L1252.38 1386.33 L1252.38 1386.33  Z\n",
       "  \" fill=\"#009af9\" fill-rule=\"evenodd\" fill-opacity=\"1\"/>\n",
       "<polyline clip-path=\"url(#clip3502)\" style=\"stroke:#000000; stroke-width:4; stroke-opacity:1; fill:none\" points=\"\n",
       "  1252.38,1386.33 1252.38,1388.71 1283.92,1388.71 1283.92,1386.33 1252.38,1386.33 \n",
       "  \"/>\n",
       "<path clip-path=\"url(#clip3502)\" d=\"\n",
       "M1291.8 1388.24 L1291.8 1388.71 L1323.34 1388.71 L1323.34 1388.24 L1291.8 1388.24 L1291.8 1388.24  Z\n",
       "  \" fill=\"#009af9\" fill-rule=\"evenodd\" fill-opacity=\"1\"/>\n",
       "<polyline clip-path=\"url(#clip3502)\" style=\"stroke:#000000; stroke-width:4; stroke-opacity:1; fill:none\" points=\"\n",
       "  1291.8,1388.24 1291.8,1388.71 1323.34,1388.71 1323.34,1388.24 1291.8,1388.24 \n",
       "  \"/>\n",
       "<path clip-path=\"url(#clip3502)\" d=\"\n",
       "M1370.64 1387.76 L1370.64 1388.71 L1402.17 1388.71 L1402.17 1387.76 L1370.64 1387.76 L1370.64 1387.76  Z\n",
       "  \" fill=\"#009af9\" fill-rule=\"evenodd\" fill-opacity=\"1\"/>\n",
       "<polyline clip-path=\"url(#clip3502)\" style=\"stroke:#000000; stroke-width:4; stroke-opacity:1; fill:none\" points=\"\n",
       "  1370.64,1387.76 1370.64,1388.71 1402.17,1388.71 1402.17,1387.76 1370.64,1387.76 \n",
       "  \"/>\n",
       "<path clip-path=\"url(#clip3502)\" d=\"\n",
       "M1410.06 1388.24 L1410.06 1388.71 L1441.59 1388.71 L1441.59 1388.24 L1410.06 1388.24 L1410.06 1388.24  Z\n",
       "  \" fill=\"#009af9\" fill-rule=\"evenodd\" fill-opacity=\"1\"/>\n",
       "<polyline clip-path=\"url(#clip3502)\" style=\"stroke:#000000; stroke-width:4; stroke-opacity:1; fill:none\" points=\"\n",
       "  1410.06,1388.24 1410.06,1388.71 1441.59,1388.71 1441.59,1388.24 1410.06,1388.24 \n",
       "  \"/>\n",
       "<path clip-path=\"url(#clip3502)\" d=\"\n",
       "M1449.48 1388.24 L1449.48 1388.71 L1481.01 1388.71 L1481.01 1388.24 L1449.48 1388.24 L1449.48 1388.24  Z\n",
       "  \" fill=\"#009af9\" fill-rule=\"evenodd\" fill-opacity=\"1\"/>\n",
       "<polyline clip-path=\"url(#clip3502)\" style=\"stroke:#000000; stroke-width:4; stroke-opacity:1; fill:none\" points=\"\n",
       "  1449.48,1388.24 1449.48,1388.71 1481.01,1388.71 1481.01,1388.24 1449.48,1388.24 \n",
       "  \"/>\n",
       "<path clip-path=\"url(#clip3502)\" d=\"\n",
       "M1488.89 1388.24 L1488.89 1388.71 L1520.43 1388.71 L1520.43 1388.24 L1488.89 1388.24 L1488.89 1388.24  Z\n",
       "  \" fill=\"#009af9\" fill-rule=\"evenodd\" fill-opacity=\"1\"/>\n",
       "<polyline clip-path=\"url(#clip3502)\" style=\"stroke:#000000; stroke-width:4; stroke-opacity:1; fill:none\" points=\"\n",
       "  1488.89,1388.24 1488.89,1388.71 1520.43,1388.71 1520.43,1388.24 1488.89,1388.24 \n",
       "  \"/>\n",
       "<path clip-path=\"url(#clip3502)\" d=\"\n",
       "M1646.57 1388.24 L1646.57 1388.71 L1678.1 1388.71 L1678.1 1388.24 L1646.57 1388.24 L1646.57 1388.24  Z\n",
       "  \" fill=\"#009af9\" fill-rule=\"evenodd\" fill-opacity=\"1\"/>\n",
       "<polyline clip-path=\"url(#clip3502)\" style=\"stroke:#000000; stroke-width:4; stroke-opacity:1; fill:none\" points=\"\n",
       "  1646.57,1388.24 1646.57,1388.71 1678.1,1388.71 1678.1,1388.24 1646.57,1388.24 \n",
       "  \"/>\n",
       "<path clip-path=\"url(#clip3502)\" d=\"\n",
       "M1725.41 1387.76 L1725.41 1388.71 L1756.94 1388.71 L1756.94 1387.76 L1725.41 1387.76 L1725.41 1387.76  Z\n",
       "  \" fill=\"#009af9\" fill-rule=\"evenodd\" fill-opacity=\"1\"/>\n",
       "<polyline clip-path=\"url(#clip3502)\" style=\"stroke:#000000; stroke-width:4; stroke-opacity:1; fill:none\" points=\"\n",
       "  1725.41,1387.76 1725.41,1388.71 1756.94,1388.71 1756.94,1387.76 1725.41,1387.76 \n",
       "  \"/>\n",
       "<path clip-path=\"url(#clip3502)\" d=\"\n",
       "M1764.82 1388.24 L1764.82 1388.71 L1796.36 1388.71 L1796.36 1388.24 L1764.82 1388.24 L1764.82 1388.24  Z\n",
       "  \" fill=\"#009af9\" fill-rule=\"evenodd\" fill-opacity=\"1\"/>\n",
       "<polyline clip-path=\"url(#clip3502)\" style=\"stroke:#000000; stroke-width:4; stroke-opacity:1; fill:none\" points=\"\n",
       "  1764.82,1388.24 1764.82,1388.71 1796.36,1388.71 1796.36,1388.24 1764.82,1388.24 \n",
       "  \"/>\n",
       "<polyline clip-path=\"url(#clip3502)\" style=\"stroke:#e26f46; stroke-width:8; stroke-opacity:0.6; fill:none\" points=\"\n",
       "  361.526,196.723 400.944,494.721 440.363,718.219 479.781,885.843 519.2,1011.56 558.618,1105.85 598.037,1176.57 637.455,1229.6 676.874,1269.38 716.292,1299.21 \n",
       "  755.711,1321.59 795.129,1338.37 834.548,1350.96 873.966,1360.4 913.385,1367.48 952.803,1372.79 992.222,1376.77 1031.64,1379.75 1071.06,1381.99 1110.48,1383.67 \n",
       "  1149.9,1384.93 1189.31,1385.88 1228.73,1386.59 1268.15,1387.12 1307.57,1387.52 1346.99,1387.82 1386.41,1388.04 1425.83,1388.21 1465.24,1388.34 1504.66,1388.43 \n",
       "  1544.08,1388.5 1583.5,1388.55 1622.92,1388.59 1662.34,1388.62 1701.75,1388.65 1741.17,1388.66 1780.59,1388.68 1820.01,1388.69 1859.43,1388.69 1898.85,1388.7 \n",
       "  1938.27,1388.7 1977.68,1388.71 2017.1,1388.71 2056.52,1388.71 2095.94,1388.71 2135.36,1388.71 2174.78,1388.71 2214.2,1388.71 2253.61,1388.71 2293.03,1388.71 \n",
       "  \n",
       "  \"/>\n",
       "<circle clip-path=\"url(#clip3502)\" cx=\"361.526\" cy=\"196.723\" r=\"9\" fill=\"#e26f46\" fill-rule=\"evenodd\" fill-opacity=\"0.8\" stroke=\"#000000\" stroke-opacity=\"0.8\" stroke-width=\"3.2\"/>\n",
       "<circle clip-path=\"url(#clip3502)\" cx=\"400.944\" cy=\"494.721\" r=\"9\" fill=\"#e26f46\" fill-rule=\"evenodd\" fill-opacity=\"0.8\" stroke=\"#000000\" stroke-opacity=\"0.8\" stroke-width=\"3.2\"/>\n",
       "<circle clip-path=\"url(#clip3502)\" cx=\"440.363\" cy=\"718.219\" r=\"9\" fill=\"#e26f46\" fill-rule=\"evenodd\" fill-opacity=\"0.8\" stroke=\"#000000\" stroke-opacity=\"0.8\" stroke-width=\"3.2\"/>\n",
       "<circle clip-path=\"url(#clip3502)\" cx=\"479.781\" cy=\"885.843\" r=\"9\" fill=\"#e26f46\" fill-rule=\"evenodd\" fill-opacity=\"0.8\" stroke=\"#000000\" stroke-opacity=\"0.8\" stroke-width=\"3.2\"/>\n",
       "<circle clip-path=\"url(#clip3502)\" cx=\"519.2\" cy=\"1011.56\" r=\"9\" fill=\"#e26f46\" fill-rule=\"evenodd\" fill-opacity=\"0.8\" stroke=\"#000000\" stroke-opacity=\"0.8\" stroke-width=\"3.2\"/>\n",
       "<circle clip-path=\"url(#clip3502)\" cx=\"558.618\" cy=\"1105.85\" r=\"9\" fill=\"#e26f46\" fill-rule=\"evenodd\" fill-opacity=\"0.8\" stroke=\"#000000\" stroke-opacity=\"0.8\" stroke-width=\"3.2\"/>\n",
       "<circle clip-path=\"url(#clip3502)\" cx=\"598.037\" cy=\"1176.57\" r=\"9\" fill=\"#e26f46\" fill-rule=\"evenodd\" fill-opacity=\"0.8\" stroke=\"#000000\" stroke-opacity=\"0.8\" stroke-width=\"3.2\"/>\n",
       "<circle clip-path=\"url(#clip3502)\" cx=\"637.455\" cy=\"1229.6\" r=\"9\" fill=\"#e26f46\" fill-rule=\"evenodd\" fill-opacity=\"0.8\" stroke=\"#000000\" stroke-opacity=\"0.8\" stroke-width=\"3.2\"/>\n",
       "<circle clip-path=\"url(#clip3502)\" cx=\"676.874\" cy=\"1269.38\" r=\"9\" fill=\"#e26f46\" fill-rule=\"evenodd\" fill-opacity=\"0.8\" stroke=\"#000000\" stroke-opacity=\"0.8\" stroke-width=\"3.2\"/>\n",
       "<circle clip-path=\"url(#clip3502)\" cx=\"716.292\" cy=\"1299.21\" r=\"9\" fill=\"#e26f46\" fill-rule=\"evenodd\" fill-opacity=\"0.8\" stroke=\"#000000\" stroke-opacity=\"0.8\" stroke-width=\"3.2\"/>\n",
       "<circle clip-path=\"url(#clip3502)\" cx=\"755.711\" cy=\"1321.59\" r=\"9\" fill=\"#e26f46\" fill-rule=\"evenodd\" fill-opacity=\"0.8\" stroke=\"#000000\" stroke-opacity=\"0.8\" stroke-width=\"3.2\"/>\n",
       "<circle clip-path=\"url(#clip3502)\" cx=\"795.129\" cy=\"1338.37\" r=\"9\" fill=\"#e26f46\" fill-rule=\"evenodd\" fill-opacity=\"0.8\" stroke=\"#000000\" stroke-opacity=\"0.8\" stroke-width=\"3.2\"/>\n",
       "<circle clip-path=\"url(#clip3502)\" cx=\"834.548\" cy=\"1350.96\" r=\"9\" fill=\"#e26f46\" fill-rule=\"evenodd\" fill-opacity=\"0.8\" stroke=\"#000000\" stroke-opacity=\"0.8\" stroke-width=\"3.2\"/>\n",
       "<circle clip-path=\"url(#clip3502)\" cx=\"873.966\" cy=\"1360.4\" r=\"9\" fill=\"#e26f46\" fill-rule=\"evenodd\" fill-opacity=\"0.8\" stroke=\"#000000\" stroke-opacity=\"0.8\" stroke-width=\"3.2\"/>\n",
       "<circle clip-path=\"url(#clip3502)\" cx=\"913.385\" cy=\"1367.48\" r=\"9\" fill=\"#e26f46\" fill-rule=\"evenodd\" fill-opacity=\"0.8\" stroke=\"#000000\" stroke-opacity=\"0.8\" stroke-width=\"3.2\"/>\n",
       "<circle clip-path=\"url(#clip3502)\" cx=\"952.803\" cy=\"1372.79\" r=\"9\" fill=\"#e26f46\" fill-rule=\"evenodd\" fill-opacity=\"0.8\" stroke=\"#000000\" stroke-opacity=\"0.8\" stroke-width=\"3.2\"/>\n",
       "<circle clip-path=\"url(#clip3502)\" cx=\"992.222\" cy=\"1376.77\" r=\"9\" fill=\"#e26f46\" fill-rule=\"evenodd\" fill-opacity=\"0.8\" stroke=\"#000000\" stroke-opacity=\"0.8\" stroke-width=\"3.2\"/>\n",
       "<circle clip-path=\"url(#clip3502)\" cx=\"1031.64\" cy=\"1379.75\" r=\"9\" fill=\"#e26f46\" fill-rule=\"evenodd\" fill-opacity=\"0.8\" stroke=\"#000000\" stroke-opacity=\"0.8\" stroke-width=\"3.2\"/>\n",
       "<circle clip-path=\"url(#clip3502)\" cx=\"1071.06\" cy=\"1381.99\" r=\"9\" fill=\"#e26f46\" fill-rule=\"evenodd\" fill-opacity=\"0.8\" stroke=\"#000000\" stroke-opacity=\"0.8\" stroke-width=\"3.2\"/>\n",
       "<circle clip-path=\"url(#clip3502)\" cx=\"1110.48\" cy=\"1383.67\" r=\"9\" fill=\"#e26f46\" fill-rule=\"evenodd\" fill-opacity=\"0.8\" stroke=\"#000000\" stroke-opacity=\"0.8\" stroke-width=\"3.2\"/>\n",
       "<circle clip-path=\"url(#clip3502)\" cx=\"1149.9\" cy=\"1384.93\" r=\"9\" fill=\"#e26f46\" fill-rule=\"evenodd\" fill-opacity=\"0.8\" stroke=\"#000000\" stroke-opacity=\"0.8\" stroke-width=\"3.2\"/>\n",
       "<circle clip-path=\"url(#clip3502)\" cx=\"1189.31\" cy=\"1385.88\" r=\"9\" fill=\"#e26f46\" fill-rule=\"evenodd\" fill-opacity=\"0.8\" stroke=\"#000000\" stroke-opacity=\"0.8\" stroke-width=\"3.2\"/>\n",
       "<circle clip-path=\"url(#clip3502)\" cx=\"1228.73\" cy=\"1386.59\" r=\"9\" fill=\"#e26f46\" fill-rule=\"evenodd\" fill-opacity=\"0.8\" stroke=\"#000000\" stroke-opacity=\"0.8\" stroke-width=\"3.2\"/>\n",
       "<circle clip-path=\"url(#clip3502)\" cx=\"1268.15\" cy=\"1387.12\" r=\"9\" fill=\"#e26f46\" fill-rule=\"evenodd\" fill-opacity=\"0.8\" stroke=\"#000000\" stroke-opacity=\"0.8\" stroke-width=\"3.2\"/>\n",
       "<circle clip-path=\"url(#clip3502)\" cx=\"1307.57\" cy=\"1387.52\" r=\"9\" fill=\"#e26f46\" fill-rule=\"evenodd\" fill-opacity=\"0.8\" stroke=\"#000000\" stroke-opacity=\"0.8\" stroke-width=\"3.2\"/>\n",
       "<circle clip-path=\"url(#clip3502)\" cx=\"1346.99\" cy=\"1387.82\" r=\"9\" fill=\"#e26f46\" fill-rule=\"evenodd\" fill-opacity=\"0.8\" stroke=\"#000000\" stroke-opacity=\"0.8\" stroke-width=\"3.2\"/>\n",
       "<circle clip-path=\"url(#clip3502)\" cx=\"1386.41\" cy=\"1388.04\" r=\"9\" fill=\"#e26f46\" fill-rule=\"evenodd\" fill-opacity=\"0.8\" stroke=\"#000000\" stroke-opacity=\"0.8\" stroke-width=\"3.2\"/>\n",
       "<circle clip-path=\"url(#clip3502)\" cx=\"1425.83\" cy=\"1388.21\" r=\"9\" fill=\"#e26f46\" fill-rule=\"evenodd\" fill-opacity=\"0.8\" stroke=\"#000000\" stroke-opacity=\"0.8\" stroke-width=\"3.2\"/>\n",
       "<circle clip-path=\"url(#clip3502)\" cx=\"1465.24\" cy=\"1388.34\" r=\"9\" fill=\"#e26f46\" fill-rule=\"evenodd\" fill-opacity=\"0.8\" stroke=\"#000000\" stroke-opacity=\"0.8\" stroke-width=\"3.2\"/>\n",
       "<circle clip-path=\"url(#clip3502)\" cx=\"1504.66\" cy=\"1388.43\" r=\"9\" fill=\"#e26f46\" fill-rule=\"evenodd\" fill-opacity=\"0.8\" stroke=\"#000000\" stroke-opacity=\"0.8\" stroke-width=\"3.2\"/>\n",
       "<circle clip-path=\"url(#clip3502)\" cx=\"1544.08\" cy=\"1388.5\" r=\"9\" fill=\"#e26f46\" fill-rule=\"evenodd\" fill-opacity=\"0.8\" stroke=\"#000000\" stroke-opacity=\"0.8\" stroke-width=\"3.2\"/>\n",
       "<circle clip-path=\"url(#clip3502)\" cx=\"1583.5\" cy=\"1388.55\" r=\"9\" fill=\"#e26f46\" fill-rule=\"evenodd\" fill-opacity=\"0.8\" stroke=\"#000000\" stroke-opacity=\"0.8\" stroke-width=\"3.2\"/>\n",
       "<circle clip-path=\"url(#clip3502)\" cx=\"1622.92\" cy=\"1388.59\" r=\"9\" fill=\"#e26f46\" fill-rule=\"evenodd\" fill-opacity=\"0.8\" stroke=\"#000000\" stroke-opacity=\"0.8\" stroke-width=\"3.2\"/>\n",
       "<circle clip-path=\"url(#clip3502)\" cx=\"1662.34\" cy=\"1388.62\" r=\"9\" fill=\"#e26f46\" fill-rule=\"evenodd\" fill-opacity=\"0.8\" stroke=\"#000000\" stroke-opacity=\"0.8\" stroke-width=\"3.2\"/>\n",
       "<circle clip-path=\"url(#clip3502)\" cx=\"1701.75\" cy=\"1388.65\" r=\"9\" fill=\"#e26f46\" fill-rule=\"evenodd\" fill-opacity=\"0.8\" stroke=\"#000000\" stroke-opacity=\"0.8\" stroke-width=\"3.2\"/>\n",
       "<circle clip-path=\"url(#clip3502)\" cx=\"1741.17\" cy=\"1388.66\" r=\"9\" fill=\"#e26f46\" fill-rule=\"evenodd\" fill-opacity=\"0.8\" stroke=\"#000000\" stroke-opacity=\"0.8\" stroke-width=\"3.2\"/>\n",
       "<circle clip-path=\"url(#clip3502)\" cx=\"1780.59\" cy=\"1388.68\" r=\"9\" fill=\"#e26f46\" fill-rule=\"evenodd\" fill-opacity=\"0.8\" stroke=\"#000000\" stroke-opacity=\"0.8\" stroke-width=\"3.2\"/>\n",
       "<circle clip-path=\"url(#clip3502)\" cx=\"1820.01\" cy=\"1388.69\" r=\"9\" fill=\"#e26f46\" fill-rule=\"evenodd\" fill-opacity=\"0.8\" stroke=\"#000000\" stroke-opacity=\"0.8\" stroke-width=\"3.2\"/>\n",
       "<circle clip-path=\"url(#clip3502)\" cx=\"1859.43\" cy=\"1388.69\" r=\"9\" fill=\"#e26f46\" fill-rule=\"evenodd\" fill-opacity=\"0.8\" stroke=\"#000000\" stroke-opacity=\"0.8\" stroke-width=\"3.2\"/>\n",
       "<circle clip-path=\"url(#clip3502)\" cx=\"1898.85\" cy=\"1388.7\" r=\"9\" fill=\"#e26f46\" fill-rule=\"evenodd\" fill-opacity=\"0.8\" stroke=\"#000000\" stroke-opacity=\"0.8\" stroke-width=\"3.2\"/>\n",
       "<circle clip-path=\"url(#clip3502)\" cx=\"1938.27\" cy=\"1388.7\" r=\"9\" fill=\"#e26f46\" fill-rule=\"evenodd\" fill-opacity=\"0.8\" stroke=\"#000000\" stroke-opacity=\"0.8\" stroke-width=\"3.2\"/>\n",
       "<circle clip-path=\"url(#clip3502)\" cx=\"1977.68\" cy=\"1388.71\" r=\"9\" fill=\"#e26f46\" fill-rule=\"evenodd\" fill-opacity=\"0.8\" stroke=\"#000000\" stroke-opacity=\"0.8\" stroke-width=\"3.2\"/>\n",
       "<circle clip-path=\"url(#clip3502)\" cx=\"2017.1\" cy=\"1388.71\" r=\"9\" fill=\"#e26f46\" fill-rule=\"evenodd\" fill-opacity=\"0.8\" stroke=\"#000000\" stroke-opacity=\"0.8\" stroke-width=\"3.2\"/>\n",
       "<circle clip-path=\"url(#clip3502)\" cx=\"2056.52\" cy=\"1388.71\" r=\"9\" fill=\"#e26f46\" fill-rule=\"evenodd\" fill-opacity=\"0.8\" stroke=\"#000000\" stroke-opacity=\"0.8\" stroke-width=\"3.2\"/>\n",
       "<circle clip-path=\"url(#clip3502)\" cx=\"2095.94\" cy=\"1388.71\" r=\"9\" fill=\"#e26f46\" fill-rule=\"evenodd\" fill-opacity=\"0.8\" stroke=\"#000000\" stroke-opacity=\"0.8\" stroke-width=\"3.2\"/>\n",
       "<circle clip-path=\"url(#clip3502)\" cx=\"2135.36\" cy=\"1388.71\" r=\"9\" fill=\"#e26f46\" fill-rule=\"evenodd\" fill-opacity=\"0.8\" stroke=\"#000000\" stroke-opacity=\"0.8\" stroke-width=\"3.2\"/>\n",
       "<circle clip-path=\"url(#clip3502)\" cx=\"2174.78\" cy=\"1388.71\" r=\"9\" fill=\"#e26f46\" fill-rule=\"evenodd\" fill-opacity=\"0.8\" stroke=\"#000000\" stroke-opacity=\"0.8\" stroke-width=\"3.2\"/>\n",
       "<circle clip-path=\"url(#clip3502)\" cx=\"2214.2\" cy=\"1388.71\" r=\"9\" fill=\"#e26f46\" fill-rule=\"evenodd\" fill-opacity=\"0.8\" stroke=\"#000000\" stroke-opacity=\"0.8\" stroke-width=\"3.2\"/>\n",
       "<circle clip-path=\"url(#clip3502)\" cx=\"2253.61\" cy=\"1388.71\" r=\"9\" fill=\"#e26f46\" fill-rule=\"evenodd\" fill-opacity=\"0.8\" stroke=\"#000000\" stroke-opacity=\"0.8\" stroke-width=\"3.2\"/>\n",
       "<circle clip-path=\"url(#clip3502)\" cx=\"2293.03\" cy=\"1388.71\" r=\"9\" fill=\"#e26f46\" fill-rule=\"evenodd\" fill-opacity=\"0.8\" stroke=\"#000000\" stroke-opacity=\"0.8\" stroke-width=\"3.2\"/>\n",
       "<path clip-path=\"url(#clip3500)\" d=\"\n",
       "M1947.14 386.635 L2280.76 386.635 L2280.76 205.195 L1947.14 205.195  Z\n",
       "  \" fill=\"#ffffff\" fill-rule=\"evenodd\" fill-opacity=\"1\"/>\n",
       "<polyline clip-path=\"url(#clip3500)\" style=\"stroke:#000000; stroke-width:4; stroke-opacity:1; fill:none\" points=\"\n",
       "  1947.14,386.635 2280.76,386.635 2280.76,205.195 1947.14,205.195 1947.14,386.635 \n",
       "  \"/>\n",
       "<path clip-path=\"url(#clip3500)\" d=\"\n",
       "M1971.14 289.867 L2115.14 289.867 L2115.14 241.483 L1971.14 241.483 L1971.14 289.867  Z\n",
       "  \" fill=\"#009af9\" fill-rule=\"evenodd\" fill-opacity=\"1\"/>\n",
       "<polyline clip-path=\"url(#clip3500)\" style=\"stroke:#000000; stroke-width:4; stroke-opacity:1; fill:none\" points=\"\n",
       "  1971.14,289.867 2115.14,289.867 2115.14,241.483 1971.14,241.483 1971.14,289.867 \n",
       "  \"/>\n",
       "<g clip-path=\"url(#clip3500)\">\n",
       "<text style=\"fill:#000000; fill-opacity:1; font-family:Arial,Helvetica Neue,Helvetica,sans-serif; font-size:48px; text-anchor:start;\" transform=\"rotate(0, 2139.14, 283.175)\" x=\"2139.14\" y=\"283.175\">prev</text>\n",
       "</g>\n",
       "<polyline clip-path=\"url(#clip3500)\" style=\"stroke:#e26f46; stroke-width:8; stroke-opacity:0.6; fill:none\" points=\"\n",
       "  1971.14,326.155 2115.14,326.155 \n",
       "  \"/>\n",
       "<g clip-path=\"url(#clip3500)\">\n",
       "<text style=\"fill:#000000; fill-opacity:1; font-family:Arial,Helvetica Neue,Helvetica,sans-serif; font-size:48px; text-anchor:start;\" transform=\"rotate(0, 2139.14, 343.655)\" x=\"2139.14\" y=\"343.655\">new</text>\n",
       "</g>\n",
       "</svg>\n"
      ]
     },
     "execution_count": 23,
     "metadata": {},
     "output_type": "execute_result"
    }
   ],
   "source": [
    "prev_n, prev_P = probability_distribution(experiment(p, N))\n",
    "bar(prev_n, prev_P, label=\"prev\")\n",
    "\n",
    "plot!(n_list, P_list, label=\"new\", width=2, opacity=0.6)\n",
    "scatter!(n_list, P_list, label=\"\", markersize=2.5, opacity=0.8, color=2)\n",
    "\n",
    "plot!(\n",
    "  title=\"Geometric Comparison\",\n",
    "  xlabel=\"n\", ylabel=\"p\"\n",
    ")"
   ]
  },
  {
   "cell_type": "markdown",
   "metadata": {},
   "source": [
    "#### (2.i) How could we measure the *error*?\n",
    "\n",
    "+ i.e. the distance between the two graphs? \n",
    "+ What do you think determines it?\n"
   ]
  },
  {
   "cell_type": "code",
   "execution_count": 24,
   "metadata": {},
   "outputs": [
    {
     "data": {
      "image/svg+xml": [
       "<?xml version=\"1.0\" encoding=\"utf-8\"?>\n",
       "<svg xmlns=\"http://www.w3.org/2000/svg\" xmlns:xlink=\"http://www.w3.org/1999/xlink\" width=\"600\" height=\"400\" viewBox=\"0 0 2400 1600\">\n",
       "<defs>\n",
       "  <clipPath id=\"clip3900\">\n",
       "    <rect x=\"0\" y=\"0\" width=\"2400\" height=\"1600\"/>\n",
       "  </clipPath>\n",
       "</defs>\n",
       "<path clip-path=\"url(#clip3900)\" d=\"\n",
       "M0 1600 L2400 1600 L2400 0 L0 0  Z\n",
       "  \" fill=\"#ffffff\" fill-rule=\"evenodd\" fill-opacity=\"1\"/>\n",
       "<defs>\n",
       "  <clipPath id=\"clip3901\">\n",
       "    <rect x=\"480\" y=\"0\" width=\"1681\" height=\"1600\"/>\n",
       "  </clipPath>\n",
       "</defs>\n",
       "<path clip-path=\"url(#clip3900)\" d=\"\n",
       "M217.964 1425.62 L2352.76 1425.62 L2352.76 121.675 L217.964 121.675  Z\n",
       "  \" fill=\"#ffffff\" fill-rule=\"evenodd\" fill-opacity=\"1\"/>\n",
       "<defs>\n",
       "  <clipPath id=\"clip3902\">\n",
       "    <rect x=\"217\" y=\"121\" width=\"2136\" height=\"1305\"/>\n",
       "  </clipPath>\n",
       "</defs>\n",
       "<polyline clip-path=\"url(#clip3902)\" style=\"stroke:#000000; stroke-width:2; stroke-opacity:0.1; fill:none\" points=\"\n",
       "  237.281,1425.62 237.281,121.675 \n",
       "  \"/>\n",
       "<polyline clip-path=\"url(#clip3902)\" style=\"stroke:#000000; stroke-width:2; stroke-opacity:0.1; fill:none\" points=\"\n",
       "  648.293,1425.62 648.293,121.675 \n",
       "  \"/>\n",
       "<polyline clip-path=\"url(#clip3902)\" style=\"stroke:#000000; stroke-width:2; stroke-opacity:0.1; fill:none\" points=\"\n",
       "  1059.3,1425.62 1059.3,121.675 \n",
       "  \"/>\n",
       "<polyline clip-path=\"url(#clip3902)\" style=\"stroke:#000000; stroke-width:2; stroke-opacity:0.1; fill:none\" points=\"\n",
       "  1470.31,1425.62 1470.31,121.675 \n",
       "  \"/>\n",
       "<polyline clip-path=\"url(#clip3902)\" style=\"stroke:#000000; stroke-width:2; stroke-opacity:0.1; fill:none\" points=\"\n",
       "  1881.33,1425.62 1881.33,121.675 \n",
       "  \"/>\n",
       "<polyline clip-path=\"url(#clip3902)\" style=\"stroke:#000000; stroke-width:2; stroke-opacity:0.1; fill:none\" points=\"\n",
       "  2292.34,1425.62 2292.34,121.675 \n",
       "  \"/>\n",
       "<polyline clip-path=\"url(#clip3902)\" style=\"stroke:#000000; stroke-width:2; stroke-opacity:0.1; fill:none\" points=\"\n",
       "  217.964,1196.22 2352.76,1196.22 \n",
       "  \"/>\n",
       "<polyline clip-path=\"url(#clip3902)\" style=\"stroke:#000000; stroke-width:2; stroke-opacity:0.1; fill:none\" points=\"\n",
       "  217.964,930.371 2352.76,930.371 \n",
       "  \"/>\n",
       "<polyline clip-path=\"url(#clip3902)\" style=\"stroke:#000000; stroke-width:2; stroke-opacity:0.1; fill:none\" points=\"\n",
       "  217.964,664.519 2352.76,664.519 \n",
       "  \"/>\n",
       "<polyline clip-path=\"url(#clip3902)\" style=\"stroke:#000000; stroke-width:2; stroke-opacity:0.1; fill:none\" points=\"\n",
       "  217.964,398.667 2352.76,398.667 \n",
       "  \"/>\n",
       "<polyline clip-path=\"url(#clip3902)\" style=\"stroke:#000000; stroke-width:2; stroke-opacity:0.1; fill:none\" points=\"\n",
       "  217.964,132.815 2352.76,132.815 \n",
       "  \"/>\n",
       "<polyline clip-path=\"url(#clip3900)\" style=\"stroke:#000000; stroke-width:4; stroke-opacity:1; fill:none\" points=\"\n",
       "  217.964,1425.62 2352.76,1425.62 \n",
       "  \"/>\n",
       "<polyline clip-path=\"url(#clip3900)\" style=\"stroke:#000000; stroke-width:4; stroke-opacity:1; fill:none\" points=\"\n",
       "  217.964,1425.62 217.964,121.675 \n",
       "  \"/>\n",
       "<polyline clip-path=\"url(#clip3900)\" style=\"stroke:#000000; stroke-width:4; stroke-opacity:1; fill:none\" points=\"\n",
       "  237.281,1425.62 237.281,1409.97 \n",
       "  \"/>\n",
       "<polyline clip-path=\"url(#clip3900)\" style=\"stroke:#000000; stroke-width:4; stroke-opacity:1; fill:none\" points=\"\n",
       "  648.293,1425.62 648.293,1409.97 \n",
       "  \"/>\n",
       "<polyline clip-path=\"url(#clip3900)\" style=\"stroke:#000000; stroke-width:4; stroke-opacity:1; fill:none\" points=\"\n",
       "  1059.3,1425.62 1059.3,1409.97 \n",
       "  \"/>\n",
       "<polyline clip-path=\"url(#clip3900)\" style=\"stroke:#000000; stroke-width:4; stroke-opacity:1; fill:none\" points=\"\n",
       "  1470.31,1425.62 1470.31,1409.97 \n",
       "  \"/>\n",
       "<polyline clip-path=\"url(#clip3900)\" style=\"stroke:#000000; stroke-width:4; stroke-opacity:1; fill:none\" points=\"\n",
       "  1881.33,1425.62 1881.33,1409.97 \n",
       "  \"/>\n",
       "<polyline clip-path=\"url(#clip3900)\" style=\"stroke:#000000; stroke-width:4; stroke-opacity:1; fill:none\" points=\"\n",
       "  2292.34,1425.62 2292.34,1409.97 \n",
       "  \"/>\n",
       "<polyline clip-path=\"url(#clip3900)\" style=\"stroke:#000000; stroke-width:4; stroke-opacity:1; fill:none\" points=\"\n",
       "  217.964,1196.22 243.581,1196.22 \n",
       "  \"/>\n",
       "<polyline clip-path=\"url(#clip3900)\" style=\"stroke:#000000; stroke-width:4; stroke-opacity:1; fill:none\" points=\"\n",
       "  217.964,930.371 243.581,930.371 \n",
       "  \"/>\n",
       "<polyline clip-path=\"url(#clip3900)\" style=\"stroke:#000000; stroke-width:4; stroke-opacity:1; fill:none\" points=\"\n",
       "  217.964,664.519 243.581,664.519 \n",
       "  \"/>\n",
       "<polyline clip-path=\"url(#clip3900)\" style=\"stroke:#000000; stroke-width:4; stroke-opacity:1; fill:none\" points=\"\n",
       "  217.964,398.667 243.581,398.667 \n",
       "  \"/>\n",
       "<polyline clip-path=\"url(#clip3900)\" style=\"stroke:#000000; stroke-width:4; stroke-opacity:1; fill:none\" points=\"\n",
       "  217.964,132.815 243.581,132.815 \n",
       "  \"/>\n",
       "<g clip-path=\"url(#clip3900)\">\n",
       "<text style=\"fill:#000000; fill-opacity:1; font-family:Arial,Helvetica Neue,Helvetica,sans-serif; font-size:48px; text-anchor:middle;\" transform=\"rotate(0, 237.281, 1479.62)\" x=\"237.281\" y=\"1479.62\">0</text>\n",
       "</g>\n",
       "<g clip-path=\"url(#clip3900)\">\n",
       "<text style=\"fill:#000000; fill-opacity:1; font-family:Arial,Helvetica Neue,Helvetica,sans-serif; font-size:48px; text-anchor:middle;\" transform=\"rotate(0, 648.293, 1479.62)\" x=\"648.293\" y=\"1479.62\">10</text>\n",
       "</g>\n",
       "<g clip-path=\"url(#clip3900)\">\n",
       "<text style=\"fill:#000000; fill-opacity:1; font-family:Arial,Helvetica Neue,Helvetica,sans-serif; font-size:48px; text-anchor:middle;\" transform=\"rotate(0, 1059.3, 1479.62)\" x=\"1059.3\" y=\"1479.62\">20</text>\n",
       "</g>\n",
       "<g clip-path=\"url(#clip3900)\">\n",
       "<text style=\"fill:#000000; fill-opacity:1; font-family:Arial,Helvetica Neue,Helvetica,sans-serif; font-size:48px; text-anchor:middle;\" transform=\"rotate(0, 1470.31, 1479.62)\" x=\"1470.31\" y=\"1479.62\">30</text>\n",
       "</g>\n",
       "<g clip-path=\"url(#clip3900)\">\n",
       "<text style=\"fill:#000000; fill-opacity:1; font-family:Arial,Helvetica Neue,Helvetica,sans-serif; font-size:48px; text-anchor:middle;\" transform=\"rotate(0, 1881.33, 1479.62)\" x=\"1881.33\" y=\"1479.62\">40</text>\n",
       "</g>\n",
       "<g clip-path=\"url(#clip3900)\">\n",
       "<text style=\"fill:#000000; fill-opacity:1; font-family:Arial,Helvetica Neue,Helvetica,sans-serif; font-size:48px; text-anchor:middle;\" transform=\"rotate(0, 2292.34, 1479.62)\" x=\"2292.34\" y=\"1479.62\">50</text>\n",
       "</g>\n",
       "<g clip-path=\"url(#clip3900)\">\n",
       "<text style=\"fill:#000000; fill-opacity:1; font-family:Arial,Helvetica Neue,Helvetica,sans-serif; font-size:48px; text-anchor:start;\" transform=\"rotate(0, 95.8554, 1219.95)\" x=\"95.8554\" y=\"1219.95\">10</text>\n",
       "</g>\n",
       "<g clip-path=\"url(#clip3900)\">\n",
       "<text style=\"fill:#000000; fill-opacity:1; font-family:Arial,Helvetica Neue,Helvetica,sans-serif; font-size:38px; text-anchor:start;\" transform=\"rotate(0, 149.38, 1192.54)\" x=\"149.38\" y=\"1192.54\">-</text>\n",
       "</g>\n",
       "<g clip-path=\"url(#clip3900)\">\n",
       "<text style=\"fill:#000000; fill-opacity:1; font-family:Arial,Helvetica Neue,Helvetica,sans-serif; font-size:38px; text-anchor:start;\" transform=\"rotate(0, 172.22, 1192.54)\" x=\"172.22\" y=\"1192.54\">6</text>\n",
       "</g>\n",
       "<g clip-path=\"url(#clip3900)\">\n",
       "<text style=\"fill:#000000; fill-opacity:1; font-family:Arial,Helvetica Neue,Helvetica,sans-serif; font-size:48px; text-anchor:start;\" transform=\"rotate(0, 95.8554, 954.098)\" x=\"95.8554\" y=\"954.098\">10</text>\n",
       "</g>\n",
       "<g clip-path=\"url(#clip3900)\">\n",
       "<text style=\"fill:#000000; fill-opacity:1; font-family:Arial,Helvetica Neue,Helvetica,sans-serif; font-size:38px; text-anchor:start;\" transform=\"rotate(0, 149.38, 926.688)\" x=\"149.38\" y=\"926.688\">-</text>\n",
       "</g>\n",
       "<g clip-path=\"url(#clip3900)\">\n",
       "<text style=\"fill:#000000; fill-opacity:1; font-family:Arial,Helvetica Neue,Helvetica,sans-serif; font-size:38px; text-anchor:start;\" transform=\"rotate(0, 172.22, 926.688)\" x=\"172.22\" y=\"926.688\">5</text>\n",
       "</g>\n",
       "<g clip-path=\"url(#clip3900)\">\n",
       "<text style=\"fill:#000000; fill-opacity:1; font-family:Arial,Helvetica Neue,Helvetica,sans-serif; font-size:48px; text-anchor:start;\" transform=\"rotate(0, 95.8554, 688.247)\" x=\"95.8554\" y=\"688.247\">10</text>\n",
       "</g>\n",
       "<g clip-path=\"url(#clip3900)\">\n",
       "<text style=\"fill:#000000; fill-opacity:1; font-family:Arial,Helvetica Neue,Helvetica,sans-serif; font-size:38px; text-anchor:start;\" transform=\"rotate(0, 149.38, 660.836)\" x=\"149.38\" y=\"660.836\">-</text>\n",
       "</g>\n",
       "<g clip-path=\"url(#clip3900)\">\n",
       "<text style=\"fill:#000000; fill-opacity:1; font-family:Arial,Helvetica Neue,Helvetica,sans-serif; font-size:38px; text-anchor:start;\" transform=\"rotate(0, 172.22, 660.836)\" x=\"172.22\" y=\"660.836\">4</text>\n",
       "</g>\n",
       "<g clip-path=\"url(#clip3900)\">\n",
       "<text style=\"fill:#000000; fill-opacity:1; font-family:Arial,Helvetica Neue,Helvetica,sans-serif; font-size:48px; text-anchor:start;\" transform=\"rotate(0, 95.8554, 422.395)\" x=\"95.8554\" y=\"422.395\">10</text>\n",
       "</g>\n",
       "<g clip-path=\"url(#clip3900)\">\n",
       "<text style=\"fill:#000000; fill-opacity:1; font-family:Arial,Helvetica Neue,Helvetica,sans-serif; font-size:38px; text-anchor:start;\" transform=\"rotate(0, 149.38, 394.984)\" x=\"149.38\" y=\"394.984\">-</text>\n",
       "</g>\n",
       "<g clip-path=\"url(#clip3900)\">\n",
       "<text style=\"fill:#000000; fill-opacity:1; font-family:Arial,Helvetica Neue,Helvetica,sans-serif; font-size:38px; text-anchor:start;\" transform=\"rotate(0, 172.22, 394.984)\" x=\"172.22\" y=\"394.984\">3</text>\n",
       "</g>\n",
       "<g clip-path=\"url(#clip3900)\">\n",
       "<text style=\"fill:#000000; fill-opacity:1; font-family:Arial,Helvetica Neue,Helvetica,sans-serif; font-size:48px; text-anchor:start;\" transform=\"rotate(0, 95.8554, 156.543)\" x=\"95.8554\" y=\"156.543\">10</text>\n",
       "</g>\n",
       "<g clip-path=\"url(#clip3900)\">\n",
       "<text style=\"fill:#000000; fill-opacity:1; font-family:Arial,Helvetica Neue,Helvetica,sans-serif; font-size:38px; text-anchor:start;\" transform=\"rotate(0, 149.38, 129.133)\" x=\"149.38\" y=\"129.133\">-</text>\n",
       "</g>\n",
       "<g clip-path=\"url(#clip3900)\">\n",
       "<text style=\"fill:#000000; fill-opacity:1; font-family:Arial,Helvetica Neue,Helvetica,sans-serif; font-size:38px; text-anchor:start;\" transform=\"rotate(0, 172.22, 129.133)\" x=\"172.22\" y=\"129.133\">2</text>\n",
       "</g>\n",
       "<g clip-path=\"url(#clip3900)\">\n",
       "<text style=\"fill:#000000; fill-opacity:1; font-family:Arial,Helvetica Neue,Helvetica,sans-serif; font-size:84px; text-anchor:middle;\" transform=\"rotate(0, 1285.36, 73.2)\" x=\"1285.36\" y=\"73.2\">error = f(n)</text>\n",
       "</g>\n",
       "<g clip-path=\"url(#clip3900)\">\n",
       "<text style=\"fill:#000000; fill-opacity:1; font-family:Arial,Helvetica Neue,Helvetica,sans-serif; font-size:66px; text-anchor:middle;\" transform=\"rotate(0, 1285.36, 1559.48)\" x=\"1285.36\" y=\"1559.48\">n</text>\n",
       "</g>\n",
       "<polyline clip-path=\"url(#clip3902)\" style=\"stroke:#009af9; stroke-width:4; stroke-opacity:1; fill:none\" points=\"\n",
       "  278.383,158.579 319.484,279.789 360.585,452.933 401.686,231.101 442.787,398.487 483.888,291.672 524.989,351.44 566.09,285.236 607.192,370.91 648.293,374.876 \n",
       "  689.394,385.416 730.495,416.244 771.596,436.742 812.697,626.236 853.798,418.042 894.899,563.024 936,539.87 977.102,473.999 1018.2,590.064 1059.3,492.69 \n",
       "  1100.4,534.938 1141.51,670.926 1182.61,735.559 1223.71,606.326 1264.81,617.054 1305.91,591.55 1347.01,725.638 1388.11,992.739 1429.21,846.76 1470.31,768.956 \n",
       "  1511.42,757.626 1552.52,790.841 1593.62,824.056 1634.72,688.613 1675.82,890.487 1716.92,590.774 1758.02,674.078 1799.12,990.132 1840.22,1023.35 1881.33,1056.56 \n",
       "  1922.43,1089.78 1963.53,1122.99 2004.63,1156.21 2045.73,1189.42 2086.83,1222.64 2127.93,1255.85 2169.03,1289.07 2210.14,1322.28 2251.24,1355.5 2292.34,1388.71 \n",
       "  \n",
       "  \"/>\n",
       "<path clip-path=\"url(#clip3900)\" d=\"\n",
       "M1939.15 326.155 L2280.76 326.155 L2280.76 205.195 L1939.15 205.195  Z\n",
       "  \" fill=\"#ffffff\" fill-rule=\"evenodd\" fill-opacity=\"1\"/>\n",
       "<polyline clip-path=\"url(#clip3900)\" style=\"stroke:#000000; stroke-width:4; stroke-opacity:1; fill:none\" points=\"\n",
       "  1939.15,326.155 2280.76,326.155 2280.76,205.195 1939.15,205.195 1939.15,326.155 \n",
       "  \"/>\n",
       "<polyline clip-path=\"url(#clip3900)\" style=\"stroke:#009af9; stroke-width:4; stroke-opacity:1; fill:none\" points=\"\n",
       "  1963.15,265.675 2107.15,265.675 \n",
       "  \"/>\n",
       "<g clip-path=\"url(#clip3900)\">\n",
       "<text style=\"fill:#000000; fill-opacity:1; font-family:Arial,Helvetica Neue,Helvetica,sans-serif; font-size:48px; text-anchor:start;\" transform=\"rotate(0, 2131.15, 283.175)\" x=\"2131.15\" y=\"283.175\">error</text>\n",
       "</g>\n",
       "</svg>\n"
      ]
     },
     "execution_count": 24,
     "metadata": {},
     "output_type": "execute_result"
    }
   ],
   "source": [
    "@assert maximum(prev_n) <= max_n + 1\n",
    "\n",
    "cur_error = zeros(max_n)\n",
    "for n in 1:max_n\n",
    "  @assert n == n_list[n]\n",
    "  cur_error[n] = P_list[n]\n",
    "  \n",
    "  if ( n in prev_n )\n",
    "    tmp_index = findfirst(tmp_n -> tmp_n == n, prev_n)\n",
    "    cur_error[n] -= prev_P[tmp_index]\n",
    "  end\n",
    "  \n",
    "  cur_error[n] = abs(cur_error[n])\n",
    "end\n",
    "\n",
    "plot(\n",
    "  n_list, cur_error, yscale=:log10,\n",
    "  xlabel=\"n\", title=\"error = f(n)\", label=\"error\"\n",
    ")\n"
   ]
  },
  {
   "cell_type": "markdown",
   "metadata": {},
   "source": [
    "#### The error between the two curves decreases exponentially with n (or tau from before)\n",
    "\n",
    "It was introduced by the stochasticity of the process and its impact decreases as time passes\n",
    "\n",
    "---"
   ]
  },
  {
   "cell_type": "markdown",
   "metadata": {},
   "source": [
    "\n",
    "### 3. Write a function `cumulative_sum`, which returns a new vector. \n"
   ]
  },
  {
   "cell_type": "code",
   "execution_count": 25,
   "metadata": {},
   "outputs": [],
   "source": [
    "function cumulative_sum(input_list)\n",
    "  output_list = collect(input_list)\n",
    "  \n",
    "  cur_sum = 0\n",
    "  for (cur_index, cur_value) in enumerate(output_list)\n",
    "    cur_sum += cur_value\n",
    "    output_list[cur_index] = cur_sum\n",
    "  end\n",
    "  \n",
    "  return output_list\n",
    "end\n",
    "\n",
    "@assert cumulative_sum(n_list) == cumsum(n_list) \n",
    "@assert cumulative_sum(P_list) == cumsum(P_list) \n"
   ]
  },
  {
   "cell_type": "markdown",
   "metadata": {},
   "source": [
    "\n",
    "### 4. Plot the resulting values on a horizontal line. \n",
    "\n",
    "+ Generate a few random points and plot those\n",
    "+ Convince yourself that the probability that a point hits a bin is equal to the length of that bin.\n"
   ]
  },
  {
   "cell_type": "code",
   "execution_count": 26,
   "metadata": {},
   "outputs": [
    {
     "data": {
      "image/svg+xml": [
       "<?xml version=\"1.0\" encoding=\"utf-8\"?>\n",
       "<svg xmlns=\"http://www.w3.org/2000/svg\" xmlns:xlink=\"http://www.w3.org/1999/xlink\" width=\"600\" height=\"400\" viewBox=\"0 0 2400 1600\">\n",
       "<defs>\n",
       "  <clipPath id=\"clip4300\">\n",
       "    <rect x=\"0\" y=\"0\" width=\"2400\" height=\"1600\"/>\n",
       "  </clipPath>\n",
       "</defs>\n",
       "<path clip-path=\"url(#clip4300)\" d=\"\n",
       "M0 1600 L2400 1600 L2400 0 L0 0  Z\n",
       "  \" fill=\"#ffffff\" fill-rule=\"evenodd\" fill-opacity=\"1\"/>\n",
       "<defs>\n",
       "  <clipPath id=\"clip4301\">\n",
       "    <rect x=\"480\" y=\"0\" width=\"1681\" height=\"1600\"/>\n",
       "  </clipPath>\n",
       "</defs>\n",
       "<path clip-path=\"url(#clip4300)\" d=\"\n",
       "M180.66 1487.47 L2352.76 1487.47 L2352.76 47.2441 L180.66 47.2441  Z\n",
       "  \" fill=\"#ffffff\" fill-rule=\"evenodd\" fill-opacity=\"1\"/>\n",
       "<defs>\n",
       "  <clipPath id=\"clip4302\">\n",
       "    <rect x=\"180\" y=\"47\" width=\"2173\" height=\"1441\"/>\n",
       "  </clipPath>\n",
       "</defs>\n",
       "<polyline clip-path=\"url(#clip4302)\" style=\"stroke:#000000; stroke-width:2; stroke-opacity:0.1; fill:none\" points=\"\n",
       "  200.315,1487.47 200.315,47.2441 \n",
       "  \"/>\n",
       "<polyline clip-path=\"url(#clip4302)\" style=\"stroke:#000000; stroke-width:2; stroke-opacity:0.1; fill:none\" points=\"\n",
       "  618.509,1487.47 618.509,47.2441 \n",
       "  \"/>\n",
       "<polyline clip-path=\"url(#clip4302)\" style=\"stroke:#000000; stroke-width:2; stroke-opacity:0.1; fill:none\" points=\"\n",
       "  1036.7,1487.47 1036.7,47.2441 \n",
       "  \"/>\n",
       "<polyline clip-path=\"url(#clip4302)\" style=\"stroke:#000000; stroke-width:2; stroke-opacity:0.1; fill:none\" points=\"\n",
       "  1454.9,1487.47 1454.9,47.2441 \n",
       "  \"/>\n",
       "<polyline clip-path=\"url(#clip4302)\" style=\"stroke:#000000; stroke-width:2; stroke-opacity:0.1; fill:none\" points=\"\n",
       "  1873.09,1487.47 1873.09,47.2441 \n",
       "  \"/>\n",
       "<polyline clip-path=\"url(#clip4302)\" style=\"stroke:#000000; stroke-width:2; stroke-opacity:0.1; fill:none\" points=\"\n",
       "  2291.28,1487.47 2291.28,47.2441 \n",
       "  \"/>\n",
       "<polyline clip-path=\"url(#clip4302)\" style=\"stroke:#000000; stroke-width:2; stroke-opacity:0.1; fill:none\" points=\"\n",
       "  180.66,1487.47 2352.76,1487.47 \n",
       "  \"/>\n",
       "<polyline clip-path=\"url(#clip4302)\" style=\"stroke:#000000; stroke-width:2; stroke-opacity:0.1; fill:none\" points=\"\n",
       "  180.66,1160.15 2352.76,1160.15 \n",
       "  \"/>\n",
       "<polyline clip-path=\"url(#clip4302)\" style=\"stroke:#000000; stroke-width:2; stroke-opacity:0.1; fill:none\" points=\"\n",
       "  180.66,832.824 2352.76,832.824 \n",
       "  \"/>\n",
       "<polyline clip-path=\"url(#clip4302)\" style=\"stroke:#000000; stroke-width:2; stroke-opacity:0.1; fill:none\" points=\"\n",
       "  180.66,505.499 2352.76,505.499 \n",
       "  \"/>\n",
       "<polyline clip-path=\"url(#clip4302)\" style=\"stroke:#000000; stroke-width:2; stroke-opacity:0.1; fill:none\" points=\"\n",
       "  180.66,178.174 2352.76,178.174 \n",
       "  \"/>\n",
       "<polyline clip-path=\"url(#clip4300)\" style=\"stroke:#000000; stroke-width:4; stroke-opacity:1; fill:none\" points=\"\n",
       "  180.66,1487.47 2352.76,1487.47 \n",
       "  \"/>\n",
       "<polyline clip-path=\"url(#clip4300)\" style=\"stroke:#000000; stroke-width:4; stroke-opacity:1; fill:none\" points=\"\n",
       "  180.66,1487.47 180.66,47.2441 \n",
       "  \"/>\n",
       "<polyline clip-path=\"url(#clip4300)\" style=\"stroke:#000000; stroke-width:4; stroke-opacity:1; fill:none\" points=\"\n",
       "  200.315,1487.47 200.315,1470.19 \n",
       "  \"/>\n",
       "<polyline clip-path=\"url(#clip4300)\" style=\"stroke:#000000; stroke-width:4; stroke-opacity:1; fill:none\" points=\"\n",
       "  618.509,1487.47 618.509,1470.19 \n",
       "  \"/>\n",
       "<polyline clip-path=\"url(#clip4300)\" style=\"stroke:#000000; stroke-width:4; stroke-opacity:1; fill:none\" points=\"\n",
       "  1036.7,1487.47 1036.7,1470.19 \n",
       "  \"/>\n",
       "<polyline clip-path=\"url(#clip4300)\" style=\"stroke:#000000; stroke-width:4; stroke-opacity:1; fill:none\" points=\"\n",
       "  1454.9,1487.47 1454.9,1470.19 \n",
       "  \"/>\n",
       "<polyline clip-path=\"url(#clip4300)\" style=\"stroke:#000000; stroke-width:4; stroke-opacity:1; fill:none\" points=\"\n",
       "  1873.09,1487.47 1873.09,1470.19 \n",
       "  \"/>\n",
       "<polyline clip-path=\"url(#clip4300)\" style=\"stroke:#000000; stroke-width:4; stroke-opacity:1; fill:none\" points=\"\n",
       "  2291.28,1487.47 2291.28,1470.19 \n",
       "  \"/>\n",
       "<polyline clip-path=\"url(#clip4300)\" style=\"stroke:#000000; stroke-width:4; stroke-opacity:1; fill:none\" points=\"\n",
       "  180.66,1487.47 206.725,1487.47 \n",
       "  \"/>\n",
       "<polyline clip-path=\"url(#clip4300)\" style=\"stroke:#000000; stroke-width:4; stroke-opacity:1; fill:none\" points=\"\n",
       "  180.66,1160.15 206.725,1160.15 \n",
       "  \"/>\n",
       "<polyline clip-path=\"url(#clip4300)\" style=\"stroke:#000000; stroke-width:4; stroke-opacity:1; fill:none\" points=\"\n",
       "  180.66,832.824 206.725,832.824 \n",
       "  \"/>\n",
       "<polyline clip-path=\"url(#clip4300)\" style=\"stroke:#000000; stroke-width:4; stroke-opacity:1; fill:none\" points=\"\n",
       "  180.66,505.499 206.725,505.499 \n",
       "  \"/>\n",
       "<polyline clip-path=\"url(#clip4300)\" style=\"stroke:#000000; stroke-width:4; stroke-opacity:1; fill:none\" points=\"\n",
       "  180.66,178.174 206.725,178.174 \n",
       "  \"/>\n",
       "<g clip-path=\"url(#clip4300)\">\n",
       "<text style=\"fill:#000000; fill-opacity:1; font-family:Arial,Helvetica Neue,Helvetica,sans-serif; font-size:48px; text-anchor:middle;\" transform=\"rotate(0, 200.315, 1541.47)\" x=\"200.315\" y=\"1541.47\">0</text>\n",
       "</g>\n",
       "<g clip-path=\"url(#clip4300)\">\n",
       "<text style=\"fill:#000000; fill-opacity:1; font-family:Arial,Helvetica Neue,Helvetica,sans-serif; font-size:48px; text-anchor:middle;\" transform=\"rotate(0, 618.509, 1541.47)\" x=\"618.509\" y=\"1541.47\">10</text>\n",
       "</g>\n",
       "<g clip-path=\"url(#clip4300)\">\n",
       "<text style=\"fill:#000000; fill-opacity:1; font-family:Arial,Helvetica Neue,Helvetica,sans-serif; font-size:48px; text-anchor:middle;\" transform=\"rotate(0, 1036.7, 1541.47)\" x=\"1036.7\" y=\"1541.47\">20</text>\n",
       "</g>\n",
       "<g clip-path=\"url(#clip4300)\">\n",
       "<text style=\"fill:#000000; fill-opacity:1; font-family:Arial,Helvetica Neue,Helvetica,sans-serif; font-size:48px; text-anchor:middle;\" transform=\"rotate(0, 1454.9, 1541.47)\" x=\"1454.9\" y=\"1541.47\">30</text>\n",
       "</g>\n",
       "<g clip-path=\"url(#clip4300)\">\n",
       "<text style=\"fill:#000000; fill-opacity:1; font-family:Arial,Helvetica Neue,Helvetica,sans-serif; font-size:48px; text-anchor:middle;\" transform=\"rotate(0, 1873.09, 1541.47)\" x=\"1873.09\" y=\"1541.47\">40</text>\n",
       "</g>\n",
       "<g clip-path=\"url(#clip4300)\">\n",
       "<text style=\"fill:#000000; fill-opacity:1; font-family:Arial,Helvetica Neue,Helvetica,sans-serif; font-size:48px; text-anchor:middle;\" transform=\"rotate(0, 2291.28, 1541.47)\" x=\"2291.28\" y=\"1541.47\">50</text>\n",
       "</g>\n",
       "<g clip-path=\"url(#clip4300)\">\n",
       "<text style=\"fill:#000000; fill-opacity:1; font-family:Arial,Helvetica Neue,Helvetica,sans-serif; font-size:48px; text-anchor:end;\" transform=\"rotate(0, 156.66, 1504.97)\" x=\"156.66\" y=\"1504.97\">0.00</text>\n",
       "</g>\n",
       "<g clip-path=\"url(#clip4300)\">\n",
       "<text style=\"fill:#000000; fill-opacity:1; font-family:Arial,Helvetica Neue,Helvetica,sans-serif; font-size:48px; text-anchor:end;\" transform=\"rotate(0, 156.66, 1177.65)\" x=\"156.66\" y=\"1177.65\">0.25</text>\n",
       "</g>\n",
       "<g clip-path=\"url(#clip4300)\">\n",
       "<text style=\"fill:#000000; fill-opacity:1; font-family:Arial,Helvetica Neue,Helvetica,sans-serif; font-size:48px; text-anchor:end;\" transform=\"rotate(0, 156.66, 850.324)\" x=\"156.66\" y=\"850.324\">0.50</text>\n",
       "</g>\n",
       "<g clip-path=\"url(#clip4300)\">\n",
       "<text style=\"fill:#000000; fill-opacity:1; font-family:Arial,Helvetica Neue,Helvetica,sans-serif; font-size:48px; text-anchor:end;\" transform=\"rotate(0, 156.66, 522.999)\" x=\"156.66\" y=\"522.999\">0.75</text>\n",
       "</g>\n",
       "<g clip-path=\"url(#clip4300)\">\n",
       "<text style=\"fill:#000000; fill-opacity:1; font-family:Arial,Helvetica Neue,Helvetica,sans-serif; font-size:48px; text-anchor:end;\" transform=\"rotate(0, 156.66, 195.674)\" x=\"156.66\" y=\"195.674\">1.00</text>\n",
       "</g>\n",
       "<circle clip-path=\"url(#clip4302)\" cx=\"242.135\" cy=\"1160.15\" r=\"14\" fill=\"#009af9\" fill-rule=\"evenodd\" fill-opacity=\"1\" stroke=\"#000000\" stroke-opacity=\"1\" stroke-width=\"3.2\"/>\n",
       "<circle clip-path=\"url(#clip4302)\" cx=\"283.954\" cy=\"914.656\" r=\"14\" fill=\"#009af9\" fill-rule=\"evenodd\" fill-opacity=\"1\" stroke=\"#000000\" stroke-opacity=\"1\" stroke-width=\"3.2\"/>\n",
       "<circle clip-path=\"url(#clip4302)\" cx=\"325.773\" cy=\"730.535\" r=\"14\" fill=\"#009af9\" fill-rule=\"evenodd\" fill-opacity=\"1\" stroke=\"#000000\" stroke-opacity=\"1\" stroke-width=\"3.2\"/>\n",
       "<circle clip-path=\"url(#clip4302)\" cx=\"367.593\" cy=\"592.445\" r=\"14\" fill=\"#009af9\" fill-rule=\"evenodd\" fill-opacity=\"1\" stroke=\"#000000\" stroke-opacity=\"1\" stroke-width=\"3.2\"/>\n",
       "<circle clip-path=\"url(#clip4302)\" cx=\"409.412\" cy=\"488.877\" r=\"14\" fill=\"#009af9\" fill-rule=\"evenodd\" fill-opacity=\"1\" stroke=\"#000000\" stroke-opacity=\"1\" stroke-width=\"3.2\"/>\n",
       "<circle clip-path=\"url(#clip4302)\" cx=\"451.231\" cy=\"411.202\" r=\"14\" fill=\"#009af9\" fill-rule=\"evenodd\" fill-opacity=\"1\" stroke=\"#000000\" stroke-opacity=\"1\" stroke-width=\"3.2\"/>\n",
       "<circle clip-path=\"url(#clip4302)\" cx=\"493.051\" cy=\"352.945\" r=\"14\" fill=\"#009af9\" fill-rule=\"evenodd\" fill-opacity=\"1\" stroke=\"#000000\" stroke-opacity=\"1\" stroke-width=\"3.2\"/>\n",
       "<circle clip-path=\"url(#clip4302)\" cx=\"534.87\" cy=\"309.252\" r=\"14\" fill=\"#009af9\" fill-rule=\"evenodd\" fill-opacity=\"1\" stroke=\"#000000\" stroke-opacity=\"1\" stroke-width=\"3.2\"/>\n",
       "<circle clip-path=\"url(#clip4302)\" cx=\"576.689\" cy=\"276.483\" r=\"14\" fill=\"#009af9\" fill-rule=\"evenodd\" fill-opacity=\"1\" stroke=\"#000000\" stroke-opacity=\"1\" stroke-width=\"3.2\"/>\n",
       "<circle clip-path=\"url(#clip4302)\" cx=\"618.509\" cy=\"251.905\" r=\"14\" fill=\"#009af9\" fill-rule=\"evenodd\" fill-opacity=\"1\" stroke=\"#000000\" stroke-opacity=\"1\" stroke-width=\"3.2\"/>\n",
       "<circle clip-path=\"url(#clip4302)\" cx=\"660.328\" cy=\"233.473\" r=\"14\" fill=\"#009af9\" fill-rule=\"evenodd\" fill-opacity=\"1\" stroke=\"#000000\" stroke-opacity=\"1\" stroke-width=\"3.2\"/>\n",
       "<circle clip-path=\"url(#clip4302)\" cx=\"702.147\" cy=\"219.648\" r=\"14\" fill=\"#009af9\" fill-rule=\"evenodd\" fill-opacity=\"1\" stroke=\"#000000\" stroke-opacity=\"1\" stroke-width=\"3.2\"/>\n",
       "<circle clip-path=\"url(#clip4302)\" cx=\"743.967\" cy=\"209.28\" r=\"14\" fill=\"#009af9\" fill-rule=\"evenodd\" fill-opacity=\"1\" stroke=\"#000000\" stroke-opacity=\"1\" stroke-width=\"3.2\"/>\n",
       "<circle clip-path=\"url(#clip4302)\" cx=\"785.786\" cy=\"201.503\" r=\"14\" fill=\"#009af9\" fill-rule=\"evenodd\" fill-opacity=\"1\" stroke=\"#000000\" stroke-opacity=\"1\" stroke-width=\"3.2\"/>\n",
       "<circle clip-path=\"url(#clip4302)\" cx=\"827.605\" cy=\"195.671\" r=\"14\" fill=\"#009af9\" fill-rule=\"evenodd\" fill-opacity=\"1\" stroke=\"#000000\" stroke-opacity=\"1\" stroke-width=\"3.2\"/>\n",
       "<circle clip-path=\"url(#clip4302)\" cx=\"869.425\" cy=\"191.297\" r=\"14\" fill=\"#009af9\" fill-rule=\"evenodd\" fill-opacity=\"1\" stroke=\"#000000\" stroke-opacity=\"1\" stroke-width=\"3.2\"/>\n",
       "<circle clip-path=\"url(#clip4302)\" cx=\"911.244\" cy=\"188.016\" r=\"14\" fill=\"#009af9\" fill-rule=\"evenodd\" fill-opacity=\"1\" stroke=\"#000000\" stroke-opacity=\"1\" stroke-width=\"3.2\"/>\n",
       "<circle clip-path=\"url(#clip4302)\" cx=\"953.063\" cy=\"185.556\" r=\"14\" fill=\"#009af9\" fill-rule=\"evenodd\" fill-opacity=\"1\" stroke=\"#000000\" stroke-opacity=\"1\" stroke-width=\"3.2\"/>\n",
       "<circle clip-path=\"url(#clip4302)\" cx=\"994.883\" cy=\"183.71\" r=\"14\" fill=\"#009af9\" fill-rule=\"evenodd\" fill-opacity=\"1\" stroke=\"#000000\" stroke-opacity=\"1\" stroke-width=\"3.2\"/>\n",
       "<circle clip-path=\"url(#clip4302)\" cx=\"1036.7\" cy=\"182.326\" r=\"14\" fill=\"#009af9\" fill-rule=\"evenodd\" fill-opacity=\"1\" stroke=\"#000000\" stroke-opacity=\"1\" stroke-width=\"3.2\"/>\n",
       "<circle clip-path=\"url(#clip4302)\" cx=\"1078.52\" cy=\"181.288\" r=\"14\" fill=\"#009af9\" fill-rule=\"evenodd\" fill-opacity=\"1\" stroke=\"#000000\" stroke-opacity=\"1\" stroke-width=\"3.2\"/>\n",
       "<circle clip-path=\"url(#clip4302)\" cx=\"1120.34\" cy=\"180.51\" r=\"14\" fill=\"#009af9\" fill-rule=\"evenodd\" fill-opacity=\"1\" stroke=\"#000000\" stroke-opacity=\"1\" stroke-width=\"3.2\"/>\n",
       "<circle clip-path=\"url(#clip4302)\" cx=\"1162.16\" cy=\"179.926\" r=\"14\" fill=\"#009af9\" fill-rule=\"evenodd\" fill-opacity=\"1\" stroke=\"#000000\" stroke-opacity=\"1\" stroke-width=\"3.2\"/>\n",
       "<circle clip-path=\"url(#clip4302)\" cx=\"1203.98\" cy=\"179.488\" r=\"14\" fill=\"#009af9\" fill-rule=\"evenodd\" fill-opacity=\"1\" stroke=\"#000000\" stroke-opacity=\"1\" stroke-width=\"3.2\"/>\n",
       "<circle clip-path=\"url(#clip4302)\" cx=\"1245.8\" cy=\"179.159\" r=\"14\" fill=\"#009af9\" fill-rule=\"evenodd\" fill-opacity=\"1\" stroke=\"#000000\" stroke-opacity=\"1\" stroke-width=\"3.2\"/>\n",
       "<circle clip-path=\"url(#clip4302)\" cx=\"1287.62\" cy=\"178.913\" r=\"14\" fill=\"#009af9\" fill-rule=\"evenodd\" fill-opacity=\"1\" stroke=\"#000000\" stroke-opacity=\"1\" stroke-width=\"3.2\"/>\n",
       "<circle clip-path=\"url(#clip4302)\" cx=\"1329.44\" cy=\"178.728\" r=\"14\" fill=\"#009af9\" fill-rule=\"evenodd\" fill-opacity=\"1\" stroke=\"#000000\" stroke-opacity=\"1\" stroke-width=\"3.2\"/>\n",
       "<circle clip-path=\"url(#clip4302)\" cx=\"1371.26\" cy=\"178.59\" r=\"14\" fill=\"#009af9\" fill-rule=\"evenodd\" fill-opacity=\"1\" stroke=\"#000000\" stroke-opacity=\"1\" stroke-width=\"3.2\"/>\n",
       "<circle clip-path=\"url(#clip4302)\" cx=\"1413.08\" cy=\"178.486\" r=\"14\" fill=\"#009af9\" fill-rule=\"evenodd\" fill-opacity=\"1\" stroke=\"#000000\" stroke-opacity=\"1\" stroke-width=\"3.2\"/>\n",
       "<circle clip-path=\"url(#clip4302)\" cx=\"1454.9\" cy=\"178.408\" r=\"14\" fill=\"#009af9\" fill-rule=\"evenodd\" fill-opacity=\"1\" stroke=\"#000000\" stroke-opacity=\"1\" stroke-width=\"3.2\"/>\n",
       "<circle clip-path=\"url(#clip4302)\" cx=\"1496.71\" cy=\"178.35\" r=\"14\" fill=\"#009af9\" fill-rule=\"evenodd\" fill-opacity=\"1\" stroke=\"#000000\" stroke-opacity=\"1\" stroke-width=\"3.2\"/>\n",
       "<circle clip-path=\"url(#clip4302)\" cx=\"1538.53\" cy=\"178.306\" r=\"14\" fill=\"#009af9\" fill-rule=\"evenodd\" fill-opacity=\"1\" stroke=\"#000000\" stroke-opacity=\"1\" stroke-width=\"3.2\"/>\n",
       "<circle clip-path=\"url(#clip4302)\" cx=\"1580.35\" cy=\"178.273\" r=\"14\" fill=\"#009af9\" fill-rule=\"evenodd\" fill-opacity=\"1\" stroke=\"#000000\" stroke-opacity=\"1\" stroke-width=\"3.2\"/>\n",
       "<circle clip-path=\"url(#clip4302)\" cx=\"1622.17\" cy=\"178.248\" r=\"14\" fill=\"#009af9\" fill-rule=\"evenodd\" fill-opacity=\"1\" stroke=\"#000000\" stroke-opacity=\"1\" stroke-width=\"3.2\"/>\n",
       "<circle clip-path=\"url(#clip4302)\" cx=\"1663.99\" cy=\"178.23\" r=\"14\" fill=\"#009af9\" fill-rule=\"evenodd\" fill-opacity=\"1\" stroke=\"#000000\" stroke-opacity=\"1\" stroke-width=\"3.2\"/>\n",
       "<circle clip-path=\"url(#clip4302)\" cx=\"1705.81\" cy=\"178.216\" r=\"14\" fill=\"#009af9\" fill-rule=\"evenodd\" fill-opacity=\"1\" stroke=\"#000000\" stroke-opacity=\"1\" stroke-width=\"3.2\"/>\n",
       "<circle clip-path=\"url(#clip4302)\" cx=\"1747.63\" cy=\"178.205\" r=\"14\" fill=\"#009af9\" fill-rule=\"evenodd\" fill-opacity=\"1\" stroke=\"#000000\" stroke-opacity=\"1\" stroke-width=\"3.2\"/>\n",
       "<circle clip-path=\"url(#clip4302)\" cx=\"1789.45\" cy=\"178.198\" r=\"14\" fill=\"#009af9\" fill-rule=\"evenodd\" fill-opacity=\"1\" stroke=\"#000000\" stroke-opacity=\"1\" stroke-width=\"3.2\"/>\n",
       "<circle clip-path=\"url(#clip4302)\" cx=\"1831.27\" cy=\"178.192\" r=\"14\" fill=\"#009af9\" fill-rule=\"evenodd\" fill-opacity=\"1\" stroke=\"#000000\" stroke-opacity=\"1\" stroke-width=\"3.2\"/>\n",
       "<circle clip-path=\"url(#clip4302)\" cx=\"1873.09\" cy=\"178.187\" r=\"14\" fill=\"#009af9\" fill-rule=\"evenodd\" fill-opacity=\"1\" stroke=\"#000000\" stroke-opacity=\"1\" stroke-width=\"3.2\"/>\n",
       "<circle clip-path=\"url(#clip4302)\" cx=\"1914.91\" cy=\"178.184\" r=\"14\" fill=\"#009af9\" fill-rule=\"evenodd\" fill-opacity=\"1\" stroke=\"#000000\" stroke-opacity=\"1\" stroke-width=\"3.2\"/>\n",
       "<circle clip-path=\"url(#clip4302)\" cx=\"1956.73\" cy=\"178.182\" r=\"14\" fill=\"#009af9\" fill-rule=\"evenodd\" fill-opacity=\"1\" stroke=\"#000000\" stroke-opacity=\"1\" stroke-width=\"3.2\"/>\n",
       "<circle clip-path=\"url(#clip4302)\" cx=\"1998.55\" cy=\"178.18\" r=\"14\" fill=\"#009af9\" fill-rule=\"evenodd\" fill-opacity=\"1\" stroke=\"#000000\" stroke-opacity=\"1\" stroke-width=\"3.2\"/>\n",
       "<circle clip-path=\"url(#clip4302)\" cx=\"2040.37\" cy=\"178.178\" r=\"14\" fill=\"#009af9\" fill-rule=\"evenodd\" fill-opacity=\"1\" stroke=\"#000000\" stroke-opacity=\"1\" stroke-width=\"3.2\"/>\n",
       "<circle clip-path=\"url(#clip4302)\" cx=\"2082.18\" cy=\"178.177\" r=\"14\" fill=\"#009af9\" fill-rule=\"evenodd\" fill-opacity=\"1\" stroke=\"#000000\" stroke-opacity=\"1\" stroke-width=\"3.2\"/>\n",
       "<circle clip-path=\"url(#clip4302)\" cx=\"2124\" cy=\"178.176\" r=\"14\" fill=\"#009af9\" fill-rule=\"evenodd\" fill-opacity=\"1\" stroke=\"#000000\" stroke-opacity=\"1\" stroke-width=\"3.2\"/>\n",
       "<circle clip-path=\"url(#clip4302)\" cx=\"2165.82\" cy=\"178.176\" r=\"14\" fill=\"#009af9\" fill-rule=\"evenodd\" fill-opacity=\"1\" stroke=\"#000000\" stroke-opacity=\"1\" stroke-width=\"3.2\"/>\n",
       "<circle clip-path=\"url(#clip4302)\" cx=\"2207.64\" cy=\"178.175\" r=\"14\" fill=\"#009af9\" fill-rule=\"evenodd\" fill-opacity=\"1\" stroke=\"#000000\" stroke-opacity=\"1\" stroke-width=\"3.2\"/>\n",
       "<circle clip-path=\"url(#clip4302)\" cx=\"2249.46\" cy=\"178.175\" r=\"14\" fill=\"#009af9\" fill-rule=\"evenodd\" fill-opacity=\"1\" stroke=\"#000000\" stroke-opacity=\"1\" stroke-width=\"3.2\"/>\n",
       "<circle clip-path=\"url(#clip4302)\" cx=\"2291.28\" cy=\"178.175\" r=\"14\" fill=\"#009af9\" fill-rule=\"evenodd\" fill-opacity=\"1\" stroke=\"#000000\" stroke-opacity=\"1\" stroke-width=\"3.2\"/>\n",
       "<polyline clip-path=\"url(#clip4302)\" style=\"stroke:#e26f46; stroke-width:4; stroke-opacity:1; fill:none\" points=\"\n",
       "  -1991.44,843.717 4524.85,843.717 \n",
       "  \"/>\n",
       "<polyline clip-path=\"url(#clip4302)\" style=\"stroke:#e26f46; stroke-width:4; stroke-opacity:1; fill:none\" points=\"\n",
       "  -1991.44,478.486 4524.85,478.486 \n",
       "  \"/>\n",
       "<polyline clip-path=\"url(#clip4302)\" style=\"stroke:#e26f46; stroke-width:4; stroke-opacity:1; fill:none\" points=\"\n",
       "  -1991.44,1085.48 4524.85,1085.48 \n",
       "  \"/>\n",
       "<polyline clip-path=\"url(#clip4302)\" style=\"stroke:#e26f46; stroke-width:4; stroke-opacity:1; fill:none\" points=\"\n",
       "  -1991.44,517.182 4524.85,517.182 \n",
       "  \"/>\n",
       "<polyline clip-path=\"url(#clip4302)\" style=\"stroke:#e26f46; stroke-width:4; stroke-opacity:1; fill:none\" points=\"\n",
       "  -1991.44,559.805 4524.85,559.805 \n",
       "  \"/>\n",
       "<polyline clip-path=\"url(#clip4302)\" style=\"stroke:#e26f46; stroke-width:4; stroke-opacity:1; fill:none\" points=\"\n",
       "  -1991.44,251.299 4524.85,251.299 \n",
       "  \"/>\n",
       "<polyline clip-path=\"url(#clip4302)\" style=\"stroke:#e26f46; stroke-width:4; stroke-opacity:1; fill:none\" points=\"\n",
       "  -1991.44,1211.61 4524.85,1211.61 \n",
       "  \"/>\n",
       "<polyline clip-path=\"url(#clip4302)\" style=\"stroke:#e26f46; stroke-width:4; stroke-opacity:1; fill:none\" points=\"\n",
       "  -1991.44,1073.8 4524.85,1073.8 \n",
       "  \"/>\n",
       "<path clip-path=\"url(#clip4300)\" d=\"\n",
       "M1989.93 312.204 L2280.76 312.204 L2280.76 130.764 L1989.93 130.764  Z\n",
       "  \" fill=\"#ffffff\" fill-rule=\"evenodd\" fill-opacity=\"1\"/>\n",
       "<polyline clip-path=\"url(#clip4300)\" style=\"stroke:#000000; stroke-width:4; stroke-opacity:1; fill:none\" points=\"\n",
       "  1989.93,312.204 2280.76,312.204 2280.76,130.764 1989.93,130.764 1989.93,312.204 \n",
       "  \"/>\n",
       "<circle clip-path=\"url(#clip4300)\" cx=\"2097.93\" cy=\"191.244\" r=\"21\" fill=\"#009af9\" fill-rule=\"evenodd\" fill-opacity=\"1\" stroke=\"#000000\" stroke-opacity=\"1\" stroke-width=\"3.2\"/>\n",
       "<g clip-path=\"url(#clip4300)\">\n",
       "<text style=\"fill:#000000; fill-opacity:1; font-family:Arial,Helvetica Neue,Helvetica,sans-serif; font-size:48px; text-anchor:start;\" transform=\"rotate(0, 2181.93, 208.744)\" x=\"2181.93\" y=\"208.744\">y1</text>\n",
       "</g>\n",
       "<polyline clip-path=\"url(#clip4300)\" style=\"stroke:#e26f46; stroke-width:4; stroke-opacity:1; fill:none\" points=\"\n",
       "  2013.93,251.724 2157.93,251.724 \n",
       "  \"/>\n",
       "<g clip-path=\"url(#clip4300)\">\n",
       "<text style=\"fill:#000000; fill-opacity:1; font-family:Arial,Helvetica Neue,Helvetica,sans-serif; font-size:48px; text-anchor:start;\" transform=\"rotate(0, 2181.93, 269.224)\" x=\"2181.93\" y=\"269.224\">y2</text>\n",
       "</g>\n",
       "</svg>\n"
      ]
     },
     "execution_count": 26,
     "metadata": {},
     "output_type": "execute_result"
    }
   ],
   "source": [
    "scatter(n_list, cumulative_sum(P_list))\n",
    "hline!(rand(8))\n",
    "ylims!(0,1.1)"
   ]
  },
  {
   "cell_type": "markdown",
   "metadata": {},
   "source": [
    "\n",
    "### 5. Calculate analytically the sum of $P_1$ up to $P_n$\n"
   ]
  },
  {
   "cell_type": "markdown",
   "metadata": {},
   "source": [
    "First part,\n",
    "\n",
    "+ $P_n = p \\cdot (1-p) ^ {n-1}$\n",
    "+ $\\sum_1^n P_i = p \\cdot \\sum_1^n (1-p) ^ {n-1} $\n",
    "\n",
    "Second part,\n",
    "\n",
    "+ $S_n = \\sum_1^n x ^ {n-1} = 1 + x + x^2 + \\cdots + x^{n-1}$\n",
    "+ $S_{n+1} = x + x^2 + \\cdots + x^n = x \\cdot S_n$\n",
    "\n",
    "Combining the two substeps of the second part:\n",
    "\n",
    "+ $S_n \\cdot (1-x) = (1-x^n)$\n",
    "+ **or:** $S_n = \\frac{1-x^n}{1-x}$\n",
    "\n",
    "Substituting in x = 1-p, gives:\n",
    "\n",
    "+ $S_n = \\frac{1-(1-p)^n}{p}$\n",
    "\n",
    "So now we can say,\n",
    "\n",
    "$\\sum_1^n P_i = 1-(1-p)^n $\n",
    "\n",
    "Where two factors of **`p`**'s cancelled out\n",
    "\n",
    "// note that because p < 1, $P_i$ tends to 1 as n goes to infinity\n",
    "\n",
    "----"
   ]
  },
  {
   "cell_type": "markdown",
   "metadata": {},
   "source": [
    "\n",
    "### 6. Use the result of [5] to find analytically which bin $n$ \n",
    "A given value of $r \\in [0, 1]$ falls into using the inequality $P_{n-1} \\le r \\lt P_n$.\n"
   ]
  },
  {
   "cell_type": "markdown",
   "metadata": {},
   "source": [
    "We start with:\n",
    "\n",
    "+ $r = \\sum_1^n P_i $\n",
    "+ $r = 1-(1-p)^n $\n",
    "\n",
    "This leads to:\n",
    "\n",
    "+ $(1-p)^n = (1-r)$\n",
    "\n",
    "However, **`n`** is an int defined at right end of interval, so:\n",
    "\n",
    "> $ n = 1 + \\left\\lfloor \\frac{log(1-r)}{log(1-p)} \\right\\rfloor $"
   ]
  },
  {
   "cell_type": "markdown",
   "metadata": {},
   "source": [
    "\n",
    "### 7. Implement this using the `floor` function."
   ]
  },
  {
   "cell_type": "code",
   "execution_count": 27,
   "metadata": {},
   "outputs": [
    {
     "name": "stdout",
     "output_type": "stream",
     "text": [
      "\n",
      "--------------\n",
      " a quick test\n",
      "--------------\n",
      "\n",
      "r = 0.64   ->   n = 4\n",
      "r = 0.24   ->   n = 1\n",
      "r = 0.05   ->   n = 1\n",
      "r = 0.98   ->   n = 14\n",
      "r = 0.15   ->   n = 1\n",
      "r = 0.37   ->   n = 2\n",
      "r = 0.52   ->   n = 3\n",
      "r = 0.46   ->   n = 3\n",
      "r = 0.08   ->   n = 1\n",
      "r = 0.60   ->   n = 4\n"
     ]
    }
   ],
   "source": [
    "p = 0.25\n",
    "calc_n(r, p) = Int( 1 + floor( log(1-r) / log(1-p) ) )\n",
    "\n",
    "println(\"\\n--------------\\n a quick test\\n--------------\\n\")\n",
    "for _ in 1:10\n",
    "  r = rand()\n",
    "  n = calc_n(r,p)\n",
    "  \n",
    "  rounded_string = rpad(string(round(r, digits=2)), 4, \"0\")\n",
    "  println(\"r = \", rounded_string, \"   ->   n = \", n)\n",
    "end"
   ]
  },
  {
   "cell_type": "markdown",
   "metadata": {},
   "source": [
    "----\n",
    "\n",
    "## Exercise 4: A simple infection model\n",
    "\n",
    "A simple model for modeling infection and recovery is: An individual starts in state `S` (\"susceptible\"). When they are in state `S`, they have a probability $p_E$ to become exposed (state `E`) at each step. Once they are exposed, they have probability $p_I$ to become infectious (state `I`). When they are infectious, they have a probability $p_R$ to recover at each step.\n",
    "\n",
    "> `S -> E -> I -> R`\n",
    "\n",
    "----"
   ]
  },
  {
   "cell_type": "markdown",
   "metadata": {},
   "source": [
    "### 1. How does the total time $\\tau_\\text{total}$ to go from `S` to `R` relate to these times? \n",
    "\n",
    "What is the relation with the geometric random variables from the previous exercises?\n"
   ]
  },
  {
   "cell_type": "markdown",
   "metadata": {},
   "source": [
    "> $\\tau_{total} = \\tau_S + \\tau_E + \\tau_I$"
   ]
  },
  {
   "cell_type": "markdown",
   "metadata": {},
   "source": [
    "Related to before, it's basically just 3 `S-I` models daisy chained together"
   ]
  },
  {
   "cell_type": "markdown",
   "metadata": {},
   "source": [
    "### 2. Write a function `total_time(p_E, p_I, p_R)` that calculates the total time to go from state `S` to state `R`.\n",
    "\n"
   ]
  },
  {
   "cell_type": "code",
   "execution_count": 28,
   "metadata": {},
   "outputs": [],
   "source": [
    "total_time(p...) = sum(geometric.(p))\n",
    "\n",
    "experiment(p::Vector, N) = [ total_time(p...) for _ in 1:N ]\n",
    "\n",
    "test_p = [1,1,1]\n",
    "@assert total_time(test_p...) == 3\n",
    "@assert experiment(test_p, 1) == [3]"
   ]
  },
  {
   "cell_type": "markdown",
   "metadata": {},
   "source": [
    "### 3. Run a Monte Carlo simulation to:\n",
    "calculate and plot the probability distribution of $\\tau_\\text{total}$ for:\n",
    "+ $p_E = 0.25$\n",
    "+ $p_I = 0.1$ \n",
    "+ $p_R = 0.05$\n",
    "\n"
   ]
  },
  {
   "cell_type": "code",
   "execution_count": 29,
   "metadata": {},
   "outputs": [
    {
     "data": {
      "image/svg+xml": [
       "<?xml version=\"1.0\" encoding=\"utf-8\"?>\n",
       "<svg xmlns=\"http://www.w3.org/2000/svg\" xmlns:xlink=\"http://www.w3.org/1999/xlink\" width=\"600\" height=\"400\" viewBox=\"0 0 2400 1600\">\n",
       "<defs>\n",
       "  <clipPath id=\"clip4700\">\n",
       "    <rect x=\"0\" y=\"0\" width=\"2400\" height=\"1600\"/>\n",
       "  </clipPath>\n",
       "</defs>\n",
       "<path clip-path=\"url(#clip4700)\" d=\"\n",
       "M0 1600 L2400 1600 L2400 0 L0 0  Z\n",
       "  \" fill=\"#ffffff\" fill-rule=\"evenodd\" fill-opacity=\"1\"/>\n",
       "<defs>\n",
       "  <clipPath id=\"clip4701\">\n",
       "    <rect x=\"480\" y=\"0\" width=\"1681\" height=\"1600\"/>\n",
       "  </clipPath>\n",
       "</defs>\n",
       "<path clip-path=\"url(#clip4700)\" d=\"\n",
       "M207.423 1487.47 L2352.76 1487.47 L2352.76 47.2441 L207.423 47.2441  Z\n",
       "  \" fill=\"#ffffff\" fill-rule=\"evenodd\" fill-opacity=\"1\"/>\n",
       "<defs>\n",
       "  <clipPath id=\"clip4702\">\n",
       "    <rect x=\"207\" y=\"47\" width=\"2146\" height=\"1441\"/>\n",
       "  </clipPath>\n",
       "</defs>\n",
       "<polyline clip-path=\"url(#clip4702)\" style=\"stroke:#000000; stroke-width:2; stroke-opacity:0.1; fill:none\" points=\"\n",
       "  230.66,1487.47 230.66,47.2441 \n",
       "  \"/>\n",
       "<polyline clip-path=\"url(#clip4702)\" style=\"stroke:#000000; stroke-width:2; stroke-opacity:0.1; fill:none\" points=\"\n",
       "  855.32,1487.47 855.32,47.2441 \n",
       "  \"/>\n",
       "<polyline clip-path=\"url(#clip4702)\" style=\"stroke:#000000; stroke-width:2; stroke-opacity:0.1; fill:none\" points=\"\n",
       "  1479.98,1487.47 1479.98,47.2441 \n",
       "  \"/>\n",
       "<polyline clip-path=\"url(#clip4702)\" style=\"stroke:#000000; stroke-width:2; stroke-opacity:0.1; fill:none\" points=\"\n",
       "  2104.64,1487.47 2104.64,47.2441 \n",
       "  \"/>\n",
       "<polyline clip-path=\"url(#clip4702)\" style=\"stroke:#000000; stroke-width:2; stroke-opacity:0.1; fill:none\" points=\"\n",
       "  207.423,1451.6 2352.76,1451.6 \n",
       "  \"/>\n",
       "<polyline clip-path=\"url(#clip4702)\" style=\"stroke:#000000; stroke-width:2; stroke-opacity:0.1; fill:none\" points=\"\n",
       "  207.423,1207.23 2352.76,1207.23 \n",
       "  \"/>\n",
       "<polyline clip-path=\"url(#clip4702)\" style=\"stroke:#000000; stroke-width:2; stroke-opacity:0.1; fill:none\" points=\"\n",
       "  207.423,962.857 2352.76,962.857 \n",
       "  \"/>\n",
       "<polyline clip-path=\"url(#clip4702)\" style=\"stroke:#000000; stroke-width:2; stroke-opacity:0.1; fill:none\" points=\"\n",
       "  207.423,718.485 2352.76,718.485 \n",
       "  \"/>\n",
       "<polyline clip-path=\"url(#clip4702)\" style=\"stroke:#000000; stroke-width:2; stroke-opacity:0.1; fill:none\" points=\"\n",
       "  207.423,474.113 2352.76,474.113 \n",
       "  \"/>\n",
       "<polyline clip-path=\"url(#clip4702)\" style=\"stroke:#000000; stroke-width:2; stroke-opacity:0.1; fill:none\" points=\"\n",
       "  207.423,229.741 2352.76,229.741 \n",
       "  \"/>\n",
       "<polyline clip-path=\"url(#clip4700)\" style=\"stroke:#000000; stroke-width:4; stroke-opacity:1; fill:none\" points=\"\n",
       "  207.423,1487.47 2352.76,1487.47 \n",
       "  \"/>\n",
       "<polyline clip-path=\"url(#clip4700)\" style=\"stroke:#000000; stroke-width:4; stroke-opacity:1; fill:none\" points=\"\n",
       "  207.423,1487.47 207.423,47.2441 \n",
       "  \"/>\n",
       "<polyline clip-path=\"url(#clip4700)\" style=\"stroke:#000000; stroke-width:4; stroke-opacity:1; fill:none\" points=\"\n",
       "  230.66,1487.47 230.66,1470.19 \n",
       "  \"/>\n",
       "<polyline clip-path=\"url(#clip4700)\" style=\"stroke:#000000; stroke-width:4; stroke-opacity:1; fill:none\" points=\"\n",
       "  855.32,1487.47 855.32,1470.19 \n",
       "  \"/>\n",
       "<polyline clip-path=\"url(#clip4700)\" style=\"stroke:#000000; stroke-width:4; stroke-opacity:1; fill:none\" points=\"\n",
       "  1479.98,1487.47 1479.98,1470.19 \n",
       "  \"/>\n",
       "<polyline clip-path=\"url(#clip4700)\" style=\"stroke:#000000; stroke-width:4; stroke-opacity:1; fill:none\" points=\"\n",
       "  2104.64,1487.47 2104.64,1470.19 \n",
       "  \"/>\n",
       "<polyline clip-path=\"url(#clip4700)\" style=\"stroke:#000000; stroke-width:4; stroke-opacity:1; fill:none\" points=\"\n",
       "  207.423,1451.6 233.167,1451.6 \n",
       "  \"/>\n",
       "<polyline clip-path=\"url(#clip4700)\" style=\"stroke:#000000; stroke-width:4; stroke-opacity:1; fill:none\" points=\"\n",
       "  207.423,1207.23 233.167,1207.23 \n",
       "  \"/>\n",
       "<polyline clip-path=\"url(#clip4700)\" style=\"stroke:#000000; stroke-width:4; stroke-opacity:1; fill:none\" points=\"\n",
       "  207.423,962.857 233.167,962.857 \n",
       "  \"/>\n",
       "<polyline clip-path=\"url(#clip4700)\" style=\"stroke:#000000; stroke-width:4; stroke-opacity:1; fill:none\" points=\"\n",
       "  207.423,718.485 233.167,718.485 \n",
       "  \"/>\n",
       "<polyline clip-path=\"url(#clip4700)\" style=\"stroke:#000000; stroke-width:4; stroke-opacity:1; fill:none\" points=\"\n",
       "  207.423,474.113 233.167,474.113 \n",
       "  \"/>\n",
       "<polyline clip-path=\"url(#clip4700)\" style=\"stroke:#000000; stroke-width:4; stroke-opacity:1; fill:none\" points=\"\n",
       "  207.423,229.741 233.167,229.741 \n",
       "  \"/>\n",
       "<g clip-path=\"url(#clip4700)\">\n",
       "<text style=\"fill:#000000; fill-opacity:1; font-family:Arial,Helvetica Neue,Helvetica,sans-serif; font-size:48px; text-anchor:middle;\" transform=\"rotate(0, 230.66, 1541.47)\" x=\"230.66\" y=\"1541.47\">0</text>\n",
       "</g>\n",
       "<g clip-path=\"url(#clip4700)\">\n",
       "<text style=\"fill:#000000; fill-opacity:1; font-family:Arial,Helvetica Neue,Helvetica,sans-serif; font-size:48px; text-anchor:middle;\" transform=\"rotate(0, 855.32, 1541.47)\" x=\"855.32\" y=\"1541.47\">50</text>\n",
       "</g>\n",
       "<g clip-path=\"url(#clip4700)\">\n",
       "<text style=\"fill:#000000; fill-opacity:1; font-family:Arial,Helvetica Neue,Helvetica,sans-serif; font-size:48px; text-anchor:middle;\" transform=\"rotate(0, 1479.98, 1541.47)\" x=\"1479.98\" y=\"1541.47\">100</text>\n",
       "</g>\n",
       "<g clip-path=\"url(#clip4700)\">\n",
       "<text style=\"fill:#000000; fill-opacity:1; font-family:Arial,Helvetica Neue,Helvetica,sans-serif; font-size:48px; text-anchor:middle;\" transform=\"rotate(0, 2104.64, 1541.47)\" x=\"2104.64\" y=\"1541.47\">150</text>\n",
       "</g>\n",
       "<g clip-path=\"url(#clip4700)\">\n",
       "<text style=\"fill:#000000; fill-opacity:1; font-family:Arial,Helvetica Neue,Helvetica,sans-serif; font-size:48px; text-anchor:end;\" transform=\"rotate(0, 183.423, 1469.1)\" x=\"183.423\" y=\"1469.1\">0.000</text>\n",
       "</g>\n",
       "<g clip-path=\"url(#clip4700)\">\n",
       "<text style=\"fill:#000000; fill-opacity:1; font-family:Arial,Helvetica Neue,Helvetica,sans-serif; font-size:48px; text-anchor:end;\" transform=\"rotate(0, 183.423, 1224.73)\" x=\"183.423\" y=\"1224.73\">0.005</text>\n",
       "</g>\n",
       "<g clip-path=\"url(#clip4700)\">\n",
       "<text style=\"fill:#000000; fill-opacity:1; font-family:Arial,Helvetica Neue,Helvetica,sans-serif; font-size:48px; text-anchor:end;\" transform=\"rotate(0, 183.423, 980.357)\" x=\"183.423\" y=\"980.357\">0.010</text>\n",
       "</g>\n",
       "<g clip-path=\"url(#clip4700)\">\n",
       "<text style=\"fill:#000000; fill-opacity:1; font-family:Arial,Helvetica Neue,Helvetica,sans-serif; font-size:48px; text-anchor:end;\" transform=\"rotate(0, 183.423, 735.985)\" x=\"183.423\" y=\"735.985\">0.015</text>\n",
       "</g>\n",
       "<g clip-path=\"url(#clip4700)\">\n",
       "<text style=\"fill:#000000; fill-opacity:1; font-family:Arial,Helvetica Neue,Helvetica,sans-serif; font-size:48px; text-anchor:end;\" transform=\"rotate(0, 183.423, 491.613)\" x=\"183.423\" y=\"491.613\">0.020</text>\n",
       "</g>\n",
       "<g clip-path=\"url(#clip4700)\">\n",
       "<text style=\"fill:#000000; fill-opacity:1; font-family:Arial,Helvetica Neue,Helvetica,sans-serif; font-size:48px; text-anchor:end;\" transform=\"rotate(0, 183.423, 247.241)\" x=\"183.423\" y=\"247.241\">0.025</text>\n",
       "</g>\n",
       "<polyline clip-path=\"url(#clip4702)\" style=\"stroke:#009af9; stroke-width:4; stroke-opacity:1; fill:none\" points=\"\n",
       "  268.14,1407.61 280.633,1285.43 293.126,1197.45 305.619,1026.39 318.112,943.307 330.606,884.658 343.099,625.624 355.592,654.948 368.085,601.186 380.578,532.762 \n",
       "  393.072,474.113 405.565,327.49 418.058,273.728 430.551,381.252 443.045,278.615 455.538,190.642 468.031,239.516 480.524,219.966 493.017,180.867 505.511,88.0053 \n",
       "  518.004,268.841 530.497,312.828 542.99,435.014 555.483,351.927 567.977,293.278 580.47,327.49 592.963,474.113 605.456,522.987 617.949,420.351 630.443,664.723 \n",
       "  642.936,596.299 655.429,513.213 667.922,625.624 680.415,669.611 692.909,635.399 705.402,718.485 717.895,674.498 730.388,767.359 742.881,801.571 755.375,835.784 \n",
       "  767.868,835.784 780.361,918.87 792.854,811.346 805.347,884.658 817.841,933.532 830.334,899.32 842.827,972.632 855.32,977.519 867.813,982.407 880.307,982.407 \n",
       "  892.8,1080.16 905.293,1070.38 917.786,1119.26 930.28,1075.27 942.773,1119.26 955.266,1187.68 967.759,1143.69 980.252,1119.26 992.746,1202.34 1005.24,1163.24 \n",
       "  1017.73,1168.13 1030.23,1168.13 1042.72,1217 1055.21,1231.67 1067.7,1275.65 1080.2,1280.54 1092.69,1251.22 1105.18,1275.65 1117.68,1329.41 1130.17,1280.54 \n",
       "  1142.66,1304.98 1155.16,1295.2 1167.65,1344.08 1180.14,1329.41 1192.64,1324.53 1205.13,1329.41 1217.62,1368.51 1230.12,1319.64 1242.61,1353.85 1255.1,1348.96 \n",
       "  1267.6,1344.08 1280.09,1363.63 1292.58,1373.4 1305.08,1392.95 1317.57,1378.29 1330.06,1388.06 1342.56,1402.73 1355.05,1392.95 1367.54,1402.73 1380.03,1417.39 \n",
       "  1392.53,1358.74 1405.02,1397.84 1417.51,1397.84 1430.01,1432.05 1442.5,1392.95 1454.99,1432.05 1467.49,1388.06 1479.98,1407.61 1492.47,1407.61 1504.97,1402.73 \n",
       "  1517.46,1407.61 1529.95,1427.16 1542.45,1417.39 1554.94,1412.5 1567.43,1436.94 1579.93,1427.16 1592.42,1446.71 1604.91,1432.05 1617.41,1432.05 1629.9,1427.16 \n",
       "  1642.39,1432.05 1654.89,1436.94 1667.38,1436.94 1704.86,1446.71 1717.35,1432.05 1729.84,1432.05 1742.34,1407.61 1754.83,1432.05 1779.82,1432.05 1792.31,1446.71 \n",
       "  1804.8,1441.83 1829.79,1436.94 1842.28,1446.71 1854.78,1446.71 1867.27,1446.71 1879.76,1436.94 1904.75,1446.71 1917.24,1441.83 1967.22,1441.83 1979.71,1446.71 \n",
       "  1992.2,1441.83 2004.7,1446.71 2017.19,1446.71 2029.68,1446.71 2042.17,1446.71 2054.67,1441.83 2067.16,1446.71 2079.65,1446.71 2117.13,1446.71 2129.63,1446.71 \n",
       "  2142.12,1446.71 2204.59,1446.71 2292.04,1446.71 \n",
       "  \"/>\n",
       "<path clip-path=\"url(#clip4700)\" d=\"\n",
       "M1989.93 251.724 L2280.76 251.724 L2280.76 130.764 L1989.93 130.764  Z\n",
       "  \" fill=\"#ffffff\" fill-rule=\"evenodd\" fill-opacity=\"1\"/>\n",
       "<polyline clip-path=\"url(#clip4700)\" style=\"stroke:#000000; stroke-width:4; stroke-opacity:1; fill:none\" points=\"\n",
       "  1989.93,251.724 2280.76,251.724 2280.76,130.764 1989.93,130.764 1989.93,251.724 \n",
       "  \"/>\n",
       "<polyline clip-path=\"url(#clip4700)\" style=\"stroke:#009af9; stroke-width:4; stroke-opacity:1; fill:none\" points=\"\n",
       "  2013.93,191.244 2157.93,191.244 \n",
       "  \"/>\n",
       "<g clip-path=\"url(#clip4700)\">\n",
       "<text style=\"fill:#000000; fill-opacity:1; font-family:Arial,Helvetica Neue,Helvetica,sans-serif; font-size:48px; text-anchor:start;\" transform=\"rotate(0, 2181.93, 208.744)\" x=\"2181.93\" y=\"208.744\">y1</text>\n",
       "</g>\n",
       "</svg>\n"
      ]
     },
     "execution_count": 29,
     "metadata": {},
     "output_type": "execute_result"
    }
   ],
   "source": [
    "p_E = 0.25 \n",
    "p_I = 0.10\n",
    "p_R = 0.05\n",
    "\n",
    "n_trials = 10000\n",
    "\n",
    "plot(\n",
    "  probability_distribution(experiment([p_E, p_I, p_R], N))\n",
    ")\n"
   ]
  },
  {
   "cell_type": "markdown",
   "metadata": {},
   "source": [
    "### 4. What happens to the probability distribution of the total time as you add more states?\n",
    "\n",
    "A: The distribution first becomes a Poisson distribution and then a Gaussian (or normal)"
   ]
  },
  {
   "cell_type": "code",
   "execution_count": 30,
   "metadata": {},
   "outputs": [
    {
     "data": {
      "application/vnd.webio.node+json": {
       "children": [
        {
         "children": [
          {
           "children": [
            {
             "children": [
              {
               "children": [
                {
                 "children": [
                  "p"
                 ],
                 "instanceArgs": {
                  "namespace": "html",
                  "tag": "label"
                 },
                 "nodeType": "DOM",
                 "props": {
                  "className": "interact ",
                  "style": {
                   "padding": "5px 10px 0px 10px"
                  }
                 },
                 "type": "node"
                }
               ],
               "instanceArgs": {
                "namespace": "html",
                "tag": "div"
               },
               "nodeType": "DOM",
               "props": {
                "className": "interact-flex-row-left"
               },
               "type": "node"
              },
              {
               "children": [
                {
                 "children": [],
                 "instanceArgs": {
                  "namespace": "html",
                  "tag": "input"
                 },
                 "nodeType": "DOM",
                 "props": {
                  "attributes": {
                   "data-bind": "numericValue: index, valueUpdate: 'input', event: {change: function (){this.changes(this.changes()+1)}}",
                   "orient": "horizontal",
                   "type": "range"
                  },
                  "className": "slider slider is-fullwidth",
                  "max": 10,
                  "min": 1,
                  "step": 1,
                  "style": {}
                 },
                 "type": "node"
                }
               ],
               "instanceArgs": {
                "namespace": "html",
                "tag": "div"
               },
               "nodeType": "DOM",
               "props": {
                "className": "interact-flex-row-center"
               },
               "type": "node"
              },
              {
               "children": [
                {
                 "children": [],
                 "instanceArgs": {
                  "namespace": "html",
                  "tag": "p"
                 },
                 "nodeType": "DOM",
                 "props": {
                  "attributes": {
                   "data-bind": "text: formatted_val"
                  }
                 },
                 "type": "node"
                }
               ],
               "instanceArgs": {
                "namespace": "html",
                "tag": "div"
               },
               "nodeType": "DOM",
               "props": {
                "className": "interact-flex-row-right"
               },
               "type": "node"
              }
             ],
             "instanceArgs": {
              "namespace": "html",
              "tag": "div"
             },
             "nodeType": "DOM",
             "props": {
              "className": "interact-flex-row interact-widget"
             },
             "type": "node"
            }
           ],
           "instanceArgs": {
            "handlers": {
             "changes": [
              "(function (val){return (val!=this.model[\"changes\"]()) ? (this.valueFromJulia[\"changes\"]=true, this.model[\"changes\"](val)) : undefined})"
             ],
             "index": [
              "(function (val){return (val!=this.model[\"index\"]()) ? (this.valueFromJulia[\"index\"]=true, this.model[\"index\"](val)) : undefined})"
             ]
            },
            "id": "4654792117606656712",
            "imports": {
             "data": [
              {
               "name": "knockout",
               "type": "js",
               "url": "/assetserver/847903f5df732148b510ba93542242ba69c4346c-knockout.js"
              },
              {
               "name": "knockout_punches",
               "type": "js",
               "url": "/assetserver/c0b325de111f2589153d52b7b74e82babec63146-knockout_punches.js"
              },
              {
               "name": null,
               "type": "js",
               "url": "/assetserver/51952c19a9a6ce93cd17825f07a8fe28d322efde-all.js"
              },
              {
               "name": null,
               "type": "css",
               "url": "/assetserver/104d64c7b780621be0c8d84ac84d7a5a84de4524-style.css"
              },
              {
               "name": null,
               "type": "css",
               "url": "/assetserver/9e3206e22736e731411e8095c384ec75a742e5c8-bulma_confined.min.css"
              }
             ],
             "type": "async_block"
            },
            "mount_callbacks": [
             "function () {\n    var handler = (function (ko, koPunches) {\n    ko.punches.enableAll();\n    ko.bindingHandlers.numericValue = {\n        init: function(element, valueAccessor, allBindings, data, context) {\n            var stringified = ko.observable(ko.unwrap(valueAccessor()));\n            stringified.subscribe(function(value) {\n                var val = parseFloat(value);\n                if (!isNaN(val)) {\n                    valueAccessor()(val);\n                }\n            });\n            valueAccessor().subscribe(function(value) {\n                var str = JSON.stringify(value);\n                if ((str == \"0\") && ([\"-0\", \"-0.\"].indexOf(stringified()) >= 0))\n                     return;\n                 if ([\"null\", \"\"].indexOf(str) >= 0)\n                     return;\n                stringified(str);\n            });\n            ko.applyBindingsToNode(\n                element,\n                {\n                    value: stringified,\n                    valueUpdate: allBindings.get('valueUpdate'),\n                },\n                context,\n            );\n        }\n    };\n    var json_data = {\"formatted_vals\":[\"0.1\",\"0.2\",\"0.3\",\"0.4\",\"0.5\",\"0.6\",\"0.7\",\"0.8\",\"0.9\",\"1.0\"],\"changes\":WebIO.getval({\"name\":\"changes\",\"scope\":\"4654792117606656712\",\"id\":\"7288549994842182967\",\"type\":\"observable\"}),\"index\":WebIO.getval({\"name\":\"index\",\"scope\":\"4654792117606656712\",\"id\":\"3745041277802763657\",\"type\":\"observable\"})};\n    var self = this;\n    function AppViewModel() {\n        for (var key in json_data) {\n            var el = json_data[key];\n            this[key] = Array.isArray(el) ? ko.observableArray(el) : ko.observable(el);\n        }\n        \n        [this[\"formatted_val\"]=ko.computed(    function(){\n        return this.formatted_vals()[parseInt(this.index())-(1)];\n    }\n,this)]\n        [this[\"changes\"].subscribe((function (val){!(this.valueFromJulia[\"changes\"]) ? (WebIO.setval({\"name\":\"changes\",\"scope\":\"4654792117606656712\",\"id\":\"7288549994842182967\",\"type\":\"observable\"},val)) : undefined; return this.valueFromJulia[\"changes\"]=false}),self),this[\"index\"].subscribe((function (val){!(this.valueFromJulia[\"index\"]) ? (WebIO.setval({\"name\":\"index\",\"scope\":\"4654792117606656712\",\"id\":\"3745041277802763657\",\"type\":\"observable\"},val)) : undefined; return this.valueFromJulia[\"index\"]=false}),self)]\n        \n    }\n    self.model = new AppViewModel();\n    self.valueFromJulia = {};\n    for (var key in json_data) {\n        self.valueFromJulia[key] = false;\n    }\n    ko.applyBindings(self.model, self.dom);\n}\n);\n    (WebIO.importBlock({\"data\":[{\"name\":\"knockout\",\"type\":\"js\",\"url\":\"/assetserver/847903f5df732148b510ba93542242ba69c4346c-knockout.js\"},{\"name\":\"knockout_punches\",\"type\":\"js\",\"url\":\"/assetserver/c0b325de111f2589153d52b7b74e82babec63146-knockout_punches.js\"}],\"type\":\"async_block\"})).then((imports) => handler.apply(this, imports));\n}\n"
            ],
            "observables": {
             "changes": {
              "id": "7288549994842182967",
              "sync": false,
              "value": 0
             },
             "index": {
              "id": "3745041277802763657",
              "sync": true,
              "value": 5
             }
            },
            "systemjs_options": null
           },
           "nodeType": "Scope",
           "props": {},
           "type": "node"
          }
         ],
         "instanceArgs": {
          "namespace": "html",
          "tag": "div"
         },
         "nodeType": "DOM",
         "props": {
          "className": "field interact-widget"
         },
         "type": "node"
        },
        {
         "children": [
          {
           "children": [
            {
             "children": [
              {
               "children": [
                {
                 "children": [
                  "n"
                 ],
                 "instanceArgs": {
                  "namespace": "html",
                  "tag": "label"
                 },
                 "nodeType": "DOM",
                 "props": {
                  "className": "interact ",
                  "style": {
                   "padding": "5px 10px 0px 10px"
                  }
                 },
                 "type": "node"
                }
               ],
               "instanceArgs": {
                "namespace": "html",
                "tag": "div"
               },
               "nodeType": "DOM",
               "props": {
                "className": "interact-flex-row-left"
               },
               "type": "node"
              },
              {
               "children": [
                {
                 "children": [],
                 "instanceArgs": {
                  "namespace": "html",
                  "tag": "input"
                 },
                 "nodeType": "DOM",
                 "props": {
                  "attributes": {
                   "data-bind": "numericValue: index, valueUpdate: 'input', event: {change: function (){this.changes(this.changes()+1)}}",
                   "orient": "horizontal",
                   "type": "range"
                  },
                  "className": "slider slider is-fullwidth",
                  "max": 12,
                  "min": 1,
                  "step": 1,
                  "style": {}
                 },
                 "type": "node"
                }
               ],
               "instanceArgs": {
                "namespace": "html",
                "tag": "div"
               },
               "nodeType": "DOM",
               "props": {
                "className": "interact-flex-row-center"
               },
               "type": "node"
              },
              {
               "children": [
                {
                 "children": [],
                 "instanceArgs": {
                  "namespace": "html",
                  "tag": "p"
                 },
                 "nodeType": "DOM",
                 "props": {
                  "attributes": {
                   "data-bind": "text: formatted_val"
                  }
                 },
                 "type": "node"
                }
               ],
               "instanceArgs": {
                "namespace": "html",
                "tag": "div"
               },
               "nodeType": "DOM",
               "props": {
                "className": "interact-flex-row-right"
               },
               "type": "node"
              }
             ],
             "instanceArgs": {
              "namespace": "html",
              "tag": "div"
             },
             "nodeType": "DOM",
             "props": {
              "className": "interact-flex-row interact-widget"
             },
             "type": "node"
            }
           ],
           "instanceArgs": {
            "handlers": {
             "changes": [
              "(function (val){return (val!=this.model[\"changes\"]()) ? (this.valueFromJulia[\"changes\"]=true, this.model[\"changes\"](val)) : undefined})"
             ],
             "index": [
              "(function (val){return (val!=this.model[\"index\"]()) ? (this.valueFromJulia[\"index\"]=true, this.model[\"index\"](val)) : undefined})"
             ]
            },
            "id": "6393878915753148018",
            "imports": {
             "data": [
              {
               "name": "knockout",
               "type": "js",
               "url": "/assetserver/847903f5df732148b510ba93542242ba69c4346c-knockout.js"
              },
              {
               "name": "knockout_punches",
               "type": "js",
               "url": "/assetserver/c0b325de111f2589153d52b7b74e82babec63146-knockout_punches.js"
              },
              {
               "name": null,
               "type": "js",
               "url": "/assetserver/51952c19a9a6ce93cd17825f07a8fe28d322efde-all.js"
              },
              {
               "name": null,
               "type": "css",
               "url": "/assetserver/104d64c7b780621be0c8d84ac84d7a5a84de4524-style.css"
              },
              {
               "name": null,
               "type": "css",
               "url": "/assetserver/9e3206e22736e731411e8095c384ec75a742e5c8-bulma_confined.min.css"
              }
             ],
             "type": "async_block"
            },
            "mount_callbacks": [
             "function () {\n    var handler = (function (ko, koPunches) {\n    ko.punches.enableAll();\n    ko.bindingHandlers.numericValue = {\n        init: function(element, valueAccessor, allBindings, data, context) {\n            var stringified = ko.observable(ko.unwrap(valueAccessor()));\n            stringified.subscribe(function(value) {\n                var val = parseFloat(value);\n                if (!isNaN(val)) {\n                    valueAccessor()(val);\n                }\n            });\n            valueAccessor().subscribe(function(value) {\n                var str = JSON.stringify(value);\n                if ((str == \"0\") && ([\"-0\", \"-0.\"].indexOf(stringified()) >= 0))\n                     return;\n                 if ([\"null\", \"\"].indexOf(str) >= 0)\n                     return;\n                stringified(str);\n            });\n            ko.applyBindingsToNode(\n                element,\n                {\n                    value: stringified,\n                    valueUpdate: allBindings.get('valueUpdate'),\n                },\n                context,\n            );\n        }\n    };\n    var json_data = {\"formatted_vals\":[\"1\",\"2\",\"3\",\"4\",\"5\",\"6\",\"7\",\"8\",\"9\",\"10\",\"11\",\"12\"],\"changes\":WebIO.getval({\"name\":\"changes\",\"scope\":\"6393878915753148018\",\"id\":\"16525462484702432419\",\"type\":\"observable\"}),\"index\":WebIO.getval({\"name\":\"index\",\"scope\":\"6393878915753148018\",\"id\":\"27672552467042781\",\"type\":\"observable\"})};\n    var self = this;\n    function AppViewModel() {\n        for (var key in json_data) {\n            var el = json_data[key];\n            this[key] = Array.isArray(el) ? ko.observableArray(el) : ko.observable(el);\n        }\n        \n        [this[\"formatted_val\"]=ko.computed(    function(){\n        return this.formatted_vals()[parseInt(this.index())-(1)];\n    }\n,this)]\n        [this[\"changes\"].subscribe((function (val){!(this.valueFromJulia[\"changes\"]) ? (WebIO.setval({\"name\":\"changes\",\"scope\":\"6393878915753148018\",\"id\":\"16525462484702432419\",\"type\":\"observable\"},val)) : undefined; return this.valueFromJulia[\"changes\"]=false}),self),this[\"index\"].subscribe((function (val){!(this.valueFromJulia[\"index\"]) ? (WebIO.setval({\"name\":\"index\",\"scope\":\"6393878915753148018\",\"id\":\"27672552467042781\",\"type\":\"observable\"},val)) : undefined; return this.valueFromJulia[\"index\"]=false}),self)]\n        \n    }\n    self.model = new AppViewModel();\n    self.valueFromJulia = {};\n    for (var key in json_data) {\n        self.valueFromJulia[key] = false;\n    }\n    ko.applyBindings(self.model, self.dom);\n}\n);\n    (WebIO.importBlock({\"data\":[{\"name\":\"knockout\",\"type\":\"js\",\"url\":\"/assetserver/847903f5df732148b510ba93542242ba69c4346c-knockout.js\"},{\"name\":\"knockout_punches\",\"type\":\"js\",\"url\":\"/assetserver/c0b325de111f2589153d52b7b74e82babec63146-knockout_punches.js\"}],\"type\":\"async_block\"})).then((imports) => handler.apply(this, imports));\n}\n"
            ],
            "observables": {
             "changes": {
              "id": "16525462484702432419",
              "sync": false,
              "value": 0
             },
             "index": {
              "id": "27672552467042781",
              "sync": true,
              "value": 1
             }
            },
            "systemjs_options": null
           },
           "nodeType": "Scope",
           "props": {},
           "type": "node"
          }
         ],
         "instanceArgs": {
          "namespace": "html",
          "tag": "div"
         },
         "nodeType": "DOM",
         "props": {
          "className": "field interact-widget"
         },
         "type": "node"
        },
        {
         "children": [
          {
           "children": [],
           "instanceArgs": {
            "id": "13239857788432127374",
            "name": "obs-node"
           },
           "nodeType": "ObservableNode",
           "props": {},
           "type": "node"
          }
         ],
         "instanceArgs": {
          "handlers": {},
          "id": "1527590857001158088",
          "imports": {
           "data": [],
           "type": "async_block"
          },
          "mount_callbacks": [],
          "observables": {
           "obs-node": {
            "id": "13239857788432127374",
            "sync": false,
            "value": {
             "children": [
              {
               "children": [],
               "instanceArgs": {
                "namespace": "html",
                "tag": "div"
               },
               "nodeType": "DOM",
               "props": {
                "setInnerHtml": "<?xml version=\"1.0\" encoding=\"utf-8\"?>\n<svg xmlns=\"http://www.w3.org/2000/svg\" xmlns:xlink=\"http://www.w3.org/1999/xlink\" width=\"600\" height=\"400\" viewBox=\"0 0 2400 1600\">\n<defs>\n  <clipPath id=\"clip5500\">\n    <rect x=\"0\" y=\"0\" width=\"2400\" height=\"1600\"/>\n  </clipPath>\n</defs>\n<path clip-path=\"url(#clip5500)\" d=\"\nM0 1600 L2400 1600 L2400 0 L0 0  Z\n  \" fill=\"#ffffff\" fill-rule=\"evenodd\" fill-opacity=\"1\"/>\n<defs>\n  <clipPath id=\"clip5501\">\n    <rect x=\"480\" y=\"0\" width=\"1681\" height=\"1600\"/>\n  </clipPath>\n</defs>\n<path clip-path=\"url(#clip5500)\" d=\"\nM180.66 1487.47 L2352.76 1487.47 L2352.76 47.2441 L180.66 47.2441  Z\n  \" fill=\"#ffffff\" fill-rule=\"evenodd\" fill-opacity=\"1\"/>\n<defs>\n  <clipPath id=\"clip5502\">\n    <rect x=\"180\" y=\"47\" width=\"2173\" height=\"1441\"/>\n  </clipPath>\n</defs>\n<polyline clip-path=\"url(#clip5502)\" style=\"stroke:#000000; stroke-width:2; stroke-opacity:0.1; fill:none\" points=\"\n  180.66,1487.47 180.66,47.2441 \n  \"/>\n<polyline clip-path=\"url(#clip5502)\" style=\"stroke:#000000; stroke-width:2; stroke-opacity:0.1; fill:none\" points=\"\n  490.96,1487.47 490.96,47.2441 \n  \"/>\n<polyline clip-path=\"url(#clip5502)\" style=\"stroke:#000000; stroke-width:2; stroke-opacity:0.1; fill:none\" points=\"\n  801.259,1487.47 801.259,47.2441 \n  \"/>\n<polyline clip-path=\"url(#clip5502)\" style=\"stroke:#000000; stroke-width:2; stroke-opacity:0.1; fill:none\" points=\"\n  1111.56,1487.47 1111.56,47.2441 \n  \"/>\n<polyline clip-path=\"url(#clip5502)\" style=\"stroke:#000000; stroke-width:2; stroke-opacity:0.1; fill:none\" points=\"\n  1421.86,1487.47 1421.86,47.2441 \n  \"/>\n<polyline clip-path=\"url(#clip5502)\" style=\"stroke:#000000; stroke-width:2; stroke-opacity:0.1; fill:none\" points=\"\n  1732.16,1487.47 1732.16,47.2441 \n  \"/>\n<polyline clip-path=\"url(#clip5502)\" style=\"stroke:#000000; stroke-width:2; stroke-opacity:0.1; fill:none\" points=\"\n  2042.46,1487.47 2042.46,47.2441 \n  \"/>\n<polyline clip-path=\"url(#clip5502)\" style=\"stroke:#000000; stroke-width:2; stroke-opacity:0.1; fill:none\" points=\"\n  180.66,1487.47 2352.76,1487.47 \n  \"/>\n<polyline clip-path=\"url(#clip5502)\" style=\"stroke:#000000; stroke-width:2; stroke-opacity:0.1; fill:none\" points=\"\n  180.66,1160.15 2352.76,1160.15 \n  \"/>\n<polyline clip-path=\"url(#clip5502)\" style=\"stroke:#000000; stroke-width:2; stroke-opacity:0.1; fill:none\" points=\"\n  180.66,832.824 2352.76,832.824 \n  \"/>\n<polyline clip-path=\"url(#clip5502)\" style=\"stroke:#000000; stroke-width:2; stroke-opacity:0.1; fill:none\" points=\"\n  180.66,505.499 2352.76,505.499 \n  \"/>\n<polyline clip-path=\"url(#clip5502)\" style=\"stroke:#000000; stroke-width:2; stroke-opacity:0.1; fill:none\" points=\"\n  180.66,178.174 2352.76,178.174 \n  \"/>\n<polyline clip-path=\"url(#clip5500)\" style=\"stroke:#000000; stroke-width:4; stroke-opacity:1; fill:none\" points=\"\n  180.66,1487.47 2352.76,1487.47 \n  \"/>\n<polyline clip-path=\"url(#clip5500)\" style=\"stroke:#000000; stroke-width:4; stroke-opacity:1; fill:none\" points=\"\n  180.66,1487.47 180.66,47.2441 \n  \"/>\n<polyline clip-path=\"url(#clip5500)\" style=\"stroke:#000000; stroke-width:4; stroke-opacity:1; fill:none\" points=\"\n  180.66,1487.47 180.66,1470.19 \n  \"/>\n<polyline clip-path=\"url(#clip5500)\" style=\"stroke:#000000; stroke-width:4; stroke-opacity:1; fill:none\" points=\"\n  490.96,1487.47 490.96,1470.19 \n  \"/>\n<polyline clip-path=\"url(#clip5500)\" style=\"stroke:#000000; stroke-width:4; stroke-opacity:1; fill:none\" points=\"\n  801.259,1487.47 801.259,1470.19 \n  \"/>\n<polyline clip-path=\"url(#clip5500)\" style=\"stroke:#000000; stroke-width:4; stroke-opacity:1; fill:none\" points=\"\n  1111.56,1487.47 1111.56,1470.19 \n  \"/>\n<polyline clip-path=\"url(#clip5500)\" style=\"stroke:#000000; stroke-width:4; stroke-opacity:1; fill:none\" points=\"\n  1421.86,1487.47 1421.86,1470.19 \n  \"/>\n<polyline clip-path=\"url(#clip5500)\" style=\"stroke:#000000; stroke-width:4; stroke-opacity:1; fill:none\" points=\"\n  1732.16,1487.47 1732.16,1470.19 \n  \"/>\n<polyline clip-path=\"url(#clip5500)\" style=\"stroke:#000000; stroke-width:4; stroke-opacity:1; fill:none\" points=\"\n  2042.46,1487.47 2042.46,1470.19 \n  \"/>\n<polyline clip-path=\"url(#clip5500)\" style=\"stroke:#000000; stroke-width:4; stroke-opacity:1; fill:none\" points=\"\n  180.66,1487.47 206.725,1487.47 \n  \"/>\n<polyline clip-path=\"url(#clip5500)\" style=\"stroke:#000000; stroke-width:4; stroke-opacity:1; fill:none\" points=\"\n  180.66,1160.15 206.725,1160.15 \n  \"/>\n<polyline clip-path=\"url(#clip5500)\" style=\"stroke:#000000; stroke-width:4; stroke-opacity:1; fill:none\" points=\"\n  180.66,832.824 206.725,832.824 \n  \"/>\n<polyline clip-path=\"url(#clip5500)\" style=\"stroke:#000000; stroke-width:4; stroke-opacity:1; fill:none\" points=\"\n  180.66,505.499 206.725,505.499 \n  \"/>\n<polyline clip-path=\"url(#clip5500)\" style=\"stroke:#000000; stroke-width:4; stroke-opacity:1; fill:none\" points=\"\n  180.66,178.174 206.725,178.174 \n  \"/>\n<g clip-path=\"url(#clip5500)\">\n<text style=\"fill:#000000; fill-opacity:1; font-family:Arial,Helvetica Neue,Helvetica,sans-serif; font-size:48px; text-anchor:middle;\" transform=\"rotate(0, 180.66, 1541.47)\" x=\"180.66\" y=\"1541.47\">0.0</text>\n</g>\n<g clip-path=\"url(#clip5500)\">\n<text style=\"fill:#000000; fill-opacity:1; font-family:Arial,Helvetica Neue,Helvetica,sans-serif; font-size:48px; text-anchor:middle;\" transform=\"rotate(0, 490.96, 1541.47)\" x=\"490.96\" y=\"1541.47\">2.5</text>\n</g>\n<g clip-path=\"url(#clip5500)\">\n<text style=\"fill:#000000; fill-opacity:1; font-family:Arial,Helvetica Neue,Helvetica,sans-serif; font-size:48px; text-anchor:middle;\" transform=\"rotate(0, 801.259, 1541.47)\" x=\"801.259\" y=\"1541.47\">5.0</text>\n</g>\n<g clip-path=\"url(#clip5500)\">\n<text style=\"fill:#000000; fill-opacity:1; font-family:Arial,Helvetica Neue,Helvetica,sans-serif; font-size:48px; text-anchor:middle;\" transform=\"rotate(0, 1111.56, 1541.47)\" x=\"1111.56\" y=\"1541.47\">7.5</text>\n</g>\n<g clip-path=\"url(#clip5500)\">\n<text style=\"fill:#000000; fill-opacity:1; font-family:Arial,Helvetica Neue,Helvetica,sans-serif; font-size:48px; text-anchor:middle;\" transform=\"rotate(0, 1421.86, 1541.47)\" x=\"1421.86\" y=\"1541.47\">10.0</text>\n</g>\n<g clip-path=\"url(#clip5500)\">\n<text style=\"fill:#000000; fill-opacity:1; font-family:Arial,Helvetica Neue,Helvetica,sans-serif; font-size:48px; text-anchor:middle;\" transform=\"rotate(0, 1732.16, 1541.47)\" x=\"1732.16\" y=\"1541.47\">12.5</text>\n</g>\n<g clip-path=\"url(#clip5500)\">\n<text style=\"fill:#000000; fill-opacity:1; font-family:Arial,Helvetica Neue,Helvetica,sans-serif; font-size:48px; text-anchor:middle;\" transform=\"rotate(0, 2042.46, 1541.47)\" x=\"2042.46\" y=\"1541.47\">15.0</text>\n</g>\n<g clip-path=\"url(#clip5500)\">\n<text style=\"fill:#000000; fill-opacity:1; font-family:Arial,Helvetica Neue,Helvetica,sans-serif; font-size:48px; text-anchor:end;\" transform=\"rotate(0, 156.66, 1504.97)\" x=\"156.66\" y=\"1504.97\">0.00</text>\n</g>\n<g clip-path=\"url(#clip5500)\">\n<text style=\"fill:#000000; fill-opacity:1; font-family:Arial,Helvetica Neue,Helvetica,sans-serif; font-size:48px; text-anchor:end;\" transform=\"rotate(0, 156.66, 1177.65)\" x=\"156.66\" y=\"1177.65\">0.25</text>\n</g>\n<g clip-path=\"url(#clip5500)\">\n<text style=\"fill:#000000; fill-opacity:1; font-family:Arial,Helvetica Neue,Helvetica,sans-serif; font-size:48px; text-anchor:end;\" transform=\"rotate(0, 156.66, 850.324)\" x=\"156.66\" y=\"850.324\">0.50</text>\n</g>\n<g clip-path=\"url(#clip5500)\">\n<text style=\"fill:#000000; fill-opacity:1; font-family:Arial,Helvetica Neue,Helvetica,sans-serif; font-size:48px; text-anchor:end;\" transform=\"rotate(0, 156.66, 522.999)\" x=\"156.66\" y=\"522.999\">0.75</text>\n</g>\n<g clip-path=\"url(#clip5500)\">\n<text style=\"fill:#000000; fill-opacity:1; font-family:Arial,Helvetica Neue,Helvetica,sans-serif; font-size:48px; text-anchor:end;\" transform=\"rotate(0, 156.66, 195.674)\" x=\"156.66\" y=\"195.674\">1.00</text>\n</g>\n<polyline clip-path=\"url(#clip5502)\" style=\"stroke:#009af9; stroke-width:4; stroke-opacity:1; fill:none\" points=\"\n  304.78,827.718 428.9,1156.22 553.02,1325.65 677.139,1411.01 801.259,1448.33 925.379,1467.84 1049.5,1477.79 1173.62,1481.98 1297.74,1484.73 1421.86,1485.51 \n  1545.98,1486.95 1670.1,1487.08 1794.22,1487.21 1918.34,1487.34 \n  \"/>\n<path clip-path=\"url(#clip5500)\" d=\"\nM1989.93 251.724 L2280.76 251.724 L2280.76 130.764 L1989.93 130.764  Z\n  \" fill=\"#ffffff\" fill-rule=\"evenodd\" fill-opacity=\"1\"/>\n<polyline clip-path=\"url(#clip5500)\" style=\"stroke:#000000; stroke-width:4; stroke-opacity:1; fill:none\" points=\"\n  1989.93,251.724 2280.76,251.724 2280.76,130.764 1989.93,130.764 1989.93,251.724 \n  \"/>\n<polyline clip-path=\"url(#clip5500)\" style=\"stroke:#009af9; stroke-width:4; stroke-opacity:1; fill:none\" points=\"\n  2013.93,191.244 2157.93,191.244 \n  \"/>\n<g clip-path=\"url(#clip5500)\">\n<text style=\"fill:#000000; fill-opacity:1; font-family:Arial,Helvetica Neue,Helvetica,sans-serif; font-size:48px; text-anchor:start;\" transform=\"rotate(0, 2181.93, 208.744)\" x=\"2181.93\" y=\"208.744\">y1</text>\n</g>\n</svg>\n"
               },
               "type": "node"
              }
             ],
             "instanceArgs": {
              "namespace": "html",
              "tag": "div"
             },
             "nodeType": "DOM",
             "props": {
              "className": "interact-flex-row interact-widget"
             },
             "type": "node"
            }
           }
          },
          "systemjs_options": null
         },
         "nodeType": "Scope",
         "props": {},
         "type": "node"
        }
       ],
       "instanceArgs": {
        "namespace": "html",
        "tag": "div"
       },
       "nodeType": "DOM",
       "props": {},
       "type": "node"
      },
      "text/html": [
       "<div\n",
       "    class=\"webio-mountpoint\"\n",
       "    data-webio-mountpoint=\"5825583941045905386\"\n",
       ">\n",
       "    <script>\n",
       "    if (window.require && require.defined && require.defined(\"nbextensions/webio-jupyter-notebook\")) {\n",
       "        console.log(\"Jupyter WebIO extension detected, not mounting.\");\n",
       "    } else if (window.WebIO) {\n",
       "        WebIO.mount(\n",
       "            document.querySelector('[data-webio-mountpoint=\"5825583941045905386\"]'),\n",
       "            {\"props\":{},\"nodeType\":\"DOM\",\"type\":\"node\",\"instanceArgs\":{\"namespace\":\"html\",\"tag\":\"div\"},\"children\":[{\"props\":{\"className\":\"field interact-widget\"},\"nodeType\":\"DOM\",\"type\":\"node\",\"instanceArgs\":{\"namespace\":\"html\",\"tag\":\"div\"},\"children\":[{\"props\":{},\"nodeType\":\"Scope\",\"type\":\"node\",\"instanceArgs\":{\"imports\":{\"data\":[{\"name\":\"knockout\",\"type\":\"js\",\"url\":\"\\/assetserver\\/847903f5df732148b510ba93542242ba69c4346c-knockout.js\"},{\"name\":\"knockout_punches\",\"type\":\"js\",\"url\":\"\\/assetserver\\/c0b325de111f2589153d52b7b74e82babec63146-knockout_punches.js\"},{\"name\":null,\"type\":\"js\",\"url\":\"\\/assetserver\\/51952c19a9a6ce93cd17825f07a8fe28d322efde-all.js\"},{\"name\":null,\"type\":\"css\",\"url\":\"\\/assetserver\\/104d64c7b780621be0c8d84ac84d7a5a84de4524-style.css\"},{\"name\":null,\"type\":\"css\",\"url\":\"\\/assetserver\\/9e3206e22736e731411e8095c384ec75a742e5c8-bulma_confined.min.css\"}],\"type\":\"async_block\"},\"id\":\"4654792117606656712\",\"handlers\":{\"changes\":[\"(function (val){return (val!=this.model[\\\"changes\\\"]()) ? (this.valueFromJulia[\\\"changes\\\"]=true, this.model[\\\"changes\\\"](val)) : undefined})\"],\"index\":[\"(function (val){return (val!=this.model[\\\"index\\\"]()) ? (this.valueFromJulia[\\\"index\\\"]=true, this.model[\\\"index\\\"](val)) : undefined})\"]},\"systemjs_options\":null,\"mount_callbacks\":[\"function () {\\n    var handler = (function (ko, koPunches) {\\n    ko.punches.enableAll();\\n    ko.bindingHandlers.numericValue = {\\n        init: function(element, valueAccessor, allBindings, data, context) {\\n            var stringified = ko.observable(ko.unwrap(valueAccessor()));\\n            stringified.subscribe(function(value) {\\n                var val = parseFloat(value);\\n                if (!isNaN(val)) {\\n                    valueAccessor()(val);\\n                }\\n            });\\n            valueAccessor().subscribe(function(value) {\\n                var str = JSON.stringify(value);\\n                if ((str == \\\"0\\\") && ([\\\"-0\\\", \\\"-0.\\\"].indexOf(stringified()) >= 0))\\n                     return;\\n                 if ([\\\"null\\\", \\\"\\\"].indexOf(str) >= 0)\\n                     return;\\n                stringified(str);\\n            });\\n            ko.applyBindingsToNode(\\n                element,\\n                {\\n                    value: stringified,\\n                    valueUpdate: allBindings.get('valueUpdate'),\\n                },\\n                context,\\n            );\\n        }\\n    };\\n    var json_data = {\\\"formatted_vals\\\":[\\\"0.1\\\",\\\"0.2\\\",\\\"0.3\\\",\\\"0.4\\\",\\\"0.5\\\",\\\"0.6\\\",\\\"0.7\\\",\\\"0.8\\\",\\\"0.9\\\",\\\"1.0\\\"],\\\"changes\\\":WebIO.getval({\\\"name\\\":\\\"changes\\\",\\\"scope\\\":\\\"4654792117606656712\\\",\\\"id\\\":\\\"7288549994842182967\\\",\\\"type\\\":\\\"observable\\\"}),\\\"index\\\":WebIO.getval({\\\"name\\\":\\\"index\\\",\\\"scope\\\":\\\"4654792117606656712\\\",\\\"id\\\":\\\"3745041277802763657\\\",\\\"type\\\":\\\"observable\\\"})};\\n    var self = this;\\n    function AppViewModel() {\\n        for (var key in json_data) {\\n            var el = json_data[key];\\n            this[key] = Array.isArray(el) ? ko.observableArray(el) : ko.observable(el);\\n        }\\n        \\n        [this[\\\"formatted_val\\\"]=ko.computed(    function(){\\n        return this.formatted_vals()[parseInt(this.index())-(1)];\\n    }\\n,this)]\\n        [this[\\\"changes\\\"].subscribe((function (val){!(this.valueFromJulia[\\\"changes\\\"]) ? (WebIO.setval({\\\"name\\\":\\\"changes\\\",\\\"scope\\\":\\\"4654792117606656712\\\",\\\"id\\\":\\\"7288549994842182967\\\",\\\"type\\\":\\\"observable\\\"},val)) : undefined; return this.valueFromJulia[\\\"changes\\\"]=false}),self),this[\\\"index\\\"].subscribe((function (val){!(this.valueFromJulia[\\\"index\\\"]) ? (WebIO.setval({\\\"name\\\":\\\"index\\\",\\\"scope\\\":\\\"4654792117606656712\\\",\\\"id\\\":\\\"3745041277802763657\\\",\\\"type\\\":\\\"observable\\\"},val)) : undefined; return this.valueFromJulia[\\\"index\\\"]=false}),self)]\\n        \\n    }\\n    self.model = new AppViewModel();\\n    self.valueFromJulia = {};\\n    for (var key in json_data) {\\n        self.valueFromJulia[key] = false;\\n    }\\n    ko.applyBindings(self.model, self.dom);\\n}\\n);\\n    (WebIO.importBlock({\\\"data\\\":[{\\\"name\\\":\\\"knockout\\\",\\\"type\\\":\\\"js\\\",\\\"url\\\":\\\"\\/assetserver\\/847903f5df732148b510ba93542242ba69c4346c-knockout.js\\\"},{\\\"name\\\":\\\"knockout_punches\\\",\\\"type\\\":\\\"js\\\",\\\"url\\\":\\\"\\/assetserver\\/c0b325de111f2589153d52b7b74e82babec63146-knockout_punches.js\\\"}],\\\"type\\\":\\\"async_block\\\"})).then((imports) => handler.apply(this, imports));\\n}\\n\"],\"observables\":{\"changes\":{\"sync\":false,\"id\":\"7288549994842182967\",\"value\":0},\"index\":{\"sync\":true,\"id\":\"3745041277802763657\",\"value\":5}}},\"children\":[{\"props\":{\"className\":\"interact-flex-row interact-widget\"},\"nodeType\":\"DOM\",\"type\":\"node\",\"instanceArgs\":{\"namespace\":\"html\",\"tag\":\"div\"},\"children\":[{\"props\":{\"className\":\"interact-flex-row-left\"},\"nodeType\":\"DOM\",\"type\":\"node\",\"instanceArgs\":{\"namespace\":\"html\",\"tag\":\"div\"},\"children\":[{\"props\":{\"className\":\"interact \",\"style\":{\"padding\":\"5px 10px 0px 10px\"}},\"nodeType\":\"DOM\",\"type\":\"node\",\"instanceArgs\":{\"namespace\":\"html\",\"tag\":\"label\"},\"children\":[\"p\"]}]},{\"props\":{\"className\":\"interact-flex-row-center\"},\"nodeType\":\"DOM\",\"type\":\"node\",\"instanceArgs\":{\"namespace\":\"html\",\"tag\":\"div\"},\"children\":[{\"props\":{\"max\":10,\"min\":1,\"attributes\":{\"type\":\"range\",\"data-bind\":\"numericValue: index, valueUpdate: 'input', event: {change: function (){this.changes(this.changes()+1)}}\",\"orient\":\"horizontal\"},\"step\":1,\"className\":\"slider slider is-fullwidth\",\"style\":{}},\"nodeType\":\"DOM\",\"type\":\"node\",\"instanceArgs\":{\"namespace\":\"html\",\"tag\":\"input\"},\"children\":[]}]},{\"props\":{\"className\":\"interact-flex-row-right\"},\"nodeType\":\"DOM\",\"type\":\"node\",\"instanceArgs\":{\"namespace\":\"html\",\"tag\":\"div\"},\"children\":[{\"props\":{\"attributes\":{\"data-bind\":\"text: formatted_val\"}},\"nodeType\":\"DOM\",\"type\":\"node\",\"instanceArgs\":{\"namespace\":\"html\",\"tag\":\"p\"},\"children\":[]}]}]}]}]},{\"props\":{\"className\":\"field interact-widget\"},\"nodeType\":\"DOM\",\"type\":\"node\",\"instanceArgs\":{\"namespace\":\"html\",\"tag\":\"div\"},\"children\":[{\"props\":{},\"nodeType\":\"Scope\",\"type\":\"node\",\"instanceArgs\":{\"imports\":{\"data\":[{\"name\":\"knockout\",\"type\":\"js\",\"url\":\"\\/assetserver\\/847903f5df732148b510ba93542242ba69c4346c-knockout.js\"},{\"name\":\"knockout_punches\",\"type\":\"js\",\"url\":\"\\/assetserver\\/c0b325de111f2589153d52b7b74e82babec63146-knockout_punches.js\"},{\"name\":null,\"type\":\"js\",\"url\":\"\\/assetserver\\/51952c19a9a6ce93cd17825f07a8fe28d322efde-all.js\"},{\"name\":null,\"type\":\"css\",\"url\":\"\\/assetserver\\/104d64c7b780621be0c8d84ac84d7a5a84de4524-style.css\"},{\"name\":null,\"type\":\"css\",\"url\":\"\\/assetserver\\/9e3206e22736e731411e8095c384ec75a742e5c8-bulma_confined.min.css\"}],\"type\":\"async_block\"},\"id\":\"6393878915753148018\",\"handlers\":{\"changes\":[\"(function (val){return (val!=this.model[\\\"changes\\\"]()) ? (this.valueFromJulia[\\\"changes\\\"]=true, this.model[\\\"changes\\\"](val)) : undefined})\"],\"index\":[\"(function (val){return (val!=this.model[\\\"index\\\"]()) ? (this.valueFromJulia[\\\"index\\\"]=true, this.model[\\\"index\\\"](val)) : undefined})\"]},\"systemjs_options\":null,\"mount_callbacks\":[\"function () {\\n    var handler = (function (ko, koPunches) {\\n    ko.punches.enableAll();\\n    ko.bindingHandlers.numericValue = {\\n        init: function(element, valueAccessor, allBindings, data, context) {\\n            var stringified = ko.observable(ko.unwrap(valueAccessor()));\\n            stringified.subscribe(function(value) {\\n                var val = parseFloat(value);\\n                if (!isNaN(val)) {\\n                    valueAccessor()(val);\\n                }\\n            });\\n            valueAccessor().subscribe(function(value) {\\n                var str = JSON.stringify(value);\\n                if ((str == \\\"0\\\") && ([\\\"-0\\\", \\\"-0.\\\"].indexOf(stringified()) >= 0))\\n                     return;\\n                 if ([\\\"null\\\", \\\"\\\"].indexOf(str) >= 0)\\n                     return;\\n                stringified(str);\\n            });\\n            ko.applyBindingsToNode(\\n                element,\\n                {\\n                    value: stringified,\\n                    valueUpdate: allBindings.get('valueUpdate'),\\n                },\\n                context,\\n            );\\n        }\\n    };\\n    var json_data = {\\\"formatted_vals\\\":[\\\"1\\\",\\\"2\\\",\\\"3\\\",\\\"4\\\",\\\"5\\\",\\\"6\\\",\\\"7\\\",\\\"8\\\",\\\"9\\\",\\\"10\\\",\\\"11\\\",\\\"12\\\"],\\\"changes\\\":WebIO.getval({\\\"name\\\":\\\"changes\\\",\\\"scope\\\":\\\"6393878915753148018\\\",\\\"id\\\":\\\"16525462484702432419\\\",\\\"type\\\":\\\"observable\\\"}),\\\"index\\\":WebIO.getval({\\\"name\\\":\\\"index\\\",\\\"scope\\\":\\\"6393878915753148018\\\",\\\"id\\\":\\\"27672552467042781\\\",\\\"type\\\":\\\"observable\\\"})};\\n    var self = this;\\n    function AppViewModel() {\\n        for (var key in json_data) {\\n            var el = json_data[key];\\n            this[key] = Array.isArray(el) ? ko.observableArray(el) : ko.observable(el);\\n        }\\n        \\n        [this[\\\"formatted_val\\\"]=ko.computed(    function(){\\n        return this.formatted_vals()[parseInt(this.index())-(1)];\\n    }\\n,this)]\\n        [this[\\\"changes\\\"].subscribe((function (val){!(this.valueFromJulia[\\\"changes\\\"]) ? (WebIO.setval({\\\"name\\\":\\\"changes\\\",\\\"scope\\\":\\\"6393878915753148018\\\",\\\"id\\\":\\\"16525462484702432419\\\",\\\"type\\\":\\\"observable\\\"},val)) : undefined; return this.valueFromJulia[\\\"changes\\\"]=false}),self),this[\\\"index\\\"].subscribe((function (val){!(this.valueFromJulia[\\\"index\\\"]) ? (WebIO.setval({\\\"name\\\":\\\"index\\\",\\\"scope\\\":\\\"6393878915753148018\\\",\\\"id\\\":\\\"27672552467042781\\\",\\\"type\\\":\\\"observable\\\"},val)) : undefined; return this.valueFromJulia[\\\"index\\\"]=false}),self)]\\n        \\n    }\\n    self.model = new AppViewModel();\\n    self.valueFromJulia = {};\\n    for (var key in json_data) {\\n        self.valueFromJulia[key] = false;\\n    }\\n    ko.applyBindings(self.model, self.dom);\\n}\\n);\\n    (WebIO.importBlock({\\\"data\\\":[{\\\"name\\\":\\\"knockout\\\",\\\"type\\\":\\\"js\\\",\\\"url\\\":\\\"\\/assetserver\\/847903f5df732148b510ba93542242ba69c4346c-knockout.js\\\"},{\\\"name\\\":\\\"knockout_punches\\\",\\\"type\\\":\\\"js\\\",\\\"url\\\":\\\"\\/assetserver\\/c0b325de111f2589153d52b7b74e82babec63146-knockout_punches.js\\\"}],\\\"type\\\":\\\"async_block\\\"})).then((imports) => handler.apply(this, imports));\\n}\\n\"],\"observables\":{\"changes\":{\"sync\":false,\"id\":\"16525462484702432419\",\"value\":0},\"index\":{\"sync\":true,\"id\":\"27672552467042781\",\"value\":1}}},\"children\":[{\"props\":{\"className\":\"interact-flex-row interact-widget\"},\"nodeType\":\"DOM\",\"type\":\"node\",\"instanceArgs\":{\"namespace\":\"html\",\"tag\":\"div\"},\"children\":[{\"props\":{\"className\":\"interact-flex-row-left\"},\"nodeType\":\"DOM\",\"type\":\"node\",\"instanceArgs\":{\"namespace\":\"html\",\"tag\":\"div\"},\"children\":[{\"props\":{\"className\":\"interact \",\"style\":{\"padding\":\"5px 10px 0px 10px\"}},\"nodeType\":\"DOM\",\"type\":\"node\",\"instanceArgs\":{\"namespace\":\"html\",\"tag\":\"label\"},\"children\":[\"n\"]}]},{\"props\":{\"className\":\"interact-flex-row-center\"},\"nodeType\":\"DOM\",\"type\":\"node\",\"instanceArgs\":{\"namespace\":\"html\",\"tag\":\"div\"},\"children\":[{\"props\":{\"max\":12,\"min\":1,\"attributes\":{\"type\":\"range\",\"data-bind\":\"numericValue: index, valueUpdate: 'input', event: {change: function (){this.changes(this.changes()+1)}}\",\"orient\":\"horizontal\"},\"step\":1,\"className\":\"slider slider is-fullwidth\",\"style\":{}},\"nodeType\":\"DOM\",\"type\":\"node\",\"instanceArgs\":{\"namespace\":\"html\",\"tag\":\"input\"},\"children\":[]}]},{\"props\":{\"className\":\"interact-flex-row-right\"},\"nodeType\":\"DOM\",\"type\":\"node\",\"instanceArgs\":{\"namespace\":\"html\",\"tag\":\"div\"},\"children\":[{\"props\":{\"attributes\":{\"data-bind\":\"text: formatted_val\"}},\"nodeType\":\"DOM\",\"type\":\"node\",\"instanceArgs\":{\"namespace\":\"html\",\"tag\":\"p\"},\"children\":[]}]}]}]}]},{\"props\":{},\"nodeType\":\"Scope\",\"type\":\"node\",\"instanceArgs\":{\"imports\":{\"data\":[],\"type\":\"async_block\"},\"id\":\"15529960888205935675\",\"handlers\":{},\"systemjs_options\":null,\"mount_callbacks\":[],\"observables\":{\"obs-node\":{\"sync\":false,\"id\":\"83936912444055378\",\"value\":{\"props\":{\"className\":\"interact-flex-row interact-widget\"},\"nodeType\":\"DOM\",\"type\":\"node\",\"instanceArgs\":{\"namespace\":\"html\",\"tag\":\"div\"},\"children\":[{\"props\":{\"setInnerHtml\":\"<?xml version=\\\"1.0\\\" encoding=\\\"utf-8\\\"?>\\n<svg xmlns=\\\"http:\\/\\/www.w3.org\\/2000\\/svg\\\" xmlns:xlink=\\\"http:\\/\\/www.w3.org\\/1999\\/xlink\\\" width=\\\"600\\\" height=\\\"400\\\" viewBox=\\\"0 0 2400 1600\\\">\\n<defs>\\n  <clipPath id=\\\"clip5100\\\">\\n    <rect x=\\\"0\\\" y=\\\"0\\\" width=\\\"2400\\\" height=\\\"1600\\\"\\/>\\n  <\\/clipPath>\\n<\\/defs>\\n<path clip-path=\\\"url(#clip5100)\\\" d=\\\"\\nM0 1600 L2400 1600 L2400 0 L0 0  Z\\n  \\\" fill=\\\"#ffffff\\\" fill-rule=\\\"evenodd\\\" fill-opacity=\\\"1\\\"\\/>\\n<defs>\\n  <clipPath id=\\\"clip5101\\\">\\n    <rect x=\\\"480\\\" y=\\\"0\\\" width=\\\"1681\\\" height=\\\"1600\\\"\\/>\\n  <\\/clipPath>\\n<\\/defs>\\n<path clip-path=\\\"url(#clip5100)\\\" d=\\\"\\nM180.66 1487.47 L2352.76 1487.47 L2352.76 47.2441 L180.66 47.2441  Z\\n  \\\" fill=\\\"#ffffff\\\" fill-rule=\\\"evenodd\\\" fill-opacity=\\\"1\\\"\\/>\\n<defs>\\n  <clipPath id=\\\"clip5102\\\">\\n    <rect x=\\\"180\\\" y=\\\"47\\\" width=\\\"2173\\\" height=\\\"1441\\\"\\/>\\n  <\\/clipPath>\\n<\\/defs>\\n<polyline clip-path=\\\"url(#clip5102)\\\" style=\\\"stroke:#000000; stroke-width:2; stroke-opacity:0.1; fill:none\\\" points=\\\"\\n  180.66,1487.47 180.66,47.2441 \\n  \\\"\\/>\\n<polyline clip-path=\\\"url(#clip5102)\\\" style=\\\"stroke:#000000; stroke-width:2; stroke-opacity:0.1; fill:none\\\" points=\\\"\\n  490.96,1487.47 490.96,47.2441 \\n  \\\"\\/>\\n<polyline clip-path=\\\"url(#clip5102)\\\" style=\\\"stroke:#000000; stroke-width:2; stroke-opacity:0.1; fill:none\\\" points=\\\"\\n  801.259,1487.47 801.259,47.2441 \\n  \\\"\\/>\\n<polyline clip-path=\\\"url(#clip5102)\\\" style=\\\"stroke:#000000; stroke-width:2; stroke-opacity:0.1; fill:none\\\" points=\\\"\\n  1111.56,1487.47 1111.56,47.2441 \\n  \\\"\\/>\\n<polyline clip-path=\\\"url(#clip5102)\\\" style=\\\"stroke:#000000; stroke-width:2; stroke-opacity:0.1; fill:none\\\" points=\\\"\\n  1421.86,1487.47 1421.86,47.2441 \\n  \\\"\\/>\\n<polyline clip-path=\\\"url(#clip5102)\\\" style=\\\"stroke:#000000; stroke-width:2; stroke-opacity:0.1; fill:none\\\" points=\\\"\\n  1732.16,1487.47 1732.16,47.2441 \\n  \\\"\\/>\\n<polyline clip-path=\\\"url(#clip5102)\\\" style=\\\"stroke:#000000; stroke-width:2; stroke-opacity:0.1; fill:none\\\" points=\\\"\\n  2042.46,1487.47 2042.46,47.2441 \\n  \\\"\\/>\\n<polyline clip-path=\\\"url(#clip5102)\\\" style=\\\"stroke:#000000; stroke-width:2; stroke-opacity:0.1; fill:none\\\" points=\\\"\\n  180.66,1487.47 2352.76,1487.47 \\n  \\\"\\/>\\n<polyline clip-path=\\\"url(#clip5102)\\\" style=\\\"stroke:#000000; stroke-width:2; stroke-opacity:0.1; fill:none\\\" points=\\\"\\n  180.66,1160.15 2352.76,1160.15 \\n  \\\"\\/>\\n<polyline clip-path=\\\"url(#clip5102)\\\" style=\\\"stroke:#000000; stroke-width:2; stroke-opacity:0.1; fill:none\\\" points=\\\"\\n  180.66,832.824 2352.76,832.824 \\n  \\\"\\/>\\n<polyline clip-path=\\\"url(#clip5102)\\\" style=\\\"stroke:#000000; stroke-width:2; stroke-opacity:0.1; fill:none\\\" points=\\\"\\n  180.66,505.499 2352.76,505.499 \\n  \\\"\\/>\\n<polyline clip-path=\\\"url(#clip5102)\\\" style=\\\"stroke:#000000; stroke-width:2; stroke-opacity:0.1; fill:none\\\" points=\\\"\\n  180.66,178.174 2352.76,178.174 \\n  \\\"\\/>\\n<polyline clip-path=\\\"url(#clip5100)\\\" style=\\\"stroke:#000000; stroke-width:4; stroke-opacity:1; fill:none\\\" points=\\\"\\n  180.66,1487.47 2352.76,1487.47 \\n  \\\"\\/>\\n<polyline clip-path=\\\"url(#clip5100)\\\" style=\\\"stroke:#000000; stroke-width:4; stroke-opacity:1; fill:none\\\" points=\\\"\\n  180.66,1487.47 180.66,47.2441 \\n  \\\"\\/>\\n<polyline clip-path=\\\"url(#clip5100)\\\" style=\\\"stroke:#000000; stroke-width:4; stroke-opacity:1; fill:none\\\" points=\\\"\\n  180.66,1487.47 180.66,1470.19 \\n  \\\"\\/>\\n<polyline clip-path=\\\"url(#clip5100)\\\" style=\\\"stroke:#000000; stroke-width:4; stroke-opacity:1; fill:none\\\" points=\\\"\\n  490.96,1487.47 490.96,1470.19 \\n  \\\"\\/>\\n<polyline clip-path=\\\"url(#clip5100)\\\" style=\\\"stroke:#000000; stroke-width:4; stroke-opacity:1; fill:none\\\" points=\\\"\\n  801.259,1487.47 801.259,1470.19 \\n  \\\"\\/>\\n<polyline clip-path=\\\"url(#clip5100)\\\" style=\\\"stroke:#000000; stroke-width:4; stroke-opacity:1; fill:none\\\" points=\\\"\\n  1111.56,1487.47 1111.56,1470.19 \\n  \\\"\\/>\\n<polyline clip-path=\\\"url(#clip5100)\\\" style=\\\"stroke:#000000; stroke-width:4; stroke-opacity:1; fill:none\\\" points=\\\"\\n  1421.86,1487.47 1421.86,1470.19 \\n  \\\"\\/>\\n<polyline clip-path=\\\"url(#clip5100)\\\" style=\\\"stroke:#000000; stroke-width:4; stroke-opacity:1; fill:none\\\" points=\\\"\\n  1732.16,1487.47 1732.16,1470.19 \\n  \\\"\\/>\\n<polyline clip-path=\\\"url(#clip5100)\\\" style=\\\"stroke:#000000; stroke-width:4; stroke-opacity:1; fill:none\\\" points=\\\"\\n  2042.46,1487.47 2042.46,1470.19 \\n  \\\"\\/>\\n<polyline clip-path=\\\"url(#clip5100)\\\" style=\\\"stroke:#000000; stroke-width:4; stroke-opacity:1; fill:none\\\" points=\\\"\\n  180.66,1487.47 206.725,1487.47 \\n  \\\"\\/>\\n<polyline clip-path=\\\"url(#clip5100)\\\" style=\\\"stroke:#000000; stroke-width:4; stroke-opacity:1; fill:none\\\" points=\\\"\\n  180.66,1160.15 206.725,1160.15 \\n  \\\"\\/>\\n<polyline clip-path=\\\"url(#clip5100)\\\" style=\\\"stroke:#000000; stroke-width:4; stroke-opacity:1; fill:none\\\" points=\\\"\\n  180.66,832.824 206.725,832.824 \\n  \\\"\\/>\\n<polyline clip-path=\\\"url(#clip5100)\\\" style=\\\"stroke:#000000; stroke-width:4; stroke-opacity:1; fill:none\\\" points=\\\"\\n  180.66,505.499 206.725,505.499 \\n  \\\"\\/>\\n<polyline clip-path=\\\"url(#clip5100)\\\" style=\\\"stroke:#000000; stroke-width:4; stroke-opacity:1; fill:none\\\" points=\\\"\\n  180.66,178.174 206.725,178.174 \\n  \\\"\\/>\\n<g clip-path=\\\"url(#clip5100)\\\">\\n<text style=\\\"fill:#000000; fill-opacity:1; font-family:Arial,Helvetica Neue,Helvetica,sans-serif; font-size:48px; text-anchor:middle;\\\" transform=\\\"rotate(0, 180.66, 1541.47)\\\" x=\\\"180.66\\\" y=\\\"1541.47\\\">0.0<\\/text>\\n<\\/g>\\n<g clip-path=\\\"url(#clip5100)\\\">\\n<text style=\\\"fill:#000000; fill-opacity:1; font-family:Arial,Helvetica Neue,Helvetica,sans-serif; font-size:48px; text-anchor:middle;\\\" transform=\\\"rotate(0, 490.96, 1541.47)\\\" x=\\\"490.96\\\" y=\\\"1541.47\\\">2.5<\\/text>\\n<\\/g>\\n<g clip-path=\\\"url(#clip5100)\\\">\\n<text style=\\\"fill:#000000; fill-opacity:1; font-family:Arial,Helvetica Neue,Helvetica,sans-serif; font-size:48px; text-anchor:middle;\\\" transform=\\\"rotate(0, 801.259, 1541.47)\\\" x=\\\"801.259\\\" y=\\\"1541.47\\\">5.0<\\/text>\\n<\\/g>\\n<g clip-path=\\\"url(#clip5100)\\\">\\n<text style=\\\"fill:#000000; fill-opacity:1; font-family:Arial,Helvetica Neue,Helvetica,sans-serif; font-size:48px; text-anchor:middle;\\\" transform=\\\"rotate(0, 1111.56, 1541.47)\\\" x=\\\"1111.56\\\" y=\\\"1541.47\\\">7.5<\\/text>\\n<\\/g>\\n<g clip-path=\\\"url(#clip5100)\\\">\\n<text style=\\\"fill:#000000; fill-opacity:1; font-family:Arial,Helvetica Neue,Helvetica,sans-serif; font-size:48px; text-anchor:middle;\\\" transform=\\\"rotate(0, 1421.86, 1541.47)\\\" x=\\\"1421.86\\\" y=\\\"1541.47\\\">10.0<\\/text>\\n<\\/g>\\n<g clip-path=\\\"url(#clip5100)\\\">\\n<text style=\\\"fill:#000000; fill-opacity:1; font-family:Arial,Helvetica Neue,Helvetica,sans-serif; font-size:48px; text-anchor:middle;\\\" transform=\\\"rotate(0, 1732.16, 1541.47)\\\" x=\\\"1732.16\\\" y=\\\"1541.47\\\">12.5<\\/text>\\n<\\/g>\\n<g clip-path=\\\"url(#clip5100)\\\">\\n<text style=\\\"fill:#000000; fill-opacity:1; font-family:Arial,Helvetica Neue,Helvetica,sans-serif; font-size:48px; text-anchor:middle;\\\" transform=\\\"rotate(0, 2042.46, 1541.47)\\\" x=\\\"2042.46\\\" y=\\\"1541.47\\\">15.0<\\/text>\\n<\\/g>\\n<g clip-path=\\\"url(#clip5100)\\\">\\n<text style=\\\"fill:#000000; fill-opacity:1; font-family:Arial,Helvetica Neue,Helvetica,sans-serif; font-size:48px; text-anchor:end;\\\" transform=\\\"rotate(0, 156.66, 1504.97)\\\" x=\\\"156.66\\\" y=\\\"1504.97\\\">0.00<\\/text>\\n<\\/g>\\n<g clip-path=\\\"url(#clip5100)\\\">\\n<text style=\\\"fill:#000000; fill-opacity:1; font-family:Arial,Helvetica Neue,Helvetica,sans-serif; font-size:48px; text-anchor:end;\\\" transform=\\\"rotate(0, 156.66, 1177.65)\\\" x=\\\"156.66\\\" y=\\\"1177.65\\\">0.25<\\/text>\\n<\\/g>\\n<g clip-path=\\\"url(#clip5100)\\\">\\n<text style=\\\"fill:#000000; fill-opacity:1; font-family:Arial,Helvetica Neue,Helvetica,sans-serif; font-size:48px; text-anchor:end;\\\" transform=\\\"rotate(0, 156.66, 850.324)\\\" x=\\\"156.66\\\" y=\\\"850.324\\\">0.50<\\/text>\\n<\\/g>\\n<g clip-path=\\\"url(#clip5100)\\\">\\n<text style=\\\"fill:#000000; fill-opacity:1; font-family:Arial,Helvetica Neue,Helvetica,sans-serif; font-size:48px; text-anchor:end;\\\" transform=\\\"rotate(0, 156.66, 522.999)\\\" x=\\\"156.66\\\" y=\\\"522.999\\\">0.75<\\/text>\\n<\\/g>\\n<g clip-path=\\\"url(#clip5100)\\\">\\n<text style=\\\"fill:#000000; fill-opacity:1; font-family:Arial,Helvetica Neue,Helvetica,sans-serif; font-size:48px; text-anchor:end;\\\" transform=\\\"rotate(0, 156.66, 195.674)\\\" x=\\\"156.66\\\" y=\\\"195.674\\\">1.00<\\/text>\\n<\\/g>\\n<polyline clip-path=\\\"url(#clip5102)\\\" style=\\\"stroke:#009af9; stroke-width:4; stroke-opacity:1; fill:none\\\" points=\\\"\\n  304.78,827.718 428.9,1156.22 553.02,1325.65 677.139,1411.01 801.259,1448.33 925.379,1467.84 1049.5,1477.79 1173.62,1481.98 1297.74,1484.73 1421.86,1485.51 \\n  1545.98,1486.95 1670.1,1487.08 1794.22,1487.21 1918.34,1487.34 \\n  \\\"\\/>\\n<path clip-path=\\\"url(#clip5100)\\\" d=\\\"\\nM1989.93 251.724 L2280.76 251.724 L2280.76 130.764 L1989.93 130.764  Z\\n  \\\" fill=\\\"#ffffff\\\" fill-rule=\\\"evenodd\\\" fill-opacity=\\\"1\\\"\\/>\\n<polyline clip-path=\\\"url(#clip5100)\\\" style=\\\"stroke:#000000; stroke-width:4; stroke-opacity:1; fill:none\\\" points=\\\"\\n  1989.93,251.724 2280.76,251.724 2280.76,130.764 1989.93,130.764 1989.93,251.724 \\n  \\\"\\/>\\n<polyline clip-path=\\\"url(#clip5100)\\\" style=\\\"stroke:#009af9; stroke-width:4; stroke-opacity:1; fill:none\\\" points=\\\"\\n  2013.93,191.244 2157.93,191.244 \\n  \\\"\\/>\\n<g clip-path=\\\"url(#clip5100)\\\">\\n<text style=\\\"fill:#000000; fill-opacity:1; font-family:Arial,Helvetica Neue,Helvetica,sans-serif; font-size:48px; text-anchor:start;\\\" transform=\\\"rotate(0, 2181.93, 208.744)\\\" x=\\\"2181.93\\\" y=\\\"208.744\\\">y1<\\/text>\\n<\\/g>\\n<\\/svg>\\n\"},\"nodeType\":\"DOM\",\"type\":\"node\",\"instanceArgs\":{\"namespace\":\"html\",\"tag\":\"div\"},\"children\":[]}]}}}},\"children\":[{\"props\":{},\"nodeType\":\"ObservableNode\",\"type\":\"node\",\"instanceArgs\":{\"id\":\"83936912444055378\",\"name\":\"obs-node\"},\"children\":[]}]}]},\n",
       "            window,\n",
       "        );\n",
       "    } else {\n",
       "        document\n",
       "            .querySelector('[data-webio-mountpoint=\"5825583941045905386\"]')\n",
       "            .innerHTML = (\n",
       "                '<strong>WebIO not detected. Please read ' +\n",
       "                '<a href=\"https://juliagizmos.github.io/WebIO.jl/latest/troubleshooting/not-detected/\">the troubleshooting guide</a> ' +\n",
       "                'for more information on how to resolve this issue.' +\n",
       "                '</strong>'\n",
       "            );\n",
       "    }\n",
       "    </script>\n",
       "</div>\n"
      ],
      "text/plain": [
       "Node{WebIO.DOM}(WebIO.DOM(:html, :div), Any[Node{WebIO.DOM}(WebIO.DOM(:html, :div), Any[Scope(Node{WebIO.DOM}(WebIO.DOM(:html, :div), Any[Node{WebIO.DOM}(WebIO.DOM(:html, :div), Any[Node{WebIO.DOM}(WebIO.DOM(:html, :label), Any[\"p\"], Dict{Symbol,Any}(:className => \"interact \",:style => Dict{Any,Any}(:padding => \"5px 10px 0px 10px\")))], Dict{Symbol,Any}(:className => \"interact-flex-row-left\")), Node{WebIO.DOM}(WebIO.DOM(:html, :div), Any[Node{WebIO.DOM}(WebIO.DOM(:html, :input), Any[], Dict{Symbol,Any}(:max => 10,:min => 1,:attributes => Dict{Any,Any}(:type => \"range\",Symbol(\"data-bind\") => \"numericValue: index, valueUpdate: 'input', event: {change: function (){this.changes(this.changes()+1)}}\",\"orient\" => \"horizontal\"),:step => 1,:className => \"slider slider is-fullwidth\",:style => Dict{Any,Any}()))], Dict{Symbol,Any}(:className => \"interact-flex-row-center\")), Node{WebIO.DOM}(WebIO.DOM(:html, :div), Any[Node{WebIO.DOM}(WebIO.DOM(:html, :p), Any[], Dict{Symbol,Any}(:attributes => Dict(\"data-bind\" => \"text: formatted_val\")))], Dict{Symbol,Any}(:className => \"interact-flex-row-right\"))], Dict{Symbol,Any}(:className => \"interact-flex-row interact-widget\")), Dict{String,Tuple{Observables.AbstractObservable,Union{Nothing, Bool}}}(\"changes\" => (Observable{Int64} with 1 listeners. Value:\n",
       "0, nothing),\"index\" => (Observable{Any} with 2 listeners. Value:\n",
       "5, nothing)), Set(String[]), nothing, Asset[Asset(\"js\", \"knockout\", \"/Users/dan/.julia/packages/Knockout/IP1uR/src/../assets/knockout.js\"), Asset(\"js\", \"knockout_punches\", \"/Users/dan/.julia/packages/Knockout/IP1uR/src/../assets/knockout_punches.js\"), Asset(\"js\", nothing, \"/Users/dan/.julia/packages/InteractBase/NMcus/src/../assets/all.js\"), Asset(\"css\", nothing, \"/Users/dan/.julia/packages/InteractBase/NMcus/src/../assets/style.css\"), Asset(\"css\", nothing, \"/Users/dan/.julia/packages/Interact/SbgIk/src/../assets/bulma_confined.min.css\")], Dict{Any,Any}(\"changes\" => Any[WebIO.JSString(\"(function (val){return (val!=this.model[\\\"changes\\\"]()) ? (this.valueFromJulia[\\\"changes\\\"]=true, this.model[\\\"changes\\\"](val)) : undefined})\")],\"index\" => Any[WebIO.JSString(\"(function (val){return (val!=this.model[\\\"index\\\"]()) ? (this.valueFromJulia[\\\"index\\\"]=true, this.model[\\\"index\\\"](val)) : undefined})\")]), WebIO.ConnectionPool(Channel{Any}(sz_max:32,sz_curr:0), Set(AbstractConnection[]), Base.GenericCondition{Base.AlwaysLockedST}(Base.InvasiveLinkedList{Task}(Task (runnable) @0x000000010b1b0250, Task (runnable) @0x000000010b1b0250), Base.AlwaysLockedST(1))), WebIO.JSString[WebIO.JSString(\"function () {\\n    var handler = (function (ko, koPunches) {\\n    ko.punches.enableAll();\\n    ko.bindingHandlers.numericValue = {\\n        init: function(element, valueAccessor, allBindings, data, context) {\\n            var stringified = ko.observable(ko.unwrap(valueAccessor()));\\n            stringified.subscribe(function(value) {\\n                var val = parseFloat(value);\\n                if (!isNaN(val)) {\\n                    valueAccessor()(val);\\n                }\\n            });\\n            valueAccessor().subscribe(function(value) {\\n                var str = JSON.stringify(value);\\n                if ((str == \\\"0\\\") && ([\\\"-0\\\", \\\"-0.\\\"].indexOf(stringified()) >= 0))\\n                     return;\\n                 if ([\\\"null\\\", \\\"\\\"].indexOf(str) >= 0)\\n                     return;\\n                stringified(str);\\n            });\\n            ko.applyBindingsToNode(\\n                element,\\n                {\\n                    value: stringified,\\n                    valueUpdate: allBindings.get('valueUpdate'),\\n                },\\n                context,\\n            );\\n        }\\n    };\\n    var json_data = {\\\"formatted_vals\\\":[\\\"0.1\\\",\\\"0.2\\\",\\\"0.3\\\",\\\"0.4\\\",\\\"0.5\\\",\\\"0.6\\\",\\\"0.7\\\",\\\"0.8\\\",\\\"0.9\\\",\\\"1.0\\\"],\\\"changes\\\":WebIO.getval({\\\"name\\\":\\\"changes\\\",\\\"scope\\\":\\\"4654792117606656712\\\",\\\"id\\\":\\\"7288549994842182967\\\",\\\"type\\\":\\\"observable\\\"}),\\\"index\\\":WebIO.getval({\\\"name\\\":\\\"index\\\",\\\"scope\\\":\\\"4654792117606656712\\\",\\\"id\\\":\\\"3745041277802763657\\\",\\\"type\\\":\\\"observable\\\"})};\\n    var self = this;\\n    function AppViewModel() {\\n        for (var key in json_data) {\\n            var el = json_data[key];\\n            this[key] = Array.isArray(el) ? ko.observableArray(el) : ko.observable(el);\\n        }\\n        \\n        [this[\\\"formatted_val\\\"]=ko.computed(    function(){\\n        return this.formatted_vals()[parseInt(this.index())-(1)];\\n    }\\n,this)]\\n        [this[\\\"changes\\\"].subscribe((function (val){!(this.valueFromJulia[\\\"changes\\\"]) ? (WebIO.setval({\\\"name\\\":\\\"changes\\\",\\\"scope\\\":\\\"4654792117606656712\\\",\\\"id\\\":\\\"7288549994842182967\\\",\\\"type\\\":\\\"observable\\\"},val)) : undefined; return this.valueFromJulia[\\\"changes\\\"]=false}),self),this[\\\"index\\\"].subscribe((function (val){!(this.valueFromJulia[\\\"index\\\"]) ? (WebIO.setval({\\\"name\\\":\\\"index\\\",\\\"scope\\\":\\\"4654792117606656712\\\",\\\"id\\\":\\\"3745041277802763657\\\",\\\"type\\\":\\\"observable\\\"},val)) : undefined; return this.valueFromJulia[\\\"index\\\"]=false}),self)]\\n        \\n    }\\n    self.model = new AppViewModel();\\n    self.valueFromJulia = {};\\n    for (var key in json_data) {\\n        self.valueFromJulia[key] = false;\\n    }\\n    ko.applyBindings(self.model, self.dom);\\n}\\n);\\n    (WebIO.importBlock({\\\"data\\\":[{\\\"name\\\":\\\"knockout\\\",\\\"type\\\":\\\"js\\\",\\\"url\\\":\\\"/assetserver/847903f5df732148b510ba93542242ba69c4346c-knockout.js\\\"},{\\\"name\\\":\\\"knockout_punches\\\",\\\"type\\\":\\\"js\\\",\\\"url\\\":\\\"/assetserver/c0b325de111f2589153d52b7b74e82babec63146-knockout_punches.js\\\"}],\\\"type\\\":\\\"async_block\\\"})).then((imports) => handler.apply(this, imports));\\n}\\n\")])], Dict{Symbol,Any}(:className => \"field interact-widget\")), Node{WebIO.DOM}(WebIO.DOM(:html, :div), Any[Scope(Node{WebIO.DOM}(WebIO.DOM(:html, :div), Any[Node{WebIO.DOM}(WebIO.DOM(:html, :div), Any[Node{WebIO.DOM}(WebIO.DOM(:html, :label), Any[\"n\"], Dict{Symbol,Any}(:className => \"interact \",:style => Dict{Any,Any}(:padding => \"5px 10px 0px 10px\")))], Dict{Symbol,Any}(:className => \"interact-flex-row-left\")), Node{WebIO.DOM}(WebIO.DOM(:html, :div), Any[Node{WebIO.DOM}(WebIO.DOM(:html, :input), Any[], Dict{Symbol,Any}(:max => 12,:min => 1,:attributes => Dict{Any,Any}(:type => \"range\",Symbol(\"data-bind\") => \"numericValue: index, valueUpdate: 'input', event: {change: function (){this.changes(this.changes()+1)}}\",\"orient\" => \"horizontal\"),:step => 1,:className => \"slider slider is-fullwidth\",:style => Dict{Any,Any}()))], Dict{Symbol,Any}(:className => \"interact-flex-row-center\")), Node{WebIO.DOM}(WebIO.DOM(:html, :div), Any[Node{WebIO.DOM}(WebIO.DOM(:html, :p), Any[], Dict{Symbol,Any}(:attributes => Dict(\"data-bind\" => \"text: formatted_val\")))], Dict{Symbol,Any}(:className => \"interact-flex-row-right\"))], Dict{Symbol,Any}(:className => \"interact-flex-row interact-widget\")), Dict{String,Tuple{Observables.AbstractObservable,Union{Nothing, Bool}}}(\"changes\" => (Observable{Int64} with 1 listeners. Value:\n",
       "0, nothing),\"index\" => (Observable{Int64} with 2 listeners. Value:\n",
       "1, nothing)), Set(String[]), nothing, Asset[Asset(\"js\", \"knockout\", \"/Users/dan/.julia/packages/Knockout/IP1uR/src/../assets/knockout.js\"), Asset(\"js\", \"knockout_punches\", \"/Users/dan/.julia/packages/Knockout/IP1uR/src/../assets/knockout_punches.js\"), Asset(\"js\", nothing, \"/Users/dan/.julia/packages/InteractBase/NMcus/src/../assets/all.js\"), Asset(\"css\", nothing, \"/Users/dan/.julia/packages/InteractBase/NMcus/src/../assets/style.css\"), Asset(\"css\", nothing, \"/Users/dan/.julia/packages/Interact/SbgIk/src/../assets/bulma_confined.min.css\")], Dict{Any,Any}(\"changes\" => Any[WebIO.JSString(\"(function (val){return (val!=this.model[\\\"changes\\\"]()) ? (this.valueFromJulia[\\\"changes\\\"]=true, this.model[\\\"changes\\\"](val)) : undefined})\")],\"index\" => Any[WebIO.JSString(\"(function (val){return (val!=this.model[\\\"index\\\"]()) ? (this.valueFromJulia[\\\"index\\\"]=true, this.model[\\\"index\\\"](val)) : undefined})\")]), WebIO.ConnectionPool(Channel{Any}(sz_max:32,sz_curr:0), Set(AbstractConnection[]), Base.GenericCondition{Base.AlwaysLockedST}(Base.InvasiveLinkedList{Task}(Task (runnable) @0x000000010b1be890, Task (runnable) @0x000000010b1be890), Base.AlwaysLockedST(1))), WebIO.JSString[WebIO.JSString(\"function () {\\n    var handler = (function (ko, koPunches) {\\n    ko.punches.enableAll();\\n    ko.bindingHandlers.numericValue = {\\n        init: function(element, valueAccessor, allBindings, data, context) {\\n            var stringified = ko.observable(ko.unwrap(valueAccessor()));\\n            stringified.subscribe(function(value) {\\n                var val = parseFloat(value);\\n                if (!isNaN(val)) {\\n                    valueAccessor()(val);\\n                }\\n            });\\n            valueAccessor().subscribe(function(value) {\\n                var str = JSON.stringify(value);\\n                if ((str == \\\"0\\\") && ([\\\"-0\\\", \\\"-0.\\\"].indexOf(stringified()) >= 0))\\n                     return;\\n                 if ([\\\"null\\\", \\\"\\\"].indexOf(str) >= 0)\\n                     return;\\n                stringified(str);\\n            });\\n            ko.applyBindingsToNode(\\n                element,\\n                {\\n                    value: stringified,\\n                    valueUpdate: allBindings.get('valueUpdate'),\\n                },\\n                context,\\n            );\\n        }\\n    };\\n    var json_data = {\\\"formatted_vals\\\":[\\\"1\\\",\\\"2\\\",\\\"3\\\",\\\"4\\\",\\\"5\\\",\\\"6\\\",\\\"7\\\",\\\"8\\\",\\\"9\\\",\\\"10\\\",\\\"11\\\",\\\"12\\\"],\\\"changes\\\":WebIO.getval({\\\"name\\\":\\\"changes\\\",\\\"scope\\\":\\\"6393878915753148018\\\",\\\"id\\\":\\\"16525462484702432419\\\",\\\"type\\\":\\\"observable\\\"}),\\\"index\\\":WebIO.getval({\\\"name\\\":\\\"index\\\",\\\"scope\\\":\\\"6393878915753148018\\\",\\\"id\\\":\\\"27672552467042781\\\",\\\"type\\\":\\\"observable\\\"})};\\n    var self = this;\\n    function AppViewModel() {\\n        for (var key in json_data) {\\n            var el = json_data[key];\\n            this[key] = Array.isArray(el) ? ko.observableArray(el) : ko.observable(el);\\n        }\\n        \\n        [this[\\\"formatted_val\\\"]=ko.computed(    function(){\\n        return this.formatted_vals()[parseInt(this.index())-(1)];\\n    }\\n,this)]\\n        [this[\\\"changes\\\"].subscribe((function (val){!(this.valueFromJulia[\\\"changes\\\"]) ? (WebIO.setval({\\\"name\\\":\\\"changes\\\",\\\"scope\\\":\\\"6393878915753148018\\\",\\\"id\\\":\\\"16525462484702432419\\\",\\\"type\\\":\\\"observable\\\"},val)) : undefined; return this.valueFromJulia[\\\"changes\\\"]=false}),self),this[\\\"index\\\"].subscribe((function (val){!(this.valueFromJulia[\\\"index\\\"]) ? (WebIO.setval({\\\"name\\\":\\\"index\\\",\\\"scope\\\":\\\"6393878915753148018\\\",\\\"id\\\":\\\"27672552467042781\\\",\\\"type\\\":\\\"observable\\\"},val)) : undefined; return this.valueFromJulia[\\\"index\\\"]=false}),self)]\\n        \\n    }\\n    self.model = new AppViewModel();\\n    self.valueFromJulia = {};\\n    for (var key in json_data) {\\n        self.valueFromJulia[key] = false;\\n    }\\n    ko.applyBindings(self.model, self.dom);\\n}\\n);\\n    (WebIO.importBlock({\\\"data\\\":[{\\\"name\\\":\\\"knockout\\\",\\\"type\\\":\\\"js\\\",\\\"url\\\":\\\"/assetserver/847903f5df732148b510ba93542242ba69c4346c-knockout.js\\\"},{\\\"name\\\":\\\"knockout_punches\\\",\\\"type\\\":\\\"js\\\",\\\"url\\\":\\\"/assetserver/c0b325de111f2589153d52b7b74e82babec63146-knockout_punches.js\\\"}],\\\"type\\\":\\\"async_block\\\"})).then((imports) => handler.apply(this, imports));\\n}\\n\")])], Dict{Symbol,Any}(:className => \"field interact-widget\")), Observable{Any} with 0 listeners. Value:\n",
       "Node{WebIO.DOM}(WebIO.DOM(:html, :div), Any[Plot{Plots.GRBackend() n=1}], Dict{Symbol,Any}(:className => \"interact-flex-row interact-widget\"))], Dict{Symbol,Any}())"
      ]
     },
     "execution_count": 30,
     "metadata": {
      "application/vnd.webio.node+json": {
       "kernelId": "61dd9ceb-ee8b-4b1e-aaeb-0fa4699f6c90"
      }
     },
     "output_type": "execute_result"
    }
   ],
   "source": [
    "n_trials = 10000\n",
    "\n",
    "@manipulate for p=linspace(0,1,11)[2:end], n=slider(1:12, label=\"n\", value=1)\n",
    "  p_list = fill(p, n)\n",
    "\n",
    "  xx, yy = probability_distribution(experiment(p_list, n_trials))\n",
    "  \n",
    "  if length(xx) == 1\n",
    "    scatter(xx, yy)\n",
    "  else\n",
    "    plot(xx, yy)\n",
    "  end\n",
    "  \n",
    "  xlims!(0, 1.25*maximum(xx))\n",
    "  ylims!(0, 1.1)\n",
    "end"
   ]
  },
  {
   "cell_type": "markdown",
   "metadata": {},
   "source": [
    "### 5. **Extra credit:** Write a simulation that runs $N$ individuals and keeps track at each step of how many people are in which state. Plot the resulting graph of the number of people in the `S`,  `I`, `E` and `R` states as a function of time.\n"
   ]
  },
  {
   "cell_type": "code",
   "execution_count": 31,
   "metadata": {},
   "outputs": [
    {
     "data": {
      "text/plain": [
       "make_seir_plot (generic function with 1 method)"
      ]
     },
     "execution_count": 31,
     "metadata": {},
     "output_type": "execute_result"
    }
   ],
   "source": [
    "function make_seir_plot(N, p_E, p_I, p_R)\n",
    "  \n",
    "  count_dict = OrderedDict(\n",
    "        :s=>[N], :e=>[0], :i=>[0], :r=>[0]\n",
    "    )\n",
    "\n",
    "    t = 1\n",
    "    while count_dict[:r][t] < N\n",
    "      t += 1\n",
    "\n",
    "      for (cur_key, cur_value) in count_dict\n",
    "        push!(count_dict[cur_key], cur_value[end])\n",
    "      end\n",
    "\n",
    "      new_r = count([ bernoulli(p_R) for _ in 1:count_dict[:i][t-1] ])\n",
    "      count_dict[:i][t] -= new_r\n",
    "      count_dict[:r][t] += new_r\n",
    "\n",
    "      new_i = count([ bernoulli(p_I) for _ in 1:count_dict[:e][t-1] ])\n",
    "      count_dict[:e][t] -= new_i\n",
    "      count_dict[:i][t] += new_i\n",
    "\n",
    "      new_e = count([ bernoulli(p_E) for _ in 1:count_dict[:s][t-1] ])\n",
    "      count_dict[:s][t] -= new_e\n",
    "      count_dict[:e][t] += new_e\n",
    "    end\n",
    "\n",
    "    plot(title=\"SEIR Model\", ylabel=\"p [%]\", xlabel=\"time\")\n",
    "    for (cur_key, cur_value) in count_dict\n",
    "      plot!(cur_value ./ N, label=uppercase(string(cur_key)))\n",
    "    end\n",
    "    plot!(xscale=:log10)\n",
    "  \n",
    "end"
   ]
  },
  {
   "cell_type": "code",
   "execution_count": 32,
   "metadata": {
    "scrolled": false
   },
   "outputs": [
    {
     "data": {
      "application/vnd.webio.node+json": {
       "children": [
        {
         "children": [
          {
           "children": [
            {
             "children": [
              {
               "children": [
                {
                 "children": [
                  "p_E"
                 ],
                 "instanceArgs": {
                  "namespace": "html",
                  "tag": "label"
                 },
                 "nodeType": "DOM",
                 "props": {
                  "className": "interact ",
                  "style": {
                   "padding": "5px 10px 0px 10px"
                  }
                 },
                 "type": "node"
                }
               ],
               "instanceArgs": {
                "namespace": "html",
                "tag": "div"
               },
               "nodeType": "DOM",
               "props": {
                "className": "interact-flex-row-left"
               },
               "type": "node"
              },
              {
               "children": [
                {
                 "children": [],
                 "instanceArgs": {
                  "namespace": "html",
                  "tag": "input"
                 },
                 "nodeType": "DOM",
                 "props": {
                  "attributes": {
                   "data-bind": "numericValue: index, valueUpdate: 'input', event: {change: function (){this.changes(this.changes()+1)}}",
                   "orient": "horizontal",
                   "type": "range"
                  },
                  "className": "slider slider is-fullwidth",
                  "max": 8,
                  "min": 1,
                  "step": 1,
                  "style": {}
                 },
                 "type": "node"
                }
               ],
               "instanceArgs": {
                "namespace": "html",
                "tag": "div"
               },
               "nodeType": "DOM",
               "props": {
                "className": "interact-flex-row-center"
               },
               "type": "node"
              },
              {
               "children": [
                {
                 "children": [],
                 "instanceArgs": {
                  "namespace": "html",
                  "tag": "p"
                 },
                 "nodeType": "DOM",
                 "props": {
                  "attributes": {
                   "data-bind": "text: formatted_val"
                  }
                 },
                 "type": "node"
                }
               ],
               "instanceArgs": {
                "namespace": "html",
                "tag": "div"
               },
               "nodeType": "DOM",
               "props": {
                "className": "interact-flex-row-right"
               },
               "type": "node"
              }
             ],
             "instanceArgs": {
              "namespace": "html",
              "tag": "div"
             },
             "nodeType": "DOM",
             "props": {
              "className": "interact-flex-row interact-widget"
             },
             "type": "node"
            }
           ],
           "instanceArgs": {
            "handlers": {
             "changes": [
              "(function (val){return (val!=this.model[\"changes\"]()) ? (this.valueFromJulia[\"changes\"]=true, this.model[\"changes\"](val)) : undefined})"
             ],
             "index": [
              "(function (val){return (val!=this.model[\"index\"]()) ? (this.valueFromJulia[\"index\"]=true, this.model[\"index\"](val)) : undefined})"
             ]
            },
            "id": "5355960535203778125",
            "imports": {
             "data": [
              {
               "name": "knockout",
               "type": "js",
               "url": "/assetserver/847903f5df732148b510ba93542242ba69c4346c-knockout.js"
              },
              {
               "name": "knockout_punches",
               "type": "js",
               "url": "/assetserver/c0b325de111f2589153d52b7b74e82babec63146-knockout_punches.js"
              },
              {
               "name": null,
               "type": "js",
               "url": "/assetserver/51952c19a9a6ce93cd17825f07a8fe28d322efde-all.js"
              },
              {
               "name": null,
               "type": "css",
               "url": "/assetserver/104d64c7b780621be0c8d84ac84d7a5a84de4524-style.css"
              },
              {
               "name": null,
               "type": "css",
               "url": "/assetserver/9e3206e22736e731411e8095c384ec75a742e5c8-bulma_confined.min.css"
              }
             ],
             "type": "async_block"
            },
            "mount_callbacks": [
             "function () {\n    var handler = (function (ko, koPunches) {\n    ko.punches.enableAll();\n    ko.bindingHandlers.numericValue = {\n        init: function(element, valueAccessor, allBindings, data, context) {\n            var stringified = ko.observable(ko.unwrap(valueAccessor()));\n            stringified.subscribe(function(value) {\n                var val = parseFloat(value);\n                if (!isNaN(val)) {\n                    valueAccessor()(val);\n                }\n            });\n            valueAccessor().subscribe(function(value) {\n                var str = JSON.stringify(value);\n                if ((str == \"0\") && ([\"-0\", \"-0.\"].indexOf(stringified()) >= 0))\n                     return;\n                 if ([\"null\", \"\"].indexOf(str) >= 0)\n                     return;\n                stringified(str);\n            });\n            ko.applyBindingsToNode(\n                element,\n                {\n                    value: stringified,\n                    valueUpdate: allBindings.get('valueUpdate'),\n                },\n                context,\n            );\n        }\n    };\n    var json_data = {\"formatted_vals\":[\"0.125\",\"0.25\",\"0.375\",\"0.5\",\"0.625\",\"0.75\",\"0.875\",\"1.0\"],\"changes\":WebIO.getval({\"name\":\"changes\",\"scope\":\"5355960535203778125\",\"id\":\"4012650010565985308\",\"type\":\"observable\"}),\"index\":WebIO.getval({\"name\":\"index\",\"scope\":\"5355960535203778125\",\"id\":\"4452226566905393401\",\"type\":\"observable\"})};\n    var self = this;\n    function AppViewModel() {\n        for (var key in json_data) {\n            var el = json_data[key];\n            this[key] = Array.isArray(el) ? ko.observableArray(el) : ko.observable(el);\n        }\n        \n        [this[\"formatted_val\"]=ko.computed(    function(){\n        return this.formatted_vals()[parseInt(this.index())-(1)];\n    }\n,this)]\n        [this[\"changes\"].subscribe((function (val){!(this.valueFromJulia[\"changes\"]) ? (WebIO.setval({\"name\":\"changes\",\"scope\":\"5355960535203778125\",\"id\":\"4012650010565985308\",\"type\":\"observable\"},val)) : undefined; return this.valueFromJulia[\"changes\"]=false}),self),this[\"index\"].subscribe((function (val){!(this.valueFromJulia[\"index\"]) ? (WebIO.setval({\"name\":\"index\",\"scope\":\"5355960535203778125\",\"id\":\"4452226566905393401\",\"type\":\"observable\"},val)) : undefined; return this.valueFromJulia[\"index\"]=false}),self)]\n        \n    }\n    self.model = new AppViewModel();\n    self.valueFromJulia = {};\n    for (var key in json_data) {\n        self.valueFromJulia[key] = false;\n    }\n    ko.applyBindings(self.model, self.dom);\n}\n);\n    (WebIO.importBlock({\"data\":[{\"name\":\"knockout\",\"type\":\"js\",\"url\":\"/assetserver/847903f5df732148b510ba93542242ba69c4346c-knockout.js\"},{\"name\":\"knockout_punches\",\"type\":\"js\",\"url\":\"/assetserver/c0b325de111f2589153d52b7b74e82babec63146-knockout_punches.js\"}],\"type\":\"async_block\"})).then((imports) => handler.apply(this, imports));\n}\n"
            ],
            "observables": {
             "changes": {
              "id": "4012650010565985308",
              "sync": false,
              "value": 0
             },
             "index": {
              "id": "4452226566905393401",
              "sync": true,
              "value": 2
             }
            },
            "systemjs_options": null
           },
           "nodeType": "Scope",
           "props": {},
           "type": "node"
          }
         ],
         "instanceArgs": {
          "namespace": "html",
          "tag": "div"
         },
         "nodeType": "DOM",
         "props": {
          "className": "field interact-widget"
         },
         "type": "node"
        },
        {
         "children": [
          {
           "children": [
            {
             "children": [
              {
               "children": [
                {
                 "children": [
                  "p_I"
                 ],
                 "instanceArgs": {
                  "namespace": "html",
                  "tag": "label"
                 },
                 "nodeType": "DOM",
                 "props": {
                  "className": "interact ",
                  "style": {
                   "padding": "5px 10px 0px 10px"
                  }
                 },
                 "type": "node"
                }
               ],
               "instanceArgs": {
                "namespace": "html",
                "tag": "div"
               },
               "nodeType": "DOM",
               "props": {
                "className": "interact-flex-row-left"
               },
               "type": "node"
              },
              {
               "children": [
                {
                 "children": [],
                 "instanceArgs": {
                  "namespace": "html",
                  "tag": "input"
                 },
                 "nodeType": "DOM",
                 "props": {
                  "attributes": {
                   "data-bind": "numericValue: index, valueUpdate: 'input', event: {change: function (){this.changes(this.changes()+1)}}",
                   "orient": "horizontal",
                   "type": "range"
                  },
                  "className": "slider slider is-fullwidth",
                  "max": 8,
                  "min": 1,
                  "step": 1,
                  "style": {}
                 },
                 "type": "node"
                }
               ],
               "instanceArgs": {
                "namespace": "html",
                "tag": "div"
               },
               "nodeType": "DOM",
               "props": {
                "className": "interact-flex-row-center"
               },
               "type": "node"
              },
              {
               "children": [
                {
                 "children": [],
                 "instanceArgs": {
                  "namespace": "html",
                  "tag": "p"
                 },
                 "nodeType": "DOM",
                 "props": {
                  "attributes": {
                   "data-bind": "text: formatted_val"
                  }
                 },
                 "type": "node"
                }
               ],
               "instanceArgs": {
                "namespace": "html",
                "tag": "div"
               },
               "nodeType": "DOM",
               "props": {
                "className": "interact-flex-row-right"
               },
               "type": "node"
              }
             ],
             "instanceArgs": {
              "namespace": "html",
              "tag": "div"
             },
             "nodeType": "DOM",
             "props": {
              "className": "interact-flex-row interact-widget"
             },
             "type": "node"
            }
           ],
           "instanceArgs": {
            "handlers": {
             "changes": [
              "(function (val){return (val!=this.model[\"changes\"]()) ? (this.valueFromJulia[\"changes\"]=true, this.model[\"changes\"](val)) : undefined})"
             ],
             "index": [
              "(function (val){return (val!=this.model[\"index\"]()) ? (this.valueFromJulia[\"index\"]=true, this.model[\"index\"](val)) : undefined})"
             ]
            },
            "id": "16672833928137370991",
            "imports": {
             "data": [
              {
               "name": "knockout",
               "type": "js",
               "url": "/assetserver/847903f5df732148b510ba93542242ba69c4346c-knockout.js"
              },
              {
               "name": "knockout_punches",
               "type": "js",
               "url": "/assetserver/c0b325de111f2589153d52b7b74e82babec63146-knockout_punches.js"
              },
              {
               "name": null,
               "type": "js",
               "url": "/assetserver/51952c19a9a6ce93cd17825f07a8fe28d322efde-all.js"
              },
              {
               "name": null,
               "type": "css",
               "url": "/assetserver/104d64c7b780621be0c8d84ac84d7a5a84de4524-style.css"
              },
              {
               "name": null,
               "type": "css",
               "url": "/assetserver/9e3206e22736e731411e8095c384ec75a742e5c8-bulma_confined.min.css"
              }
             ],
             "type": "async_block"
            },
            "mount_callbacks": [
             "function () {\n    var handler = (function (ko, koPunches) {\n    ko.punches.enableAll();\n    ko.bindingHandlers.numericValue = {\n        init: function(element, valueAccessor, allBindings, data, context) {\n            var stringified = ko.observable(ko.unwrap(valueAccessor()));\n            stringified.subscribe(function(value) {\n                var val = parseFloat(value);\n                if (!isNaN(val)) {\n                    valueAccessor()(val);\n                }\n            });\n            valueAccessor().subscribe(function(value) {\n                var str = JSON.stringify(value);\n                if ((str == \"0\") && ([\"-0\", \"-0.\"].indexOf(stringified()) >= 0))\n                     return;\n                 if ([\"null\", \"\"].indexOf(str) >= 0)\n                     return;\n                stringified(str);\n            });\n            ko.applyBindingsToNode(\n                element,\n                {\n                    value: stringified,\n                    valueUpdate: allBindings.get('valueUpdate'),\n                },\n                context,\n            );\n        }\n    };\n    var json_data = {\"formatted_vals\":[\"0.125\",\"0.25\",\"0.375\",\"0.5\",\"0.625\",\"0.75\",\"0.875\",\"1.0\"],\"changes\":WebIO.getval({\"name\":\"changes\",\"scope\":\"16672833928137370991\",\"id\":\"4538337583885868416\",\"type\":\"observable\"}),\"index\":WebIO.getval({\"name\":\"index\",\"scope\":\"16672833928137370991\",\"id\":\"9464963239911638340\",\"type\":\"observable\"})};\n    var self = this;\n    function AppViewModel() {\n        for (var key in json_data) {\n            var el = json_data[key];\n            this[key] = Array.isArray(el) ? ko.observableArray(el) : ko.observable(el);\n        }\n        \n        [this[\"formatted_val\"]=ko.computed(    function(){\n        return this.formatted_vals()[parseInt(this.index())-(1)];\n    }\n,this)]\n        [this[\"changes\"].subscribe((function (val){!(this.valueFromJulia[\"changes\"]) ? (WebIO.setval({\"name\":\"changes\",\"scope\":\"16672833928137370991\",\"id\":\"4538337583885868416\",\"type\":\"observable\"},val)) : undefined; return this.valueFromJulia[\"changes\"]=false}),self),this[\"index\"].subscribe((function (val){!(this.valueFromJulia[\"index\"]) ? (WebIO.setval({\"name\":\"index\",\"scope\":\"16672833928137370991\",\"id\":\"9464963239911638340\",\"type\":\"observable\"},val)) : undefined; return this.valueFromJulia[\"index\"]=false}),self)]\n        \n    }\n    self.model = new AppViewModel();\n    self.valueFromJulia = {};\n    for (var key in json_data) {\n        self.valueFromJulia[key] = false;\n    }\n    ko.applyBindings(self.model, self.dom);\n}\n);\n    (WebIO.importBlock({\"data\":[{\"name\":\"knockout\",\"type\":\"js\",\"url\":\"/assetserver/847903f5df732148b510ba93542242ba69c4346c-knockout.js\"},{\"name\":\"knockout_punches\",\"type\":\"js\",\"url\":\"/assetserver/c0b325de111f2589153d52b7b74e82babec63146-knockout_punches.js\"}],\"type\":\"async_block\"})).then((imports) => handler.apply(this, imports));\n}\n"
            ],
            "observables": {
             "changes": {
              "id": "4538337583885868416",
              "sync": false,
              "value": 0
             },
             "index": {
              "id": "9464963239911638340",
              "sync": true,
              "value": 1
             }
            },
            "systemjs_options": null
           },
           "nodeType": "Scope",
           "props": {},
           "type": "node"
          }
         ],
         "instanceArgs": {
          "namespace": "html",
          "tag": "div"
         },
         "nodeType": "DOM",
         "props": {
          "className": "field interact-widget"
         },
         "type": "node"
        },
        {
         "children": [
          {
           "children": [
            {
             "children": [
              {
               "children": [
                {
                 "children": [
                  "p_R"
                 ],
                 "instanceArgs": {
                  "namespace": "html",
                  "tag": "label"
                 },
                 "nodeType": "DOM",
                 "props": {
                  "className": "interact ",
                  "style": {
                   "padding": "5px 10px 0px 10px"
                  }
                 },
                 "type": "node"
                }
               ],
               "instanceArgs": {
                "namespace": "html",
                "tag": "div"
               },
               "nodeType": "DOM",
               "props": {
                "className": "interact-flex-row-left"
               },
               "type": "node"
              },
              {
               "children": [
                {
                 "children": [],
                 "instanceArgs": {
                  "namespace": "html",
                  "tag": "input"
                 },
                 "nodeType": "DOM",
                 "props": {
                  "attributes": {
                   "data-bind": "numericValue: index, valueUpdate: 'input', event: {change: function (){this.changes(this.changes()+1)}}",
                   "orient": "horizontal",
                   "type": "range"
                  },
                  "className": "slider slider is-fullwidth",
                  "max": 8,
                  "min": 1,
                  "step": 1,
                  "style": {}
                 },
                 "type": "node"
                }
               ],
               "instanceArgs": {
                "namespace": "html",
                "tag": "div"
               },
               "nodeType": "DOM",
               "props": {
                "className": "interact-flex-row-center"
               },
               "type": "node"
              },
              {
               "children": [
                {
                 "children": [],
                 "instanceArgs": {
                  "namespace": "html",
                  "tag": "p"
                 },
                 "nodeType": "DOM",
                 "props": {
                  "attributes": {
                   "data-bind": "text: formatted_val"
                  }
                 },
                 "type": "node"
                }
               ],
               "instanceArgs": {
                "namespace": "html",
                "tag": "div"
               },
               "nodeType": "DOM",
               "props": {
                "className": "interact-flex-row-right"
               },
               "type": "node"
              }
             ],
             "instanceArgs": {
              "namespace": "html",
              "tag": "div"
             },
             "nodeType": "DOM",
             "props": {
              "className": "interact-flex-row interact-widget"
             },
             "type": "node"
            }
           ],
           "instanceArgs": {
            "handlers": {
             "changes": [
              "(function (val){return (val!=this.model[\"changes\"]()) ? (this.valueFromJulia[\"changes\"]=true, this.model[\"changes\"](val)) : undefined})"
             ],
             "index": [
              "(function (val){return (val!=this.model[\"index\"]()) ? (this.valueFromJulia[\"index\"]=true, this.model[\"index\"](val)) : undefined})"
             ]
            },
            "id": "14538359387187998413",
            "imports": {
             "data": [
              {
               "name": "knockout",
               "type": "js",
               "url": "/assetserver/847903f5df732148b510ba93542242ba69c4346c-knockout.js"
              },
              {
               "name": "knockout_punches",
               "type": "js",
               "url": "/assetserver/c0b325de111f2589153d52b7b74e82babec63146-knockout_punches.js"
              },
              {
               "name": null,
               "type": "js",
               "url": "/assetserver/51952c19a9a6ce93cd17825f07a8fe28d322efde-all.js"
              },
              {
               "name": null,
               "type": "css",
               "url": "/assetserver/104d64c7b780621be0c8d84ac84d7a5a84de4524-style.css"
              },
              {
               "name": null,
               "type": "css",
               "url": "/assetserver/9e3206e22736e731411e8095c384ec75a742e5c8-bulma_confined.min.css"
              }
             ],
             "type": "async_block"
            },
            "mount_callbacks": [
             "function () {\n    var handler = (function (ko, koPunches) {\n    ko.punches.enableAll();\n    ko.bindingHandlers.numericValue = {\n        init: function(element, valueAccessor, allBindings, data, context) {\n            var stringified = ko.observable(ko.unwrap(valueAccessor()));\n            stringified.subscribe(function(value) {\n                var val = parseFloat(value);\n                if (!isNaN(val)) {\n                    valueAccessor()(val);\n                }\n            });\n            valueAccessor().subscribe(function(value) {\n                var str = JSON.stringify(value);\n                if ((str == \"0\") && ([\"-0\", \"-0.\"].indexOf(stringified()) >= 0))\n                     return;\n                 if ([\"null\", \"\"].indexOf(str) >= 0)\n                     return;\n                stringified(str);\n            });\n            ko.applyBindingsToNode(\n                element,\n                {\n                    value: stringified,\n                    valueUpdate: allBindings.get('valueUpdate'),\n                },\n                context,\n            );\n        }\n    };\n    var json_data = {\"formatted_vals\":[\"0.125\",\"0.25\",\"0.375\",\"0.5\",\"0.625\",\"0.75\",\"0.875\",\"1.0\"],\"changes\":WebIO.getval({\"name\":\"changes\",\"scope\":\"14538359387187998413\",\"id\":\"3489042876454658960\",\"type\":\"observable\"}),\"index\":WebIO.getval({\"name\":\"index\",\"scope\":\"14538359387187998413\",\"id\":\"404328995741524916\",\"type\":\"observable\"})};\n    var self = this;\n    function AppViewModel() {\n        for (var key in json_data) {\n            var el = json_data[key];\n            this[key] = Array.isArray(el) ? ko.observableArray(el) : ko.observable(el);\n        }\n        \n        [this[\"formatted_val\"]=ko.computed(    function(){\n        return this.formatted_vals()[parseInt(this.index())-(1)];\n    }\n,this)]\n        [this[\"changes\"].subscribe((function (val){!(this.valueFromJulia[\"changes\"]) ? (WebIO.setval({\"name\":\"changes\",\"scope\":\"14538359387187998413\",\"id\":\"3489042876454658960\",\"type\":\"observable\"},val)) : undefined; return this.valueFromJulia[\"changes\"]=false}),self),this[\"index\"].subscribe((function (val){!(this.valueFromJulia[\"index\"]) ? (WebIO.setval({\"name\":\"index\",\"scope\":\"14538359387187998413\",\"id\":\"404328995741524916\",\"type\":\"observable\"},val)) : undefined; return this.valueFromJulia[\"index\"]=false}),self)]\n        \n    }\n    self.model = new AppViewModel();\n    self.valueFromJulia = {};\n    for (var key in json_data) {\n        self.valueFromJulia[key] = false;\n    }\n    ko.applyBindings(self.model, self.dom);\n}\n);\n    (WebIO.importBlock({\"data\":[{\"name\":\"knockout\",\"type\":\"js\",\"url\":\"/assetserver/847903f5df732148b510ba93542242ba69c4346c-knockout.js\"},{\"name\":\"knockout_punches\",\"type\":\"js\",\"url\":\"/assetserver/c0b325de111f2589153d52b7b74e82babec63146-knockout_punches.js\"}],\"type\":\"async_block\"})).then((imports) => handler.apply(this, imports));\n}\n"
            ],
            "observables": {
             "changes": {
              "id": "3489042876454658960",
              "sync": false,
              "value": 0
             },
             "index": {
              "id": "404328995741524916",
              "sync": true,
              "value": 1
             }
            },
            "systemjs_options": null
           },
           "nodeType": "Scope",
           "props": {},
           "type": "node"
          }
         ],
         "instanceArgs": {
          "namespace": "html",
          "tag": "div"
         },
         "nodeType": "DOM",
         "props": {
          "className": "field interact-widget"
         },
         "type": "node"
        },
        {
         "children": [
          {
           "children": [],
           "instanceArgs": {
            "id": "16516209212159381391",
            "name": "obs-node"
           },
           "nodeType": "ObservableNode",
           "props": {},
           "type": "node"
          }
         ],
         "instanceArgs": {
          "handlers": {},
          "id": "12939747371386042423",
          "imports": {
           "data": [],
           "type": "async_block"
          },
          "mount_callbacks": [],
          "observables": {
           "obs-node": {
            "id": "16516209212159381391",
            "sync": false,
            "value": {
             "children": [
              {
               "children": [],
               "instanceArgs": {
                "namespace": "html",
                "tag": "div"
               },
               "nodeType": "DOM",
               "props": {
                "setInnerHtml": "<?xml version=\"1.0\" encoding=\"utf-8\"?>\n<svg xmlns=\"http://www.w3.org/2000/svg\" xmlns:xlink=\"http://www.w3.org/1999/xlink\" width=\"600\" height=\"400\" viewBox=\"0 0 2400 1600\">\n<defs>\n  <clipPath id=\"clip6300\">\n    <rect x=\"0\" y=\"0\" width=\"2400\" height=\"1600\"/>\n  </clipPath>\n</defs>\n<path clip-path=\"url(#clip6300)\" d=\"\nM0 1600 L2400 1600 L2400 0 L0 0  Z\n  \" fill=\"#ffffff\" fill-rule=\"evenodd\" fill-opacity=\"1\"/>\n<defs>\n  <clipPath id=\"clip6301\">\n    <rect x=\"480\" y=\"0\" width=\"1681\" height=\"1600\"/>\n  </clipPath>\n</defs>\n<path clip-path=\"url(#clip6300)\" d=\"\nM242.516 1425.62 L2352.76 1425.62 L2352.76 121.675 L242.516 121.675  Z\n  \" fill=\"#ffffff\" fill-rule=\"evenodd\" fill-opacity=\"1\"/>\n<defs>\n  <clipPath id=\"clip6302\">\n    <rect x=\"242\" y=\"121\" width=\"2111\" height=\"1305\"/>\n  </clipPath>\n</defs>\n<polyline clip-path=\"url(#clip6302)\" style=\"stroke:#000000; stroke-width:2; stroke-opacity:0.1; fill:none\" points=\"\n  302.24,1425.62 302.24,121.675 \n  \"/>\n<polyline clip-path=\"url(#clip6302)\" style=\"stroke:#000000; stroke-width:2; stroke-opacity:0.1; fill:none\" points=\"\n  725.768,1425.62 725.768,121.675 \n  \"/>\n<polyline clip-path=\"url(#clip6302)\" style=\"stroke:#000000; stroke-width:2; stroke-opacity:0.1; fill:none\" points=\"\n  1149.3,1425.62 1149.3,121.675 \n  \"/>\n<polyline clip-path=\"url(#clip6302)\" style=\"stroke:#000000; stroke-width:2; stroke-opacity:0.1; fill:none\" points=\"\n  1572.82,1425.62 1572.82,121.675 \n  \"/>\n<polyline clip-path=\"url(#clip6302)\" style=\"stroke:#000000; stroke-width:2; stroke-opacity:0.1; fill:none\" points=\"\n  1996.35,1425.62 1996.35,121.675 \n  \"/>\n<polyline clip-path=\"url(#clip6302)\" style=\"stroke:#000000; stroke-width:2; stroke-opacity:0.1; fill:none\" points=\"\n  242.516,1388.71 2352.76,1388.71 \n  \"/>\n<polyline clip-path=\"url(#clip6302)\" style=\"stroke:#000000; stroke-width:2; stroke-opacity:0.1; fill:none\" points=\"\n  242.516,1081.18 2352.76,1081.18 \n  \"/>\n<polyline clip-path=\"url(#clip6302)\" style=\"stroke:#000000; stroke-width:2; stroke-opacity:0.1; fill:none\" points=\"\n  242.516,773.647 2352.76,773.647 \n  \"/>\n<polyline clip-path=\"url(#clip6302)\" style=\"stroke:#000000; stroke-width:2; stroke-opacity:0.1; fill:none\" points=\"\n  242.516,466.113 2352.76,466.113 \n  \"/>\n<polyline clip-path=\"url(#clip6302)\" style=\"stroke:#000000; stroke-width:2; stroke-opacity:0.1; fill:none\" points=\"\n  242.516,158.579 2352.76,158.579 \n  \"/>\n<polyline clip-path=\"url(#clip6300)\" style=\"stroke:#000000; stroke-width:4; stroke-opacity:1; fill:none\" points=\"\n  242.516,1425.62 2352.76,1425.62 \n  \"/>\n<polyline clip-path=\"url(#clip6300)\" style=\"stroke:#000000; stroke-width:4; stroke-opacity:1; fill:none\" points=\"\n  242.516,1425.62 242.516,121.675 \n  \"/>\n<polyline clip-path=\"url(#clip6300)\" style=\"stroke:#000000; stroke-width:4; stroke-opacity:1; fill:none\" points=\"\n  302.24,1425.62 302.24,1409.97 \n  \"/>\n<polyline clip-path=\"url(#clip6300)\" style=\"stroke:#000000; stroke-width:4; stroke-opacity:1; fill:none\" points=\"\n  725.768,1425.62 725.768,1409.97 \n  \"/>\n<polyline clip-path=\"url(#clip6300)\" style=\"stroke:#000000; stroke-width:4; stroke-opacity:1; fill:none\" points=\"\n  1149.3,1425.62 1149.3,1409.97 \n  \"/>\n<polyline clip-path=\"url(#clip6300)\" style=\"stroke:#000000; stroke-width:4; stroke-opacity:1; fill:none\" points=\"\n  1572.82,1425.62 1572.82,1409.97 \n  \"/>\n<polyline clip-path=\"url(#clip6300)\" style=\"stroke:#000000; stroke-width:4; stroke-opacity:1; fill:none\" points=\"\n  1996.35,1425.62 1996.35,1409.97 \n  \"/>\n<polyline clip-path=\"url(#clip6300)\" style=\"stroke:#000000; stroke-width:4; stroke-opacity:1; fill:none\" points=\"\n  242.516,1388.71 267.839,1388.71 \n  \"/>\n<polyline clip-path=\"url(#clip6300)\" style=\"stroke:#000000; stroke-width:4; stroke-opacity:1; fill:none\" points=\"\n  242.516,1081.18 267.839,1081.18 \n  \"/>\n<polyline clip-path=\"url(#clip6300)\" style=\"stroke:#000000; stroke-width:4; stroke-opacity:1; fill:none\" points=\"\n  242.516,773.647 267.839,773.647 \n  \"/>\n<polyline clip-path=\"url(#clip6300)\" style=\"stroke:#000000; stroke-width:4; stroke-opacity:1; fill:none\" points=\"\n  242.516,466.113 267.839,466.113 \n  \"/>\n<polyline clip-path=\"url(#clip6300)\" style=\"stroke:#000000; stroke-width:4; stroke-opacity:1; fill:none\" points=\"\n  242.516,158.579 267.839,158.579 \n  \"/>\n<g clip-path=\"url(#clip6300)\">\n<text style=\"fill:#000000; fill-opacity:1; font-family:Arial,Helvetica Neue,Helvetica,sans-serif; font-size:48px; text-anchor:start;\" transform=\"rotate(0, 248.297, 1500.63)\" x=\"248.297\" y=\"1500.63\">10</text>\n</g>\n<g clip-path=\"url(#clip6300)\">\n<text style=\"fill:#000000; fill-opacity:1; font-family:Arial,Helvetica Neue,Helvetica,sans-serif; font-size:38px; text-anchor:start;\" transform=\"rotate(0, 301.822, 1473.22)\" x=\"301.822\" y=\"1473.22\">0.0</text>\n</g>\n<g clip-path=\"url(#clip6300)\">\n<text style=\"fill:#000000; fill-opacity:1; font-family:Arial,Helvetica Neue,Helvetica,sans-serif; font-size:48px; text-anchor:start;\" transform=\"rotate(0, 671.825, 1500.63)\" x=\"671.825\" y=\"1500.63\">10</text>\n</g>\n<g clip-path=\"url(#clip6300)\">\n<text style=\"fill:#000000; fill-opacity:1; font-family:Arial,Helvetica Neue,Helvetica,sans-serif; font-size:38px; text-anchor:start;\" transform=\"rotate(0, 725.35, 1473.22)\" x=\"725.35\" y=\"1473.22\">0.5</text>\n</g>\n<g clip-path=\"url(#clip6300)\">\n<text style=\"fill:#000000; fill-opacity:1; font-family:Arial,Helvetica Neue,Helvetica,sans-serif; font-size:48px; text-anchor:start;\" transform=\"rotate(0, 1095.35, 1500.63)\" x=\"1095.35\" y=\"1500.63\">10</text>\n</g>\n<g clip-path=\"url(#clip6300)\">\n<text style=\"fill:#000000; fill-opacity:1; font-family:Arial,Helvetica Neue,Helvetica,sans-serif; font-size:38px; text-anchor:start;\" transform=\"rotate(0, 1148.88, 1473.22)\" x=\"1148.88\" y=\"1473.22\">1.0</text>\n</g>\n<g clip-path=\"url(#clip6300)\">\n<text style=\"fill:#000000; fill-opacity:1; font-family:Arial,Helvetica Neue,Helvetica,sans-serif; font-size:48px; text-anchor:start;\" transform=\"rotate(0, 1518.88, 1500.63)\" x=\"1518.88\" y=\"1500.63\">10</text>\n</g>\n<g clip-path=\"url(#clip6300)\">\n<text style=\"fill:#000000; fill-opacity:1; font-family:Arial,Helvetica Neue,Helvetica,sans-serif; font-size:38px; text-anchor:start;\" transform=\"rotate(0, 1572.41, 1473.22)\" x=\"1572.41\" y=\"1473.22\">1.5</text>\n</g>\n<g clip-path=\"url(#clip6300)\">\n<text style=\"fill:#000000; fill-opacity:1; font-family:Arial,Helvetica Neue,Helvetica,sans-serif; font-size:48px; text-anchor:start;\" transform=\"rotate(0, 1942.41, 1500.63)\" x=\"1942.41\" y=\"1500.63\">10</text>\n</g>\n<g clip-path=\"url(#clip6300)\">\n<text style=\"fill:#000000; fill-opacity:1; font-family:Arial,Helvetica Neue,Helvetica,sans-serif; font-size:38px; text-anchor:start;\" transform=\"rotate(0, 1995.93, 1473.22)\" x=\"1995.93\" y=\"1473.22\">2.0</text>\n</g>\n<g clip-path=\"url(#clip6300)\">\n<text style=\"fill:#000000; fill-opacity:1; font-family:Arial,Helvetica Neue,Helvetica,sans-serif; font-size:48px; text-anchor:end;\" transform=\"rotate(0, 218.516, 1406.21)\" x=\"218.516\" y=\"1406.21\">0.00</text>\n</g>\n<g clip-path=\"url(#clip6300)\">\n<text style=\"fill:#000000; fill-opacity:1; font-family:Arial,Helvetica Neue,Helvetica,sans-serif; font-size:48px; text-anchor:end;\" transform=\"rotate(0, 218.516, 1098.68)\" x=\"218.516\" y=\"1098.68\">0.25</text>\n</g>\n<g clip-path=\"url(#clip6300)\">\n<text style=\"fill:#000000; fill-opacity:1; font-family:Arial,Helvetica Neue,Helvetica,sans-serif; font-size:48px; text-anchor:end;\" transform=\"rotate(0, 218.516, 791.147)\" x=\"218.516\" y=\"791.147\">0.50</text>\n</g>\n<g clip-path=\"url(#clip6300)\">\n<text style=\"fill:#000000; fill-opacity:1; font-family:Arial,Helvetica Neue,Helvetica,sans-serif; font-size:48px; text-anchor:end;\" transform=\"rotate(0, 218.516, 483.613)\" x=\"218.516\" y=\"483.613\">0.75</text>\n</g>\n<g clip-path=\"url(#clip6300)\">\n<text style=\"fill:#000000; fill-opacity:1; font-family:Arial,Helvetica Neue,Helvetica,sans-serif; font-size:48px; text-anchor:end;\" transform=\"rotate(0, 218.516, 176.079)\" x=\"218.516\" y=\"176.079\">1.00</text>\n</g>\n<g clip-path=\"url(#clip6300)\">\n<text style=\"fill:#000000; fill-opacity:1; font-family:Arial,Helvetica Neue,Helvetica,sans-serif; font-size:84px; text-anchor:middle;\" transform=\"rotate(0, 1297.64, 73.2)\" x=\"1297.64\" y=\"73.2\">SEIR Model</text>\n</g>\n<g clip-path=\"url(#clip6300)\">\n<text style=\"fill:#000000; fill-opacity:1; font-family:Arial,Helvetica Neue,Helvetica,sans-serif; font-size:66px; text-anchor:middle;\" transform=\"rotate(0, 1297.64, 1559.48)\" x=\"1297.64\" y=\"1559.48\">time</text>\n</g>\n<g clip-path=\"url(#clip6300)\">\n<text style=\"fill:#000000; fill-opacity:1; font-family:Arial,Helvetica Neue,Helvetica,sans-serif; font-size:66px; text-anchor:middle;\" transform=\"rotate(-90, 89.2861, 773.647)\" x=\"89.2861\" y=\"773.647\">p [%]</text>\n</g>\n<polyline clip-path=\"url(#clip6302)\" style=\"stroke:#009af9; stroke-width:4; stroke-opacity:1; fill:none\" points=\"\n  302.24,158.579 557.229,470.049 706.389,697.994 812.219,870.791 894.307,999.561 961.378,1096.1 1018.09,1170.41 1067.21,1224.87 1110.54,1266.17 1149.3,1297.28 \n  1184.36,1320.28 1216.37,1337.25 1245.81,1350.06 1273.07,1359.63 1298.46,1366.82 1322.2,1371.81 1344.5,1375.97 1365.53,1379.13 1385.42,1381.49 1404.29,1383.18 \n  1422.23,1384.69 1439.35,1385.69 1455.7,1386.35 1471.36,1386.82 1486.37,1387.19 1500.8,1387.55 1514.69,1387.73 1528.06,1387.96 1540.97,1388.09 1553.44,1388.26 \n  1565.51,1388.38 1577.19,1388.49 1588.51,1388.55 1599.49,1388.58 1610.15,1388.6 1620.52,1388.65 1630.6,1388.67 1640.41,1388.67 1649.96,1388.67 1659.27,1388.68 \n  1668.36,1388.68 1677.22,1388.69 1685.88,1388.69 1694.34,1388.7 1702.6,1388.71 1710.69,1388.71 1718.6,1388.71 1726.35,1388.71 1733.93,1388.71 1741.36,1388.71 \n  1748.65,1388.71 1755.79,1388.71 1762.8,1388.71 1769.67,1388.71 1776.43,1388.71 1783.05,1388.71 1789.56,1388.71 1795.96,1388.71 1802.25,1388.71 1808.43,1388.71 \n  1814.51,1388.71 1820.5,1388.71 1826.38,1388.71 1832.18,1388.71 1837.88,1388.71 1843.5,1388.71 1849.03,1388.71 1854.48,1388.71 1859.85,1388.71 1865.14,1388.71 \n  1870.36,1388.71 1875.51,1388.71 1880.58,1388.71 1885.58,1388.71 1890.52,1388.71 1895.39,1388.71 1900.2,1388.71 1904.95,1388.71 1909.64,1388.71 1914.26,1388.71 \n  1918.83,1388.71 1923.35,1388.71 1927.81,1388.71 1932.21,1388.71 1936.57,1388.71 1940.87,1388.71 1945.12,1388.71 1949.33,1388.71 1953.48,1388.71 1957.59,1388.71 \n  1961.66,1388.71 1965.68,1388.71 1969.66,1388.71 1973.59,1388.71 1977.48,1388.71 1981.34,1388.71 1985.15,1388.71 1988.92,1388.71 1992.66,1388.71 1996.35,1388.71 \n  2000.01,1388.71 2003.64,1388.71 2007.23,1388.71 2010.78,1388.71 2014.3,1388.71 2017.79,1388.71 2021.24,1388.71 2024.66,1388.71 2028.05,1388.71 2031.41,1388.71 \n  2034.74,1388.71 2038.04,1388.71 2041.31,1388.71 2044.55,1388.71 2047.77,1388.71 2050.95,1388.71 2054.11,1388.71 2057.24,1388.71 2060.34,1388.71 2063.42,1388.71 \n  2066.48,1388.71 2069.5,1388.71 2072.51,1388.71 2075.49,1388.71 2078.44,1388.71 2081.37,1388.71 2084.28,1388.71 2087.17,1388.71 2090.03,1388.71 2092.87,1388.71 \n  2095.69,1388.71 2098.49,1388.71 2101.26,1388.71 2104.02,1388.71 2106.75,1388.71 2109.47,1388.71 2112.16,1388.71 2114.84,1388.71 2117.49,1388.71 2120.13,1388.71 \n  2122.75,1388.71 2125.35,1388.71 2127.93,1388.71 2130.49,1388.71 2133.04,1388.71 2135.57,1388.71 2138.08,1388.71 2140.57,1388.71 2143.05,1388.71 2145.51,1388.71 \n  2147.96,1388.71 2150.38,1388.71 2152.8,1388.71 2155.19,1388.71 2157.57,1388.71 2159.94,1388.71 2162.29,1388.71 2164.63,1388.71 2166.95,1388.71 2169.25,1388.71 \n  2171.55,1388.71 2173.82,1388.71 2176.09,1388.71 2178.34,1388.71 2180.57,1388.71 2182.8,1388.71 2185.01,1388.71 2187.2,1388.71 2189.39,1388.71 2191.56,1388.71 \n  2193.71,1388.71 2195.86,1388.71 2197.99,1388.71 2200.11,1388.71 2202.22,1388.71 2204.32,1388.71 2206.4,1388.71 2208.47,1388.71 2210.53,1388.71 2212.58,1388.71 \n  2214.62,1388.71 2216.65,1388.71 2218.66,1388.71 2220.67,1388.71 2222.66,1388.71 2224.65,1388.71 2226.62,1388.71 2228.58,1388.71 2230.53,1388.71 2232.47,1388.71 \n  2234.4,1388.71 2236.32,1388.71 2238.24,1388.71 2240.14,1388.71 2242.03,1388.71 2243.91,1388.71 2245.78,1388.71 2247.64,1388.71 2249.5,1388.71 2251.34,1388.71 \n  2253.18,1388.71 2255,1388.71 2256.82,1388.71 2258.63,1388.71 2260.43,1388.71 2262.22,1388.71 2264,1388.71 2265.77,1388.71 2267.53,1388.71 2269.29,1388.71 \n  2271.04,1388.71 2272.78,1388.71 2274.51,1388.71 2276.23,1388.71 2277.95,1388.71 2279.65,1388.71 2281.35,1388.71 2283.04,1388.71 2284.73,1388.71 2286.4,1388.71 \n  2288.07,1388.71 2289.73,1388.71 2291.39,1388.71 2293.03,1388.71 \n  \"/>\n<polyline clip-path=\"url(#clip6302)\" style=\"stroke:#e26f46; stroke-width:4; stroke-opacity:1; fill:none\" points=\"\n  302.24,1388.71 557.229,1077.24 706.389,880.792 812.219,758.787 894.307,691.695 961.378,664.103 1018.09,663.439 1067.21,680.845 1110.54,711.537 1149.3,748.478 \n  1184.36,789.602 1216.37,833.641 1245.81,875.957 1273.07,918.212 1298.46,958.77 1322.2,997.359 1344.5,1032.92 1365.53,1065.68 1385.42,1095.34 1404.29,1122.54 \n  1422.23,1148.03 1439.35,1170.7 1455.7,1192.67 1471.36,1211.43 1486.37,1229.33 1500.8,1244.91 1514.69,1259 1528.06,1271.56 1540.97,1282.98 1553.44,1293.15 \n  1565.51,1302.95 1577.19,1311.19 1588.51,1318.39 1599.49,1324.91 1610.15,1331.11 1620.52,1336.75 1630.6,1342.13 1640.41,1346.84 1649.96,1350.74 1659.27,1354.71 \n  1668.36,1358.12 1677.22,1361.29 1685.88,1363.95 1694.34,1366.49 1702.6,1368.91 1710.69,1370.78 1718.6,1372.72 1726.35,1374.22 1733.93,1375.87 1741.36,1376.88 \n  1748.65,1378.01 1755.79,1379.03 1762.8,1379.97 1769.67,1380.67 1776.43,1381.42 1783.05,1382.13 1789.56,1382.81 1795.96,1383.39 1802.25,1383.89 1808.43,1384.38 \n  1814.51,1384.73 1820.5,1385.01 1826.38,1385.48 1832.18,1385.73 1837.88,1386.12 1843.5,1386.28 1849.03,1386.49 1854.48,1386.7 1859.85,1386.82 1865.14,1386.98 \n  1870.36,1387.09 1875.51,1387.31 1880.58,1387.47 1885.58,1387.62 1890.52,1387.71 1895.39,1387.83 1900.2,1387.95 1904.95,1388.03 1909.64,1388.1 1914.26,1388.16 \n  1918.83,1388.17 1923.35,1388.21 1927.81,1388.23 1932.21,1388.28 1936.57,1388.31 1940.87,1388.35 1945.12,1388.39 1949.33,1388.41 1953.48,1388.44 1957.59,1388.46 \n  1961.66,1388.47 1965.68,1388.49 1969.66,1388.55 1973.59,1388.55 1977.48,1388.55 1981.34,1388.55 1985.15,1388.57 1988.92,1388.58 1992.66,1388.59 1996.35,1388.59 \n  2000.01,1388.59 2003.64,1388.62 2007.23,1388.62 2010.78,1388.63 2014.3,1388.63 2017.79,1388.63 2021.24,1388.64 2024.66,1388.65 2028.05,1388.67 2031.41,1388.67 \n  2034.74,1388.67 2038.04,1388.67 2041.31,1388.67 2044.55,1388.67 2047.77,1388.67 2050.95,1388.67 2054.11,1388.67 2057.24,1388.67 2060.34,1388.67 2063.42,1388.68 \n  2066.48,1388.68 2069.5,1388.69 2072.51,1388.69 2075.49,1388.69 2078.44,1388.69 2081.37,1388.69 2084.28,1388.69 2087.17,1388.71 2090.03,1388.71 2092.87,1388.71 \n  2095.69,1388.71 2098.49,1388.71 2101.26,1388.71 2104.02,1388.71 2106.75,1388.71 2109.47,1388.71 2112.16,1388.71 2114.84,1388.71 2117.49,1388.71 2120.13,1388.71 \n  2122.75,1388.71 2125.35,1388.71 2127.93,1388.71 2130.49,1388.71 2133.04,1388.71 2135.57,1388.71 2138.08,1388.71 2140.57,1388.71 2143.05,1388.71 2145.51,1388.71 \n  2147.96,1388.71 2150.38,1388.71 2152.8,1388.71 2155.19,1388.71 2157.57,1388.71 2159.94,1388.71 2162.29,1388.71 2164.63,1388.71 2166.95,1388.71 2169.25,1388.71 \n  2171.55,1388.71 2173.82,1388.71 2176.09,1388.71 2178.34,1388.71 2180.57,1388.71 2182.8,1388.71 2185.01,1388.71 2187.2,1388.71 2189.39,1388.71 2191.56,1388.71 \n  2193.71,1388.71 2195.86,1388.71 2197.99,1388.71 2200.11,1388.71 2202.22,1388.71 2204.32,1388.71 2206.4,1388.71 2208.47,1388.71 2210.53,1388.71 2212.58,1388.71 \n  2214.62,1388.71 2216.65,1388.71 2218.66,1388.71 2220.67,1388.71 2222.66,1388.71 2224.65,1388.71 2226.62,1388.71 2228.58,1388.71 2230.53,1388.71 2232.47,1388.71 \n  2234.4,1388.71 2236.32,1388.71 2238.24,1388.71 2240.14,1388.71 2242.03,1388.71 2243.91,1388.71 2245.78,1388.71 2247.64,1388.71 2249.5,1388.71 2251.34,1388.71 \n  2253.18,1388.71 2255,1388.71 2256.82,1388.71 2258.63,1388.71 2260.43,1388.71 2262.22,1388.71 2264,1388.71 2265.77,1388.71 2267.53,1388.71 2269.29,1388.71 \n  2271.04,1388.71 2272.78,1388.71 2274.51,1388.71 2276.23,1388.71 2277.95,1388.71 2279.65,1388.71 2281.35,1388.71 2283.04,1388.71 2284.73,1388.71 2286.4,1388.71 \n  2288.07,1388.71 2289.73,1388.71 2291.39,1388.71 2293.03,1388.71 \n  \"/>\n<polyline clip-path=\"url(#clip6302)\" style=\"stroke:#3da44d; stroke-width:4; stroke-opacity:1; fill:none\" points=\"\n  302.24,1388.71 557.229,1388.71 706.389,1357.22 812.219,1307.92 894.307,1250.26 961.378,1188.28 1018.09,1124.6 1067.21,1065.56 1110.54,1009.67 1149.3,960.135 \n  1184.36,916.773 1216.37,878.983 1245.81,849.595 1273.07,825.595 1298.46,806.762 1322.2,792.8 1344.5,783.672 1365.53,777.854 1385.42,775.59 1404.29,777.928 \n  1422.23,781.741 1439.35,788.015 1455.7,795.137 1471.36,806.43 1486.37,817.403 1500.8,830.024 1514.69,843.568 1528.06,858.797 1540.97,873.386 1553.44,888.492 \n  1565.51,902.848 1577.19,919.393 1588.51,935.459 1599.49,951.291 1610.15,966.298 1620.52,981.208 1630.6,996.141 1640.41,1010.35 1649.96,1025.27 1659.27,1039.09 \n  1668.36,1053.37 1677.22,1067.14 1685.88,1080.39 1694.34,1093.79 1702.6,1106.18 1710.69,1118.5 1718.6,1130.31 1726.35,1141.72 1733.93,1151.85 1741.36,1162.36 \n  1748.65,1172.54 1755.79,1182.48 1762.8,1192.18 1769.67,1201.62 1776.43,1210.22 1783.05,1218.37 1789.56,1225.94 1795.96,1233.37 1802.25,1241.2 1808.43,1247.86 \n  1814.51,1254.77 1820.5,1261.25 1826.38,1266.78 1832.18,1272.87 1837.88,1278.27 1843.5,1283.78 1849.03,1288.72 1854.48,1293.55 1859.85,1298.79 1865.14,1302.96 \n  1870.36,1307.46 1875.51,1311.17 1880.58,1314.59 1885.58,1318.03 1890.52,1321.62 1895.39,1325.03 1900.2,1327.77 1904.95,1330.62 1909.64,1333.52 1914.26,1336.06 \n  1918.83,1338.3 1923.35,1340.95 1927.81,1343.06 1932.21,1345.11 1936.57,1347 1940.87,1349.1 1945.12,1351.37 1949.33,1353.18 1953.48,1355.03 1957.59,1356.46 \n  1961.66,1358.19 1965.68,1359.83 1969.66,1361.37 1973.59,1362.78 1977.48,1363.89 1981.34,1365.22 1985.15,1366.28 1988.92,1367.35 1992.66,1368.33 1996.35,1369.24 \n  2000.01,1370.2 2003.64,1370.98 2007.23,1371.89 2010.78,1372.8 2014.3,1373.55 2017.79,1374.31 2021.24,1375.01 2024.66,1375.55 2028.05,1376.03 2031.41,1376.73 \n  2034.74,1377.45 2038.04,1378.15 2041.31,1378.78 2044.55,1379.29 2047.77,1379.72 2050.95,1380.25 2054.11,1380.74 2057.24,1381.1 2060.34,1381.54 2063.42,1381.86 \n  2066.48,1382.22 2069.5,1382.58 2072.51,1382.91 2075.49,1383.22 2078.44,1383.52 2081.37,1383.7 2084.28,1383.93 2087.17,1384.06 2090.03,1384.27 2092.87,1384.63 \n  2095.69,1384.82 2098.49,1384.96 2101.26,1385.27 2104.02,1385.37 2106.75,1385.54 2109.47,1385.68 2112.16,1385.92 2114.84,1386.09 2117.49,1386.22 2120.13,1386.32 \n  2122.75,1386.54 2125.35,1386.62 2127.93,1386.67 2130.49,1386.76 2133.04,1386.86 2135.57,1386.92 2138.08,1387.02 2140.57,1387.05 2143.05,1387.13 2145.51,1387.21 \n  2147.96,1387.3 2150.38,1387.35 2152.8,1387.37 2155.19,1387.47 2157.57,1387.5 2159.94,1387.55 2162.29,1387.61 2164.63,1387.63 2166.95,1387.76 2169.25,1387.79 \n  2171.55,1387.8 2173.82,1387.88 2176.09,1387.91 2178.34,1387.95 2180.57,1387.99 2182.8,1388.01 2185.01,1388.04 2187.2,1388.06 2189.39,1388.1 2191.56,1388.1 \n  2193.71,1388.12 2195.86,1388.19 2197.99,1388.22 2200.11,1388.23 2202.22,1388.28 2204.32,1388.32 2206.4,1388.33 2208.47,1388.37 2210.53,1388.38 2212.58,1388.41 \n  2214.62,1388.41 2216.65,1388.41 2218.66,1388.42 2220.67,1388.43 2222.66,1388.44 2224.65,1388.48 2226.62,1388.52 2228.58,1388.52 2230.53,1388.52 2232.47,1388.53 \n  2234.4,1388.54 2236.32,1388.54 2238.24,1388.55 2240.14,1388.55 2242.03,1388.55 2243.91,1388.55 2245.78,1388.55 2247.64,1388.58 2249.5,1388.59 2251.34,1388.59 \n  2253.18,1388.59 2255,1388.63 2256.82,1388.64 2258.63,1388.64 2260.43,1388.64 2262.22,1388.65 2264,1388.67 2265.77,1388.67 2267.53,1388.67 2269.29,1388.67 \n  2271.04,1388.67 2272.78,1388.68 2274.51,1388.69 2276.23,1388.69 2277.95,1388.69 2279.65,1388.69 2281.35,1388.69 2283.04,1388.69 2284.73,1388.69 2286.4,1388.69 \n  2288.07,1388.69 2289.73,1388.69 2291.39,1388.69 2293.03,1388.71 \n  \"/>\n<polyline clip-path=\"url(#clip6302)\" style=\"stroke:#c271d2; stroke-width:4; stroke-opacity:1; fill:none\" points=\"\n  302.24,1388.71 557.229,1388.71 706.389,1388.71 812.219,1387.23 894.307,1383.2 961.378,1376.24 1018.09,1366.26 1067.21,1353.45 1110.54,1337.34 1149.3,1318.83 \n  1184.36,1298.07 1216.37,1274.85 1245.81,1249.11 1273.07,1221.28 1298.46,1192.37 1322.2,1162.75 1344.5,1132.16 1365.53,1102.06 1385.42,1072.3 1404.29,1041.08 \n  1422.23,1010.26 1439.35,980.322 1455.7,950.565 1471.36,920.045 1486.37,890.805 1500.8,862.241 1514.69,834.428 1528.06,806.405 1540.97,780.265 1553.44,754.826 \n  1565.51,730.543 1577.19,705.645 1588.51,682.322 1599.49,659.945 1610.15,638.713 1620.52,618.109 1630.6,597.787 1640.41,578.867 1649.96,560.046 1659.27,542.246 \n  1668.36,524.557 1677.22,507.593 1685.88,491.688 1694.34,475.745 1702.6,460.922 1710.69,446.726 1718.6,432.973 1726.35,420.069 1733.93,408.284 1741.36,396.77 \n  1748.65,385.453 1755.79,374.493 1762.8,363.864 1769.67,353.716 1776.43,344.367 1783.05,335.51 1789.56,327.255 1795.96,319.247 1802.25,310.919 1808.43,303.76 \n  1814.51,296.514 1820.5,289.749 1826.38,283.745 1832.18,277.41 1837.88,271.616 1843.5,265.945 1849.03,260.803 1854.48,255.76 1859.85,250.396 1865.14,246.066 \n  1870.36,241.453 1875.51,237.529 1880.58,233.95 1885.58,230.358 1890.52,226.679 1895.39,223.149 1900.2,220.283 1904.95,217.367 1909.64,214.39 1914.26,211.783 \n  1918.83,209.531 1923.35,206.85 1927.81,204.709 1932.21,202.618 1936.57,200.699 1940.87,198.559 1945.12,196.246 1949.33,194.425 1953.48,192.531 1957.59,191.092 \n  1961.66,189.345 1965.68,187.684 1969.66,186.085 1973.59,184.67 1977.48,183.563 1981.34,182.235 1985.15,181.164 1988.92,180.082 1992.66,179.086 1996.35,178.175 \n  2000.01,177.216 2003.64,176.416 2007.23,175.506 2010.78,174.583 2014.3,173.833 2017.79,173.07 2021.24,172.357 2024.66,171.803 2028.05,171.311 2031.41,170.61 \n  2034.74,169.896 2038.04,169.195 2041.31,168.568 2044.55,168.051 2047.77,167.621 2050.95,167.092 2054.11,166.6 2057.24,166.243 2060.34,165.8 2063.42,165.468 \n  2066.48,165.111 2069.5,164.742 2072.51,164.41 2075.49,164.103 2078.44,163.795 2081.37,163.623 2084.28,163.389 2087.17,163.229 2090.03,163.02 2092.87,162.663 \n  2095.69,162.479 2098.49,162.331 2101.26,162.024 2104.02,161.925 2106.75,161.753 2109.47,161.618 2112.16,161.372 2114.84,161.199 2117.49,161.076 2120.13,160.978 \n  2122.75,160.757 2125.35,160.67 2127.93,160.621 2130.49,160.535 2133.04,160.437 2135.57,160.375 2138.08,160.277 2140.57,160.24 2143.05,160.166 2145.51,160.08 \n  2147.96,159.994 2150.38,159.945 2152.8,159.92 2155.19,159.822 2157.57,159.797 2159.94,159.748 2162.29,159.686 2164.63,159.662 2166.95,159.539 2169.25,159.502 \n  2171.55,159.489 2173.82,159.416 2176.09,159.379 2178.34,159.342 2180.57,159.305 2182.8,159.28 2185.01,159.256 2187.2,159.231 2189.39,159.194 2191.56,159.194 \n  2193.71,159.17 2195.86,159.108 2197.99,159.071 2200.11,159.059 2202.22,159.01 2204.32,158.973 2206.4,158.961 2208.47,158.924 2210.53,158.911 2212.58,158.887 \n  2214.62,158.887 2216.65,158.887 2218.66,158.874 2220.67,158.862 2222.66,158.85 2224.65,158.813 2226.62,158.776 2228.58,158.776 2230.53,158.776 2232.47,158.764 \n  2234.4,158.751 2236.32,158.751 2238.24,158.739 2240.14,158.739 2242.03,158.739 2243.91,158.739 2245.78,158.739 2247.64,158.715 2249.5,158.702 2251.34,158.702 \n  2253.18,158.702 2255,158.665 2256.82,158.653 2258.63,158.653 2260.43,158.653 2262.22,158.641 2264,158.628 2265.77,158.628 2267.53,158.628 2269.29,158.628 \n  2271.04,158.628 2272.78,158.616 2274.51,158.604 2276.23,158.604 2277.95,158.604 2279.65,158.604 2281.35,158.604 2283.04,158.604 2284.73,158.604 2286.4,158.604 \n  2288.07,158.604 2289.73,158.604 2291.39,158.604 2293.03,158.579 \n  \"/>\n<path clip-path=\"url(#clip6300)\" d=\"\nM2006 507.595 L2280.76 507.595 L2280.76 205.195 L2006 205.195  Z\n  \" fill=\"#ffffff\" fill-rule=\"evenodd\" fill-opacity=\"1\"/>\n<polyline clip-path=\"url(#clip6300)\" style=\"stroke:#000000; stroke-width:4; stroke-opacity:1; fill:none\" points=\"\n  2006,507.595 2280.76,507.595 2280.76,205.195 2006,205.195 2006,507.595 \n  \"/>\n<polyline clip-path=\"url(#clip6300)\" style=\"stroke:#009af9; stroke-width:4; stroke-opacity:1; fill:none\" points=\"\n  2030,265.675 2174,265.675 \n  \"/>\n<g clip-path=\"url(#clip6300)\">\n<text style=\"fill:#000000; fill-opacity:1; font-family:Arial,Helvetica Neue,Helvetica,sans-serif; font-size:48px; text-anchor:start;\" transform=\"rotate(0, 2198, 283.175)\" x=\"2198\" y=\"283.175\">S</text>\n</g>\n<polyline clip-path=\"url(#clip6300)\" style=\"stroke:#e26f46; stroke-width:4; stroke-opacity:1; fill:none\" points=\"\n  2030,326.155 2174,326.155 \n  \"/>\n<g clip-path=\"url(#clip6300)\">\n<text style=\"fill:#000000; fill-opacity:1; font-family:Arial,Helvetica Neue,Helvetica,sans-serif; font-size:48px; text-anchor:start;\" transform=\"rotate(0, 2198, 343.655)\" x=\"2198\" y=\"343.655\">E</text>\n</g>\n<polyline clip-path=\"url(#clip6300)\" style=\"stroke:#3da44d; stroke-width:4; stroke-opacity:1; fill:none\" points=\"\n  2030,386.635 2174,386.635 \n  \"/>\n<g clip-path=\"url(#clip6300)\">\n<text style=\"fill:#000000; fill-opacity:1; font-family:Arial,Helvetica Neue,Helvetica,sans-serif; font-size:48px; text-anchor:start;\" transform=\"rotate(0, 2198, 404.135)\" x=\"2198\" y=\"404.135\">I</text>\n</g>\n<polyline clip-path=\"url(#clip6300)\" style=\"stroke:#c271d2; stroke-width:4; stroke-opacity:1; fill:none\" points=\"\n  2030,447.115 2174,447.115 \n  \"/>\n<g clip-path=\"url(#clip6300)\">\n<text style=\"fill:#000000; fill-opacity:1; font-family:Arial,Helvetica Neue,Helvetica,sans-serif; font-size:48px; text-anchor:start;\" transform=\"rotate(0, 2198, 464.615)\" x=\"2198\" y=\"464.615\">R</text>\n</g>\n</svg>\n"
               },
               "type": "node"
              }
             ],
             "instanceArgs": {
              "namespace": "html",
              "tag": "div"
             },
             "nodeType": "DOM",
             "props": {
              "className": "interact-flex-row interact-widget"
             },
             "type": "node"
            }
           }
          },
          "systemjs_options": null
         },
         "nodeType": "Scope",
         "props": {},
         "type": "node"
        }
       ],
       "instanceArgs": {
        "namespace": "html",
        "tag": "div"
       },
       "nodeType": "DOM",
       "props": {},
       "type": "node"
      },
      "text/html": [
       "<div\n",
       "    class=\"webio-mountpoint\"\n",
       "    data-webio-mountpoint=\"15432335846506364048\"\n",
       ">\n",
       "    <script>\n",
       "    if (window.require && require.defined && require.defined(\"nbextensions/webio-jupyter-notebook\")) {\n",
       "        console.log(\"Jupyter WebIO extension detected, not mounting.\");\n",
       "    } else if (window.WebIO) {\n",
       "        WebIO.mount(\n",
       "            document.querySelector('[data-webio-mountpoint=\"15432335846506364048\"]'),\n",
       "            {\"props\":{},\"nodeType\":\"DOM\",\"type\":\"node\",\"instanceArgs\":{\"namespace\":\"html\",\"tag\":\"div\"},\"children\":[{\"props\":{\"className\":\"field interact-widget\"},\"nodeType\":\"DOM\",\"type\":\"node\",\"instanceArgs\":{\"namespace\":\"html\",\"tag\":\"div\"},\"children\":[{\"props\":{},\"nodeType\":\"Scope\",\"type\":\"node\",\"instanceArgs\":{\"imports\":{\"data\":[{\"name\":\"knockout\",\"type\":\"js\",\"url\":\"\\/assetserver\\/847903f5df732148b510ba93542242ba69c4346c-knockout.js\"},{\"name\":\"knockout_punches\",\"type\":\"js\",\"url\":\"\\/assetserver\\/c0b325de111f2589153d52b7b74e82babec63146-knockout_punches.js\"},{\"name\":null,\"type\":\"js\",\"url\":\"\\/assetserver\\/51952c19a9a6ce93cd17825f07a8fe28d322efde-all.js\"},{\"name\":null,\"type\":\"css\",\"url\":\"\\/assetserver\\/104d64c7b780621be0c8d84ac84d7a5a84de4524-style.css\"},{\"name\":null,\"type\":\"css\",\"url\":\"\\/assetserver\\/9e3206e22736e731411e8095c384ec75a742e5c8-bulma_confined.min.css\"}],\"type\":\"async_block\"},\"id\":\"5355960535203778125\",\"handlers\":{\"changes\":[\"(function (val){return (val!=this.model[\\\"changes\\\"]()) ? (this.valueFromJulia[\\\"changes\\\"]=true, this.model[\\\"changes\\\"](val)) : undefined})\"],\"index\":[\"(function (val){return (val!=this.model[\\\"index\\\"]()) ? (this.valueFromJulia[\\\"index\\\"]=true, this.model[\\\"index\\\"](val)) : undefined})\"]},\"systemjs_options\":null,\"mount_callbacks\":[\"function () {\\n    var handler = (function (ko, koPunches) {\\n    ko.punches.enableAll();\\n    ko.bindingHandlers.numericValue = {\\n        init: function(element, valueAccessor, allBindings, data, context) {\\n            var stringified = ko.observable(ko.unwrap(valueAccessor()));\\n            stringified.subscribe(function(value) {\\n                var val = parseFloat(value);\\n                if (!isNaN(val)) {\\n                    valueAccessor()(val);\\n                }\\n            });\\n            valueAccessor().subscribe(function(value) {\\n                var str = JSON.stringify(value);\\n                if ((str == \\\"0\\\") && ([\\\"-0\\\", \\\"-0.\\\"].indexOf(stringified()) >= 0))\\n                     return;\\n                 if ([\\\"null\\\", \\\"\\\"].indexOf(str) >= 0)\\n                     return;\\n                stringified(str);\\n            });\\n            ko.applyBindingsToNode(\\n                element,\\n                {\\n                    value: stringified,\\n                    valueUpdate: allBindings.get('valueUpdate'),\\n                },\\n                context,\\n            );\\n        }\\n    };\\n    var json_data = {\\\"formatted_vals\\\":[\\\"0.125\\\",\\\"0.25\\\",\\\"0.375\\\",\\\"0.5\\\",\\\"0.625\\\",\\\"0.75\\\",\\\"0.875\\\",\\\"1.0\\\"],\\\"changes\\\":WebIO.getval({\\\"name\\\":\\\"changes\\\",\\\"scope\\\":\\\"5355960535203778125\\\",\\\"id\\\":\\\"4012650010565985308\\\",\\\"type\\\":\\\"observable\\\"}),\\\"index\\\":WebIO.getval({\\\"name\\\":\\\"index\\\",\\\"scope\\\":\\\"5355960535203778125\\\",\\\"id\\\":\\\"4452226566905393401\\\",\\\"type\\\":\\\"observable\\\"})};\\n    var self = this;\\n    function AppViewModel() {\\n        for (var key in json_data) {\\n            var el = json_data[key];\\n            this[key] = Array.isArray(el) ? ko.observableArray(el) : ko.observable(el);\\n        }\\n        \\n        [this[\\\"formatted_val\\\"]=ko.computed(    function(){\\n        return this.formatted_vals()[parseInt(this.index())-(1)];\\n    }\\n,this)]\\n        [this[\\\"changes\\\"].subscribe((function (val){!(this.valueFromJulia[\\\"changes\\\"]) ? (WebIO.setval({\\\"name\\\":\\\"changes\\\",\\\"scope\\\":\\\"5355960535203778125\\\",\\\"id\\\":\\\"4012650010565985308\\\",\\\"type\\\":\\\"observable\\\"},val)) : undefined; return this.valueFromJulia[\\\"changes\\\"]=false}),self),this[\\\"index\\\"].subscribe((function (val){!(this.valueFromJulia[\\\"index\\\"]) ? (WebIO.setval({\\\"name\\\":\\\"index\\\",\\\"scope\\\":\\\"5355960535203778125\\\",\\\"id\\\":\\\"4452226566905393401\\\",\\\"type\\\":\\\"observable\\\"},val)) : undefined; return this.valueFromJulia[\\\"index\\\"]=false}),self)]\\n        \\n    }\\n    self.model = new AppViewModel();\\n    self.valueFromJulia = {};\\n    for (var key in json_data) {\\n        self.valueFromJulia[key] = false;\\n    }\\n    ko.applyBindings(self.model, self.dom);\\n}\\n);\\n    (WebIO.importBlock({\\\"data\\\":[{\\\"name\\\":\\\"knockout\\\",\\\"type\\\":\\\"js\\\",\\\"url\\\":\\\"\\/assetserver\\/847903f5df732148b510ba93542242ba69c4346c-knockout.js\\\"},{\\\"name\\\":\\\"knockout_punches\\\",\\\"type\\\":\\\"js\\\",\\\"url\\\":\\\"\\/assetserver\\/c0b325de111f2589153d52b7b74e82babec63146-knockout_punches.js\\\"}],\\\"type\\\":\\\"async_block\\\"})).then((imports) => handler.apply(this, imports));\\n}\\n\"],\"observables\":{\"changes\":{\"sync\":false,\"id\":\"4012650010565985308\",\"value\":0},\"index\":{\"sync\":true,\"id\":\"4452226566905393401\",\"value\":2}}},\"children\":[{\"props\":{\"className\":\"interact-flex-row interact-widget\"},\"nodeType\":\"DOM\",\"type\":\"node\",\"instanceArgs\":{\"namespace\":\"html\",\"tag\":\"div\"},\"children\":[{\"props\":{\"className\":\"interact-flex-row-left\"},\"nodeType\":\"DOM\",\"type\":\"node\",\"instanceArgs\":{\"namespace\":\"html\",\"tag\":\"div\"},\"children\":[{\"props\":{\"className\":\"interact \",\"style\":{\"padding\":\"5px 10px 0px 10px\"}},\"nodeType\":\"DOM\",\"type\":\"node\",\"instanceArgs\":{\"namespace\":\"html\",\"tag\":\"label\"},\"children\":[\"p_E\"]}]},{\"props\":{\"className\":\"interact-flex-row-center\"},\"nodeType\":\"DOM\",\"type\":\"node\",\"instanceArgs\":{\"namespace\":\"html\",\"tag\":\"div\"},\"children\":[{\"props\":{\"max\":8,\"min\":1,\"attributes\":{\"type\":\"range\",\"data-bind\":\"numericValue: index, valueUpdate: 'input', event: {change: function (){this.changes(this.changes()+1)}}\",\"orient\":\"horizontal\"},\"step\":1,\"className\":\"slider slider is-fullwidth\",\"style\":{}},\"nodeType\":\"DOM\",\"type\":\"node\",\"instanceArgs\":{\"namespace\":\"html\",\"tag\":\"input\"},\"children\":[]}]},{\"props\":{\"className\":\"interact-flex-row-right\"},\"nodeType\":\"DOM\",\"type\":\"node\",\"instanceArgs\":{\"namespace\":\"html\",\"tag\":\"div\"},\"children\":[{\"props\":{\"attributes\":{\"data-bind\":\"text: formatted_val\"}},\"nodeType\":\"DOM\",\"type\":\"node\",\"instanceArgs\":{\"namespace\":\"html\",\"tag\":\"p\"},\"children\":[]}]}]}]}]},{\"props\":{\"className\":\"field interact-widget\"},\"nodeType\":\"DOM\",\"type\":\"node\",\"instanceArgs\":{\"namespace\":\"html\",\"tag\":\"div\"},\"children\":[{\"props\":{},\"nodeType\":\"Scope\",\"type\":\"node\",\"instanceArgs\":{\"imports\":{\"data\":[{\"name\":\"knockout\",\"type\":\"js\",\"url\":\"\\/assetserver\\/847903f5df732148b510ba93542242ba69c4346c-knockout.js\"},{\"name\":\"knockout_punches\",\"type\":\"js\",\"url\":\"\\/assetserver\\/c0b325de111f2589153d52b7b74e82babec63146-knockout_punches.js\"},{\"name\":null,\"type\":\"js\",\"url\":\"\\/assetserver\\/51952c19a9a6ce93cd17825f07a8fe28d322efde-all.js\"},{\"name\":null,\"type\":\"css\",\"url\":\"\\/assetserver\\/104d64c7b780621be0c8d84ac84d7a5a84de4524-style.css\"},{\"name\":null,\"type\":\"css\",\"url\":\"\\/assetserver\\/9e3206e22736e731411e8095c384ec75a742e5c8-bulma_confined.min.css\"}],\"type\":\"async_block\"},\"id\":\"16672833928137370991\",\"handlers\":{\"changes\":[\"(function (val){return (val!=this.model[\\\"changes\\\"]()) ? (this.valueFromJulia[\\\"changes\\\"]=true, this.model[\\\"changes\\\"](val)) : undefined})\"],\"index\":[\"(function (val){return (val!=this.model[\\\"index\\\"]()) ? (this.valueFromJulia[\\\"index\\\"]=true, this.model[\\\"index\\\"](val)) : undefined})\"]},\"systemjs_options\":null,\"mount_callbacks\":[\"function () {\\n    var handler = (function (ko, koPunches) {\\n    ko.punches.enableAll();\\n    ko.bindingHandlers.numericValue = {\\n        init: function(element, valueAccessor, allBindings, data, context) {\\n            var stringified = ko.observable(ko.unwrap(valueAccessor()));\\n            stringified.subscribe(function(value) {\\n                var val = parseFloat(value);\\n                if (!isNaN(val)) {\\n                    valueAccessor()(val);\\n                }\\n            });\\n            valueAccessor().subscribe(function(value) {\\n                var str = JSON.stringify(value);\\n                if ((str == \\\"0\\\") && ([\\\"-0\\\", \\\"-0.\\\"].indexOf(stringified()) >= 0))\\n                     return;\\n                 if ([\\\"null\\\", \\\"\\\"].indexOf(str) >= 0)\\n                     return;\\n                stringified(str);\\n            });\\n            ko.applyBindingsToNode(\\n                element,\\n                {\\n                    value: stringified,\\n                    valueUpdate: allBindings.get('valueUpdate'),\\n                },\\n                context,\\n            );\\n        }\\n    };\\n    var json_data = {\\\"formatted_vals\\\":[\\\"0.125\\\",\\\"0.25\\\",\\\"0.375\\\",\\\"0.5\\\",\\\"0.625\\\",\\\"0.75\\\",\\\"0.875\\\",\\\"1.0\\\"],\\\"changes\\\":WebIO.getval({\\\"name\\\":\\\"changes\\\",\\\"scope\\\":\\\"16672833928137370991\\\",\\\"id\\\":\\\"4538337583885868416\\\",\\\"type\\\":\\\"observable\\\"}),\\\"index\\\":WebIO.getval({\\\"name\\\":\\\"index\\\",\\\"scope\\\":\\\"16672833928137370991\\\",\\\"id\\\":\\\"9464963239911638340\\\",\\\"type\\\":\\\"observable\\\"})};\\n    var self = this;\\n    function AppViewModel() {\\n        for (var key in json_data) {\\n            var el = json_data[key];\\n            this[key] = Array.isArray(el) ? ko.observableArray(el) : ko.observable(el);\\n        }\\n        \\n        [this[\\\"formatted_val\\\"]=ko.computed(    function(){\\n        return this.formatted_vals()[parseInt(this.index())-(1)];\\n    }\\n,this)]\\n        [this[\\\"changes\\\"].subscribe((function (val){!(this.valueFromJulia[\\\"changes\\\"]) ? (WebIO.setval({\\\"name\\\":\\\"changes\\\",\\\"scope\\\":\\\"16672833928137370991\\\",\\\"id\\\":\\\"4538337583885868416\\\",\\\"type\\\":\\\"observable\\\"},val)) : undefined; return this.valueFromJulia[\\\"changes\\\"]=false}),self),this[\\\"index\\\"].subscribe((function (val){!(this.valueFromJulia[\\\"index\\\"]) ? (WebIO.setval({\\\"name\\\":\\\"index\\\",\\\"scope\\\":\\\"16672833928137370991\\\",\\\"id\\\":\\\"9464963239911638340\\\",\\\"type\\\":\\\"observable\\\"},val)) : undefined; return this.valueFromJulia[\\\"index\\\"]=false}),self)]\\n        \\n    }\\n    self.model = new AppViewModel();\\n    self.valueFromJulia = {};\\n    for (var key in json_data) {\\n        self.valueFromJulia[key] = false;\\n    }\\n    ko.applyBindings(self.model, self.dom);\\n}\\n);\\n    (WebIO.importBlock({\\\"data\\\":[{\\\"name\\\":\\\"knockout\\\",\\\"type\\\":\\\"js\\\",\\\"url\\\":\\\"\\/assetserver\\/847903f5df732148b510ba93542242ba69c4346c-knockout.js\\\"},{\\\"name\\\":\\\"knockout_punches\\\",\\\"type\\\":\\\"js\\\",\\\"url\\\":\\\"\\/assetserver\\/c0b325de111f2589153d52b7b74e82babec63146-knockout_punches.js\\\"}],\\\"type\\\":\\\"async_block\\\"})).then((imports) => handler.apply(this, imports));\\n}\\n\"],\"observables\":{\"changes\":{\"sync\":false,\"id\":\"4538337583885868416\",\"value\":0},\"index\":{\"sync\":true,\"id\":\"9464963239911638340\",\"value\":1}}},\"children\":[{\"props\":{\"className\":\"interact-flex-row interact-widget\"},\"nodeType\":\"DOM\",\"type\":\"node\",\"instanceArgs\":{\"namespace\":\"html\",\"tag\":\"div\"},\"children\":[{\"props\":{\"className\":\"interact-flex-row-left\"},\"nodeType\":\"DOM\",\"type\":\"node\",\"instanceArgs\":{\"namespace\":\"html\",\"tag\":\"div\"},\"children\":[{\"props\":{\"className\":\"interact \",\"style\":{\"padding\":\"5px 10px 0px 10px\"}},\"nodeType\":\"DOM\",\"type\":\"node\",\"instanceArgs\":{\"namespace\":\"html\",\"tag\":\"label\"},\"children\":[\"p_I\"]}]},{\"props\":{\"className\":\"interact-flex-row-center\"},\"nodeType\":\"DOM\",\"type\":\"node\",\"instanceArgs\":{\"namespace\":\"html\",\"tag\":\"div\"},\"children\":[{\"props\":{\"max\":8,\"min\":1,\"attributes\":{\"type\":\"range\",\"data-bind\":\"numericValue: index, valueUpdate: 'input', event: {change: function (){this.changes(this.changes()+1)}}\",\"orient\":\"horizontal\"},\"step\":1,\"className\":\"slider slider is-fullwidth\",\"style\":{}},\"nodeType\":\"DOM\",\"type\":\"node\",\"instanceArgs\":{\"namespace\":\"html\",\"tag\":\"input\"},\"children\":[]}]},{\"props\":{\"className\":\"interact-flex-row-right\"},\"nodeType\":\"DOM\",\"type\":\"node\",\"instanceArgs\":{\"namespace\":\"html\",\"tag\":\"div\"},\"children\":[{\"props\":{\"attributes\":{\"data-bind\":\"text: formatted_val\"}},\"nodeType\":\"DOM\",\"type\":\"node\",\"instanceArgs\":{\"namespace\":\"html\",\"tag\":\"p\"},\"children\":[]}]}]}]}]},{\"props\":{\"className\":\"field interact-widget\"},\"nodeType\":\"DOM\",\"type\":\"node\",\"instanceArgs\":{\"namespace\":\"html\",\"tag\":\"div\"},\"children\":[{\"props\":{},\"nodeType\":\"Scope\",\"type\":\"node\",\"instanceArgs\":{\"imports\":{\"data\":[{\"name\":\"knockout\",\"type\":\"js\",\"url\":\"\\/assetserver\\/847903f5df732148b510ba93542242ba69c4346c-knockout.js\"},{\"name\":\"knockout_punches\",\"type\":\"js\",\"url\":\"\\/assetserver\\/c0b325de111f2589153d52b7b74e82babec63146-knockout_punches.js\"},{\"name\":null,\"type\":\"js\",\"url\":\"\\/assetserver\\/51952c19a9a6ce93cd17825f07a8fe28d322efde-all.js\"},{\"name\":null,\"type\":\"css\",\"url\":\"\\/assetserver\\/104d64c7b780621be0c8d84ac84d7a5a84de4524-style.css\"},{\"name\":null,\"type\":\"css\",\"url\":\"\\/assetserver\\/9e3206e22736e731411e8095c384ec75a742e5c8-bulma_confined.min.css\"}],\"type\":\"async_block\"},\"id\":\"14538359387187998413\",\"handlers\":{\"changes\":[\"(function (val){return (val!=this.model[\\\"changes\\\"]()) ? (this.valueFromJulia[\\\"changes\\\"]=true, this.model[\\\"changes\\\"](val)) : undefined})\"],\"index\":[\"(function (val){return (val!=this.model[\\\"index\\\"]()) ? (this.valueFromJulia[\\\"index\\\"]=true, this.model[\\\"index\\\"](val)) : undefined})\"]},\"systemjs_options\":null,\"mount_callbacks\":[\"function () {\\n    var handler = (function (ko, koPunches) {\\n    ko.punches.enableAll();\\n    ko.bindingHandlers.numericValue = {\\n        init: function(element, valueAccessor, allBindings, data, context) {\\n            var stringified = ko.observable(ko.unwrap(valueAccessor()));\\n            stringified.subscribe(function(value) {\\n                var val = parseFloat(value);\\n                if (!isNaN(val)) {\\n                    valueAccessor()(val);\\n                }\\n            });\\n            valueAccessor().subscribe(function(value) {\\n                var str = JSON.stringify(value);\\n                if ((str == \\\"0\\\") && ([\\\"-0\\\", \\\"-0.\\\"].indexOf(stringified()) >= 0))\\n                     return;\\n                 if ([\\\"null\\\", \\\"\\\"].indexOf(str) >= 0)\\n                     return;\\n                stringified(str);\\n            });\\n            ko.applyBindingsToNode(\\n                element,\\n                {\\n                    value: stringified,\\n                    valueUpdate: allBindings.get('valueUpdate'),\\n                },\\n                context,\\n            );\\n        }\\n    };\\n    var json_data = {\\\"formatted_vals\\\":[\\\"0.125\\\",\\\"0.25\\\",\\\"0.375\\\",\\\"0.5\\\",\\\"0.625\\\",\\\"0.75\\\",\\\"0.875\\\",\\\"1.0\\\"],\\\"changes\\\":WebIO.getval({\\\"name\\\":\\\"changes\\\",\\\"scope\\\":\\\"14538359387187998413\\\",\\\"id\\\":\\\"3489042876454658960\\\",\\\"type\\\":\\\"observable\\\"}),\\\"index\\\":WebIO.getval({\\\"name\\\":\\\"index\\\",\\\"scope\\\":\\\"14538359387187998413\\\",\\\"id\\\":\\\"404328995741524916\\\",\\\"type\\\":\\\"observable\\\"})};\\n    var self = this;\\n    function AppViewModel() {\\n        for (var key in json_data) {\\n            var el = json_data[key];\\n            this[key] = Array.isArray(el) ? ko.observableArray(el) : ko.observable(el);\\n        }\\n        \\n        [this[\\\"formatted_val\\\"]=ko.computed(    function(){\\n        return this.formatted_vals()[parseInt(this.index())-(1)];\\n    }\\n,this)]\\n        [this[\\\"changes\\\"].subscribe((function (val){!(this.valueFromJulia[\\\"changes\\\"]) ? (WebIO.setval({\\\"name\\\":\\\"changes\\\",\\\"scope\\\":\\\"14538359387187998413\\\",\\\"id\\\":\\\"3489042876454658960\\\",\\\"type\\\":\\\"observable\\\"},val)) : undefined; return this.valueFromJulia[\\\"changes\\\"]=false}),self),this[\\\"index\\\"].subscribe((function (val){!(this.valueFromJulia[\\\"index\\\"]) ? (WebIO.setval({\\\"name\\\":\\\"index\\\",\\\"scope\\\":\\\"14538359387187998413\\\",\\\"id\\\":\\\"404328995741524916\\\",\\\"type\\\":\\\"observable\\\"},val)) : undefined; return this.valueFromJulia[\\\"index\\\"]=false}),self)]\\n        \\n    }\\n    self.model = new AppViewModel();\\n    self.valueFromJulia = {};\\n    for (var key in json_data) {\\n        self.valueFromJulia[key] = false;\\n    }\\n    ko.applyBindings(self.model, self.dom);\\n}\\n);\\n    (WebIO.importBlock({\\\"data\\\":[{\\\"name\\\":\\\"knockout\\\",\\\"type\\\":\\\"js\\\",\\\"url\\\":\\\"\\/assetserver\\/847903f5df732148b510ba93542242ba69c4346c-knockout.js\\\"},{\\\"name\\\":\\\"knockout_punches\\\",\\\"type\\\":\\\"js\\\",\\\"url\\\":\\\"\\/assetserver\\/c0b325de111f2589153d52b7b74e82babec63146-knockout_punches.js\\\"}],\\\"type\\\":\\\"async_block\\\"})).then((imports) => handler.apply(this, imports));\\n}\\n\"],\"observables\":{\"changes\":{\"sync\":false,\"id\":\"3489042876454658960\",\"value\":0},\"index\":{\"sync\":true,\"id\":\"404328995741524916\",\"value\":1}}},\"children\":[{\"props\":{\"className\":\"interact-flex-row interact-widget\"},\"nodeType\":\"DOM\",\"type\":\"node\",\"instanceArgs\":{\"namespace\":\"html\",\"tag\":\"div\"},\"children\":[{\"props\":{\"className\":\"interact-flex-row-left\"},\"nodeType\":\"DOM\",\"type\":\"node\",\"instanceArgs\":{\"namespace\":\"html\",\"tag\":\"div\"},\"children\":[{\"props\":{\"className\":\"interact \",\"style\":{\"padding\":\"5px 10px 0px 10px\"}},\"nodeType\":\"DOM\",\"type\":\"node\",\"instanceArgs\":{\"namespace\":\"html\",\"tag\":\"label\"},\"children\":[\"p_R\"]}]},{\"props\":{\"className\":\"interact-flex-row-center\"},\"nodeType\":\"DOM\",\"type\":\"node\",\"instanceArgs\":{\"namespace\":\"html\",\"tag\":\"div\"},\"children\":[{\"props\":{\"max\":8,\"min\":1,\"attributes\":{\"type\":\"range\",\"data-bind\":\"numericValue: index, valueUpdate: 'input', event: {change: function (){this.changes(this.changes()+1)}}\",\"orient\":\"horizontal\"},\"step\":1,\"className\":\"slider slider is-fullwidth\",\"style\":{}},\"nodeType\":\"DOM\",\"type\":\"node\",\"instanceArgs\":{\"namespace\":\"html\",\"tag\":\"input\"},\"children\":[]}]},{\"props\":{\"className\":\"interact-flex-row-right\"},\"nodeType\":\"DOM\",\"type\":\"node\",\"instanceArgs\":{\"namespace\":\"html\",\"tag\":\"div\"},\"children\":[{\"props\":{\"attributes\":{\"data-bind\":\"text: formatted_val\"}},\"nodeType\":\"DOM\",\"type\":\"node\",\"instanceArgs\":{\"namespace\":\"html\",\"tag\":\"p\"},\"children\":[]}]}]}]}]},{\"props\":{},\"nodeType\":\"Scope\",\"type\":\"node\",\"instanceArgs\":{\"imports\":{\"data\":[],\"type\":\"async_block\"},\"id\":\"2552691556185025807\",\"handlers\":{},\"systemjs_options\":null,\"mount_callbacks\":[],\"observables\":{\"obs-node\":{\"sync\":false,\"id\":\"15546571826595198338\",\"value\":{\"props\":{\"className\":\"interact-flex-row interact-widget\"},\"nodeType\":\"DOM\",\"type\":\"node\",\"instanceArgs\":{\"namespace\":\"html\",\"tag\":\"div\"},\"children\":[{\"props\":{\"setInnerHtml\":\"<?xml version=\\\"1.0\\\" encoding=\\\"utf-8\\\"?>\\n<svg xmlns=\\\"http:\\/\\/www.w3.org\\/2000\\/svg\\\" xmlns:xlink=\\\"http:\\/\\/www.w3.org\\/1999\\/xlink\\\" width=\\\"600\\\" height=\\\"400\\\" viewBox=\\\"0 0 2400 1600\\\">\\n<defs>\\n  <clipPath id=\\\"clip5900\\\">\\n    <rect x=\\\"0\\\" y=\\\"0\\\" width=\\\"2400\\\" height=\\\"1600\\\"\\/>\\n  <\\/clipPath>\\n<\\/defs>\\n<path clip-path=\\\"url(#clip5900)\\\" d=\\\"\\nM0 1600 L2400 1600 L2400 0 L0 0  Z\\n  \\\" fill=\\\"#ffffff\\\" fill-rule=\\\"evenodd\\\" fill-opacity=\\\"1\\\"\\/>\\n<defs>\\n  <clipPath id=\\\"clip5901\\\">\\n    <rect x=\\\"480\\\" y=\\\"0\\\" width=\\\"1681\\\" height=\\\"1600\\\"\\/>\\n  <\\/clipPath>\\n<\\/defs>\\n<path clip-path=\\\"url(#clip5900)\\\" d=\\\"\\nM242.516 1425.62 L2352.76 1425.62 L2352.76 121.675 L242.516 121.675  Z\\n  \\\" fill=\\\"#ffffff\\\" fill-rule=\\\"evenodd\\\" fill-opacity=\\\"1\\\"\\/>\\n<defs>\\n  <clipPath id=\\\"clip5902\\\">\\n    <rect x=\\\"242\\\" y=\\\"121\\\" width=\\\"2111\\\" height=\\\"1305\\\"\\/>\\n  <\\/clipPath>\\n<\\/defs>\\n<polyline clip-path=\\\"url(#clip5902)\\\" style=\\\"stroke:#000000; stroke-width:2; stroke-opacity:0.1; fill:none\\\" points=\\\"\\n  302.24,1425.62 302.24,121.675 \\n  \\\"\\/>\\n<polyline clip-path=\\\"url(#clip5902)\\\" style=\\\"stroke:#000000; stroke-width:2; stroke-opacity:0.1; fill:none\\\" points=\\\"\\n  725.768,1425.62 725.768,121.675 \\n  \\\"\\/>\\n<polyline clip-path=\\\"url(#clip5902)\\\" style=\\\"stroke:#000000; stroke-width:2; stroke-opacity:0.1; fill:none\\\" points=\\\"\\n  1149.3,1425.62 1149.3,121.675 \\n  \\\"\\/>\\n<polyline clip-path=\\\"url(#clip5902)\\\" style=\\\"stroke:#000000; stroke-width:2; stroke-opacity:0.1; fill:none\\\" points=\\\"\\n  1572.82,1425.62 1572.82,121.675 \\n  \\\"\\/>\\n<polyline clip-path=\\\"url(#clip5902)\\\" style=\\\"stroke:#000000; stroke-width:2; stroke-opacity:0.1; fill:none\\\" points=\\\"\\n  1996.35,1425.62 1996.35,121.675 \\n  \\\"\\/>\\n<polyline clip-path=\\\"url(#clip5902)\\\" style=\\\"stroke:#000000; stroke-width:2; stroke-opacity:0.1; fill:none\\\" points=\\\"\\n  242.516,1388.71 2352.76,1388.71 \\n  \\\"\\/>\\n<polyline clip-path=\\\"url(#clip5902)\\\" style=\\\"stroke:#000000; stroke-width:2; stroke-opacity:0.1; fill:none\\\" points=\\\"\\n  242.516,1081.18 2352.76,1081.18 \\n  \\\"\\/>\\n<polyline clip-path=\\\"url(#clip5902)\\\" style=\\\"stroke:#000000; stroke-width:2; stroke-opacity:0.1; fill:none\\\" points=\\\"\\n  242.516,773.647 2352.76,773.647 \\n  \\\"\\/>\\n<polyline clip-path=\\\"url(#clip5902)\\\" style=\\\"stroke:#000000; stroke-width:2; stroke-opacity:0.1; fill:none\\\" points=\\\"\\n  242.516,466.113 2352.76,466.113 \\n  \\\"\\/>\\n<polyline clip-path=\\\"url(#clip5902)\\\" style=\\\"stroke:#000000; stroke-width:2; stroke-opacity:0.1; fill:none\\\" points=\\\"\\n  242.516,158.579 2352.76,158.579 \\n  \\\"\\/>\\n<polyline clip-path=\\\"url(#clip5900)\\\" style=\\\"stroke:#000000; stroke-width:4; stroke-opacity:1; fill:none\\\" points=\\\"\\n  242.516,1425.62 2352.76,1425.62 \\n  \\\"\\/>\\n<polyline clip-path=\\\"url(#clip5900)\\\" style=\\\"stroke:#000000; stroke-width:4; stroke-opacity:1; fill:none\\\" points=\\\"\\n  242.516,1425.62 242.516,121.675 \\n  \\\"\\/>\\n<polyline clip-path=\\\"url(#clip5900)\\\" style=\\\"stroke:#000000; stroke-width:4; stroke-opacity:1; fill:none\\\" points=\\\"\\n  302.24,1425.62 302.24,1409.97 \\n  \\\"\\/>\\n<polyline clip-path=\\\"url(#clip5900)\\\" style=\\\"stroke:#000000; stroke-width:4; stroke-opacity:1; fill:none\\\" points=\\\"\\n  725.768,1425.62 725.768,1409.97 \\n  \\\"\\/>\\n<polyline clip-path=\\\"url(#clip5900)\\\" style=\\\"stroke:#000000; stroke-width:4; stroke-opacity:1; fill:none\\\" points=\\\"\\n  1149.3,1425.62 1149.3,1409.97 \\n  \\\"\\/>\\n<polyline clip-path=\\\"url(#clip5900)\\\" style=\\\"stroke:#000000; stroke-width:4; stroke-opacity:1; fill:none\\\" points=\\\"\\n  1572.82,1425.62 1572.82,1409.97 \\n  \\\"\\/>\\n<polyline clip-path=\\\"url(#clip5900)\\\" style=\\\"stroke:#000000; stroke-width:4; stroke-opacity:1; fill:none\\\" points=\\\"\\n  1996.35,1425.62 1996.35,1409.97 \\n  \\\"\\/>\\n<polyline clip-path=\\\"url(#clip5900)\\\" style=\\\"stroke:#000000; stroke-width:4; stroke-opacity:1; fill:none\\\" points=\\\"\\n  242.516,1388.71 267.839,1388.71 \\n  \\\"\\/>\\n<polyline clip-path=\\\"url(#clip5900)\\\" style=\\\"stroke:#000000; stroke-width:4; stroke-opacity:1; fill:none\\\" points=\\\"\\n  242.516,1081.18 267.839,1081.18 \\n  \\\"\\/>\\n<polyline clip-path=\\\"url(#clip5900)\\\" style=\\\"stroke:#000000; stroke-width:4; stroke-opacity:1; fill:none\\\" points=\\\"\\n  242.516,773.647 267.839,773.647 \\n  \\\"\\/>\\n<polyline clip-path=\\\"url(#clip5900)\\\" style=\\\"stroke:#000000; stroke-width:4; stroke-opacity:1; fill:none\\\" points=\\\"\\n  242.516,466.113 267.839,466.113 \\n  \\\"\\/>\\n<polyline clip-path=\\\"url(#clip5900)\\\" style=\\\"stroke:#000000; stroke-width:4; stroke-opacity:1; fill:none\\\" points=\\\"\\n  242.516,158.579 267.839,158.579 \\n  \\\"\\/>\\n<g clip-path=\\\"url(#clip5900)\\\">\\n<text style=\\\"fill:#000000; fill-opacity:1; font-family:Arial,Helvetica Neue,Helvetica,sans-serif; font-size:48px; text-anchor:start;\\\" transform=\\\"rotate(0, 248.297, 1500.63)\\\" x=\\\"248.297\\\" y=\\\"1500.63\\\">10<\\/text>\\n<\\/g>\\n<g clip-path=\\\"url(#clip5900)\\\">\\n<text style=\\\"fill:#000000; fill-opacity:1; font-family:Arial,Helvetica Neue,Helvetica,sans-serif; font-size:38px; text-anchor:start;\\\" transform=\\\"rotate(0, 301.822, 1473.22)\\\" x=\\\"301.822\\\" y=\\\"1473.22\\\">0.0<\\/text>\\n<\\/g>\\n<g clip-path=\\\"url(#clip5900)\\\">\\n<text style=\\\"fill:#000000; fill-opacity:1; font-family:Arial,Helvetica Neue,Helvetica,sans-serif; font-size:48px; text-anchor:start;\\\" transform=\\\"rotate(0, 671.825, 1500.63)\\\" x=\\\"671.825\\\" y=\\\"1500.63\\\">10<\\/text>\\n<\\/g>\\n<g clip-path=\\\"url(#clip5900)\\\">\\n<text style=\\\"fill:#000000; fill-opacity:1; font-family:Arial,Helvetica Neue,Helvetica,sans-serif; font-size:38px; text-anchor:start;\\\" transform=\\\"rotate(0, 725.35, 1473.22)\\\" x=\\\"725.35\\\" y=\\\"1473.22\\\">0.5<\\/text>\\n<\\/g>\\n<g clip-path=\\\"url(#clip5900)\\\">\\n<text style=\\\"fill:#000000; fill-opacity:1; font-family:Arial,Helvetica Neue,Helvetica,sans-serif; font-size:48px; text-anchor:start;\\\" transform=\\\"rotate(0, 1095.35, 1500.63)\\\" x=\\\"1095.35\\\" y=\\\"1500.63\\\">10<\\/text>\\n<\\/g>\\n<g clip-path=\\\"url(#clip5900)\\\">\\n<text style=\\\"fill:#000000; fill-opacity:1; font-family:Arial,Helvetica Neue,Helvetica,sans-serif; font-size:38px; text-anchor:start;\\\" transform=\\\"rotate(0, 1148.88, 1473.22)\\\" x=\\\"1148.88\\\" y=\\\"1473.22\\\">1.0<\\/text>\\n<\\/g>\\n<g clip-path=\\\"url(#clip5900)\\\">\\n<text style=\\\"fill:#000000; fill-opacity:1; font-family:Arial,Helvetica Neue,Helvetica,sans-serif; font-size:48px; text-anchor:start;\\\" transform=\\\"rotate(0, 1518.88, 1500.63)\\\" x=\\\"1518.88\\\" y=\\\"1500.63\\\">10<\\/text>\\n<\\/g>\\n<g clip-path=\\\"url(#clip5900)\\\">\\n<text style=\\\"fill:#000000; fill-opacity:1; font-family:Arial,Helvetica Neue,Helvetica,sans-serif; font-size:38px; text-anchor:start;\\\" transform=\\\"rotate(0, 1572.41, 1473.22)\\\" x=\\\"1572.41\\\" y=\\\"1473.22\\\">1.5<\\/text>\\n<\\/g>\\n<g clip-path=\\\"url(#clip5900)\\\">\\n<text style=\\\"fill:#000000; fill-opacity:1; font-family:Arial,Helvetica Neue,Helvetica,sans-serif; font-size:48px; text-anchor:start;\\\" transform=\\\"rotate(0, 1942.41, 1500.63)\\\" x=\\\"1942.41\\\" y=\\\"1500.63\\\">10<\\/text>\\n<\\/g>\\n<g clip-path=\\\"url(#clip5900)\\\">\\n<text style=\\\"fill:#000000; fill-opacity:1; font-family:Arial,Helvetica Neue,Helvetica,sans-serif; font-size:38px; text-anchor:start;\\\" transform=\\\"rotate(0, 1995.93, 1473.22)\\\" x=\\\"1995.93\\\" y=\\\"1473.22\\\">2.0<\\/text>\\n<\\/g>\\n<g clip-path=\\\"url(#clip5900)\\\">\\n<text style=\\\"fill:#000000; fill-opacity:1; font-family:Arial,Helvetica Neue,Helvetica,sans-serif; font-size:48px; text-anchor:end;\\\" transform=\\\"rotate(0, 218.516, 1406.21)\\\" x=\\\"218.516\\\" y=\\\"1406.21\\\">0.00<\\/text>\\n<\\/g>\\n<g clip-path=\\\"url(#clip5900)\\\">\\n<text style=\\\"fill:#000000; fill-opacity:1; font-family:Arial,Helvetica Neue,Helvetica,sans-serif; font-size:48px; text-anchor:end;\\\" transform=\\\"rotate(0, 218.516, 1098.68)\\\" x=\\\"218.516\\\" y=\\\"1098.68\\\">0.25<\\/text>\\n<\\/g>\\n<g clip-path=\\\"url(#clip5900)\\\">\\n<text style=\\\"fill:#000000; fill-opacity:1; font-family:Arial,Helvetica Neue,Helvetica,sans-serif; font-size:48px; text-anchor:end;\\\" transform=\\\"rotate(0, 218.516, 791.147)\\\" x=\\\"218.516\\\" y=\\\"791.147\\\">0.50<\\/text>\\n<\\/g>\\n<g clip-path=\\\"url(#clip5900)\\\">\\n<text style=\\\"fill:#000000; fill-opacity:1; font-family:Arial,Helvetica Neue,Helvetica,sans-serif; font-size:48px; text-anchor:end;\\\" transform=\\\"rotate(0, 218.516, 483.613)\\\" x=\\\"218.516\\\" y=\\\"483.613\\\">0.75<\\/text>\\n<\\/g>\\n<g clip-path=\\\"url(#clip5900)\\\">\\n<text style=\\\"fill:#000000; fill-opacity:1; font-family:Arial,Helvetica Neue,Helvetica,sans-serif; font-size:48px; text-anchor:end;\\\" transform=\\\"rotate(0, 218.516, 176.079)\\\" x=\\\"218.516\\\" y=\\\"176.079\\\">1.00<\\/text>\\n<\\/g>\\n<g clip-path=\\\"url(#clip5900)\\\">\\n<text style=\\\"fill:#000000; fill-opacity:1; font-family:Arial,Helvetica Neue,Helvetica,sans-serif; font-size:84px; text-anchor:middle;\\\" transform=\\\"rotate(0, 1297.64, 73.2)\\\" x=\\\"1297.64\\\" y=\\\"73.2\\\">SEIR Model<\\/text>\\n<\\/g>\\n<g clip-path=\\\"url(#clip5900)\\\">\\n<text style=\\\"fill:#000000; fill-opacity:1; font-family:Arial,Helvetica Neue,Helvetica,sans-serif; font-size:66px; text-anchor:middle;\\\" transform=\\\"rotate(0, 1297.64, 1559.48)\\\" x=\\\"1297.64\\\" y=\\\"1559.48\\\">time<\\/text>\\n<\\/g>\\n<g clip-path=\\\"url(#clip5900)\\\">\\n<text style=\\\"fill:#000000; fill-opacity:1; font-family:Arial,Helvetica Neue,Helvetica,sans-serif; font-size:66px; text-anchor:middle;\\\" transform=\\\"rotate(-90, 89.2861, 773.647)\\\" x=\\\"89.2861\\\" y=\\\"773.647\\\">p [%]<\\/text>\\n<\\/g>\\n<polyline clip-path=\\\"url(#clip5902)\\\" style=\\\"stroke:#009af9; stroke-width:4; stroke-opacity:1; fill:none\\\" points=\\\"\\n  302.24,158.579 557.229,470.049 706.389,697.994 812.219,870.791 894.307,999.561 961.378,1096.1 1018.09,1170.41 1067.21,1224.87 1110.54,1266.17 1149.3,1297.28 \\n  1184.36,1320.28 1216.37,1337.25 1245.81,1350.06 1273.07,1359.63 1298.46,1366.82 1322.2,1371.81 1344.5,1375.97 1365.53,1379.13 1385.42,1381.49 1404.29,1383.18 \\n  1422.23,1384.69 1439.35,1385.69 1455.7,1386.35 1471.36,1386.82 1486.37,1387.19 1500.8,1387.55 1514.69,1387.73 1528.06,1387.96 1540.97,1388.09 1553.44,1388.26 \\n  1565.51,1388.38 1577.19,1388.49 1588.51,1388.55 1599.49,1388.58 1610.15,1388.6 1620.52,1388.65 1630.6,1388.67 1640.41,1388.67 1649.96,1388.67 1659.27,1388.68 \\n  1668.36,1388.68 1677.22,1388.69 1685.88,1388.69 1694.34,1388.7 1702.6,1388.71 1710.69,1388.71 1718.6,1388.71 1726.35,1388.71 1733.93,1388.71 1741.36,1388.71 \\n  1748.65,1388.71 1755.79,1388.71 1762.8,1388.71 1769.67,1388.71 1776.43,1388.71 1783.05,1388.71 1789.56,1388.71 1795.96,1388.71 1802.25,1388.71 1808.43,1388.71 \\n  1814.51,1388.71 1820.5,1388.71 1826.38,1388.71 1832.18,1388.71 1837.88,1388.71 1843.5,1388.71 1849.03,1388.71 1854.48,1388.71 1859.85,1388.71 1865.14,1388.71 \\n  1870.36,1388.71 1875.51,1388.71 1880.58,1388.71 1885.58,1388.71 1890.52,1388.71 1895.39,1388.71 1900.2,1388.71 1904.95,1388.71 1909.64,1388.71 1914.26,1388.71 \\n  1918.83,1388.71 1923.35,1388.71 1927.81,1388.71 1932.21,1388.71 1936.57,1388.71 1940.87,1388.71 1945.12,1388.71 1949.33,1388.71 1953.48,1388.71 1957.59,1388.71 \\n  1961.66,1388.71 1965.68,1388.71 1969.66,1388.71 1973.59,1388.71 1977.48,1388.71 1981.34,1388.71 1985.15,1388.71 1988.92,1388.71 1992.66,1388.71 1996.35,1388.71 \\n  2000.01,1388.71 2003.64,1388.71 2007.23,1388.71 2010.78,1388.71 2014.3,1388.71 2017.79,1388.71 2021.24,1388.71 2024.66,1388.71 2028.05,1388.71 2031.41,1388.71 \\n  2034.74,1388.71 2038.04,1388.71 2041.31,1388.71 2044.55,1388.71 2047.77,1388.71 2050.95,1388.71 2054.11,1388.71 2057.24,1388.71 2060.34,1388.71 2063.42,1388.71 \\n  2066.48,1388.71 2069.5,1388.71 2072.51,1388.71 2075.49,1388.71 2078.44,1388.71 2081.37,1388.71 2084.28,1388.71 2087.17,1388.71 2090.03,1388.71 2092.87,1388.71 \\n  2095.69,1388.71 2098.49,1388.71 2101.26,1388.71 2104.02,1388.71 2106.75,1388.71 2109.47,1388.71 2112.16,1388.71 2114.84,1388.71 2117.49,1388.71 2120.13,1388.71 \\n  2122.75,1388.71 2125.35,1388.71 2127.93,1388.71 2130.49,1388.71 2133.04,1388.71 2135.57,1388.71 2138.08,1388.71 2140.57,1388.71 2143.05,1388.71 2145.51,1388.71 \\n  2147.96,1388.71 2150.38,1388.71 2152.8,1388.71 2155.19,1388.71 2157.57,1388.71 2159.94,1388.71 2162.29,1388.71 2164.63,1388.71 2166.95,1388.71 2169.25,1388.71 \\n  2171.55,1388.71 2173.82,1388.71 2176.09,1388.71 2178.34,1388.71 2180.57,1388.71 2182.8,1388.71 2185.01,1388.71 2187.2,1388.71 2189.39,1388.71 2191.56,1388.71 \\n  2193.71,1388.71 2195.86,1388.71 2197.99,1388.71 2200.11,1388.71 2202.22,1388.71 2204.32,1388.71 2206.4,1388.71 2208.47,1388.71 2210.53,1388.71 2212.58,1388.71 \\n  2214.62,1388.71 2216.65,1388.71 2218.66,1388.71 2220.67,1388.71 2222.66,1388.71 2224.65,1388.71 2226.62,1388.71 2228.58,1388.71 2230.53,1388.71 2232.47,1388.71 \\n  2234.4,1388.71 2236.32,1388.71 2238.24,1388.71 2240.14,1388.71 2242.03,1388.71 2243.91,1388.71 2245.78,1388.71 2247.64,1388.71 2249.5,1388.71 2251.34,1388.71 \\n  2253.18,1388.71 2255,1388.71 2256.82,1388.71 2258.63,1388.71 2260.43,1388.71 2262.22,1388.71 2264,1388.71 2265.77,1388.71 2267.53,1388.71 2269.29,1388.71 \\n  2271.04,1388.71 2272.78,1388.71 2274.51,1388.71 2276.23,1388.71 2277.95,1388.71 2279.65,1388.71 2281.35,1388.71 2283.04,1388.71 2284.73,1388.71 2286.4,1388.71 \\n  2288.07,1388.71 2289.73,1388.71 2291.39,1388.71 2293.03,1388.71 \\n  \\\"\\/>\\n<polyline clip-path=\\\"url(#clip5902)\\\" style=\\\"stroke:#e26f46; stroke-width:4; stroke-opacity:1; fill:none\\\" points=\\\"\\n  302.24,1388.71 557.229,1077.24 706.389,880.792 812.219,758.787 894.307,691.695 961.378,664.103 1018.09,663.439 1067.21,680.845 1110.54,711.537 1149.3,748.478 \\n  1184.36,789.602 1216.37,833.641 1245.81,875.957 1273.07,918.212 1298.46,958.77 1322.2,997.359 1344.5,1032.92 1365.53,1065.68 1385.42,1095.34 1404.29,1122.54 \\n  1422.23,1148.03 1439.35,1170.7 1455.7,1192.67 1471.36,1211.43 1486.37,1229.33 1500.8,1244.91 1514.69,1259 1528.06,1271.56 1540.97,1282.98 1553.44,1293.15 \\n  1565.51,1302.95 1577.19,1311.19 1588.51,1318.39 1599.49,1324.91 1610.15,1331.11 1620.52,1336.75 1630.6,1342.13 1640.41,1346.84 1649.96,1350.74 1659.27,1354.71 \\n  1668.36,1358.12 1677.22,1361.29 1685.88,1363.95 1694.34,1366.49 1702.6,1368.91 1710.69,1370.78 1718.6,1372.72 1726.35,1374.22 1733.93,1375.87 1741.36,1376.88 \\n  1748.65,1378.01 1755.79,1379.03 1762.8,1379.97 1769.67,1380.67 1776.43,1381.42 1783.05,1382.13 1789.56,1382.81 1795.96,1383.39 1802.25,1383.89 1808.43,1384.38 \\n  1814.51,1384.73 1820.5,1385.01 1826.38,1385.48 1832.18,1385.73 1837.88,1386.12 1843.5,1386.28 1849.03,1386.49 1854.48,1386.7 1859.85,1386.82 1865.14,1386.98 \\n  1870.36,1387.09 1875.51,1387.31 1880.58,1387.47 1885.58,1387.62 1890.52,1387.71 1895.39,1387.83 1900.2,1387.95 1904.95,1388.03 1909.64,1388.1 1914.26,1388.16 \\n  1918.83,1388.17 1923.35,1388.21 1927.81,1388.23 1932.21,1388.28 1936.57,1388.31 1940.87,1388.35 1945.12,1388.39 1949.33,1388.41 1953.48,1388.44 1957.59,1388.46 \\n  1961.66,1388.47 1965.68,1388.49 1969.66,1388.55 1973.59,1388.55 1977.48,1388.55 1981.34,1388.55 1985.15,1388.57 1988.92,1388.58 1992.66,1388.59 1996.35,1388.59 \\n  2000.01,1388.59 2003.64,1388.62 2007.23,1388.62 2010.78,1388.63 2014.3,1388.63 2017.79,1388.63 2021.24,1388.64 2024.66,1388.65 2028.05,1388.67 2031.41,1388.67 \\n  2034.74,1388.67 2038.04,1388.67 2041.31,1388.67 2044.55,1388.67 2047.77,1388.67 2050.95,1388.67 2054.11,1388.67 2057.24,1388.67 2060.34,1388.67 2063.42,1388.68 \\n  2066.48,1388.68 2069.5,1388.69 2072.51,1388.69 2075.49,1388.69 2078.44,1388.69 2081.37,1388.69 2084.28,1388.69 2087.17,1388.71 2090.03,1388.71 2092.87,1388.71 \\n  2095.69,1388.71 2098.49,1388.71 2101.26,1388.71 2104.02,1388.71 2106.75,1388.71 2109.47,1388.71 2112.16,1388.71 2114.84,1388.71 2117.49,1388.71 2120.13,1388.71 \\n  2122.75,1388.71 2125.35,1388.71 2127.93,1388.71 2130.49,1388.71 2133.04,1388.71 2135.57,1388.71 2138.08,1388.71 2140.57,1388.71 2143.05,1388.71 2145.51,1388.71 \\n  2147.96,1388.71 2150.38,1388.71 2152.8,1388.71 2155.19,1388.71 2157.57,1388.71 2159.94,1388.71 2162.29,1388.71 2164.63,1388.71 2166.95,1388.71 2169.25,1388.71 \\n  2171.55,1388.71 2173.82,1388.71 2176.09,1388.71 2178.34,1388.71 2180.57,1388.71 2182.8,1388.71 2185.01,1388.71 2187.2,1388.71 2189.39,1388.71 2191.56,1388.71 \\n  2193.71,1388.71 2195.86,1388.71 2197.99,1388.71 2200.11,1388.71 2202.22,1388.71 2204.32,1388.71 2206.4,1388.71 2208.47,1388.71 2210.53,1388.71 2212.58,1388.71 \\n  2214.62,1388.71 2216.65,1388.71 2218.66,1388.71 2220.67,1388.71 2222.66,1388.71 2224.65,1388.71 2226.62,1388.71 2228.58,1388.71 2230.53,1388.71 2232.47,1388.71 \\n  2234.4,1388.71 2236.32,1388.71 2238.24,1388.71 2240.14,1388.71 2242.03,1388.71 2243.91,1388.71 2245.78,1388.71 2247.64,1388.71 2249.5,1388.71 2251.34,1388.71 \\n  2253.18,1388.71 2255,1388.71 2256.82,1388.71 2258.63,1388.71 2260.43,1388.71 2262.22,1388.71 2264,1388.71 2265.77,1388.71 2267.53,1388.71 2269.29,1388.71 \\n  2271.04,1388.71 2272.78,1388.71 2274.51,1388.71 2276.23,1388.71 2277.95,1388.71 2279.65,1388.71 2281.35,1388.71 2283.04,1388.71 2284.73,1388.71 2286.4,1388.71 \\n  2288.07,1388.71 2289.73,1388.71 2291.39,1388.71 2293.03,1388.71 \\n  \\\"\\/>\\n<polyline clip-path=\\\"url(#clip5902)\\\" style=\\\"stroke:#3da44d; stroke-width:4; stroke-opacity:1; fill:none\\\" points=\\\"\\n  302.24,1388.71 557.229,1388.71 706.389,1357.22 812.219,1307.92 894.307,1250.26 961.378,1188.28 1018.09,1124.6 1067.21,1065.56 1110.54,1009.67 1149.3,960.135 \\n  1184.36,916.773 1216.37,878.983 1245.81,849.595 1273.07,825.595 1298.46,806.762 1322.2,792.8 1344.5,783.672 1365.53,777.854 1385.42,775.59 1404.29,777.928 \\n  1422.23,781.741 1439.35,788.015 1455.7,795.137 1471.36,806.43 1486.37,817.403 1500.8,830.024 1514.69,843.568 1528.06,858.797 1540.97,873.386 1553.44,888.492 \\n  1565.51,902.848 1577.19,919.393 1588.51,935.459 1599.49,951.291 1610.15,966.298 1620.52,981.208 1630.6,996.141 1640.41,1010.35 1649.96,1025.27 1659.27,1039.09 \\n  1668.36,1053.37 1677.22,1067.14 1685.88,1080.39 1694.34,1093.79 1702.6,1106.18 1710.69,1118.5 1718.6,1130.31 1726.35,1141.72 1733.93,1151.85 1741.36,1162.36 \\n  1748.65,1172.54 1755.79,1182.48 1762.8,1192.18 1769.67,1201.62 1776.43,1210.22 1783.05,1218.37 1789.56,1225.94 1795.96,1233.37 1802.25,1241.2 1808.43,1247.86 \\n  1814.51,1254.77 1820.5,1261.25 1826.38,1266.78 1832.18,1272.87 1837.88,1278.27 1843.5,1283.78 1849.03,1288.72 1854.48,1293.55 1859.85,1298.79 1865.14,1302.96 \\n  1870.36,1307.46 1875.51,1311.17 1880.58,1314.59 1885.58,1318.03 1890.52,1321.62 1895.39,1325.03 1900.2,1327.77 1904.95,1330.62 1909.64,1333.52 1914.26,1336.06 \\n  1918.83,1338.3 1923.35,1340.95 1927.81,1343.06 1932.21,1345.11 1936.57,1347 1940.87,1349.1 1945.12,1351.37 1949.33,1353.18 1953.48,1355.03 1957.59,1356.46 \\n  1961.66,1358.19 1965.68,1359.83 1969.66,1361.37 1973.59,1362.78 1977.48,1363.89 1981.34,1365.22 1985.15,1366.28 1988.92,1367.35 1992.66,1368.33 1996.35,1369.24 \\n  2000.01,1370.2 2003.64,1370.98 2007.23,1371.89 2010.78,1372.8 2014.3,1373.55 2017.79,1374.31 2021.24,1375.01 2024.66,1375.55 2028.05,1376.03 2031.41,1376.73 \\n  2034.74,1377.45 2038.04,1378.15 2041.31,1378.78 2044.55,1379.29 2047.77,1379.72 2050.95,1380.25 2054.11,1380.74 2057.24,1381.1 2060.34,1381.54 2063.42,1381.86 \\n  2066.48,1382.22 2069.5,1382.58 2072.51,1382.91 2075.49,1383.22 2078.44,1383.52 2081.37,1383.7 2084.28,1383.93 2087.17,1384.06 2090.03,1384.27 2092.87,1384.63 \\n  2095.69,1384.82 2098.49,1384.96 2101.26,1385.27 2104.02,1385.37 2106.75,1385.54 2109.47,1385.68 2112.16,1385.92 2114.84,1386.09 2117.49,1386.22 2120.13,1386.32 \\n  2122.75,1386.54 2125.35,1386.62 2127.93,1386.67 2130.49,1386.76 2133.04,1386.86 2135.57,1386.92 2138.08,1387.02 2140.57,1387.05 2143.05,1387.13 2145.51,1387.21 \\n  2147.96,1387.3 2150.38,1387.35 2152.8,1387.37 2155.19,1387.47 2157.57,1387.5 2159.94,1387.55 2162.29,1387.61 2164.63,1387.63 2166.95,1387.76 2169.25,1387.79 \\n  2171.55,1387.8 2173.82,1387.88 2176.09,1387.91 2178.34,1387.95 2180.57,1387.99 2182.8,1388.01 2185.01,1388.04 2187.2,1388.06 2189.39,1388.1 2191.56,1388.1 \\n  2193.71,1388.12 2195.86,1388.19 2197.99,1388.22 2200.11,1388.23 2202.22,1388.28 2204.32,1388.32 2206.4,1388.33 2208.47,1388.37 2210.53,1388.38 2212.58,1388.41 \\n  2214.62,1388.41 2216.65,1388.41 2218.66,1388.42 2220.67,1388.43 2222.66,1388.44 2224.65,1388.48 2226.62,1388.52 2228.58,1388.52 2230.53,1388.52 2232.47,1388.53 \\n  2234.4,1388.54 2236.32,1388.54 2238.24,1388.55 2240.14,1388.55 2242.03,1388.55 2243.91,1388.55 2245.78,1388.55 2247.64,1388.58 2249.5,1388.59 2251.34,1388.59 \\n  2253.18,1388.59 2255,1388.63 2256.82,1388.64 2258.63,1388.64 2260.43,1388.64 2262.22,1388.65 2264,1388.67 2265.77,1388.67 2267.53,1388.67 2269.29,1388.67 \\n  2271.04,1388.67 2272.78,1388.68 2274.51,1388.69 2276.23,1388.69 2277.95,1388.69 2279.65,1388.69 2281.35,1388.69 2283.04,1388.69 2284.73,1388.69 2286.4,1388.69 \\n  2288.07,1388.69 2289.73,1388.69 2291.39,1388.69 2293.03,1388.71 \\n  \\\"\\/>\\n<polyline clip-path=\\\"url(#clip5902)\\\" style=\\\"stroke:#c271d2; stroke-width:4; stroke-opacity:1; fill:none\\\" points=\\\"\\n  302.24,1388.71 557.229,1388.71 706.389,1388.71 812.219,1387.23 894.307,1383.2 961.378,1376.24 1018.09,1366.26 1067.21,1353.45 1110.54,1337.34 1149.3,1318.83 \\n  1184.36,1298.07 1216.37,1274.85 1245.81,1249.11 1273.07,1221.28 1298.46,1192.37 1322.2,1162.75 1344.5,1132.16 1365.53,1102.06 1385.42,1072.3 1404.29,1041.08 \\n  1422.23,1010.26 1439.35,980.322 1455.7,950.565 1471.36,920.045 1486.37,890.805 1500.8,862.241 1514.69,834.428 1528.06,806.405 1540.97,780.265 1553.44,754.826 \\n  1565.51,730.543 1577.19,705.645 1588.51,682.322 1599.49,659.945 1610.15,638.713 1620.52,618.109 1630.6,597.787 1640.41,578.867 1649.96,560.046 1659.27,542.246 \\n  1668.36,524.557 1677.22,507.593 1685.88,491.688 1694.34,475.745 1702.6,460.922 1710.69,446.726 1718.6,432.973 1726.35,420.069 1733.93,408.284 1741.36,396.77 \\n  1748.65,385.453 1755.79,374.493 1762.8,363.864 1769.67,353.716 1776.43,344.367 1783.05,335.51 1789.56,327.255 1795.96,319.247 1802.25,310.919 1808.43,303.76 \\n  1814.51,296.514 1820.5,289.749 1826.38,283.745 1832.18,277.41 1837.88,271.616 1843.5,265.945 1849.03,260.803 1854.48,255.76 1859.85,250.396 1865.14,246.066 \\n  1870.36,241.453 1875.51,237.529 1880.58,233.95 1885.58,230.358 1890.52,226.679 1895.39,223.149 1900.2,220.283 1904.95,217.367 1909.64,214.39 1914.26,211.783 \\n  1918.83,209.531 1923.35,206.85 1927.81,204.709 1932.21,202.618 1936.57,200.699 1940.87,198.559 1945.12,196.246 1949.33,194.425 1953.48,192.531 1957.59,191.092 \\n  1961.66,189.345 1965.68,187.684 1969.66,186.085 1973.59,184.67 1977.48,183.563 1981.34,182.235 1985.15,181.164 1988.92,180.082 1992.66,179.086 1996.35,178.175 \\n  2000.01,177.216 2003.64,176.416 2007.23,175.506 2010.78,174.583 2014.3,173.833 2017.79,173.07 2021.24,172.357 2024.66,171.803 2028.05,171.311 2031.41,170.61 \\n  2034.74,169.896 2038.04,169.195 2041.31,168.568 2044.55,168.051 2047.77,167.621 2050.95,167.092 2054.11,166.6 2057.24,166.243 2060.34,165.8 2063.42,165.468 \\n  2066.48,165.111 2069.5,164.742 2072.51,164.41 2075.49,164.103 2078.44,163.795 2081.37,163.623 2084.28,163.389 2087.17,163.229 2090.03,163.02 2092.87,162.663 \\n  2095.69,162.479 2098.49,162.331 2101.26,162.024 2104.02,161.925 2106.75,161.753 2109.47,161.618 2112.16,161.372 2114.84,161.199 2117.49,161.076 2120.13,160.978 \\n  2122.75,160.757 2125.35,160.67 2127.93,160.621 2130.49,160.535 2133.04,160.437 2135.57,160.375 2138.08,160.277 2140.57,160.24 2143.05,160.166 2145.51,160.08 \\n  2147.96,159.994 2150.38,159.945 2152.8,159.92 2155.19,159.822 2157.57,159.797 2159.94,159.748 2162.29,159.686 2164.63,159.662 2166.95,159.539 2169.25,159.502 \\n  2171.55,159.489 2173.82,159.416 2176.09,159.379 2178.34,159.342 2180.57,159.305 2182.8,159.28 2185.01,159.256 2187.2,159.231 2189.39,159.194 2191.56,159.194 \\n  2193.71,159.17 2195.86,159.108 2197.99,159.071 2200.11,159.059 2202.22,159.01 2204.32,158.973 2206.4,158.961 2208.47,158.924 2210.53,158.911 2212.58,158.887 \\n  2214.62,158.887 2216.65,158.887 2218.66,158.874 2220.67,158.862 2222.66,158.85 2224.65,158.813 2226.62,158.776 2228.58,158.776 2230.53,158.776 2232.47,158.764 \\n  2234.4,158.751 2236.32,158.751 2238.24,158.739 2240.14,158.739 2242.03,158.739 2243.91,158.739 2245.78,158.739 2247.64,158.715 2249.5,158.702 2251.34,158.702 \\n  2253.18,158.702 2255,158.665 2256.82,158.653 2258.63,158.653 2260.43,158.653 2262.22,158.641 2264,158.628 2265.77,158.628 2267.53,158.628 2269.29,158.628 \\n  2271.04,158.628 2272.78,158.616 2274.51,158.604 2276.23,158.604 2277.95,158.604 2279.65,158.604 2281.35,158.604 2283.04,158.604 2284.73,158.604 2286.4,158.604 \\n  2288.07,158.604 2289.73,158.604 2291.39,158.604 2293.03,158.579 \\n  \\\"\\/>\\n<path clip-path=\\\"url(#clip5900)\\\" d=\\\"\\nM2006 507.595 L2280.76 507.595 L2280.76 205.195 L2006 205.195  Z\\n  \\\" fill=\\\"#ffffff\\\" fill-rule=\\\"evenodd\\\" fill-opacity=\\\"1\\\"\\/>\\n<polyline clip-path=\\\"url(#clip5900)\\\" style=\\\"stroke:#000000; stroke-width:4; stroke-opacity:1; fill:none\\\" points=\\\"\\n  2006,507.595 2280.76,507.595 2280.76,205.195 2006,205.195 2006,507.595 \\n  \\\"\\/>\\n<polyline clip-path=\\\"url(#clip5900)\\\" style=\\\"stroke:#009af9; stroke-width:4; stroke-opacity:1; fill:none\\\" points=\\\"\\n  2030,265.675 2174,265.675 \\n  \\\"\\/>\\n<g clip-path=\\\"url(#clip5900)\\\">\\n<text style=\\\"fill:#000000; fill-opacity:1; font-family:Arial,Helvetica Neue,Helvetica,sans-serif; font-size:48px; text-anchor:start;\\\" transform=\\\"rotate(0, 2198, 283.175)\\\" x=\\\"2198\\\" y=\\\"283.175\\\">S<\\/text>\\n<\\/g>\\n<polyline clip-path=\\\"url(#clip5900)\\\" style=\\\"stroke:#e26f46; stroke-width:4; stroke-opacity:1; fill:none\\\" points=\\\"\\n  2030,326.155 2174,326.155 \\n  \\\"\\/>\\n<g clip-path=\\\"url(#clip5900)\\\">\\n<text style=\\\"fill:#000000; fill-opacity:1; font-family:Arial,Helvetica Neue,Helvetica,sans-serif; font-size:48px; text-anchor:start;\\\" transform=\\\"rotate(0, 2198, 343.655)\\\" x=\\\"2198\\\" y=\\\"343.655\\\">E<\\/text>\\n<\\/g>\\n<polyline clip-path=\\\"url(#clip5900)\\\" style=\\\"stroke:#3da44d; stroke-width:4; stroke-opacity:1; fill:none\\\" points=\\\"\\n  2030,386.635 2174,386.635 \\n  \\\"\\/>\\n<g clip-path=\\\"url(#clip5900)\\\">\\n<text style=\\\"fill:#000000; fill-opacity:1; font-family:Arial,Helvetica Neue,Helvetica,sans-serif; font-size:48px; text-anchor:start;\\\" transform=\\\"rotate(0, 2198, 404.135)\\\" x=\\\"2198\\\" y=\\\"404.135\\\">I<\\/text>\\n<\\/g>\\n<polyline clip-path=\\\"url(#clip5900)\\\" style=\\\"stroke:#c271d2; stroke-width:4; stroke-opacity:1; fill:none\\\" points=\\\"\\n  2030,447.115 2174,447.115 \\n  \\\"\\/>\\n<g clip-path=\\\"url(#clip5900)\\\">\\n<text style=\\\"fill:#000000; fill-opacity:1; font-family:Arial,Helvetica Neue,Helvetica,sans-serif; font-size:48px; text-anchor:start;\\\" transform=\\\"rotate(0, 2198, 464.615)\\\" x=\\\"2198\\\" y=\\\"464.615\\\">R<\\/text>\\n<\\/g>\\n<\\/svg>\\n\"},\"nodeType\":\"DOM\",\"type\":\"node\",\"instanceArgs\":{\"namespace\":\"html\",\"tag\":\"div\"},\"children\":[]}]}}}},\"children\":[{\"props\":{},\"nodeType\":\"ObservableNode\",\"type\":\"node\",\"instanceArgs\":{\"id\":\"15546571826595198338\",\"name\":\"obs-node\"},\"children\":[]}]}]},\n",
       "            window,\n",
       "        );\n",
       "    } else {\n",
       "        document\n",
       "            .querySelector('[data-webio-mountpoint=\"15432335846506364048\"]')\n",
       "            .innerHTML = (\n",
       "                '<strong>WebIO not detected. Please read ' +\n",
       "                '<a href=\"https://juliagizmos.github.io/WebIO.jl/latest/troubleshooting/not-detected/\">the troubleshooting guide</a> ' +\n",
       "                'for more information on how to resolve this issue.' +\n",
       "                '</strong>'\n",
       "            );\n",
       "    }\n",
       "    </script>\n",
       "</div>\n"
      ],
      "text/plain": [
       "Node{WebIO.DOM}(WebIO.DOM(:html, :div), Any[Node{WebIO.DOM}(WebIO.DOM(:html, :div), Any[Scope(Node{WebIO.DOM}(WebIO.DOM(:html, :div), Any[Node{WebIO.DOM}(WebIO.DOM(:html, :div), Any[Node{WebIO.DOM}(WebIO.DOM(:html, :label), Any[\"p_E\"], Dict{Symbol,Any}(:className => \"interact \",:style => Dict{Any,Any}(:padding => \"5px 10px 0px 10px\")))], Dict{Symbol,Any}(:className => \"interact-flex-row-left\")), Node{WebIO.DOM}(WebIO.DOM(:html, :div), Any[Node{WebIO.DOM}(WebIO.DOM(:html, :input), Any[], Dict{Symbol,Any}(:max => 8,:min => 1,:attributes => Dict{Any,Any}(:type => \"range\",Symbol(\"data-bind\") => \"numericValue: index, valueUpdate: 'input', event: {change: function (){this.changes(this.changes()+1)}}\",\"orient\" => \"horizontal\"),:step => 1,:className => \"slider slider is-fullwidth\",:style => Dict{Any,Any}()))], Dict{Symbol,Any}(:className => \"interact-flex-row-center\")), Node{WebIO.DOM}(WebIO.DOM(:html, :div), Any[Node{WebIO.DOM}(WebIO.DOM(:html, :p), Any[], Dict{Symbol,Any}(:attributes => Dict(\"data-bind\" => \"text: formatted_val\")))], Dict{Symbol,Any}(:className => \"interact-flex-row-right\"))], Dict{Symbol,Any}(:className => \"interact-flex-row interact-widget\")), Dict{String,Tuple{Observables.AbstractObservable,Union{Nothing, Bool}}}(\"changes\" => (Observable{Int64} with 1 listeners. Value:\n",
       "0, nothing),\"index\" => (Observable{Any} with 2 listeners. Value:\n",
       "2, nothing)), Set(String[]), nothing, Asset[Asset(\"js\", \"knockout\", \"/Users/dan/.julia/packages/Knockout/IP1uR/src/../assets/knockout.js\"), Asset(\"js\", \"knockout_punches\", \"/Users/dan/.julia/packages/Knockout/IP1uR/src/../assets/knockout_punches.js\"), Asset(\"js\", nothing, \"/Users/dan/.julia/packages/InteractBase/NMcus/src/../assets/all.js\"), Asset(\"css\", nothing, \"/Users/dan/.julia/packages/InteractBase/NMcus/src/../assets/style.css\"), Asset(\"css\", nothing, \"/Users/dan/.julia/packages/Interact/SbgIk/src/../assets/bulma_confined.min.css\")], Dict{Any,Any}(\"changes\" => Any[WebIO.JSString(\"(function (val){return (val!=this.model[\\\"changes\\\"]()) ? (this.valueFromJulia[\\\"changes\\\"]=true, this.model[\\\"changes\\\"](val)) : undefined})\")],\"index\" => Any[WebIO.JSString(\"(function (val){return (val!=this.model[\\\"index\\\"]()) ? (this.valueFromJulia[\\\"index\\\"]=true, this.model[\\\"index\\\"](val)) : undefined})\")]), WebIO.ConnectionPool(Channel{Any}(sz_max:32,sz_curr:0), Set(AbstractConnection[]), Base.GenericCondition{Base.AlwaysLockedST}(Base.InvasiveLinkedList{Task}(Task (runnable) @0x000000010b1b0910, Task (runnable) @0x000000010b1b0910), Base.AlwaysLockedST(1))), WebIO.JSString[WebIO.JSString(\"function () {\\n    var handler = (function (ko, koPunches) {\\n    ko.punches.enableAll();\\n    ko.bindingHandlers.numericValue = {\\n        init: function(element, valueAccessor, allBindings, data, context) {\\n            var stringified = ko.observable(ko.unwrap(valueAccessor()));\\n            stringified.subscribe(function(value) {\\n                var val = parseFloat(value);\\n                if (!isNaN(val)) {\\n                    valueAccessor()(val);\\n                }\\n            });\\n            valueAccessor().subscribe(function(value) {\\n                var str = JSON.stringify(value);\\n                if ((str == \\\"0\\\") && ([\\\"-0\\\", \\\"-0.\\\"].indexOf(stringified()) >= 0))\\n                     return;\\n                 if ([\\\"null\\\", \\\"\\\"].indexOf(str) >= 0)\\n                     return;\\n                stringified(str);\\n            });\\n            ko.applyBindingsToNode(\\n                element,\\n                {\\n                    value: stringified,\\n                    valueUpdate: allBindings.get('valueUpdate'),\\n                },\\n                context,\\n            );\\n        }\\n    };\\n    var json_data = {\\\"formatted_vals\\\":[\\\"0.125\\\",\\\"0.25\\\",\\\"0.375\\\",\\\"0.5\\\",\\\"0.625\\\",\\\"0.75\\\",\\\"0.875\\\",\\\"1.0\\\"],\\\"changes\\\":WebIO.getval({\\\"name\\\":\\\"changes\\\",\\\"scope\\\":\\\"5355960535203778125\\\",\\\"id\\\":\\\"4012650010565985308\\\",\\\"type\\\":\\\"observable\\\"}),\\\"index\\\":WebIO.getval({\\\"name\\\":\\\"index\\\",\\\"scope\\\":\\\"5355960535203778125\\\",\\\"id\\\":\\\"4452226566905393401\\\",\\\"type\\\":\\\"observable\\\"})};\\n    var self = this;\\n    function AppViewModel() {\\n        for (var key in json_data) {\\n            var el = json_data[key];\\n            this[key] = Array.isArray(el) ? ko.observableArray(el) : ko.observable(el);\\n        }\\n        \\n        [this[\\\"formatted_val\\\"]=ko.computed(    function(){\\n        return this.formatted_vals()[parseInt(this.index())-(1)];\\n    }\\n,this)]\\n        [this[\\\"changes\\\"].subscribe((function (val){!(this.valueFromJulia[\\\"changes\\\"]) ? (WebIO.setval({\\\"name\\\":\\\"changes\\\",\\\"scope\\\":\\\"5355960535203778125\\\",\\\"id\\\":\\\"4012650010565985308\\\",\\\"type\\\":\\\"observable\\\"},val)) : undefined; return this.valueFromJulia[\\\"changes\\\"]=false}),self),this[\\\"index\\\"].subscribe((function (val){!(this.valueFromJulia[\\\"index\\\"]) ? (WebIO.setval({\\\"name\\\":\\\"index\\\",\\\"scope\\\":\\\"5355960535203778125\\\",\\\"id\\\":\\\"4452226566905393401\\\",\\\"type\\\":\\\"observable\\\"},val)) : undefined; return this.valueFromJulia[\\\"index\\\"]=false}),self)]\\n        \\n    }\\n    self.model = new AppViewModel();\\n    self.valueFromJulia = {};\\n    for (var key in json_data) {\\n        self.valueFromJulia[key] = false;\\n    }\\n    ko.applyBindings(self.model, self.dom);\\n}\\n);\\n    (WebIO.importBlock({\\\"data\\\":[{\\\"name\\\":\\\"knockout\\\",\\\"type\\\":\\\"js\\\",\\\"url\\\":\\\"/assetserver/847903f5df732148b510ba93542242ba69c4346c-knockout.js\\\"},{\\\"name\\\":\\\"knockout_punches\\\",\\\"type\\\":\\\"js\\\",\\\"url\\\":\\\"/assetserver/c0b325de111f2589153d52b7b74e82babec63146-knockout_punches.js\\\"}],\\\"type\\\":\\\"async_block\\\"})).then((imports) => handler.apply(this, imports));\\n}\\n\")])], Dict{Symbol,Any}(:className => \"field interact-widget\")), Node{WebIO.DOM}(WebIO.DOM(:html, :div), Any[Scope(Node{WebIO.DOM}(WebIO.DOM(:html, :div), Any[Node{WebIO.DOM}(WebIO.DOM(:html, :div), Any[Node{WebIO.DOM}(WebIO.DOM(:html, :label), Any[\"p_I\"], Dict{Symbol,Any}(:className => \"interact \",:style => Dict{Any,Any}(:padding => \"5px 10px 0px 10px\")))], Dict{Symbol,Any}(:className => \"interact-flex-row-left\")), Node{WebIO.DOM}(WebIO.DOM(:html, :div), Any[Node{WebIO.DOM}(WebIO.DOM(:html, :input), Any[], Dict{Symbol,Any}(:max => 8,:min => 1,:attributes => Dict{Any,Any}(:type => \"range\",Symbol(\"data-bind\") => \"numericValue: index, valueUpdate: 'input', event: {change: function (){this.changes(this.changes()+1)}}\",\"orient\" => \"horizontal\"),:step => 1,:className => \"slider slider is-fullwidth\",:style => Dict{Any,Any}()))], Dict{Symbol,Any}(:className => \"interact-flex-row-center\")), Node{WebIO.DOM}(WebIO.DOM(:html, :div), Any[Node{WebIO.DOM}(WebIO.DOM(:html, :p), Any[], Dict{Symbol,Any}(:attributes => Dict(\"data-bind\" => \"text: formatted_val\")))], Dict{Symbol,Any}(:className => \"interact-flex-row-right\"))], Dict{Symbol,Any}(:className => \"interact-flex-row interact-widget\")), Dict{String,Tuple{Observables.AbstractObservable,Union{Nothing, Bool}}}(\"changes\" => (Observable{Int64} with 1 listeners. Value:\n",
       "0, nothing),\"index\" => (Observable{Any} with 2 listeners. Value:\n",
       "1, nothing)), Set(String[]), nothing, Asset[Asset(\"js\", \"knockout\", \"/Users/dan/.julia/packages/Knockout/IP1uR/src/../assets/knockout.js\"), Asset(\"js\", \"knockout_punches\", \"/Users/dan/.julia/packages/Knockout/IP1uR/src/../assets/knockout_punches.js\"), Asset(\"js\", nothing, \"/Users/dan/.julia/packages/InteractBase/NMcus/src/../assets/all.js\"), Asset(\"css\", nothing, \"/Users/dan/.julia/packages/InteractBase/NMcus/src/../assets/style.css\"), Asset(\"css\", nothing, \"/Users/dan/.julia/packages/Interact/SbgIk/src/../assets/bulma_confined.min.css\")], Dict{Any,Any}(\"changes\" => Any[WebIO.JSString(\"(function (val){return (val!=this.model[\\\"changes\\\"]()) ? (this.valueFromJulia[\\\"changes\\\"]=true, this.model[\\\"changes\\\"](val)) : undefined})\")],\"index\" => Any[WebIO.JSString(\"(function (val){return (val!=this.model[\\\"index\\\"]()) ? (this.valueFromJulia[\\\"index\\\"]=true, this.model[\\\"index\\\"](val)) : undefined})\")]), WebIO.ConnectionPool(Channel{Any}(sz_max:32,sz_curr:0), Set(AbstractConnection[]), Base.GenericCondition{Base.AlwaysLockedST}(Base.InvasiveLinkedList{Task}(Task (runnable) @0x000000010b1b0d90, Task (runnable) @0x000000010b1b0d90), Base.AlwaysLockedST(1))), WebIO.JSString[WebIO.JSString(\"function () {\\n    var handler = (function (ko, koPunches) {\\n    ko.punches.enableAll();\\n    ko.bindingHandlers.numericValue = {\\n        init: function(element, valueAccessor, allBindings, data, context) {\\n            var stringified = ko.observable(ko.unwrap(valueAccessor()));\\n            stringified.subscribe(function(value) {\\n                var val = parseFloat(value);\\n                if (!isNaN(val)) {\\n                    valueAccessor()(val);\\n                }\\n            });\\n            valueAccessor().subscribe(function(value) {\\n                var str = JSON.stringify(value);\\n                if ((str == \\\"0\\\") && ([\\\"-0\\\", \\\"-0.\\\"].indexOf(stringified()) >= 0))\\n                     return;\\n                 if ([\\\"null\\\", \\\"\\\"].indexOf(str) >= 0)\\n                     return;\\n                stringified(str);\\n            });\\n            ko.applyBindingsToNode(\\n                element,\\n                {\\n                    value: stringified,\\n                    valueUpdate: allBindings.get('valueUpdate'),\\n                },\\n                context,\\n            );\\n        }\\n    };\\n    var json_data = {\\\"formatted_vals\\\":[\\\"0.125\\\",\\\"0.25\\\",\\\"0.375\\\",\\\"0.5\\\",\\\"0.625\\\",\\\"0.75\\\",\\\"0.875\\\",\\\"1.0\\\"],\\\"changes\\\":WebIO.getval({\\\"name\\\":\\\"changes\\\",\\\"scope\\\":\\\"16672833928137370991\\\",\\\"id\\\":\\\"4538337583885868416\\\",\\\"type\\\":\\\"observable\\\"}),\\\"index\\\":WebIO.getval({\\\"name\\\":\\\"index\\\",\\\"scope\\\":\\\"16672833928137370991\\\",\\\"id\\\":\\\"9464963239911638340\\\",\\\"type\\\":\\\"observable\\\"})};\\n    var self = this;\\n    function AppViewModel() {\\n        for (var key in json_data) {\\n            var el = json_data[key];\\n            this[key] = Array.isArray(el) ? ko.observableArray(el) : ko.observable(el);\\n        }\\n        \\n        [this[\\\"formatted_val\\\"]=ko.computed(    function(){\\n        return this.formatted_vals()[parseInt(this.index())-(1)];\\n    }\\n,this)]\\n        [this[\\\"changes\\\"].subscribe((function (val){!(this.valueFromJulia[\\\"changes\\\"]) ? (WebIO.setval({\\\"name\\\":\\\"changes\\\",\\\"scope\\\":\\\"16672833928137370991\\\",\\\"id\\\":\\\"4538337583885868416\\\",\\\"type\\\":\\\"observable\\\"},val)) : undefined; return this.valueFromJulia[\\\"changes\\\"]=false}),self),this[\\\"index\\\"].subscribe((function (val){!(this.valueFromJulia[\\\"index\\\"]) ? (WebIO.setval({\\\"name\\\":\\\"index\\\",\\\"scope\\\":\\\"16672833928137370991\\\",\\\"id\\\":\\\"9464963239911638340\\\",\\\"type\\\":\\\"observable\\\"},val)) : undefined; return this.valueFromJulia[\\\"index\\\"]=false}),self)]\\n        \\n    }\\n    self.model = new AppViewModel();\\n    self.valueFromJulia = {};\\n    for (var key in json_data) {\\n        self.valueFromJulia[key] = false;\\n    }\\n    ko.applyBindings(self.model, self.dom);\\n}\\n);\\n    (WebIO.importBlock({\\\"data\\\":[{\\\"name\\\":\\\"knockout\\\",\\\"type\\\":\\\"js\\\",\\\"url\\\":\\\"/assetserver/847903f5df732148b510ba93542242ba69c4346c-knockout.js\\\"},{\\\"name\\\":\\\"knockout_punches\\\",\\\"type\\\":\\\"js\\\",\\\"url\\\":\\\"/assetserver/c0b325de111f2589153d52b7b74e82babec63146-knockout_punches.js\\\"}],\\\"type\\\":\\\"async_block\\\"})).then((imports) => handler.apply(this, imports));\\n}\\n\")])], Dict{Symbol,Any}(:className => \"field interact-widget\")), Node{WebIO.DOM}(WebIO.DOM(:html, :div), Any[Scope(Node{WebIO.DOM}(WebIO.DOM(:html, :div), Any[Node{WebIO.DOM}(WebIO.DOM(:html, :div), Any[Node{WebIO.DOM}(WebIO.DOM(:html, :label), Any[\"p_R\"], Dict{Symbol,Any}(:className => \"interact \",:style => Dict{Any,Any}(:padding => \"5px 10px 0px 10px\")))], Dict{Symbol,Any}(:className => \"interact-flex-row-left\")), Node{WebIO.DOM}(WebIO.DOM(:html, :div), Any[Node{WebIO.DOM}(WebIO.DOM(:html, :input), Any[], Dict{Symbol,Any}(:max => 8,:min => 1,:attributes => Dict{Any,Any}(:type => \"range\",Symbol(\"data-bind\") => \"numericValue: index, valueUpdate: 'input', event: {change: function (){this.changes(this.changes()+1)}}\",\"orient\" => \"horizontal\"),:step => 1,:className => \"slider slider is-fullwidth\",:style => Dict{Any,Any}()))], Dict{Symbol,Any}(:className => \"interact-flex-row-center\")), Node{WebIO.DOM}(WebIO.DOM(:html, :div), Any[Node{WebIO.DOM}(WebIO.DOM(:html, :p), Any[], Dict{Symbol,Any}(:attributes => Dict(\"data-bind\" => \"text: formatted_val\")))], Dict{Symbol,Any}(:className => \"interact-flex-row-right\"))], Dict{Symbol,Any}(:className => \"interact-flex-row interact-widget\")), Dict{String,Tuple{Observables.AbstractObservable,Union{Nothing, Bool}}}(\"changes\" => (Observable{Int64} with 1 listeners. Value:\n",
       "0, nothing),\"index\" => (Observable{Any} with 2 listeners. Value:\n",
       "1, nothing)), Set(String[]), nothing, Asset[Asset(\"js\", \"knockout\", \"/Users/dan/.julia/packages/Knockout/IP1uR/src/../assets/knockout.js\"), Asset(\"js\", \"knockout_punches\", \"/Users/dan/.julia/packages/Knockout/IP1uR/src/../assets/knockout_punches.js\"), Asset(\"js\", nothing, \"/Users/dan/.julia/packages/InteractBase/NMcus/src/../assets/all.js\"), Asset(\"css\", nothing, \"/Users/dan/.julia/packages/InteractBase/NMcus/src/../assets/style.css\"), Asset(\"css\", nothing, \"/Users/dan/.julia/packages/Interact/SbgIk/src/../assets/bulma_confined.min.css\")], Dict{Any,Any}(\"changes\" => Any[WebIO.JSString(\"(function (val){return (val!=this.model[\\\"changes\\\"]()) ? (this.valueFromJulia[\\\"changes\\\"]=true, this.model[\\\"changes\\\"](val)) : undefined})\")],\"index\" => Any[WebIO.JSString(\"(function (val){return (val!=this.model[\\\"index\\\"]()) ? (this.valueFromJulia[\\\"index\\\"]=true, this.model[\\\"index\\\"](val)) : undefined})\")]), WebIO.ConnectionPool(Channel{Any}(sz_max:32,sz_curr:0), Set(AbstractConnection[]), Base.GenericCondition{Base.AlwaysLockedST}(Base.InvasiveLinkedList{Task}(Task (runnable) @0x000000010b1b1210, Task (runnable) @0x000000010b1b1210), Base.AlwaysLockedST(1))), WebIO.JSString[WebIO.JSString(\"function () {\\n    var handler = (function (ko, koPunches) {\\n    ko.punches.enableAll();\\n    ko.bindingHandlers.numericValue = {\\n        init: function(element, valueAccessor, allBindings, data, context) {\\n            var stringified = ko.observable(ko.unwrap(valueAccessor()));\\n            stringified.subscribe(function(value) {\\n                var val = parseFloat(value);\\n                if (!isNaN(val)) {\\n                    valueAccessor()(val);\\n                }\\n            });\\n            valueAccessor().subscribe(function(value) {\\n                var str = JSON.stringify(value);\\n                if ((str == \\\"0\\\") && ([\\\"-0\\\", \\\"-0.\\\"].indexOf(stringified()) >= 0))\\n                     return;\\n                 if ([\\\"null\\\", \\\"\\\"].indexOf(str) >= 0)\\n                     return;\\n                stringified(str);\\n            });\\n            ko.applyBindingsToNode(\\n                element,\\n                {\\n                    value: stringified,\\n                    valueUpdate: allBindings.get('valueUpdate'),\\n                },\\n                context,\\n            );\\n        }\\n    };\\n    var json_data = {\\\"formatted_vals\\\":[\\\"0.125\\\",\\\"0.25\\\",\\\"0.375\\\",\\\"0.5\\\",\\\"0.625\\\",\\\"0.75\\\",\\\"0.875\\\",\\\"1.0\\\"],\\\"changes\\\":WebIO.getval({\\\"name\\\":\\\"changes\\\",\\\"scope\\\":\\\"14538359387187998413\\\",\\\"id\\\":\\\"3489042876454658960\\\",\\\"type\\\":\\\"observable\\\"}),\\\"index\\\":WebIO.getval({\\\"name\\\":\\\"index\\\",\\\"scope\\\":\\\"14538359387187998413\\\",\\\"id\\\":\\\"404328995741524916\\\",\\\"type\\\":\\\"observable\\\"})};\\n    var self = this;\\n    function AppViewModel() {\\n        for (var key in json_data) {\\n            var el = json_data[key];\\n            this[key] = Array.isArray(el) ? ko.observableArray(el) : ko.observable(el);\\n        }\\n        \\n        [this[\\\"formatted_val\\\"]=ko.computed(    function(){\\n        return this.formatted_vals()[parseInt(this.index())-(1)];\\n    }\\n,this)]\\n        [this[\\\"changes\\\"].subscribe((function (val){!(this.valueFromJulia[\\\"changes\\\"]) ? (WebIO.setval({\\\"name\\\":\\\"changes\\\",\\\"scope\\\":\\\"14538359387187998413\\\",\\\"id\\\":\\\"3489042876454658960\\\",\\\"type\\\":\\\"observable\\\"},val)) : undefined; return this.valueFromJulia[\\\"changes\\\"]=false}),self),this[\\\"index\\\"].subscribe((function (val){!(this.valueFromJulia[\\\"index\\\"]) ? (WebIO.setval({\\\"name\\\":\\\"index\\\",\\\"scope\\\":\\\"14538359387187998413\\\",\\\"id\\\":\\\"404328995741524916\\\",\\\"type\\\":\\\"observable\\\"},val)) : undefined; return this.valueFromJulia[\\\"index\\\"]=false}),self)]\\n        \\n    }\\n    self.model = new AppViewModel();\\n    self.valueFromJulia = {};\\n    for (var key in json_data) {\\n        self.valueFromJulia[key] = false;\\n    }\\n    ko.applyBindings(self.model, self.dom);\\n}\\n);\\n    (WebIO.importBlock({\\\"data\\\":[{\\\"name\\\":\\\"knockout\\\",\\\"type\\\":\\\"js\\\",\\\"url\\\":\\\"/assetserver/847903f5df732148b510ba93542242ba69c4346c-knockout.js\\\"},{\\\"name\\\":\\\"knockout_punches\\\",\\\"type\\\":\\\"js\\\",\\\"url\\\":\\\"/assetserver/c0b325de111f2589153d52b7b74e82babec63146-knockout_punches.js\\\"}],\\\"type\\\":\\\"async_block\\\"})).then((imports) => handler.apply(this, imports));\\n}\\n\")])], Dict{Symbol,Any}(:className => \"field interact-widget\")), Observable{Any} with 0 listeners. Value:\n",
       "Node{WebIO.DOM}(WebIO.DOM(:html, :div), Any[Plot{Plots.GRBackend() n=4}], Dict{Symbol,Any}(:className => \"interact-flex-row interact-widget\"))], Dict{Symbol,Any}())"
      ]
     },
     "execution_count": 32,
     "metadata": {
      "application/vnd.webio.node+json": {
       "kernelId": "61dd9ceb-ee8b-4b1e-aaeb-0fa4699f6c90"
      }
     },
     "output_type": "execute_result"
    }
   ],
   "source": [
    "N = 100000\n",
    "\n",
    "using DataStructures\n",
    "\n",
    "p_E_slider = slider(linspace(0,1,9)[2:end], value=0.25, label=\"p_E\")\n",
    "p_I_slider = slider(linspace(0,1,9)[2:end], value=0.10, label=\"p_I\")\n",
    "p_R_slider = slider(linspace(0,1,9)[2:end], value=0.05, label=\"p_R\")\n",
    "\n",
    "@manipulate for p_E=p_E_slider, p_I=p_I_slider, p_R=p_R_slider\n",
    "  make_seir_plot(N, p_E, p_I, p_R)\n",
    "end"
   ]
  },
  {
   "cell_type": "markdown",
   "metadata": {},
   "source": [
    "----\n",
    "\n",
    "## Extra Credit: Web Dashboard"
   ]
  },
  {
   "cell_type": "code",
   "execution_count": null,
   "metadata": {},
   "outputs": [],
   "source": [
    "# load file with custom plot extractor\n",
    "\n",
    "include(\"dont_manipulate.jl\")\n"
   ]
  },
  {
   "cell_type": "code",
   "execution_count": null,
   "metadata": {},
   "outputs": [],
   "source": [
    "plotlyjs()\n",
    "\n",
    "@dont_manipulate \"../docs/assets/json/recovery-time.json\" for p in linspace(0,1,11)[2:end], N=logspace(1, 10^5, 6)\n",
    "  make_recovery_plot(p, N)\n",
    "end\n",
    "\n",
    "p_E_slider = slider(linspace(0,1,9)[2:end], value=0.375, label=\"p_E\")\n",
    "p_I_slider = slider(linspace(0,1,9)[2:end], value=0.250, label=\"p_I\")\n",
    "p_R_slider = slider(linspace(0,1,9)[2:end], value=0.125, label=\"p_R\")\n",
    "\n",
    "@dont_manipulate \"../docs/assets/json/seir-model.json\" for p_E=p_E_slider, p_I=p_I_slider, p_R=p_R_slider\n",
    "  make_seir_plot(N, p_E, p_I, p_R)\n",
    "end\n",
    "\n",
    "gr()\n"
   ]
  },
  {
   "cell_type": "code",
   "execution_count": null,
   "metadata": {},
   "outputs": [],
   "source": []
  }
 ],
 "metadata": {
  "@webio": {
   "lastCommId": "3943dc23217c49fda40db651e0f169b9",
   "lastKernelId": "61dd9ceb-ee8b-4b1e-aaeb-0fa4699f6c90"
  },
  "kernelspec": {
   "display_name": "Julia 1.4.0",
   "language": "julia",
   "name": "julia-1.4"
  },
  "language_info": {
   "file_extension": ".jl",
   "mimetype": "application/julia",
   "name": "julia",
   "version": "1.4.0"
  }
 },
 "nbformat": 4,
 "nbformat_minor": 2
}
