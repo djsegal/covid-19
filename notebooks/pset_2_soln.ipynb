{
 "cells": [
  {
   "cell_type": "markdown",
   "metadata": {},
   "source": [
    "## 6.S083 / 18.S190\n",
    "# PSET 2 Solution – Recovery Modeling\n"
   ]
  },
  {
   "cell_type": "markdown",
   "metadata": {},
   "source": [
    "----\n",
    "\n",
    "## Exercise 1: Frequencies\n",
    "\n",
    "In this exercise we will write a general function to count occurrences of values in a set of data"
   ]
  },
  {
   "cell_type": "markdown",
   "metadata": {},
   "source": [
    "### 1. Write a function `counts` that:\n",
    "+ accepts a vector `data` \n",
    "+ calculates the number of times each value in `data` occurs"
   ]
  },
  {
   "cell_type": "code",
   "execution_count": 1,
   "metadata": {},
   "outputs": [
    {
     "data": {
      "text/plain": [
       "counts (generic function with 1 method)"
      ]
     },
     "execution_count": 1,
     "metadata": {},
     "output_type": "execute_result"
    }
   ],
   "source": [
    "function counts(data::Vector)\n",
    "  d = Dict{Int, Int}()\n",
    "  \n",
    "  for cur_value in data\n",
    "    if haskey(d, cur_value)\n",
    "      d[cur_value] += 1\n",
    "    else\n",
    "      d[cur_value] = 1\n",
    "    end\n",
    "  end\n",
    "  \n",
    "  return d\n",
    "end\n"
   ]
  },
  {
   "cell_type": "markdown",
   "metadata": {},
   "source": [
    "### 2. Test that your code is correct:\n",
    "\n",
    "+ Apply it to obtain the counts of the data vector\n",
    "\n",
    "```\n",
    "vv = [1, 0, 1, 0, 1000, 1, 1, 1000]\n",
    "```"
   ]
  },
  {
   "cell_type": "code",
   "execution_count": 2,
   "metadata": {},
   "outputs": [],
   "source": [
    "vv = [1, 0, 1, 0, 1000, 1, 1, 1000]\n",
    "cc = counts(vv)\n",
    "\n",
    "@assert cc[0] == 2\n",
    "@assert cc[1] == 4\n",
    "@assert cc[1000] == 2\n"
   ]
  },
  {
   "cell_type": "markdown",
   "metadata": {},
   "source": [
    "### 3. Extract vectors `ks` of keys and `vs` of values \n",
    "\n",
    "+ using the `keys()` and `values()` functions \n",
    "+ convert the results into a vector using the `collect` function.\n"
   ]
  },
  {
   "cell_type": "code",
   "execution_count": 3,
   "metadata": {},
   "outputs": [],
   "source": [
    "ks = collect(keys(cc))\n",
    "vs = collect(values(cc))\n",
    "\n",
    "@assert sort(ks) == [0, 1, 1000]\n",
    "@assert sort(vs) == [2, 2, 4]\n"
   ]
  },
  {
   "cell_type": "markdown",
   "metadata": {},
   "source": [
    "### 4. Define variable `p` as the result of running `sortperm` on `ks`\n",
    "\n",
    "+ this gives a **permutation** that tells you \n",
    "+ in which order you need to take the keys to give a sorted version\n"
   ]
  },
  {
   "cell_type": "code",
   "execution_count": 4,
   "metadata": {},
   "outputs": [
    {
     "data": {
      "text/plain": [
       "3-element Array{Int64,1}:\n",
       " 1\n",
       " 3\n",
       " 2"
      ]
     },
     "execution_count": 4,
     "metadata": {},
     "output_type": "execute_result"
    }
   ],
   "source": [
    "# note that you can't do: sortperm(keys(cc))\n",
    "\n",
    "p = sortperm(ks)\n"
   ]
  },
  {
   "cell_type": "markdown",
   "metadata": {},
   "source": [
    "### 5. Use indexing `ks[p]` to return the sorted keys/values vectors \n"
   ]
  },
  {
   "cell_type": "code",
   "execution_count": 5,
   "metadata": {},
   "outputs": [
    {
     "data": {
      "text/plain": [
       "3-element Array{Int64,1}:\n",
       " 2\n",
       " 4\n",
       " 2"
      ]
     },
     "execution_count": 5,
     "metadata": {},
     "output_type": "execute_result"
    }
   ],
   "source": [
    "@assert ks[p] == sort(ks)\n",
    "\n",
    "vs[p]\n"
   ]
  },
  {
   "cell_type": "markdown",
   "metadata": {},
   "source": [
    "### 6. Test that your new `counts` function gives the correct result\n",
    "\n",
    "+ make sure output for vector `v` \n",
    "+ matches the true result you can derive by hand\n"
   ]
  },
  {
   "cell_type": "code",
   "execution_count": 6,
   "metadata": {},
   "outputs": [
    {
     "data": {
      "text/plain": [
       "sorted_counts (generic function with 1 method)"
      ]
     },
     "execution_count": 6,
     "metadata": {},
     "output_type": "execute_result"
    }
   ],
   "source": [
    "function sorted_counts(data::Vector)\n",
    "  cc = counts(data)\n",
    "  ks = collect(keys(cc))\n",
    "  vs = collect(values(cc))\n",
    "  \n",
    "  p = sortperm(ks)\n",
    "  ks .= ks[p]\n",
    "  vs .= vs[p]\n",
    "  \n",
    "  return (ks, vs)\n",
    "end\n"
   ]
  },
  {
   "cell_type": "code",
   "execution_count": 7,
   "metadata": {},
   "outputs": [],
   "source": [
    "# vv = [1, 0, 1, 0, 1000, 1, 1, 1000]\n",
    "sc = sorted_counts(vv)\n",
    "\n",
    "expected = [(0,2), (1,4), (1000,2)]\n",
    "k_list, v_list = sc\n",
    "\n",
    "for (cur_index, (cur_key, cur_value)) in enumerate(expected)\n",
    "  @assert cur_key == k_list[cur_index]\n",
    "  @assert cur_value == v_list[cur_index]\n",
    "end\n"
   ]
  },
  {
   "cell_type": "markdown",
   "metadata": {},
   "source": [
    "### 7. Make a function `probability_distribution` \n",
    "\n",
    "+ that normalizes result of `counts` to calculate relative frequency\n",
    "+ the function should return the keys and probabilities\n"
   ]
  },
  {
   "cell_type": "code",
   "execution_count": 8,
   "metadata": {},
   "outputs": [
    {
     "data": {
      "text/plain": [
       "probability_distribution (generic function with 1 method)"
      ]
     },
     "execution_count": 8,
     "metadata": {},
     "output_type": "execute_result"
    }
   ],
   "source": [
    "function probability_distribution(data::Vector)\n",
    "  (ks, vs) = sorted_counts(data)\n",
    "  \n",
    "  # implicitly casts as floats\n",
    "  vs = vs / sum(vs)\n",
    "  \n",
    "  return (ks, vs)\n",
    "end\n"
   ]
  },
  {
   "cell_type": "code",
   "execution_count": 9,
   "metadata": {},
   "outputs": [],
   "source": [
    "# vv = [1, 0, 1, 0, 1000, 1, 1, 1000]\n",
    "sc = probability_distribution(vv)\n",
    "\n",
    "expected = [(0,2/8), (1,4/8), (1000,2/8)]\n",
    "k_list, v_list = sc\n",
    "\n",
    "for (cur_index, (cur_key, cur_value)) in enumerate(expected)\n",
    "  @assert cur_key == k_list[cur_index]\n",
    "  @assert cur_value == v_list[cur_index]\n",
    "end\n",
    "\n",
    "@assert sum(v_list) == 1.0\n"
   ]
  },
  {
   "cell_type": "markdown",
   "metadata": {},
   "source": [
    "----\n",
    "\n",
    "## Exercise 2: Modeling recovery\n",
    "\n",
    "In this exercise, we will investigate the simple model of recovery from an infection where an individual who is infected has probability $p$ to recover each day. If they recover on day $n$ then $\\tau = n$.\n",
    "We see that $\\tau$ is a random variable, so we need to study its **probability distribution**.\n"
   ]
  },
  {
   "cell_type": "markdown",
   "metadata": {},
   "source": [
    "----\n",
    "\n",
    "### 1. Define the function `bernoulli(p)` from lectures. Recall that this generates `true` with probability $p$ and `false` with probability $(1 - p)$.\n"
   ]
  },
  {
   "cell_type": "code",
   "execution_count": 10,
   "metadata": {},
   "outputs": [
    {
     "data": {
      "text/plain": [
       "bernoulli (generic function with 1 method)"
      ]
     },
     "execution_count": 10,
     "metadata": {},
     "output_type": "execute_result"
    }
   ],
   "source": [
    "bernoulli(p) = rand() <= p"
   ]
  },
  {
   "cell_type": "code",
   "execution_count": 11,
   "metadata": {},
   "outputs": [],
   "source": [
    "coin_dict = Dict(true=>0, false=>0)\n",
    "\n",
    "for _ in 1:10000\n",
    "  @assert bernoulli(1) == true\n",
    "  @assert bernoulli(0) == false\n",
    "  \n",
    "  coin_dict[bernoulli(0.5)] += 1\n",
    "end\n",
    "\n",
    "@assert coin_dict[true] > 0\n",
    "@assert coin_dict[false] > 0"
   ]
  },
  {
   "cell_type": "markdown",
   "metadata": {},
   "source": [
    "\n",
    "### 2. Write a function `geometric(p)`. \n",
    "+ This should run a simulation with probability $p$ to recover \n",
    "+ and wait *until* the individual recovers\n",
    "+ at which point it returns the time taken to recover.\n"
   ]
  },
  {
   "cell_type": "code",
   "execution_count": 12,
   "metadata": {},
   "outputs": [
    {
     "data": {
      "text/plain": [
       "geometric (generic function with 1 method)"
      ]
     },
     "execution_count": 12,
     "metadata": {},
     "output_type": "execute_result"
    }
   ],
   "source": [
    "function geometric(p)\n",
    "  @assert 0 < p <= 1\n",
    "  \n",
    "  tau = 1\n",
    "  while !bernoulli(p)\n",
    "    tau += 1\n",
    "  end\n",
    "  return tau\n",
    "end\n"
   ]
  },
  {
   "cell_type": "code",
   "execution_count": 13,
   "metadata": {},
   "outputs": [],
   "source": [
    "# geometric(0) raises error (inf loop)\n",
    "\n",
    "@assert geometric(1) == 1\n"
   ]
  },
  {
   "cell_type": "markdown",
   "metadata": {},
   "source": [
    "\n",
    "### 3. Write a function `experiment(p, N)` \n",
    "\n",
    "That runs the function from [2] `N` times and collects the results into a vector.\n"
   ]
  },
  {
   "cell_type": "code",
   "execution_count": 14,
   "metadata": {},
   "outputs": [],
   "source": [
    "experiment(p, N) = [ geometric(p) for _ in 1:N ]\n",
    "\n",
    "@assert experiment(1, 1) == [1]\n"
   ]
  },
  {
   "cell_type": "markdown",
   "metadata": {},
   "source": [
    "\n",
    "### 4. Run an experiment with $p=0.25$ and $N=10,000$. \n",
    "\n",
    "+ Plot the resulting probability distribution, \n",
    "+ i.e. plot $P(\\tau = n)$ against $n$, where $n$ is the recovery time.\n"
   ]
  },
  {
   "cell_type": "code",
   "execution_count": 15,
   "metadata": {},
   "outputs": [],
   "source": [
    "p = 0.25\n",
    "N = 10^4\n",
    "\n",
    "cur_experiment = experiment(p, N)\n",
    "default_distribution = probability_distribution(cur_experiment)\n",
    "\n",
    "@assert length(cur_experiment) == N\n"
   ]
  },
  {
   "cell_type": "code",
   "execution_count": 16,
   "metadata": {},
   "outputs": [
    {
     "data": {
      "image/svg+xml": [
       "<?xml version=\"1.0\" encoding=\"utf-8\"?>\n",
       "<svg xmlns=\"http://www.w3.org/2000/svg\" xmlns:xlink=\"http://www.w3.org/1999/xlink\" width=\"600\" height=\"400\" viewBox=\"0 0 2400 1600\">\n",
       "<defs>\n",
       "  <clipPath id=\"clip6500\">\n",
       "    <rect x=\"0\" y=\"0\" width=\"2400\" height=\"1600\"/>\n",
       "  </clipPath>\n",
       "</defs>\n",
       "<path clip-path=\"url(#clip6500)\" d=\"\n",
       "M0 1600 L2400 1600 L2400 0 L0 0  Z\n",
       "  \" fill=\"#ffffff\" fill-rule=\"evenodd\" fill-opacity=\"1\"/>\n",
       "<defs>\n",
       "  <clipPath id=\"clip6501\">\n",
       "    <rect x=\"480\" y=\"0\" width=\"1681\" height=\"1600\"/>\n",
       "  </clipPath>\n",
       "</defs>\n",
       "<path clip-path=\"url(#clip6500)\" d=\"\n",
       "M242.516 1425.62 L2352.76 1425.62 L2352.76 121.675 L242.516 121.675  Z\n",
       "  \" fill=\"#ffffff\" fill-rule=\"evenodd\" fill-opacity=\"1\"/>\n",
       "<defs>\n",
       "  <clipPath id=\"clip6502\">\n",
       "    <rect x=\"242\" y=\"121\" width=\"2111\" height=\"1305\"/>\n",
       "  </clipPath>\n",
       "</defs>\n",
       "<polyline clip-path=\"url(#clip6502)\" style=\"stroke:#000000; stroke-width:2; stroke-opacity:0.1; fill:none\" points=\"\n",
       "  324.228,1425.62 324.228,121.675 \n",
       "  \"/>\n",
       "<polyline clip-path=\"url(#clip6502)\" style=\"stroke:#000000; stroke-width:2; stroke-opacity:0.1; fill:none\" points=\"\n",
       "  896.821,1425.62 896.821,121.675 \n",
       "  \"/>\n",
       "<polyline clip-path=\"url(#clip6502)\" style=\"stroke:#000000; stroke-width:2; stroke-opacity:0.1; fill:none\" points=\"\n",
       "  1469.41,1425.62 1469.41,121.675 \n",
       "  \"/>\n",
       "<polyline clip-path=\"url(#clip6502)\" style=\"stroke:#000000; stroke-width:2; stroke-opacity:0.1; fill:none\" points=\"\n",
       "  2042.01,1425.62 2042.01,121.675 \n",
       "  \"/>\n",
       "<polyline clip-path=\"url(#clip6502)\" style=\"stroke:#000000; stroke-width:2; stroke-opacity:0.1; fill:none\" points=\"\n",
       "  242.516,1388.71 2352.76,1388.71 \n",
       "  \"/>\n",
       "<polyline clip-path=\"url(#clip6502)\" style=\"stroke:#000000; stroke-width:2; stroke-opacity:0.1; fill:none\" points=\"\n",
       "  242.516,1146.66 2352.76,1146.66 \n",
       "  \"/>\n",
       "<polyline clip-path=\"url(#clip6502)\" style=\"stroke:#000000; stroke-width:2; stroke-opacity:0.1; fill:none\" points=\"\n",
       "  242.516,904.6 2352.76,904.6 \n",
       "  \"/>\n",
       "<polyline clip-path=\"url(#clip6502)\" style=\"stroke:#000000; stroke-width:2; stroke-opacity:0.1; fill:none\" points=\"\n",
       "  242.516,662.543 2352.76,662.543 \n",
       "  \"/>\n",
       "<polyline clip-path=\"url(#clip6502)\" style=\"stroke:#000000; stroke-width:2; stroke-opacity:0.1; fill:none\" points=\"\n",
       "  242.516,420.485 2352.76,420.485 \n",
       "  \"/>\n",
       "<polyline clip-path=\"url(#clip6502)\" style=\"stroke:#000000; stroke-width:2; stroke-opacity:0.1; fill:none\" points=\"\n",
       "  242.516,178.428 2352.76,178.428 \n",
       "  \"/>\n",
       "<polyline clip-path=\"url(#clip6500)\" style=\"stroke:#000000; stroke-width:4; stroke-opacity:1; fill:none\" points=\"\n",
       "  242.516,1425.62 2352.76,1425.62 \n",
       "  \"/>\n",
       "<polyline clip-path=\"url(#clip6500)\" style=\"stroke:#000000; stroke-width:4; stroke-opacity:1; fill:none\" points=\"\n",
       "  242.516,1425.62 242.516,121.675 \n",
       "  \"/>\n",
       "<polyline clip-path=\"url(#clip6500)\" style=\"stroke:#000000; stroke-width:4; stroke-opacity:1; fill:none\" points=\"\n",
       "  324.228,1425.62 324.228,1409.97 \n",
       "  \"/>\n",
       "<polyline clip-path=\"url(#clip6500)\" style=\"stroke:#000000; stroke-width:4; stroke-opacity:1; fill:none\" points=\"\n",
       "  896.821,1425.62 896.821,1409.97 \n",
       "  \"/>\n",
       "<polyline clip-path=\"url(#clip6500)\" style=\"stroke:#000000; stroke-width:4; stroke-opacity:1; fill:none\" points=\"\n",
       "  1469.41,1425.62 1469.41,1409.97 \n",
       "  \"/>\n",
       "<polyline clip-path=\"url(#clip6500)\" style=\"stroke:#000000; stroke-width:4; stroke-opacity:1; fill:none\" points=\"\n",
       "  2042.01,1425.62 2042.01,1409.97 \n",
       "  \"/>\n",
       "<polyline clip-path=\"url(#clip6500)\" style=\"stroke:#000000; stroke-width:4; stroke-opacity:1; fill:none\" points=\"\n",
       "  242.516,1388.71 267.839,1388.71 \n",
       "  \"/>\n",
       "<polyline clip-path=\"url(#clip6500)\" style=\"stroke:#000000; stroke-width:4; stroke-opacity:1; fill:none\" points=\"\n",
       "  242.516,1146.66 267.839,1146.66 \n",
       "  \"/>\n",
       "<polyline clip-path=\"url(#clip6500)\" style=\"stroke:#000000; stroke-width:4; stroke-opacity:1; fill:none\" points=\"\n",
       "  242.516,904.6 267.839,904.6 \n",
       "  \"/>\n",
       "<polyline clip-path=\"url(#clip6500)\" style=\"stroke:#000000; stroke-width:4; stroke-opacity:1; fill:none\" points=\"\n",
       "  242.516,662.543 267.839,662.543 \n",
       "  \"/>\n",
       "<polyline clip-path=\"url(#clip6500)\" style=\"stroke:#000000; stroke-width:4; stroke-opacity:1; fill:none\" points=\"\n",
       "  242.516,420.485 267.839,420.485 \n",
       "  \"/>\n",
       "<polyline clip-path=\"url(#clip6500)\" style=\"stroke:#000000; stroke-width:4; stroke-opacity:1; fill:none\" points=\"\n",
       "  242.516,178.428 267.839,178.428 \n",
       "  \"/>\n",
       "<g clip-path=\"url(#clip6500)\">\n",
       "<text style=\"fill:#000000; fill-opacity:1; font-family:Arial,Helvetica Neue,Helvetica,sans-serif; font-size:48px; text-anchor:middle;\" transform=\"rotate(0, 324.228, 1479.62)\" x=\"324.228\" y=\"1479.62\">0</text>\n",
       "</g>\n",
       "<g clip-path=\"url(#clip6500)\">\n",
       "<text style=\"fill:#000000; fill-opacity:1; font-family:Arial,Helvetica Neue,Helvetica,sans-serif; font-size:48px; text-anchor:middle;\" transform=\"rotate(0, 896.821, 1479.62)\" x=\"896.821\" y=\"1479.62\">10</text>\n",
       "</g>\n",
       "<g clip-path=\"url(#clip6500)\">\n",
       "<text style=\"fill:#000000; fill-opacity:1; font-family:Arial,Helvetica Neue,Helvetica,sans-serif; font-size:48px; text-anchor:middle;\" transform=\"rotate(0, 1469.41, 1479.62)\" x=\"1469.41\" y=\"1479.62\">20</text>\n",
       "</g>\n",
       "<g clip-path=\"url(#clip6500)\">\n",
       "<text style=\"fill:#000000; fill-opacity:1; font-family:Arial,Helvetica Neue,Helvetica,sans-serif; font-size:48px; text-anchor:middle;\" transform=\"rotate(0, 2042.01, 1479.62)\" x=\"2042.01\" y=\"1479.62\">30</text>\n",
       "</g>\n",
       "<g clip-path=\"url(#clip6500)\">\n",
       "<text style=\"fill:#000000; fill-opacity:1; font-family:Arial,Helvetica Neue,Helvetica,sans-serif; font-size:48px; text-anchor:end;\" transform=\"rotate(0, 218.516, 1406.21)\" x=\"218.516\" y=\"1406.21\">0.00</text>\n",
       "</g>\n",
       "<g clip-path=\"url(#clip6500)\">\n",
       "<text style=\"fill:#000000; fill-opacity:1; font-family:Arial,Helvetica Neue,Helvetica,sans-serif; font-size:48px; text-anchor:end;\" transform=\"rotate(0, 218.516, 1164.16)\" x=\"218.516\" y=\"1164.16\">0.05</text>\n",
       "</g>\n",
       "<g clip-path=\"url(#clip6500)\">\n",
       "<text style=\"fill:#000000; fill-opacity:1; font-family:Arial,Helvetica Neue,Helvetica,sans-serif; font-size:48px; text-anchor:end;\" transform=\"rotate(0, 218.516, 922.1)\" x=\"218.516\" y=\"922.1\">0.10</text>\n",
       "</g>\n",
       "<g clip-path=\"url(#clip6500)\">\n",
       "<text style=\"fill:#000000; fill-opacity:1; font-family:Arial,Helvetica Neue,Helvetica,sans-serif; font-size:48px; text-anchor:end;\" transform=\"rotate(0, 218.516, 680.043)\" x=\"218.516\" y=\"680.043\">0.15</text>\n",
       "</g>\n",
       "<g clip-path=\"url(#clip6500)\">\n",
       "<text style=\"fill:#000000; fill-opacity:1; font-family:Arial,Helvetica Neue,Helvetica,sans-serif; font-size:48px; text-anchor:end;\" transform=\"rotate(0, 218.516, 437.985)\" x=\"218.516\" y=\"437.985\">0.20</text>\n",
       "</g>\n",
       "<g clip-path=\"url(#clip6500)\">\n",
       "<text style=\"fill:#000000; fill-opacity:1; font-family:Arial,Helvetica Neue,Helvetica,sans-serif; font-size:48px; text-anchor:end;\" transform=\"rotate(0, 218.516, 195.928)\" x=\"218.516\" y=\"195.928\">0.25</text>\n",
       "</g>\n",
       "<g clip-path=\"url(#clip6500)\">\n",
       "<text style=\"fill:#000000; fill-opacity:1; font-family:Arial,Helvetica Neue,Helvetica,sans-serif; font-size:84px; text-anchor:middle;\" transform=\"rotate(0, 1297.64, 73.2)\" x=\"1297.64\" y=\"73.2\">Recovery Time</text>\n",
       "</g>\n",
       "<g clip-path=\"url(#clip6500)\">\n",
       "<text style=\"fill:#000000; fill-opacity:1; font-family:Arial,Helvetica Neue,Helvetica,sans-serif; font-size:66px; text-anchor:middle;\" transform=\"rotate(0, 1297.64, 1559.48)\" x=\"1297.64\" y=\"1559.48\">tau</text>\n",
       "</g>\n",
       "<g clip-path=\"url(#clip6500)\">\n",
       "<text style=\"fill:#000000; fill-opacity:1; font-family:Arial,Helvetica Neue,Helvetica,sans-serif; font-size:66px; text-anchor:middle;\" transform=\"rotate(-90, 89.2861, 773.647)\" x=\"89.2861\" y=\"773.647\">p</text>\n",
       "</g>\n",
       "<path clip-path=\"url(#clip6502)\" d=\"\n",
       "M358.583 158.579 L358.583 1388.71 L404.391 1388.71 L404.391 158.579 L358.583 158.579 L358.583 158.579  Z\n",
       "  \" fill=\"#009af9\" fill-rule=\"evenodd\" fill-opacity=\"1\"/>\n",
       "<polyline clip-path=\"url(#clip6502)\" style=\"stroke:#000000; stroke-width:4; stroke-opacity:1; fill:none\" points=\"\n",
       "  358.583,158.579 358.583,1388.71 404.391,1388.71 404.391,158.579 358.583,158.579 \n",
       "  \"/>\n",
       "<path clip-path=\"url(#clip6502)\" d=\"\n",
       "M415.843 474.706 L415.843 1388.71 L461.65 1388.71 L461.65 474.706 L415.843 474.706 L415.843 474.706  Z\n",
       "  \" fill=\"#009af9\" fill-rule=\"evenodd\" fill-opacity=\"1\"/>\n",
       "<polyline clip-path=\"url(#clip6502)\" style=\"stroke:#000000; stroke-width:4; stroke-opacity:1; fill:none\" points=\"\n",
       "  415.843,474.706 415.843,1388.71 461.65,1388.71 461.65,474.706 415.843,474.706 \n",
       "  \"/>\n",
       "<path clip-path=\"url(#clip6502)\" d=\"\n",
       "M473.102 710.47 L473.102 1388.71 L518.909 1388.71 L518.909 710.47 L473.102 710.47 L473.102 710.47  Z\n",
       "  \" fill=\"#009af9\" fill-rule=\"evenodd\" fill-opacity=\"1\"/>\n",
       "<polyline clip-path=\"url(#clip6502)\" style=\"stroke:#000000; stroke-width:4; stroke-opacity:1; fill:none\" points=\"\n",
       "  473.102,710.47 473.102,1388.71 518.909,1388.71 518.909,710.47 473.102,710.47 \n",
       "  \"/>\n",
       "<path clip-path=\"url(#clip6502)\" d=\"\n",
       "M530.361 879.91 L530.361 1388.71 L576.169 1388.71 L576.169 879.91 L530.361 879.91 L530.361 879.91  Z\n",
       "  \" fill=\"#009af9\" fill-rule=\"evenodd\" fill-opacity=\"1\"/>\n",
       "<polyline clip-path=\"url(#clip6502)\" style=\"stroke:#000000; stroke-width:4; stroke-opacity:1; fill:none\" points=\"\n",
       "  530.361,879.91 530.361,1388.71 576.169,1388.71 576.169,879.91 530.361,879.91 \n",
       "  \"/>\n",
       "<path clip-path=\"url(#clip6502)\" d=\"\n",
       "M587.621 1008.68 L587.621 1388.71 L633.428 1388.71 L633.428 1008.68 L587.621 1008.68 L587.621 1008.68  Z\n",
       "  \" fill=\"#009af9\" fill-rule=\"evenodd\" fill-opacity=\"1\"/>\n",
       "<polyline clip-path=\"url(#clip6502)\" style=\"stroke:#000000; stroke-width:4; stroke-opacity:1; fill:none\" points=\"\n",
       "  587.621,1008.68 587.621,1388.71 633.428,1388.71 633.428,1008.68 587.621,1008.68 \n",
       "  \"/>\n",
       "<path clip-path=\"url(#clip6502)\" d=\"\n",
       "M644.88 1102.12 L644.88 1388.71 L690.687 1388.71 L690.687 1102.12 L644.88 1102.12 L644.88 1102.12  Z\n",
       "  \" fill=\"#009af9\" fill-rule=\"evenodd\" fill-opacity=\"1\"/>\n",
       "<polyline clip-path=\"url(#clip6502)\" style=\"stroke:#000000; stroke-width:4; stroke-opacity:1; fill:none\" points=\"\n",
       "  644.88,1102.12 644.88,1388.71 690.687,1388.71 690.687,1102.12 644.88,1102.12 \n",
       "  \"/>\n",
       "<path clip-path=\"url(#clip6502)\" d=\"\n",
       "M702.139 1181.51 L702.139 1388.71 L747.947 1388.71 L747.947 1181.51 L702.139 1181.51 L702.139 1181.51  Z\n",
       "  \" fill=\"#009af9\" fill-rule=\"evenodd\" fill-opacity=\"1\"/>\n",
       "<polyline clip-path=\"url(#clip6502)\" style=\"stroke:#000000; stroke-width:4; stroke-opacity:1; fill:none\" points=\"\n",
       "  702.139,1181.51 702.139,1388.71 747.947,1388.71 747.947,1181.51 702.139,1181.51 \n",
       "  \"/>\n",
       "<path clip-path=\"url(#clip6502)\" d=\"\n",
       "M759.399 1239.61 L759.399 1388.71 L805.206 1388.71 L805.206 1239.61 L759.399 1239.61 L759.399 1239.61  Z\n",
       "  \" fill=\"#009af9\" fill-rule=\"evenodd\" fill-opacity=\"1\"/>\n",
       "<polyline clip-path=\"url(#clip6502)\" style=\"stroke:#000000; stroke-width:4; stroke-opacity:1; fill:none\" points=\"\n",
       "  759.399,1239.61 759.399,1388.71 805.206,1388.71 805.206,1239.61 759.399,1239.61 \n",
       "  \"/>\n",
       "<path clip-path=\"url(#clip6502)\" d=\"\n",
       "M816.658 1276.4 L816.658 1388.71 L862.465 1388.71 L862.465 1276.4 L816.658 1276.4 L816.658 1276.4  Z\n",
       "  \" fill=\"#009af9\" fill-rule=\"evenodd\" fill-opacity=\"1\"/>\n",
       "<polyline clip-path=\"url(#clip6502)\" style=\"stroke:#000000; stroke-width:4; stroke-opacity:1; fill:none\" points=\"\n",
       "  816.658,1276.4 816.658,1388.71 862.465,1388.71 862.465,1276.4 816.658,1276.4 \n",
       "  \"/>\n",
       "<path clip-path=\"url(#clip6502)\" d=\"\n",
       "M873.917 1297.22 L873.917 1388.71 L919.725 1388.71 L919.725 1297.22 L873.917 1297.22 L873.917 1297.22  Z\n",
       "  \" fill=\"#009af9\" fill-rule=\"evenodd\" fill-opacity=\"1\"/>\n",
       "<polyline clip-path=\"url(#clip6502)\" style=\"stroke:#000000; stroke-width:4; stroke-opacity:1; fill:none\" points=\"\n",
       "  873.917,1297.22 873.917,1388.71 919.725,1388.71 919.725,1297.22 873.917,1297.22 \n",
       "  \"/>\n",
       "<path clip-path=\"url(#clip6502)\" d=\"\n",
       "M931.177 1318.52 L931.177 1388.71 L976.984 1388.71 L976.984 1318.52 L931.177 1318.52 L931.177 1318.52  Z\n",
       "  \" fill=\"#009af9\" fill-rule=\"evenodd\" fill-opacity=\"1\"/>\n",
       "<polyline clip-path=\"url(#clip6502)\" style=\"stroke:#000000; stroke-width:4; stroke-opacity:1; fill:none\" points=\"\n",
       "  931.177,1318.52 931.177,1388.71 976.984,1388.71 976.984,1318.52 931.177,1318.52 \n",
       "  \"/>\n",
       "<path clip-path=\"url(#clip6502)\" d=\"\n",
       "M988.436 1341.27 L988.436 1388.71 L1034.24 1388.71 L1034.24 1341.27 L988.436 1341.27 L988.436 1341.27  Z\n",
       "  \" fill=\"#009af9\" fill-rule=\"evenodd\" fill-opacity=\"1\"/>\n",
       "<polyline clip-path=\"url(#clip6502)\" style=\"stroke:#000000; stroke-width:4; stroke-opacity:1; fill:none\" points=\"\n",
       "  988.436,1341.27 988.436,1388.71 1034.24,1388.71 1034.24,1341.27 988.436,1341.27 \n",
       "  \"/>\n",
       "<path clip-path=\"url(#clip6502)\" d=\"\n",
       "M1045.7 1347.56 L1045.7 1388.71 L1091.5 1388.71 L1091.5 1347.56 L1045.7 1347.56 L1045.7 1347.56  Z\n",
       "  \" fill=\"#009af9\" fill-rule=\"evenodd\" fill-opacity=\"1\"/>\n",
       "<polyline clip-path=\"url(#clip6502)\" style=\"stroke:#000000; stroke-width:4; stroke-opacity:1; fill:none\" points=\"\n",
       "  1045.7,1347.56 1045.7,1388.71 1091.5,1388.71 1091.5,1347.56 1045.7,1347.56 \n",
       "  \"/>\n",
       "<path clip-path=\"url(#clip6502)\" d=\"\n",
       "M1102.95 1357.25 L1102.95 1388.71 L1148.76 1388.71 L1148.76 1357.25 L1102.95 1357.25 L1102.95 1357.25  Z\n",
       "  \" fill=\"#009af9\" fill-rule=\"evenodd\" fill-opacity=\"1\"/>\n",
       "<polyline clip-path=\"url(#clip6502)\" style=\"stroke:#000000; stroke-width:4; stroke-opacity:1; fill:none\" points=\"\n",
       "  1102.95,1357.25 1102.95,1388.71 1148.76,1388.71 1148.76,1357.25 1102.95,1357.25 \n",
       "  \"/>\n",
       "<path clip-path=\"url(#clip6502)\" d=\"\n",
       "M1160.21 1368.38 L1160.21 1388.71 L1206.02 1388.71 L1206.02 1368.38 L1160.21 1368.38 L1160.21 1368.38  Z\n",
       "  \" fill=\"#009af9\" fill-rule=\"evenodd\" fill-opacity=\"1\"/>\n",
       "<polyline clip-path=\"url(#clip6502)\" style=\"stroke:#000000; stroke-width:4; stroke-opacity:1; fill:none\" points=\"\n",
       "  1160.21,1368.38 1160.21,1388.71 1206.02,1388.71 1206.02,1368.38 1160.21,1368.38 \n",
       "  \"/>\n",
       "<path clip-path=\"url(#clip6502)\" d=\"\n",
       "M1217.47 1374.19 L1217.47 1388.71 L1263.28 1388.71 L1263.28 1374.19 L1217.47 1374.19 L1217.47 1374.19  Z\n",
       "  \" fill=\"#009af9\" fill-rule=\"evenodd\" fill-opacity=\"1\"/>\n",
       "<polyline clip-path=\"url(#clip6502)\" style=\"stroke:#000000; stroke-width:4; stroke-opacity:1; fill:none\" points=\"\n",
       "  1217.47,1374.19 1217.47,1388.71 1263.28,1388.71 1263.28,1374.19 1217.47,1374.19 \n",
       "  \"/>\n",
       "<path clip-path=\"url(#clip6502)\" d=\"\n",
       "M1274.73 1377.1 L1274.73 1388.71 L1320.54 1388.71 L1320.54 1377.1 L1274.73 1377.1 L1274.73 1377.1  Z\n",
       "  \" fill=\"#009af9\" fill-rule=\"evenodd\" fill-opacity=\"1\"/>\n",
       "<polyline clip-path=\"url(#clip6502)\" style=\"stroke:#000000; stroke-width:4; stroke-opacity:1; fill:none\" points=\"\n",
       "  1274.73,1377.1 1274.73,1388.71 1320.54,1388.71 1320.54,1377.1 1274.73,1377.1 \n",
       "  \"/>\n",
       "<path clip-path=\"url(#clip6502)\" d=\"\n",
       "M1331.99 1374.19 L1331.99 1388.71 L1377.8 1388.71 L1377.8 1374.19 L1331.99 1374.19 L1331.99 1374.19  Z\n",
       "  \" fill=\"#009af9\" fill-rule=\"evenodd\" fill-opacity=\"1\"/>\n",
       "<polyline clip-path=\"url(#clip6502)\" style=\"stroke:#000000; stroke-width:4; stroke-opacity:1; fill:none\" points=\"\n",
       "  1331.99,1374.19 1331.99,1388.71 1377.8,1388.71 1377.8,1374.19 1331.99,1374.19 \n",
       "  \"/>\n",
       "<path clip-path=\"url(#clip6502)\" d=\"\n",
       "M1389.25 1382.91 L1389.25 1388.71 L1435.06 1388.71 L1435.06 1382.91 L1389.25 1382.91 L1389.25 1382.91  Z\n",
       "  \" fill=\"#009af9\" fill-rule=\"evenodd\" fill-opacity=\"1\"/>\n",
       "<polyline clip-path=\"url(#clip6502)\" style=\"stroke:#000000; stroke-width:4; stroke-opacity:1; fill:none\" points=\"\n",
       "  1389.25,1382.91 1389.25,1388.71 1435.06,1388.71 1435.06,1382.91 1389.25,1382.91 \n",
       "  \"/>\n",
       "<path clip-path=\"url(#clip6502)\" d=\"\n",
       "M1446.51 1384.36 L1446.51 1388.71 L1492.32 1388.71 L1492.32 1384.36 L1446.51 1384.36 L1446.51 1384.36  Z\n",
       "  \" fill=\"#009af9\" fill-rule=\"evenodd\" fill-opacity=\"1\"/>\n",
       "<polyline clip-path=\"url(#clip6502)\" style=\"stroke:#000000; stroke-width:4; stroke-opacity:1; fill:none\" points=\"\n",
       "  1446.51,1384.36 1446.51,1388.71 1492.32,1388.71 1492.32,1384.36 1446.51,1384.36 \n",
       "  \"/>\n",
       "<path clip-path=\"url(#clip6502)\" d=\"\n",
       "M1503.77 1382.42 L1503.77 1388.71 L1549.58 1388.71 L1549.58 1382.42 L1503.77 1382.42 L1503.77 1382.42  Z\n",
       "  \" fill=\"#009af9\" fill-rule=\"evenodd\" fill-opacity=\"1\"/>\n",
       "<polyline clip-path=\"url(#clip6502)\" style=\"stroke:#000000; stroke-width:4; stroke-opacity:1; fill:none\" points=\"\n",
       "  1503.77,1382.42 1503.77,1388.71 1549.58,1388.71 1549.58,1382.42 1503.77,1382.42 \n",
       "  \"/>\n",
       "<path clip-path=\"url(#clip6502)\" d=\"\n",
       "M1561.03 1384.36 L1561.03 1388.71 L1606.84 1388.71 L1606.84 1384.36 L1561.03 1384.36 L1561.03 1384.36  Z\n",
       "  \" fill=\"#009af9\" fill-rule=\"evenodd\" fill-opacity=\"1\"/>\n",
       "<polyline clip-path=\"url(#clip6502)\" style=\"stroke:#000000; stroke-width:4; stroke-opacity:1; fill:none\" points=\"\n",
       "  1561.03,1384.36 1561.03,1388.71 1606.84,1388.71 1606.84,1384.36 1561.03,1384.36 \n",
       "  \"/>\n",
       "<path clip-path=\"url(#clip6502)\" d=\"\n",
       "M1618.29 1385.81 L1618.29 1388.71 L1664.1 1388.71 L1664.1 1385.81 L1618.29 1385.81 L1618.29 1385.81  Z\n",
       "  \" fill=\"#009af9\" fill-rule=\"evenodd\" fill-opacity=\"1\"/>\n",
       "<polyline clip-path=\"url(#clip6502)\" style=\"stroke:#000000; stroke-width:4; stroke-opacity:1; fill:none\" points=\"\n",
       "  1618.29,1385.81 1618.29,1388.71 1664.1,1388.71 1664.1,1385.81 1618.29,1385.81 \n",
       "  \"/>\n",
       "<path clip-path=\"url(#clip6502)\" d=\"\n",
       "M1675.55 1387.26 L1675.55 1388.71 L1721.36 1388.71 L1721.36 1387.26 L1675.55 1387.26 L1675.55 1387.26  Z\n",
       "  \" fill=\"#009af9\" fill-rule=\"evenodd\" fill-opacity=\"1\"/>\n",
       "<polyline clip-path=\"url(#clip6502)\" style=\"stroke:#000000; stroke-width:4; stroke-opacity:1; fill:none\" points=\"\n",
       "  1675.55,1387.26 1675.55,1388.71 1721.36,1388.71 1721.36,1387.26 1675.55,1387.26 \n",
       "  \"/>\n",
       "<path clip-path=\"url(#clip6502)\" d=\"\n",
       "M1732.81 1387.26 L1732.81 1388.71 L1778.61 1388.71 L1778.61 1387.26 L1732.81 1387.26 L1732.81 1387.26  Z\n",
       "  \" fill=\"#009af9\" fill-rule=\"evenodd\" fill-opacity=\"1\"/>\n",
       "<polyline clip-path=\"url(#clip6502)\" style=\"stroke:#000000; stroke-width:4; stroke-opacity:1; fill:none\" points=\"\n",
       "  1732.81,1387.26 1732.81,1388.71 1778.61,1388.71 1778.61,1387.26 1732.81,1387.26 \n",
       "  \"/>\n",
       "<path clip-path=\"url(#clip6502)\" d=\"\n",
       "M1790.07 1386.29 L1790.07 1388.71 L1835.87 1388.71 L1835.87 1386.29 L1790.07 1386.29 L1790.07 1386.29  Z\n",
       "  \" fill=\"#009af9\" fill-rule=\"evenodd\" fill-opacity=\"1\"/>\n",
       "<polyline clip-path=\"url(#clip6502)\" style=\"stroke:#000000; stroke-width:4; stroke-opacity:1; fill:none\" points=\"\n",
       "  1790.07,1386.29 1790.07,1388.71 1835.87,1388.71 1835.87,1386.29 1790.07,1386.29 \n",
       "  \"/>\n",
       "<path clip-path=\"url(#clip6502)\" d=\"\n",
       "M1847.33 1387.26 L1847.33 1388.71 L1893.13 1388.71 L1893.13 1387.26 L1847.33 1387.26 L1847.33 1387.26  Z\n",
       "  \" fill=\"#009af9\" fill-rule=\"evenodd\" fill-opacity=\"1\"/>\n",
       "<polyline clip-path=\"url(#clip6502)\" style=\"stroke:#000000; stroke-width:4; stroke-opacity:1; fill:none\" points=\"\n",
       "  1847.33,1387.26 1847.33,1388.71 1893.13,1388.71 1893.13,1387.26 1847.33,1387.26 \n",
       "  \"/>\n",
       "<path clip-path=\"url(#clip6502)\" d=\"\n",
       "M1904.58 1388.23 L1904.58 1388.71 L1950.39 1388.71 L1950.39 1388.23 L1904.58 1388.23 L1904.58 1388.23  Z\n",
       "  \" fill=\"#009af9\" fill-rule=\"evenodd\" fill-opacity=\"1\"/>\n",
       "<polyline clip-path=\"url(#clip6502)\" style=\"stroke:#000000; stroke-width:4; stroke-opacity:1; fill:none\" points=\"\n",
       "  1904.58,1388.23 1904.58,1388.71 1950.39,1388.71 1950.39,1388.23 1904.58,1388.23 \n",
       "  \"/>\n",
       "<path clip-path=\"url(#clip6502)\" d=\"\n",
       "M1961.84 1388.23 L1961.84 1388.71 L2007.65 1388.71 L2007.65 1388.23 L1961.84 1388.23 L1961.84 1388.23  Z\n",
       "  \" fill=\"#009af9\" fill-rule=\"evenodd\" fill-opacity=\"1\"/>\n",
       "<polyline clip-path=\"url(#clip6502)\" style=\"stroke:#000000; stroke-width:4; stroke-opacity:1; fill:none\" points=\"\n",
       "  1961.84,1388.23 1961.84,1388.71 2007.65,1388.71 2007.65,1388.23 1961.84,1388.23 \n",
       "  \"/>\n",
       "<path clip-path=\"url(#clip6502)\" d=\"\n",
       "M2190.88 1388.23 L2190.88 1388.71 L2236.69 1388.71 L2236.69 1388.23 L2190.88 1388.23 L2190.88 1388.23  Z\n",
       "  \" fill=\"#009af9\" fill-rule=\"evenodd\" fill-opacity=\"1\"/>\n",
       "<polyline clip-path=\"url(#clip6502)\" style=\"stroke:#000000; stroke-width:4; stroke-opacity:1; fill:none\" points=\"\n",
       "  2190.88,1388.23 2190.88,1388.71 2236.69,1388.71 2236.69,1388.23 2190.88,1388.23 \n",
       "  \"/>\n",
       "</svg>\n"
      ]
     },
     "execution_count": 16,
     "metadata": {},
     "output_type": "execute_result"
    }
   ],
   "source": [
    "using Plots\n",
    "\n",
    "dist_plot(cur_distribution) = bar(\n",
    "  cur_distribution, title=\"Recovery Time\",\n",
    "  xlabel=\"tau\", ylabel=\"p\", label=\"\"\n",
    ")\n",
    "\n",
    "dist_plot(default_distribution)\n"
   ]
  },
  {
   "cell_type": "markdown",
   "metadata": {},
   "source": [
    "#### // note that around 25% of population recovered in 1 day\n",
    "\n",
    "---"
   ]
  },
  {
   "cell_type": "markdown",
   "metadata": {},
   "source": [
    "\n",
    "### 5. Calculate the mean recovery time and add it to the plot using the `vline!()` function and the `ls=:dash` argument to make a dashed line.\n"
   ]
  },
  {
   "cell_type": "code",
   "execution_count": 17,
   "metadata": {},
   "outputs": [
    {
     "name": "stdout",
     "output_type": "stream",
     "text": [
      "mean recovery is: ~4 days\n",
      "\n"
     ]
    },
    {
     "data": {
      "image/svg+xml": [
       "<?xml version=\"1.0\" encoding=\"utf-8\"?>\n",
       "<svg xmlns=\"http://www.w3.org/2000/svg\" xmlns:xlink=\"http://www.w3.org/1999/xlink\" width=\"600\" height=\"400\" viewBox=\"0 0 2400 1600\">\n",
       "<defs>\n",
       "  <clipPath id=\"clip6900\">\n",
       "    <rect x=\"0\" y=\"0\" width=\"2400\" height=\"1600\"/>\n",
       "  </clipPath>\n",
       "</defs>\n",
       "<path clip-path=\"url(#clip6900)\" d=\"\n",
       "M0 1600 L2400 1600 L2400 0 L0 0  Z\n",
       "  \" fill=\"#ffffff\" fill-rule=\"evenodd\" fill-opacity=\"1\"/>\n",
       "<defs>\n",
       "  <clipPath id=\"clip6901\">\n",
       "    <rect x=\"480\" y=\"0\" width=\"1681\" height=\"1600\"/>\n",
       "  </clipPath>\n",
       "</defs>\n",
       "<path clip-path=\"url(#clip6900)\" d=\"\n",
       "M242.516 1425.62 L2352.76 1425.62 L2352.76 121.675 L242.516 121.675  Z\n",
       "  \" fill=\"#ffffff\" fill-rule=\"evenodd\" fill-opacity=\"1\"/>\n",
       "<defs>\n",
       "  <clipPath id=\"clip6902\">\n",
       "    <rect x=\"242\" y=\"121\" width=\"2111\" height=\"1305\"/>\n",
       "  </clipPath>\n",
       "</defs>\n",
       "<polyline clip-path=\"url(#clip6902)\" style=\"stroke:#000000; stroke-width:2; stroke-opacity:0.1; fill:none\" points=\"\n",
       "  324.228,1425.62 324.228,121.675 \n",
       "  \"/>\n",
       "<polyline clip-path=\"url(#clip6902)\" style=\"stroke:#000000; stroke-width:2; stroke-opacity:0.1; fill:none\" points=\"\n",
       "  896.821,1425.62 896.821,121.675 \n",
       "  \"/>\n",
       "<polyline clip-path=\"url(#clip6902)\" style=\"stroke:#000000; stroke-width:2; stroke-opacity:0.1; fill:none\" points=\"\n",
       "  1469.41,1425.62 1469.41,121.675 \n",
       "  \"/>\n",
       "<polyline clip-path=\"url(#clip6902)\" style=\"stroke:#000000; stroke-width:2; stroke-opacity:0.1; fill:none\" points=\"\n",
       "  2042.01,1425.62 2042.01,121.675 \n",
       "  \"/>\n",
       "<polyline clip-path=\"url(#clip6902)\" style=\"stroke:#000000; stroke-width:2; stroke-opacity:0.1; fill:none\" points=\"\n",
       "  242.516,1388.71 2352.76,1388.71 \n",
       "  \"/>\n",
       "<polyline clip-path=\"url(#clip6902)\" style=\"stroke:#000000; stroke-width:2; stroke-opacity:0.1; fill:none\" points=\"\n",
       "  242.516,1146.66 2352.76,1146.66 \n",
       "  \"/>\n",
       "<polyline clip-path=\"url(#clip6902)\" style=\"stroke:#000000; stroke-width:2; stroke-opacity:0.1; fill:none\" points=\"\n",
       "  242.516,904.6 2352.76,904.6 \n",
       "  \"/>\n",
       "<polyline clip-path=\"url(#clip6902)\" style=\"stroke:#000000; stroke-width:2; stroke-opacity:0.1; fill:none\" points=\"\n",
       "  242.516,662.543 2352.76,662.543 \n",
       "  \"/>\n",
       "<polyline clip-path=\"url(#clip6902)\" style=\"stroke:#000000; stroke-width:2; stroke-opacity:0.1; fill:none\" points=\"\n",
       "  242.516,420.485 2352.76,420.485 \n",
       "  \"/>\n",
       "<polyline clip-path=\"url(#clip6902)\" style=\"stroke:#000000; stroke-width:2; stroke-opacity:0.1; fill:none\" points=\"\n",
       "  242.516,178.428 2352.76,178.428 \n",
       "  \"/>\n",
       "<polyline clip-path=\"url(#clip6900)\" style=\"stroke:#000000; stroke-width:4; stroke-opacity:1; fill:none\" points=\"\n",
       "  242.516,1425.62 2352.76,1425.62 \n",
       "  \"/>\n",
       "<polyline clip-path=\"url(#clip6900)\" style=\"stroke:#000000; stroke-width:4; stroke-opacity:1; fill:none\" points=\"\n",
       "  242.516,1425.62 242.516,121.675 \n",
       "  \"/>\n",
       "<polyline clip-path=\"url(#clip6900)\" style=\"stroke:#000000; stroke-width:4; stroke-opacity:1; fill:none\" points=\"\n",
       "  324.228,1425.62 324.228,1409.97 \n",
       "  \"/>\n",
       "<polyline clip-path=\"url(#clip6900)\" style=\"stroke:#000000; stroke-width:4; stroke-opacity:1; fill:none\" points=\"\n",
       "  896.821,1425.62 896.821,1409.97 \n",
       "  \"/>\n",
       "<polyline clip-path=\"url(#clip6900)\" style=\"stroke:#000000; stroke-width:4; stroke-opacity:1; fill:none\" points=\"\n",
       "  1469.41,1425.62 1469.41,1409.97 \n",
       "  \"/>\n",
       "<polyline clip-path=\"url(#clip6900)\" style=\"stroke:#000000; stroke-width:4; stroke-opacity:1; fill:none\" points=\"\n",
       "  2042.01,1425.62 2042.01,1409.97 \n",
       "  \"/>\n",
       "<polyline clip-path=\"url(#clip6900)\" style=\"stroke:#000000; stroke-width:4; stroke-opacity:1; fill:none\" points=\"\n",
       "  242.516,1388.71 267.839,1388.71 \n",
       "  \"/>\n",
       "<polyline clip-path=\"url(#clip6900)\" style=\"stroke:#000000; stroke-width:4; stroke-opacity:1; fill:none\" points=\"\n",
       "  242.516,1146.66 267.839,1146.66 \n",
       "  \"/>\n",
       "<polyline clip-path=\"url(#clip6900)\" style=\"stroke:#000000; stroke-width:4; stroke-opacity:1; fill:none\" points=\"\n",
       "  242.516,904.6 267.839,904.6 \n",
       "  \"/>\n",
       "<polyline clip-path=\"url(#clip6900)\" style=\"stroke:#000000; stroke-width:4; stroke-opacity:1; fill:none\" points=\"\n",
       "  242.516,662.543 267.839,662.543 \n",
       "  \"/>\n",
       "<polyline clip-path=\"url(#clip6900)\" style=\"stroke:#000000; stroke-width:4; stroke-opacity:1; fill:none\" points=\"\n",
       "  242.516,420.485 267.839,420.485 \n",
       "  \"/>\n",
       "<polyline clip-path=\"url(#clip6900)\" style=\"stroke:#000000; stroke-width:4; stroke-opacity:1; fill:none\" points=\"\n",
       "  242.516,178.428 267.839,178.428 \n",
       "  \"/>\n",
       "<g clip-path=\"url(#clip6900)\">\n",
       "<text style=\"fill:#000000; fill-opacity:1; font-family:Arial,Helvetica Neue,Helvetica,sans-serif; font-size:48px; text-anchor:middle;\" transform=\"rotate(0, 324.228, 1479.62)\" x=\"324.228\" y=\"1479.62\">0</text>\n",
       "</g>\n",
       "<g clip-path=\"url(#clip6900)\">\n",
       "<text style=\"fill:#000000; fill-opacity:1; font-family:Arial,Helvetica Neue,Helvetica,sans-serif; font-size:48px; text-anchor:middle;\" transform=\"rotate(0, 896.821, 1479.62)\" x=\"896.821\" y=\"1479.62\">10</text>\n",
       "</g>\n",
       "<g clip-path=\"url(#clip6900)\">\n",
       "<text style=\"fill:#000000; fill-opacity:1; font-family:Arial,Helvetica Neue,Helvetica,sans-serif; font-size:48px; text-anchor:middle;\" transform=\"rotate(0, 1469.41, 1479.62)\" x=\"1469.41\" y=\"1479.62\">20</text>\n",
       "</g>\n",
       "<g clip-path=\"url(#clip6900)\">\n",
       "<text style=\"fill:#000000; fill-opacity:1; font-family:Arial,Helvetica Neue,Helvetica,sans-serif; font-size:48px; text-anchor:middle;\" transform=\"rotate(0, 2042.01, 1479.62)\" x=\"2042.01\" y=\"1479.62\">30</text>\n",
       "</g>\n",
       "<g clip-path=\"url(#clip6900)\">\n",
       "<text style=\"fill:#000000; fill-opacity:1; font-family:Arial,Helvetica Neue,Helvetica,sans-serif; font-size:48px; text-anchor:end;\" transform=\"rotate(0, 218.516, 1406.21)\" x=\"218.516\" y=\"1406.21\">0.00</text>\n",
       "</g>\n",
       "<g clip-path=\"url(#clip6900)\">\n",
       "<text style=\"fill:#000000; fill-opacity:1; font-family:Arial,Helvetica Neue,Helvetica,sans-serif; font-size:48px; text-anchor:end;\" transform=\"rotate(0, 218.516, 1164.16)\" x=\"218.516\" y=\"1164.16\">0.05</text>\n",
       "</g>\n",
       "<g clip-path=\"url(#clip6900)\">\n",
       "<text style=\"fill:#000000; fill-opacity:1; font-family:Arial,Helvetica Neue,Helvetica,sans-serif; font-size:48px; text-anchor:end;\" transform=\"rotate(0, 218.516, 922.1)\" x=\"218.516\" y=\"922.1\">0.10</text>\n",
       "</g>\n",
       "<g clip-path=\"url(#clip6900)\">\n",
       "<text style=\"fill:#000000; fill-opacity:1; font-family:Arial,Helvetica Neue,Helvetica,sans-serif; font-size:48px; text-anchor:end;\" transform=\"rotate(0, 218.516, 680.043)\" x=\"218.516\" y=\"680.043\">0.15</text>\n",
       "</g>\n",
       "<g clip-path=\"url(#clip6900)\">\n",
       "<text style=\"fill:#000000; fill-opacity:1; font-family:Arial,Helvetica Neue,Helvetica,sans-serif; font-size:48px; text-anchor:end;\" transform=\"rotate(0, 218.516, 437.985)\" x=\"218.516\" y=\"437.985\">0.20</text>\n",
       "</g>\n",
       "<g clip-path=\"url(#clip6900)\">\n",
       "<text style=\"fill:#000000; fill-opacity:1; font-family:Arial,Helvetica Neue,Helvetica,sans-serif; font-size:48px; text-anchor:end;\" transform=\"rotate(0, 218.516, 195.928)\" x=\"218.516\" y=\"195.928\">0.25</text>\n",
       "</g>\n",
       "<g clip-path=\"url(#clip6900)\">\n",
       "<text style=\"fill:#000000; fill-opacity:1; font-family:Arial,Helvetica Neue,Helvetica,sans-serif; font-size:84px; text-anchor:middle;\" transform=\"rotate(0, 1297.64, 73.2)\" x=\"1297.64\" y=\"73.2\">Recovery Time</text>\n",
       "</g>\n",
       "<g clip-path=\"url(#clip6900)\">\n",
       "<text style=\"fill:#000000; fill-opacity:1; font-family:Arial,Helvetica Neue,Helvetica,sans-serif; font-size:66px; text-anchor:middle;\" transform=\"rotate(0, 1297.64, 1559.48)\" x=\"1297.64\" y=\"1559.48\">tau</text>\n",
       "</g>\n",
       "<g clip-path=\"url(#clip6900)\">\n",
       "<text style=\"fill:#000000; fill-opacity:1; font-family:Arial,Helvetica Neue,Helvetica,sans-serif; font-size:66px; text-anchor:middle;\" transform=\"rotate(-90, 89.2861, 773.647)\" x=\"89.2861\" y=\"773.647\">p</text>\n",
       "</g>\n",
       "<path clip-path=\"url(#clip6902)\" d=\"\n",
       "M358.583 158.579 L358.583 1388.71 L404.391 1388.71 L404.391 158.579 L358.583 158.579 L358.583 158.579  Z\n",
       "  \" fill=\"#009af9\" fill-rule=\"evenodd\" fill-opacity=\"1\"/>\n",
       "<polyline clip-path=\"url(#clip6902)\" style=\"stroke:#000000; stroke-width:4; stroke-opacity:1; fill:none\" points=\"\n",
       "  358.583,158.579 358.583,1388.71 404.391,1388.71 404.391,158.579 358.583,158.579 \n",
       "  \"/>\n",
       "<path clip-path=\"url(#clip6902)\" d=\"\n",
       "M415.843 474.706 L415.843 1388.71 L461.65 1388.71 L461.65 474.706 L415.843 474.706 L415.843 474.706  Z\n",
       "  \" fill=\"#009af9\" fill-rule=\"evenodd\" fill-opacity=\"1\"/>\n",
       "<polyline clip-path=\"url(#clip6902)\" style=\"stroke:#000000; stroke-width:4; stroke-opacity:1; fill:none\" points=\"\n",
       "  415.843,474.706 415.843,1388.71 461.65,1388.71 461.65,474.706 415.843,474.706 \n",
       "  \"/>\n",
       "<path clip-path=\"url(#clip6902)\" d=\"\n",
       "M473.102 710.47 L473.102 1388.71 L518.909 1388.71 L518.909 710.47 L473.102 710.47 L473.102 710.47  Z\n",
       "  \" fill=\"#009af9\" fill-rule=\"evenodd\" fill-opacity=\"1\"/>\n",
       "<polyline clip-path=\"url(#clip6902)\" style=\"stroke:#000000; stroke-width:4; stroke-opacity:1; fill:none\" points=\"\n",
       "  473.102,710.47 473.102,1388.71 518.909,1388.71 518.909,710.47 473.102,710.47 \n",
       "  \"/>\n",
       "<path clip-path=\"url(#clip6902)\" d=\"\n",
       "M530.361 879.91 L530.361 1388.71 L576.169 1388.71 L576.169 879.91 L530.361 879.91 L530.361 879.91  Z\n",
       "  \" fill=\"#009af9\" fill-rule=\"evenodd\" fill-opacity=\"1\"/>\n",
       "<polyline clip-path=\"url(#clip6902)\" style=\"stroke:#000000; stroke-width:4; stroke-opacity:1; fill:none\" points=\"\n",
       "  530.361,879.91 530.361,1388.71 576.169,1388.71 576.169,879.91 530.361,879.91 \n",
       "  \"/>\n",
       "<path clip-path=\"url(#clip6902)\" d=\"\n",
       "M587.621 1008.68 L587.621 1388.71 L633.428 1388.71 L633.428 1008.68 L587.621 1008.68 L587.621 1008.68  Z\n",
       "  \" fill=\"#009af9\" fill-rule=\"evenodd\" fill-opacity=\"1\"/>\n",
       "<polyline clip-path=\"url(#clip6902)\" style=\"stroke:#000000; stroke-width:4; stroke-opacity:1; fill:none\" points=\"\n",
       "  587.621,1008.68 587.621,1388.71 633.428,1388.71 633.428,1008.68 587.621,1008.68 \n",
       "  \"/>\n",
       "<path clip-path=\"url(#clip6902)\" d=\"\n",
       "M644.88 1102.12 L644.88 1388.71 L690.687 1388.71 L690.687 1102.12 L644.88 1102.12 L644.88 1102.12  Z\n",
       "  \" fill=\"#009af9\" fill-rule=\"evenodd\" fill-opacity=\"1\"/>\n",
       "<polyline clip-path=\"url(#clip6902)\" style=\"stroke:#000000; stroke-width:4; stroke-opacity:1; fill:none\" points=\"\n",
       "  644.88,1102.12 644.88,1388.71 690.687,1388.71 690.687,1102.12 644.88,1102.12 \n",
       "  \"/>\n",
       "<path clip-path=\"url(#clip6902)\" d=\"\n",
       "M702.139 1181.51 L702.139 1388.71 L747.947 1388.71 L747.947 1181.51 L702.139 1181.51 L702.139 1181.51  Z\n",
       "  \" fill=\"#009af9\" fill-rule=\"evenodd\" fill-opacity=\"1\"/>\n",
       "<polyline clip-path=\"url(#clip6902)\" style=\"stroke:#000000; stroke-width:4; stroke-opacity:1; fill:none\" points=\"\n",
       "  702.139,1181.51 702.139,1388.71 747.947,1388.71 747.947,1181.51 702.139,1181.51 \n",
       "  \"/>\n",
       "<path clip-path=\"url(#clip6902)\" d=\"\n",
       "M759.399 1239.61 L759.399 1388.71 L805.206 1388.71 L805.206 1239.61 L759.399 1239.61 L759.399 1239.61  Z\n",
       "  \" fill=\"#009af9\" fill-rule=\"evenodd\" fill-opacity=\"1\"/>\n",
       "<polyline clip-path=\"url(#clip6902)\" style=\"stroke:#000000; stroke-width:4; stroke-opacity:1; fill:none\" points=\"\n",
       "  759.399,1239.61 759.399,1388.71 805.206,1388.71 805.206,1239.61 759.399,1239.61 \n",
       "  \"/>\n",
       "<path clip-path=\"url(#clip6902)\" d=\"\n",
       "M816.658 1276.4 L816.658 1388.71 L862.465 1388.71 L862.465 1276.4 L816.658 1276.4 L816.658 1276.4  Z\n",
       "  \" fill=\"#009af9\" fill-rule=\"evenodd\" fill-opacity=\"1\"/>\n",
       "<polyline clip-path=\"url(#clip6902)\" style=\"stroke:#000000; stroke-width:4; stroke-opacity:1; fill:none\" points=\"\n",
       "  816.658,1276.4 816.658,1388.71 862.465,1388.71 862.465,1276.4 816.658,1276.4 \n",
       "  \"/>\n",
       "<path clip-path=\"url(#clip6902)\" d=\"\n",
       "M873.917 1297.22 L873.917 1388.71 L919.725 1388.71 L919.725 1297.22 L873.917 1297.22 L873.917 1297.22  Z\n",
       "  \" fill=\"#009af9\" fill-rule=\"evenodd\" fill-opacity=\"1\"/>\n",
       "<polyline clip-path=\"url(#clip6902)\" style=\"stroke:#000000; stroke-width:4; stroke-opacity:1; fill:none\" points=\"\n",
       "  873.917,1297.22 873.917,1388.71 919.725,1388.71 919.725,1297.22 873.917,1297.22 \n",
       "  \"/>\n",
       "<path clip-path=\"url(#clip6902)\" d=\"\n",
       "M931.177 1318.52 L931.177 1388.71 L976.984 1388.71 L976.984 1318.52 L931.177 1318.52 L931.177 1318.52  Z\n",
       "  \" fill=\"#009af9\" fill-rule=\"evenodd\" fill-opacity=\"1\"/>\n",
       "<polyline clip-path=\"url(#clip6902)\" style=\"stroke:#000000; stroke-width:4; stroke-opacity:1; fill:none\" points=\"\n",
       "  931.177,1318.52 931.177,1388.71 976.984,1388.71 976.984,1318.52 931.177,1318.52 \n",
       "  \"/>\n",
       "<path clip-path=\"url(#clip6902)\" d=\"\n",
       "M988.436 1341.27 L988.436 1388.71 L1034.24 1388.71 L1034.24 1341.27 L988.436 1341.27 L988.436 1341.27  Z\n",
       "  \" fill=\"#009af9\" fill-rule=\"evenodd\" fill-opacity=\"1\"/>\n",
       "<polyline clip-path=\"url(#clip6902)\" style=\"stroke:#000000; stroke-width:4; stroke-opacity:1; fill:none\" points=\"\n",
       "  988.436,1341.27 988.436,1388.71 1034.24,1388.71 1034.24,1341.27 988.436,1341.27 \n",
       "  \"/>\n",
       "<path clip-path=\"url(#clip6902)\" d=\"\n",
       "M1045.7 1347.56 L1045.7 1388.71 L1091.5 1388.71 L1091.5 1347.56 L1045.7 1347.56 L1045.7 1347.56  Z\n",
       "  \" fill=\"#009af9\" fill-rule=\"evenodd\" fill-opacity=\"1\"/>\n",
       "<polyline clip-path=\"url(#clip6902)\" style=\"stroke:#000000; stroke-width:4; stroke-opacity:1; fill:none\" points=\"\n",
       "  1045.7,1347.56 1045.7,1388.71 1091.5,1388.71 1091.5,1347.56 1045.7,1347.56 \n",
       "  \"/>\n",
       "<path clip-path=\"url(#clip6902)\" d=\"\n",
       "M1102.95 1357.25 L1102.95 1388.71 L1148.76 1388.71 L1148.76 1357.25 L1102.95 1357.25 L1102.95 1357.25  Z\n",
       "  \" fill=\"#009af9\" fill-rule=\"evenodd\" fill-opacity=\"1\"/>\n",
       "<polyline clip-path=\"url(#clip6902)\" style=\"stroke:#000000; stroke-width:4; stroke-opacity:1; fill:none\" points=\"\n",
       "  1102.95,1357.25 1102.95,1388.71 1148.76,1388.71 1148.76,1357.25 1102.95,1357.25 \n",
       "  \"/>\n",
       "<path clip-path=\"url(#clip6902)\" d=\"\n",
       "M1160.21 1368.38 L1160.21 1388.71 L1206.02 1388.71 L1206.02 1368.38 L1160.21 1368.38 L1160.21 1368.38  Z\n",
       "  \" fill=\"#009af9\" fill-rule=\"evenodd\" fill-opacity=\"1\"/>\n",
       "<polyline clip-path=\"url(#clip6902)\" style=\"stroke:#000000; stroke-width:4; stroke-opacity:1; fill:none\" points=\"\n",
       "  1160.21,1368.38 1160.21,1388.71 1206.02,1388.71 1206.02,1368.38 1160.21,1368.38 \n",
       "  \"/>\n",
       "<path clip-path=\"url(#clip6902)\" d=\"\n",
       "M1217.47 1374.19 L1217.47 1388.71 L1263.28 1388.71 L1263.28 1374.19 L1217.47 1374.19 L1217.47 1374.19  Z\n",
       "  \" fill=\"#009af9\" fill-rule=\"evenodd\" fill-opacity=\"1\"/>\n",
       "<polyline clip-path=\"url(#clip6902)\" style=\"stroke:#000000; stroke-width:4; stroke-opacity:1; fill:none\" points=\"\n",
       "  1217.47,1374.19 1217.47,1388.71 1263.28,1388.71 1263.28,1374.19 1217.47,1374.19 \n",
       "  \"/>\n",
       "<path clip-path=\"url(#clip6902)\" d=\"\n",
       "M1274.73 1377.1 L1274.73 1388.71 L1320.54 1388.71 L1320.54 1377.1 L1274.73 1377.1 L1274.73 1377.1  Z\n",
       "  \" fill=\"#009af9\" fill-rule=\"evenodd\" fill-opacity=\"1\"/>\n",
       "<polyline clip-path=\"url(#clip6902)\" style=\"stroke:#000000; stroke-width:4; stroke-opacity:1; fill:none\" points=\"\n",
       "  1274.73,1377.1 1274.73,1388.71 1320.54,1388.71 1320.54,1377.1 1274.73,1377.1 \n",
       "  \"/>\n",
       "<path clip-path=\"url(#clip6902)\" d=\"\n",
       "M1331.99 1374.19 L1331.99 1388.71 L1377.8 1388.71 L1377.8 1374.19 L1331.99 1374.19 L1331.99 1374.19  Z\n",
       "  \" fill=\"#009af9\" fill-rule=\"evenodd\" fill-opacity=\"1\"/>\n",
       "<polyline clip-path=\"url(#clip6902)\" style=\"stroke:#000000; stroke-width:4; stroke-opacity:1; fill:none\" points=\"\n",
       "  1331.99,1374.19 1331.99,1388.71 1377.8,1388.71 1377.8,1374.19 1331.99,1374.19 \n",
       "  \"/>\n",
       "<path clip-path=\"url(#clip6902)\" d=\"\n",
       "M1389.25 1382.91 L1389.25 1388.71 L1435.06 1388.71 L1435.06 1382.91 L1389.25 1382.91 L1389.25 1382.91  Z\n",
       "  \" fill=\"#009af9\" fill-rule=\"evenodd\" fill-opacity=\"1\"/>\n",
       "<polyline clip-path=\"url(#clip6902)\" style=\"stroke:#000000; stroke-width:4; stroke-opacity:1; fill:none\" points=\"\n",
       "  1389.25,1382.91 1389.25,1388.71 1435.06,1388.71 1435.06,1382.91 1389.25,1382.91 \n",
       "  \"/>\n",
       "<path clip-path=\"url(#clip6902)\" d=\"\n",
       "M1446.51 1384.36 L1446.51 1388.71 L1492.32 1388.71 L1492.32 1384.36 L1446.51 1384.36 L1446.51 1384.36  Z\n",
       "  \" fill=\"#009af9\" fill-rule=\"evenodd\" fill-opacity=\"1\"/>\n",
       "<polyline clip-path=\"url(#clip6902)\" style=\"stroke:#000000; stroke-width:4; stroke-opacity:1; fill:none\" points=\"\n",
       "  1446.51,1384.36 1446.51,1388.71 1492.32,1388.71 1492.32,1384.36 1446.51,1384.36 \n",
       "  \"/>\n",
       "<path clip-path=\"url(#clip6902)\" d=\"\n",
       "M1503.77 1382.42 L1503.77 1388.71 L1549.58 1388.71 L1549.58 1382.42 L1503.77 1382.42 L1503.77 1382.42  Z\n",
       "  \" fill=\"#009af9\" fill-rule=\"evenodd\" fill-opacity=\"1\"/>\n",
       "<polyline clip-path=\"url(#clip6902)\" style=\"stroke:#000000; stroke-width:4; stroke-opacity:1; fill:none\" points=\"\n",
       "  1503.77,1382.42 1503.77,1388.71 1549.58,1388.71 1549.58,1382.42 1503.77,1382.42 \n",
       "  \"/>\n",
       "<path clip-path=\"url(#clip6902)\" d=\"\n",
       "M1561.03 1384.36 L1561.03 1388.71 L1606.84 1388.71 L1606.84 1384.36 L1561.03 1384.36 L1561.03 1384.36  Z\n",
       "  \" fill=\"#009af9\" fill-rule=\"evenodd\" fill-opacity=\"1\"/>\n",
       "<polyline clip-path=\"url(#clip6902)\" style=\"stroke:#000000; stroke-width:4; stroke-opacity:1; fill:none\" points=\"\n",
       "  1561.03,1384.36 1561.03,1388.71 1606.84,1388.71 1606.84,1384.36 1561.03,1384.36 \n",
       "  \"/>\n",
       "<path clip-path=\"url(#clip6902)\" d=\"\n",
       "M1618.29 1385.81 L1618.29 1388.71 L1664.1 1388.71 L1664.1 1385.81 L1618.29 1385.81 L1618.29 1385.81  Z\n",
       "  \" fill=\"#009af9\" fill-rule=\"evenodd\" fill-opacity=\"1\"/>\n",
       "<polyline clip-path=\"url(#clip6902)\" style=\"stroke:#000000; stroke-width:4; stroke-opacity:1; fill:none\" points=\"\n",
       "  1618.29,1385.81 1618.29,1388.71 1664.1,1388.71 1664.1,1385.81 1618.29,1385.81 \n",
       "  \"/>\n",
       "<path clip-path=\"url(#clip6902)\" d=\"\n",
       "M1675.55 1387.26 L1675.55 1388.71 L1721.36 1388.71 L1721.36 1387.26 L1675.55 1387.26 L1675.55 1387.26  Z\n",
       "  \" fill=\"#009af9\" fill-rule=\"evenodd\" fill-opacity=\"1\"/>\n",
       "<polyline clip-path=\"url(#clip6902)\" style=\"stroke:#000000; stroke-width:4; stroke-opacity:1; fill:none\" points=\"\n",
       "  1675.55,1387.26 1675.55,1388.71 1721.36,1388.71 1721.36,1387.26 1675.55,1387.26 \n",
       "  \"/>\n",
       "<path clip-path=\"url(#clip6902)\" d=\"\n",
       "M1732.81 1387.26 L1732.81 1388.71 L1778.61 1388.71 L1778.61 1387.26 L1732.81 1387.26 L1732.81 1387.26  Z\n",
       "  \" fill=\"#009af9\" fill-rule=\"evenodd\" fill-opacity=\"1\"/>\n",
       "<polyline clip-path=\"url(#clip6902)\" style=\"stroke:#000000; stroke-width:4; stroke-opacity:1; fill:none\" points=\"\n",
       "  1732.81,1387.26 1732.81,1388.71 1778.61,1388.71 1778.61,1387.26 1732.81,1387.26 \n",
       "  \"/>\n",
       "<path clip-path=\"url(#clip6902)\" d=\"\n",
       "M1790.07 1386.29 L1790.07 1388.71 L1835.87 1388.71 L1835.87 1386.29 L1790.07 1386.29 L1790.07 1386.29  Z\n",
       "  \" fill=\"#009af9\" fill-rule=\"evenodd\" fill-opacity=\"1\"/>\n",
       "<polyline clip-path=\"url(#clip6902)\" style=\"stroke:#000000; stroke-width:4; stroke-opacity:1; fill:none\" points=\"\n",
       "  1790.07,1386.29 1790.07,1388.71 1835.87,1388.71 1835.87,1386.29 1790.07,1386.29 \n",
       "  \"/>\n",
       "<path clip-path=\"url(#clip6902)\" d=\"\n",
       "M1847.33 1387.26 L1847.33 1388.71 L1893.13 1388.71 L1893.13 1387.26 L1847.33 1387.26 L1847.33 1387.26  Z\n",
       "  \" fill=\"#009af9\" fill-rule=\"evenodd\" fill-opacity=\"1\"/>\n",
       "<polyline clip-path=\"url(#clip6902)\" style=\"stroke:#000000; stroke-width:4; stroke-opacity:1; fill:none\" points=\"\n",
       "  1847.33,1387.26 1847.33,1388.71 1893.13,1388.71 1893.13,1387.26 1847.33,1387.26 \n",
       "  \"/>\n",
       "<path clip-path=\"url(#clip6902)\" d=\"\n",
       "M1904.58 1388.23 L1904.58 1388.71 L1950.39 1388.71 L1950.39 1388.23 L1904.58 1388.23 L1904.58 1388.23  Z\n",
       "  \" fill=\"#009af9\" fill-rule=\"evenodd\" fill-opacity=\"1\"/>\n",
       "<polyline clip-path=\"url(#clip6902)\" style=\"stroke:#000000; stroke-width:4; stroke-opacity:1; fill:none\" points=\"\n",
       "  1904.58,1388.23 1904.58,1388.71 1950.39,1388.71 1950.39,1388.23 1904.58,1388.23 \n",
       "  \"/>\n",
       "<path clip-path=\"url(#clip6902)\" d=\"\n",
       "M1961.84 1388.23 L1961.84 1388.71 L2007.65 1388.71 L2007.65 1388.23 L1961.84 1388.23 L1961.84 1388.23  Z\n",
       "  \" fill=\"#009af9\" fill-rule=\"evenodd\" fill-opacity=\"1\"/>\n",
       "<polyline clip-path=\"url(#clip6902)\" style=\"stroke:#000000; stroke-width:4; stroke-opacity:1; fill:none\" points=\"\n",
       "  1961.84,1388.23 1961.84,1388.71 2007.65,1388.71 2007.65,1388.23 1961.84,1388.23 \n",
       "  \"/>\n",
       "<path clip-path=\"url(#clip6902)\" d=\"\n",
       "M2190.88 1388.23 L2190.88 1388.71 L2236.69 1388.71 L2236.69 1388.23 L2190.88 1388.23 L2190.88 1388.23  Z\n",
       "  \" fill=\"#009af9\" fill-rule=\"evenodd\" fill-opacity=\"1\"/>\n",
       "<polyline clip-path=\"url(#clip6902)\" style=\"stroke:#000000; stroke-width:4; stroke-opacity:1; fill:none\" points=\"\n",
       "  2190.88,1388.23 2190.88,1388.71 2236.69,1388.71 2236.69,1388.23 2190.88,1388.23 \n",
       "  \"/>\n",
       "<polyline clip-path=\"url(#clip6902)\" style=\"stroke:#e26f46; stroke-width:4; stroke-opacity:1; fill:none\" stroke-dasharray=\"16, 10\" points=\"\n",
       "  552.967,2729.56 552.967,-1182.27 \n",
       "  \"/>\n",
       "<path clip-path=\"url(#clip6900)\" d=\"\n",
       "M1826.71 326.155 L2280.76 326.155 L2280.76 205.195 L1826.71 205.195  Z\n",
       "  \" fill=\"#ffffff\" fill-rule=\"evenodd\" fill-opacity=\"1\"/>\n",
       "<polyline clip-path=\"url(#clip6900)\" style=\"stroke:#000000; stroke-width:4; stroke-opacity:1; fill:none\" points=\"\n",
       "  1826.71,326.155 2280.76,326.155 2280.76,205.195 1826.71,205.195 1826.71,326.155 \n",
       "  \"/>\n",
       "<polyline clip-path=\"url(#clip6900)\" style=\"stroke:#e26f46; stroke-width:4; stroke-opacity:1; fill:none\" stroke-dasharray=\"16, 10\" points=\"\n",
       "  1850.71,265.675 1994.71,265.675 \n",
       "  \"/>\n",
       "<g clip-path=\"url(#clip6900)\">\n",
       "<text style=\"fill:#000000; fill-opacity:1; font-family:Arial,Helvetica Neue,Helvetica,sans-serif; font-size:48px; text-anchor:start;\" transform=\"rotate(0, 2018.71, 283.175)\" x=\"2018.71\" y=\"283.175\">tau_mean</text>\n",
       "</g>\n",
       "</svg>\n"
      ]
     },
     "execution_count": 17,
     "metadata": {},
     "output_type": "execute_result"
    }
   ],
   "source": [
    "function calc_mean_tau(cur_distribution) \n",
    "  mean_tau = 0.0\n",
    "\n",
    "  for (cur_tau, cur_prob) in zip(cur_distribution...)\n",
    "    mean_tau += cur_prob * cur_tau\n",
    "  end\n",
    "\n",
    "  return mean_tau\n",
    "  \n",
    "end\n",
    "\n",
    "cur_mean_tau = calc_mean_tau(default_distribution)\n",
    "println(\"mean recovery is: ~\" * string(Int(round(cur_mean_tau))) * \" days\\n\")\n",
    "\n",
    "dist_plot(default_distribution)\n",
    "vline!([cur_mean_tau], ls=:dash, label=\"tau_mean\")\n"
   ]
  },
  {
   "cell_type": "markdown",
   "metadata": {},
   "source": [
    "\n",
    "### 6. What shape does the distribution seem to have? Can you verify that by using one or more log scales?\n"
   ]
  },
  {
   "cell_type": "markdown",
   "metadata": {},
   "source": [
    "#### A: The plot appears to be a [geometric distribution](https://en.wikipedia.org/wiki/Geometric_distribution) \n",
    "\n",
    "// the discrete analogue of the exponential distribution"
   ]
  },
  {
   "cell_type": "code",
   "execution_count": 18,
   "metadata": {
    "scrolled": false
   },
   "outputs": [
    {
     "data": {
      "image/svg+xml": [
       "<?xml version=\"1.0\" encoding=\"utf-8\"?>\n",
       "<svg xmlns=\"http://www.w3.org/2000/svg\" xmlns:xlink=\"http://www.w3.org/1999/xlink\" width=\"600\" height=\"400\" viewBox=\"0 0 2400 1600\">\n",
       "<defs>\n",
       "  <clipPath id=\"clip7300\">\n",
       "    <rect x=\"0\" y=\"0\" width=\"2400\" height=\"1600\"/>\n",
       "  </clipPath>\n",
       "</defs>\n",
       "<path clip-path=\"url(#clip7300)\" d=\"\n",
       "M0 1600 L2400 1600 L2400 0 L0 0  Z\n",
       "  \" fill=\"#ffffff\" fill-rule=\"evenodd\" fill-opacity=\"1\"/>\n",
       "<defs>\n",
       "  <clipPath id=\"clip7301\">\n",
       "    <rect x=\"480\" y=\"0\" width=\"1681\" height=\"1600\"/>\n",
       "  </clipPath>\n",
       "</defs>\n",
       "<path clip-path=\"url(#clip7300)\" d=\"\n",
       "M242.516 1425.62 L2352.76 1425.62 L2352.76 121.675 L242.516 121.675  Z\n",
       "  \" fill=\"#ffffff\" fill-rule=\"evenodd\" fill-opacity=\"1\"/>\n",
       "<defs>\n",
       "  <clipPath id=\"clip7302\">\n",
       "    <rect x=\"242\" y=\"121\" width=\"2111\" height=\"1305\"/>\n",
       "  </clipPath>\n",
       "</defs>\n",
       "<polyline clip-path=\"url(#clip7302)\" style=\"stroke:#000000; stroke-width:2; stroke-opacity:0.1; fill:none\" points=\"\n",
       "  302.24,1425.62 302.24,121.675 \n",
       "  \"/>\n",
       "<polyline clip-path=\"url(#clip7302)\" style=\"stroke:#000000; stroke-width:2; stroke-opacity:0.1; fill:none\" points=\"\n",
       "  957.747,1425.62 957.747,121.675 \n",
       "  \"/>\n",
       "<polyline clip-path=\"url(#clip7302)\" style=\"stroke:#000000; stroke-width:2; stroke-opacity:0.1; fill:none\" points=\"\n",
       "  1613.25,1425.62 1613.25,121.675 \n",
       "  \"/>\n",
       "<polyline clip-path=\"url(#clip7302)\" style=\"stroke:#000000; stroke-width:2; stroke-opacity:0.1; fill:none\" points=\"\n",
       "  2268.76,1425.62 2268.76,121.675 \n",
       "  \"/>\n",
       "<polyline clip-path=\"url(#clip7302)\" style=\"stroke:#000000; stroke-width:2; stroke-opacity:0.1; fill:none\" points=\"\n",
       "  242.516,1389.2 2352.76,1389.2 \n",
       "  \"/>\n",
       "<polyline clip-path=\"url(#clip7302)\" style=\"stroke:#000000; stroke-width:2; stroke-opacity:0.1; fill:none\" points=\"\n",
       "  242.516,1147.05 2352.76,1147.05 \n",
       "  \"/>\n",
       "<polyline clip-path=\"url(#clip7302)\" style=\"stroke:#000000; stroke-width:2; stroke-opacity:0.1; fill:none\" points=\"\n",
       "  242.516,904.894 2352.76,904.894 \n",
       "  \"/>\n",
       "<polyline clip-path=\"url(#clip7302)\" style=\"stroke:#000000; stroke-width:2; stroke-opacity:0.1; fill:none\" points=\"\n",
       "  242.516,662.741 2352.76,662.741 \n",
       "  \"/>\n",
       "<polyline clip-path=\"url(#clip7302)\" style=\"stroke:#000000; stroke-width:2; stroke-opacity:0.1; fill:none\" points=\"\n",
       "  242.516,420.588 2352.76,420.588 \n",
       "  \"/>\n",
       "<polyline clip-path=\"url(#clip7302)\" style=\"stroke:#000000; stroke-width:2; stroke-opacity:0.1; fill:none\" points=\"\n",
       "  242.516,178.436 2352.76,178.436 \n",
       "  \"/>\n",
       "<polyline clip-path=\"url(#clip7300)\" style=\"stroke:#000000; stroke-width:4; stroke-opacity:1; fill:none\" points=\"\n",
       "  242.516,1425.62 2352.76,1425.62 \n",
       "  \"/>\n",
       "<polyline clip-path=\"url(#clip7300)\" style=\"stroke:#000000; stroke-width:4; stroke-opacity:1; fill:none\" points=\"\n",
       "  242.516,1425.62 242.516,121.675 \n",
       "  \"/>\n",
       "<polyline clip-path=\"url(#clip7300)\" style=\"stroke:#000000; stroke-width:4; stroke-opacity:1; fill:none\" points=\"\n",
       "  302.24,1425.62 302.24,1409.97 \n",
       "  \"/>\n",
       "<polyline clip-path=\"url(#clip7300)\" style=\"stroke:#000000; stroke-width:4; stroke-opacity:1; fill:none\" points=\"\n",
       "  957.747,1425.62 957.747,1409.97 \n",
       "  \"/>\n",
       "<polyline clip-path=\"url(#clip7300)\" style=\"stroke:#000000; stroke-width:4; stroke-opacity:1; fill:none\" points=\"\n",
       "  1613.25,1425.62 1613.25,1409.97 \n",
       "  \"/>\n",
       "<polyline clip-path=\"url(#clip7300)\" style=\"stroke:#000000; stroke-width:4; stroke-opacity:1; fill:none\" points=\"\n",
       "  2268.76,1425.62 2268.76,1409.97 \n",
       "  \"/>\n",
       "<polyline clip-path=\"url(#clip7300)\" style=\"stroke:#000000; stroke-width:4; stroke-opacity:1; fill:none\" points=\"\n",
       "  242.516,1389.2 267.839,1389.2 \n",
       "  \"/>\n",
       "<polyline clip-path=\"url(#clip7300)\" style=\"stroke:#000000; stroke-width:4; stroke-opacity:1; fill:none\" points=\"\n",
       "  242.516,1147.05 267.839,1147.05 \n",
       "  \"/>\n",
       "<polyline clip-path=\"url(#clip7300)\" style=\"stroke:#000000; stroke-width:4; stroke-opacity:1; fill:none\" points=\"\n",
       "  242.516,904.894 267.839,904.894 \n",
       "  \"/>\n",
       "<polyline clip-path=\"url(#clip7300)\" style=\"stroke:#000000; stroke-width:4; stroke-opacity:1; fill:none\" points=\"\n",
       "  242.516,662.741 267.839,662.741 \n",
       "  \"/>\n",
       "<polyline clip-path=\"url(#clip7300)\" style=\"stroke:#000000; stroke-width:4; stroke-opacity:1; fill:none\" points=\"\n",
       "  242.516,420.588 267.839,420.588 \n",
       "  \"/>\n",
       "<polyline clip-path=\"url(#clip7300)\" style=\"stroke:#000000; stroke-width:4; stroke-opacity:1; fill:none\" points=\"\n",
       "  242.516,178.436 267.839,178.436 \n",
       "  \"/>\n",
       "<g clip-path=\"url(#clip7300)\">\n",
       "<text style=\"fill:#000000; fill-opacity:1; font-family:Arial,Helvetica Neue,Helvetica,sans-serif; font-size:48px; text-anchor:start;\" transform=\"rotate(0, 248.297, 1500.63)\" x=\"248.297\" y=\"1500.63\">10</text>\n",
       "</g>\n",
       "<g clip-path=\"url(#clip7300)\">\n",
       "<text style=\"fill:#000000; fill-opacity:1; font-family:Arial,Helvetica Neue,Helvetica,sans-serif; font-size:38px; text-anchor:start;\" transform=\"rotate(0, 301.822, 1473.22)\" x=\"301.822\" y=\"1473.22\">0.0</text>\n",
       "</g>\n",
       "<g clip-path=\"url(#clip7300)\">\n",
       "<text style=\"fill:#000000; fill-opacity:1; font-family:Arial,Helvetica Neue,Helvetica,sans-serif; font-size:48px; text-anchor:start;\" transform=\"rotate(0, 903.804, 1500.63)\" x=\"903.804\" y=\"1500.63\">10</text>\n",
       "</g>\n",
       "<g clip-path=\"url(#clip7300)\">\n",
       "<text style=\"fill:#000000; fill-opacity:1; font-family:Arial,Helvetica Neue,Helvetica,sans-serif; font-size:38px; text-anchor:start;\" transform=\"rotate(0, 957.329, 1473.22)\" x=\"957.329\" y=\"1473.22\">0.5</text>\n",
       "</g>\n",
       "<g clip-path=\"url(#clip7300)\">\n",
       "<text style=\"fill:#000000; fill-opacity:1; font-family:Arial,Helvetica Neue,Helvetica,sans-serif; font-size:48px; text-anchor:start;\" transform=\"rotate(0, 1559.31, 1500.63)\" x=\"1559.31\" y=\"1500.63\">10</text>\n",
       "</g>\n",
       "<g clip-path=\"url(#clip7300)\">\n",
       "<text style=\"fill:#000000; fill-opacity:1; font-family:Arial,Helvetica Neue,Helvetica,sans-serif; font-size:38px; text-anchor:start;\" transform=\"rotate(0, 1612.84, 1473.22)\" x=\"1612.84\" y=\"1473.22\">1.0</text>\n",
       "</g>\n",
       "<g clip-path=\"url(#clip7300)\">\n",
       "<text style=\"fill:#000000; fill-opacity:1; font-family:Arial,Helvetica Neue,Helvetica,sans-serif; font-size:48px; text-anchor:start;\" transform=\"rotate(0, 2214.82, 1500.63)\" x=\"2214.82\" y=\"1500.63\">10</text>\n",
       "</g>\n",
       "<g clip-path=\"url(#clip7300)\">\n",
       "<text style=\"fill:#000000; fill-opacity:1; font-family:Arial,Helvetica Neue,Helvetica,sans-serif; font-size:38px; text-anchor:start;\" transform=\"rotate(0, 2268.34, 1473.22)\" x=\"2268.34\" y=\"1473.22\">1.5</text>\n",
       "</g>\n",
       "<g clip-path=\"url(#clip7300)\">\n",
       "<text style=\"fill:#000000; fill-opacity:1; font-family:Arial,Helvetica Neue,Helvetica,sans-serif; font-size:48px; text-anchor:end;\" transform=\"rotate(0, 218.516, 1406.7)\" x=\"218.516\" y=\"1406.7\">0.00</text>\n",
       "</g>\n",
       "<g clip-path=\"url(#clip7300)\">\n",
       "<text style=\"fill:#000000; fill-opacity:1; font-family:Arial,Helvetica Neue,Helvetica,sans-serif; font-size:48px; text-anchor:end;\" transform=\"rotate(0, 218.516, 1164.55)\" x=\"218.516\" y=\"1164.55\">0.05</text>\n",
       "</g>\n",
       "<g clip-path=\"url(#clip7300)\">\n",
       "<text style=\"fill:#000000; fill-opacity:1; font-family:Arial,Helvetica Neue,Helvetica,sans-serif; font-size:48px; text-anchor:end;\" transform=\"rotate(0, 218.516, 922.394)\" x=\"218.516\" y=\"922.394\">0.10</text>\n",
       "</g>\n",
       "<g clip-path=\"url(#clip7300)\">\n",
       "<text style=\"fill:#000000; fill-opacity:1; font-family:Arial,Helvetica Neue,Helvetica,sans-serif; font-size:48px; text-anchor:end;\" transform=\"rotate(0, 218.516, 680.241)\" x=\"218.516\" y=\"680.241\">0.15</text>\n",
       "</g>\n",
       "<g clip-path=\"url(#clip7300)\">\n",
       "<text style=\"fill:#000000; fill-opacity:1; font-family:Arial,Helvetica Neue,Helvetica,sans-serif; font-size:48px; text-anchor:end;\" transform=\"rotate(0, 218.516, 438.088)\" x=\"218.516\" y=\"438.088\">0.20</text>\n",
       "</g>\n",
       "<g clip-path=\"url(#clip7300)\">\n",
       "<text style=\"fill:#000000; fill-opacity:1; font-family:Arial,Helvetica Neue,Helvetica,sans-serif; font-size:48px; text-anchor:end;\" transform=\"rotate(0, 218.516, 195.936)\" x=\"218.516\" y=\"195.936\">0.25</text>\n",
       "</g>\n",
       "<g clip-path=\"url(#clip7300)\">\n",
       "<text style=\"fill:#000000; fill-opacity:1; font-family:Arial,Helvetica Neue,Helvetica,sans-serif; font-size:84px; text-anchor:middle;\" transform=\"rotate(0, 1297.64, 73.2)\" x=\"1297.64\" y=\"73.2\">Geometric Distribution</text>\n",
       "</g>\n",
       "<g clip-path=\"url(#clip7300)\">\n",
       "<text style=\"fill:#000000; fill-opacity:1; font-family:Arial,Helvetica Neue,Helvetica,sans-serif; font-size:66px; text-anchor:middle;\" transform=\"rotate(0, 1297.64, 1559.48)\" x=\"1297.64\" y=\"1559.48\">tau</text>\n",
       "</g>\n",
       "<g clip-path=\"url(#clip7300)\">\n",
       "<text style=\"fill:#000000; fill-opacity:1; font-family:Arial,Helvetica Neue,Helvetica,sans-serif; font-size:66px; text-anchor:middle;\" transform=\"rotate(-90, 89.2861, 773.647)\" x=\"89.2861\" y=\"773.647\">p</text>\n",
       "</g>\n",
       "<polyline clip-path=\"url(#clip7302)\" style=\"stroke:#009af9; stroke-width:4; stroke-opacity:1; fill:none\" points=\"\n",
       "  302.24,158.579 696.895,474.831 927.752,710.687 1091.55,880.194 1218.6,1009.02 1322.41,1102.49 1410.17,1181.92 1486.2,1240.03 1553.26,1276.84 1613.25,1297.67 \n",
       "  1667.52,1318.97 1717.06,1341.74 1762.63,1348.03 1804.83,1357.72 1844.11,1368.86 1880.86,1374.67 1915.38,1377.58 1947.92,1374.67 1978.7,1383.39 2007.91,1384.84 \n",
       "  2035.69,1382.9 2062.17,1384.84 2087.48,1386.29 2111.72,1387.75 2134.96,1387.75 2157.29,1386.78 2178.78,1387.75 2199.48,1388.71 2219.46,1388.71 2293.03,1388.71 \n",
       "  \n",
       "  \"/>\n",
       "</svg>\n"
      ]
     },
     "execution_count": 18,
     "metadata": {},
     "output_type": "execute_result"
    }
   ],
   "source": [
    "plot(\n",
    "  default_distribution, title=\"Geometric Distribution\", \n",
    "  xlabel=\"tau\", ylabel=\"p\", label=\"\",\n",
    "  xscale=:log10\n",
    ")\n"
   ]
  },
  {
   "cell_type": "markdown",
   "metadata": {},
   "source": [
    "\n",
    "### 7. Write an interactive visualization that repeats [4] for $p$ varying between $0$ and $1$ and $N$ between $0$ and $100,000$.\n"
   ]
  },
  {
   "cell_type": "code",
   "execution_count": 19,
   "metadata": {},
   "outputs": [
    {
     "data": {
      "text/plain": [
       "make_recovery_plot (generic function with 1 method)"
      ]
     },
     "execution_count": 19,
     "metadata": {},
     "output_type": "execute_result"
    }
   ],
   "source": [
    "function make_recovery_plot(p, N)\n",
    "  \n",
    "  cur_experiment = experiment(p, N)\n",
    "  cur_distribution = probability_distribution(cur_experiment)\n",
    "\n",
    "  cur_mean_tau = calc_mean_tau(cur_distribution)\n",
    "\n",
    "  dist_plot(cur_distribution)\n",
    "  vline!([cur_mean_tau], ls=:dash, label=\"tau_mean\")\n",
    "\n",
    "end"
   ]
  },
  {
   "cell_type": "code",
   "execution_count": 20,
   "metadata": {},
   "outputs": [
    {
     "data": {
      "text/html": [
       "<script>\n",
       "// Immediately-invoked-function-expression to avoid global variables.\n",
       "(function() {\n",
       "    var warning_div = document.getElementById(\"webio-warning-10720448119153840883\");\n",
       "    var hide = function () {\n",
       "        var script = document.getElementById(\"webio-setup-6821059649421147054\");\n",
       "        var parent = script && script.parentElement;\n",
       "        var grandparent = parent && parent.parentElement;\n",
       "        if (grandparent) {\n",
       "            grandparent.style.display = \"none\";\n",
       "        }\n",
       "        warning_div.style.display = \"none\";\n",
       "    };\n",
       "    if (typeof Jupyter !== \"undefined\") {\n",
       "        console.log(\"WebIO detected Jupyter notebook environment.\");\n",
       "        // Jupyter notebook.\n",
       "        var extensions = (\n",
       "            Jupyter\n",
       "            && Jupyter.notebook.config.data\n",
       "            && Jupyter.notebook.config.data.load_extensions\n",
       "        );\n",
       "        if (extensions && extensions[\"webio-jupyter-notebook\"]) {\n",
       "            // Extension already loaded.\n",
       "            console.log(\"Jupyter WebIO nbextension detected; not loading ad-hoc.\");\n",
       "            hide();\n",
       "            return;\n",
       "        }\n",
       "    } else if (window.location.pathname.includes(\"/lab\")) {\n",
       "        // Guessing JupyterLa\n",
       "        console.log(\"Jupyter Lab detected; make sure the @webio/jupyter-lab-provider labextension is installed.\");\n",
       "        hide();\n",
       "        return;\n",
       "    }\n",
       "})();\n",
       "\n",
       "</script>\n",
       "<p\n",
       "    id=\"webio-warning-10720448119153840883\"\n",
       "    class=\"output_text output_stderr\"\n",
       "    style=\"padding: 1em; font-weight: bold;\"\n",
       ">\n",
       "    Unable to load WebIO. Please make sure WebIO works for your Jupyter client.\n",
       "    For troubleshooting, please see <a href=\"https://juliagizmos.github.io/WebIO.jl/latest/providers/ijulia/\">\n",
       "    the WebIO/IJulia documentation</a>.\n",
       "    <!-- TODO: link to installation docs. -->\n",
       "</p>\n"
      ],
      "text/plain": [
       "HTML{String}(\"<script>\\n// Immediately-invoked-function-expression to avoid global variables.\\n(function() {\\n    var warning_div = document.getElementById(\\\"webio-warning-10720448119153840883\\\");\\n    var hide = function () {\\n        var script = document.getElementById(\\\"webio-setup-6821059649421147054\\\");\\n        var parent = script && script.parentElement;\\n        var grandparent = parent && parent.parentElement;\\n        if (grandparent) {\\n            grandparent.style.display = \\\"none\\\";\\n        }\\n        warning_div.style.display = \\\"none\\\";\\n    };\\n    if (typeof Jupyter !== \\\"undefined\\\") {\\n        console.log(\\\"WebIO detected Jupyter notebook environment.\\\");\\n        // Jupyter notebook.\\n        var extensions = (\\n            Jupyter\\n            && Jupyter.notebook.config.data\\n            && Jupyter.notebook.config.data.load_extensions\\n        );\\n        if (extensions && extensions[\\\"webio-jupyter-notebook\\\"]) {\\n            // Extension already loaded.\\n            console.log(\\\"Jupyter WebIO nbextension detected; not loading ad-hoc.\\\");\\n            hide();\\n            return;\\n        }\\n    } else if (window.location.pathname.includes(\\\"/lab\\\")) {\\n        // Guessing JupyterLa\\n        console.log(\\\"Jupyter Lab detected; make sure the @webio/jupyter-lab-provider labextension is installed.\\\");\\n        hide();\\n        return;\\n    }\\n})();\\n\\n</script>\\n<p\\n    id=\\\"webio-warning-10720448119153840883\\\"\\n    class=\\\"output_text output_stderr\\\"\\n    style=\\\"padding: 1em; font-weight: bold;\\\"\\n>\\n    Unable to load WebIO. Please make sure WebIO works for your Jupyter client.\\n    For troubleshooting, please see <a href=\\\"https://juliagizmos.github.io/WebIO.jl/latest/providers/ijulia/\\\">\\n    the WebIO/IJulia documentation</a>.\\n    <!-- TODO: link to installation docs. -->\\n</p>\\n\")"
      ]
     },
     "metadata": {},
     "output_type": "display_data"
    },
    {
     "data": {
      "application/vnd.webio.node+json": {
       "children": [
        {
         "children": [
          {
           "children": [
            {
             "children": [
              {
               "children": [
                {
                 "children": [
                  "p"
                 ],
                 "instanceArgs": {
                  "namespace": "html",
                  "tag": "label"
                 },
                 "nodeType": "DOM",
                 "props": {
                  "className": "interact ",
                  "style": {
                   "padding": "5px 10px 0px 10px"
                  }
                 },
                 "type": "node"
                }
               ],
               "instanceArgs": {
                "namespace": "html",
                "tag": "div"
               },
               "nodeType": "DOM",
               "props": {
                "className": "interact-flex-row-left"
               },
               "type": "node"
              },
              {
               "children": [
                {
                 "children": [],
                 "instanceArgs": {
                  "namespace": "html",
                  "tag": "input"
                 },
                 "nodeType": "DOM",
                 "props": {
                  "attributes": {
                   "data-bind": "numericValue: index, valueUpdate: 'input', event: {change: function (){this.changes(this.changes()+1)}}",
                   "orient": "horizontal",
                   "type": "range"
                  },
                  "className": "slider slider is-fullwidth",
                  "max": 10,
                  "min": 1,
                  "step": 1,
                  "style": {}
                 },
                 "type": "node"
                }
               ],
               "instanceArgs": {
                "namespace": "html",
                "tag": "div"
               },
               "nodeType": "DOM",
               "props": {
                "className": "interact-flex-row-center"
               },
               "type": "node"
              },
              {
               "children": [
                {
                 "children": [],
                 "instanceArgs": {
                  "namespace": "html",
                  "tag": "p"
                 },
                 "nodeType": "DOM",
                 "props": {
                  "attributes": {
                   "data-bind": "text: formatted_val"
                  }
                 },
                 "type": "node"
                }
               ],
               "instanceArgs": {
                "namespace": "html",
                "tag": "div"
               },
               "nodeType": "DOM",
               "props": {
                "className": "interact-flex-row-right"
               },
               "type": "node"
              }
             ],
             "instanceArgs": {
              "namespace": "html",
              "tag": "div"
             },
             "nodeType": "DOM",
             "props": {
              "className": "interact-flex-row interact-widget"
             },
             "type": "node"
            }
           ],
           "instanceArgs": {
            "handlers": {
             "changes": [
              "(function (val){return (val!=this.model[\"changes\"]()) ? (this.valueFromJulia[\"changes\"]=true, this.model[\"changes\"](val)) : undefined})"
             ],
             "index": [
              "(function (val){return (val!=this.model[\"index\"]()) ? (this.valueFromJulia[\"index\"]=true, this.model[\"index\"](val)) : undefined})"
             ]
            },
            "id": "12720328278743025694",
            "imports": {
             "data": [
              {
               "name": "knockout",
               "type": "js",
               "url": "/assetserver/847903f5df732148b510ba93542242ba69c4346c-knockout.js"
              },
              {
               "name": "knockout_punches",
               "type": "js",
               "url": "/assetserver/c0b325de111f2589153d52b7b74e82babec63146-knockout_punches.js"
              },
              {
               "name": null,
               "type": "js",
               "url": "/assetserver/51952c19a9a6ce93cd17825f07a8fe28d322efde-all.js"
              },
              {
               "name": null,
               "type": "css",
               "url": "/assetserver/104d64c7b780621be0c8d84ac84d7a5a84de4524-style.css"
              },
              {
               "name": null,
               "type": "css",
               "url": "/assetserver/9e3206e22736e731411e8095c384ec75a742e5c8-bulma_confined.min.css"
              }
             ],
             "type": "async_block"
            },
            "mount_callbacks": [
             "function () {\n    var handler = (function (ko, koPunches) {\n    ko.punches.enableAll();\n    ko.bindingHandlers.numericValue = {\n        init: function(element, valueAccessor, allBindings, data, context) {\n            var stringified = ko.observable(ko.unwrap(valueAccessor()));\n            stringified.subscribe(function(value) {\n                var val = parseFloat(value);\n                if (!isNaN(val)) {\n                    valueAccessor()(val);\n                }\n            });\n            valueAccessor().subscribe(function(value) {\n                var str = JSON.stringify(value);\n                if ((str == \"0\") && ([\"-0\", \"-0.\"].indexOf(stringified()) >= 0))\n                     return;\n                 if ([\"null\", \"\"].indexOf(str) >= 0)\n                     return;\n                stringified(str);\n            });\n            ko.applyBindingsToNode(\n                element,\n                {\n                    value: stringified,\n                    valueUpdate: allBindings.get('valueUpdate'),\n                },\n                context,\n            );\n        }\n    };\n    var json_data = {\"formatted_vals\":[\"0.1\",\"0.2\",\"0.3\",\"0.4\",\"0.5\",\"0.6\",\"0.7\",\"0.8\",\"0.9\",\"1.0\"],\"changes\":WebIO.getval({\"name\":\"changes\",\"scope\":\"12720328278743025694\",\"id\":\"16196140803580144312\",\"type\":\"observable\"}),\"index\":WebIO.getval({\"name\":\"index\",\"scope\":\"12720328278743025694\",\"id\":\"15714314209357883368\",\"type\":\"observable\"})};\n    var self = this;\n    function AppViewModel() {\n        for (var key in json_data) {\n            var el = json_data[key];\n            this[key] = Array.isArray(el) ? ko.observableArray(el) : ko.observable(el);\n        }\n        \n        [this[\"formatted_val\"]=ko.computed(    function(){\n        return this.formatted_vals()[parseInt(this.index())-(1)];\n    }\n,this)]\n        [this[\"changes\"].subscribe((function (val){!(this.valueFromJulia[\"changes\"]) ? (WebIO.setval({\"name\":\"changes\",\"scope\":\"12720328278743025694\",\"id\":\"16196140803580144312\",\"type\":\"observable\"},val)) : undefined; return this.valueFromJulia[\"changes\"]=false}),self),this[\"index\"].subscribe((function (val){!(this.valueFromJulia[\"index\"]) ? (WebIO.setval({\"name\":\"index\",\"scope\":\"12720328278743025694\",\"id\":\"15714314209357883368\",\"type\":\"observable\"},val)) : undefined; return this.valueFromJulia[\"index\"]=false}),self)]\n        \n    }\n    self.model = new AppViewModel();\n    self.valueFromJulia = {};\n    for (var key in json_data) {\n        self.valueFromJulia[key] = false;\n    }\n    ko.applyBindings(self.model, self.dom);\n}\n);\n    (WebIO.importBlock({\"data\":[{\"name\":\"knockout\",\"type\":\"js\",\"url\":\"/assetserver/847903f5df732148b510ba93542242ba69c4346c-knockout.js\"},{\"name\":\"knockout_punches\",\"type\":\"js\",\"url\":\"/assetserver/c0b325de111f2589153d52b7b74e82babec63146-knockout_punches.js\"}],\"type\":\"async_block\"})).then((imports) => handler.apply(this, imports));\n}\n"
            ],
            "observables": {
             "changes": {
              "id": "16196140803580144312",
              "sync": false,
              "value": 0
             },
             "index": {
              "id": "15714314209357883368",
              "sync": true,
              "value": 5
             }
            },
            "systemjs_options": null
           },
           "nodeType": "Scope",
           "props": {},
           "type": "node"
          }
         ],
         "instanceArgs": {
          "namespace": "html",
          "tag": "div"
         },
         "nodeType": "DOM",
         "props": {
          "className": "field interact-widget"
         },
         "type": "node"
        },
        {
         "children": [
          {
           "children": [
            {
             "children": [
              {
               "children": [
                {
                 "children": [
                  "N"
                 ],
                 "instanceArgs": {
                  "namespace": "html",
                  "tag": "label"
                 },
                 "nodeType": "DOM",
                 "props": {
                  "className": "interact ",
                  "style": {
                   "padding": "5px 10px 0px 10px"
                  }
                 },
                 "type": "node"
                }
               ],
               "instanceArgs": {
                "namespace": "html",
                "tag": "div"
               },
               "nodeType": "DOM",
               "props": {
                "className": "interact-flex-row-left"
               },
               "type": "node"
              },
              {
               "children": [
                {
                 "children": [],
                 "instanceArgs": {
                  "namespace": "html",
                  "tag": "input"
                 },
                 "nodeType": "DOM",
                 "props": {
                  "attributes": {
                   "data-bind": "numericValue: index, valueUpdate: 'input', event: {change: function (){this.changes(this.changes()+1)}}",
                   "orient": "horizontal",
                   "type": "range"
                  },
                  "className": "slider slider is-fullwidth",
                  "max": 6,
                  "min": 1,
                  "step": 1,
                  "style": {}
                 },
                 "type": "node"
                }
               ],
               "instanceArgs": {
                "namespace": "html",
                "tag": "div"
               },
               "nodeType": "DOM",
               "props": {
                "className": "interact-flex-row-center"
               },
               "type": "node"
              },
              {
               "children": [
                {
                 "children": [],
                 "instanceArgs": {
                  "namespace": "html",
                  "tag": "p"
                 },
                 "nodeType": "DOM",
                 "props": {
                  "attributes": {
                   "data-bind": "text: formatted_val"
                  }
                 },
                 "type": "node"
                }
               ],
               "instanceArgs": {
                "namespace": "html",
                "tag": "div"
               },
               "nodeType": "DOM",
               "props": {
                "className": "interact-flex-row-right"
               },
               "type": "node"
              }
             ],
             "instanceArgs": {
              "namespace": "html",
              "tag": "div"
             },
             "nodeType": "DOM",
             "props": {
              "className": "interact-flex-row interact-widget"
             },
             "type": "node"
            }
           ],
           "instanceArgs": {
            "handlers": {
             "changes": [
              "(function (val){return (val!=this.model[\"changes\"]()) ? (this.valueFromJulia[\"changes\"]=true, this.model[\"changes\"](val)) : undefined})"
             ],
             "index": [
              "(function (val){return (val!=this.model[\"index\"]()) ? (this.valueFromJulia[\"index\"]=true, this.model[\"index\"](val)) : undefined})"
             ]
            },
            "id": "4941589005890875241",
            "imports": {
             "data": [
              {
               "name": "knockout",
               "type": "js",
               "url": "/assetserver/847903f5df732148b510ba93542242ba69c4346c-knockout.js"
              },
              {
               "name": "knockout_punches",
               "type": "js",
               "url": "/assetserver/c0b325de111f2589153d52b7b74e82babec63146-knockout_punches.js"
              },
              {
               "name": null,
               "type": "js",
               "url": "/assetserver/51952c19a9a6ce93cd17825f07a8fe28d322efde-all.js"
              },
              {
               "name": null,
               "type": "css",
               "url": "/assetserver/104d64c7b780621be0c8d84ac84d7a5a84de4524-style.css"
              },
              {
               "name": null,
               "type": "css",
               "url": "/assetserver/9e3206e22736e731411e8095c384ec75a742e5c8-bulma_confined.min.css"
              }
             ],
             "type": "async_block"
            },
            "mount_callbacks": [
             "function () {\n    var handler = (function (ko, koPunches) {\n    ko.punches.enableAll();\n    ko.bindingHandlers.numericValue = {\n        init: function(element, valueAccessor, allBindings, data, context) {\n            var stringified = ko.observable(ko.unwrap(valueAccessor()));\n            stringified.subscribe(function(value) {\n                var val = parseFloat(value);\n                if (!isNaN(val)) {\n                    valueAccessor()(val);\n                }\n            });\n            valueAccessor().subscribe(function(value) {\n                var str = JSON.stringify(value);\n                if ((str == \"0\") && ([\"-0\", \"-0.\"].indexOf(stringified()) >= 0))\n                     return;\n                 if ([\"null\", \"\"].indexOf(str) >= 0)\n                     return;\n                stringified(str);\n            });\n            ko.applyBindingsToNode(\n                element,\n                {\n                    value: stringified,\n                    valueUpdate: allBindings.get('valueUpdate'),\n                },\n                context,\n            );\n        }\n    };\n    var json_data = {\"formatted_vals\":[\"1\",\"10\",\"100\",\"1000\",\"10000\",\"100000\"],\"changes\":WebIO.getval({\"name\":\"changes\",\"scope\":\"4941589005890875241\",\"id\":\"753113630291340598\",\"type\":\"observable\"}),\"index\":WebIO.getval({\"name\":\"index\",\"scope\":\"4941589005890875241\",\"id\":\"3463905927171570092\",\"type\":\"observable\"})};\n    var self = this;\n    function AppViewModel() {\n        for (var key in json_data) {\n            var el = json_data[key];\n            this[key] = Array.isArray(el) ? ko.observableArray(el) : ko.observable(el);\n        }\n        \n        [this[\"formatted_val\"]=ko.computed(    function(){\n        return this.formatted_vals()[parseInt(this.index())-(1)];\n    }\n,this)]\n        [this[\"changes\"].subscribe((function (val){!(this.valueFromJulia[\"changes\"]) ? (WebIO.setval({\"name\":\"changes\",\"scope\":\"4941589005890875241\",\"id\":\"753113630291340598\",\"type\":\"observable\"},val)) : undefined; return this.valueFromJulia[\"changes\"]=false}),self),this[\"index\"].subscribe((function (val){!(this.valueFromJulia[\"index\"]) ? (WebIO.setval({\"name\":\"index\",\"scope\":\"4941589005890875241\",\"id\":\"3463905927171570092\",\"type\":\"observable\"},val)) : undefined; return this.valueFromJulia[\"index\"]=false}),self)]\n        \n    }\n    self.model = new AppViewModel();\n    self.valueFromJulia = {};\n    for (var key in json_data) {\n        self.valueFromJulia[key] = false;\n    }\n    ko.applyBindings(self.model, self.dom);\n}\n);\n    (WebIO.importBlock({\"data\":[{\"name\":\"knockout\",\"type\":\"js\",\"url\":\"/assetserver/847903f5df732148b510ba93542242ba69c4346c-knockout.js\"},{\"name\":\"knockout_punches\",\"type\":\"js\",\"url\":\"/assetserver/c0b325de111f2589153d52b7b74e82babec63146-knockout_punches.js\"}],\"type\":\"async_block\"})).then((imports) => handler.apply(this, imports));\n}\n"
            ],
            "observables": {
             "changes": {
              "id": "753113630291340598",
              "sync": false,
              "value": 0
             },
             "index": {
              "id": "3463905927171570092",
              "sync": true,
              "value": 3
             }
            },
            "systemjs_options": null
           },
           "nodeType": "Scope",
           "props": {},
           "type": "node"
          }
         ],
         "instanceArgs": {
          "namespace": "html",
          "tag": "div"
         },
         "nodeType": "DOM",
         "props": {
          "className": "field interact-widget"
         },
         "type": "node"
        },
        {
         "children": [
          {
           "children": [],
           "instanceArgs": {
            "id": "6945401075927075421",
            "name": "obs-node"
           },
           "nodeType": "ObservableNode",
           "props": {},
           "type": "node"
          }
         ],
         "instanceArgs": {
          "handlers": {},
          "id": "8461332476247607928",
          "imports": {
           "data": [],
           "type": "async_block"
          },
          "mount_callbacks": [],
          "observables": {
           "obs-node": {
            "id": "6945401075927075421",
            "sync": false,
            "value": {
             "children": [
              {
               "children": [],
               "instanceArgs": {
                "namespace": "html",
                "tag": "div"
               },
               "nodeType": "DOM",
               "props": {
                "setInnerHtml": "<?xml version=\"1.0\" encoding=\"utf-8\"?>\n<svg xmlns=\"http://www.w3.org/2000/svg\" xmlns:xlink=\"http://www.w3.org/1999/xlink\" width=\"600\" height=\"400\" viewBox=\"0 0 2400 1600\">\n<defs>\n  <clipPath id=\"clip8100\">\n    <rect x=\"0\" y=\"0\" width=\"2400\" height=\"1600\"/>\n  </clipPath>\n</defs>\n<path clip-path=\"url(#clip8100)\" d=\"\nM0 1600 L2400 1600 L2400 0 L0 0  Z\n  \" fill=\"#ffffff\" fill-rule=\"evenodd\" fill-opacity=\"1\"/>\n<defs>\n  <clipPath id=\"clip8101\">\n    <rect x=\"480\" y=\"0\" width=\"1681\" height=\"1600\"/>\n  </clipPath>\n</defs>\n<path clip-path=\"url(#clip8100)\" d=\"\nM215.754 1425.62 L2352.76 1425.62 L2352.76 121.675 L215.754 121.675  Z\n  \" fill=\"#ffffff\" fill-rule=\"evenodd\" fill-opacity=\"1\"/>\n<defs>\n  <clipPath id=\"clip8102\">\n    <rect x=\"215\" y=\"121\" width=\"2138\" height=\"1305\"/>\n  </clipPath>\n</defs>\n<polyline clip-path=\"url(#clip8102)\" style=\"stroke:#000000; stroke-width:2; stroke-opacity:0.1; fill:none\" points=\"\n  445.171,1425.62 445.171,121.675 \n  \"/>\n<polyline clip-path=\"url(#clip8102)\" style=\"stroke:#000000; stroke-width:2; stroke-opacity:0.1; fill:none\" points=\"\n  724.866,1425.62 724.866,121.675 \n  \"/>\n<polyline clip-path=\"url(#clip8102)\" style=\"stroke:#000000; stroke-width:2; stroke-opacity:0.1; fill:none\" points=\"\n  1004.56,1425.62 1004.56,121.675 \n  \"/>\n<polyline clip-path=\"url(#clip8102)\" style=\"stroke:#000000; stroke-width:2; stroke-opacity:0.1; fill:none\" points=\"\n  1284.25,1425.62 1284.25,121.675 \n  \"/>\n<polyline clip-path=\"url(#clip8102)\" style=\"stroke:#000000; stroke-width:2; stroke-opacity:0.1; fill:none\" points=\"\n  1563.95,1425.62 1563.95,121.675 \n  \"/>\n<polyline clip-path=\"url(#clip8102)\" style=\"stroke:#000000; stroke-width:2; stroke-opacity:0.1; fill:none\" points=\"\n  1843.64,1425.62 1843.64,121.675 \n  \"/>\n<polyline clip-path=\"url(#clip8102)\" style=\"stroke:#000000; stroke-width:2; stroke-opacity:0.1; fill:none\" points=\"\n  2123.34,1425.62 2123.34,121.675 \n  \"/>\n<polyline clip-path=\"url(#clip8102)\" style=\"stroke:#000000; stroke-width:2; stroke-opacity:0.1; fill:none\" points=\"\n  215.754,1388.71 2352.76,1388.71 \n  \"/>\n<polyline clip-path=\"url(#clip8102)\" style=\"stroke:#000000; stroke-width:2; stroke-opacity:0.1; fill:none\" points=\"\n  215.754,1126.98 2352.76,1126.98 \n  \"/>\n<polyline clip-path=\"url(#clip8102)\" style=\"stroke:#000000; stroke-width:2; stroke-opacity:0.1; fill:none\" points=\"\n  215.754,865.253 2352.76,865.253 \n  \"/>\n<polyline clip-path=\"url(#clip8102)\" style=\"stroke:#000000; stroke-width:2; stroke-opacity:0.1; fill:none\" points=\"\n  215.754,603.522 2352.76,603.522 \n  \"/>\n<polyline clip-path=\"url(#clip8102)\" style=\"stroke:#000000; stroke-width:2; stroke-opacity:0.1; fill:none\" points=\"\n  215.754,341.791 2352.76,341.791 \n  \"/>\n<polyline clip-path=\"url(#clip8100)\" style=\"stroke:#000000; stroke-width:4; stroke-opacity:1; fill:none\" points=\"\n  215.754,1425.62 2352.76,1425.62 \n  \"/>\n<polyline clip-path=\"url(#clip8100)\" style=\"stroke:#000000; stroke-width:4; stroke-opacity:1; fill:none\" points=\"\n  215.754,1425.62 215.754,121.675 \n  \"/>\n<polyline clip-path=\"url(#clip8100)\" style=\"stroke:#000000; stroke-width:4; stroke-opacity:1; fill:none\" points=\"\n  445.171,1425.62 445.171,1409.97 \n  \"/>\n<polyline clip-path=\"url(#clip8100)\" style=\"stroke:#000000; stroke-width:4; stroke-opacity:1; fill:none\" points=\"\n  724.866,1425.62 724.866,1409.97 \n  \"/>\n<polyline clip-path=\"url(#clip8100)\" style=\"stroke:#000000; stroke-width:4; stroke-opacity:1; fill:none\" points=\"\n  1004.56,1425.62 1004.56,1409.97 \n  \"/>\n<polyline clip-path=\"url(#clip8100)\" style=\"stroke:#000000; stroke-width:4; stroke-opacity:1; fill:none\" points=\"\n  1284.25,1425.62 1284.25,1409.97 \n  \"/>\n<polyline clip-path=\"url(#clip8100)\" style=\"stroke:#000000; stroke-width:4; stroke-opacity:1; fill:none\" points=\"\n  1563.95,1425.62 1563.95,1409.97 \n  \"/>\n<polyline clip-path=\"url(#clip8100)\" style=\"stroke:#000000; stroke-width:4; stroke-opacity:1; fill:none\" points=\"\n  1843.64,1425.62 1843.64,1409.97 \n  \"/>\n<polyline clip-path=\"url(#clip8100)\" style=\"stroke:#000000; stroke-width:4; stroke-opacity:1; fill:none\" points=\"\n  2123.34,1425.62 2123.34,1409.97 \n  \"/>\n<polyline clip-path=\"url(#clip8100)\" style=\"stroke:#000000; stroke-width:4; stroke-opacity:1; fill:none\" points=\"\n  215.754,1388.71 241.398,1388.71 \n  \"/>\n<polyline clip-path=\"url(#clip8100)\" style=\"stroke:#000000; stroke-width:4; stroke-opacity:1; fill:none\" points=\"\n  215.754,1126.98 241.398,1126.98 \n  \"/>\n<polyline clip-path=\"url(#clip8100)\" style=\"stroke:#000000; stroke-width:4; stroke-opacity:1; fill:none\" points=\"\n  215.754,865.253 241.398,865.253 \n  \"/>\n<polyline clip-path=\"url(#clip8100)\" style=\"stroke:#000000; stroke-width:4; stroke-opacity:1; fill:none\" points=\"\n  215.754,603.522 241.398,603.522 \n  \"/>\n<polyline clip-path=\"url(#clip8100)\" style=\"stroke:#000000; stroke-width:4; stroke-opacity:1; fill:none\" points=\"\n  215.754,341.791 241.398,341.791 \n  \"/>\n<g clip-path=\"url(#clip8100)\">\n<text style=\"fill:#000000; fill-opacity:1; font-family:Arial,Helvetica Neue,Helvetica,sans-serif; font-size:48px; text-anchor:middle;\" transform=\"rotate(0, 445.171, 1479.62)\" x=\"445.171\" y=\"1479.62\">1</text>\n</g>\n<g clip-path=\"url(#clip8100)\">\n<text style=\"fill:#000000; fill-opacity:1; font-family:Arial,Helvetica Neue,Helvetica,sans-serif; font-size:48px; text-anchor:middle;\" transform=\"rotate(0, 724.866, 1479.62)\" x=\"724.866\" y=\"1479.62\">2</text>\n</g>\n<g clip-path=\"url(#clip8100)\">\n<text style=\"fill:#000000; fill-opacity:1; font-family:Arial,Helvetica Neue,Helvetica,sans-serif; font-size:48px; text-anchor:middle;\" transform=\"rotate(0, 1004.56, 1479.62)\" x=\"1004.56\" y=\"1479.62\">3</text>\n</g>\n<g clip-path=\"url(#clip8100)\">\n<text style=\"fill:#000000; fill-opacity:1; font-family:Arial,Helvetica Neue,Helvetica,sans-serif; font-size:48px; text-anchor:middle;\" transform=\"rotate(0, 1284.25, 1479.62)\" x=\"1284.25\" y=\"1479.62\">4</text>\n</g>\n<g clip-path=\"url(#clip8100)\">\n<text style=\"fill:#000000; fill-opacity:1; font-family:Arial,Helvetica Neue,Helvetica,sans-serif; font-size:48px; text-anchor:middle;\" transform=\"rotate(0, 1563.95, 1479.62)\" x=\"1563.95\" y=\"1479.62\">5</text>\n</g>\n<g clip-path=\"url(#clip8100)\">\n<text style=\"fill:#000000; fill-opacity:1; font-family:Arial,Helvetica Neue,Helvetica,sans-serif; font-size:48px; text-anchor:middle;\" transform=\"rotate(0, 1843.64, 1479.62)\" x=\"1843.64\" y=\"1479.62\">6</text>\n</g>\n<g clip-path=\"url(#clip8100)\">\n<text style=\"fill:#000000; fill-opacity:1; font-family:Arial,Helvetica Neue,Helvetica,sans-serif; font-size:48px; text-anchor:middle;\" transform=\"rotate(0, 2123.34, 1479.62)\" x=\"2123.34\" y=\"1479.62\">7</text>\n</g>\n<g clip-path=\"url(#clip8100)\">\n<text style=\"fill:#000000; fill-opacity:1; font-family:Arial,Helvetica Neue,Helvetica,sans-serif; font-size:48px; text-anchor:end;\" transform=\"rotate(0, 191.754, 1406.21)\" x=\"191.754\" y=\"1406.21\">0.0</text>\n</g>\n<g clip-path=\"url(#clip8100)\">\n<text style=\"fill:#000000; fill-opacity:1; font-family:Arial,Helvetica Neue,Helvetica,sans-serif; font-size:48px; text-anchor:end;\" transform=\"rotate(0, 191.754, 1144.48)\" x=\"191.754\" y=\"1144.48\">0.1</text>\n</g>\n<g clip-path=\"url(#clip8100)\">\n<text style=\"fill:#000000; fill-opacity:1; font-family:Arial,Helvetica Neue,Helvetica,sans-serif; font-size:48px; text-anchor:end;\" transform=\"rotate(0, 191.754, 882.753)\" x=\"191.754\" y=\"882.753\">0.2</text>\n</g>\n<g clip-path=\"url(#clip8100)\">\n<text style=\"fill:#000000; fill-opacity:1; font-family:Arial,Helvetica Neue,Helvetica,sans-serif; font-size:48px; text-anchor:end;\" transform=\"rotate(0, 191.754, 621.022)\" x=\"191.754\" y=\"621.022\">0.3</text>\n</g>\n<g clip-path=\"url(#clip8100)\">\n<text style=\"fill:#000000; fill-opacity:1; font-family:Arial,Helvetica Neue,Helvetica,sans-serif; font-size:48px; text-anchor:end;\" transform=\"rotate(0, 191.754, 359.291)\" x=\"191.754\" y=\"359.291\">0.4</text>\n</g>\n<g clip-path=\"url(#clip8100)\">\n<text style=\"fill:#000000; fill-opacity:1; font-family:Arial,Helvetica Neue,Helvetica,sans-serif; font-size:84px; text-anchor:middle;\" transform=\"rotate(0, 1284.25, 73.2)\" x=\"1284.25\" y=\"73.2\">Recovery Time</text>\n</g>\n<g clip-path=\"url(#clip8100)\">\n<text style=\"fill:#000000; fill-opacity:1; font-family:Arial,Helvetica Neue,Helvetica,sans-serif; font-size:66px; text-anchor:middle;\" transform=\"rotate(0, 1284.25, 1559.48)\" x=\"1284.25\" y=\"1559.48\">tau</text>\n</g>\n<g clip-path=\"url(#clip8100)\">\n<text style=\"fill:#000000; fill-opacity:1; font-family:Arial,Helvetica Neue,Helvetica,sans-serif; font-size:66px; text-anchor:middle;\" transform=\"rotate(-90, 89.2861, 773.647)\" x=\"89.2861\" y=\"773.647\">p</text>\n</g>\n<path clip-path=\"url(#clip8102)\" d=\"\nM333.293 158.579 L333.293 1388.71 L557.049 1388.71 L557.049 158.579 L333.293 158.579 L333.293 158.579  Z\n  \" fill=\"#009af9\" fill-rule=\"evenodd\" fill-opacity=\"1\"/>\n<polyline clip-path=\"url(#clip8102)\" style=\"stroke:#000000; stroke-width:4; stroke-opacity:1; fill:none\" points=\"\n  333.293,158.579 333.293,1388.71 557.049,1388.71 557.049,158.579 333.293,158.579 \n  \"/>\n<path clip-path=\"url(#clip8102)\" d=\"\nM612.988 865.253 L612.988 1388.71 L836.743 1388.71 L836.743 865.253 L612.988 865.253 L612.988 865.253  Z\n  \" fill=\"#009af9\" fill-rule=\"evenodd\" fill-opacity=\"1\"/>\n<polyline clip-path=\"url(#clip8102)\" style=\"stroke:#000000; stroke-width:4; stroke-opacity:1; fill:none\" points=\"\n  612.988,865.253 612.988,1388.71 836.743,1388.71 836.743,865.253 612.988,865.253 \n  \"/>\n<path clip-path=\"url(#clip8102)\" d=\"\nM892.682 786.733 L892.682 1388.71 L1116.44 1388.71 L1116.44 786.733 L892.682 786.733 L892.682 786.733  Z\n  \" fill=\"#009af9\" fill-rule=\"evenodd\" fill-opacity=\"1\"/>\n<polyline clip-path=\"url(#clip8102)\" style=\"stroke:#000000; stroke-width:4; stroke-opacity:1; fill:none\" points=\"\n  892.682,786.733 892.682,1388.71 1116.44,1388.71 1116.44,786.733 892.682,786.733 \n  \"/>\n<path clip-path=\"url(#clip8102)\" d=\"\nM1172.38 1284.02 L1172.38 1388.71 L1396.13 1388.71 L1396.13 1284.02 L1172.38 1284.02 L1172.38 1284.02  Z\n  \" fill=\"#009af9\" fill-rule=\"evenodd\" fill-opacity=\"1\"/>\n<polyline clip-path=\"url(#clip8102)\" style=\"stroke:#000000; stroke-width:4; stroke-opacity:1; fill:none\" points=\"\n  1172.38,1284.02 1172.38,1388.71 1396.13,1388.71 1396.13,1284.02 1172.38,1284.02 \n  \"/>\n<path clip-path=\"url(#clip8102)\" d=\"\nM1452.07 1257.85 L1452.07 1388.71 L1675.83 1388.71 L1675.83 1257.85 L1452.07 1257.85 L1452.07 1257.85  Z\n  \" fill=\"#009af9\" fill-rule=\"evenodd\" fill-opacity=\"1\"/>\n<polyline clip-path=\"url(#clip8102)\" style=\"stroke:#000000; stroke-width:4; stroke-opacity:1; fill:none\" points=\"\n  1452.07,1257.85 1452.07,1388.71 1675.83,1388.71 1675.83,1257.85 1452.07,1257.85 \n  \"/>\n<path clip-path=\"url(#clip8102)\" d=\"\nM2011.46 1362.54 L2011.46 1388.71 L2235.22 1388.71 L2235.22 1362.54 L2011.46 1362.54 L2011.46 1362.54  Z\n  \" fill=\"#009af9\" fill-rule=\"evenodd\" fill-opacity=\"1\"/>\n<polyline clip-path=\"url(#clip8102)\" style=\"stroke:#000000; stroke-width:4; stroke-opacity:1; fill:none\" points=\"\n  2011.46,1362.54 2011.46,1388.71 2235.22,1388.71 2235.22,1362.54 2011.46,1362.54 \n  \"/>\n<polyline clip-path=\"url(#clip8102)\" style=\"stroke:#e26f46; stroke-width:4; stroke-opacity:1; fill:none\" stroke-dasharray=\"16, 10\" points=\"\n  736.053,2729.56 736.053,-1182.27 \n  \"/>\n<path clip-path=\"url(#clip8100)\" d=\"\nM1826.71 326.155 L2280.76 326.155 L2280.76 205.195 L1826.71 205.195  Z\n  \" fill=\"#ffffff\" fill-rule=\"evenodd\" fill-opacity=\"1\"/>\n<polyline clip-path=\"url(#clip8100)\" style=\"stroke:#000000; stroke-width:4; stroke-opacity:1; fill:none\" points=\"\n  1826.71,326.155 2280.76,326.155 2280.76,205.195 1826.71,205.195 1826.71,326.155 \n  \"/>\n<polyline clip-path=\"url(#clip8100)\" style=\"stroke:#e26f46; stroke-width:4; stroke-opacity:1; fill:none\" stroke-dasharray=\"16, 10\" points=\"\n  1850.71,265.675 1994.71,265.675 \n  \"/>\n<g clip-path=\"url(#clip8100)\">\n<text style=\"fill:#000000; fill-opacity:1; font-family:Arial,Helvetica Neue,Helvetica,sans-serif; font-size:48px; text-anchor:start;\" transform=\"rotate(0, 2018.71, 283.175)\" x=\"2018.71\" y=\"283.175\">tau_mean</text>\n</g>\n</svg>\n"
               },
               "type": "node"
              }
             ],
             "instanceArgs": {
              "namespace": "html",
              "tag": "div"
             },
             "nodeType": "DOM",
             "props": {
              "className": "interact-flex-row interact-widget"
             },
             "type": "node"
            }
           }
          },
          "systemjs_options": null
         },
         "nodeType": "Scope",
         "props": {},
         "type": "node"
        }
       ],
       "instanceArgs": {
        "namespace": "html",
        "tag": "div"
       },
       "nodeType": "DOM",
       "props": {},
       "type": "node"
      },
      "text/html": [
       "<div\n",
       "    class=\"webio-mountpoint\"\n",
       "    data-webio-mountpoint=\"17446829028964799474\"\n",
       ">\n",
       "    <script>\n",
       "    if (window.require && require.defined && require.defined(\"nbextensions/webio-jupyter-notebook\")) {\n",
       "        console.log(\"Jupyter WebIO extension detected, not mounting.\");\n",
       "    } else if (window.WebIO) {\n",
       "        WebIO.mount(\n",
       "            document.querySelector('[data-webio-mountpoint=\"17446829028964799474\"]'),\n",
       "            {\"props\":{},\"nodeType\":\"DOM\",\"type\":\"node\",\"instanceArgs\":{\"namespace\":\"html\",\"tag\":\"div\"},\"children\":[{\"props\":{\"className\":\"field interact-widget\"},\"nodeType\":\"DOM\",\"type\":\"node\",\"instanceArgs\":{\"namespace\":\"html\",\"tag\":\"div\"},\"children\":[{\"props\":{},\"nodeType\":\"Scope\",\"type\":\"node\",\"instanceArgs\":{\"imports\":{\"data\":[{\"name\":\"knockout\",\"type\":\"js\",\"url\":\"\\/assetserver\\/847903f5df732148b510ba93542242ba69c4346c-knockout.js\"},{\"name\":\"knockout_punches\",\"type\":\"js\",\"url\":\"\\/assetserver\\/c0b325de111f2589153d52b7b74e82babec63146-knockout_punches.js\"},{\"name\":null,\"type\":\"js\",\"url\":\"\\/assetserver\\/51952c19a9a6ce93cd17825f07a8fe28d322efde-all.js\"},{\"name\":null,\"type\":\"css\",\"url\":\"\\/assetserver\\/104d64c7b780621be0c8d84ac84d7a5a84de4524-style.css\"},{\"name\":null,\"type\":\"css\",\"url\":\"\\/assetserver\\/9e3206e22736e731411e8095c384ec75a742e5c8-bulma_confined.min.css\"}],\"type\":\"async_block\"},\"id\":\"12720328278743025694\",\"handlers\":{\"changes\":[\"(function (val){return (val!=this.model[\\\"changes\\\"]()) ? (this.valueFromJulia[\\\"changes\\\"]=true, this.model[\\\"changes\\\"](val)) : undefined})\"],\"index\":[\"(function (val){return (val!=this.model[\\\"index\\\"]()) ? (this.valueFromJulia[\\\"index\\\"]=true, this.model[\\\"index\\\"](val)) : undefined})\"]},\"systemjs_options\":null,\"mount_callbacks\":[\"function () {\\n    var handler = (function (ko, koPunches) {\\n    ko.punches.enableAll();\\n    ko.bindingHandlers.numericValue = {\\n        init: function(element, valueAccessor, allBindings, data, context) {\\n            var stringified = ko.observable(ko.unwrap(valueAccessor()));\\n            stringified.subscribe(function(value) {\\n                var val = parseFloat(value);\\n                if (!isNaN(val)) {\\n                    valueAccessor()(val);\\n                }\\n            });\\n            valueAccessor().subscribe(function(value) {\\n                var str = JSON.stringify(value);\\n                if ((str == \\\"0\\\") && ([\\\"-0\\\", \\\"-0.\\\"].indexOf(stringified()) >= 0))\\n                     return;\\n                 if ([\\\"null\\\", \\\"\\\"].indexOf(str) >= 0)\\n                     return;\\n                stringified(str);\\n            });\\n            ko.applyBindingsToNode(\\n                element,\\n                {\\n                    value: stringified,\\n                    valueUpdate: allBindings.get('valueUpdate'),\\n                },\\n                context,\\n            );\\n        }\\n    };\\n    var json_data = {\\\"formatted_vals\\\":[\\\"0.1\\\",\\\"0.2\\\",\\\"0.3\\\",\\\"0.4\\\",\\\"0.5\\\",\\\"0.6\\\",\\\"0.7\\\",\\\"0.8\\\",\\\"0.9\\\",\\\"1.0\\\"],\\\"changes\\\":WebIO.getval({\\\"name\\\":\\\"changes\\\",\\\"scope\\\":\\\"12720328278743025694\\\",\\\"id\\\":\\\"16196140803580144312\\\",\\\"type\\\":\\\"observable\\\"}),\\\"index\\\":WebIO.getval({\\\"name\\\":\\\"index\\\",\\\"scope\\\":\\\"12720328278743025694\\\",\\\"id\\\":\\\"15714314209357883368\\\",\\\"type\\\":\\\"observable\\\"})};\\n    var self = this;\\n    function AppViewModel() {\\n        for (var key in json_data) {\\n            var el = json_data[key];\\n            this[key] = Array.isArray(el) ? ko.observableArray(el) : ko.observable(el);\\n        }\\n        \\n        [this[\\\"formatted_val\\\"]=ko.computed(    function(){\\n        return this.formatted_vals()[parseInt(this.index())-(1)];\\n    }\\n,this)]\\n        [this[\\\"changes\\\"].subscribe((function (val){!(this.valueFromJulia[\\\"changes\\\"]) ? (WebIO.setval({\\\"name\\\":\\\"changes\\\",\\\"scope\\\":\\\"12720328278743025694\\\",\\\"id\\\":\\\"16196140803580144312\\\",\\\"type\\\":\\\"observable\\\"},val)) : undefined; return this.valueFromJulia[\\\"changes\\\"]=false}),self),this[\\\"index\\\"].subscribe((function (val){!(this.valueFromJulia[\\\"index\\\"]) ? (WebIO.setval({\\\"name\\\":\\\"index\\\",\\\"scope\\\":\\\"12720328278743025694\\\",\\\"id\\\":\\\"15714314209357883368\\\",\\\"type\\\":\\\"observable\\\"},val)) : undefined; return this.valueFromJulia[\\\"index\\\"]=false}),self)]\\n        \\n    }\\n    self.model = new AppViewModel();\\n    self.valueFromJulia = {};\\n    for (var key in json_data) {\\n        self.valueFromJulia[key] = false;\\n    }\\n    ko.applyBindings(self.model, self.dom);\\n}\\n);\\n    (WebIO.importBlock({\\\"data\\\":[{\\\"name\\\":\\\"knockout\\\",\\\"type\\\":\\\"js\\\",\\\"url\\\":\\\"\\/assetserver\\/847903f5df732148b510ba93542242ba69c4346c-knockout.js\\\"},{\\\"name\\\":\\\"knockout_punches\\\",\\\"type\\\":\\\"js\\\",\\\"url\\\":\\\"\\/assetserver\\/c0b325de111f2589153d52b7b74e82babec63146-knockout_punches.js\\\"}],\\\"type\\\":\\\"async_block\\\"})).then((imports) => handler.apply(this, imports));\\n}\\n\"],\"observables\":{\"changes\":{\"sync\":false,\"id\":\"16196140803580144312\",\"value\":0},\"index\":{\"sync\":true,\"id\":\"15714314209357883368\",\"value\":5}}},\"children\":[{\"props\":{\"className\":\"interact-flex-row interact-widget\"},\"nodeType\":\"DOM\",\"type\":\"node\",\"instanceArgs\":{\"namespace\":\"html\",\"tag\":\"div\"},\"children\":[{\"props\":{\"className\":\"interact-flex-row-left\"},\"nodeType\":\"DOM\",\"type\":\"node\",\"instanceArgs\":{\"namespace\":\"html\",\"tag\":\"div\"},\"children\":[{\"props\":{\"className\":\"interact \",\"style\":{\"padding\":\"5px 10px 0px 10px\"}},\"nodeType\":\"DOM\",\"type\":\"node\",\"instanceArgs\":{\"namespace\":\"html\",\"tag\":\"label\"},\"children\":[\"p\"]}]},{\"props\":{\"className\":\"interact-flex-row-center\"},\"nodeType\":\"DOM\",\"type\":\"node\",\"instanceArgs\":{\"namespace\":\"html\",\"tag\":\"div\"},\"children\":[{\"props\":{\"max\":10,\"min\":1,\"attributes\":{\"type\":\"range\",\"data-bind\":\"numericValue: index, valueUpdate: 'input', event: {change: function (){this.changes(this.changes()+1)}}\",\"orient\":\"horizontal\"},\"step\":1,\"className\":\"slider slider is-fullwidth\",\"style\":{}},\"nodeType\":\"DOM\",\"type\":\"node\",\"instanceArgs\":{\"namespace\":\"html\",\"tag\":\"input\"},\"children\":[]}]},{\"props\":{\"className\":\"interact-flex-row-right\"},\"nodeType\":\"DOM\",\"type\":\"node\",\"instanceArgs\":{\"namespace\":\"html\",\"tag\":\"div\"},\"children\":[{\"props\":{\"attributes\":{\"data-bind\":\"text: formatted_val\"}},\"nodeType\":\"DOM\",\"type\":\"node\",\"instanceArgs\":{\"namespace\":\"html\",\"tag\":\"p\"},\"children\":[]}]}]}]}]},{\"props\":{\"className\":\"field interact-widget\"},\"nodeType\":\"DOM\",\"type\":\"node\",\"instanceArgs\":{\"namespace\":\"html\",\"tag\":\"div\"},\"children\":[{\"props\":{},\"nodeType\":\"Scope\",\"type\":\"node\",\"instanceArgs\":{\"imports\":{\"data\":[{\"name\":\"knockout\",\"type\":\"js\",\"url\":\"\\/assetserver\\/847903f5df732148b510ba93542242ba69c4346c-knockout.js\"},{\"name\":\"knockout_punches\",\"type\":\"js\",\"url\":\"\\/assetserver\\/c0b325de111f2589153d52b7b74e82babec63146-knockout_punches.js\"},{\"name\":null,\"type\":\"js\",\"url\":\"\\/assetserver\\/51952c19a9a6ce93cd17825f07a8fe28d322efde-all.js\"},{\"name\":null,\"type\":\"css\",\"url\":\"\\/assetserver\\/104d64c7b780621be0c8d84ac84d7a5a84de4524-style.css\"},{\"name\":null,\"type\":\"css\",\"url\":\"\\/assetserver\\/9e3206e22736e731411e8095c384ec75a742e5c8-bulma_confined.min.css\"}],\"type\":\"async_block\"},\"id\":\"4941589005890875241\",\"handlers\":{\"changes\":[\"(function (val){return (val!=this.model[\\\"changes\\\"]()) ? (this.valueFromJulia[\\\"changes\\\"]=true, this.model[\\\"changes\\\"](val)) : undefined})\"],\"index\":[\"(function (val){return (val!=this.model[\\\"index\\\"]()) ? (this.valueFromJulia[\\\"index\\\"]=true, this.model[\\\"index\\\"](val)) : undefined})\"]},\"systemjs_options\":null,\"mount_callbacks\":[\"function () {\\n    var handler = (function (ko, koPunches) {\\n    ko.punches.enableAll();\\n    ko.bindingHandlers.numericValue = {\\n        init: function(element, valueAccessor, allBindings, data, context) {\\n            var stringified = ko.observable(ko.unwrap(valueAccessor()));\\n            stringified.subscribe(function(value) {\\n                var val = parseFloat(value);\\n                if (!isNaN(val)) {\\n                    valueAccessor()(val);\\n                }\\n            });\\n            valueAccessor().subscribe(function(value) {\\n                var str = JSON.stringify(value);\\n                if ((str == \\\"0\\\") && ([\\\"-0\\\", \\\"-0.\\\"].indexOf(stringified()) >= 0))\\n                     return;\\n                 if ([\\\"null\\\", \\\"\\\"].indexOf(str) >= 0)\\n                     return;\\n                stringified(str);\\n            });\\n            ko.applyBindingsToNode(\\n                element,\\n                {\\n                    value: stringified,\\n                    valueUpdate: allBindings.get('valueUpdate'),\\n                },\\n                context,\\n            );\\n        }\\n    };\\n    var json_data = {\\\"formatted_vals\\\":[\\\"1\\\",\\\"10\\\",\\\"100\\\",\\\"1000\\\",\\\"10000\\\",\\\"100000\\\"],\\\"changes\\\":WebIO.getval({\\\"name\\\":\\\"changes\\\",\\\"scope\\\":\\\"4941589005890875241\\\",\\\"id\\\":\\\"753113630291340598\\\",\\\"type\\\":\\\"observable\\\"}),\\\"index\\\":WebIO.getval({\\\"name\\\":\\\"index\\\",\\\"scope\\\":\\\"4941589005890875241\\\",\\\"id\\\":\\\"3463905927171570092\\\",\\\"type\\\":\\\"observable\\\"})};\\n    var self = this;\\n    function AppViewModel() {\\n        for (var key in json_data) {\\n            var el = json_data[key];\\n            this[key] = Array.isArray(el) ? ko.observableArray(el) : ko.observable(el);\\n        }\\n        \\n        [this[\\\"formatted_val\\\"]=ko.computed(    function(){\\n        return this.formatted_vals()[parseInt(this.index())-(1)];\\n    }\\n,this)]\\n        [this[\\\"changes\\\"].subscribe((function (val){!(this.valueFromJulia[\\\"changes\\\"]) ? (WebIO.setval({\\\"name\\\":\\\"changes\\\",\\\"scope\\\":\\\"4941589005890875241\\\",\\\"id\\\":\\\"753113630291340598\\\",\\\"type\\\":\\\"observable\\\"},val)) : undefined; return this.valueFromJulia[\\\"changes\\\"]=false}),self),this[\\\"index\\\"].subscribe((function (val){!(this.valueFromJulia[\\\"index\\\"]) ? (WebIO.setval({\\\"name\\\":\\\"index\\\",\\\"scope\\\":\\\"4941589005890875241\\\",\\\"id\\\":\\\"3463905927171570092\\\",\\\"type\\\":\\\"observable\\\"},val)) : undefined; return this.valueFromJulia[\\\"index\\\"]=false}),self)]\\n        \\n    }\\n    self.model = new AppViewModel();\\n    self.valueFromJulia = {};\\n    for (var key in json_data) {\\n        self.valueFromJulia[key] = false;\\n    }\\n    ko.applyBindings(self.model, self.dom);\\n}\\n);\\n    (WebIO.importBlock({\\\"data\\\":[{\\\"name\\\":\\\"knockout\\\",\\\"type\\\":\\\"js\\\",\\\"url\\\":\\\"\\/assetserver\\/847903f5df732148b510ba93542242ba69c4346c-knockout.js\\\"},{\\\"name\\\":\\\"knockout_punches\\\",\\\"type\\\":\\\"js\\\",\\\"url\\\":\\\"\\/assetserver\\/c0b325de111f2589153d52b7b74e82babec63146-knockout_punches.js\\\"}],\\\"type\\\":\\\"async_block\\\"})).then((imports) => handler.apply(this, imports));\\n}\\n\"],\"observables\":{\"changes\":{\"sync\":false,\"id\":\"753113630291340598\",\"value\":0},\"index\":{\"sync\":true,\"id\":\"3463905927171570092\",\"value\":3}}},\"children\":[{\"props\":{\"className\":\"interact-flex-row interact-widget\"},\"nodeType\":\"DOM\",\"type\":\"node\",\"instanceArgs\":{\"namespace\":\"html\",\"tag\":\"div\"},\"children\":[{\"props\":{\"className\":\"interact-flex-row-left\"},\"nodeType\":\"DOM\",\"type\":\"node\",\"instanceArgs\":{\"namespace\":\"html\",\"tag\":\"div\"},\"children\":[{\"props\":{\"className\":\"interact \",\"style\":{\"padding\":\"5px 10px 0px 10px\"}},\"nodeType\":\"DOM\",\"type\":\"node\",\"instanceArgs\":{\"namespace\":\"html\",\"tag\":\"label\"},\"children\":[\"N\"]}]},{\"props\":{\"className\":\"interact-flex-row-center\"},\"nodeType\":\"DOM\",\"type\":\"node\",\"instanceArgs\":{\"namespace\":\"html\",\"tag\":\"div\"},\"children\":[{\"props\":{\"max\":6,\"min\":1,\"attributes\":{\"type\":\"range\",\"data-bind\":\"numericValue: index, valueUpdate: 'input', event: {change: function (){this.changes(this.changes()+1)}}\",\"orient\":\"horizontal\"},\"step\":1,\"className\":\"slider slider is-fullwidth\",\"style\":{}},\"nodeType\":\"DOM\",\"type\":\"node\",\"instanceArgs\":{\"namespace\":\"html\",\"tag\":\"input\"},\"children\":[]}]},{\"props\":{\"className\":\"interact-flex-row-right\"},\"nodeType\":\"DOM\",\"type\":\"node\",\"instanceArgs\":{\"namespace\":\"html\",\"tag\":\"div\"},\"children\":[{\"props\":{\"attributes\":{\"data-bind\":\"text: formatted_val\"}},\"nodeType\":\"DOM\",\"type\":\"node\",\"instanceArgs\":{\"namespace\":\"html\",\"tag\":\"p\"},\"children\":[]}]}]}]}]},{\"props\":{},\"nodeType\":\"Scope\",\"type\":\"node\",\"instanceArgs\":{\"imports\":{\"data\":[],\"type\":\"async_block\"},\"id\":\"7064683937878281424\",\"handlers\":{},\"systemjs_options\":null,\"mount_callbacks\":[],\"observables\":{\"obs-node\":{\"sync\":false,\"id\":\"17268587746740585441\",\"value\":{\"props\":{\"className\":\"interact-flex-row interact-widget\"},\"nodeType\":\"DOM\",\"type\":\"node\",\"instanceArgs\":{\"namespace\":\"html\",\"tag\":\"div\"},\"children\":[{\"props\":{\"setInnerHtml\":\"<?xml version=\\\"1.0\\\" encoding=\\\"utf-8\\\"?>\\n<svg xmlns=\\\"http:\\/\\/www.w3.org\\/2000\\/svg\\\" xmlns:xlink=\\\"http:\\/\\/www.w3.org\\/1999\\/xlink\\\" width=\\\"600\\\" height=\\\"400\\\" viewBox=\\\"0 0 2400 1600\\\">\\n<defs>\\n  <clipPath id=\\\"clip7700\\\">\\n    <rect x=\\\"0\\\" y=\\\"0\\\" width=\\\"2400\\\" height=\\\"1600\\\"\\/>\\n  <\\/clipPath>\\n<\\/defs>\\n<path clip-path=\\\"url(#clip7700)\\\" d=\\\"\\nM0 1600 L2400 1600 L2400 0 L0 0  Z\\n  \\\" fill=\\\"#ffffff\\\" fill-rule=\\\"evenodd\\\" fill-opacity=\\\"1\\\"\\/>\\n<defs>\\n  <clipPath id=\\\"clip7701\\\">\\n    <rect x=\\\"480\\\" y=\\\"0\\\" width=\\\"1681\\\" height=\\\"1600\\\"\\/>\\n  <\\/clipPath>\\n<\\/defs>\\n<path clip-path=\\\"url(#clip7700)\\\" d=\\\"\\nM215.754 1425.62 L2352.76 1425.62 L2352.76 121.675 L215.754 121.675  Z\\n  \\\" fill=\\\"#ffffff\\\" fill-rule=\\\"evenodd\\\" fill-opacity=\\\"1\\\"\\/>\\n<defs>\\n  <clipPath id=\\\"clip7702\\\">\\n    <rect x=\\\"215\\\" y=\\\"121\\\" width=\\\"2138\\\" height=\\\"1305\\\"\\/>\\n  <\\/clipPath>\\n<\\/defs>\\n<polyline clip-path=\\\"url(#clip7702)\\\" style=\\\"stroke:#000000; stroke-width:2; stroke-opacity:0.1; fill:none\\\" points=\\\"\\n  445.171,1425.62 445.171,121.675 \\n  \\\"\\/>\\n<polyline clip-path=\\\"url(#clip7702)\\\" style=\\\"stroke:#000000; stroke-width:2; stroke-opacity:0.1; fill:none\\\" points=\\\"\\n  724.866,1425.62 724.866,121.675 \\n  \\\"\\/>\\n<polyline clip-path=\\\"url(#clip7702)\\\" style=\\\"stroke:#000000; stroke-width:2; stroke-opacity:0.1; fill:none\\\" points=\\\"\\n  1004.56,1425.62 1004.56,121.675 \\n  \\\"\\/>\\n<polyline clip-path=\\\"url(#clip7702)\\\" style=\\\"stroke:#000000; stroke-width:2; stroke-opacity:0.1; fill:none\\\" points=\\\"\\n  1284.25,1425.62 1284.25,121.675 \\n  \\\"\\/>\\n<polyline clip-path=\\\"url(#clip7702)\\\" style=\\\"stroke:#000000; stroke-width:2; stroke-opacity:0.1; fill:none\\\" points=\\\"\\n  1563.95,1425.62 1563.95,121.675 \\n  \\\"\\/>\\n<polyline clip-path=\\\"url(#clip7702)\\\" style=\\\"stroke:#000000; stroke-width:2; stroke-opacity:0.1; fill:none\\\" points=\\\"\\n  1843.64,1425.62 1843.64,121.675 \\n  \\\"\\/>\\n<polyline clip-path=\\\"url(#clip7702)\\\" style=\\\"stroke:#000000; stroke-width:2; stroke-opacity:0.1; fill:none\\\" points=\\\"\\n  2123.34,1425.62 2123.34,121.675 \\n  \\\"\\/>\\n<polyline clip-path=\\\"url(#clip7702)\\\" style=\\\"stroke:#000000; stroke-width:2; stroke-opacity:0.1; fill:none\\\" points=\\\"\\n  215.754,1388.71 2352.76,1388.71 \\n  \\\"\\/>\\n<polyline clip-path=\\\"url(#clip7702)\\\" style=\\\"stroke:#000000; stroke-width:2; stroke-opacity:0.1; fill:none\\\" points=\\\"\\n  215.754,1126.98 2352.76,1126.98 \\n  \\\"\\/>\\n<polyline clip-path=\\\"url(#clip7702)\\\" style=\\\"stroke:#000000; stroke-width:2; stroke-opacity:0.1; fill:none\\\" points=\\\"\\n  215.754,865.253 2352.76,865.253 \\n  \\\"\\/>\\n<polyline clip-path=\\\"url(#clip7702)\\\" style=\\\"stroke:#000000; stroke-width:2; stroke-opacity:0.1; fill:none\\\" points=\\\"\\n  215.754,603.522 2352.76,603.522 \\n  \\\"\\/>\\n<polyline clip-path=\\\"url(#clip7702)\\\" style=\\\"stroke:#000000; stroke-width:2; stroke-opacity:0.1; fill:none\\\" points=\\\"\\n  215.754,341.791 2352.76,341.791 \\n  \\\"\\/>\\n<polyline clip-path=\\\"url(#clip7700)\\\" style=\\\"stroke:#000000; stroke-width:4; stroke-opacity:1; fill:none\\\" points=\\\"\\n  215.754,1425.62 2352.76,1425.62 \\n  \\\"\\/>\\n<polyline clip-path=\\\"url(#clip7700)\\\" style=\\\"stroke:#000000; stroke-width:4; stroke-opacity:1; fill:none\\\" points=\\\"\\n  215.754,1425.62 215.754,121.675 \\n  \\\"\\/>\\n<polyline clip-path=\\\"url(#clip7700)\\\" style=\\\"stroke:#000000; stroke-width:4; stroke-opacity:1; fill:none\\\" points=\\\"\\n  445.171,1425.62 445.171,1409.97 \\n  \\\"\\/>\\n<polyline clip-path=\\\"url(#clip7700)\\\" style=\\\"stroke:#000000; stroke-width:4; stroke-opacity:1; fill:none\\\" points=\\\"\\n  724.866,1425.62 724.866,1409.97 \\n  \\\"\\/>\\n<polyline clip-path=\\\"url(#clip7700)\\\" style=\\\"stroke:#000000; stroke-width:4; stroke-opacity:1; fill:none\\\" points=\\\"\\n  1004.56,1425.62 1004.56,1409.97 \\n  \\\"\\/>\\n<polyline clip-path=\\\"url(#clip7700)\\\" style=\\\"stroke:#000000; stroke-width:4; stroke-opacity:1; fill:none\\\" points=\\\"\\n  1284.25,1425.62 1284.25,1409.97 \\n  \\\"\\/>\\n<polyline clip-path=\\\"url(#clip7700)\\\" style=\\\"stroke:#000000; stroke-width:4; stroke-opacity:1; fill:none\\\" points=\\\"\\n  1563.95,1425.62 1563.95,1409.97 \\n  \\\"\\/>\\n<polyline clip-path=\\\"url(#clip7700)\\\" style=\\\"stroke:#000000; stroke-width:4; stroke-opacity:1; fill:none\\\" points=\\\"\\n  1843.64,1425.62 1843.64,1409.97 \\n  \\\"\\/>\\n<polyline clip-path=\\\"url(#clip7700)\\\" style=\\\"stroke:#000000; stroke-width:4; stroke-opacity:1; fill:none\\\" points=\\\"\\n  2123.34,1425.62 2123.34,1409.97 \\n  \\\"\\/>\\n<polyline clip-path=\\\"url(#clip7700)\\\" style=\\\"stroke:#000000; stroke-width:4; stroke-opacity:1; fill:none\\\" points=\\\"\\n  215.754,1388.71 241.398,1388.71 \\n  \\\"\\/>\\n<polyline clip-path=\\\"url(#clip7700)\\\" style=\\\"stroke:#000000; stroke-width:4; stroke-opacity:1; fill:none\\\" points=\\\"\\n  215.754,1126.98 241.398,1126.98 \\n  \\\"\\/>\\n<polyline clip-path=\\\"url(#clip7700)\\\" style=\\\"stroke:#000000; stroke-width:4; stroke-opacity:1; fill:none\\\" points=\\\"\\n  215.754,865.253 241.398,865.253 \\n  \\\"\\/>\\n<polyline clip-path=\\\"url(#clip7700)\\\" style=\\\"stroke:#000000; stroke-width:4; stroke-opacity:1; fill:none\\\" points=\\\"\\n  215.754,603.522 241.398,603.522 \\n  \\\"\\/>\\n<polyline clip-path=\\\"url(#clip7700)\\\" style=\\\"stroke:#000000; stroke-width:4; stroke-opacity:1; fill:none\\\" points=\\\"\\n  215.754,341.791 241.398,341.791 \\n  \\\"\\/>\\n<g clip-path=\\\"url(#clip7700)\\\">\\n<text style=\\\"fill:#000000; fill-opacity:1; font-family:Arial,Helvetica Neue,Helvetica,sans-serif; font-size:48px; text-anchor:middle;\\\" transform=\\\"rotate(0, 445.171, 1479.62)\\\" x=\\\"445.171\\\" y=\\\"1479.62\\\">1<\\/text>\\n<\\/g>\\n<g clip-path=\\\"url(#clip7700)\\\">\\n<text style=\\\"fill:#000000; fill-opacity:1; font-family:Arial,Helvetica Neue,Helvetica,sans-serif; font-size:48px; text-anchor:middle;\\\" transform=\\\"rotate(0, 724.866, 1479.62)\\\" x=\\\"724.866\\\" y=\\\"1479.62\\\">2<\\/text>\\n<\\/g>\\n<g clip-path=\\\"url(#clip7700)\\\">\\n<text style=\\\"fill:#000000; fill-opacity:1; font-family:Arial,Helvetica Neue,Helvetica,sans-serif; font-size:48px; text-anchor:middle;\\\" transform=\\\"rotate(0, 1004.56, 1479.62)\\\" x=\\\"1004.56\\\" y=\\\"1479.62\\\">3<\\/text>\\n<\\/g>\\n<g clip-path=\\\"url(#clip7700)\\\">\\n<text style=\\\"fill:#000000; fill-opacity:1; font-family:Arial,Helvetica Neue,Helvetica,sans-serif; font-size:48px; text-anchor:middle;\\\" transform=\\\"rotate(0, 1284.25, 1479.62)\\\" x=\\\"1284.25\\\" y=\\\"1479.62\\\">4<\\/text>\\n<\\/g>\\n<g clip-path=\\\"url(#clip7700)\\\">\\n<text style=\\\"fill:#000000; fill-opacity:1; font-family:Arial,Helvetica Neue,Helvetica,sans-serif; font-size:48px; text-anchor:middle;\\\" transform=\\\"rotate(0, 1563.95, 1479.62)\\\" x=\\\"1563.95\\\" y=\\\"1479.62\\\">5<\\/text>\\n<\\/g>\\n<g clip-path=\\\"url(#clip7700)\\\">\\n<text style=\\\"fill:#000000; fill-opacity:1; font-family:Arial,Helvetica Neue,Helvetica,sans-serif; font-size:48px; text-anchor:middle;\\\" transform=\\\"rotate(0, 1843.64, 1479.62)\\\" x=\\\"1843.64\\\" y=\\\"1479.62\\\">6<\\/text>\\n<\\/g>\\n<g clip-path=\\\"url(#clip7700)\\\">\\n<text style=\\\"fill:#000000; fill-opacity:1; font-family:Arial,Helvetica Neue,Helvetica,sans-serif; font-size:48px; text-anchor:middle;\\\" transform=\\\"rotate(0, 2123.34, 1479.62)\\\" x=\\\"2123.34\\\" y=\\\"1479.62\\\">7<\\/text>\\n<\\/g>\\n<g clip-path=\\\"url(#clip7700)\\\">\\n<text style=\\\"fill:#000000; fill-opacity:1; font-family:Arial,Helvetica Neue,Helvetica,sans-serif; font-size:48px; text-anchor:end;\\\" transform=\\\"rotate(0, 191.754, 1406.21)\\\" x=\\\"191.754\\\" y=\\\"1406.21\\\">0.0<\\/text>\\n<\\/g>\\n<g clip-path=\\\"url(#clip7700)\\\">\\n<text style=\\\"fill:#000000; fill-opacity:1; font-family:Arial,Helvetica Neue,Helvetica,sans-serif; font-size:48px; text-anchor:end;\\\" transform=\\\"rotate(0, 191.754, 1144.48)\\\" x=\\\"191.754\\\" y=\\\"1144.48\\\">0.1<\\/text>\\n<\\/g>\\n<g clip-path=\\\"url(#clip7700)\\\">\\n<text style=\\\"fill:#000000; fill-opacity:1; font-family:Arial,Helvetica Neue,Helvetica,sans-serif; font-size:48px; text-anchor:end;\\\" transform=\\\"rotate(0, 191.754, 882.753)\\\" x=\\\"191.754\\\" y=\\\"882.753\\\">0.2<\\/text>\\n<\\/g>\\n<g clip-path=\\\"url(#clip7700)\\\">\\n<text style=\\\"fill:#000000; fill-opacity:1; font-family:Arial,Helvetica Neue,Helvetica,sans-serif; font-size:48px; text-anchor:end;\\\" transform=\\\"rotate(0, 191.754, 621.022)\\\" x=\\\"191.754\\\" y=\\\"621.022\\\">0.3<\\/text>\\n<\\/g>\\n<g clip-path=\\\"url(#clip7700)\\\">\\n<text style=\\\"fill:#000000; fill-opacity:1; font-family:Arial,Helvetica Neue,Helvetica,sans-serif; font-size:48px; text-anchor:end;\\\" transform=\\\"rotate(0, 191.754, 359.291)\\\" x=\\\"191.754\\\" y=\\\"359.291\\\">0.4<\\/text>\\n<\\/g>\\n<g clip-path=\\\"url(#clip7700)\\\">\\n<text style=\\\"fill:#000000; fill-opacity:1; font-family:Arial,Helvetica Neue,Helvetica,sans-serif; font-size:84px; text-anchor:middle;\\\" transform=\\\"rotate(0, 1284.25, 73.2)\\\" x=\\\"1284.25\\\" y=\\\"73.2\\\">Recovery Time<\\/text>\\n<\\/g>\\n<g clip-path=\\\"url(#clip7700)\\\">\\n<text style=\\\"fill:#000000; fill-opacity:1; font-family:Arial,Helvetica Neue,Helvetica,sans-serif; font-size:66px; text-anchor:middle;\\\" transform=\\\"rotate(0, 1284.25, 1559.48)\\\" x=\\\"1284.25\\\" y=\\\"1559.48\\\">tau<\\/text>\\n<\\/g>\\n<g clip-path=\\\"url(#clip7700)\\\">\\n<text style=\\\"fill:#000000; fill-opacity:1; font-family:Arial,Helvetica Neue,Helvetica,sans-serif; font-size:66px; text-anchor:middle;\\\" transform=\\\"rotate(-90, 89.2861, 773.647)\\\" x=\\\"89.2861\\\" y=\\\"773.647\\\">p<\\/text>\\n<\\/g>\\n<path clip-path=\\\"url(#clip7702)\\\" d=\\\"\\nM333.293 158.579 L333.293 1388.71 L557.049 1388.71 L557.049 158.579 L333.293 158.579 L333.293 158.579  Z\\n  \\\" fill=\\\"#009af9\\\" fill-rule=\\\"evenodd\\\" fill-opacity=\\\"1\\\"\\/>\\n<polyline clip-path=\\\"url(#clip7702)\\\" style=\\\"stroke:#000000; stroke-width:4; stroke-opacity:1; fill:none\\\" points=\\\"\\n  333.293,158.579 333.293,1388.71 557.049,1388.71 557.049,158.579 333.293,158.579 \\n  \\\"\\/>\\n<path clip-path=\\\"url(#clip7702)\\\" d=\\\"\\nM612.988 865.253 L612.988 1388.71 L836.743 1388.71 L836.743 865.253 L612.988 865.253 L612.988 865.253  Z\\n  \\\" fill=\\\"#009af9\\\" fill-rule=\\\"evenodd\\\" fill-opacity=\\\"1\\\"\\/>\\n<polyline clip-path=\\\"url(#clip7702)\\\" style=\\\"stroke:#000000; stroke-width:4; stroke-opacity:1; fill:none\\\" points=\\\"\\n  612.988,865.253 612.988,1388.71 836.743,1388.71 836.743,865.253 612.988,865.253 \\n  \\\"\\/>\\n<path clip-path=\\\"url(#clip7702)\\\" d=\\\"\\nM892.682 786.733 L892.682 1388.71 L1116.44 1388.71 L1116.44 786.733 L892.682 786.733 L892.682 786.733  Z\\n  \\\" fill=\\\"#009af9\\\" fill-rule=\\\"evenodd\\\" fill-opacity=\\\"1\\\"\\/>\\n<polyline clip-path=\\\"url(#clip7702)\\\" style=\\\"stroke:#000000; stroke-width:4; stroke-opacity:1; fill:none\\\" points=\\\"\\n  892.682,786.733 892.682,1388.71 1116.44,1388.71 1116.44,786.733 892.682,786.733 \\n  \\\"\\/>\\n<path clip-path=\\\"url(#clip7702)\\\" d=\\\"\\nM1172.38 1284.02 L1172.38 1388.71 L1396.13 1388.71 L1396.13 1284.02 L1172.38 1284.02 L1172.38 1284.02  Z\\n  \\\" fill=\\\"#009af9\\\" fill-rule=\\\"evenodd\\\" fill-opacity=\\\"1\\\"\\/>\\n<polyline clip-path=\\\"url(#clip7702)\\\" style=\\\"stroke:#000000; stroke-width:4; stroke-opacity:1; fill:none\\\" points=\\\"\\n  1172.38,1284.02 1172.38,1388.71 1396.13,1388.71 1396.13,1284.02 1172.38,1284.02 \\n  \\\"\\/>\\n<path clip-path=\\\"url(#clip7702)\\\" d=\\\"\\nM1452.07 1257.85 L1452.07 1388.71 L1675.83 1388.71 L1675.83 1257.85 L1452.07 1257.85 L1452.07 1257.85  Z\\n  \\\" fill=\\\"#009af9\\\" fill-rule=\\\"evenodd\\\" fill-opacity=\\\"1\\\"\\/>\\n<polyline clip-path=\\\"url(#clip7702)\\\" style=\\\"stroke:#000000; stroke-width:4; stroke-opacity:1; fill:none\\\" points=\\\"\\n  1452.07,1257.85 1452.07,1388.71 1675.83,1388.71 1675.83,1257.85 1452.07,1257.85 \\n  \\\"\\/>\\n<path clip-path=\\\"url(#clip7702)\\\" d=\\\"\\nM2011.46 1362.54 L2011.46 1388.71 L2235.22 1388.71 L2235.22 1362.54 L2011.46 1362.54 L2011.46 1362.54  Z\\n  \\\" fill=\\\"#009af9\\\" fill-rule=\\\"evenodd\\\" fill-opacity=\\\"1\\\"\\/>\\n<polyline clip-path=\\\"url(#clip7702)\\\" style=\\\"stroke:#000000; stroke-width:4; stroke-opacity:1; fill:none\\\" points=\\\"\\n  2011.46,1362.54 2011.46,1388.71 2235.22,1388.71 2235.22,1362.54 2011.46,1362.54 \\n  \\\"\\/>\\n<polyline clip-path=\\\"url(#clip7702)\\\" style=\\\"stroke:#e26f46; stroke-width:4; stroke-opacity:1; fill:none\\\" stroke-dasharray=\\\"16, 10\\\" points=\\\"\\n  736.053,2729.56 736.053,-1182.27 \\n  \\\"\\/>\\n<path clip-path=\\\"url(#clip7700)\\\" d=\\\"\\nM1826.71 326.155 L2280.76 326.155 L2280.76 205.195 L1826.71 205.195  Z\\n  \\\" fill=\\\"#ffffff\\\" fill-rule=\\\"evenodd\\\" fill-opacity=\\\"1\\\"\\/>\\n<polyline clip-path=\\\"url(#clip7700)\\\" style=\\\"stroke:#000000; stroke-width:4; stroke-opacity:1; fill:none\\\" points=\\\"\\n  1826.71,326.155 2280.76,326.155 2280.76,205.195 1826.71,205.195 1826.71,326.155 \\n  \\\"\\/>\\n<polyline clip-path=\\\"url(#clip7700)\\\" style=\\\"stroke:#e26f46; stroke-width:4; stroke-opacity:1; fill:none\\\" stroke-dasharray=\\\"16, 10\\\" points=\\\"\\n  1850.71,265.675 1994.71,265.675 \\n  \\\"\\/>\\n<g clip-path=\\\"url(#clip7700)\\\">\\n<text style=\\\"fill:#000000; fill-opacity:1; font-family:Arial,Helvetica Neue,Helvetica,sans-serif; font-size:48px; text-anchor:start;\\\" transform=\\\"rotate(0, 2018.71, 283.175)\\\" x=\\\"2018.71\\\" y=\\\"283.175\\\">tau_mean<\\/text>\\n<\\/g>\\n<\\/svg>\\n\"},\"nodeType\":\"DOM\",\"type\":\"node\",\"instanceArgs\":{\"namespace\":\"html\",\"tag\":\"div\"},\"children\":[]}]}}}},\"children\":[{\"props\":{},\"nodeType\":\"ObservableNode\",\"type\":\"node\",\"instanceArgs\":{\"id\":\"17268587746740585441\",\"name\":\"obs-node\"},\"children\":[]}]}]},\n",
       "            window,\n",
       "        );\n",
       "    } else {\n",
       "        document\n",
       "            .querySelector('[data-webio-mountpoint=\"17446829028964799474\"]')\n",
       "            .innerHTML = (\n",
       "                '<strong>WebIO not detected. Please read ' +\n",
       "                '<a href=\"https://juliagizmos.github.io/WebIO.jl/latest/troubleshooting/not-detected/\">the troubleshooting guide</a> ' +\n",
       "                'for more information on how to resolve this issue.' +\n",
       "                '</strong>'\n",
       "            );\n",
       "    }\n",
       "    </script>\n",
       "</div>\n"
      ],
      "text/plain": [
       "Node{WebIO.DOM}(WebIO.DOM(:html, :div), Any[Node{WebIO.DOM}(WebIO.DOM(:html, :div), Any[Scope(Node{WebIO.DOM}(WebIO.DOM(:html, :div), Any[Node{WebIO.DOM}(WebIO.DOM(:html, :div), Any[Node{WebIO.DOM}(WebIO.DOM(:html, :label), Any[\"p\"], Dict{Symbol,Any}(:className => \"interact \",:style => Dict{Any,Any}(:padding => \"5px 10px 0px 10px\")))], Dict{Symbol,Any}(:className => \"interact-flex-row-left\")), Node{WebIO.DOM}(WebIO.DOM(:html, :div), Any[Node{WebIO.DOM}(WebIO.DOM(:html, :input), Any[], Dict{Symbol,Any}(:max => 10,:min => 1,:attributes => Dict{Any,Any}(:type => \"range\",Symbol(\"data-bind\") => \"numericValue: index, valueUpdate: 'input', event: {change: function (){this.changes(this.changes()+1)}}\",\"orient\" => \"horizontal\"),:step => 1,:className => \"slider slider is-fullwidth\",:style => Dict{Any,Any}()))], Dict{Symbol,Any}(:className => \"interact-flex-row-center\")), Node{WebIO.DOM}(WebIO.DOM(:html, :div), Any[Node{WebIO.DOM}(WebIO.DOM(:html, :p), Any[], Dict{Symbol,Any}(:attributes => Dict(\"data-bind\" => \"text: formatted_val\")))], Dict{Symbol,Any}(:className => \"interact-flex-row-right\"))], Dict{Symbol,Any}(:className => \"interact-flex-row interact-widget\")), Dict{String,Tuple{Observables.AbstractObservable,Union{Nothing, Bool}}}(\"changes\" => (Observable{Int64} with 1 listeners. Value:\n",
       "0, nothing),\"index\" => (Observable{Any} with 2 listeners. Value:\n",
       "5, nothing)), Set(String[]), nothing, Asset[Asset(\"js\", \"knockout\", \"/Users/dan/.julia/packages/Knockout/IP1uR/src/../assets/knockout.js\"), Asset(\"js\", \"knockout_punches\", \"/Users/dan/.julia/packages/Knockout/IP1uR/src/../assets/knockout_punches.js\"), Asset(\"js\", nothing, \"/Users/dan/.julia/packages/InteractBase/NMcus/src/../assets/all.js\"), Asset(\"css\", nothing, \"/Users/dan/.julia/packages/InteractBase/NMcus/src/../assets/style.css\"), Asset(\"css\", nothing, \"/Users/dan/.julia/packages/Interact/SbgIk/src/../assets/bulma_confined.min.css\")], Dict{Any,Any}(\"changes\" => Any[WebIO.JSString(\"(function (val){return (val!=this.model[\\\"changes\\\"]()) ? (this.valueFromJulia[\\\"changes\\\"]=true, this.model[\\\"changes\\\"](val)) : undefined})\")],\"index\" => Any[WebIO.JSString(\"(function (val){return (val!=this.model[\\\"index\\\"]()) ? (this.valueFromJulia[\\\"index\\\"]=true, this.model[\\\"index\\\"](val)) : undefined})\")]), WebIO.ConnectionPool(Channel{Any}(sz_max:32,sz_curr:0), Set(AbstractConnection[]), Base.GenericCondition{Base.AlwaysLockedST}(Base.InvasiveLinkedList{Task}(Task (runnable) @0x000000010f59e1d0, Task (runnable) @0x000000010f59e1d0), Base.AlwaysLockedST(1))), WebIO.JSString[WebIO.JSString(\"function () {\\n    var handler = (function (ko, koPunches) {\\n    ko.punches.enableAll();\\n    ko.bindingHandlers.numericValue = {\\n        init: function(element, valueAccessor, allBindings, data, context) {\\n            var stringified = ko.observable(ko.unwrap(valueAccessor()));\\n            stringified.subscribe(function(value) {\\n                var val = parseFloat(value);\\n                if (!isNaN(val)) {\\n                    valueAccessor()(val);\\n                }\\n            });\\n            valueAccessor().subscribe(function(value) {\\n                var str = JSON.stringify(value);\\n                if ((str == \\\"0\\\") && ([\\\"-0\\\", \\\"-0.\\\"].indexOf(stringified()) >= 0))\\n                     return;\\n                 if ([\\\"null\\\", \\\"\\\"].indexOf(str) >= 0)\\n                     return;\\n                stringified(str);\\n            });\\n            ko.applyBindingsToNode(\\n                element,\\n                {\\n                    value: stringified,\\n                    valueUpdate: allBindings.get('valueUpdate'),\\n                },\\n                context,\\n            );\\n        }\\n    };\\n    var json_data = {\\\"formatted_vals\\\":[\\\"0.1\\\",\\\"0.2\\\",\\\"0.3\\\",\\\"0.4\\\",\\\"0.5\\\",\\\"0.6\\\",\\\"0.7\\\",\\\"0.8\\\",\\\"0.9\\\",\\\"1.0\\\"],\\\"changes\\\":WebIO.getval({\\\"name\\\":\\\"changes\\\",\\\"scope\\\":\\\"12720328278743025694\\\",\\\"id\\\":\\\"16196140803580144312\\\",\\\"type\\\":\\\"observable\\\"}),\\\"index\\\":WebIO.getval({\\\"name\\\":\\\"index\\\",\\\"scope\\\":\\\"12720328278743025694\\\",\\\"id\\\":\\\"15714314209357883368\\\",\\\"type\\\":\\\"observable\\\"})};\\n    var self = this;\\n    function AppViewModel() {\\n        for (var key in json_data) {\\n            var el = json_data[key];\\n            this[key] = Array.isArray(el) ? ko.observableArray(el) : ko.observable(el);\\n        }\\n        \\n        [this[\\\"formatted_val\\\"]=ko.computed(    function(){\\n        return this.formatted_vals()[parseInt(this.index())-(1)];\\n    }\\n,this)]\\n        [this[\\\"changes\\\"].subscribe((function (val){!(this.valueFromJulia[\\\"changes\\\"]) ? (WebIO.setval({\\\"name\\\":\\\"changes\\\",\\\"scope\\\":\\\"12720328278743025694\\\",\\\"id\\\":\\\"16196140803580144312\\\",\\\"type\\\":\\\"observable\\\"},val)) : undefined; return this.valueFromJulia[\\\"changes\\\"]=false}),self),this[\\\"index\\\"].subscribe((function (val){!(this.valueFromJulia[\\\"index\\\"]) ? (WebIO.setval({\\\"name\\\":\\\"index\\\",\\\"scope\\\":\\\"12720328278743025694\\\",\\\"id\\\":\\\"15714314209357883368\\\",\\\"type\\\":\\\"observable\\\"},val)) : undefined; return this.valueFromJulia[\\\"index\\\"]=false}),self)]\\n        \\n    }\\n    self.model = new AppViewModel();\\n    self.valueFromJulia = {};\\n    for (var key in json_data) {\\n        self.valueFromJulia[key] = false;\\n    }\\n    ko.applyBindings(self.model, self.dom);\\n}\\n);\\n    (WebIO.importBlock({\\\"data\\\":[{\\\"name\\\":\\\"knockout\\\",\\\"type\\\":\\\"js\\\",\\\"url\\\":\\\"/assetserver/847903f5df732148b510ba93542242ba69c4346c-knockout.js\\\"},{\\\"name\\\":\\\"knockout_punches\\\",\\\"type\\\":\\\"js\\\",\\\"url\\\":\\\"/assetserver/c0b325de111f2589153d52b7b74e82babec63146-knockout_punches.js\\\"}],\\\"type\\\":\\\"async_block\\\"})).then((imports) => handler.apply(this, imports));\\n}\\n\")])], Dict{Symbol,Any}(:className => \"field interact-widget\")), Node{WebIO.DOM}(WebIO.DOM(:html, :div), Any[Scope(Node{WebIO.DOM}(WebIO.DOM(:html, :div), Any[Node{WebIO.DOM}(WebIO.DOM(:html, :div), Any[Node{WebIO.DOM}(WebIO.DOM(:html, :label), Any[\"N\"], Dict{Symbol,Any}(:className => \"interact \",:style => Dict{Any,Any}(:padding => \"5px 10px 0px 10px\")))], Dict{Symbol,Any}(:className => \"interact-flex-row-left\")), Node{WebIO.DOM}(WebIO.DOM(:html, :div), Any[Node{WebIO.DOM}(WebIO.DOM(:html, :input), Any[], Dict{Symbol,Any}(:max => 6,:min => 1,:attributes => Dict{Any,Any}(:type => \"range\",Symbol(\"data-bind\") => \"numericValue: index, valueUpdate: 'input', event: {change: function (){this.changes(this.changes()+1)}}\",\"orient\" => \"horizontal\"),:step => 1,:className => \"slider slider is-fullwidth\",:style => Dict{Any,Any}()))], Dict{Symbol,Any}(:className => \"interact-flex-row-center\")), Node{WebIO.DOM}(WebIO.DOM(:html, :div), Any[Node{WebIO.DOM}(WebIO.DOM(:html, :p), Any[], Dict{Symbol,Any}(:attributes => Dict(\"data-bind\" => \"text: formatted_val\")))], Dict{Symbol,Any}(:className => \"interact-flex-row-right\"))], Dict{Symbol,Any}(:className => \"interact-flex-row interact-widget\")), Dict{String,Tuple{Observables.AbstractObservable,Union{Nothing, Bool}}}(\"changes\" => (Observable{Int64} with 1 listeners. Value:\n",
       "0, nothing),\"index\" => (Observable{Any} with 2 listeners. Value:\n",
       "3, nothing)), Set(String[]), nothing, Asset[Asset(\"js\", \"knockout\", \"/Users/dan/.julia/packages/Knockout/IP1uR/src/../assets/knockout.js\"), Asset(\"js\", \"knockout_punches\", \"/Users/dan/.julia/packages/Knockout/IP1uR/src/../assets/knockout_punches.js\"), Asset(\"js\", nothing, \"/Users/dan/.julia/packages/InteractBase/NMcus/src/../assets/all.js\"), Asset(\"css\", nothing, \"/Users/dan/.julia/packages/InteractBase/NMcus/src/../assets/style.css\"), Asset(\"css\", nothing, \"/Users/dan/.julia/packages/Interact/SbgIk/src/../assets/bulma_confined.min.css\")], Dict{Any,Any}(\"changes\" => Any[WebIO.JSString(\"(function (val){return (val!=this.model[\\\"changes\\\"]()) ? (this.valueFromJulia[\\\"changes\\\"]=true, this.model[\\\"changes\\\"](val)) : undefined})\")],\"index\" => Any[WebIO.JSString(\"(function (val){return (val!=this.model[\\\"index\\\"]()) ? (this.valueFromJulia[\\\"index\\\"]=true, this.model[\\\"index\\\"](val)) : undefined})\")]), WebIO.ConnectionPool(Channel{Any}(sz_max:32,sz_curr:0), Set(AbstractConnection[]), Base.GenericCondition{Base.AlwaysLockedST}(Base.InvasiveLinkedList{Task}(Task (runnable) @0x000000010df23a90, Task (runnable) @0x000000010df23a90), Base.AlwaysLockedST(1))), WebIO.JSString[WebIO.JSString(\"function () {\\n    var handler = (function (ko, koPunches) {\\n    ko.punches.enableAll();\\n    ko.bindingHandlers.numericValue = {\\n        init: function(element, valueAccessor, allBindings, data, context) {\\n            var stringified = ko.observable(ko.unwrap(valueAccessor()));\\n            stringified.subscribe(function(value) {\\n                var val = parseFloat(value);\\n                if (!isNaN(val)) {\\n                    valueAccessor()(val);\\n                }\\n            });\\n            valueAccessor().subscribe(function(value) {\\n                var str = JSON.stringify(value);\\n                if ((str == \\\"0\\\") && ([\\\"-0\\\", \\\"-0.\\\"].indexOf(stringified()) >= 0))\\n                     return;\\n                 if ([\\\"null\\\", \\\"\\\"].indexOf(str) >= 0)\\n                     return;\\n                stringified(str);\\n            });\\n            ko.applyBindingsToNode(\\n                element,\\n                {\\n                    value: stringified,\\n                    valueUpdate: allBindings.get('valueUpdate'),\\n                },\\n                context,\\n            );\\n        }\\n    };\\n    var json_data = {\\\"formatted_vals\\\":[\\\"1\\\",\\\"10\\\",\\\"100\\\",\\\"1000\\\",\\\"10000\\\",\\\"100000\\\"],\\\"changes\\\":WebIO.getval({\\\"name\\\":\\\"changes\\\",\\\"scope\\\":\\\"4941589005890875241\\\",\\\"id\\\":\\\"753113630291340598\\\",\\\"type\\\":\\\"observable\\\"}),\\\"index\\\":WebIO.getval({\\\"name\\\":\\\"index\\\",\\\"scope\\\":\\\"4941589005890875241\\\",\\\"id\\\":\\\"3463905927171570092\\\",\\\"type\\\":\\\"observable\\\"})};\\n    var self = this;\\n    function AppViewModel() {\\n        for (var key in json_data) {\\n            var el = json_data[key];\\n            this[key] = Array.isArray(el) ? ko.observableArray(el) : ko.observable(el);\\n        }\\n        \\n        [this[\\\"formatted_val\\\"]=ko.computed(    function(){\\n        return this.formatted_vals()[parseInt(this.index())-(1)];\\n    }\\n,this)]\\n        [this[\\\"changes\\\"].subscribe((function (val){!(this.valueFromJulia[\\\"changes\\\"]) ? (WebIO.setval({\\\"name\\\":\\\"changes\\\",\\\"scope\\\":\\\"4941589005890875241\\\",\\\"id\\\":\\\"753113630291340598\\\",\\\"type\\\":\\\"observable\\\"},val)) : undefined; return this.valueFromJulia[\\\"changes\\\"]=false}),self),this[\\\"index\\\"].subscribe((function (val){!(this.valueFromJulia[\\\"index\\\"]) ? (WebIO.setval({\\\"name\\\":\\\"index\\\",\\\"scope\\\":\\\"4941589005890875241\\\",\\\"id\\\":\\\"3463905927171570092\\\",\\\"type\\\":\\\"observable\\\"},val)) : undefined; return this.valueFromJulia[\\\"index\\\"]=false}),self)]\\n        \\n    }\\n    self.model = new AppViewModel();\\n    self.valueFromJulia = {};\\n    for (var key in json_data) {\\n        self.valueFromJulia[key] = false;\\n    }\\n    ko.applyBindings(self.model, self.dom);\\n}\\n);\\n    (WebIO.importBlock({\\\"data\\\":[{\\\"name\\\":\\\"knockout\\\",\\\"type\\\":\\\"js\\\",\\\"url\\\":\\\"/assetserver/847903f5df732148b510ba93542242ba69c4346c-knockout.js\\\"},{\\\"name\\\":\\\"knockout_punches\\\",\\\"type\\\":\\\"js\\\",\\\"url\\\":\\\"/assetserver/c0b325de111f2589153d52b7b74e82babec63146-knockout_punches.js\\\"}],\\\"type\\\":\\\"async_block\\\"})).then((imports) => handler.apply(this, imports));\\n}\\n\")])], Dict{Symbol,Any}(:className => \"field interact-widget\")), Observable{Any} with 0 listeners. Value:\n",
       "Node{WebIO.DOM}(WebIO.DOM(:html, :div), Any[Plot{Plots.GRBackend() n=2}], Dict{Symbol,Any}(:className => \"interact-flex-row interact-widget\"))], Dict{Symbol,Any}())"
      ]
     },
     "execution_count": 20,
     "metadata": {
      "application/vnd.webio.node+json": {
       "kernelId": "61dd9ceb-ee8b-4b1e-aaeb-0fa4699f6c90"
      }
     },
     "output_type": "execute_result"
    }
   ],
   "source": [
    "using Interact\n",
    "\n",
    "linspace(a,b,n) = range(a,stop=b,length=n)\n",
    "logspace(a::Int,b::Int,n) = map(Int,map(round, 10 .^ linspace(log10(a),log10(b),n)))\n",
    "\n",
    "@manipulate for p in linspace(0,1,11)[2:end], N=logspace(1, 10^5, 6)\n",
    "  make_recovery_plot(p, N)\n",
    "end\n"
   ]
  },
  {
   "cell_type": "markdown",
   "metadata": {},
   "source": [
    "#### As you decrease p, the expected tau tends towards infinity...\n",
    "\n",
    "----\n"
   ]
  },
  {
   "cell_type": "markdown",
   "metadata": {},
   "source": [
    "\n",
    "### 8. Fix $N = 10,000$ and calculate the *mean* time $\\langle \\tau(p) \\rangle$ to recover. \n",
    "\n",
    "+ Plot this as a function of $p$.\n",
    "+ Can you find the relationship between the two quantities?"
   ]
  },
  {
   "cell_type": "code",
   "execution_count": 21,
   "metadata": {},
   "outputs": [
    {
     "data": {
      "image/svg+xml": [
       "<?xml version=\"1.0\" encoding=\"utf-8\"?>\n",
       "<svg xmlns=\"http://www.w3.org/2000/svg\" xmlns:xlink=\"http://www.w3.org/1999/xlink\" width=\"600\" height=\"400\" viewBox=\"0 0 2400 1600\">\n",
       "<defs>\n",
       "  <clipPath id=\"clip8500\">\n",
       "    <rect x=\"0\" y=\"0\" width=\"2400\" height=\"1600\"/>\n",
       "  </clipPath>\n",
       "</defs>\n",
       "<path clip-path=\"url(#clip8500)\" d=\"\n",
       "M0 1600 L2400 1600 L2400 0 L0 0  Z\n",
       "  \" fill=\"#ffffff\" fill-rule=\"evenodd\" fill-opacity=\"1\"/>\n",
       "<defs>\n",
       "  <clipPath id=\"clip8501\">\n",
       "    <rect x=\"480\" y=\"0\" width=\"1681\" height=\"1600\"/>\n",
       "  </clipPath>\n",
       "</defs>\n",
       "<path clip-path=\"url(#clip8500)\" d=\"\n",
       "M180.66 1425.62 L2352.76 1425.62 L2352.76 121.675 L180.66 121.675  Z\n",
       "  \" fill=\"#ffffff\" fill-rule=\"evenodd\" fill-opacity=\"1\"/>\n",
       "<defs>\n",
       "  <clipPath id=\"clip8502\">\n",
       "    <rect x=\"180\" y=\"121\" width=\"2173\" height=\"1305\"/>\n",
       "  </clipPath>\n",
       "</defs>\n",
       "<polyline clip-path=\"url(#clip8502)\" style=\"stroke:#000000; stroke-width:2; stroke-opacity:0.1; fill:none\" points=\"\n",
       "  236.999,1425.62 236.999,121.675 \n",
       "  \"/>\n",
       "<polyline clip-path=\"url(#clip8502)\" style=\"stroke:#000000; stroke-width:2; stroke-opacity:0.1; fill:none\" points=\"\n",
       "  750.57,1425.62 750.57,121.675 \n",
       "  \"/>\n",
       "<polyline clip-path=\"url(#clip8502)\" style=\"stroke:#000000; stroke-width:2; stroke-opacity:0.1; fill:none\" points=\"\n",
       "  1264.14,1425.62 1264.14,121.675 \n",
       "  \"/>\n",
       "<polyline clip-path=\"url(#clip8502)\" style=\"stroke:#000000; stroke-width:2; stroke-opacity:0.1; fill:none\" points=\"\n",
       "  1777.71,1425.62 1777.71,121.675 \n",
       "  \"/>\n",
       "<polyline clip-path=\"url(#clip8502)\" style=\"stroke:#000000; stroke-width:2; stroke-opacity:0.1; fill:none\" points=\"\n",
       "  2291.28,1425.62 2291.28,121.675 \n",
       "  \"/>\n",
       "<polyline clip-path=\"url(#clip8502)\" style=\"stroke:#000000; stroke-width:2; stroke-opacity:0.1; fill:none\" points=\"\n",
       "  180.66,1391.79 2352.76,1391.79 \n",
       "  \"/>\n",
       "<polyline clip-path=\"url(#clip8502)\" style=\"stroke:#000000; stroke-width:2; stroke-opacity:0.1; fill:none\" points=\"\n",
       "  180.66,1083.49 2352.76,1083.49 \n",
       "  \"/>\n",
       "<polyline clip-path=\"url(#clip8502)\" style=\"stroke:#000000; stroke-width:2; stroke-opacity:0.1; fill:none\" points=\"\n",
       "  180.66,775.185 2352.76,775.185 \n",
       "  \"/>\n",
       "<polyline clip-path=\"url(#clip8502)\" style=\"stroke:#000000; stroke-width:2; stroke-opacity:0.1; fill:none\" points=\"\n",
       "  180.66,466.882 2352.76,466.882 \n",
       "  \"/>\n",
       "<polyline clip-path=\"url(#clip8502)\" style=\"stroke:#000000; stroke-width:2; stroke-opacity:0.1; fill:none\" points=\"\n",
       "  180.66,158.579 2352.76,158.579 \n",
       "  \"/>\n",
       "<polyline clip-path=\"url(#clip8500)\" style=\"stroke:#000000; stroke-width:4; stroke-opacity:1; fill:none\" points=\"\n",
       "  180.66,1425.62 2352.76,1425.62 \n",
       "  \"/>\n",
       "<polyline clip-path=\"url(#clip8500)\" style=\"stroke:#000000; stroke-width:4; stroke-opacity:1; fill:none\" points=\"\n",
       "  180.66,1425.62 180.66,121.675 \n",
       "  \"/>\n",
       "<polyline clip-path=\"url(#clip8500)\" style=\"stroke:#000000; stroke-width:4; stroke-opacity:1; fill:none\" points=\"\n",
       "  236.999,1425.62 236.999,1409.97 \n",
       "  \"/>\n",
       "<polyline clip-path=\"url(#clip8500)\" style=\"stroke:#000000; stroke-width:4; stroke-opacity:1; fill:none\" points=\"\n",
       "  750.57,1425.62 750.57,1409.97 \n",
       "  \"/>\n",
       "<polyline clip-path=\"url(#clip8500)\" style=\"stroke:#000000; stroke-width:4; stroke-opacity:1; fill:none\" points=\"\n",
       "  1264.14,1425.62 1264.14,1409.97 \n",
       "  \"/>\n",
       "<polyline clip-path=\"url(#clip8500)\" style=\"stroke:#000000; stroke-width:4; stroke-opacity:1; fill:none\" points=\"\n",
       "  1777.71,1425.62 1777.71,1409.97 \n",
       "  \"/>\n",
       "<polyline clip-path=\"url(#clip8500)\" style=\"stroke:#000000; stroke-width:4; stroke-opacity:1; fill:none\" points=\"\n",
       "  2291.28,1425.62 2291.28,1409.97 \n",
       "  \"/>\n",
       "<polyline clip-path=\"url(#clip8500)\" style=\"stroke:#000000; stroke-width:4; stroke-opacity:1; fill:none\" points=\"\n",
       "  180.66,1391.79 206.725,1391.79 \n",
       "  \"/>\n",
       "<polyline clip-path=\"url(#clip8500)\" style=\"stroke:#000000; stroke-width:4; stroke-opacity:1; fill:none\" points=\"\n",
       "  180.66,1083.49 206.725,1083.49 \n",
       "  \"/>\n",
       "<polyline clip-path=\"url(#clip8500)\" style=\"stroke:#000000; stroke-width:4; stroke-opacity:1; fill:none\" points=\"\n",
       "  180.66,775.185 206.725,775.185 \n",
       "  \"/>\n",
       "<polyline clip-path=\"url(#clip8500)\" style=\"stroke:#000000; stroke-width:4; stroke-opacity:1; fill:none\" points=\"\n",
       "  180.66,466.882 206.725,466.882 \n",
       "  \"/>\n",
       "<polyline clip-path=\"url(#clip8500)\" style=\"stroke:#000000; stroke-width:4; stroke-opacity:1; fill:none\" points=\"\n",
       "  180.66,158.579 206.725,158.579 \n",
       "  \"/>\n",
       "<g clip-path=\"url(#clip8500)\">\n",
       "<text style=\"fill:#000000; fill-opacity:1; font-family:Arial,Helvetica Neue,Helvetica,sans-serif; font-size:48px; text-anchor:middle;\" transform=\"rotate(0, 236.999, 1479.62)\" x=\"236.999\" y=\"1479.62\">0.00</text>\n",
       "</g>\n",
       "<g clip-path=\"url(#clip8500)\">\n",
       "<text style=\"fill:#000000; fill-opacity:1; font-family:Arial,Helvetica Neue,Helvetica,sans-serif; font-size:48px; text-anchor:middle;\" transform=\"rotate(0, 750.57, 1479.62)\" x=\"750.57\" y=\"1479.62\">0.25</text>\n",
       "</g>\n",
       "<g clip-path=\"url(#clip8500)\">\n",
       "<text style=\"fill:#000000; fill-opacity:1; font-family:Arial,Helvetica Neue,Helvetica,sans-serif; font-size:48px; text-anchor:middle;\" transform=\"rotate(0, 1264.14, 1479.62)\" x=\"1264.14\" y=\"1479.62\">0.50</text>\n",
       "</g>\n",
       "<g clip-path=\"url(#clip8500)\">\n",
       "<text style=\"fill:#000000; fill-opacity:1; font-family:Arial,Helvetica Neue,Helvetica,sans-serif; font-size:48px; text-anchor:middle;\" transform=\"rotate(0, 1777.71, 1479.62)\" x=\"1777.71\" y=\"1479.62\">0.75</text>\n",
       "</g>\n",
       "<g clip-path=\"url(#clip8500)\">\n",
       "<text style=\"fill:#000000; fill-opacity:1; font-family:Arial,Helvetica Neue,Helvetica,sans-serif; font-size:48px; text-anchor:middle;\" transform=\"rotate(0, 2291.28, 1479.62)\" x=\"2291.28\" y=\"1479.62\">1.00</text>\n",
       "</g>\n",
       "<g clip-path=\"url(#clip8500)\">\n",
       "<text style=\"fill:#000000; fill-opacity:1; font-family:Arial,Helvetica Neue,Helvetica,sans-serif; font-size:48px; text-anchor:end;\" transform=\"rotate(0, 156.66, 1409.29)\" x=\"156.66\" y=\"1409.29\">0.00</text>\n",
       "</g>\n",
       "<g clip-path=\"url(#clip8500)\">\n",
       "<text style=\"fill:#000000; fill-opacity:1; font-family:Arial,Helvetica Neue,Helvetica,sans-serif; font-size:48px; text-anchor:end;\" transform=\"rotate(0, 156.66, 1100.99)\" x=\"156.66\" y=\"1100.99\">0.25</text>\n",
       "</g>\n",
       "<g clip-path=\"url(#clip8500)\">\n",
       "<text style=\"fill:#000000; fill-opacity:1; font-family:Arial,Helvetica Neue,Helvetica,sans-serif; font-size:48px; text-anchor:end;\" transform=\"rotate(0, 156.66, 792.685)\" x=\"156.66\" y=\"792.685\">0.50</text>\n",
       "</g>\n",
       "<g clip-path=\"url(#clip8500)\">\n",
       "<text style=\"fill:#000000; fill-opacity:1; font-family:Arial,Helvetica Neue,Helvetica,sans-serif; font-size:48px; text-anchor:end;\" transform=\"rotate(0, 156.66, 484.382)\" x=\"156.66\" y=\"484.382\">0.75</text>\n",
       "</g>\n",
       "<g clip-path=\"url(#clip8500)\">\n",
       "<text style=\"fill:#000000; fill-opacity:1; font-family:Arial,Helvetica Neue,Helvetica,sans-serif; font-size:48px; text-anchor:end;\" transform=\"rotate(0, 156.66, 176.079)\" x=\"156.66\" y=\"176.079\">1.00</text>\n",
       "</g>\n",
       "<g clip-path=\"url(#clip8500)\">\n",
       "<text style=\"fill:#000000; fill-opacity:1; font-family:Arial,Helvetica Neue,Helvetica,sans-serif; font-size:84px; text-anchor:middle;\" transform=\"rotate(0, 1266.71, 73.2)\" x=\"1266.71\" y=\"73.2\">tau = 1/p</text>\n",
       "</g>\n",
       "<g clip-path=\"url(#clip8500)\">\n",
       "<text style=\"fill:#000000; fill-opacity:1; font-family:Arial,Helvetica Neue,Helvetica,sans-serif; font-size:66px; text-anchor:middle;\" transform=\"rotate(0, 1266.71, 1559.48)\" x=\"1266.71\" y=\"1559.48\">tau</text>\n",
       "</g>\n",
       "<polyline clip-path=\"url(#clip8502)\" style=\"stroke:#009af9; stroke-width:4; stroke-opacity:1; fill:none\" points=\"\n",
       "  242.135,1388.71 247.27,1385.53 252.406,1382.54 257.542,1379.57 262.678,1376.27 267.813,1373.32 272.949,1370.15 278.085,1367.65 283.22,1364 288.356,1361.69 \n",
       "  293.492,1357.32 298.627,1354.58 303.763,1351.93 308.899,1348.97 314.035,1345.72 319.17,1341.73 324.306,1338.55 329.442,1336.3 334.577,1333.87 339.713,1329.93 \n",
       "  344.849,1328.27 349.985,1325.12 355.12,1322.03 360.256,1318.67 365.392,1316.04 370.527,1312.08 375.663,1308.72 380.799,1304.99 385.934,1301.62 391.07,1299.53 \n",
       "  396.206,1297.16 401.342,1294.62 406.477,1290.34 411.613,1286.32 416.749,1281.27 421.884,1279.93 427.02,1277.27 432.156,1275.54 437.292,1271.1 442.427,1268.97 \n",
       "  447.563,1266.91 452.699,1263.25 457.834,1257.78 462.97,1257.01 468.106,1253.2 473.241,1251.99 478.377,1247.71 483.513,1243.85 488.649,1239.05 493.784,1238.45 \n",
       "  498.92,1235.34 504.056,1231.34 509.191,1229.19 514.327,1222.8 519.463,1221.47 524.599,1218.05 529.734,1212.74 534.87,1212.79 540.006,1211.51 545.141,1210.04 \n",
       "  550.277,1206.37 555.413,1201.61 560.549,1196.84 565.684,1197.75 570.82,1190.35 575.956,1185.69 581.091,1187.29 586.227,1182.61 591.363,1180.94 596.498,1175.01 \n",
       "  601.634,1174.22 606.77,1171.38 611.906,1166.16 617.041,1159.21 622.177,1162.37 627.313,1155.44 632.448,1153.15 637.584,1149.88 642.72,1146.74 647.856,1146.58 \n",
       "  652.991,1140.29 658.127,1138.36 663.263,1133.03 668.398,1131.72 673.534,1129.67 678.67,1128.2 683.805,1124.35 688.941,1118.03 694.077,1119.2 699.213,1118.64 \n",
       "  704.348,1106.96 709.484,1110.13 714.62,1104.15 719.755,1101.58 724.891,1099.94 730.027,1095.57 735.163,1090.66 740.298,1091.43 745.434,1084.81 750.57,1084.4 \n",
       "  755.705,1082.67 760.841,1072.65 765.977,1076.45 771.112,1070.37 776.248,1069.27 781.384,1062.77 786.52,1061.6 791.655,1057.61 796.791,1056.96 801.927,1055.42 \n",
       "  807.062,1048.78 812.198,1050.68 817.334,1040.55 822.47,1042.98 827.605,1039.49 832.741,1037.79 837.877,1027.6 843.012,1027.68 848.148,1021.97 853.284,1021.65 \n",
       "  858.419,1019.04 863.555,1009.79 868.691,1010.28 873.827,1013.63 878.962,1003.81 884.098,1002.63 889.234,999.86 894.369,995.49 899.505,987.008 904.641,990.747 \n",
       "  909.777,990.773 914.912,989.517 920.048,980.926 925.184,973.796 930.319,975.278 935.455,966.883 940.591,970.641 945.726,961.546 950.862,956.689 955.998,961.306 \n",
       "  961.134,956.643 966.269,955.086 971.405,955.766 976.541,943.579 981.676,945.993 986.812,932.546 991.948,939.021 997.084,938.854 1002.22,939.054 1007.35,927.48 \n",
       "  1012.49,930.829 1017.63,925.302 1022.76,918.934 1027.9,919.622 1033.03,906.905 1038.17,914.801 1043.3,910.35 1048.44,905.95 1053.58,902.752 1058.71,901.039 \n",
       "  1063.85,896.983 1068.98,894.509 1074.12,894.147 1079.25,890.893 1084.39,878.167 1089.53,872.807 1094.66,887.018 1099.8,871.471 1104.93,876.472 1110.07,878.103 \n",
       "  1115.2,865.205 1120.34,866.551 1125.48,854.327 1130.61,859.868 1135.75,850.482 1140.88,848.407 1146.02,842.085 1151.15,840.512 1156.29,841.545 1161.43,844.597 \n",
       "  1166.56,834.76 1171.7,821.309 1176.83,833.398 1181.97,828.424 1187.1,825.552 1192.24,815.363 1197.38,814.769 1202.51,814.283 1207.65,814.607 1212.78,807.137 \n",
       "  1217.92,803.062 1223.05,800.436 1228.19,794.102 1233.33,789.461 1238.46,796.497 1243.6,791.717 1248.73,787.098 1253.87,777.367 1259,777.458 1264.14,774.29 \n",
       "  1269.28,776.109 1274.41,771.744 1279.55,762.216 1284.68,765.255 1289.82,763.403 1294.95,755.755 1300.09,752.258 1305.23,746.84 1310.36,746.029 1315.5,748.253 \n",
       "  1320.63,743.96 1325.77,735.618 1330.9,732.038 1336.04,734.534 1341.18,733.833 1346.31,730.091 1351.45,721.422 1356.58,718.531 1361.72,707.586 1366.85,712.036 \n",
       "  1371.99,705.835 1377.13,710.91 1382.26,695.061 1387.4,698.547 1392.53,700.994 1397.67,689.707 1402.8,697.22 1407.94,680.637 1413.08,692.017 1418.21,690.346 \n",
       "  1423.35,681.375 1428.48,675.474 1433.62,678.416 1438.75,670.235 1443.89,663.072 1449.03,666.842 1454.16,664.018 1459.3,658.391 1464.43,651.479 1469.57,653.385 \n",
       "  1474.7,649.34 1479.84,647.907 1484.98,648.31 1490.11,634.151 1495.25,644.073 1500.38,632.518 1505.52,628.334 1510.65,627.009 1515.79,626.819 1520.93,618.763 \n",
       "  1526.06,625.916 1531.2,618.86 1536.33,614.426 1541.47,608.75 1546.6,601.22 1551.74,601.119 1556.88,597.401 1562.01,589.963 1567.15,599.29 1572.28,596.94 \n",
       "  1577.42,589.128 1582.55,580.254 1587.69,590.067 1592.83,572.545 1597.96,574.932 1603.1,572.762 1608.23,569.65 1613.37,567.672 1618.5,559.833 1623.64,560.338 \n",
       "  1628.78,557.751 1633.91,550.181 1639.05,553.442 1644.18,548.512 1649.32,544.048 1654.45,536.819 1659.59,534.62 1664.73,532.769 1669.86,530.249 1675,528.379 \n",
       "  1680.13,518.597 1685.27,515.619 1690.4,527.108 1695.54,516.738 1700.68,513.56 1705.81,499 1710.95,510.296 1716.08,502.862 1721.22,506.817 1726.35,498.354 \n",
       "  1731.49,505.481 1736.63,491.439 1741.76,489.529 1746.9,487.345 1752.03,487.213 1757.17,476.063 1762.3,468.659 1767.44,479.45 1772.58,474.632 1777.71,468.659 \n",
       "  1782.85,466.095 1787.98,459.235 1793.12,459.658 1798.25,458.035 1803.39,454.558 1808.53,449.545 1813.66,446.946 1818.8,449.833 1823.93,434.106 1829.07,437.736 \n",
       "  1834.2,433.287 1839.34,436.48 1844.48,431.346 1849.61,426.61 1854.75,422.209 1859.88,413.362 1865.02,410.013 1870.15,413.285 1875.29,415.454 1880.43,397.426 \n",
       "  1885.56,401.896 1890.7,396.222 1895.83,398.627 1900.97,383.606 1906.1,392.996 1911.24,387.629 1916.37,379.468 1921.51,384.512 1926.65,375.966 1931.78,373.954 \n",
       "  1936.92,371.934 1942.05,370.244 1947.19,367.018 1952.32,360.85 1957.46,355.914 1962.6,354.694 1967.73,351.808 1972.87,356.262 1978,342.07 1983.14,352.246 \n",
       "  1988.27,343.944 1993.41,331.967 1998.55,337.584 2003.68,331.602 2008.82,323.243 2013.95,332.422 2019.09,317.752 2024.22,319.992 2029.36,319.34 2034.5,307.744 \n",
       "  2039.63,307.458 2044.77,309.931 2049.9,306.695 2055.04,297.645 2060.17,301.707 2065.31,291.102 2070.45,296.868 2075.58,291.397 2080.72,284.878 2085.85,281.69 \n",
       "  2090.99,275.257 2096.12,271.606 2101.26,268.443 2106.4,267.828 2111.53,261.855 2116.67,262.786 2121.8,264.335 2126.94,256.759 2132.07,251.828 2137.21,254.142 \n",
       "  2142.35,253.407 2147.48,240.763 2152.62,239.58 2157.75,237.639 2162.89,234.498 2168.02,238.61 2173.16,233.302 2178.3,226.184 2183.43,222.87 2188.57,218.198 \n",
       "  2193.7,217.639 2198.84,214.051 2203.97,210.893 2209.11,209.874 2214.25,203.382 2219.38,197.744 2224.52,194.614 2229.65,197.281 2234.79,194.498 2239.92,191.001 \n",
       "  2245.06,186.423 2250.2,182.997 2255.33,180.979 2260.47,178.478 2265.6,174.525 2270.74,170.789 2275.87,167.881 2281.01,163.982 2286.15,161.9 2291.28,158.579 \n",
       "  \n",
       "  \"/>\n",
       "<path clip-path=\"url(#clip8500)\" d=\"\n",
       "M1888.27 326.155 L2280.76 326.155 L2280.76 205.195 L1888.27 205.195  Z\n",
       "  \" fill=\"#ffffff\" fill-rule=\"evenodd\" fill-opacity=\"1\"/>\n",
       "<polyline clip-path=\"url(#clip8500)\" style=\"stroke:#000000; stroke-width:4; stroke-opacity:1; fill:none\" points=\"\n",
       "  1888.27,326.155 2280.76,326.155 2280.76,205.195 1888.27,205.195 1888.27,326.155 \n",
       "  \"/>\n",
       "<polyline clip-path=\"url(#clip8500)\" style=\"stroke:#009af9; stroke-width:4; stroke-opacity:1; fill:none\" points=\"\n",
       "  1912.27,265.675 2056.27,265.675 \n",
       "  \"/>\n",
       "<g clip-path=\"url(#clip8500)\">\n",
       "<text style=\"fill:#000000; fill-opacity:1; font-family:Arial,Helvetica Neue,Helvetica,sans-serif; font-size:48px; text-anchor:start;\" transform=\"rotate(0, 2080.27, 283.175)\" x=\"2080.27\" y=\"283.175\">( 1 / p )</text>\n",
       "</g>\n",
       "</svg>\n"
      ]
     },
     "execution_count": 21,
     "metadata": {},
     "output_type": "execute_result"
    }
   ],
   "source": [
    "N = 10^4\n",
    "n = 400\n",
    "\n",
    "xx = linspace(0,1,n+1)[2:end]\n",
    "yy = []\n",
    "\n",
    "for p in xx\n",
    "  cur_experiment = experiment(p, N)\n",
    "  cur_distribution = probability_distribution(cur_experiment)\n",
    "\n",
    "  cur_mean_tau = calc_mean_tau(cur_distribution)\n",
    "  push!(yy, cur_mean_tau)\n",
    "end\n",
    "\n",
    "plot(\n",
    "  xx, 1 ./ yy, xlabel=\"tau\", \n",
    "  label=\"( 1 / p )\", title=\"tau = 1/p\"\n",
    ")"
   ]
  },
  {
   "cell_type": "markdown",
   "metadata": {},
   "source": [
    "----\n",
    "\n",
    "## Exercise 3: More efficient geometric distributions\n",
    "\n",
    "Let's use the notation $P_n := \\mathbb{P}(\\tau = n)$ for the probability to recover on the $n$th step.\n",
    "\n",
    "Probability theory tells us that in the limit of an infinite number of trials, we have the exact results $P_1 = p$, that $P_2 = p (1-p)$, and in general $P_n = p (1 - p)^{n-1}$.\n",
    "\n",
    "----"
   ]
  },
  {
   "cell_type": "markdown",
   "metadata": {},
   "source": [
    "### 1. Fix $p = 0.25$. Make a vector of the values $P_n$ for $n=1, \\dots, 50$\n",
    "\n"
   ]
  },
  {
   "cell_type": "code",
   "execution_count": 22,
   "metadata": {},
   "outputs": [],
   "source": [
    "p = 0.25\n",
    "\n",
    "max_n = 50\n",
    "n_list = 1:max_n\n",
    "\n",
    "P(n) = p * (1-p) ^ (n-1)\n",
    "P_list = P.(n_list)\n",
    "\n",
    "@assert P_list[1] == p\n",
    "@assert P_list[2] == p * (1-p)\n"
   ]
  },
  {
   "cell_type": "markdown",
   "metadata": {},
   "source": [
    "### 2. Plot $P_n$ as a function of $n$ and compare it to last exercise\n",
    "\n"
   ]
  },
  {
   "cell_type": "code",
   "execution_count": 23,
   "metadata": {},
   "outputs": [
    {
     "data": {
      "image/svg+xml": [
       "<?xml version=\"1.0\" encoding=\"utf-8\"?>\n",
       "<svg xmlns=\"http://www.w3.org/2000/svg\" xmlns:xlink=\"http://www.w3.org/1999/xlink\" width=\"600\" height=\"400\" viewBox=\"0 0 2400 1600\">\n",
       "<defs>\n",
       "  <clipPath id=\"clip8900\">\n",
       "    <rect x=\"0\" y=\"0\" width=\"2400\" height=\"1600\"/>\n",
       "  </clipPath>\n",
       "</defs>\n",
       "<path clip-path=\"url(#clip8900)\" d=\"\n",
       "M0 1600 L2400 1600 L2400 0 L0 0  Z\n",
       "  \" fill=\"#ffffff\" fill-rule=\"evenodd\" fill-opacity=\"1\"/>\n",
       "<defs>\n",
       "  <clipPath id=\"clip8901\">\n",
       "    <rect x=\"480\" y=\"0\" width=\"1681\" height=\"1600\"/>\n",
       "  </clipPath>\n",
       "</defs>\n",
       "<path clip-path=\"url(#clip8900)\" d=\"\n",
       "M242.516 1425.62 L2352.76 1425.62 L2352.76 121.675 L242.516 121.675  Z\n",
       "  \" fill=\"#ffffff\" fill-rule=\"evenodd\" fill-opacity=\"1\"/>\n",
       "<defs>\n",
       "  <clipPath id=\"clip8902\">\n",
       "    <rect x=\"242\" y=\"121\" width=\"2111\" height=\"1305\"/>\n",
       "  </clipPath>\n",
       "</defs>\n",
       "<polyline clip-path=\"url(#clip8902)\" style=\"stroke:#000000; stroke-width:2; stroke-opacity:0.1; fill:none\" points=\"\n",
       "  318.589,1425.62 318.589,121.675 \n",
       "  \"/>\n",
       "<polyline clip-path=\"url(#clip8902)\" style=\"stroke:#000000; stroke-width:2; stroke-opacity:0.1; fill:none\" points=\"\n",
       "  713.477,1425.62 713.477,121.675 \n",
       "  \"/>\n",
       "<polyline clip-path=\"url(#clip8902)\" style=\"stroke:#000000; stroke-width:2; stroke-opacity:0.1; fill:none\" points=\"\n",
       "  1108.37,1425.62 1108.37,121.675 \n",
       "  \"/>\n",
       "<polyline clip-path=\"url(#clip8902)\" style=\"stroke:#000000; stroke-width:2; stroke-opacity:0.1; fill:none\" points=\"\n",
       "  1503.25,1425.62 1503.25,121.675 \n",
       "  \"/>\n",
       "<polyline clip-path=\"url(#clip8902)\" style=\"stroke:#000000; stroke-width:2; stroke-opacity:0.1; fill:none\" points=\"\n",
       "  1898.14,1425.62 1898.14,121.675 \n",
       "  \"/>\n",
       "<polyline clip-path=\"url(#clip8902)\" style=\"stroke:#000000; stroke-width:2; stroke-opacity:0.1; fill:none\" points=\"\n",
       "  2293.03,1425.62 2293.03,121.675 \n",
       "  \"/>\n",
       "<polyline clip-path=\"url(#clip8902)\" style=\"stroke:#000000; stroke-width:2; stroke-opacity:0.1; fill:none\" points=\"\n",
       "  242.516,1388.71 2352.76,1388.71 \n",
       "  \"/>\n",
       "<polyline clip-path=\"url(#clip8902)\" style=\"stroke:#000000; stroke-width:2; stroke-opacity:0.1; fill:none\" points=\"\n",
       "  242.516,1145.8 2352.76,1145.8 \n",
       "  \"/>\n",
       "<polyline clip-path=\"url(#clip8902)\" style=\"stroke:#000000; stroke-width:2; stroke-opacity:0.1; fill:none\" points=\"\n",
       "  242.516,902.879 2352.76,902.879 \n",
       "  \"/>\n",
       "<polyline clip-path=\"url(#clip8902)\" style=\"stroke:#000000; stroke-width:2; stroke-opacity:0.1; fill:none\" points=\"\n",
       "  242.516,659.961 2352.76,659.961 \n",
       "  \"/>\n",
       "<polyline clip-path=\"url(#clip8902)\" style=\"stroke:#000000; stroke-width:2; stroke-opacity:0.1; fill:none\" points=\"\n",
       "  242.516,417.044 2352.76,417.044 \n",
       "  \"/>\n",
       "<polyline clip-path=\"url(#clip8902)\" style=\"stroke:#000000; stroke-width:2; stroke-opacity:0.1; fill:none\" points=\"\n",
       "  242.516,174.126 2352.76,174.126 \n",
       "  \"/>\n",
       "<polyline clip-path=\"url(#clip8900)\" style=\"stroke:#000000; stroke-width:4; stroke-opacity:1; fill:none\" points=\"\n",
       "  242.516,1425.62 2352.76,1425.62 \n",
       "  \"/>\n",
       "<polyline clip-path=\"url(#clip8900)\" style=\"stroke:#000000; stroke-width:4; stroke-opacity:1; fill:none\" points=\"\n",
       "  242.516,1425.62 242.516,121.675 \n",
       "  \"/>\n",
       "<polyline clip-path=\"url(#clip8900)\" style=\"stroke:#000000; stroke-width:4; stroke-opacity:1; fill:none\" points=\"\n",
       "  318.589,1425.62 318.589,1409.97 \n",
       "  \"/>\n",
       "<polyline clip-path=\"url(#clip8900)\" style=\"stroke:#000000; stroke-width:4; stroke-opacity:1; fill:none\" points=\"\n",
       "  713.477,1425.62 713.477,1409.97 \n",
       "  \"/>\n",
       "<polyline clip-path=\"url(#clip8900)\" style=\"stroke:#000000; stroke-width:4; stroke-opacity:1; fill:none\" points=\"\n",
       "  1108.37,1425.62 1108.37,1409.97 \n",
       "  \"/>\n",
       "<polyline clip-path=\"url(#clip8900)\" style=\"stroke:#000000; stroke-width:4; stroke-opacity:1; fill:none\" points=\"\n",
       "  1503.25,1425.62 1503.25,1409.97 \n",
       "  \"/>\n",
       "<polyline clip-path=\"url(#clip8900)\" style=\"stroke:#000000; stroke-width:4; stroke-opacity:1; fill:none\" points=\"\n",
       "  1898.14,1425.62 1898.14,1409.97 \n",
       "  \"/>\n",
       "<polyline clip-path=\"url(#clip8900)\" style=\"stroke:#000000; stroke-width:4; stroke-opacity:1; fill:none\" points=\"\n",
       "  2293.03,1425.62 2293.03,1409.97 \n",
       "  \"/>\n",
       "<polyline clip-path=\"url(#clip8900)\" style=\"stroke:#000000; stroke-width:4; stroke-opacity:1; fill:none\" points=\"\n",
       "  242.516,1388.71 267.839,1388.71 \n",
       "  \"/>\n",
       "<polyline clip-path=\"url(#clip8900)\" style=\"stroke:#000000; stroke-width:4; stroke-opacity:1; fill:none\" points=\"\n",
       "  242.516,1145.8 267.839,1145.8 \n",
       "  \"/>\n",
       "<polyline clip-path=\"url(#clip8900)\" style=\"stroke:#000000; stroke-width:4; stroke-opacity:1; fill:none\" points=\"\n",
       "  242.516,902.879 267.839,902.879 \n",
       "  \"/>\n",
       "<polyline clip-path=\"url(#clip8900)\" style=\"stroke:#000000; stroke-width:4; stroke-opacity:1; fill:none\" points=\"\n",
       "  242.516,659.961 267.839,659.961 \n",
       "  \"/>\n",
       "<polyline clip-path=\"url(#clip8900)\" style=\"stroke:#000000; stroke-width:4; stroke-opacity:1; fill:none\" points=\"\n",
       "  242.516,417.044 267.839,417.044 \n",
       "  \"/>\n",
       "<polyline clip-path=\"url(#clip8900)\" style=\"stroke:#000000; stroke-width:4; stroke-opacity:1; fill:none\" points=\"\n",
       "  242.516,174.126 267.839,174.126 \n",
       "  \"/>\n",
       "<g clip-path=\"url(#clip8900)\">\n",
       "<text style=\"fill:#000000; fill-opacity:1; font-family:Arial,Helvetica Neue,Helvetica,sans-serif; font-size:48px; text-anchor:middle;\" transform=\"rotate(0, 318.589, 1479.62)\" x=\"318.589\" y=\"1479.62\">0</text>\n",
       "</g>\n",
       "<g clip-path=\"url(#clip8900)\">\n",
       "<text style=\"fill:#000000; fill-opacity:1; font-family:Arial,Helvetica Neue,Helvetica,sans-serif; font-size:48px; text-anchor:middle;\" transform=\"rotate(0, 713.477, 1479.62)\" x=\"713.477\" y=\"1479.62\">10</text>\n",
       "</g>\n",
       "<g clip-path=\"url(#clip8900)\">\n",
       "<text style=\"fill:#000000; fill-opacity:1; font-family:Arial,Helvetica Neue,Helvetica,sans-serif; font-size:48px; text-anchor:middle;\" transform=\"rotate(0, 1108.37, 1479.62)\" x=\"1108.37\" y=\"1479.62\">20</text>\n",
       "</g>\n",
       "<g clip-path=\"url(#clip8900)\">\n",
       "<text style=\"fill:#000000; fill-opacity:1; font-family:Arial,Helvetica Neue,Helvetica,sans-serif; font-size:48px; text-anchor:middle;\" transform=\"rotate(0, 1503.25, 1479.62)\" x=\"1503.25\" y=\"1479.62\">30</text>\n",
       "</g>\n",
       "<g clip-path=\"url(#clip8900)\">\n",
       "<text style=\"fill:#000000; fill-opacity:1; font-family:Arial,Helvetica Neue,Helvetica,sans-serif; font-size:48px; text-anchor:middle;\" transform=\"rotate(0, 1898.14, 1479.62)\" x=\"1898.14\" y=\"1479.62\">40</text>\n",
       "</g>\n",
       "<g clip-path=\"url(#clip8900)\">\n",
       "<text style=\"fill:#000000; fill-opacity:1; font-family:Arial,Helvetica Neue,Helvetica,sans-serif; font-size:48px; text-anchor:middle;\" transform=\"rotate(0, 2293.03, 1479.62)\" x=\"2293.03\" y=\"1479.62\">50</text>\n",
       "</g>\n",
       "<g clip-path=\"url(#clip8900)\">\n",
       "<text style=\"fill:#000000; fill-opacity:1; font-family:Arial,Helvetica Neue,Helvetica,sans-serif; font-size:48px; text-anchor:end;\" transform=\"rotate(0, 218.516, 1406.21)\" x=\"218.516\" y=\"1406.21\">0.00</text>\n",
       "</g>\n",
       "<g clip-path=\"url(#clip8900)\">\n",
       "<text style=\"fill:#000000; fill-opacity:1; font-family:Arial,Helvetica Neue,Helvetica,sans-serif; font-size:48px; text-anchor:end;\" transform=\"rotate(0, 218.516, 1163.3)\" x=\"218.516\" y=\"1163.3\">0.05</text>\n",
       "</g>\n",
       "<g clip-path=\"url(#clip8900)\">\n",
       "<text style=\"fill:#000000; fill-opacity:1; font-family:Arial,Helvetica Neue,Helvetica,sans-serif; font-size:48px; text-anchor:end;\" transform=\"rotate(0, 218.516, 920.379)\" x=\"218.516\" y=\"920.379\">0.10</text>\n",
       "</g>\n",
       "<g clip-path=\"url(#clip8900)\">\n",
       "<text style=\"fill:#000000; fill-opacity:1; font-family:Arial,Helvetica Neue,Helvetica,sans-serif; font-size:48px; text-anchor:end;\" transform=\"rotate(0, 218.516, 677.461)\" x=\"218.516\" y=\"677.461\">0.15</text>\n",
       "</g>\n",
       "<g clip-path=\"url(#clip8900)\">\n",
       "<text style=\"fill:#000000; fill-opacity:1; font-family:Arial,Helvetica Neue,Helvetica,sans-serif; font-size:48px; text-anchor:end;\" transform=\"rotate(0, 218.516, 434.544)\" x=\"218.516\" y=\"434.544\">0.20</text>\n",
       "</g>\n",
       "<g clip-path=\"url(#clip8900)\">\n",
       "<text style=\"fill:#000000; fill-opacity:1; font-family:Arial,Helvetica Neue,Helvetica,sans-serif; font-size:48px; text-anchor:end;\" transform=\"rotate(0, 218.516, 191.626)\" x=\"218.516\" y=\"191.626\">0.25</text>\n",
       "</g>\n",
       "<g clip-path=\"url(#clip8900)\">\n",
       "<text style=\"fill:#000000; fill-opacity:1; font-family:Arial,Helvetica Neue,Helvetica,sans-serif; font-size:84px; text-anchor:middle;\" transform=\"rotate(0, 1297.64, 73.2)\" x=\"1297.64\" y=\"73.2\">Geometric Comparison</text>\n",
       "</g>\n",
       "<g clip-path=\"url(#clip8900)\">\n",
       "<text style=\"fill:#000000; fill-opacity:1; font-family:Arial,Helvetica Neue,Helvetica,sans-serif; font-size:66px; text-anchor:middle;\" transform=\"rotate(0, 1297.64, 1559.48)\" x=\"1297.64\" y=\"1559.48\">n</text>\n",
       "</g>\n",
       "<g clip-path=\"url(#clip8900)\">\n",
       "<text style=\"fill:#000000; fill-opacity:1; font-family:Arial,Helvetica Neue,Helvetica,sans-serif; font-size:66px; text-anchor:middle;\" transform=\"rotate(-90, 89.2861, 773.647)\" x=\"89.2861\" y=\"773.647\">p</text>\n",
       "</g>\n",
       "<path clip-path=\"url(#clip8902)\" d=\"\n",
       "M342.282 158.579 L342.282 1388.71 L373.873 1388.71 L373.873 158.579 L342.282 158.579 L342.282 158.579  Z\n",
       "  \" fill=\"#009af9\" fill-rule=\"evenodd\" fill-opacity=\"1\"/>\n",
       "<polyline clip-path=\"url(#clip8902)\" style=\"stroke:#000000; stroke-width:4; stroke-opacity:1; fill:none\" points=\"\n",
       "  342.282,158.579 342.282,1388.71 373.873,1388.71 373.873,158.579 342.282,158.579 \n",
       "  \"/>\n",
       "<path clip-path=\"url(#clip8902)\" d=\"\n",
       "M381.771 499.15 L381.771 1388.71 L413.362 1388.71 L413.362 499.15 L381.771 499.15 L381.771 499.15  Z\n",
       "  \" fill=\"#009af9\" fill-rule=\"evenodd\" fill-opacity=\"1\"/>\n",
       "<polyline clip-path=\"url(#clip8902)\" style=\"stroke:#000000; stroke-width:4; stroke-opacity:1; fill:none\" points=\"\n",
       "  381.771,499.15 381.771,1388.71 413.362,1388.71 413.362,499.15 381.771,499.15 \n",
       "  \"/>\n",
       "<path clip-path=\"url(#clip8902)\" d=\"\n",
       "M421.26 709.517 L421.26 1388.71 L452.851 1388.71 L452.851 709.517 L421.26 709.517 L421.26 709.517  Z\n",
       "  \" fill=\"#009af9\" fill-rule=\"evenodd\" fill-opacity=\"1\"/>\n",
       "<polyline clip-path=\"url(#clip8902)\" style=\"stroke:#000000; stroke-width:4; stroke-opacity:1; fill:none\" points=\"\n",
       "  421.26,709.517 421.26,1388.71 452.851,1388.71 452.851,709.517 421.26,709.517 \n",
       "  \"/>\n",
       "<path clip-path=\"url(#clip8902)\" d=\"\n",
       "M460.749 886.847 L460.749 1388.71 L492.34 1388.71 L492.34 886.847 L460.749 886.847 L460.749 886.847  Z\n",
       "  \" fill=\"#009af9\" fill-rule=\"evenodd\" fill-opacity=\"1\"/>\n",
       "<polyline clip-path=\"url(#clip8902)\" style=\"stroke:#000000; stroke-width:4; stroke-opacity:1; fill:none\" points=\"\n",
       "  460.749,886.847 460.749,1388.71 492.34,1388.71 492.34,886.847 460.749,886.847 \n",
       "  \"/>\n",
       "<path clip-path=\"url(#clip8902)\" d=\"\n",
       "M500.237 997.617 L500.237 1388.71 L531.828 1388.71 L531.828 997.617 L500.237 997.617 L500.237 997.617  Z\n",
       "  \" fill=\"#009af9\" fill-rule=\"evenodd\" fill-opacity=\"1\"/>\n",
       "<polyline clip-path=\"url(#clip8902)\" style=\"stroke:#000000; stroke-width:4; stroke-opacity:1; fill:none\" points=\"\n",
       "  500.237,997.617 500.237,1388.71 531.828,1388.71 531.828,997.617 500.237,997.617 \n",
       "  \"/>\n",
       "<path clip-path=\"url(#clip8902)\" d=\"\n",
       "M539.726 1086.52 L539.726 1388.71 L571.317 1388.71 L571.317 1086.52 L539.726 1086.52 L539.726 1086.52  Z\n",
       "  \" fill=\"#009af9\" fill-rule=\"evenodd\" fill-opacity=\"1\"/>\n",
       "<polyline clip-path=\"url(#clip8902)\" style=\"stroke:#000000; stroke-width:4; stroke-opacity:1; fill:none\" points=\"\n",
       "  539.726,1086.52 539.726,1388.71 571.317,1388.71 571.317,1086.52 539.726,1086.52 \n",
       "  \"/>\n",
       "<path clip-path=\"url(#clip8902)\" d=\"\n",
       "M579.215 1184.18 L579.215 1388.71 L610.806 1388.71 L610.806 1184.18 L579.215 1184.18 L579.215 1184.18  Z\n",
       "  \" fill=\"#009af9\" fill-rule=\"evenodd\" fill-opacity=\"1\"/>\n",
       "<polyline clip-path=\"url(#clip8902)\" style=\"stroke:#000000; stroke-width:4; stroke-opacity:1; fill:none\" points=\"\n",
       "  579.215,1184.18 579.215,1388.71 610.806,1388.71 610.806,1184.18 579.215,1184.18 \n",
       "  \"/>\n",
       "<path clip-path=\"url(#clip8902)\" d=\"\n",
       "M618.704 1245.39 L618.704 1388.71 L650.295 1388.71 L650.295 1245.39 L618.704 1245.39 L618.704 1245.39  Z\n",
       "  \" fill=\"#009af9\" fill-rule=\"evenodd\" fill-opacity=\"1\"/>\n",
       "<polyline clip-path=\"url(#clip8902)\" style=\"stroke:#000000; stroke-width:4; stroke-opacity:1; fill:none\" points=\"\n",
       "  618.704,1245.39 618.704,1388.71 650.295,1388.71 650.295,1245.39 618.704,1245.39 \n",
       "  \"/>\n",
       "<path clip-path=\"url(#clip8902)\" d=\"\n",
       "M658.193 1257.05 L658.193 1388.71 L689.784 1388.71 L689.784 1257.05 L658.193 1257.05 L658.193 1257.05  Z\n",
       "  \" fill=\"#009af9\" fill-rule=\"evenodd\" fill-opacity=\"1\"/>\n",
       "<polyline clip-path=\"url(#clip8902)\" style=\"stroke:#000000; stroke-width:4; stroke-opacity:1; fill:none\" points=\"\n",
       "  658.193,1257.05 658.193,1388.71 689.784,1388.71 689.784,1257.05 658.193,1257.05 \n",
       "  \"/>\n",
       "<path clip-path=\"url(#clip8902)\" d=\"\n",
       "M697.682 1291.55 L697.682 1388.71 L729.273 1388.71 L729.273 1291.55 L697.682 1291.55 L697.682 1291.55  Z\n",
       "  \" fill=\"#009af9\" fill-rule=\"evenodd\" fill-opacity=\"1\"/>\n",
       "<polyline clip-path=\"url(#clip8902)\" style=\"stroke:#000000; stroke-width:4; stroke-opacity:1; fill:none\" points=\"\n",
       "  697.682,1291.55 697.682,1388.71 729.273,1388.71 729.273,1291.55 697.682,1291.55 \n",
       "  \"/>\n",
       "<path clip-path=\"url(#clip8902)\" d=\"\n",
       "M737.171 1314.38 L737.171 1388.71 L768.762 1388.71 L768.762 1314.38 L737.171 1314.38 L737.171 1314.38  Z\n",
       "  \" fill=\"#009af9\" fill-rule=\"evenodd\" fill-opacity=\"1\"/>\n",
       "<polyline clip-path=\"url(#clip8902)\" style=\"stroke:#000000; stroke-width:4; stroke-opacity:1; fill:none\" points=\"\n",
       "  737.171,1314.38 737.171,1388.71 768.762,1388.71 768.762,1314.38 737.171,1314.38 \n",
       "  \"/>\n",
       "<path clip-path=\"url(#clip8902)\" d=\"\n",
       "M776.659 1339.16 L776.659 1388.71 L808.251 1388.71 L808.251 1339.16 L776.659 1339.16 L776.659 1339.16  Z\n",
       "  \" fill=\"#009af9\" fill-rule=\"evenodd\" fill-opacity=\"1\"/>\n",
       "<polyline clip-path=\"url(#clip8902)\" style=\"stroke:#000000; stroke-width:4; stroke-opacity:1; fill:none\" points=\"\n",
       "  776.659,1339.16 776.659,1388.71 808.251,1388.71 808.251,1339.16 776.659,1339.16 \n",
       "  \"/>\n",
       "<path clip-path=\"url(#clip8902)\" d=\"\n",
       "M816.148 1350.82 L816.148 1388.71 L847.739 1388.71 L847.739 1350.82 L816.148 1350.82 L816.148 1350.82  Z\n",
       "  \" fill=\"#009af9\" fill-rule=\"evenodd\" fill-opacity=\"1\"/>\n",
       "<polyline clip-path=\"url(#clip8902)\" style=\"stroke:#000000; stroke-width:4; stroke-opacity:1; fill:none\" points=\"\n",
       "  816.148,1350.82 816.148,1388.71 847.739,1388.71 847.739,1350.82 816.148,1350.82 \n",
       "  \"/>\n",
       "<path clip-path=\"url(#clip8902)\" d=\"\n",
       "M855.637 1350.33 L855.637 1388.71 L887.228 1388.71 L887.228 1350.33 L855.637 1350.33 L855.637 1350.33  Z\n",
       "  \" fill=\"#009af9\" fill-rule=\"evenodd\" fill-opacity=\"1\"/>\n",
       "<polyline clip-path=\"url(#clip8902)\" style=\"stroke:#000000; stroke-width:4; stroke-opacity:1; fill:none\" points=\"\n",
       "  855.637,1350.33 855.637,1388.71 887.228,1388.71 887.228,1350.33 855.637,1350.33 \n",
       "  \"/>\n",
       "<path clip-path=\"url(#clip8902)\" d=\"\n",
       "M895.126 1368.8 L895.126 1388.71 L926.717 1388.71 L926.717 1368.8 L895.126 1368.8 L895.126 1368.8  Z\n",
       "  \" fill=\"#009af9\" fill-rule=\"evenodd\" fill-opacity=\"1\"/>\n",
       "<polyline clip-path=\"url(#clip8902)\" style=\"stroke:#000000; stroke-width:4; stroke-opacity:1; fill:none\" points=\"\n",
       "  895.126,1368.8 895.126,1388.71 926.717,1388.71 926.717,1368.8 895.126,1368.8 \n",
       "  \"/>\n",
       "<path clip-path=\"url(#clip8902)\" d=\"\n",
       "M934.615 1370.74 L934.615 1388.71 L966.206 1388.71 L966.206 1370.74 L934.615 1370.74 L934.615 1370.74  Z\n",
       "  \" fill=\"#009af9\" fill-rule=\"evenodd\" fill-opacity=\"1\"/>\n",
       "<polyline clip-path=\"url(#clip8902)\" style=\"stroke:#000000; stroke-width:4; stroke-opacity:1; fill:none\" points=\"\n",
       "  934.615,1370.74 934.615,1388.71 966.206,1388.71 966.206,1370.74 934.615,1370.74 \n",
       "  \"/>\n",
       "<path clip-path=\"url(#clip8902)\" d=\"\n",
       "M974.104 1377.05 L974.104 1388.71 L1005.69 1388.71 L1005.69 1377.05 L974.104 1377.05 L974.104 1377.05  Z\n",
       "  \" fill=\"#009af9\" fill-rule=\"evenodd\" fill-opacity=\"1\"/>\n",
       "<polyline clip-path=\"url(#clip8902)\" style=\"stroke:#000000; stroke-width:4; stroke-opacity:1; fill:none\" points=\"\n",
       "  974.104,1377.05 974.104,1388.71 1005.69,1388.71 1005.69,1377.05 974.104,1377.05 \n",
       "  \"/>\n",
       "<path clip-path=\"url(#clip8902)\" d=\"\n",
       "M1013.59 1382.4 L1013.59 1388.71 L1045.18 1388.71 L1045.18 1382.4 L1013.59 1382.4 L1013.59 1382.4  Z\n",
       "  \" fill=\"#009af9\" fill-rule=\"evenodd\" fill-opacity=\"1\"/>\n",
       "<polyline clip-path=\"url(#clip8902)\" style=\"stroke:#000000; stroke-width:4; stroke-opacity:1; fill:none\" points=\"\n",
       "  1013.59,1382.4 1013.59,1388.71 1045.18,1388.71 1045.18,1382.4 1013.59,1382.4 \n",
       "  \"/>\n",
       "<path clip-path=\"url(#clip8902)\" d=\"\n",
       "M1053.08 1380.94 L1053.08 1388.71 L1084.67 1388.71 L1084.67 1380.94 L1053.08 1380.94 L1053.08 1380.94  Z\n",
       "  \" fill=\"#009af9\" fill-rule=\"evenodd\" fill-opacity=\"1\"/>\n",
       "<polyline clip-path=\"url(#clip8902)\" style=\"stroke:#000000; stroke-width:4; stroke-opacity:1; fill:none\" points=\"\n",
       "  1053.08,1380.94 1053.08,1388.71 1084.67,1388.71 1084.67,1380.94 1053.08,1380.94 \n",
       "  \"/>\n",
       "<path clip-path=\"url(#clip8902)\" d=\"\n",
       "M1092.57 1382.88 L1092.57 1388.71 L1124.16 1388.71 L1124.16 1382.88 L1092.57 1382.88 L1092.57 1382.88  Z\n",
       "  \" fill=\"#009af9\" fill-rule=\"evenodd\" fill-opacity=\"1\"/>\n",
       "<polyline clip-path=\"url(#clip8902)\" style=\"stroke:#000000; stroke-width:4; stroke-opacity:1; fill:none\" points=\"\n",
       "  1092.57,1382.88 1092.57,1388.71 1124.16,1388.71 1124.16,1382.88 1092.57,1382.88 \n",
       "  \"/>\n",
       "<path clip-path=\"url(#clip8902)\" d=\"\n",
       "M1132.06 1383.37 L1132.06 1388.71 L1163.65 1388.71 L1163.65 1383.37 L1132.06 1383.37 L1132.06 1383.37  Z\n",
       "  \" fill=\"#009af9\" fill-rule=\"evenodd\" fill-opacity=\"1\"/>\n",
       "<polyline clip-path=\"url(#clip8902)\" style=\"stroke:#000000; stroke-width:4; stroke-opacity:1; fill:none\" points=\"\n",
       "  1132.06,1383.37 1132.06,1388.71 1163.65,1388.71 1163.65,1383.37 1132.06,1383.37 \n",
       "  \"/>\n",
       "<path clip-path=\"url(#clip8902)\" d=\"\n",
       "M1171.55 1383.37 L1171.55 1388.71 L1203.14 1388.71 L1203.14 1383.37 L1171.55 1383.37 L1171.55 1383.37  Z\n",
       "  \" fill=\"#009af9\" fill-rule=\"evenodd\" fill-opacity=\"1\"/>\n",
       "<polyline clip-path=\"url(#clip8902)\" style=\"stroke:#000000; stroke-width:4; stroke-opacity:1; fill:none\" points=\"\n",
       "  1171.55,1383.37 1171.55,1388.71 1203.14,1388.71 1203.14,1383.37 1171.55,1383.37 \n",
       "  \"/>\n",
       "<path clip-path=\"url(#clip8902)\" d=\"\n",
       "M1211.04 1385.8 L1211.04 1388.71 L1242.63 1388.71 L1242.63 1385.8 L1211.04 1385.8 L1211.04 1385.8  Z\n",
       "  \" fill=\"#009af9\" fill-rule=\"evenodd\" fill-opacity=\"1\"/>\n",
       "<polyline clip-path=\"url(#clip8902)\" style=\"stroke:#000000; stroke-width:4; stroke-opacity:1; fill:none\" points=\"\n",
       "  1211.04,1385.8 1211.04,1388.71 1242.63,1388.71 1242.63,1385.8 1211.04,1385.8 \n",
       "  \"/>\n",
       "<path clip-path=\"url(#clip8902)\" d=\"\n",
       "M1250.53 1386.29 L1250.53 1388.71 L1282.12 1388.71 L1282.12 1386.29 L1250.53 1386.29 L1250.53 1386.29  Z\n",
       "  \" fill=\"#009af9\" fill-rule=\"evenodd\" fill-opacity=\"1\"/>\n",
       "<polyline clip-path=\"url(#clip8902)\" style=\"stroke:#000000; stroke-width:4; stroke-opacity:1; fill:none\" points=\"\n",
       "  1250.53,1386.29 1250.53,1388.71 1282.12,1388.71 1282.12,1386.29 1250.53,1386.29 \n",
       "  \"/>\n",
       "<path clip-path=\"url(#clip8902)\" d=\"\n",
       "M1290.01 1387.74 L1290.01 1388.71 L1321.61 1388.71 L1321.61 1387.74 L1290.01 1387.74 L1290.01 1387.74  Z\n",
       "  \" fill=\"#009af9\" fill-rule=\"evenodd\" fill-opacity=\"1\"/>\n",
       "<polyline clip-path=\"url(#clip8902)\" style=\"stroke:#000000; stroke-width:4; stroke-opacity:1; fill:none\" points=\"\n",
       "  1290.01,1387.74 1290.01,1388.71 1321.61,1388.71 1321.61,1387.74 1290.01,1387.74 \n",
       "  \"/>\n",
       "<path clip-path=\"url(#clip8902)\" d=\"\n",
       "M1566.44 1388.23 L1566.44 1388.71 L1598.03 1388.71 L1598.03 1388.23 L1566.44 1388.23 L1566.44 1388.23  Z\n",
       "  \" fill=\"#009af9\" fill-rule=\"evenodd\" fill-opacity=\"1\"/>\n",
       "<polyline clip-path=\"url(#clip8902)\" style=\"stroke:#000000; stroke-width:4; stroke-opacity:1; fill:none\" points=\"\n",
       "  1566.44,1388.23 1566.44,1388.71 1598.03,1388.71 1598.03,1388.23 1566.44,1388.23 \n",
       "  \"/>\n",
       "<path clip-path=\"url(#clip8902)\" d=\"\n",
       "M1645.41 1388.23 L1645.41 1388.71 L1677.01 1388.71 L1677.01 1388.23 L1645.41 1388.23 L1645.41 1388.23  Z\n",
       "  \" fill=\"#009af9\" fill-rule=\"evenodd\" fill-opacity=\"1\"/>\n",
       "<polyline clip-path=\"url(#clip8902)\" style=\"stroke:#000000; stroke-width:4; stroke-opacity:1; fill:none\" points=\"\n",
       "  1645.41,1388.23 1645.41,1388.71 1677.01,1388.71 1677.01,1388.23 1645.41,1388.23 \n",
       "  \"/>\n",
       "<polyline clip-path=\"url(#clip8902)\" style=\"stroke:#e26f46; stroke-width:8; stroke-opacity:0.6; fill:none\" points=\"\n",
       "  358.077,174.126 397.566,477.773 437.055,705.508 476.544,876.31 516.033,1004.41 555.522,1100.49 595.011,1172.54 634.5,1226.59 673.988,1267.12 713.477,1297.52 \n",
       "  752.966,1320.32 792.455,1337.42 831.944,1350.24 871.433,1359.86 910.922,1367.07 950.411,1372.48 989.899,1376.54 1029.39,1379.58 1068.88,1381.87 1108.37,1383.58 \n",
       "  1147.85,1384.86 1187.34,1385.83 1226.83,1386.55 1266.32,1387.09 1305.81,1387.5 1345.3,1387.8 1384.79,1388.03 1424.28,1388.2 1463.77,1388.33 1503.25,1388.43 \n",
       "  1542.74,1388.5 1582.23,1388.55 1621.72,1388.59 1661.21,1388.62 1700.7,1388.65 1740.19,1388.66 1779.68,1388.68 1819.17,1388.69 1858.65,1388.69 1898.14,1388.7 \n",
       "  1937.63,1388.7 1977.12,1388.71 2016.61,1388.71 2056.1,1388.71 2095.59,1388.71 2135.08,1388.71 2174.57,1388.71 2214.05,1388.71 2253.54,1388.71 2293.03,1388.71 \n",
       "  \n",
       "  \"/>\n",
       "<circle clip-path=\"url(#clip8902)\" cx=\"358.077\" cy=\"174.126\" r=\"9\" fill=\"#e26f46\" fill-rule=\"evenodd\" fill-opacity=\"0.8\" stroke=\"#000000\" stroke-opacity=\"0.8\" stroke-width=\"3.2\"/>\n",
       "<circle clip-path=\"url(#clip8902)\" cx=\"397.566\" cy=\"477.773\" r=\"9\" fill=\"#e26f46\" fill-rule=\"evenodd\" fill-opacity=\"0.8\" stroke=\"#000000\" stroke-opacity=\"0.8\" stroke-width=\"3.2\"/>\n",
       "<circle clip-path=\"url(#clip8902)\" cx=\"437.055\" cy=\"705.508\" r=\"9\" fill=\"#e26f46\" fill-rule=\"evenodd\" fill-opacity=\"0.8\" stroke=\"#000000\" stroke-opacity=\"0.8\" stroke-width=\"3.2\"/>\n",
       "<circle clip-path=\"url(#clip8902)\" cx=\"476.544\" cy=\"876.31\" r=\"9\" fill=\"#e26f46\" fill-rule=\"evenodd\" fill-opacity=\"0.8\" stroke=\"#000000\" stroke-opacity=\"0.8\" stroke-width=\"3.2\"/>\n",
       "<circle clip-path=\"url(#clip8902)\" cx=\"516.033\" cy=\"1004.41\" r=\"9\" fill=\"#e26f46\" fill-rule=\"evenodd\" fill-opacity=\"0.8\" stroke=\"#000000\" stroke-opacity=\"0.8\" stroke-width=\"3.2\"/>\n",
       "<circle clip-path=\"url(#clip8902)\" cx=\"555.522\" cy=\"1100.49\" r=\"9\" fill=\"#e26f46\" fill-rule=\"evenodd\" fill-opacity=\"0.8\" stroke=\"#000000\" stroke-opacity=\"0.8\" stroke-width=\"3.2\"/>\n",
       "<circle clip-path=\"url(#clip8902)\" cx=\"595.011\" cy=\"1172.54\" r=\"9\" fill=\"#e26f46\" fill-rule=\"evenodd\" fill-opacity=\"0.8\" stroke=\"#000000\" stroke-opacity=\"0.8\" stroke-width=\"3.2\"/>\n",
       "<circle clip-path=\"url(#clip8902)\" cx=\"634.5\" cy=\"1226.59\" r=\"9\" fill=\"#e26f46\" fill-rule=\"evenodd\" fill-opacity=\"0.8\" stroke=\"#000000\" stroke-opacity=\"0.8\" stroke-width=\"3.2\"/>\n",
       "<circle clip-path=\"url(#clip8902)\" cx=\"673.988\" cy=\"1267.12\" r=\"9\" fill=\"#e26f46\" fill-rule=\"evenodd\" fill-opacity=\"0.8\" stroke=\"#000000\" stroke-opacity=\"0.8\" stroke-width=\"3.2\"/>\n",
       "<circle clip-path=\"url(#clip8902)\" cx=\"713.477\" cy=\"1297.52\" r=\"9\" fill=\"#e26f46\" fill-rule=\"evenodd\" fill-opacity=\"0.8\" stroke=\"#000000\" stroke-opacity=\"0.8\" stroke-width=\"3.2\"/>\n",
       "<circle clip-path=\"url(#clip8902)\" cx=\"752.966\" cy=\"1320.32\" r=\"9\" fill=\"#e26f46\" fill-rule=\"evenodd\" fill-opacity=\"0.8\" stroke=\"#000000\" stroke-opacity=\"0.8\" stroke-width=\"3.2\"/>\n",
       "<circle clip-path=\"url(#clip8902)\" cx=\"792.455\" cy=\"1337.42\" r=\"9\" fill=\"#e26f46\" fill-rule=\"evenodd\" fill-opacity=\"0.8\" stroke=\"#000000\" stroke-opacity=\"0.8\" stroke-width=\"3.2\"/>\n",
       "<circle clip-path=\"url(#clip8902)\" cx=\"831.944\" cy=\"1350.24\" r=\"9\" fill=\"#e26f46\" fill-rule=\"evenodd\" fill-opacity=\"0.8\" stroke=\"#000000\" stroke-opacity=\"0.8\" stroke-width=\"3.2\"/>\n",
       "<circle clip-path=\"url(#clip8902)\" cx=\"871.433\" cy=\"1359.86\" r=\"9\" fill=\"#e26f46\" fill-rule=\"evenodd\" fill-opacity=\"0.8\" stroke=\"#000000\" stroke-opacity=\"0.8\" stroke-width=\"3.2\"/>\n",
       "<circle clip-path=\"url(#clip8902)\" cx=\"910.922\" cy=\"1367.07\" r=\"9\" fill=\"#e26f46\" fill-rule=\"evenodd\" fill-opacity=\"0.8\" stroke=\"#000000\" stroke-opacity=\"0.8\" stroke-width=\"3.2\"/>\n",
       "<circle clip-path=\"url(#clip8902)\" cx=\"950.411\" cy=\"1372.48\" r=\"9\" fill=\"#e26f46\" fill-rule=\"evenodd\" fill-opacity=\"0.8\" stroke=\"#000000\" stroke-opacity=\"0.8\" stroke-width=\"3.2\"/>\n",
       "<circle clip-path=\"url(#clip8902)\" cx=\"989.899\" cy=\"1376.54\" r=\"9\" fill=\"#e26f46\" fill-rule=\"evenodd\" fill-opacity=\"0.8\" stroke=\"#000000\" stroke-opacity=\"0.8\" stroke-width=\"3.2\"/>\n",
       "<circle clip-path=\"url(#clip8902)\" cx=\"1029.39\" cy=\"1379.58\" r=\"9\" fill=\"#e26f46\" fill-rule=\"evenodd\" fill-opacity=\"0.8\" stroke=\"#000000\" stroke-opacity=\"0.8\" stroke-width=\"3.2\"/>\n",
       "<circle clip-path=\"url(#clip8902)\" cx=\"1068.88\" cy=\"1381.87\" r=\"9\" fill=\"#e26f46\" fill-rule=\"evenodd\" fill-opacity=\"0.8\" stroke=\"#000000\" stroke-opacity=\"0.8\" stroke-width=\"3.2\"/>\n",
       "<circle clip-path=\"url(#clip8902)\" cx=\"1108.37\" cy=\"1383.58\" r=\"9\" fill=\"#e26f46\" fill-rule=\"evenodd\" fill-opacity=\"0.8\" stroke=\"#000000\" stroke-opacity=\"0.8\" stroke-width=\"3.2\"/>\n",
       "<circle clip-path=\"url(#clip8902)\" cx=\"1147.85\" cy=\"1384.86\" r=\"9\" fill=\"#e26f46\" fill-rule=\"evenodd\" fill-opacity=\"0.8\" stroke=\"#000000\" stroke-opacity=\"0.8\" stroke-width=\"3.2\"/>\n",
       "<circle clip-path=\"url(#clip8902)\" cx=\"1187.34\" cy=\"1385.83\" r=\"9\" fill=\"#e26f46\" fill-rule=\"evenodd\" fill-opacity=\"0.8\" stroke=\"#000000\" stroke-opacity=\"0.8\" stroke-width=\"3.2\"/>\n",
       "<circle clip-path=\"url(#clip8902)\" cx=\"1226.83\" cy=\"1386.55\" r=\"9\" fill=\"#e26f46\" fill-rule=\"evenodd\" fill-opacity=\"0.8\" stroke=\"#000000\" stroke-opacity=\"0.8\" stroke-width=\"3.2\"/>\n",
       "<circle clip-path=\"url(#clip8902)\" cx=\"1266.32\" cy=\"1387.09\" r=\"9\" fill=\"#e26f46\" fill-rule=\"evenodd\" fill-opacity=\"0.8\" stroke=\"#000000\" stroke-opacity=\"0.8\" stroke-width=\"3.2\"/>\n",
       "<circle clip-path=\"url(#clip8902)\" cx=\"1305.81\" cy=\"1387.5\" r=\"9\" fill=\"#e26f46\" fill-rule=\"evenodd\" fill-opacity=\"0.8\" stroke=\"#000000\" stroke-opacity=\"0.8\" stroke-width=\"3.2\"/>\n",
       "<circle clip-path=\"url(#clip8902)\" cx=\"1345.3\" cy=\"1387.8\" r=\"9\" fill=\"#e26f46\" fill-rule=\"evenodd\" fill-opacity=\"0.8\" stroke=\"#000000\" stroke-opacity=\"0.8\" stroke-width=\"3.2\"/>\n",
       "<circle clip-path=\"url(#clip8902)\" cx=\"1384.79\" cy=\"1388.03\" r=\"9\" fill=\"#e26f46\" fill-rule=\"evenodd\" fill-opacity=\"0.8\" stroke=\"#000000\" stroke-opacity=\"0.8\" stroke-width=\"3.2\"/>\n",
       "<circle clip-path=\"url(#clip8902)\" cx=\"1424.28\" cy=\"1388.2\" r=\"9\" fill=\"#e26f46\" fill-rule=\"evenodd\" fill-opacity=\"0.8\" stroke=\"#000000\" stroke-opacity=\"0.8\" stroke-width=\"3.2\"/>\n",
       "<circle clip-path=\"url(#clip8902)\" cx=\"1463.77\" cy=\"1388.33\" r=\"9\" fill=\"#e26f46\" fill-rule=\"evenodd\" fill-opacity=\"0.8\" stroke=\"#000000\" stroke-opacity=\"0.8\" stroke-width=\"3.2\"/>\n",
       "<circle clip-path=\"url(#clip8902)\" cx=\"1503.25\" cy=\"1388.43\" r=\"9\" fill=\"#e26f46\" fill-rule=\"evenodd\" fill-opacity=\"0.8\" stroke=\"#000000\" stroke-opacity=\"0.8\" stroke-width=\"3.2\"/>\n",
       "<circle clip-path=\"url(#clip8902)\" cx=\"1542.74\" cy=\"1388.5\" r=\"9\" fill=\"#e26f46\" fill-rule=\"evenodd\" fill-opacity=\"0.8\" stroke=\"#000000\" stroke-opacity=\"0.8\" stroke-width=\"3.2\"/>\n",
       "<circle clip-path=\"url(#clip8902)\" cx=\"1582.23\" cy=\"1388.55\" r=\"9\" fill=\"#e26f46\" fill-rule=\"evenodd\" fill-opacity=\"0.8\" stroke=\"#000000\" stroke-opacity=\"0.8\" stroke-width=\"3.2\"/>\n",
       "<circle clip-path=\"url(#clip8902)\" cx=\"1621.72\" cy=\"1388.59\" r=\"9\" fill=\"#e26f46\" fill-rule=\"evenodd\" fill-opacity=\"0.8\" stroke=\"#000000\" stroke-opacity=\"0.8\" stroke-width=\"3.2\"/>\n",
       "<circle clip-path=\"url(#clip8902)\" cx=\"1661.21\" cy=\"1388.62\" r=\"9\" fill=\"#e26f46\" fill-rule=\"evenodd\" fill-opacity=\"0.8\" stroke=\"#000000\" stroke-opacity=\"0.8\" stroke-width=\"3.2\"/>\n",
       "<circle clip-path=\"url(#clip8902)\" cx=\"1700.7\" cy=\"1388.65\" r=\"9\" fill=\"#e26f46\" fill-rule=\"evenodd\" fill-opacity=\"0.8\" stroke=\"#000000\" stroke-opacity=\"0.8\" stroke-width=\"3.2\"/>\n",
       "<circle clip-path=\"url(#clip8902)\" cx=\"1740.19\" cy=\"1388.66\" r=\"9\" fill=\"#e26f46\" fill-rule=\"evenodd\" fill-opacity=\"0.8\" stroke=\"#000000\" stroke-opacity=\"0.8\" stroke-width=\"3.2\"/>\n",
       "<circle clip-path=\"url(#clip8902)\" cx=\"1779.68\" cy=\"1388.68\" r=\"9\" fill=\"#e26f46\" fill-rule=\"evenodd\" fill-opacity=\"0.8\" stroke=\"#000000\" stroke-opacity=\"0.8\" stroke-width=\"3.2\"/>\n",
       "<circle clip-path=\"url(#clip8902)\" cx=\"1819.17\" cy=\"1388.69\" r=\"9\" fill=\"#e26f46\" fill-rule=\"evenodd\" fill-opacity=\"0.8\" stroke=\"#000000\" stroke-opacity=\"0.8\" stroke-width=\"3.2\"/>\n",
       "<circle clip-path=\"url(#clip8902)\" cx=\"1858.65\" cy=\"1388.69\" r=\"9\" fill=\"#e26f46\" fill-rule=\"evenodd\" fill-opacity=\"0.8\" stroke=\"#000000\" stroke-opacity=\"0.8\" stroke-width=\"3.2\"/>\n",
       "<circle clip-path=\"url(#clip8902)\" cx=\"1898.14\" cy=\"1388.7\" r=\"9\" fill=\"#e26f46\" fill-rule=\"evenodd\" fill-opacity=\"0.8\" stroke=\"#000000\" stroke-opacity=\"0.8\" stroke-width=\"3.2\"/>\n",
       "<circle clip-path=\"url(#clip8902)\" cx=\"1937.63\" cy=\"1388.7\" r=\"9\" fill=\"#e26f46\" fill-rule=\"evenodd\" fill-opacity=\"0.8\" stroke=\"#000000\" stroke-opacity=\"0.8\" stroke-width=\"3.2\"/>\n",
       "<circle clip-path=\"url(#clip8902)\" cx=\"1977.12\" cy=\"1388.71\" r=\"9\" fill=\"#e26f46\" fill-rule=\"evenodd\" fill-opacity=\"0.8\" stroke=\"#000000\" stroke-opacity=\"0.8\" stroke-width=\"3.2\"/>\n",
       "<circle clip-path=\"url(#clip8902)\" cx=\"2016.61\" cy=\"1388.71\" r=\"9\" fill=\"#e26f46\" fill-rule=\"evenodd\" fill-opacity=\"0.8\" stroke=\"#000000\" stroke-opacity=\"0.8\" stroke-width=\"3.2\"/>\n",
       "<circle clip-path=\"url(#clip8902)\" cx=\"2056.1\" cy=\"1388.71\" r=\"9\" fill=\"#e26f46\" fill-rule=\"evenodd\" fill-opacity=\"0.8\" stroke=\"#000000\" stroke-opacity=\"0.8\" stroke-width=\"3.2\"/>\n",
       "<circle clip-path=\"url(#clip8902)\" cx=\"2095.59\" cy=\"1388.71\" r=\"9\" fill=\"#e26f46\" fill-rule=\"evenodd\" fill-opacity=\"0.8\" stroke=\"#000000\" stroke-opacity=\"0.8\" stroke-width=\"3.2\"/>\n",
       "<circle clip-path=\"url(#clip8902)\" cx=\"2135.08\" cy=\"1388.71\" r=\"9\" fill=\"#e26f46\" fill-rule=\"evenodd\" fill-opacity=\"0.8\" stroke=\"#000000\" stroke-opacity=\"0.8\" stroke-width=\"3.2\"/>\n",
       "<circle clip-path=\"url(#clip8902)\" cx=\"2174.57\" cy=\"1388.71\" r=\"9\" fill=\"#e26f46\" fill-rule=\"evenodd\" fill-opacity=\"0.8\" stroke=\"#000000\" stroke-opacity=\"0.8\" stroke-width=\"3.2\"/>\n",
       "<circle clip-path=\"url(#clip8902)\" cx=\"2214.05\" cy=\"1388.71\" r=\"9\" fill=\"#e26f46\" fill-rule=\"evenodd\" fill-opacity=\"0.8\" stroke=\"#000000\" stroke-opacity=\"0.8\" stroke-width=\"3.2\"/>\n",
       "<circle clip-path=\"url(#clip8902)\" cx=\"2253.54\" cy=\"1388.71\" r=\"9\" fill=\"#e26f46\" fill-rule=\"evenodd\" fill-opacity=\"0.8\" stroke=\"#000000\" stroke-opacity=\"0.8\" stroke-width=\"3.2\"/>\n",
       "<circle clip-path=\"url(#clip8902)\" cx=\"2293.03\" cy=\"1388.71\" r=\"9\" fill=\"#e26f46\" fill-rule=\"evenodd\" fill-opacity=\"0.8\" stroke=\"#000000\" stroke-opacity=\"0.8\" stroke-width=\"3.2\"/>\n",
       "<path clip-path=\"url(#clip8900)\" d=\"\n",
       "M1947.14 386.635 L2280.76 386.635 L2280.76 205.195 L1947.14 205.195  Z\n",
       "  \" fill=\"#ffffff\" fill-rule=\"evenodd\" fill-opacity=\"1\"/>\n",
       "<polyline clip-path=\"url(#clip8900)\" style=\"stroke:#000000; stroke-width:4; stroke-opacity:1; fill:none\" points=\"\n",
       "  1947.14,386.635 2280.76,386.635 2280.76,205.195 1947.14,205.195 1947.14,386.635 \n",
       "  \"/>\n",
       "<path clip-path=\"url(#clip8900)\" d=\"\n",
       "M1971.14 289.867 L2115.14 289.867 L2115.14 241.483 L1971.14 241.483 L1971.14 289.867  Z\n",
       "  \" fill=\"#009af9\" fill-rule=\"evenodd\" fill-opacity=\"1\"/>\n",
       "<polyline clip-path=\"url(#clip8900)\" style=\"stroke:#000000; stroke-width:4; stroke-opacity:1; fill:none\" points=\"\n",
       "  1971.14,289.867 2115.14,289.867 2115.14,241.483 1971.14,241.483 1971.14,289.867 \n",
       "  \"/>\n",
       "<g clip-path=\"url(#clip8900)\">\n",
       "<text style=\"fill:#000000; fill-opacity:1; font-family:Arial,Helvetica Neue,Helvetica,sans-serif; font-size:48px; text-anchor:start;\" transform=\"rotate(0, 2139.14, 283.175)\" x=\"2139.14\" y=\"283.175\">prev</text>\n",
       "</g>\n",
       "<polyline clip-path=\"url(#clip8900)\" style=\"stroke:#e26f46; stroke-width:8; stroke-opacity:0.6; fill:none\" points=\"\n",
       "  1971.14,326.155 2115.14,326.155 \n",
       "  \"/>\n",
       "<g clip-path=\"url(#clip8900)\">\n",
       "<text style=\"fill:#000000; fill-opacity:1; font-family:Arial,Helvetica Neue,Helvetica,sans-serif; font-size:48px; text-anchor:start;\" transform=\"rotate(0, 2139.14, 343.655)\" x=\"2139.14\" y=\"343.655\">new</text>\n",
       "</g>\n",
       "</svg>\n"
      ]
     },
     "execution_count": 23,
     "metadata": {},
     "output_type": "execute_result"
    }
   ],
   "source": [
    "prev_n, prev_P = probability_distribution(experiment(p, N))\n",
    "bar(prev_n, prev_P, label=\"prev\")\n",
    "\n",
    "plot!(n_list, P_list, label=\"new\", width=2, opacity=0.6)\n",
    "scatter!(n_list, P_list, label=\"\", markersize=2.5, opacity=0.8, color=2)\n",
    "\n",
    "plot!(\n",
    "  title=\"Geometric Comparison\",\n",
    "  xlabel=\"n\", ylabel=\"p\"\n",
    ")"
   ]
  },
  {
   "cell_type": "markdown",
   "metadata": {},
   "source": [
    "#### (2.i) How could we measure the *error*?\n",
    "\n",
    "+ i.e. the distance between the two graphs? \n",
    "+ What do you think determines it?\n"
   ]
  },
  {
   "cell_type": "code",
   "execution_count": 24,
   "metadata": {},
   "outputs": [
    {
     "data": {
      "image/svg+xml": [
       "<?xml version=\"1.0\" encoding=\"utf-8\"?>\n",
       "<svg xmlns=\"http://www.w3.org/2000/svg\" xmlns:xlink=\"http://www.w3.org/1999/xlink\" width=\"600\" height=\"400\" viewBox=\"0 0 2400 1600\">\n",
       "<defs>\n",
       "  <clipPath id=\"clip9300\">\n",
       "    <rect x=\"0\" y=\"0\" width=\"2400\" height=\"1600\"/>\n",
       "  </clipPath>\n",
       "</defs>\n",
       "<path clip-path=\"url(#clip9300)\" d=\"\n",
       "M0 1600 L2400 1600 L2400 0 L0 0  Z\n",
       "  \" fill=\"#ffffff\" fill-rule=\"evenodd\" fill-opacity=\"1\"/>\n",
       "<defs>\n",
       "  <clipPath id=\"clip9301\">\n",
       "    <rect x=\"480\" y=\"0\" width=\"1681\" height=\"1600\"/>\n",
       "  </clipPath>\n",
       "</defs>\n",
       "<path clip-path=\"url(#clip9300)\" d=\"\n",
       "M217.964 1425.62 L2352.76 1425.62 L2352.76 121.675 L217.964 121.675  Z\n",
       "  \" fill=\"#ffffff\" fill-rule=\"evenodd\" fill-opacity=\"1\"/>\n",
       "<defs>\n",
       "  <clipPath id=\"clip9302\">\n",
       "    <rect x=\"217\" y=\"121\" width=\"2136\" height=\"1305\"/>\n",
       "  </clipPath>\n",
       "</defs>\n",
       "<polyline clip-path=\"url(#clip9302)\" style=\"stroke:#000000; stroke-width:2; stroke-opacity:0.1; fill:none\" points=\"\n",
       "  237.281,1425.62 237.281,121.675 \n",
       "  \"/>\n",
       "<polyline clip-path=\"url(#clip9302)\" style=\"stroke:#000000; stroke-width:2; stroke-opacity:0.1; fill:none\" points=\"\n",
       "  648.293,1425.62 648.293,121.675 \n",
       "  \"/>\n",
       "<polyline clip-path=\"url(#clip9302)\" style=\"stroke:#000000; stroke-width:2; stroke-opacity:0.1; fill:none\" points=\"\n",
       "  1059.3,1425.62 1059.3,121.675 \n",
       "  \"/>\n",
       "<polyline clip-path=\"url(#clip9302)\" style=\"stroke:#000000; stroke-width:2; stroke-opacity:0.1; fill:none\" points=\"\n",
       "  1470.31,1425.62 1470.31,121.675 \n",
       "  \"/>\n",
       "<polyline clip-path=\"url(#clip9302)\" style=\"stroke:#000000; stroke-width:2; stroke-opacity:0.1; fill:none\" points=\"\n",
       "  1881.33,1425.62 1881.33,121.675 \n",
       "  \"/>\n",
       "<polyline clip-path=\"url(#clip9302)\" style=\"stroke:#000000; stroke-width:2; stroke-opacity:0.1; fill:none\" points=\"\n",
       "  2292.34,1425.62 2292.34,121.675 \n",
       "  \"/>\n",
       "<polyline clip-path=\"url(#clip9302)\" style=\"stroke:#000000; stroke-width:2; stroke-opacity:0.1; fill:none\" points=\"\n",
       "  217.964,1184.78 2352.76,1184.78 \n",
       "  \"/>\n",
       "<polyline clip-path=\"url(#clip9302)\" style=\"stroke:#000000; stroke-width:2; stroke-opacity:0.1; fill:none\" points=\"\n",
       "  217.964,903.123 2352.76,903.123 \n",
       "  \"/>\n",
       "<polyline clip-path=\"url(#clip9302)\" style=\"stroke:#000000; stroke-width:2; stroke-opacity:0.1; fill:none\" points=\"\n",
       "  217.964,621.467 2352.76,621.467 \n",
       "  \"/>\n",
       "<polyline clip-path=\"url(#clip9302)\" style=\"stroke:#000000; stroke-width:2; stroke-opacity:0.1; fill:none\" points=\"\n",
       "  217.964,339.811 2352.76,339.811 \n",
       "  \"/>\n",
       "<polyline clip-path=\"url(#clip9300)\" style=\"stroke:#000000; stroke-width:4; stroke-opacity:1; fill:none\" points=\"\n",
       "  217.964,1425.62 2352.76,1425.62 \n",
       "  \"/>\n",
       "<polyline clip-path=\"url(#clip9300)\" style=\"stroke:#000000; stroke-width:4; stroke-opacity:1; fill:none\" points=\"\n",
       "  217.964,1425.62 217.964,121.675 \n",
       "  \"/>\n",
       "<polyline clip-path=\"url(#clip9300)\" style=\"stroke:#000000; stroke-width:4; stroke-opacity:1; fill:none\" points=\"\n",
       "  237.281,1425.62 237.281,1409.97 \n",
       "  \"/>\n",
       "<polyline clip-path=\"url(#clip9300)\" style=\"stroke:#000000; stroke-width:4; stroke-opacity:1; fill:none\" points=\"\n",
       "  648.293,1425.62 648.293,1409.97 \n",
       "  \"/>\n",
       "<polyline clip-path=\"url(#clip9300)\" style=\"stroke:#000000; stroke-width:4; stroke-opacity:1; fill:none\" points=\"\n",
       "  1059.3,1425.62 1059.3,1409.97 \n",
       "  \"/>\n",
       "<polyline clip-path=\"url(#clip9300)\" style=\"stroke:#000000; stroke-width:4; stroke-opacity:1; fill:none\" points=\"\n",
       "  1470.31,1425.62 1470.31,1409.97 \n",
       "  \"/>\n",
       "<polyline clip-path=\"url(#clip9300)\" style=\"stroke:#000000; stroke-width:4; stroke-opacity:1; fill:none\" points=\"\n",
       "  1881.33,1425.62 1881.33,1409.97 \n",
       "  \"/>\n",
       "<polyline clip-path=\"url(#clip9300)\" style=\"stroke:#000000; stroke-width:4; stroke-opacity:1; fill:none\" points=\"\n",
       "  2292.34,1425.62 2292.34,1409.97 \n",
       "  \"/>\n",
       "<polyline clip-path=\"url(#clip9300)\" style=\"stroke:#000000; stroke-width:4; stroke-opacity:1; fill:none\" points=\"\n",
       "  217.964,1184.78 243.581,1184.78 \n",
       "  \"/>\n",
       "<polyline clip-path=\"url(#clip9300)\" style=\"stroke:#000000; stroke-width:4; stroke-opacity:1; fill:none\" points=\"\n",
       "  217.964,903.123 243.581,903.123 \n",
       "  \"/>\n",
       "<polyline clip-path=\"url(#clip9300)\" style=\"stroke:#000000; stroke-width:4; stroke-opacity:1; fill:none\" points=\"\n",
       "  217.964,621.467 243.581,621.467 \n",
       "  \"/>\n",
       "<polyline clip-path=\"url(#clip9300)\" style=\"stroke:#000000; stroke-width:4; stroke-opacity:1; fill:none\" points=\"\n",
       "  217.964,339.811 243.581,339.811 \n",
       "  \"/>\n",
       "<g clip-path=\"url(#clip9300)\">\n",
       "<text style=\"fill:#000000; fill-opacity:1; font-family:Arial,Helvetica Neue,Helvetica,sans-serif; font-size:48px; text-anchor:middle;\" transform=\"rotate(0, 237.281, 1479.62)\" x=\"237.281\" y=\"1479.62\">0</text>\n",
       "</g>\n",
       "<g clip-path=\"url(#clip9300)\">\n",
       "<text style=\"fill:#000000; fill-opacity:1; font-family:Arial,Helvetica Neue,Helvetica,sans-serif; font-size:48px; text-anchor:middle;\" transform=\"rotate(0, 648.293, 1479.62)\" x=\"648.293\" y=\"1479.62\">10</text>\n",
       "</g>\n",
       "<g clip-path=\"url(#clip9300)\">\n",
       "<text style=\"fill:#000000; fill-opacity:1; font-family:Arial,Helvetica Neue,Helvetica,sans-serif; font-size:48px; text-anchor:middle;\" transform=\"rotate(0, 1059.3, 1479.62)\" x=\"1059.3\" y=\"1479.62\">20</text>\n",
       "</g>\n",
       "<g clip-path=\"url(#clip9300)\">\n",
       "<text style=\"fill:#000000; fill-opacity:1; font-family:Arial,Helvetica Neue,Helvetica,sans-serif; font-size:48px; text-anchor:middle;\" transform=\"rotate(0, 1470.31, 1479.62)\" x=\"1470.31\" y=\"1479.62\">30</text>\n",
       "</g>\n",
       "<g clip-path=\"url(#clip9300)\">\n",
       "<text style=\"fill:#000000; fill-opacity:1; font-family:Arial,Helvetica Neue,Helvetica,sans-serif; font-size:48px; text-anchor:middle;\" transform=\"rotate(0, 1881.33, 1479.62)\" x=\"1881.33\" y=\"1479.62\">40</text>\n",
       "</g>\n",
       "<g clip-path=\"url(#clip9300)\">\n",
       "<text style=\"fill:#000000; fill-opacity:1; font-family:Arial,Helvetica Neue,Helvetica,sans-serif; font-size:48px; text-anchor:middle;\" transform=\"rotate(0, 2292.34, 1479.62)\" x=\"2292.34\" y=\"1479.62\">50</text>\n",
       "</g>\n",
       "<g clip-path=\"url(#clip9300)\">\n",
       "<text style=\"fill:#000000; fill-opacity:1; font-family:Arial,Helvetica Neue,Helvetica,sans-serif; font-size:48px; text-anchor:start;\" transform=\"rotate(0, 95.8554, 1208.51)\" x=\"95.8554\" y=\"1208.51\">10</text>\n",
       "</g>\n",
       "<g clip-path=\"url(#clip9300)\">\n",
       "<text style=\"fill:#000000; fill-opacity:1; font-family:Arial,Helvetica Neue,Helvetica,sans-serif; font-size:38px; text-anchor:start;\" transform=\"rotate(0, 149.38, 1181.1)\" x=\"149.38\" y=\"1181.1\">-</text>\n",
       "</g>\n",
       "<g clip-path=\"url(#clip9300)\">\n",
       "<text style=\"fill:#000000; fill-opacity:1; font-family:Arial,Helvetica Neue,Helvetica,sans-serif; font-size:38px; text-anchor:start;\" transform=\"rotate(0, 172.22, 1181.1)\" x=\"172.22\" y=\"1181.1\">6</text>\n",
       "</g>\n",
       "<g clip-path=\"url(#clip9300)\">\n",
       "<text style=\"fill:#000000; fill-opacity:1; font-family:Arial,Helvetica Neue,Helvetica,sans-serif; font-size:48px; text-anchor:start;\" transform=\"rotate(0, 95.8554, 926.851)\" x=\"95.8554\" y=\"926.851\">10</text>\n",
       "</g>\n",
       "<g clip-path=\"url(#clip9300)\">\n",
       "<text style=\"fill:#000000; fill-opacity:1; font-family:Arial,Helvetica Neue,Helvetica,sans-serif; font-size:38px; text-anchor:start;\" transform=\"rotate(0, 149.38, 899.441)\" x=\"149.38\" y=\"899.441\">-</text>\n",
       "</g>\n",
       "<g clip-path=\"url(#clip9300)\">\n",
       "<text style=\"fill:#000000; fill-opacity:1; font-family:Arial,Helvetica Neue,Helvetica,sans-serif; font-size:38px; text-anchor:start;\" transform=\"rotate(0, 172.22, 899.441)\" x=\"172.22\" y=\"899.441\">5</text>\n",
       "</g>\n",
       "<g clip-path=\"url(#clip9300)\">\n",
       "<text style=\"fill:#000000; fill-opacity:1; font-family:Arial,Helvetica Neue,Helvetica,sans-serif; font-size:48px; text-anchor:start;\" transform=\"rotate(0, 95.8554, 645.195)\" x=\"95.8554\" y=\"645.195\">10</text>\n",
       "</g>\n",
       "<g clip-path=\"url(#clip9300)\">\n",
       "<text style=\"fill:#000000; fill-opacity:1; font-family:Arial,Helvetica Neue,Helvetica,sans-serif; font-size:38px; text-anchor:start;\" transform=\"rotate(0, 149.38, 617.785)\" x=\"149.38\" y=\"617.785\">-</text>\n",
       "</g>\n",
       "<g clip-path=\"url(#clip9300)\">\n",
       "<text style=\"fill:#000000; fill-opacity:1; font-family:Arial,Helvetica Neue,Helvetica,sans-serif; font-size:38px; text-anchor:start;\" transform=\"rotate(0, 172.22, 617.785)\" x=\"172.22\" y=\"617.785\">4</text>\n",
       "</g>\n",
       "<g clip-path=\"url(#clip9300)\">\n",
       "<text style=\"fill:#000000; fill-opacity:1; font-family:Arial,Helvetica Neue,Helvetica,sans-serif; font-size:48px; text-anchor:start;\" transform=\"rotate(0, 95.8554, 363.539)\" x=\"95.8554\" y=\"363.539\">10</text>\n",
       "</g>\n",
       "<g clip-path=\"url(#clip9300)\">\n",
       "<text style=\"fill:#000000; fill-opacity:1; font-family:Arial,Helvetica Neue,Helvetica,sans-serif; font-size:38px; text-anchor:start;\" transform=\"rotate(0, 149.38, 336.129)\" x=\"149.38\" y=\"336.129\">-</text>\n",
       "</g>\n",
       "<g clip-path=\"url(#clip9300)\">\n",
       "<text style=\"fill:#000000; fill-opacity:1; font-family:Arial,Helvetica Neue,Helvetica,sans-serif; font-size:38px; text-anchor:start;\" transform=\"rotate(0, 172.22, 336.129)\" x=\"172.22\" y=\"336.129\">3</text>\n",
       "</g>\n",
       "<g clip-path=\"url(#clip9300)\">\n",
       "<text style=\"fill:#000000; fill-opacity:1; font-family:Arial,Helvetica Neue,Helvetica,sans-serif; font-size:84px; text-anchor:middle;\" transform=\"rotate(0, 1285.36, 73.2)\" x=\"1285.36\" y=\"73.2\">error = f(n)</text>\n",
       "</g>\n",
       "<g clip-path=\"url(#clip9300)\">\n",
       "<text style=\"fill:#000000; fill-opacity:1; font-family:Arial,Helvetica Neue,Helvetica,sans-serif; font-size:66px; text-anchor:middle;\" transform=\"rotate(0, 1285.36, 1559.48)\" x=\"1285.36\" y=\"1559.48\">n</text>\n",
       "</g>\n",
       "<polyline clip-path=\"url(#clip9302)\" style=\"stroke:#009af9; stroke-width:4; stroke-opacity:1; fill:none\" points=\"\n",
       "  278.383,197.533 319.484,158.579 360.585,363.343 401.686,245.116 442.787,298.79 483.888,210.683 524.989,232.997 566.09,174.248 607.192,250.712 648.293,314.606 \n",
       "  689.394,315.325 730.495,465.195 771.596,600.099 812.697,257.453 853.798,466.669 894.899,465.076 936,614.746 977.102,406.604 1018.2,542.587 1059.3,577.777 \n",
       "  1100.4,484.184 1141.51,423.285 1182.61,568.613 1223.71,559.815 1264.81,704.198 1305.91,544.161 1347.01,579.351 1388.11,614.54 1429.21,649.73 1470.31,684.92 \n",
       "  1511.42,720.11 1552.52,671.342 1593.62,790.489 1634.72,646.994 1675.82,860.868 1716.92,896.058 1758.02,931.248 1799.12,966.438 1840.22,1001.63 1881.33,1036.82 \n",
       "  1922.43,1072.01 1963.53,1107.2 2004.63,1142.39 2045.73,1177.58 2086.83,1212.77 2127.93,1247.96 2169.03,1283.15 2210.14,1318.34 2251.24,1353.52 2292.34,1388.71 \n",
       "  \n",
       "  \"/>\n",
       "<path clip-path=\"url(#clip9300)\" d=\"\n",
       "M1939.15 326.155 L2280.76 326.155 L2280.76 205.195 L1939.15 205.195  Z\n",
       "  \" fill=\"#ffffff\" fill-rule=\"evenodd\" fill-opacity=\"1\"/>\n",
       "<polyline clip-path=\"url(#clip9300)\" style=\"stroke:#000000; stroke-width:4; stroke-opacity:1; fill:none\" points=\"\n",
       "  1939.15,326.155 2280.76,326.155 2280.76,205.195 1939.15,205.195 1939.15,326.155 \n",
       "  \"/>\n",
       "<polyline clip-path=\"url(#clip9300)\" style=\"stroke:#009af9; stroke-width:4; stroke-opacity:1; fill:none\" points=\"\n",
       "  1963.15,265.675 2107.15,265.675 \n",
       "  \"/>\n",
       "<g clip-path=\"url(#clip9300)\">\n",
       "<text style=\"fill:#000000; fill-opacity:1; font-family:Arial,Helvetica Neue,Helvetica,sans-serif; font-size:48px; text-anchor:start;\" transform=\"rotate(0, 2131.15, 283.175)\" x=\"2131.15\" y=\"283.175\">error</text>\n",
       "</g>\n",
       "</svg>\n"
      ]
     },
     "execution_count": 24,
     "metadata": {},
     "output_type": "execute_result"
    }
   ],
   "source": [
    "@assert maximum(prev_n) <= max_n + 1\n",
    "\n",
    "cur_error = zeros(max_n)\n",
    "for n in 1:max_n\n",
    "  @assert n == n_list[n]\n",
    "  cur_error[n] = P_list[n]\n",
    "  \n",
    "  if ( n in prev_n )\n",
    "    tmp_index = findfirst(tmp_n -> tmp_n == n, prev_n)\n",
    "    cur_error[n] -= prev_P[tmp_index]\n",
    "  end\n",
    "  \n",
    "  cur_error[n] = abs(cur_error[n])\n",
    "end\n",
    "\n",
    "plot(\n",
    "  n_list, cur_error, yscale=:log10,\n",
    "  xlabel=\"n\", title=\"error = f(n)\", label=\"error\"\n",
    ")\n"
   ]
  },
  {
   "cell_type": "markdown",
   "metadata": {},
   "source": [
    "#### The error between the two curves decreases exponentially with n (or tau from before)\n",
    "\n",
    "It was introduced by the stochasticity of the process and its impact decreases as time passes\n",
    "\n",
    "---"
   ]
  },
  {
   "cell_type": "markdown",
   "metadata": {},
   "source": [
    "\n",
    "### 3. Write a function `cumulative_sum`, which returns a new vector. \n"
   ]
  },
  {
   "cell_type": "code",
   "execution_count": 25,
   "metadata": {},
   "outputs": [],
   "source": [
    "function cumulative_sum(input_list)\n",
    "  output_list = collect(input_list)\n",
    "  \n",
    "  cur_sum = 0\n",
    "  for (cur_index, cur_value) in enumerate(output_list)\n",
    "    cur_sum += cur_value\n",
    "    output_list[cur_index] = cur_sum\n",
    "  end\n",
    "  \n",
    "  return output_list\n",
    "end\n",
    "\n",
    "@assert cumulative_sum(n_list) == cumsum(n_list) \n",
    "@assert cumulative_sum(P_list) == cumsum(P_list) \n"
   ]
  },
  {
   "cell_type": "markdown",
   "metadata": {},
   "source": [
    "\n",
    "### 4. Plot the resulting values on a horizontal line. \n",
    "\n",
    "+ Generate a few random points and plot those\n",
    "+ Convince yourself that the probability that a point hits a bin is equal to the length of that bin.\n"
   ]
  },
  {
   "cell_type": "code",
   "execution_count": 26,
   "metadata": {},
   "outputs": [
    {
     "data": {
      "image/svg+xml": [
       "<?xml version=\"1.0\" encoding=\"utf-8\"?>\n",
       "<svg xmlns=\"http://www.w3.org/2000/svg\" xmlns:xlink=\"http://www.w3.org/1999/xlink\" width=\"600\" height=\"400\" viewBox=\"0 0 2400 1600\">\n",
       "<defs>\n",
       "  <clipPath id=\"clip9700\">\n",
       "    <rect x=\"0\" y=\"0\" width=\"2400\" height=\"1600\"/>\n",
       "  </clipPath>\n",
       "</defs>\n",
       "<path clip-path=\"url(#clip9700)\" d=\"\n",
       "M0 1600 L2400 1600 L2400 0 L0 0  Z\n",
       "  \" fill=\"#ffffff\" fill-rule=\"evenodd\" fill-opacity=\"1\"/>\n",
       "<defs>\n",
       "  <clipPath id=\"clip9701\">\n",
       "    <rect x=\"480\" y=\"0\" width=\"1681\" height=\"1600\"/>\n",
       "  </clipPath>\n",
       "</defs>\n",
       "<path clip-path=\"url(#clip9700)\" d=\"\n",
       "M180.66 1487.47 L2352.76 1487.47 L2352.76 47.2441 L180.66 47.2441  Z\n",
       "  \" fill=\"#ffffff\" fill-rule=\"evenodd\" fill-opacity=\"1\"/>\n",
       "<defs>\n",
       "  <clipPath id=\"clip9702\">\n",
       "    <rect x=\"180\" y=\"47\" width=\"2173\" height=\"1441\"/>\n",
       "  </clipPath>\n",
       "</defs>\n",
       "<polyline clip-path=\"url(#clip9702)\" style=\"stroke:#000000; stroke-width:2; stroke-opacity:0.1; fill:none\" points=\"\n",
       "  200.315,1487.47 200.315,47.2441 \n",
       "  \"/>\n",
       "<polyline clip-path=\"url(#clip9702)\" style=\"stroke:#000000; stroke-width:2; stroke-opacity:0.1; fill:none\" points=\"\n",
       "  618.509,1487.47 618.509,47.2441 \n",
       "  \"/>\n",
       "<polyline clip-path=\"url(#clip9702)\" style=\"stroke:#000000; stroke-width:2; stroke-opacity:0.1; fill:none\" points=\"\n",
       "  1036.7,1487.47 1036.7,47.2441 \n",
       "  \"/>\n",
       "<polyline clip-path=\"url(#clip9702)\" style=\"stroke:#000000; stroke-width:2; stroke-opacity:0.1; fill:none\" points=\"\n",
       "  1454.9,1487.47 1454.9,47.2441 \n",
       "  \"/>\n",
       "<polyline clip-path=\"url(#clip9702)\" style=\"stroke:#000000; stroke-width:2; stroke-opacity:0.1; fill:none\" points=\"\n",
       "  1873.09,1487.47 1873.09,47.2441 \n",
       "  \"/>\n",
       "<polyline clip-path=\"url(#clip9702)\" style=\"stroke:#000000; stroke-width:2; stroke-opacity:0.1; fill:none\" points=\"\n",
       "  2291.28,1487.47 2291.28,47.2441 \n",
       "  \"/>\n",
       "<polyline clip-path=\"url(#clip9702)\" style=\"stroke:#000000; stroke-width:2; stroke-opacity:0.1; fill:none\" points=\"\n",
       "  180.66,1487.47 2352.76,1487.47 \n",
       "  \"/>\n",
       "<polyline clip-path=\"url(#clip9702)\" style=\"stroke:#000000; stroke-width:2; stroke-opacity:0.1; fill:none\" points=\"\n",
       "  180.66,1160.15 2352.76,1160.15 \n",
       "  \"/>\n",
       "<polyline clip-path=\"url(#clip9702)\" style=\"stroke:#000000; stroke-width:2; stroke-opacity:0.1; fill:none\" points=\"\n",
       "  180.66,832.824 2352.76,832.824 \n",
       "  \"/>\n",
       "<polyline clip-path=\"url(#clip9702)\" style=\"stroke:#000000; stroke-width:2; stroke-opacity:0.1; fill:none\" points=\"\n",
       "  180.66,505.499 2352.76,505.499 \n",
       "  \"/>\n",
       "<polyline clip-path=\"url(#clip9702)\" style=\"stroke:#000000; stroke-width:2; stroke-opacity:0.1; fill:none\" points=\"\n",
       "  180.66,178.174 2352.76,178.174 \n",
       "  \"/>\n",
       "<polyline clip-path=\"url(#clip9700)\" style=\"stroke:#000000; stroke-width:4; stroke-opacity:1; fill:none\" points=\"\n",
       "  180.66,1487.47 2352.76,1487.47 \n",
       "  \"/>\n",
       "<polyline clip-path=\"url(#clip9700)\" style=\"stroke:#000000; stroke-width:4; stroke-opacity:1; fill:none\" points=\"\n",
       "  180.66,1487.47 180.66,47.2441 \n",
       "  \"/>\n",
       "<polyline clip-path=\"url(#clip9700)\" style=\"stroke:#000000; stroke-width:4; stroke-opacity:1; fill:none\" points=\"\n",
       "  200.315,1487.47 200.315,1470.19 \n",
       "  \"/>\n",
       "<polyline clip-path=\"url(#clip9700)\" style=\"stroke:#000000; stroke-width:4; stroke-opacity:1; fill:none\" points=\"\n",
       "  618.509,1487.47 618.509,1470.19 \n",
       "  \"/>\n",
       "<polyline clip-path=\"url(#clip9700)\" style=\"stroke:#000000; stroke-width:4; stroke-opacity:1; fill:none\" points=\"\n",
       "  1036.7,1487.47 1036.7,1470.19 \n",
       "  \"/>\n",
       "<polyline clip-path=\"url(#clip9700)\" style=\"stroke:#000000; stroke-width:4; stroke-opacity:1; fill:none\" points=\"\n",
       "  1454.9,1487.47 1454.9,1470.19 \n",
       "  \"/>\n",
       "<polyline clip-path=\"url(#clip9700)\" style=\"stroke:#000000; stroke-width:4; stroke-opacity:1; fill:none\" points=\"\n",
       "  1873.09,1487.47 1873.09,1470.19 \n",
       "  \"/>\n",
       "<polyline clip-path=\"url(#clip9700)\" style=\"stroke:#000000; stroke-width:4; stroke-opacity:1; fill:none\" points=\"\n",
       "  2291.28,1487.47 2291.28,1470.19 \n",
       "  \"/>\n",
       "<polyline clip-path=\"url(#clip9700)\" style=\"stroke:#000000; stroke-width:4; stroke-opacity:1; fill:none\" points=\"\n",
       "  180.66,1487.47 206.725,1487.47 \n",
       "  \"/>\n",
       "<polyline clip-path=\"url(#clip9700)\" style=\"stroke:#000000; stroke-width:4; stroke-opacity:1; fill:none\" points=\"\n",
       "  180.66,1160.15 206.725,1160.15 \n",
       "  \"/>\n",
       "<polyline clip-path=\"url(#clip9700)\" style=\"stroke:#000000; stroke-width:4; stroke-opacity:1; fill:none\" points=\"\n",
       "  180.66,832.824 206.725,832.824 \n",
       "  \"/>\n",
       "<polyline clip-path=\"url(#clip9700)\" style=\"stroke:#000000; stroke-width:4; stroke-opacity:1; fill:none\" points=\"\n",
       "  180.66,505.499 206.725,505.499 \n",
       "  \"/>\n",
       "<polyline clip-path=\"url(#clip9700)\" style=\"stroke:#000000; stroke-width:4; stroke-opacity:1; fill:none\" points=\"\n",
       "  180.66,178.174 206.725,178.174 \n",
       "  \"/>\n",
       "<g clip-path=\"url(#clip9700)\">\n",
       "<text style=\"fill:#000000; fill-opacity:1; font-family:Arial,Helvetica Neue,Helvetica,sans-serif; font-size:48px; text-anchor:middle;\" transform=\"rotate(0, 200.315, 1541.47)\" x=\"200.315\" y=\"1541.47\">0</text>\n",
       "</g>\n",
       "<g clip-path=\"url(#clip9700)\">\n",
       "<text style=\"fill:#000000; fill-opacity:1; font-family:Arial,Helvetica Neue,Helvetica,sans-serif; font-size:48px; text-anchor:middle;\" transform=\"rotate(0, 618.509, 1541.47)\" x=\"618.509\" y=\"1541.47\">10</text>\n",
       "</g>\n",
       "<g clip-path=\"url(#clip9700)\">\n",
       "<text style=\"fill:#000000; fill-opacity:1; font-family:Arial,Helvetica Neue,Helvetica,sans-serif; font-size:48px; text-anchor:middle;\" transform=\"rotate(0, 1036.7, 1541.47)\" x=\"1036.7\" y=\"1541.47\">20</text>\n",
       "</g>\n",
       "<g clip-path=\"url(#clip9700)\">\n",
       "<text style=\"fill:#000000; fill-opacity:1; font-family:Arial,Helvetica Neue,Helvetica,sans-serif; font-size:48px; text-anchor:middle;\" transform=\"rotate(0, 1454.9, 1541.47)\" x=\"1454.9\" y=\"1541.47\">30</text>\n",
       "</g>\n",
       "<g clip-path=\"url(#clip9700)\">\n",
       "<text style=\"fill:#000000; fill-opacity:1; font-family:Arial,Helvetica Neue,Helvetica,sans-serif; font-size:48px; text-anchor:middle;\" transform=\"rotate(0, 1873.09, 1541.47)\" x=\"1873.09\" y=\"1541.47\">40</text>\n",
       "</g>\n",
       "<g clip-path=\"url(#clip9700)\">\n",
       "<text style=\"fill:#000000; fill-opacity:1; font-family:Arial,Helvetica Neue,Helvetica,sans-serif; font-size:48px; text-anchor:middle;\" transform=\"rotate(0, 2291.28, 1541.47)\" x=\"2291.28\" y=\"1541.47\">50</text>\n",
       "</g>\n",
       "<g clip-path=\"url(#clip9700)\">\n",
       "<text style=\"fill:#000000; fill-opacity:1; font-family:Arial,Helvetica Neue,Helvetica,sans-serif; font-size:48px; text-anchor:end;\" transform=\"rotate(0, 156.66, 1504.97)\" x=\"156.66\" y=\"1504.97\">0.00</text>\n",
       "</g>\n",
       "<g clip-path=\"url(#clip9700)\">\n",
       "<text style=\"fill:#000000; fill-opacity:1; font-family:Arial,Helvetica Neue,Helvetica,sans-serif; font-size:48px; text-anchor:end;\" transform=\"rotate(0, 156.66, 1177.65)\" x=\"156.66\" y=\"1177.65\">0.25</text>\n",
       "</g>\n",
       "<g clip-path=\"url(#clip9700)\">\n",
       "<text style=\"fill:#000000; fill-opacity:1; font-family:Arial,Helvetica Neue,Helvetica,sans-serif; font-size:48px; text-anchor:end;\" transform=\"rotate(0, 156.66, 850.324)\" x=\"156.66\" y=\"850.324\">0.50</text>\n",
       "</g>\n",
       "<g clip-path=\"url(#clip9700)\">\n",
       "<text style=\"fill:#000000; fill-opacity:1; font-family:Arial,Helvetica Neue,Helvetica,sans-serif; font-size:48px; text-anchor:end;\" transform=\"rotate(0, 156.66, 522.999)\" x=\"156.66\" y=\"522.999\">0.75</text>\n",
       "</g>\n",
       "<g clip-path=\"url(#clip9700)\">\n",
       "<text style=\"fill:#000000; fill-opacity:1; font-family:Arial,Helvetica Neue,Helvetica,sans-serif; font-size:48px; text-anchor:end;\" transform=\"rotate(0, 156.66, 195.674)\" x=\"156.66\" y=\"195.674\">1.00</text>\n",
       "</g>\n",
       "<circle clip-path=\"url(#clip9702)\" cx=\"242.135\" cy=\"1160.15\" r=\"14\" fill=\"#009af9\" fill-rule=\"evenodd\" fill-opacity=\"1\" stroke=\"#000000\" stroke-opacity=\"1\" stroke-width=\"3.2\"/>\n",
       "<circle clip-path=\"url(#clip9702)\" cx=\"283.954\" cy=\"914.656\" r=\"14\" fill=\"#009af9\" fill-rule=\"evenodd\" fill-opacity=\"1\" stroke=\"#000000\" stroke-opacity=\"1\" stroke-width=\"3.2\"/>\n",
       "<circle clip-path=\"url(#clip9702)\" cx=\"325.773\" cy=\"730.535\" r=\"14\" fill=\"#009af9\" fill-rule=\"evenodd\" fill-opacity=\"1\" stroke=\"#000000\" stroke-opacity=\"1\" stroke-width=\"3.2\"/>\n",
       "<circle clip-path=\"url(#clip9702)\" cx=\"367.593\" cy=\"592.445\" r=\"14\" fill=\"#009af9\" fill-rule=\"evenodd\" fill-opacity=\"1\" stroke=\"#000000\" stroke-opacity=\"1\" stroke-width=\"3.2\"/>\n",
       "<circle clip-path=\"url(#clip9702)\" cx=\"409.412\" cy=\"488.877\" r=\"14\" fill=\"#009af9\" fill-rule=\"evenodd\" fill-opacity=\"1\" stroke=\"#000000\" stroke-opacity=\"1\" stroke-width=\"3.2\"/>\n",
       "<circle clip-path=\"url(#clip9702)\" cx=\"451.231\" cy=\"411.202\" r=\"14\" fill=\"#009af9\" fill-rule=\"evenodd\" fill-opacity=\"1\" stroke=\"#000000\" stroke-opacity=\"1\" stroke-width=\"3.2\"/>\n",
       "<circle clip-path=\"url(#clip9702)\" cx=\"493.051\" cy=\"352.945\" r=\"14\" fill=\"#009af9\" fill-rule=\"evenodd\" fill-opacity=\"1\" stroke=\"#000000\" stroke-opacity=\"1\" stroke-width=\"3.2\"/>\n",
       "<circle clip-path=\"url(#clip9702)\" cx=\"534.87\" cy=\"309.252\" r=\"14\" fill=\"#009af9\" fill-rule=\"evenodd\" fill-opacity=\"1\" stroke=\"#000000\" stroke-opacity=\"1\" stroke-width=\"3.2\"/>\n",
       "<circle clip-path=\"url(#clip9702)\" cx=\"576.689\" cy=\"276.483\" r=\"14\" fill=\"#009af9\" fill-rule=\"evenodd\" fill-opacity=\"1\" stroke=\"#000000\" stroke-opacity=\"1\" stroke-width=\"3.2\"/>\n",
       "<circle clip-path=\"url(#clip9702)\" cx=\"618.509\" cy=\"251.905\" r=\"14\" fill=\"#009af9\" fill-rule=\"evenodd\" fill-opacity=\"1\" stroke=\"#000000\" stroke-opacity=\"1\" stroke-width=\"3.2\"/>\n",
       "<circle clip-path=\"url(#clip9702)\" cx=\"660.328\" cy=\"233.473\" r=\"14\" fill=\"#009af9\" fill-rule=\"evenodd\" fill-opacity=\"1\" stroke=\"#000000\" stroke-opacity=\"1\" stroke-width=\"3.2\"/>\n",
       "<circle clip-path=\"url(#clip9702)\" cx=\"702.147\" cy=\"219.648\" r=\"14\" fill=\"#009af9\" fill-rule=\"evenodd\" fill-opacity=\"1\" stroke=\"#000000\" stroke-opacity=\"1\" stroke-width=\"3.2\"/>\n",
       "<circle clip-path=\"url(#clip9702)\" cx=\"743.967\" cy=\"209.28\" r=\"14\" fill=\"#009af9\" fill-rule=\"evenodd\" fill-opacity=\"1\" stroke=\"#000000\" stroke-opacity=\"1\" stroke-width=\"3.2\"/>\n",
       "<circle clip-path=\"url(#clip9702)\" cx=\"785.786\" cy=\"201.503\" r=\"14\" fill=\"#009af9\" fill-rule=\"evenodd\" fill-opacity=\"1\" stroke=\"#000000\" stroke-opacity=\"1\" stroke-width=\"3.2\"/>\n",
       "<circle clip-path=\"url(#clip9702)\" cx=\"827.605\" cy=\"195.671\" r=\"14\" fill=\"#009af9\" fill-rule=\"evenodd\" fill-opacity=\"1\" stroke=\"#000000\" stroke-opacity=\"1\" stroke-width=\"3.2\"/>\n",
       "<circle clip-path=\"url(#clip9702)\" cx=\"869.425\" cy=\"191.297\" r=\"14\" fill=\"#009af9\" fill-rule=\"evenodd\" fill-opacity=\"1\" stroke=\"#000000\" stroke-opacity=\"1\" stroke-width=\"3.2\"/>\n",
       "<circle clip-path=\"url(#clip9702)\" cx=\"911.244\" cy=\"188.016\" r=\"14\" fill=\"#009af9\" fill-rule=\"evenodd\" fill-opacity=\"1\" stroke=\"#000000\" stroke-opacity=\"1\" stroke-width=\"3.2\"/>\n",
       "<circle clip-path=\"url(#clip9702)\" cx=\"953.063\" cy=\"185.556\" r=\"14\" fill=\"#009af9\" fill-rule=\"evenodd\" fill-opacity=\"1\" stroke=\"#000000\" stroke-opacity=\"1\" stroke-width=\"3.2\"/>\n",
       "<circle clip-path=\"url(#clip9702)\" cx=\"994.883\" cy=\"183.71\" r=\"14\" fill=\"#009af9\" fill-rule=\"evenodd\" fill-opacity=\"1\" stroke=\"#000000\" stroke-opacity=\"1\" stroke-width=\"3.2\"/>\n",
       "<circle clip-path=\"url(#clip9702)\" cx=\"1036.7\" cy=\"182.326\" r=\"14\" fill=\"#009af9\" fill-rule=\"evenodd\" fill-opacity=\"1\" stroke=\"#000000\" stroke-opacity=\"1\" stroke-width=\"3.2\"/>\n",
       "<circle clip-path=\"url(#clip9702)\" cx=\"1078.52\" cy=\"181.288\" r=\"14\" fill=\"#009af9\" fill-rule=\"evenodd\" fill-opacity=\"1\" stroke=\"#000000\" stroke-opacity=\"1\" stroke-width=\"3.2\"/>\n",
       "<circle clip-path=\"url(#clip9702)\" cx=\"1120.34\" cy=\"180.51\" r=\"14\" fill=\"#009af9\" fill-rule=\"evenodd\" fill-opacity=\"1\" stroke=\"#000000\" stroke-opacity=\"1\" stroke-width=\"3.2\"/>\n",
       "<circle clip-path=\"url(#clip9702)\" cx=\"1162.16\" cy=\"179.926\" r=\"14\" fill=\"#009af9\" fill-rule=\"evenodd\" fill-opacity=\"1\" stroke=\"#000000\" stroke-opacity=\"1\" stroke-width=\"3.2\"/>\n",
       "<circle clip-path=\"url(#clip9702)\" cx=\"1203.98\" cy=\"179.488\" r=\"14\" fill=\"#009af9\" fill-rule=\"evenodd\" fill-opacity=\"1\" stroke=\"#000000\" stroke-opacity=\"1\" stroke-width=\"3.2\"/>\n",
       "<circle clip-path=\"url(#clip9702)\" cx=\"1245.8\" cy=\"179.159\" r=\"14\" fill=\"#009af9\" fill-rule=\"evenodd\" fill-opacity=\"1\" stroke=\"#000000\" stroke-opacity=\"1\" stroke-width=\"3.2\"/>\n",
       "<circle clip-path=\"url(#clip9702)\" cx=\"1287.62\" cy=\"178.913\" r=\"14\" fill=\"#009af9\" fill-rule=\"evenodd\" fill-opacity=\"1\" stroke=\"#000000\" stroke-opacity=\"1\" stroke-width=\"3.2\"/>\n",
       "<circle clip-path=\"url(#clip9702)\" cx=\"1329.44\" cy=\"178.728\" r=\"14\" fill=\"#009af9\" fill-rule=\"evenodd\" fill-opacity=\"1\" stroke=\"#000000\" stroke-opacity=\"1\" stroke-width=\"3.2\"/>\n",
       "<circle clip-path=\"url(#clip9702)\" cx=\"1371.26\" cy=\"178.59\" r=\"14\" fill=\"#009af9\" fill-rule=\"evenodd\" fill-opacity=\"1\" stroke=\"#000000\" stroke-opacity=\"1\" stroke-width=\"3.2\"/>\n",
       "<circle clip-path=\"url(#clip9702)\" cx=\"1413.08\" cy=\"178.486\" r=\"14\" fill=\"#009af9\" fill-rule=\"evenodd\" fill-opacity=\"1\" stroke=\"#000000\" stroke-opacity=\"1\" stroke-width=\"3.2\"/>\n",
       "<circle clip-path=\"url(#clip9702)\" cx=\"1454.9\" cy=\"178.408\" r=\"14\" fill=\"#009af9\" fill-rule=\"evenodd\" fill-opacity=\"1\" stroke=\"#000000\" stroke-opacity=\"1\" stroke-width=\"3.2\"/>\n",
       "<circle clip-path=\"url(#clip9702)\" cx=\"1496.71\" cy=\"178.35\" r=\"14\" fill=\"#009af9\" fill-rule=\"evenodd\" fill-opacity=\"1\" stroke=\"#000000\" stroke-opacity=\"1\" stroke-width=\"3.2\"/>\n",
       "<circle clip-path=\"url(#clip9702)\" cx=\"1538.53\" cy=\"178.306\" r=\"14\" fill=\"#009af9\" fill-rule=\"evenodd\" fill-opacity=\"1\" stroke=\"#000000\" stroke-opacity=\"1\" stroke-width=\"3.2\"/>\n",
       "<circle clip-path=\"url(#clip9702)\" cx=\"1580.35\" cy=\"178.273\" r=\"14\" fill=\"#009af9\" fill-rule=\"evenodd\" fill-opacity=\"1\" stroke=\"#000000\" stroke-opacity=\"1\" stroke-width=\"3.2\"/>\n",
       "<circle clip-path=\"url(#clip9702)\" cx=\"1622.17\" cy=\"178.248\" r=\"14\" fill=\"#009af9\" fill-rule=\"evenodd\" fill-opacity=\"1\" stroke=\"#000000\" stroke-opacity=\"1\" stroke-width=\"3.2\"/>\n",
       "<circle clip-path=\"url(#clip9702)\" cx=\"1663.99\" cy=\"178.23\" r=\"14\" fill=\"#009af9\" fill-rule=\"evenodd\" fill-opacity=\"1\" stroke=\"#000000\" stroke-opacity=\"1\" stroke-width=\"3.2\"/>\n",
       "<circle clip-path=\"url(#clip9702)\" cx=\"1705.81\" cy=\"178.216\" r=\"14\" fill=\"#009af9\" fill-rule=\"evenodd\" fill-opacity=\"1\" stroke=\"#000000\" stroke-opacity=\"1\" stroke-width=\"3.2\"/>\n",
       "<circle clip-path=\"url(#clip9702)\" cx=\"1747.63\" cy=\"178.205\" r=\"14\" fill=\"#009af9\" fill-rule=\"evenodd\" fill-opacity=\"1\" stroke=\"#000000\" stroke-opacity=\"1\" stroke-width=\"3.2\"/>\n",
       "<circle clip-path=\"url(#clip9702)\" cx=\"1789.45\" cy=\"178.198\" r=\"14\" fill=\"#009af9\" fill-rule=\"evenodd\" fill-opacity=\"1\" stroke=\"#000000\" stroke-opacity=\"1\" stroke-width=\"3.2\"/>\n",
       "<circle clip-path=\"url(#clip9702)\" cx=\"1831.27\" cy=\"178.192\" r=\"14\" fill=\"#009af9\" fill-rule=\"evenodd\" fill-opacity=\"1\" stroke=\"#000000\" stroke-opacity=\"1\" stroke-width=\"3.2\"/>\n",
       "<circle clip-path=\"url(#clip9702)\" cx=\"1873.09\" cy=\"178.187\" r=\"14\" fill=\"#009af9\" fill-rule=\"evenodd\" fill-opacity=\"1\" stroke=\"#000000\" stroke-opacity=\"1\" stroke-width=\"3.2\"/>\n",
       "<circle clip-path=\"url(#clip9702)\" cx=\"1914.91\" cy=\"178.184\" r=\"14\" fill=\"#009af9\" fill-rule=\"evenodd\" fill-opacity=\"1\" stroke=\"#000000\" stroke-opacity=\"1\" stroke-width=\"3.2\"/>\n",
       "<circle clip-path=\"url(#clip9702)\" cx=\"1956.73\" cy=\"178.182\" r=\"14\" fill=\"#009af9\" fill-rule=\"evenodd\" fill-opacity=\"1\" stroke=\"#000000\" stroke-opacity=\"1\" stroke-width=\"3.2\"/>\n",
       "<circle clip-path=\"url(#clip9702)\" cx=\"1998.55\" cy=\"178.18\" r=\"14\" fill=\"#009af9\" fill-rule=\"evenodd\" fill-opacity=\"1\" stroke=\"#000000\" stroke-opacity=\"1\" stroke-width=\"3.2\"/>\n",
       "<circle clip-path=\"url(#clip9702)\" cx=\"2040.37\" cy=\"178.178\" r=\"14\" fill=\"#009af9\" fill-rule=\"evenodd\" fill-opacity=\"1\" stroke=\"#000000\" stroke-opacity=\"1\" stroke-width=\"3.2\"/>\n",
       "<circle clip-path=\"url(#clip9702)\" cx=\"2082.18\" cy=\"178.177\" r=\"14\" fill=\"#009af9\" fill-rule=\"evenodd\" fill-opacity=\"1\" stroke=\"#000000\" stroke-opacity=\"1\" stroke-width=\"3.2\"/>\n",
       "<circle clip-path=\"url(#clip9702)\" cx=\"2124\" cy=\"178.176\" r=\"14\" fill=\"#009af9\" fill-rule=\"evenodd\" fill-opacity=\"1\" stroke=\"#000000\" stroke-opacity=\"1\" stroke-width=\"3.2\"/>\n",
       "<circle clip-path=\"url(#clip9702)\" cx=\"2165.82\" cy=\"178.176\" r=\"14\" fill=\"#009af9\" fill-rule=\"evenodd\" fill-opacity=\"1\" stroke=\"#000000\" stroke-opacity=\"1\" stroke-width=\"3.2\"/>\n",
       "<circle clip-path=\"url(#clip9702)\" cx=\"2207.64\" cy=\"178.175\" r=\"14\" fill=\"#009af9\" fill-rule=\"evenodd\" fill-opacity=\"1\" stroke=\"#000000\" stroke-opacity=\"1\" stroke-width=\"3.2\"/>\n",
       "<circle clip-path=\"url(#clip9702)\" cx=\"2249.46\" cy=\"178.175\" r=\"14\" fill=\"#009af9\" fill-rule=\"evenodd\" fill-opacity=\"1\" stroke=\"#000000\" stroke-opacity=\"1\" stroke-width=\"3.2\"/>\n",
       "<circle clip-path=\"url(#clip9702)\" cx=\"2291.28\" cy=\"178.175\" r=\"14\" fill=\"#009af9\" fill-rule=\"evenodd\" fill-opacity=\"1\" stroke=\"#000000\" stroke-opacity=\"1\" stroke-width=\"3.2\"/>\n",
       "<polyline clip-path=\"url(#clip9702)\" style=\"stroke:#e26f46; stroke-width:4; stroke-opacity:1; fill:none\" points=\"\n",
       "  -1991.44,1140.53 4524.85,1140.53 \n",
       "  \"/>\n",
       "<polyline clip-path=\"url(#clip9702)\" style=\"stroke:#e26f46; stroke-width:4; stroke-opacity:1; fill:none\" points=\"\n",
       "  -1991.44,1317.28 4524.85,1317.28 \n",
       "  \"/>\n",
       "<polyline clip-path=\"url(#clip9702)\" style=\"stroke:#e26f46; stroke-width:4; stroke-opacity:1; fill:none\" points=\"\n",
       "  -1991.44,1476.79 4524.85,1476.79 \n",
       "  \"/>\n",
       "<polyline clip-path=\"url(#clip9702)\" style=\"stroke:#e26f46; stroke-width:4; stroke-opacity:1; fill:none\" points=\"\n",
       "  -1991.44,1201.94 4524.85,1201.94 \n",
       "  \"/>\n",
       "<polyline clip-path=\"url(#clip9702)\" style=\"stroke:#e26f46; stroke-width:4; stroke-opacity:1; fill:none\" points=\"\n",
       "  -1991.44,556.058 4524.85,556.058 \n",
       "  \"/>\n",
       "<polyline clip-path=\"url(#clip9702)\" style=\"stroke:#e26f46; stroke-width:4; stroke-opacity:1; fill:none\" points=\"\n",
       "  -1991.44,1371.6 4524.85,1371.6 \n",
       "  \"/>\n",
       "<polyline clip-path=\"url(#clip9702)\" style=\"stroke:#e26f46; stroke-width:4; stroke-opacity:1; fill:none\" points=\"\n",
       "  -1991.44,506.547 4524.85,506.547 \n",
       "  \"/>\n",
       "<polyline clip-path=\"url(#clip9702)\" style=\"stroke:#e26f46; stroke-width:4; stroke-opacity:1; fill:none\" points=\"\n",
       "  -1991.44,1428.06 4524.85,1428.06 \n",
       "  \"/>\n",
       "<path clip-path=\"url(#clip9700)\" d=\"\n",
       "M1989.93 312.204 L2280.76 312.204 L2280.76 130.764 L1989.93 130.764  Z\n",
       "  \" fill=\"#ffffff\" fill-rule=\"evenodd\" fill-opacity=\"1\"/>\n",
       "<polyline clip-path=\"url(#clip9700)\" style=\"stroke:#000000; stroke-width:4; stroke-opacity:1; fill:none\" points=\"\n",
       "  1989.93,312.204 2280.76,312.204 2280.76,130.764 1989.93,130.764 1989.93,312.204 \n",
       "  \"/>\n",
       "<circle clip-path=\"url(#clip9700)\" cx=\"2097.93\" cy=\"191.244\" r=\"21\" fill=\"#009af9\" fill-rule=\"evenodd\" fill-opacity=\"1\" stroke=\"#000000\" stroke-opacity=\"1\" stroke-width=\"3.2\"/>\n",
       "<g clip-path=\"url(#clip9700)\">\n",
       "<text style=\"fill:#000000; fill-opacity:1; font-family:Arial,Helvetica Neue,Helvetica,sans-serif; font-size:48px; text-anchor:start;\" transform=\"rotate(0, 2181.93, 208.744)\" x=\"2181.93\" y=\"208.744\">y1</text>\n",
       "</g>\n",
       "<polyline clip-path=\"url(#clip9700)\" style=\"stroke:#e26f46; stroke-width:4; stroke-opacity:1; fill:none\" points=\"\n",
       "  2013.93,251.724 2157.93,251.724 \n",
       "  \"/>\n",
       "<g clip-path=\"url(#clip9700)\">\n",
       "<text style=\"fill:#000000; fill-opacity:1; font-family:Arial,Helvetica Neue,Helvetica,sans-serif; font-size:48px; text-anchor:start;\" transform=\"rotate(0, 2181.93, 269.224)\" x=\"2181.93\" y=\"269.224\">y2</text>\n",
       "</g>\n",
       "</svg>\n"
      ]
     },
     "execution_count": 26,
     "metadata": {},
     "output_type": "execute_result"
    }
   ],
   "source": [
    "scatter(n_list, cumulative_sum(P_list))\n",
    "hline!(rand(8))\n",
    "ylims!(0,1.1)"
   ]
  },
  {
   "cell_type": "markdown",
   "metadata": {},
   "source": [
    "\n",
    "### 5. Calculate analytically the sum of $P_1$ up to $P_n$\n"
   ]
  },
  {
   "cell_type": "markdown",
   "metadata": {},
   "source": [
    "First part,\n",
    "\n",
    "+ $P_n = p \\cdot (1-p) ^ {n-1}$\n",
    "+ $\\sum_1^n P_i = p \\cdot \\sum_1^n (1-p) ^ {n-1} $\n",
    "\n",
    "Second part,\n",
    "\n",
    "+ $S_n = \\sum_1^n x ^ {n-1} = 1 + x + x^2 + \\cdots + x^{n-1}$\n",
    "+ $S_{n+1} = x + x^2 + \\cdots + x^n = x \\cdot S_n$\n",
    "\n",
    "Combining the two substeps of the second part:\n",
    "\n",
    "+ $S_n \\cdot (1-x) = (1-x^n)$\n",
    "+ **or:** $S_n = \\frac{1-x^n}{1-x}$\n",
    "\n",
    "Substituting in x = 1-p, gives:\n",
    "\n",
    "+ $S_n = \\frac{1-(1-p)^n}{p}$\n",
    "\n",
    "So now we can say,\n",
    "\n",
    "$\\sum_1^n P_i = 1-(1-p)^n $\n",
    "\n",
    "Where two factors of **`p`**'s cancelled out\n",
    "\n",
    "// note that because p < 1, $P_i$ tends to 1 as n goes to infinity\n",
    "\n",
    "----"
   ]
  },
  {
   "cell_type": "markdown",
   "metadata": {},
   "source": [
    "\n",
    "### 6. Use the result of [5] to find analytically which bin $n$ \n",
    "A given value of $r \\in [0, 1]$ falls into using the inequality $P_{n-1} \\le r \\lt P_n$.\n"
   ]
  },
  {
   "cell_type": "markdown",
   "metadata": {},
   "source": [
    "We start with:\n",
    "\n",
    "+ $r = \\sum_1^n P_i $\n",
    "+ $r = 1-(1-p)^n $\n",
    "\n",
    "This leads to:\n",
    "\n",
    "+ $(1-p)^n = (1-r)$\n",
    "\n",
    "However, **`n`** is an int defined at right end of interval, so:\n",
    "\n",
    "> $ n = 1 + \\left\\lfloor \\frac{log(1-r)}{log(1-p)} \\right\\rfloor $"
   ]
  },
  {
   "cell_type": "markdown",
   "metadata": {},
   "source": [
    "\n",
    "### 7. Implement this using the `floor` function."
   ]
  },
  {
   "cell_type": "code",
   "execution_count": 27,
   "metadata": {},
   "outputs": [
    {
     "name": "stdout",
     "output_type": "stream",
     "text": [
      "\n",
      "--------------\n",
      " a quick test\n",
      "--------------\n",
      "\n",
      "r = 0.55   ->   n = 3\n",
      "r = 0.59   ->   n = 4\n",
      "r = 0.20   ->   n = 1\n",
      "r = 0.34   ->   n = 2\n",
      "r = 0.81   ->   n = 6\n",
      "r = 0.31   ->   n = 2\n",
      "r = 0.63   ->   n = 4\n",
      "r = 0.22   ->   n = 1\n",
      "r = 0.44   ->   n = 3\n",
      "r = 0.02   ->   n = 1\n"
     ]
    }
   ],
   "source": [
    "p = 0.25\n",
    "calc_n(r, p) = Int( 1 + floor( log(1-r) / log(1-p) ) )\n",
    "\n",
    "println(\"\\n--------------\\n a quick test\\n--------------\\n\")\n",
    "for _ in 1:10\n",
    "  r = rand()\n",
    "  n = calc_n(r,p)\n",
    "  \n",
    "  rounded_string = rpad(string(round(r, digits=2)), 4, \"0\")\n",
    "  println(\"r = \", rounded_string, \"   ->   n = \", n)\n",
    "end"
   ]
  },
  {
   "cell_type": "markdown",
   "metadata": {},
   "source": [
    "----\n",
    "\n",
    "## Exercise 4: A simple infection model\n",
    "\n",
    "A simple model for modeling infection and recovery is: An individual starts in state `S` (\"susceptible\"). When they are in state `S`, they have a probability $p_E$ to become exposed (state `E`) at each step. Once they are exposed, they have probability $p_I$ to become infectious (state `I`). When they are infectious, they have a probability $p_R$ to recover at each step.\n",
    "\n",
    "> `S -> E -> I -> R`\n",
    "\n",
    "----"
   ]
  },
  {
   "cell_type": "markdown",
   "metadata": {},
   "source": [
    "### 1. How does the total time $\\tau_\\text{total}$ to go from `S` to `R` relate to these times? \n",
    "\n",
    "What is the relation with the geometric random variables from the previous exercises?\n"
   ]
  },
  {
   "cell_type": "markdown",
   "metadata": {},
   "source": [
    "> $\\tau_{total} = \\tau_S + \\tau_E + \\tau_I$"
   ]
  },
  {
   "cell_type": "markdown",
   "metadata": {},
   "source": [
    "Related to before, it's basically just 3 `S-I` models daisy chained together"
   ]
  },
  {
   "cell_type": "markdown",
   "metadata": {},
   "source": [
    "### 2. Write a function `total_time(p_E, p_I, p_R)` that calculates the total time to go from state `S` to state `R`.\n",
    "\n"
   ]
  },
  {
   "cell_type": "code",
   "execution_count": 28,
   "metadata": {},
   "outputs": [],
   "source": [
    "total_time(p...) = sum(geometric.(p))\n",
    "\n",
    "experiment(p::Vector, N) = [ total_time(p...) for _ in 1:N ]\n",
    "\n",
    "test_p = [1,1,1]\n",
    "@assert total_time(test_p...) == 3\n",
    "@assert experiment(test_p, 1) == [3]"
   ]
  },
  {
   "cell_type": "markdown",
   "metadata": {},
   "source": [
    "### 3. Run a Monte Carlo simulation to:\n",
    "calculate and plot the probability distribution of $\\tau_\\text{total}$ for:\n",
    "+ $p_E = 0.25$\n",
    "+ $p_I = 0.1$ \n",
    "+ $p_R = 0.05$\n",
    "\n"
   ]
  },
  {
   "cell_type": "code",
   "execution_count": 29,
   "metadata": {},
   "outputs": [
    {
     "data": {
      "image/svg+xml": [
       "<?xml version=\"1.0\" encoding=\"utf-8\"?>\n",
       "<svg xmlns=\"http://www.w3.org/2000/svg\" xmlns:xlink=\"http://www.w3.org/1999/xlink\" width=\"600\" height=\"400\" viewBox=\"0 0 2400 1600\">\n",
       "<defs>\n",
       "  <clipPath id=\"clip0100\">\n",
       "    <rect x=\"0\" y=\"0\" width=\"2400\" height=\"1600\"/>\n",
       "  </clipPath>\n",
       "</defs>\n",
       "<path clip-path=\"url(#clip0100)\" d=\"\n",
       "M0 1600 L2400 1600 L2400 0 L0 0  Z\n",
       "  \" fill=\"#ffffff\" fill-rule=\"evenodd\" fill-opacity=\"1\"/>\n",
       "<defs>\n",
       "  <clipPath id=\"clip0101\">\n",
       "    <rect x=\"480\" y=\"0\" width=\"1681\" height=\"1600\"/>\n",
       "  </clipPath>\n",
       "</defs>\n",
       "<path clip-path=\"url(#clip0100)\" d=\"\n",
       "M207.423 1487.47 L2352.76 1487.47 L2352.76 47.2441 L207.423 47.2441  Z\n",
       "  \" fill=\"#ffffff\" fill-rule=\"evenodd\" fill-opacity=\"1\"/>\n",
       "<defs>\n",
       "  <clipPath id=\"clip0102\">\n",
       "    <rect x=\"207\" y=\"47\" width=\"2146\" height=\"1441\"/>\n",
       "  </clipPath>\n",
       "</defs>\n",
       "<polyline clip-path=\"url(#clip0102)\" style=\"stroke:#000000; stroke-width:2; stroke-opacity:0.1; fill:none\" points=\"\n",
       "  239.088,1487.47 239.088,47.2441 \n",
       "  \"/>\n",
       "<polyline clip-path=\"url(#clip0102)\" style=\"stroke:#000000; stroke-width:2; stroke-opacity:0.1; fill:none\" points=\"\n",
       "  723.275,1487.47 723.275,47.2441 \n",
       "  \"/>\n",
       "<polyline clip-path=\"url(#clip0102)\" style=\"stroke:#000000; stroke-width:2; stroke-opacity:0.1; fill:none\" points=\"\n",
       "  1207.46,1487.47 1207.46,47.2441 \n",
       "  \"/>\n",
       "<polyline clip-path=\"url(#clip0102)\" style=\"stroke:#000000; stroke-width:2; stroke-opacity:0.1; fill:none\" points=\"\n",
       "  1691.65,1487.47 1691.65,47.2441 \n",
       "  \"/>\n",
       "<polyline clip-path=\"url(#clip0102)\" style=\"stroke:#000000; stroke-width:2; stroke-opacity:0.1; fill:none\" points=\"\n",
       "  2175.83,1487.47 2175.83,47.2441 \n",
       "  \"/>\n",
       "<polyline clip-path=\"url(#clip0102)\" style=\"stroke:#000000; stroke-width:2; stroke-opacity:0.1; fill:none\" points=\"\n",
       "  207.423,1451.64 2352.76,1451.64 \n",
       "  \"/>\n",
       "<polyline clip-path=\"url(#clip0102)\" style=\"stroke:#000000; stroke-width:2; stroke-opacity:0.1; fill:none\" points=\"\n",
       "  207.423,1205.49 2352.76,1205.49 \n",
       "  \"/>\n",
       "<polyline clip-path=\"url(#clip0102)\" style=\"stroke:#000000; stroke-width:2; stroke-opacity:0.1; fill:none\" points=\"\n",
       "  207.423,959.351 2352.76,959.351 \n",
       "  \"/>\n",
       "<polyline clip-path=\"url(#clip0102)\" style=\"stroke:#000000; stroke-width:2; stroke-opacity:0.1; fill:none\" points=\"\n",
       "  207.423,713.208 2352.76,713.208 \n",
       "  \"/>\n",
       "<polyline clip-path=\"url(#clip0102)\" style=\"stroke:#000000; stroke-width:2; stroke-opacity:0.1; fill:none\" points=\"\n",
       "  207.423,467.065 2352.76,467.065 \n",
       "  \"/>\n",
       "<polyline clip-path=\"url(#clip0102)\" style=\"stroke:#000000; stroke-width:2; stroke-opacity:0.1; fill:none\" points=\"\n",
       "  207.423,220.922 2352.76,220.922 \n",
       "  \"/>\n",
       "<polyline clip-path=\"url(#clip0100)\" style=\"stroke:#000000; stroke-width:4; stroke-opacity:1; fill:none\" points=\"\n",
       "  207.423,1487.47 2352.76,1487.47 \n",
       "  \"/>\n",
       "<polyline clip-path=\"url(#clip0100)\" style=\"stroke:#000000; stroke-width:4; stroke-opacity:1; fill:none\" points=\"\n",
       "  207.423,1487.47 207.423,47.2441 \n",
       "  \"/>\n",
       "<polyline clip-path=\"url(#clip0100)\" style=\"stroke:#000000; stroke-width:4; stroke-opacity:1; fill:none\" points=\"\n",
       "  239.088,1487.47 239.088,1470.19 \n",
       "  \"/>\n",
       "<polyline clip-path=\"url(#clip0100)\" style=\"stroke:#000000; stroke-width:4; stroke-opacity:1; fill:none\" points=\"\n",
       "  723.275,1487.47 723.275,1470.19 \n",
       "  \"/>\n",
       "<polyline clip-path=\"url(#clip0100)\" style=\"stroke:#000000; stroke-width:4; stroke-opacity:1; fill:none\" points=\"\n",
       "  1207.46,1487.47 1207.46,1470.19 \n",
       "  \"/>\n",
       "<polyline clip-path=\"url(#clip0100)\" style=\"stroke:#000000; stroke-width:4; stroke-opacity:1; fill:none\" points=\"\n",
       "  1691.65,1487.47 1691.65,1470.19 \n",
       "  \"/>\n",
       "<polyline clip-path=\"url(#clip0100)\" style=\"stroke:#000000; stroke-width:4; stroke-opacity:1; fill:none\" points=\"\n",
       "  2175.83,1487.47 2175.83,1470.19 \n",
       "  \"/>\n",
       "<polyline clip-path=\"url(#clip0100)\" style=\"stroke:#000000; stroke-width:4; stroke-opacity:1; fill:none\" points=\"\n",
       "  207.423,1451.64 233.167,1451.64 \n",
       "  \"/>\n",
       "<polyline clip-path=\"url(#clip0100)\" style=\"stroke:#000000; stroke-width:4; stroke-opacity:1; fill:none\" points=\"\n",
       "  207.423,1205.49 233.167,1205.49 \n",
       "  \"/>\n",
       "<polyline clip-path=\"url(#clip0100)\" style=\"stroke:#000000; stroke-width:4; stroke-opacity:1; fill:none\" points=\"\n",
       "  207.423,959.351 233.167,959.351 \n",
       "  \"/>\n",
       "<polyline clip-path=\"url(#clip0100)\" style=\"stroke:#000000; stroke-width:4; stroke-opacity:1; fill:none\" points=\"\n",
       "  207.423,713.208 233.167,713.208 \n",
       "  \"/>\n",
       "<polyline clip-path=\"url(#clip0100)\" style=\"stroke:#000000; stroke-width:4; stroke-opacity:1; fill:none\" points=\"\n",
       "  207.423,467.065 233.167,467.065 \n",
       "  \"/>\n",
       "<polyline clip-path=\"url(#clip0100)\" style=\"stroke:#000000; stroke-width:4; stroke-opacity:1; fill:none\" points=\"\n",
       "  207.423,220.922 233.167,220.922 \n",
       "  \"/>\n",
       "<g clip-path=\"url(#clip0100)\">\n",
       "<text style=\"fill:#000000; fill-opacity:1; font-family:Arial,Helvetica Neue,Helvetica,sans-serif; font-size:48px; text-anchor:middle;\" transform=\"rotate(0, 239.088, 1541.47)\" x=\"239.088\" y=\"1541.47\">0</text>\n",
       "</g>\n",
       "<g clip-path=\"url(#clip0100)\">\n",
       "<text style=\"fill:#000000; fill-opacity:1; font-family:Arial,Helvetica Neue,Helvetica,sans-serif; font-size:48px; text-anchor:middle;\" transform=\"rotate(0, 723.275, 1541.47)\" x=\"723.275\" y=\"1541.47\">50</text>\n",
       "</g>\n",
       "<g clip-path=\"url(#clip0100)\">\n",
       "<text style=\"fill:#000000; fill-opacity:1; font-family:Arial,Helvetica Neue,Helvetica,sans-serif; font-size:48px; text-anchor:middle;\" transform=\"rotate(0, 1207.46, 1541.47)\" x=\"1207.46\" y=\"1541.47\">100</text>\n",
       "</g>\n",
       "<g clip-path=\"url(#clip0100)\">\n",
       "<text style=\"fill:#000000; fill-opacity:1; font-family:Arial,Helvetica Neue,Helvetica,sans-serif; font-size:48px; text-anchor:middle;\" transform=\"rotate(0, 1691.65, 1541.47)\" x=\"1691.65\" y=\"1541.47\">150</text>\n",
       "</g>\n",
       "<g clip-path=\"url(#clip0100)\">\n",
       "<text style=\"fill:#000000; fill-opacity:1; font-family:Arial,Helvetica Neue,Helvetica,sans-serif; font-size:48px; text-anchor:middle;\" transform=\"rotate(0, 2175.83, 1541.47)\" x=\"2175.83\" y=\"1541.47\">200</text>\n",
       "</g>\n",
       "<g clip-path=\"url(#clip0100)\">\n",
       "<text style=\"fill:#000000; fill-opacity:1; font-family:Arial,Helvetica Neue,Helvetica,sans-serif; font-size:48px; text-anchor:end;\" transform=\"rotate(0, 183.423, 1469.14)\" x=\"183.423\" y=\"1469.14\">0.000</text>\n",
       "</g>\n",
       "<g clip-path=\"url(#clip0100)\">\n",
       "<text style=\"fill:#000000; fill-opacity:1; font-family:Arial,Helvetica Neue,Helvetica,sans-serif; font-size:48px; text-anchor:end;\" transform=\"rotate(0, 183.423, 1222.99)\" x=\"183.423\" y=\"1222.99\">0.005</text>\n",
       "</g>\n",
       "<g clip-path=\"url(#clip0100)\">\n",
       "<text style=\"fill:#000000; fill-opacity:1; font-family:Arial,Helvetica Neue,Helvetica,sans-serif; font-size:48px; text-anchor:end;\" transform=\"rotate(0, 183.423, 976.851)\" x=\"183.423\" y=\"976.851\">0.010</text>\n",
       "</g>\n",
       "<g clip-path=\"url(#clip0100)\">\n",
       "<text style=\"fill:#000000; fill-opacity:1; font-family:Arial,Helvetica Neue,Helvetica,sans-serif; font-size:48px; text-anchor:end;\" transform=\"rotate(0, 183.423, 730.708)\" x=\"183.423\" y=\"730.708\">0.015</text>\n",
       "</g>\n",
       "<g clip-path=\"url(#clip0100)\">\n",
       "<text style=\"fill:#000000; fill-opacity:1; font-family:Arial,Helvetica Neue,Helvetica,sans-serif; font-size:48px; text-anchor:end;\" transform=\"rotate(0, 183.423, 484.565)\" x=\"183.423\" y=\"484.565\">0.020</text>\n",
       "</g>\n",
       "<g clip-path=\"url(#clip0100)\">\n",
       "<text style=\"fill:#000000; fill-opacity:1; font-family:Arial,Helvetica Neue,Helvetica,sans-serif; font-size:48px; text-anchor:end;\" transform=\"rotate(0, 183.423, 238.422)\" x=\"183.423\" y=\"238.422\">0.025</text>\n",
       "</g>\n",
       "<polyline clip-path=\"url(#clip0102)\" style=\"stroke:#009af9; stroke-width:4; stroke-opacity:1; fill:none\" points=\"\n",
       "  268.14,1407.33 277.823,1328.56 287.507,1200.57 297.191,1057.81 306.875,929.814 316.558,910.122 326.242,713.208 335.926,693.517 345.609,555.677 355.293,417.837 \n",
       "  364.977,506.448 374.661,216 384.344,156.925 394.028,358.762 403.712,88.0053 413.396,132.311 423.079,127.388 432.763,240.614 442.447,137.234 452.13,235.691 \n",
       "  461.814,383.377 471.498,211.077 481.182,329.225 490.865,334.148 500.549,388.3 510.233,565.522 519.917,319.38 529.6,555.677 539.284,462.142 548.968,496.602 \n",
       "  558.651,476.911 568.335,501.525 578.019,703.362 587.703,718.131 597.386,663.979 607.07,703.362 616.754,713.208 626.438,683.671 636.121,777.205 645.805,826.434 \n",
       "  655.489,895.354 665.173,885.508 674.856,826.434 684.54,885.508 694.224,969.196 703.907,988.888 713.591,924.891 723.275,944.582 732.959,1008.58 742.642,1092.27 \n",
       "  752.326,1161.19 762.01,1072.58 771.694,1062.73 781.377,1052.89 791.061,1116.88 800.745,1180.88 810.428,1151.34 820.112,1185.8 829.796,1146.42 839.48,1244.88 \n",
       "  849.163,1200.57 858.847,1210.42 868.531,1254.72 878.215,1200.57 887.898,1308.87 897.582,1200.57 907.266,1205.49 916.949,1279.34 926.633,1313.8 936.317,1279.34 \n",
       "  946.001,1318.72 955.684,1343.33 965.368,1313.8 975.052,1367.95 984.736,1303.95 994.419,1303.95 1004.1,1343.33 1013.79,1358.1 1023.47,1348.26 1033.15,1343.33 \n",
       "  1042.84,1358.1 1052.52,1363.02 1062.21,1338.41 1071.89,1367.95 1081.57,1363.02 1091.26,1392.56 1100.94,1397.48 1110.62,1387.64 1120.31,1402.41 1129.99,1392.56 \n",
       "  1139.68,1402.41 1149.36,1417.18 1159.04,1392.56 1168.73,1392.56 1178.41,1372.87 1188.09,1427.02 1197.78,1407.33 1207.46,1407.33 1217.15,1412.25 1226.83,1417.18 \n",
       "  1236.51,1436.87 1246.2,1402.41 1255.88,1431.94 1265.56,1427.02 1275.25,1422.1 1284.93,1431.94 1294.61,1441.79 1304.3,1446.71 1313.98,1436.87 1323.67,1427.02 \n",
       "  1333.35,1427.02 1343.03,1417.18 1352.72,1441.79 1362.4,1422.1 1372.08,1427.02 1381.77,1436.87 1391.45,1422.1 1401.14,1446.71 1410.82,1431.94 1420.5,1436.87 \n",
       "  1430.19,1431.94 1439.87,1436.87 1449.55,1441.79 1459.24,1446.71 1468.92,1441.79 1478.61,1436.87 1488.29,1446.71 1497.97,1446.71 1507.66,1446.71 1517.34,1446.71 \n",
       "  1527.02,1446.71 1536.71,1441.79 1546.39,1441.79 1556.08,1436.87 1565.76,1441.79 1575.44,1446.71 1585.13,1446.71 1594.81,1441.79 1614.18,1441.79 1633.55,1446.71 \n",
       "  1643.23,1446.71 1652.91,1441.79 1662.6,1446.71 1672.28,1446.71 1681.96,1446.71 1691.65,1446.71 1711.02,1441.79 1740.07,1441.79 1769.12,1446.71 1778.8,1446.71 \n",
       "  1788.49,1446.71 1817.54,1441.79 1836.9,1446.71 1856.27,1441.79 1875.64,1446.71 2292.04,1446.71 \n",
       "  \"/>\n",
       "<path clip-path=\"url(#clip0100)\" d=\"\n",
       "M1989.93 251.724 L2280.76 251.724 L2280.76 130.764 L1989.93 130.764  Z\n",
       "  \" fill=\"#ffffff\" fill-rule=\"evenodd\" fill-opacity=\"1\"/>\n",
       "<polyline clip-path=\"url(#clip0100)\" style=\"stroke:#000000; stroke-width:4; stroke-opacity:1; fill:none\" points=\"\n",
       "  1989.93,251.724 2280.76,251.724 2280.76,130.764 1989.93,130.764 1989.93,251.724 \n",
       "  \"/>\n",
       "<polyline clip-path=\"url(#clip0100)\" style=\"stroke:#009af9; stroke-width:4; stroke-opacity:1; fill:none\" points=\"\n",
       "  2013.93,191.244 2157.93,191.244 \n",
       "  \"/>\n",
       "<g clip-path=\"url(#clip0100)\">\n",
       "<text style=\"fill:#000000; fill-opacity:1; font-family:Arial,Helvetica Neue,Helvetica,sans-serif; font-size:48px; text-anchor:start;\" transform=\"rotate(0, 2181.93, 208.744)\" x=\"2181.93\" y=\"208.744\">y1</text>\n",
       "</g>\n",
       "</svg>\n"
      ]
     },
     "execution_count": 29,
     "metadata": {},
     "output_type": "execute_result"
    }
   ],
   "source": [
    "p_E = 0.25 \n",
    "p_I = 0.10\n",
    "p_R = 0.05\n",
    "\n",
    "n_trials = 10000\n",
    "\n",
    "plot(\n",
    "  probability_distribution(experiment([p_E, p_I, p_R], N))\n",
    ")\n"
   ]
  },
  {
   "cell_type": "markdown",
   "metadata": {},
   "source": [
    "### 4. What happens to the probability distribution of the total time as you add more states?\n",
    "\n",
    "A: The distribution first becomes a Poisson distribution and then a Gaussian (or normal)"
   ]
  },
  {
   "cell_type": "code",
   "execution_count": 30,
   "metadata": {},
   "outputs": [
    {
     "data": {
      "application/vnd.webio.node+json": {
       "children": [
        {
         "children": [
          {
           "children": [
            {
             "children": [
              {
               "children": [
                {
                 "children": [
                  "p"
                 ],
                 "instanceArgs": {
                  "namespace": "html",
                  "tag": "label"
                 },
                 "nodeType": "DOM",
                 "props": {
                  "className": "interact ",
                  "style": {
                   "padding": "5px 10px 0px 10px"
                  }
                 },
                 "type": "node"
                }
               ],
               "instanceArgs": {
                "namespace": "html",
                "tag": "div"
               },
               "nodeType": "DOM",
               "props": {
                "className": "interact-flex-row-left"
               },
               "type": "node"
              },
              {
               "children": [
                {
                 "children": [],
                 "instanceArgs": {
                  "namespace": "html",
                  "tag": "input"
                 },
                 "nodeType": "DOM",
                 "props": {
                  "attributes": {
                   "data-bind": "numericValue: index, valueUpdate: 'input', event: {change: function (){this.changes(this.changes()+1)}}",
                   "orient": "horizontal",
                   "type": "range"
                  },
                  "className": "slider slider is-fullwidth",
                  "max": 10,
                  "min": 1,
                  "step": 1,
                  "style": {}
                 },
                 "type": "node"
                }
               ],
               "instanceArgs": {
                "namespace": "html",
                "tag": "div"
               },
               "nodeType": "DOM",
               "props": {
                "className": "interact-flex-row-center"
               },
               "type": "node"
              },
              {
               "children": [
                {
                 "children": [],
                 "instanceArgs": {
                  "namespace": "html",
                  "tag": "p"
                 },
                 "nodeType": "DOM",
                 "props": {
                  "attributes": {
                   "data-bind": "text: formatted_val"
                  }
                 },
                 "type": "node"
                }
               ],
               "instanceArgs": {
                "namespace": "html",
                "tag": "div"
               },
               "nodeType": "DOM",
               "props": {
                "className": "interact-flex-row-right"
               },
               "type": "node"
              }
             ],
             "instanceArgs": {
              "namespace": "html",
              "tag": "div"
             },
             "nodeType": "DOM",
             "props": {
              "className": "interact-flex-row interact-widget"
             },
             "type": "node"
            }
           ],
           "instanceArgs": {
            "handlers": {
             "changes": [
              "(function (val){return (val!=this.model[\"changes\"]()) ? (this.valueFromJulia[\"changes\"]=true, this.model[\"changes\"](val)) : undefined})"
             ],
             "index": [
              "(function (val){return (val!=this.model[\"index\"]()) ? (this.valueFromJulia[\"index\"]=true, this.model[\"index\"](val)) : undefined})"
             ]
            },
            "id": "15655600016219785762",
            "imports": {
             "data": [
              {
               "name": "knockout",
               "type": "js",
               "url": "/assetserver/847903f5df732148b510ba93542242ba69c4346c-knockout.js"
              },
              {
               "name": "knockout_punches",
               "type": "js",
               "url": "/assetserver/c0b325de111f2589153d52b7b74e82babec63146-knockout_punches.js"
              },
              {
               "name": null,
               "type": "js",
               "url": "/assetserver/51952c19a9a6ce93cd17825f07a8fe28d322efde-all.js"
              },
              {
               "name": null,
               "type": "css",
               "url": "/assetserver/104d64c7b780621be0c8d84ac84d7a5a84de4524-style.css"
              },
              {
               "name": null,
               "type": "css",
               "url": "/assetserver/9e3206e22736e731411e8095c384ec75a742e5c8-bulma_confined.min.css"
              }
             ],
             "type": "async_block"
            },
            "mount_callbacks": [
             "function () {\n    var handler = (function (ko, koPunches) {\n    ko.punches.enableAll();\n    ko.bindingHandlers.numericValue = {\n        init: function(element, valueAccessor, allBindings, data, context) {\n            var stringified = ko.observable(ko.unwrap(valueAccessor()));\n            stringified.subscribe(function(value) {\n                var val = parseFloat(value);\n                if (!isNaN(val)) {\n                    valueAccessor()(val);\n                }\n            });\n            valueAccessor().subscribe(function(value) {\n                var str = JSON.stringify(value);\n                if ((str == \"0\") && ([\"-0\", \"-0.\"].indexOf(stringified()) >= 0))\n                     return;\n                 if ([\"null\", \"\"].indexOf(str) >= 0)\n                     return;\n                stringified(str);\n            });\n            ko.applyBindingsToNode(\n                element,\n                {\n                    value: stringified,\n                    valueUpdate: allBindings.get('valueUpdate'),\n                },\n                context,\n            );\n        }\n    };\n    var json_data = {\"formatted_vals\":[\"0.1\",\"0.2\",\"0.3\",\"0.4\",\"0.5\",\"0.6\",\"0.7\",\"0.8\",\"0.9\",\"1.0\"],\"changes\":WebIO.getval({\"name\":\"changes\",\"scope\":\"15655600016219785762\",\"id\":\"3102906719351478429\",\"type\":\"observable\"}),\"index\":WebIO.getval({\"name\":\"index\",\"scope\":\"15655600016219785762\",\"id\":\"12953558221125494074\",\"type\":\"observable\"})};\n    var self = this;\n    function AppViewModel() {\n        for (var key in json_data) {\n            var el = json_data[key];\n            this[key] = Array.isArray(el) ? ko.observableArray(el) : ko.observable(el);\n        }\n        \n        [this[\"formatted_val\"]=ko.computed(    function(){\n        return this.formatted_vals()[parseInt(this.index())-(1)];\n    }\n,this)]\n        [this[\"changes\"].subscribe((function (val){!(this.valueFromJulia[\"changes\"]) ? (WebIO.setval({\"name\":\"changes\",\"scope\":\"15655600016219785762\",\"id\":\"3102906719351478429\",\"type\":\"observable\"},val)) : undefined; return this.valueFromJulia[\"changes\"]=false}),self),this[\"index\"].subscribe((function (val){!(this.valueFromJulia[\"index\"]) ? (WebIO.setval({\"name\":\"index\",\"scope\":\"15655600016219785762\",\"id\":\"12953558221125494074\",\"type\":\"observable\"},val)) : undefined; return this.valueFromJulia[\"index\"]=false}),self)]\n        \n    }\n    self.model = new AppViewModel();\n    self.valueFromJulia = {};\n    for (var key in json_data) {\n        self.valueFromJulia[key] = false;\n    }\n    ko.applyBindings(self.model, self.dom);\n}\n);\n    (WebIO.importBlock({\"data\":[{\"name\":\"knockout\",\"type\":\"js\",\"url\":\"/assetserver/847903f5df732148b510ba93542242ba69c4346c-knockout.js\"},{\"name\":\"knockout_punches\",\"type\":\"js\",\"url\":\"/assetserver/c0b325de111f2589153d52b7b74e82babec63146-knockout_punches.js\"}],\"type\":\"async_block\"})).then((imports) => handler.apply(this, imports));\n}\n"
            ],
            "observables": {
             "changes": {
              "id": "3102906719351478429",
              "sync": false,
              "value": 0
             },
             "index": {
              "id": "12953558221125494074",
              "sync": true,
              "value": 5
             }
            },
            "systemjs_options": null
           },
           "nodeType": "Scope",
           "props": {},
           "type": "node"
          }
         ],
         "instanceArgs": {
          "namespace": "html",
          "tag": "div"
         },
         "nodeType": "DOM",
         "props": {
          "className": "field interact-widget"
         },
         "type": "node"
        },
        {
         "children": [
          {
           "children": [
            {
             "children": [
              {
               "children": [
                {
                 "children": [
                  "n"
                 ],
                 "instanceArgs": {
                  "namespace": "html",
                  "tag": "label"
                 },
                 "nodeType": "DOM",
                 "props": {
                  "className": "interact ",
                  "style": {
                   "padding": "5px 10px 0px 10px"
                  }
                 },
                 "type": "node"
                }
               ],
               "instanceArgs": {
                "namespace": "html",
                "tag": "div"
               },
               "nodeType": "DOM",
               "props": {
                "className": "interact-flex-row-left"
               },
               "type": "node"
              },
              {
               "children": [
                {
                 "children": [],
                 "instanceArgs": {
                  "namespace": "html",
                  "tag": "input"
                 },
                 "nodeType": "DOM",
                 "props": {
                  "attributes": {
                   "data-bind": "numericValue: index, valueUpdate: 'input', event: {change: function (){this.changes(this.changes()+1)}}",
                   "orient": "horizontal",
                   "type": "range"
                  },
                  "className": "slider slider is-fullwidth",
                  "max": 12,
                  "min": 1,
                  "step": 1,
                  "style": {}
                 },
                 "type": "node"
                }
               ],
               "instanceArgs": {
                "namespace": "html",
                "tag": "div"
               },
               "nodeType": "DOM",
               "props": {
                "className": "interact-flex-row-center"
               },
               "type": "node"
              },
              {
               "children": [
                {
                 "children": [],
                 "instanceArgs": {
                  "namespace": "html",
                  "tag": "p"
                 },
                 "nodeType": "DOM",
                 "props": {
                  "attributes": {
                   "data-bind": "text: formatted_val"
                  }
                 },
                 "type": "node"
                }
               ],
               "instanceArgs": {
                "namespace": "html",
                "tag": "div"
               },
               "nodeType": "DOM",
               "props": {
                "className": "interact-flex-row-right"
               },
               "type": "node"
              }
             ],
             "instanceArgs": {
              "namespace": "html",
              "tag": "div"
             },
             "nodeType": "DOM",
             "props": {
              "className": "interact-flex-row interact-widget"
             },
             "type": "node"
            }
           ],
           "instanceArgs": {
            "handlers": {
             "changes": [
              "(function (val){return (val!=this.model[\"changes\"]()) ? (this.valueFromJulia[\"changes\"]=true, this.model[\"changes\"](val)) : undefined})"
             ],
             "index": [
              "(function (val){return (val!=this.model[\"index\"]()) ? (this.valueFromJulia[\"index\"]=true, this.model[\"index\"](val)) : undefined})"
             ]
            },
            "id": "15841382709400876522",
            "imports": {
             "data": [
              {
               "name": "knockout",
               "type": "js",
               "url": "/assetserver/847903f5df732148b510ba93542242ba69c4346c-knockout.js"
              },
              {
               "name": "knockout_punches",
               "type": "js",
               "url": "/assetserver/c0b325de111f2589153d52b7b74e82babec63146-knockout_punches.js"
              },
              {
               "name": null,
               "type": "js",
               "url": "/assetserver/51952c19a9a6ce93cd17825f07a8fe28d322efde-all.js"
              },
              {
               "name": null,
               "type": "css",
               "url": "/assetserver/104d64c7b780621be0c8d84ac84d7a5a84de4524-style.css"
              },
              {
               "name": null,
               "type": "css",
               "url": "/assetserver/9e3206e22736e731411e8095c384ec75a742e5c8-bulma_confined.min.css"
              }
             ],
             "type": "async_block"
            },
            "mount_callbacks": [
             "function () {\n    var handler = (function (ko, koPunches) {\n    ko.punches.enableAll();\n    ko.bindingHandlers.numericValue = {\n        init: function(element, valueAccessor, allBindings, data, context) {\n            var stringified = ko.observable(ko.unwrap(valueAccessor()));\n            stringified.subscribe(function(value) {\n                var val = parseFloat(value);\n                if (!isNaN(val)) {\n                    valueAccessor()(val);\n                }\n            });\n            valueAccessor().subscribe(function(value) {\n                var str = JSON.stringify(value);\n                if ((str == \"0\") && ([\"-0\", \"-0.\"].indexOf(stringified()) >= 0))\n                     return;\n                 if ([\"null\", \"\"].indexOf(str) >= 0)\n                     return;\n                stringified(str);\n            });\n            ko.applyBindingsToNode(\n                element,\n                {\n                    value: stringified,\n                    valueUpdate: allBindings.get('valueUpdate'),\n                },\n                context,\n            );\n        }\n    };\n    var json_data = {\"formatted_vals\":[\"1\",\"2\",\"3\",\"4\",\"5\",\"6\",\"7\",\"8\",\"9\",\"10\",\"11\",\"12\"],\"changes\":WebIO.getval({\"name\":\"changes\",\"scope\":\"15841382709400876522\",\"id\":\"2020775687130565999\",\"type\":\"observable\"}),\"index\":WebIO.getval({\"name\":\"index\",\"scope\":\"15841382709400876522\",\"id\":\"3596881662323504300\",\"type\":\"observable\"})};\n    var self = this;\n    function AppViewModel() {\n        for (var key in json_data) {\n            var el = json_data[key];\n            this[key] = Array.isArray(el) ? ko.observableArray(el) : ko.observable(el);\n        }\n        \n        [this[\"formatted_val\"]=ko.computed(    function(){\n        return this.formatted_vals()[parseInt(this.index())-(1)];\n    }\n,this)]\n        [this[\"changes\"].subscribe((function (val){!(this.valueFromJulia[\"changes\"]) ? (WebIO.setval({\"name\":\"changes\",\"scope\":\"15841382709400876522\",\"id\":\"2020775687130565999\",\"type\":\"observable\"},val)) : undefined; return this.valueFromJulia[\"changes\"]=false}),self),this[\"index\"].subscribe((function (val){!(this.valueFromJulia[\"index\"]) ? (WebIO.setval({\"name\":\"index\",\"scope\":\"15841382709400876522\",\"id\":\"3596881662323504300\",\"type\":\"observable\"},val)) : undefined; return this.valueFromJulia[\"index\"]=false}),self)]\n        \n    }\n    self.model = new AppViewModel();\n    self.valueFromJulia = {};\n    for (var key in json_data) {\n        self.valueFromJulia[key] = false;\n    }\n    ko.applyBindings(self.model, self.dom);\n}\n);\n    (WebIO.importBlock({\"data\":[{\"name\":\"knockout\",\"type\":\"js\",\"url\":\"/assetserver/847903f5df732148b510ba93542242ba69c4346c-knockout.js\"},{\"name\":\"knockout_punches\",\"type\":\"js\",\"url\":\"/assetserver/c0b325de111f2589153d52b7b74e82babec63146-knockout_punches.js\"}],\"type\":\"async_block\"})).then((imports) => handler.apply(this, imports));\n}\n"
            ],
            "observables": {
             "changes": {
              "id": "2020775687130565999",
              "sync": false,
              "value": 0
             },
             "index": {
              "id": "3596881662323504300",
              "sync": true,
              "value": 1
             }
            },
            "systemjs_options": null
           },
           "nodeType": "Scope",
           "props": {},
           "type": "node"
          }
         ],
         "instanceArgs": {
          "namespace": "html",
          "tag": "div"
         },
         "nodeType": "DOM",
         "props": {
          "className": "field interact-widget"
         },
         "type": "node"
        },
        {
         "children": [
          {
           "children": [],
           "instanceArgs": {
            "id": "6623327757527739340",
            "name": "obs-node"
           },
           "nodeType": "ObservableNode",
           "props": {},
           "type": "node"
          }
         ],
         "instanceArgs": {
          "handlers": {},
          "id": "16031387142779369931",
          "imports": {
           "data": [],
           "type": "async_block"
          },
          "mount_callbacks": [],
          "observables": {
           "obs-node": {
            "id": "6623327757527739340",
            "sync": false,
            "value": {
             "children": [
              {
               "children": [],
               "instanceArgs": {
                "namespace": "html",
                "tag": "div"
               },
               "nodeType": "DOM",
               "props": {
                "setInnerHtml": "<?xml version=\"1.0\" encoding=\"utf-8\"?>\n<svg xmlns=\"http://www.w3.org/2000/svg\" xmlns:xlink=\"http://www.w3.org/1999/xlink\" width=\"600\" height=\"400\" viewBox=\"0 0 2400 1600\">\n<defs>\n  <clipPath id=\"clip0900\">\n    <rect x=\"0\" y=\"0\" width=\"2400\" height=\"1600\"/>\n  </clipPath>\n</defs>\n<path clip-path=\"url(#clip0900)\" d=\"\nM0 1600 L2400 1600 L2400 0 L0 0  Z\n  \" fill=\"#ffffff\" fill-rule=\"evenodd\" fill-opacity=\"1\"/>\n<defs>\n  <clipPath id=\"clip0901\">\n    <rect x=\"480\" y=\"0\" width=\"1681\" height=\"1600\"/>\n  </clipPath>\n</defs>\n<path clip-path=\"url(#clip0900)\" d=\"\nM180.66 1487.47 L2352.76 1487.47 L2352.76 47.2441 L180.66 47.2441  Z\n  \" fill=\"#ffffff\" fill-rule=\"evenodd\" fill-opacity=\"1\"/>\n<defs>\n  <clipPath id=\"clip0902\">\n    <rect x=\"180\" y=\"47\" width=\"2173\" height=\"1441\"/>\n  </clipPath>\n</defs>\n<polyline clip-path=\"url(#clip0902)\" style=\"stroke:#000000; stroke-width:2; stroke-opacity:0.1; fill:none\" points=\"\n  180.66,1487.47 180.66,47.2441 \n  \"/>\n<polyline clip-path=\"url(#clip0902)\" style=\"stroke:#000000; stroke-width:2; stroke-opacity:0.1; fill:none\" points=\"\n  490.96,1487.47 490.96,47.2441 \n  \"/>\n<polyline clip-path=\"url(#clip0902)\" style=\"stroke:#000000; stroke-width:2; stroke-opacity:0.1; fill:none\" points=\"\n  801.259,1487.47 801.259,47.2441 \n  \"/>\n<polyline clip-path=\"url(#clip0902)\" style=\"stroke:#000000; stroke-width:2; stroke-opacity:0.1; fill:none\" points=\"\n  1111.56,1487.47 1111.56,47.2441 \n  \"/>\n<polyline clip-path=\"url(#clip0902)\" style=\"stroke:#000000; stroke-width:2; stroke-opacity:0.1; fill:none\" points=\"\n  1421.86,1487.47 1421.86,47.2441 \n  \"/>\n<polyline clip-path=\"url(#clip0902)\" style=\"stroke:#000000; stroke-width:2; stroke-opacity:0.1; fill:none\" points=\"\n  1732.16,1487.47 1732.16,47.2441 \n  \"/>\n<polyline clip-path=\"url(#clip0902)\" style=\"stroke:#000000; stroke-width:2; stroke-opacity:0.1; fill:none\" points=\"\n  2042.46,1487.47 2042.46,47.2441 \n  \"/>\n<polyline clip-path=\"url(#clip0902)\" style=\"stroke:#000000; stroke-width:2; stroke-opacity:0.1; fill:none\" points=\"\n  180.66,1487.47 2352.76,1487.47 \n  \"/>\n<polyline clip-path=\"url(#clip0902)\" style=\"stroke:#000000; stroke-width:2; stroke-opacity:0.1; fill:none\" points=\"\n  180.66,1160.15 2352.76,1160.15 \n  \"/>\n<polyline clip-path=\"url(#clip0902)\" style=\"stroke:#000000; stroke-width:2; stroke-opacity:0.1; fill:none\" points=\"\n  180.66,832.824 2352.76,832.824 \n  \"/>\n<polyline clip-path=\"url(#clip0902)\" style=\"stroke:#000000; stroke-width:2; stroke-opacity:0.1; fill:none\" points=\"\n  180.66,505.499 2352.76,505.499 \n  \"/>\n<polyline clip-path=\"url(#clip0902)\" style=\"stroke:#000000; stroke-width:2; stroke-opacity:0.1; fill:none\" points=\"\n  180.66,178.174 2352.76,178.174 \n  \"/>\n<polyline clip-path=\"url(#clip0900)\" style=\"stroke:#000000; stroke-width:4; stroke-opacity:1; fill:none\" points=\"\n  180.66,1487.47 2352.76,1487.47 \n  \"/>\n<polyline clip-path=\"url(#clip0900)\" style=\"stroke:#000000; stroke-width:4; stroke-opacity:1; fill:none\" points=\"\n  180.66,1487.47 180.66,47.2441 \n  \"/>\n<polyline clip-path=\"url(#clip0900)\" style=\"stroke:#000000; stroke-width:4; stroke-opacity:1; fill:none\" points=\"\n  180.66,1487.47 180.66,1470.19 \n  \"/>\n<polyline clip-path=\"url(#clip0900)\" style=\"stroke:#000000; stroke-width:4; stroke-opacity:1; fill:none\" points=\"\n  490.96,1487.47 490.96,1470.19 \n  \"/>\n<polyline clip-path=\"url(#clip0900)\" style=\"stroke:#000000; stroke-width:4; stroke-opacity:1; fill:none\" points=\"\n  801.259,1487.47 801.259,1470.19 \n  \"/>\n<polyline clip-path=\"url(#clip0900)\" style=\"stroke:#000000; stroke-width:4; stroke-opacity:1; fill:none\" points=\"\n  1111.56,1487.47 1111.56,1470.19 \n  \"/>\n<polyline clip-path=\"url(#clip0900)\" style=\"stroke:#000000; stroke-width:4; stroke-opacity:1; fill:none\" points=\"\n  1421.86,1487.47 1421.86,1470.19 \n  \"/>\n<polyline clip-path=\"url(#clip0900)\" style=\"stroke:#000000; stroke-width:4; stroke-opacity:1; fill:none\" points=\"\n  1732.16,1487.47 1732.16,1470.19 \n  \"/>\n<polyline clip-path=\"url(#clip0900)\" style=\"stroke:#000000; stroke-width:4; stroke-opacity:1; fill:none\" points=\"\n  2042.46,1487.47 2042.46,1470.19 \n  \"/>\n<polyline clip-path=\"url(#clip0900)\" style=\"stroke:#000000; stroke-width:4; stroke-opacity:1; fill:none\" points=\"\n  180.66,1487.47 206.725,1487.47 \n  \"/>\n<polyline clip-path=\"url(#clip0900)\" style=\"stroke:#000000; stroke-width:4; stroke-opacity:1; fill:none\" points=\"\n  180.66,1160.15 206.725,1160.15 \n  \"/>\n<polyline clip-path=\"url(#clip0900)\" style=\"stroke:#000000; stroke-width:4; stroke-opacity:1; fill:none\" points=\"\n  180.66,832.824 206.725,832.824 \n  \"/>\n<polyline clip-path=\"url(#clip0900)\" style=\"stroke:#000000; stroke-width:4; stroke-opacity:1; fill:none\" points=\"\n  180.66,505.499 206.725,505.499 \n  \"/>\n<polyline clip-path=\"url(#clip0900)\" style=\"stroke:#000000; stroke-width:4; stroke-opacity:1; fill:none\" points=\"\n  180.66,178.174 206.725,178.174 \n  \"/>\n<g clip-path=\"url(#clip0900)\">\n<text style=\"fill:#000000; fill-opacity:1; font-family:Arial,Helvetica Neue,Helvetica,sans-serif; font-size:48px; text-anchor:middle;\" transform=\"rotate(0, 180.66, 1541.47)\" x=\"180.66\" y=\"1541.47\">0.0</text>\n</g>\n<g clip-path=\"url(#clip0900)\">\n<text style=\"fill:#000000; fill-opacity:1; font-family:Arial,Helvetica Neue,Helvetica,sans-serif; font-size:48px; text-anchor:middle;\" transform=\"rotate(0, 490.96, 1541.47)\" x=\"490.96\" y=\"1541.47\">2.5</text>\n</g>\n<g clip-path=\"url(#clip0900)\">\n<text style=\"fill:#000000; fill-opacity:1; font-family:Arial,Helvetica Neue,Helvetica,sans-serif; font-size:48px; text-anchor:middle;\" transform=\"rotate(0, 801.259, 1541.47)\" x=\"801.259\" y=\"1541.47\">5.0</text>\n</g>\n<g clip-path=\"url(#clip0900)\">\n<text style=\"fill:#000000; fill-opacity:1; font-family:Arial,Helvetica Neue,Helvetica,sans-serif; font-size:48px; text-anchor:middle;\" transform=\"rotate(0, 1111.56, 1541.47)\" x=\"1111.56\" y=\"1541.47\">7.5</text>\n</g>\n<g clip-path=\"url(#clip0900)\">\n<text style=\"fill:#000000; fill-opacity:1; font-family:Arial,Helvetica Neue,Helvetica,sans-serif; font-size:48px; text-anchor:middle;\" transform=\"rotate(0, 1421.86, 1541.47)\" x=\"1421.86\" y=\"1541.47\">10.0</text>\n</g>\n<g clip-path=\"url(#clip0900)\">\n<text style=\"fill:#000000; fill-opacity:1; font-family:Arial,Helvetica Neue,Helvetica,sans-serif; font-size:48px; text-anchor:middle;\" transform=\"rotate(0, 1732.16, 1541.47)\" x=\"1732.16\" y=\"1541.47\">12.5</text>\n</g>\n<g clip-path=\"url(#clip0900)\">\n<text style=\"fill:#000000; fill-opacity:1; font-family:Arial,Helvetica Neue,Helvetica,sans-serif; font-size:48px; text-anchor:middle;\" transform=\"rotate(0, 2042.46, 1541.47)\" x=\"2042.46\" y=\"1541.47\">15.0</text>\n</g>\n<g clip-path=\"url(#clip0900)\">\n<text style=\"fill:#000000; fill-opacity:1; font-family:Arial,Helvetica Neue,Helvetica,sans-serif; font-size:48px; text-anchor:end;\" transform=\"rotate(0, 156.66, 1504.97)\" x=\"156.66\" y=\"1504.97\">0.00</text>\n</g>\n<g clip-path=\"url(#clip0900)\">\n<text style=\"fill:#000000; fill-opacity:1; font-family:Arial,Helvetica Neue,Helvetica,sans-serif; font-size:48px; text-anchor:end;\" transform=\"rotate(0, 156.66, 1177.65)\" x=\"156.66\" y=\"1177.65\">0.25</text>\n</g>\n<g clip-path=\"url(#clip0900)\">\n<text style=\"fill:#000000; fill-opacity:1; font-family:Arial,Helvetica Neue,Helvetica,sans-serif; font-size:48px; text-anchor:end;\" transform=\"rotate(0, 156.66, 850.324)\" x=\"156.66\" y=\"850.324\">0.50</text>\n</g>\n<g clip-path=\"url(#clip0900)\">\n<text style=\"fill:#000000; fill-opacity:1; font-family:Arial,Helvetica Neue,Helvetica,sans-serif; font-size:48px; text-anchor:end;\" transform=\"rotate(0, 156.66, 522.999)\" x=\"156.66\" y=\"522.999\">0.75</text>\n</g>\n<g clip-path=\"url(#clip0900)\">\n<text style=\"fill:#000000; fill-opacity:1; font-family:Arial,Helvetica Neue,Helvetica,sans-serif; font-size:48px; text-anchor:end;\" transform=\"rotate(0, 156.66, 195.674)\" x=\"156.66\" y=\"195.674\">1.00</text>\n</g>\n<polyline clip-path=\"url(#clip0902)\" style=\"stroke:#009af9; stroke-width:4; stroke-opacity:1; fill:none\" points=\"\n  304.78,825.1 428.9,1160.67 553.02,1326.04 677.139,1410.23 801.259,1447.67 925.379,1469.41 1049.5,1476.35 1173.62,1481.58 1297.74,1483.81 1421.86,1486.43 \n  1545.98,1486.69 1670.1,1486.69 1794.22,1487.34 1918.34,1487.34 \n  \"/>\n<path clip-path=\"url(#clip0900)\" d=\"\nM1989.93 251.724 L2280.76 251.724 L2280.76 130.764 L1989.93 130.764  Z\n  \" fill=\"#ffffff\" fill-rule=\"evenodd\" fill-opacity=\"1\"/>\n<polyline clip-path=\"url(#clip0900)\" style=\"stroke:#000000; stroke-width:4; stroke-opacity:1; fill:none\" points=\"\n  1989.93,251.724 2280.76,251.724 2280.76,130.764 1989.93,130.764 1989.93,251.724 \n  \"/>\n<polyline clip-path=\"url(#clip0900)\" style=\"stroke:#009af9; stroke-width:4; stroke-opacity:1; fill:none\" points=\"\n  2013.93,191.244 2157.93,191.244 \n  \"/>\n<g clip-path=\"url(#clip0900)\">\n<text style=\"fill:#000000; fill-opacity:1; font-family:Arial,Helvetica Neue,Helvetica,sans-serif; font-size:48px; text-anchor:start;\" transform=\"rotate(0, 2181.93, 208.744)\" x=\"2181.93\" y=\"208.744\">y1</text>\n</g>\n</svg>\n"
               },
               "type": "node"
              }
             ],
             "instanceArgs": {
              "namespace": "html",
              "tag": "div"
             },
             "nodeType": "DOM",
             "props": {
              "className": "interact-flex-row interact-widget"
             },
             "type": "node"
            }
           }
          },
          "systemjs_options": null
         },
         "nodeType": "Scope",
         "props": {},
         "type": "node"
        }
       ],
       "instanceArgs": {
        "namespace": "html",
        "tag": "div"
       },
       "nodeType": "DOM",
       "props": {},
       "type": "node"
      },
      "text/html": [
       "<div\n",
       "    class=\"webio-mountpoint\"\n",
       "    data-webio-mountpoint=\"16072730707982722195\"\n",
       ">\n",
       "    <script>\n",
       "    if (window.require && require.defined && require.defined(\"nbextensions/webio-jupyter-notebook\")) {\n",
       "        console.log(\"Jupyter WebIO extension detected, not mounting.\");\n",
       "    } else if (window.WebIO) {\n",
       "        WebIO.mount(\n",
       "            document.querySelector('[data-webio-mountpoint=\"16072730707982722195\"]'),\n",
       "            {\"props\":{},\"nodeType\":\"DOM\",\"type\":\"node\",\"instanceArgs\":{\"namespace\":\"html\",\"tag\":\"div\"},\"children\":[{\"props\":{\"className\":\"field interact-widget\"},\"nodeType\":\"DOM\",\"type\":\"node\",\"instanceArgs\":{\"namespace\":\"html\",\"tag\":\"div\"},\"children\":[{\"props\":{},\"nodeType\":\"Scope\",\"type\":\"node\",\"instanceArgs\":{\"imports\":{\"data\":[{\"name\":\"knockout\",\"type\":\"js\",\"url\":\"\\/assetserver\\/847903f5df732148b510ba93542242ba69c4346c-knockout.js\"},{\"name\":\"knockout_punches\",\"type\":\"js\",\"url\":\"\\/assetserver\\/c0b325de111f2589153d52b7b74e82babec63146-knockout_punches.js\"},{\"name\":null,\"type\":\"js\",\"url\":\"\\/assetserver\\/51952c19a9a6ce93cd17825f07a8fe28d322efde-all.js\"},{\"name\":null,\"type\":\"css\",\"url\":\"\\/assetserver\\/104d64c7b780621be0c8d84ac84d7a5a84de4524-style.css\"},{\"name\":null,\"type\":\"css\",\"url\":\"\\/assetserver\\/9e3206e22736e731411e8095c384ec75a742e5c8-bulma_confined.min.css\"}],\"type\":\"async_block\"},\"id\":\"15655600016219785762\",\"handlers\":{\"changes\":[\"(function (val){return (val!=this.model[\\\"changes\\\"]()) ? (this.valueFromJulia[\\\"changes\\\"]=true, this.model[\\\"changes\\\"](val)) : undefined})\"],\"index\":[\"(function (val){return (val!=this.model[\\\"index\\\"]()) ? (this.valueFromJulia[\\\"index\\\"]=true, this.model[\\\"index\\\"](val)) : undefined})\"]},\"systemjs_options\":null,\"mount_callbacks\":[\"function () {\\n    var handler = (function (ko, koPunches) {\\n    ko.punches.enableAll();\\n    ko.bindingHandlers.numericValue = {\\n        init: function(element, valueAccessor, allBindings, data, context) {\\n            var stringified = ko.observable(ko.unwrap(valueAccessor()));\\n            stringified.subscribe(function(value) {\\n                var val = parseFloat(value);\\n                if (!isNaN(val)) {\\n                    valueAccessor()(val);\\n                }\\n            });\\n            valueAccessor().subscribe(function(value) {\\n                var str = JSON.stringify(value);\\n                if ((str == \\\"0\\\") && ([\\\"-0\\\", \\\"-0.\\\"].indexOf(stringified()) >= 0))\\n                     return;\\n                 if ([\\\"null\\\", \\\"\\\"].indexOf(str) >= 0)\\n                     return;\\n                stringified(str);\\n            });\\n            ko.applyBindingsToNode(\\n                element,\\n                {\\n                    value: stringified,\\n                    valueUpdate: allBindings.get('valueUpdate'),\\n                },\\n                context,\\n            );\\n        }\\n    };\\n    var json_data = {\\\"formatted_vals\\\":[\\\"0.1\\\",\\\"0.2\\\",\\\"0.3\\\",\\\"0.4\\\",\\\"0.5\\\",\\\"0.6\\\",\\\"0.7\\\",\\\"0.8\\\",\\\"0.9\\\",\\\"1.0\\\"],\\\"changes\\\":WebIO.getval({\\\"name\\\":\\\"changes\\\",\\\"scope\\\":\\\"15655600016219785762\\\",\\\"id\\\":\\\"3102906719351478429\\\",\\\"type\\\":\\\"observable\\\"}),\\\"index\\\":WebIO.getval({\\\"name\\\":\\\"index\\\",\\\"scope\\\":\\\"15655600016219785762\\\",\\\"id\\\":\\\"12953558221125494074\\\",\\\"type\\\":\\\"observable\\\"})};\\n    var self = this;\\n    function AppViewModel() {\\n        for (var key in json_data) {\\n            var el = json_data[key];\\n            this[key] = Array.isArray(el) ? ko.observableArray(el) : ko.observable(el);\\n        }\\n        \\n        [this[\\\"formatted_val\\\"]=ko.computed(    function(){\\n        return this.formatted_vals()[parseInt(this.index())-(1)];\\n    }\\n,this)]\\n        [this[\\\"changes\\\"].subscribe((function (val){!(this.valueFromJulia[\\\"changes\\\"]) ? (WebIO.setval({\\\"name\\\":\\\"changes\\\",\\\"scope\\\":\\\"15655600016219785762\\\",\\\"id\\\":\\\"3102906719351478429\\\",\\\"type\\\":\\\"observable\\\"},val)) : undefined; return this.valueFromJulia[\\\"changes\\\"]=false}),self),this[\\\"index\\\"].subscribe((function (val){!(this.valueFromJulia[\\\"index\\\"]) ? (WebIO.setval({\\\"name\\\":\\\"index\\\",\\\"scope\\\":\\\"15655600016219785762\\\",\\\"id\\\":\\\"12953558221125494074\\\",\\\"type\\\":\\\"observable\\\"},val)) : undefined; return this.valueFromJulia[\\\"index\\\"]=false}),self)]\\n        \\n    }\\n    self.model = new AppViewModel();\\n    self.valueFromJulia = {};\\n    for (var key in json_data) {\\n        self.valueFromJulia[key] = false;\\n    }\\n    ko.applyBindings(self.model, self.dom);\\n}\\n);\\n    (WebIO.importBlock({\\\"data\\\":[{\\\"name\\\":\\\"knockout\\\",\\\"type\\\":\\\"js\\\",\\\"url\\\":\\\"\\/assetserver\\/847903f5df732148b510ba93542242ba69c4346c-knockout.js\\\"},{\\\"name\\\":\\\"knockout_punches\\\",\\\"type\\\":\\\"js\\\",\\\"url\\\":\\\"\\/assetserver\\/c0b325de111f2589153d52b7b74e82babec63146-knockout_punches.js\\\"}],\\\"type\\\":\\\"async_block\\\"})).then((imports) => handler.apply(this, imports));\\n}\\n\"],\"observables\":{\"changes\":{\"sync\":false,\"id\":\"3102906719351478429\",\"value\":0},\"index\":{\"sync\":true,\"id\":\"12953558221125494074\",\"value\":5}}},\"children\":[{\"props\":{\"className\":\"interact-flex-row interact-widget\"},\"nodeType\":\"DOM\",\"type\":\"node\",\"instanceArgs\":{\"namespace\":\"html\",\"tag\":\"div\"},\"children\":[{\"props\":{\"className\":\"interact-flex-row-left\"},\"nodeType\":\"DOM\",\"type\":\"node\",\"instanceArgs\":{\"namespace\":\"html\",\"tag\":\"div\"},\"children\":[{\"props\":{\"className\":\"interact \",\"style\":{\"padding\":\"5px 10px 0px 10px\"}},\"nodeType\":\"DOM\",\"type\":\"node\",\"instanceArgs\":{\"namespace\":\"html\",\"tag\":\"label\"},\"children\":[\"p\"]}]},{\"props\":{\"className\":\"interact-flex-row-center\"},\"nodeType\":\"DOM\",\"type\":\"node\",\"instanceArgs\":{\"namespace\":\"html\",\"tag\":\"div\"},\"children\":[{\"props\":{\"max\":10,\"min\":1,\"attributes\":{\"type\":\"range\",\"data-bind\":\"numericValue: index, valueUpdate: 'input', event: {change: function (){this.changes(this.changes()+1)}}\",\"orient\":\"horizontal\"},\"step\":1,\"className\":\"slider slider is-fullwidth\",\"style\":{}},\"nodeType\":\"DOM\",\"type\":\"node\",\"instanceArgs\":{\"namespace\":\"html\",\"tag\":\"input\"},\"children\":[]}]},{\"props\":{\"className\":\"interact-flex-row-right\"},\"nodeType\":\"DOM\",\"type\":\"node\",\"instanceArgs\":{\"namespace\":\"html\",\"tag\":\"div\"},\"children\":[{\"props\":{\"attributes\":{\"data-bind\":\"text: formatted_val\"}},\"nodeType\":\"DOM\",\"type\":\"node\",\"instanceArgs\":{\"namespace\":\"html\",\"tag\":\"p\"},\"children\":[]}]}]}]}]},{\"props\":{\"className\":\"field interact-widget\"},\"nodeType\":\"DOM\",\"type\":\"node\",\"instanceArgs\":{\"namespace\":\"html\",\"tag\":\"div\"},\"children\":[{\"props\":{},\"nodeType\":\"Scope\",\"type\":\"node\",\"instanceArgs\":{\"imports\":{\"data\":[{\"name\":\"knockout\",\"type\":\"js\",\"url\":\"\\/assetserver\\/847903f5df732148b510ba93542242ba69c4346c-knockout.js\"},{\"name\":\"knockout_punches\",\"type\":\"js\",\"url\":\"\\/assetserver\\/c0b325de111f2589153d52b7b74e82babec63146-knockout_punches.js\"},{\"name\":null,\"type\":\"js\",\"url\":\"\\/assetserver\\/51952c19a9a6ce93cd17825f07a8fe28d322efde-all.js\"},{\"name\":null,\"type\":\"css\",\"url\":\"\\/assetserver\\/104d64c7b780621be0c8d84ac84d7a5a84de4524-style.css\"},{\"name\":null,\"type\":\"css\",\"url\":\"\\/assetserver\\/9e3206e22736e731411e8095c384ec75a742e5c8-bulma_confined.min.css\"}],\"type\":\"async_block\"},\"id\":\"15841382709400876522\",\"handlers\":{\"changes\":[\"(function (val){return (val!=this.model[\\\"changes\\\"]()) ? (this.valueFromJulia[\\\"changes\\\"]=true, this.model[\\\"changes\\\"](val)) : undefined})\"],\"index\":[\"(function (val){return (val!=this.model[\\\"index\\\"]()) ? (this.valueFromJulia[\\\"index\\\"]=true, this.model[\\\"index\\\"](val)) : undefined})\"]},\"systemjs_options\":null,\"mount_callbacks\":[\"function () {\\n    var handler = (function (ko, koPunches) {\\n    ko.punches.enableAll();\\n    ko.bindingHandlers.numericValue = {\\n        init: function(element, valueAccessor, allBindings, data, context) {\\n            var stringified = ko.observable(ko.unwrap(valueAccessor()));\\n            stringified.subscribe(function(value) {\\n                var val = parseFloat(value);\\n                if (!isNaN(val)) {\\n                    valueAccessor()(val);\\n                }\\n            });\\n            valueAccessor().subscribe(function(value) {\\n                var str = JSON.stringify(value);\\n                if ((str == \\\"0\\\") && ([\\\"-0\\\", \\\"-0.\\\"].indexOf(stringified()) >= 0))\\n                     return;\\n                 if ([\\\"null\\\", \\\"\\\"].indexOf(str) >= 0)\\n                     return;\\n                stringified(str);\\n            });\\n            ko.applyBindingsToNode(\\n                element,\\n                {\\n                    value: stringified,\\n                    valueUpdate: allBindings.get('valueUpdate'),\\n                },\\n                context,\\n            );\\n        }\\n    };\\n    var json_data = {\\\"formatted_vals\\\":[\\\"1\\\",\\\"2\\\",\\\"3\\\",\\\"4\\\",\\\"5\\\",\\\"6\\\",\\\"7\\\",\\\"8\\\",\\\"9\\\",\\\"10\\\",\\\"11\\\",\\\"12\\\"],\\\"changes\\\":WebIO.getval({\\\"name\\\":\\\"changes\\\",\\\"scope\\\":\\\"15841382709400876522\\\",\\\"id\\\":\\\"2020775687130565999\\\",\\\"type\\\":\\\"observable\\\"}),\\\"index\\\":WebIO.getval({\\\"name\\\":\\\"index\\\",\\\"scope\\\":\\\"15841382709400876522\\\",\\\"id\\\":\\\"3596881662323504300\\\",\\\"type\\\":\\\"observable\\\"})};\\n    var self = this;\\n    function AppViewModel() {\\n        for (var key in json_data) {\\n            var el = json_data[key];\\n            this[key] = Array.isArray(el) ? ko.observableArray(el) : ko.observable(el);\\n        }\\n        \\n        [this[\\\"formatted_val\\\"]=ko.computed(    function(){\\n        return this.formatted_vals()[parseInt(this.index())-(1)];\\n    }\\n,this)]\\n        [this[\\\"changes\\\"].subscribe((function (val){!(this.valueFromJulia[\\\"changes\\\"]) ? (WebIO.setval({\\\"name\\\":\\\"changes\\\",\\\"scope\\\":\\\"15841382709400876522\\\",\\\"id\\\":\\\"2020775687130565999\\\",\\\"type\\\":\\\"observable\\\"},val)) : undefined; return this.valueFromJulia[\\\"changes\\\"]=false}),self),this[\\\"index\\\"].subscribe((function (val){!(this.valueFromJulia[\\\"index\\\"]) ? (WebIO.setval({\\\"name\\\":\\\"index\\\",\\\"scope\\\":\\\"15841382709400876522\\\",\\\"id\\\":\\\"3596881662323504300\\\",\\\"type\\\":\\\"observable\\\"},val)) : undefined; return this.valueFromJulia[\\\"index\\\"]=false}),self)]\\n        \\n    }\\n    self.model = new AppViewModel();\\n    self.valueFromJulia = {};\\n    for (var key in json_data) {\\n        self.valueFromJulia[key] = false;\\n    }\\n    ko.applyBindings(self.model, self.dom);\\n}\\n);\\n    (WebIO.importBlock({\\\"data\\\":[{\\\"name\\\":\\\"knockout\\\",\\\"type\\\":\\\"js\\\",\\\"url\\\":\\\"\\/assetserver\\/847903f5df732148b510ba93542242ba69c4346c-knockout.js\\\"},{\\\"name\\\":\\\"knockout_punches\\\",\\\"type\\\":\\\"js\\\",\\\"url\\\":\\\"\\/assetserver\\/c0b325de111f2589153d52b7b74e82babec63146-knockout_punches.js\\\"}],\\\"type\\\":\\\"async_block\\\"})).then((imports) => handler.apply(this, imports));\\n}\\n\"],\"observables\":{\"changes\":{\"sync\":false,\"id\":\"2020775687130565999\",\"value\":0},\"index\":{\"sync\":true,\"id\":\"3596881662323504300\",\"value\":1}}},\"children\":[{\"props\":{\"className\":\"interact-flex-row interact-widget\"},\"nodeType\":\"DOM\",\"type\":\"node\",\"instanceArgs\":{\"namespace\":\"html\",\"tag\":\"div\"},\"children\":[{\"props\":{\"className\":\"interact-flex-row-left\"},\"nodeType\":\"DOM\",\"type\":\"node\",\"instanceArgs\":{\"namespace\":\"html\",\"tag\":\"div\"},\"children\":[{\"props\":{\"className\":\"interact \",\"style\":{\"padding\":\"5px 10px 0px 10px\"}},\"nodeType\":\"DOM\",\"type\":\"node\",\"instanceArgs\":{\"namespace\":\"html\",\"tag\":\"label\"},\"children\":[\"n\"]}]},{\"props\":{\"className\":\"interact-flex-row-center\"},\"nodeType\":\"DOM\",\"type\":\"node\",\"instanceArgs\":{\"namespace\":\"html\",\"tag\":\"div\"},\"children\":[{\"props\":{\"max\":12,\"min\":1,\"attributes\":{\"type\":\"range\",\"data-bind\":\"numericValue: index, valueUpdate: 'input', event: {change: function (){this.changes(this.changes()+1)}}\",\"orient\":\"horizontal\"},\"step\":1,\"className\":\"slider slider is-fullwidth\",\"style\":{}},\"nodeType\":\"DOM\",\"type\":\"node\",\"instanceArgs\":{\"namespace\":\"html\",\"tag\":\"input\"},\"children\":[]}]},{\"props\":{\"className\":\"interact-flex-row-right\"},\"nodeType\":\"DOM\",\"type\":\"node\",\"instanceArgs\":{\"namespace\":\"html\",\"tag\":\"div\"},\"children\":[{\"props\":{\"attributes\":{\"data-bind\":\"text: formatted_val\"}},\"nodeType\":\"DOM\",\"type\":\"node\",\"instanceArgs\":{\"namespace\":\"html\",\"tag\":\"p\"},\"children\":[]}]}]}]}]},{\"props\":{},\"nodeType\":\"Scope\",\"type\":\"node\",\"instanceArgs\":{\"imports\":{\"data\":[],\"type\":\"async_block\"},\"id\":\"11669636025230866339\",\"handlers\":{},\"systemjs_options\":null,\"mount_callbacks\":[],\"observables\":{\"obs-node\":{\"sync\":false,\"id\":\"10370707289368934196\",\"value\":{\"props\":{\"className\":\"interact-flex-row interact-widget\"},\"nodeType\":\"DOM\",\"type\":\"node\",\"instanceArgs\":{\"namespace\":\"html\",\"tag\":\"div\"},\"children\":[{\"props\":{\"setInnerHtml\":\"<?xml version=\\\"1.0\\\" encoding=\\\"utf-8\\\"?>\\n<svg xmlns=\\\"http:\\/\\/www.w3.org\\/2000\\/svg\\\" xmlns:xlink=\\\"http:\\/\\/www.w3.org\\/1999\\/xlink\\\" width=\\\"600\\\" height=\\\"400\\\" viewBox=\\\"0 0 2400 1600\\\">\\n<defs>\\n  <clipPath id=\\\"clip0500\\\">\\n    <rect x=\\\"0\\\" y=\\\"0\\\" width=\\\"2400\\\" height=\\\"1600\\\"\\/>\\n  <\\/clipPath>\\n<\\/defs>\\n<path clip-path=\\\"url(#clip0500)\\\" d=\\\"\\nM0 1600 L2400 1600 L2400 0 L0 0  Z\\n  \\\" fill=\\\"#ffffff\\\" fill-rule=\\\"evenodd\\\" fill-opacity=\\\"1\\\"\\/>\\n<defs>\\n  <clipPath id=\\\"clip0501\\\">\\n    <rect x=\\\"480\\\" y=\\\"0\\\" width=\\\"1681\\\" height=\\\"1600\\\"\\/>\\n  <\\/clipPath>\\n<\\/defs>\\n<path clip-path=\\\"url(#clip0500)\\\" d=\\\"\\nM180.66 1487.47 L2352.76 1487.47 L2352.76 47.2441 L180.66 47.2441  Z\\n  \\\" fill=\\\"#ffffff\\\" fill-rule=\\\"evenodd\\\" fill-opacity=\\\"1\\\"\\/>\\n<defs>\\n  <clipPath id=\\\"clip0502\\\">\\n    <rect x=\\\"180\\\" y=\\\"47\\\" width=\\\"2173\\\" height=\\\"1441\\\"\\/>\\n  <\\/clipPath>\\n<\\/defs>\\n<polyline clip-path=\\\"url(#clip0502)\\\" style=\\\"stroke:#000000; stroke-width:2; stroke-opacity:0.1; fill:none\\\" points=\\\"\\n  180.66,1487.47 180.66,47.2441 \\n  \\\"\\/>\\n<polyline clip-path=\\\"url(#clip0502)\\\" style=\\\"stroke:#000000; stroke-width:2; stroke-opacity:0.1; fill:none\\\" points=\\\"\\n  490.96,1487.47 490.96,47.2441 \\n  \\\"\\/>\\n<polyline clip-path=\\\"url(#clip0502)\\\" style=\\\"stroke:#000000; stroke-width:2; stroke-opacity:0.1; fill:none\\\" points=\\\"\\n  801.259,1487.47 801.259,47.2441 \\n  \\\"\\/>\\n<polyline clip-path=\\\"url(#clip0502)\\\" style=\\\"stroke:#000000; stroke-width:2; stroke-opacity:0.1; fill:none\\\" points=\\\"\\n  1111.56,1487.47 1111.56,47.2441 \\n  \\\"\\/>\\n<polyline clip-path=\\\"url(#clip0502)\\\" style=\\\"stroke:#000000; stroke-width:2; stroke-opacity:0.1; fill:none\\\" points=\\\"\\n  1421.86,1487.47 1421.86,47.2441 \\n  \\\"\\/>\\n<polyline clip-path=\\\"url(#clip0502)\\\" style=\\\"stroke:#000000; stroke-width:2; stroke-opacity:0.1; fill:none\\\" points=\\\"\\n  1732.16,1487.47 1732.16,47.2441 \\n  \\\"\\/>\\n<polyline clip-path=\\\"url(#clip0502)\\\" style=\\\"stroke:#000000; stroke-width:2; stroke-opacity:0.1; fill:none\\\" points=\\\"\\n  2042.46,1487.47 2042.46,47.2441 \\n  \\\"\\/>\\n<polyline clip-path=\\\"url(#clip0502)\\\" style=\\\"stroke:#000000; stroke-width:2; stroke-opacity:0.1; fill:none\\\" points=\\\"\\n  180.66,1487.47 2352.76,1487.47 \\n  \\\"\\/>\\n<polyline clip-path=\\\"url(#clip0502)\\\" style=\\\"stroke:#000000; stroke-width:2; stroke-opacity:0.1; fill:none\\\" points=\\\"\\n  180.66,1160.15 2352.76,1160.15 \\n  \\\"\\/>\\n<polyline clip-path=\\\"url(#clip0502)\\\" style=\\\"stroke:#000000; stroke-width:2; stroke-opacity:0.1; fill:none\\\" points=\\\"\\n  180.66,832.824 2352.76,832.824 \\n  \\\"\\/>\\n<polyline clip-path=\\\"url(#clip0502)\\\" style=\\\"stroke:#000000; stroke-width:2; stroke-opacity:0.1; fill:none\\\" points=\\\"\\n  180.66,505.499 2352.76,505.499 \\n  \\\"\\/>\\n<polyline clip-path=\\\"url(#clip0502)\\\" style=\\\"stroke:#000000; stroke-width:2; stroke-opacity:0.1; fill:none\\\" points=\\\"\\n  180.66,178.174 2352.76,178.174 \\n  \\\"\\/>\\n<polyline clip-path=\\\"url(#clip0500)\\\" style=\\\"stroke:#000000; stroke-width:4; stroke-opacity:1; fill:none\\\" points=\\\"\\n  180.66,1487.47 2352.76,1487.47 \\n  \\\"\\/>\\n<polyline clip-path=\\\"url(#clip0500)\\\" style=\\\"stroke:#000000; stroke-width:4; stroke-opacity:1; fill:none\\\" points=\\\"\\n  180.66,1487.47 180.66,47.2441 \\n  \\\"\\/>\\n<polyline clip-path=\\\"url(#clip0500)\\\" style=\\\"stroke:#000000; stroke-width:4; stroke-opacity:1; fill:none\\\" points=\\\"\\n  180.66,1487.47 180.66,1470.19 \\n  \\\"\\/>\\n<polyline clip-path=\\\"url(#clip0500)\\\" style=\\\"stroke:#000000; stroke-width:4; stroke-opacity:1; fill:none\\\" points=\\\"\\n  490.96,1487.47 490.96,1470.19 \\n  \\\"\\/>\\n<polyline clip-path=\\\"url(#clip0500)\\\" style=\\\"stroke:#000000; stroke-width:4; stroke-opacity:1; fill:none\\\" points=\\\"\\n  801.259,1487.47 801.259,1470.19 \\n  \\\"\\/>\\n<polyline clip-path=\\\"url(#clip0500)\\\" style=\\\"stroke:#000000; stroke-width:4; stroke-opacity:1; fill:none\\\" points=\\\"\\n  1111.56,1487.47 1111.56,1470.19 \\n  \\\"\\/>\\n<polyline clip-path=\\\"url(#clip0500)\\\" style=\\\"stroke:#000000; stroke-width:4; stroke-opacity:1; fill:none\\\" points=\\\"\\n  1421.86,1487.47 1421.86,1470.19 \\n  \\\"\\/>\\n<polyline clip-path=\\\"url(#clip0500)\\\" style=\\\"stroke:#000000; stroke-width:4; stroke-opacity:1; fill:none\\\" points=\\\"\\n  1732.16,1487.47 1732.16,1470.19 \\n  \\\"\\/>\\n<polyline clip-path=\\\"url(#clip0500)\\\" style=\\\"stroke:#000000; stroke-width:4; stroke-opacity:1; fill:none\\\" points=\\\"\\n  2042.46,1487.47 2042.46,1470.19 \\n  \\\"\\/>\\n<polyline clip-path=\\\"url(#clip0500)\\\" style=\\\"stroke:#000000; stroke-width:4; stroke-opacity:1; fill:none\\\" points=\\\"\\n  180.66,1487.47 206.725,1487.47 \\n  \\\"\\/>\\n<polyline clip-path=\\\"url(#clip0500)\\\" style=\\\"stroke:#000000; stroke-width:4; stroke-opacity:1; fill:none\\\" points=\\\"\\n  180.66,1160.15 206.725,1160.15 \\n  \\\"\\/>\\n<polyline clip-path=\\\"url(#clip0500)\\\" style=\\\"stroke:#000000; stroke-width:4; stroke-opacity:1; fill:none\\\" points=\\\"\\n  180.66,832.824 206.725,832.824 \\n  \\\"\\/>\\n<polyline clip-path=\\\"url(#clip0500)\\\" style=\\\"stroke:#000000; stroke-width:4; stroke-opacity:1; fill:none\\\" points=\\\"\\n  180.66,505.499 206.725,505.499 \\n  \\\"\\/>\\n<polyline clip-path=\\\"url(#clip0500)\\\" style=\\\"stroke:#000000; stroke-width:4; stroke-opacity:1; fill:none\\\" points=\\\"\\n  180.66,178.174 206.725,178.174 \\n  \\\"\\/>\\n<g clip-path=\\\"url(#clip0500)\\\">\\n<text style=\\\"fill:#000000; fill-opacity:1; font-family:Arial,Helvetica Neue,Helvetica,sans-serif; font-size:48px; text-anchor:middle;\\\" transform=\\\"rotate(0, 180.66, 1541.47)\\\" x=\\\"180.66\\\" y=\\\"1541.47\\\">0.0<\\/text>\\n<\\/g>\\n<g clip-path=\\\"url(#clip0500)\\\">\\n<text style=\\\"fill:#000000; fill-opacity:1; font-family:Arial,Helvetica Neue,Helvetica,sans-serif; font-size:48px; text-anchor:middle;\\\" transform=\\\"rotate(0, 490.96, 1541.47)\\\" x=\\\"490.96\\\" y=\\\"1541.47\\\">2.5<\\/text>\\n<\\/g>\\n<g clip-path=\\\"url(#clip0500)\\\">\\n<text style=\\\"fill:#000000; fill-opacity:1; font-family:Arial,Helvetica Neue,Helvetica,sans-serif; font-size:48px; text-anchor:middle;\\\" transform=\\\"rotate(0, 801.259, 1541.47)\\\" x=\\\"801.259\\\" y=\\\"1541.47\\\">5.0<\\/text>\\n<\\/g>\\n<g clip-path=\\\"url(#clip0500)\\\">\\n<text style=\\\"fill:#000000; fill-opacity:1; font-family:Arial,Helvetica Neue,Helvetica,sans-serif; font-size:48px; text-anchor:middle;\\\" transform=\\\"rotate(0, 1111.56, 1541.47)\\\" x=\\\"1111.56\\\" y=\\\"1541.47\\\">7.5<\\/text>\\n<\\/g>\\n<g clip-path=\\\"url(#clip0500)\\\">\\n<text style=\\\"fill:#000000; fill-opacity:1; font-family:Arial,Helvetica Neue,Helvetica,sans-serif; font-size:48px; text-anchor:middle;\\\" transform=\\\"rotate(0, 1421.86, 1541.47)\\\" x=\\\"1421.86\\\" y=\\\"1541.47\\\">10.0<\\/text>\\n<\\/g>\\n<g clip-path=\\\"url(#clip0500)\\\">\\n<text style=\\\"fill:#000000; fill-opacity:1; font-family:Arial,Helvetica Neue,Helvetica,sans-serif; font-size:48px; text-anchor:middle;\\\" transform=\\\"rotate(0, 1732.16, 1541.47)\\\" x=\\\"1732.16\\\" y=\\\"1541.47\\\">12.5<\\/text>\\n<\\/g>\\n<g clip-path=\\\"url(#clip0500)\\\">\\n<text style=\\\"fill:#000000; fill-opacity:1; font-family:Arial,Helvetica Neue,Helvetica,sans-serif; font-size:48px; text-anchor:middle;\\\" transform=\\\"rotate(0, 2042.46, 1541.47)\\\" x=\\\"2042.46\\\" y=\\\"1541.47\\\">15.0<\\/text>\\n<\\/g>\\n<g clip-path=\\\"url(#clip0500)\\\">\\n<text style=\\\"fill:#000000; fill-opacity:1; font-family:Arial,Helvetica Neue,Helvetica,sans-serif; font-size:48px; text-anchor:end;\\\" transform=\\\"rotate(0, 156.66, 1504.97)\\\" x=\\\"156.66\\\" y=\\\"1504.97\\\">0.00<\\/text>\\n<\\/g>\\n<g clip-path=\\\"url(#clip0500)\\\">\\n<text style=\\\"fill:#000000; fill-opacity:1; font-family:Arial,Helvetica Neue,Helvetica,sans-serif; font-size:48px; text-anchor:end;\\\" transform=\\\"rotate(0, 156.66, 1177.65)\\\" x=\\\"156.66\\\" y=\\\"1177.65\\\">0.25<\\/text>\\n<\\/g>\\n<g clip-path=\\\"url(#clip0500)\\\">\\n<text style=\\\"fill:#000000; fill-opacity:1; font-family:Arial,Helvetica Neue,Helvetica,sans-serif; font-size:48px; text-anchor:end;\\\" transform=\\\"rotate(0, 156.66, 850.324)\\\" x=\\\"156.66\\\" y=\\\"850.324\\\">0.50<\\/text>\\n<\\/g>\\n<g clip-path=\\\"url(#clip0500)\\\">\\n<text style=\\\"fill:#000000; fill-opacity:1; font-family:Arial,Helvetica Neue,Helvetica,sans-serif; font-size:48px; text-anchor:end;\\\" transform=\\\"rotate(0, 156.66, 522.999)\\\" x=\\\"156.66\\\" y=\\\"522.999\\\">0.75<\\/text>\\n<\\/g>\\n<g clip-path=\\\"url(#clip0500)\\\">\\n<text style=\\\"fill:#000000; fill-opacity:1; font-family:Arial,Helvetica Neue,Helvetica,sans-serif; font-size:48px; text-anchor:end;\\\" transform=\\\"rotate(0, 156.66, 195.674)\\\" x=\\\"156.66\\\" y=\\\"195.674\\\">1.00<\\/text>\\n<\\/g>\\n<polyline clip-path=\\\"url(#clip0502)\\\" style=\\\"stroke:#009af9; stroke-width:4; stroke-opacity:1; fill:none\\\" points=\\\"\\n  304.78,825.1 428.9,1160.67 553.02,1326.04 677.139,1410.23 801.259,1447.67 925.379,1469.41 1049.5,1476.35 1173.62,1481.58 1297.74,1483.81 1421.86,1486.43 \\n  1545.98,1486.69 1670.1,1486.69 1794.22,1487.34 1918.34,1487.34 \\n  \\\"\\/>\\n<path clip-path=\\\"url(#clip0500)\\\" d=\\\"\\nM1989.93 251.724 L2280.76 251.724 L2280.76 130.764 L1989.93 130.764  Z\\n  \\\" fill=\\\"#ffffff\\\" fill-rule=\\\"evenodd\\\" fill-opacity=\\\"1\\\"\\/>\\n<polyline clip-path=\\\"url(#clip0500)\\\" style=\\\"stroke:#000000; stroke-width:4; stroke-opacity:1; fill:none\\\" points=\\\"\\n  1989.93,251.724 2280.76,251.724 2280.76,130.764 1989.93,130.764 1989.93,251.724 \\n  \\\"\\/>\\n<polyline clip-path=\\\"url(#clip0500)\\\" style=\\\"stroke:#009af9; stroke-width:4; stroke-opacity:1; fill:none\\\" points=\\\"\\n  2013.93,191.244 2157.93,191.244 \\n  \\\"\\/>\\n<g clip-path=\\\"url(#clip0500)\\\">\\n<text style=\\\"fill:#000000; fill-opacity:1; font-family:Arial,Helvetica Neue,Helvetica,sans-serif; font-size:48px; text-anchor:start;\\\" transform=\\\"rotate(0, 2181.93, 208.744)\\\" x=\\\"2181.93\\\" y=\\\"208.744\\\">y1<\\/text>\\n<\\/g>\\n<\\/svg>\\n\"},\"nodeType\":\"DOM\",\"type\":\"node\",\"instanceArgs\":{\"namespace\":\"html\",\"tag\":\"div\"},\"children\":[]}]}}}},\"children\":[{\"props\":{},\"nodeType\":\"ObservableNode\",\"type\":\"node\",\"instanceArgs\":{\"id\":\"10370707289368934196\",\"name\":\"obs-node\"},\"children\":[]}]}]},\n",
       "            window,\n",
       "        );\n",
       "    } else {\n",
       "        document\n",
       "            .querySelector('[data-webio-mountpoint=\"16072730707982722195\"]')\n",
       "            .innerHTML = (\n",
       "                '<strong>WebIO not detected. Please read ' +\n",
       "                '<a href=\"https://juliagizmos.github.io/WebIO.jl/latest/troubleshooting/not-detected/\">the troubleshooting guide</a> ' +\n",
       "                'for more information on how to resolve this issue.' +\n",
       "                '</strong>'\n",
       "            );\n",
       "    }\n",
       "    </script>\n",
       "</div>\n"
      ],
      "text/plain": [
       "Node{WebIO.DOM}(WebIO.DOM(:html, :div), Any[Node{WebIO.DOM}(WebIO.DOM(:html, :div), Any[Scope(Node{WebIO.DOM}(WebIO.DOM(:html, :div), Any[Node{WebIO.DOM}(WebIO.DOM(:html, :div), Any[Node{WebIO.DOM}(WebIO.DOM(:html, :label), Any[\"p\"], Dict{Symbol,Any}(:className => \"interact \",:style => Dict{Any,Any}(:padding => \"5px 10px 0px 10px\")))], Dict{Symbol,Any}(:className => \"interact-flex-row-left\")), Node{WebIO.DOM}(WebIO.DOM(:html, :div), Any[Node{WebIO.DOM}(WebIO.DOM(:html, :input), Any[], Dict{Symbol,Any}(:max => 10,:min => 1,:attributes => Dict{Any,Any}(:type => \"range\",Symbol(\"data-bind\") => \"numericValue: index, valueUpdate: 'input', event: {change: function (){this.changes(this.changes()+1)}}\",\"orient\" => \"horizontal\"),:step => 1,:className => \"slider slider is-fullwidth\",:style => Dict{Any,Any}()))], Dict{Symbol,Any}(:className => \"interact-flex-row-center\")), Node{WebIO.DOM}(WebIO.DOM(:html, :div), Any[Node{WebIO.DOM}(WebIO.DOM(:html, :p), Any[], Dict{Symbol,Any}(:attributes => Dict(\"data-bind\" => \"text: formatted_val\")))], Dict{Symbol,Any}(:className => \"interact-flex-row-right\"))], Dict{Symbol,Any}(:className => \"interact-flex-row interact-widget\")), Dict{String,Tuple{Observables.AbstractObservable,Union{Nothing, Bool}}}(\"changes\" => (Observable{Int64} with 1 listeners. Value:\n",
       "0, nothing),\"index\" => (Observable{Any} with 2 listeners. Value:\n",
       "5, nothing)), Set(String[]), nothing, Asset[Asset(\"js\", \"knockout\", \"/Users/dan/.julia/packages/Knockout/IP1uR/src/../assets/knockout.js\"), Asset(\"js\", \"knockout_punches\", \"/Users/dan/.julia/packages/Knockout/IP1uR/src/../assets/knockout_punches.js\"), Asset(\"js\", nothing, \"/Users/dan/.julia/packages/InteractBase/NMcus/src/../assets/all.js\"), Asset(\"css\", nothing, \"/Users/dan/.julia/packages/InteractBase/NMcus/src/../assets/style.css\"), Asset(\"css\", nothing, \"/Users/dan/.julia/packages/Interact/SbgIk/src/../assets/bulma_confined.min.css\")], Dict{Any,Any}(\"changes\" => Any[WebIO.JSString(\"(function (val){return (val!=this.model[\\\"changes\\\"]()) ? (this.valueFromJulia[\\\"changes\\\"]=true, this.model[\\\"changes\\\"](val)) : undefined})\")],\"index\" => Any[WebIO.JSString(\"(function (val){return (val!=this.model[\\\"index\\\"]()) ? (this.valueFromJulia[\\\"index\\\"]=true, this.model[\\\"index\\\"](val)) : undefined})\")]), WebIO.ConnectionPool(Channel{Any}(sz_max:32,sz_curr:0), Set(AbstractConnection[]), Base.GenericCondition{Base.AlwaysLockedST}(Base.InvasiveLinkedList{Task}(Task (runnable) @0x000000010e358b50, Task (runnable) @0x000000010e358b50), Base.AlwaysLockedST(1))), WebIO.JSString[WebIO.JSString(\"function () {\\n    var handler = (function (ko, koPunches) {\\n    ko.punches.enableAll();\\n    ko.bindingHandlers.numericValue = {\\n        init: function(element, valueAccessor, allBindings, data, context) {\\n            var stringified = ko.observable(ko.unwrap(valueAccessor()));\\n            stringified.subscribe(function(value) {\\n                var val = parseFloat(value);\\n                if (!isNaN(val)) {\\n                    valueAccessor()(val);\\n                }\\n            });\\n            valueAccessor().subscribe(function(value) {\\n                var str = JSON.stringify(value);\\n                if ((str == \\\"0\\\") && ([\\\"-0\\\", \\\"-0.\\\"].indexOf(stringified()) >= 0))\\n                     return;\\n                 if ([\\\"null\\\", \\\"\\\"].indexOf(str) >= 0)\\n                     return;\\n                stringified(str);\\n            });\\n            ko.applyBindingsToNode(\\n                element,\\n                {\\n                    value: stringified,\\n                    valueUpdate: allBindings.get('valueUpdate'),\\n                },\\n                context,\\n            );\\n        }\\n    };\\n    var json_data = {\\\"formatted_vals\\\":[\\\"0.1\\\",\\\"0.2\\\",\\\"0.3\\\",\\\"0.4\\\",\\\"0.5\\\",\\\"0.6\\\",\\\"0.7\\\",\\\"0.8\\\",\\\"0.9\\\",\\\"1.0\\\"],\\\"changes\\\":WebIO.getval({\\\"name\\\":\\\"changes\\\",\\\"scope\\\":\\\"15655600016219785762\\\",\\\"id\\\":\\\"3102906719351478429\\\",\\\"type\\\":\\\"observable\\\"}),\\\"index\\\":WebIO.getval({\\\"name\\\":\\\"index\\\",\\\"scope\\\":\\\"15655600016219785762\\\",\\\"id\\\":\\\"12953558221125494074\\\",\\\"type\\\":\\\"observable\\\"})};\\n    var self = this;\\n    function AppViewModel() {\\n        for (var key in json_data) {\\n            var el = json_data[key];\\n            this[key] = Array.isArray(el) ? ko.observableArray(el) : ko.observable(el);\\n        }\\n        \\n        [this[\\\"formatted_val\\\"]=ko.computed(    function(){\\n        return this.formatted_vals()[parseInt(this.index())-(1)];\\n    }\\n,this)]\\n        [this[\\\"changes\\\"].subscribe((function (val){!(this.valueFromJulia[\\\"changes\\\"]) ? (WebIO.setval({\\\"name\\\":\\\"changes\\\",\\\"scope\\\":\\\"15655600016219785762\\\",\\\"id\\\":\\\"3102906719351478429\\\",\\\"type\\\":\\\"observable\\\"},val)) : undefined; return this.valueFromJulia[\\\"changes\\\"]=false}),self),this[\\\"index\\\"].subscribe((function (val){!(this.valueFromJulia[\\\"index\\\"]) ? (WebIO.setval({\\\"name\\\":\\\"index\\\",\\\"scope\\\":\\\"15655600016219785762\\\",\\\"id\\\":\\\"12953558221125494074\\\",\\\"type\\\":\\\"observable\\\"},val)) : undefined; return this.valueFromJulia[\\\"index\\\"]=false}),self)]\\n        \\n    }\\n    self.model = new AppViewModel();\\n    self.valueFromJulia = {};\\n    for (var key in json_data) {\\n        self.valueFromJulia[key] = false;\\n    }\\n    ko.applyBindings(self.model, self.dom);\\n}\\n);\\n    (WebIO.importBlock({\\\"data\\\":[{\\\"name\\\":\\\"knockout\\\",\\\"type\\\":\\\"js\\\",\\\"url\\\":\\\"/assetserver/847903f5df732148b510ba93542242ba69c4346c-knockout.js\\\"},{\\\"name\\\":\\\"knockout_punches\\\",\\\"type\\\":\\\"js\\\",\\\"url\\\":\\\"/assetserver/c0b325de111f2589153d52b7b74e82babec63146-knockout_punches.js\\\"}],\\\"type\\\":\\\"async_block\\\"})).then((imports) => handler.apply(this, imports));\\n}\\n\")])], Dict{Symbol,Any}(:className => \"field interact-widget\")), Node{WebIO.DOM}(WebIO.DOM(:html, :div), Any[Scope(Node{WebIO.DOM}(WebIO.DOM(:html, :div), Any[Node{WebIO.DOM}(WebIO.DOM(:html, :div), Any[Node{WebIO.DOM}(WebIO.DOM(:html, :label), Any[\"n\"], Dict{Symbol,Any}(:className => \"interact \",:style => Dict{Any,Any}(:padding => \"5px 10px 0px 10px\")))], Dict{Symbol,Any}(:className => \"interact-flex-row-left\")), Node{WebIO.DOM}(WebIO.DOM(:html, :div), Any[Node{WebIO.DOM}(WebIO.DOM(:html, :input), Any[], Dict{Symbol,Any}(:max => 12,:min => 1,:attributes => Dict{Any,Any}(:type => \"range\",Symbol(\"data-bind\") => \"numericValue: index, valueUpdate: 'input', event: {change: function (){this.changes(this.changes()+1)}}\",\"orient\" => \"horizontal\"),:step => 1,:className => \"slider slider is-fullwidth\",:style => Dict{Any,Any}()))], Dict{Symbol,Any}(:className => \"interact-flex-row-center\")), Node{WebIO.DOM}(WebIO.DOM(:html, :div), Any[Node{WebIO.DOM}(WebIO.DOM(:html, :p), Any[], Dict{Symbol,Any}(:attributes => Dict(\"data-bind\" => \"text: formatted_val\")))], Dict{Symbol,Any}(:className => \"interact-flex-row-right\"))], Dict{Symbol,Any}(:className => \"interact-flex-row interact-widget\")), Dict{String,Tuple{Observables.AbstractObservable,Union{Nothing, Bool}}}(\"changes\" => (Observable{Int64} with 1 listeners. Value:\n",
       "0, nothing),\"index\" => (Observable{Int64} with 2 listeners. Value:\n",
       "1, nothing)), Set(String[]), nothing, Asset[Asset(\"js\", \"knockout\", \"/Users/dan/.julia/packages/Knockout/IP1uR/src/../assets/knockout.js\"), Asset(\"js\", \"knockout_punches\", \"/Users/dan/.julia/packages/Knockout/IP1uR/src/../assets/knockout_punches.js\"), Asset(\"js\", nothing, \"/Users/dan/.julia/packages/InteractBase/NMcus/src/../assets/all.js\"), Asset(\"css\", nothing, \"/Users/dan/.julia/packages/InteractBase/NMcus/src/../assets/style.css\"), Asset(\"css\", nothing, \"/Users/dan/.julia/packages/Interact/SbgIk/src/../assets/bulma_confined.min.css\")], Dict{Any,Any}(\"changes\" => Any[WebIO.JSString(\"(function (val){return (val!=this.model[\\\"changes\\\"]()) ? (this.valueFromJulia[\\\"changes\\\"]=true, this.model[\\\"changes\\\"](val)) : undefined})\")],\"index\" => Any[WebIO.JSString(\"(function (val){return (val!=this.model[\\\"index\\\"]()) ? (this.valueFromJulia[\\\"index\\\"]=true, this.model[\\\"index\\\"](val)) : undefined})\")]), WebIO.ConnectionPool(Channel{Any}(sz_max:32,sz_curr:0), Set(AbstractConnection[]), Base.GenericCondition{Base.AlwaysLockedST}(Base.InvasiveLinkedList{Task}(Task (runnable) @0x000000010df20fd0, Task (runnable) @0x000000010df20fd0), Base.AlwaysLockedST(1))), WebIO.JSString[WebIO.JSString(\"function () {\\n    var handler = (function (ko, koPunches) {\\n    ko.punches.enableAll();\\n    ko.bindingHandlers.numericValue = {\\n        init: function(element, valueAccessor, allBindings, data, context) {\\n            var stringified = ko.observable(ko.unwrap(valueAccessor()));\\n            stringified.subscribe(function(value) {\\n                var val = parseFloat(value);\\n                if (!isNaN(val)) {\\n                    valueAccessor()(val);\\n                }\\n            });\\n            valueAccessor().subscribe(function(value) {\\n                var str = JSON.stringify(value);\\n                if ((str == \\\"0\\\") && ([\\\"-0\\\", \\\"-0.\\\"].indexOf(stringified()) >= 0))\\n                     return;\\n                 if ([\\\"null\\\", \\\"\\\"].indexOf(str) >= 0)\\n                     return;\\n                stringified(str);\\n            });\\n            ko.applyBindingsToNode(\\n                element,\\n                {\\n                    value: stringified,\\n                    valueUpdate: allBindings.get('valueUpdate'),\\n                },\\n                context,\\n            );\\n        }\\n    };\\n    var json_data = {\\\"formatted_vals\\\":[\\\"1\\\",\\\"2\\\",\\\"3\\\",\\\"4\\\",\\\"5\\\",\\\"6\\\",\\\"7\\\",\\\"8\\\",\\\"9\\\",\\\"10\\\",\\\"11\\\",\\\"12\\\"],\\\"changes\\\":WebIO.getval({\\\"name\\\":\\\"changes\\\",\\\"scope\\\":\\\"15841382709400876522\\\",\\\"id\\\":\\\"2020775687130565999\\\",\\\"type\\\":\\\"observable\\\"}),\\\"index\\\":WebIO.getval({\\\"name\\\":\\\"index\\\",\\\"scope\\\":\\\"15841382709400876522\\\",\\\"id\\\":\\\"3596881662323504300\\\",\\\"type\\\":\\\"observable\\\"})};\\n    var self = this;\\n    function AppViewModel() {\\n        for (var key in json_data) {\\n            var el = json_data[key];\\n            this[key] = Array.isArray(el) ? ko.observableArray(el) : ko.observable(el);\\n        }\\n        \\n        [this[\\\"formatted_val\\\"]=ko.computed(    function(){\\n        return this.formatted_vals()[parseInt(this.index())-(1)];\\n    }\\n,this)]\\n        [this[\\\"changes\\\"].subscribe((function (val){!(this.valueFromJulia[\\\"changes\\\"]) ? (WebIO.setval({\\\"name\\\":\\\"changes\\\",\\\"scope\\\":\\\"15841382709400876522\\\",\\\"id\\\":\\\"2020775687130565999\\\",\\\"type\\\":\\\"observable\\\"},val)) : undefined; return this.valueFromJulia[\\\"changes\\\"]=false}),self),this[\\\"index\\\"].subscribe((function (val){!(this.valueFromJulia[\\\"index\\\"]) ? (WebIO.setval({\\\"name\\\":\\\"index\\\",\\\"scope\\\":\\\"15841382709400876522\\\",\\\"id\\\":\\\"3596881662323504300\\\",\\\"type\\\":\\\"observable\\\"},val)) : undefined; return this.valueFromJulia[\\\"index\\\"]=false}),self)]\\n        \\n    }\\n    self.model = new AppViewModel();\\n    self.valueFromJulia = {};\\n    for (var key in json_data) {\\n        self.valueFromJulia[key] = false;\\n    }\\n    ko.applyBindings(self.model, self.dom);\\n}\\n);\\n    (WebIO.importBlock({\\\"data\\\":[{\\\"name\\\":\\\"knockout\\\",\\\"type\\\":\\\"js\\\",\\\"url\\\":\\\"/assetserver/847903f5df732148b510ba93542242ba69c4346c-knockout.js\\\"},{\\\"name\\\":\\\"knockout_punches\\\",\\\"type\\\":\\\"js\\\",\\\"url\\\":\\\"/assetserver/c0b325de111f2589153d52b7b74e82babec63146-knockout_punches.js\\\"}],\\\"type\\\":\\\"async_block\\\"})).then((imports) => handler.apply(this, imports));\\n}\\n\")])], Dict{Symbol,Any}(:className => \"field interact-widget\")), Observable{Any} with 0 listeners. Value:\n",
       "Node{WebIO.DOM}(WebIO.DOM(:html, :div), Any[Plot{Plots.GRBackend() n=1}], Dict{Symbol,Any}(:className => \"interact-flex-row interact-widget\"))], Dict{Symbol,Any}())"
      ]
     },
     "execution_count": 30,
     "metadata": {
      "application/vnd.webio.node+json": {
       "kernelId": "61dd9ceb-ee8b-4b1e-aaeb-0fa4699f6c90"
      }
     },
     "output_type": "execute_result"
    }
   ],
   "source": [
    "n_trials = 10000\n",
    "\n",
    "@manipulate for p=linspace(0,1,11)[2:end], n=slider(1:12, label=\"n\", value=1)\n",
    "  p_list = fill(p, n)\n",
    "\n",
    "  xx, yy = probability_distribution(experiment(p_list, n_trials))\n",
    "  \n",
    "  if length(xx) == 1\n",
    "    scatter(xx, yy)\n",
    "  else\n",
    "    plot(xx, yy)\n",
    "  end\n",
    "  \n",
    "  xlims!(0, 1.25*maximum(xx))\n",
    "  ylims!(0, 1.1)\n",
    "end"
   ]
  },
  {
   "cell_type": "markdown",
   "metadata": {},
   "source": [
    "### 5. **Extra credit:** Write a simulation that runs $N$ individuals and keeps track at each step of how many people are in which state. Plot the resulting graph of the number of people in the `S`,  `I`, `E` and `R` states as a function of time.\n"
   ]
  },
  {
   "cell_type": "code",
   "execution_count": 31,
   "metadata": {},
   "outputs": [
    {
     "data": {
      "text/plain": [
       "make_seir_plot (generic function with 1 method)"
      ]
     },
     "execution_count": 31,
     "metadata": {},
     "output_type": "execute_result"
    }
   ],
   "source": [
    "function make_seir_plot(N, p_E, p_I, p_R)\n",
    "  \n",
    "  count_dict = OrderedDict(\n",
    "        :s=>[N], :e=>[0], :i=>[0], :r=>[0]\n",
    "    )\n",
    "\n",
    "    t = 1\n",
    "    while count_dict[:r][t] < N\n",
    "      t += 1\n",
    "\n",
    "      for (cur_key, cur_value) in count_dict\n",
    "        push!(count_dict[cur_key], cur_value[end])\n",
    "      end\n",
    "\n",
    "      new_r = count([ bernoulli(p_R) for _ in 1:count_dict[:i][t-1] ])\n",
    "      count_dict[:i][t] -= new_r\n",
    "      count_dict[:r][t] += new_r\n",
    "\n",
    "      new_i = count([ bernoulli(p_I) for _ in 1:count_dict[:e][t-1] ])\n",
    "      count_dict[:e][t] -= new_i\n",
    "      count_dict[:i][t] += new_i\n",
    "\n",
    "      new_e = count([ bernoulli(p_E) for _ in 1:count_dict[:s][t-1] ])\n",
    "      count_dict[:s][t] -= new_e\n",
    "      count_dict[:e][t] += new_e\n",
    "    end\n",
    "\n",
    "    plot(title=\"SEIR Model\", ylabel=\"p [%]\", xlabel=\"time\")\n",
    "    for (cur_key, cur_value) in count_dict\n",
    "      plot!(cur_value ./ N, label=uppercase(string(cur_key)))\n",
    "    end\n",
    "    plot!(xscale=:log10)\n",
    "  \n",
    "end"
   ]
  },
  {
   "cell_type": "code",
   "execution_count": 32,
   "metadata": {
    "scrolled": false
   },
   "outputs": [
    {
     "data": {
      "application/vnd.webio.node+json": {
       "children": [
        {
         "children": [
          {
           "children": [
            {
             "children": [
              {
               "children": [
                {
                 "children": [
                  "p_E"
                 ],
                 "instanceArgs": {
                  "namespace": "html",
                  "tag": "label"
                 },
                 "nodeType": "DOM",
                 "props": {
                  "className": "interact ",
                  "style": {
                   "padding": "5px 10px 0px 10px"
                  }
                 },
                 "type": "node"
                }
               ],
               "instanceArgs": {
                "namespace": "html",
                "tag": "div"
               },
               "nodeType": "DOM",
               "props": {
                "className": "interact-flex-row-left"
               },
               "type": "node"
              },
              {
               "children": [
                {
                 "children": [],
                 "instanceArgs": {
                  "namespace": "html",
                  "tag": "input"
                 },
                 "nodeType": "DOM",
                 "props": {
                  "attributes": {
                   "data-bind": "numericValue: index, valueUpdate: 'input', event: {change: function (){this.changes(this.changes()+1)}}",
                   "orient": "horizontal",
                   "type": "range"
                  },
                  "className": "slider slider is-fullwidth",
                  "max": 8,
                  "min": 1,
                  "step": 1,
                  "style": {}
                 },
                 "type": "node"
                }
               ],
               "instanceArgs": {
                "namespace": "html",
                "tag": "div"
               },
               "nodeType": "DOM",
               "props": {
                "className": "interact-flex-row-center"
               },
               "type": "node"
              },
              {
               "children": [
                {
                 "children": [],
                 "instanceArgs": {
                  "namespace": "html",
                  "tag": "p"
                 },
                 "nodeType": "DOM",
                 "props": {
                  "attributes": {
                   "data-bind": "text: formatted_val"
                  }
                 },
                 "type": "node"
                }
               ],
               "instanceArgs": {
                "namespace": "html",
                "tag": "div"
               },
               "nodeType": "DOM",
               "props": {
                "className": "interact-flex-row-right"
               },
               "type": "node"
              }
             ],
             "instanceArgs": {
              "namespace": "html",
              "tag": "div"
             },
             "nodeType": "DOM",
             "props": {
              "className": "interact-flex-row interact-widget"
             },
             "type": "node"
            }
           ],
           "instanceArgs": {
            "handlers": {
             "changes": [
              "(function (val){return (val!=this.model[\"changes\"]()) ? (this.valueFromJulia[\"changes\"]=true, this.model[\"changes\"](val)) : undefined})"
             ],
             "index": [
              "(function (val){return (val!=this.model[\"index\"]()) ? (this.valueFromJulia[\"index\"]=true, this.model[\"index\"](val)) : undefined})"
             ]
            },
            "id": "18276822842476609109",
            "imports": {
             "data": [
              {
               "name": "knockout",
               "type": "js",
               "url": "/assetserver/847903f5df732148b510ba93542242ba69c4346c-knockout.js"
              },
              {
               "name": "knockout_punches",
               "type": "js",
               "url": "/assetserver/c0b325de111f2589153d52b7b74e82babec63146-knockout_punches.js"
              },
              {
               "name": null,
               "type": "js",
               "url": "/assetserver/51952c19a9a6ce93cd17825f07a8fe28d322efde-all.js"
              },
              {
               "name": null,
               "type": "css",
               "url": "/assetserver/104d64c7b780621be0c8d84ac84d7a5a84de4524-style.css"
              },
              {
               "name": null,
               "type": "css",
               "url": "/assetserver/9e3206e22736e731411e8095c384ec75a742e5c8-bulma_confined.min.css"
              }
             ],
             "type": "async_block"
            },
            "mount_callbacks": [
             "function () {\n    var handler = (function (ko, koPunches) {\n    ko.punches.enableAll();\n    ko.bindingHandlers.numericValue = {\n        init: function(element, valueAccessor, allBindings, data, context) {\n            var stringified = ko.observable(ko.unwrap(valueAccessor()));\n            stringified.subscribe(function(value) {\n                var val = parseFloat(value);\n                if (!isNaN(val)) {\n                    valueAccessor()(val);\n                }\n            });\n            valueAccessor().subscribe(function(value) {\n                var str = JSON.stringify(value);\n                if ((str == \"0\") && ([\"-0\", \"-0.\"].indexOf(stringified()) >= 0))\n                     return;\n                 if ([\"null\", \"\"].indexOf(str) >= 0)\n                     return;\n                stringified(str);\n            });\n            ko.applyBindingsToNode(\n                element,\n                {\n                    value: stringified,\n                    valueUpdate: allBindings.get('valueUpdate'),\n                },\n                context,\n            );\n        }\n    };\n    var json_data = {\"formatted_vals\":[\"0.125\",\"0.25\",\"0.375\",\"0.5\",\"0.625\",\"0.75\",\"0.875\",\"1.0\"],\"changes\":WebIO.getval({\"name\":\"changes\",\"scope\":\"18276822842476609109\",\"id\":\"12852112473873830512\",\"type\":\"observable\"}),\"index\":WebIO.getval({\"name\":\"index\",\"scope\":\"18276822842476609109\",\"id\":\"5372213060805197056\",\"type\":\"observable\"})};\n    var self = this;\n    function AppViewModel() {\n        for (var key in json_data) {\n            var el = json_data[key];\n            this[key] = Array.isArray(el) ? ko.observableArray(el) : ko.observable(el);\n        }\n        \n        [this[\"formatted_val\"]=ko.computed(    function(){\n        return this.formatted_vals()[parseInt(this.index())-(1)];\n    }\n,this)]\n        [this[\"changes\"].subscribe((function (val){!(this.valueFromJulia[\"changes\"]) ? (WebIO.setval({\"name\":\"changes\",\"scope\":\"18276822842476609109\",\"id\":\"12852112473873830512\",\"type\":\"observable\"},val)) : undefined; return this.valueFromJulia[\"changes\"]=false}),self),this[\"index\"].subscribe((function (val){!(this.valueFromJulia[\"index\"]) ? (WebIO.setval({\"name\":\"index\",\"scope\":\"18276822842476609109\",\"id\":\"5372213060805197056\",\"type\":\"observable\"},val)) : undefined; return this.valueFromJulia[\"index\"]=false}),self)]\n        \n    }\n    self.model = new AppViewModel();\n    self.valueFromJulia = {};\n    for (var key in json_data) {\n        self.valueFromJulia[key] = false;\n    }\n    ko.applyBindings(self.model, self.dom);\n}\n);\n    (WebIO.importBlock({\"data\":[{\"name\":\"knockout\",\"type\":\"js\",\"url\":\"/assetserver/847903f5df732148b510ba93542242ba69c4346c-knockout.js\"},{\"name\":\"knockout_punches\",\"type\":\"js\",\"url\":\"/assetserver/c0b325de111f2589153d52b7b74e82babec63146-knockout_punches.js\"}],\"type\":\"async_block\"})).then((imports) => handler.apply(this, imports));\n}\n"
            ],
            "observables": {
             "changes": {
              "id": "12852112473873830512",
              "sync": false,
              "value": 0
             },
             "index": {
              "id": "5372213060805197056",
              "sync": true,
              "value": 2
             }
            },
            "systemjs_options": null
           },
           "nodeType": "Scope",
           "props": {},
           "type": "node"
          }
         ],
         "instanceArgs": {
          "namespace": "html",
          "tag": "div"
         },
         "nodeType": "DOM",
         "props": {
          "className": "field interact-widget"
         },
         "type": "node"
        },
        {
         "children": [
          {
           "children": [
            {
             "children": [
              {
               "children": [
                {
                 "children": [
                  "p_I"
                 ],
                 "instanceArgs": {
                  "namespace": "html",
                  "tag": "label"
                 },
                 "nodeType": "DOM",
                 "props": {
                  "className": "interact ",
                  "style": {
                   "padding": "5px 10px 0px 10px"
                  }
                 },
                 "type": "node"
                }
               ],
               "instanceArgs": {
                "namespace": "html",
                "tag": "div"
               },
               "nodeType": "DOM",
               "props": {
                "className": "interact-flex-row-left"
               },
               "type": "node"
              },
              {
               "children": [
                {
                 "children": [],
                 "instanceArgs": {
                  "namespace": "html",
                  "tag": "input"
                 },
                 "nodeType": "DOM",
                 "props": {
                  "attributes": {
                   "data-bind": "numericValue: index, valueUpdate: 'input', event: {change: function (){this.changes(this.changes()+1)}}",
                   "orient": "horizontal",
                   "type": "range"
                  },
                  "className": "slider slider is-fullwidth",
                  "max": 8,
                  "min": 1,
                  "step": 1,
                  "style": {}
                 },
                 "type": "node"
                }
               ],
               "instanceArgs": {
                "namespace": "html",
                "tag": "div"
               },
               "nodeType": "DOM",
               "props": {
                "className": "interact-flex-row-center"
               },
               "type": "node"
              },
              {
               "children": [
                {
                 "children": [],
                 "instanceArgs": {
                  "namespace": "html",
                  "tag": "p"
                 },
                 "nodeType": "DOM",
                 "props": {
                  "attributes": {
                   "data-bind": "text: formatted_val"
                  }
                 },
                 "type": "node"
                }
               ],
               "instanceArgs": {
                "namespace": "html",
                "tag": "div"
               },
               "nodeType": "DOM",
               "props": {
                "className": "interact-flex-row-right"
               },
               "type": "node"
              }
             ],
             "instanceArgs": {
              "namespace": "html",
              "tag": "div"
             },
             "nodeType": "DOM",
             "props": {
              "className": "interact-flex-row interact-widget"
             },
             "type": "node"
            }
           ],
           "instanceArgs": {
            "handlers": {
             "changes": [
              "(function (val){return (val!=this.model[\"changes\"]()) ? (this.valueFromJulia[\"changes\"]=true, this.model[\"changes\"](val)) : undefined})"
             ],
             "index": [
              "(function (val){return (val!=this.model[\"index\"]()) ? (this.valueFromJulia[\"index\"]=true, this.model[\"index\"](val)) : undefined})"
             ]
            },
            "id": "12485731981463297229",
            "imports": {
             "data": [
              {
               "name": "knockout",
               "type": "js",
               "url": "/assetserver/847903f5df732148b510ba93542242ba69c4346c-knockout.js"
              },
              {
               "name": "knockout_punches",
               "type": "js",
               "url": "/assetserver/c0b325de111f2589153d52b7b74e82babec63146-knockout_punches.js"
              },
              {
               "name": null,
               "type": "js",
               "url": "/assetserver/51952c19a9a6ce93cd17825f07a8fe28d322efde-all.js"
              },
              {
               "name": null,
               "type": "css",
               "url": "/assetserver/104d64c7b780621be0c8d84ac84d7a5a84de4524-style.css"
              },
              {
               "name": null,
               "type": "css",
               "url": "/assetserver/9e3206e22736e731411e8095c384ec75a742e5c8-bulma_confined.min.css"
              }
             ],
             "type": "async_block"
            },
            "mount_callbacks": [
             "function () {\n    var handler = (function (ko, koPunches) {\n    ko.punches.enableAll();\n    ko.bindingHandlers.numericValue = {\n        init: function(element, valueAccessor, allBindings, data, context) {\n            var stringified = ko.observable(ko.unwrap(valueAccessor()));\n            stringified.subscribe(function(value) {\n                var val = parseFloat(value);\n                if (!isNaN(val)) {\n                    valueAccessor()(val);\n                }\n            });\n            valueAccessor().subscribe(function(value) {\n                var str = JSON.stringify(value);\n                if ((str == \"0\") && ([\"-0\", \"-0.\"].indexOf(stringified()) >= 0))\n                     return;\n                 if ([\"null\", \"\"].indexOf(str) >= 0)\n                     return;\n                stringified(str);\n            });\n            ko.applyBindingsToNode(\n                element,\n                {\n                    value: stringified,\n                    valueUpdate: allBindings.get('valueUpdate'),\n                },\n                context,\n            );\n        }\n    };\n    var json_data = {\"formatted_vals\":[\"0.125\",\"0.25\",\"0.375\",\"0.5\",\"0.625\",\"0.75\",\"0.875\",\"1.0\"],\"changes\":WebIO.getval({\"name\":\"changes\",\"scope\":\"12485731981463297229\",\"id\":\"6459418785297773801\",\"type\":\"observable\"}),\"index\":WebIO.getval({\"name\":\"index\",\"scope\":\"12485731981463297229\",\"id\":\"4372799646158712031\",\"type\":\"observable\"})};\n    var self = this;\n    function AppViewModel() {\n        for (var key in json_data) {\n            var el = json_data[key];\n            this[key] = Array.isArray(el) ? ko.observableArray(el) : ko.observable(el);\n        }\n        \n        [this[\"formatted_val\"]=ko.computed(    function(){\n        return this.formatted_vals()[parseInt(this.index())-(1)];\n    }\n,this)]\n        [this[\"changes\"].subscribe((function (val){!(this.valueFromJulia[\"changes\"]) ? (WebIO.setval({\"name\":\"changes\",\"scope\":\"12485731981463297229\",\"id\":\"6459418785297773801\",\"type\":\"observable\"},val)) : undefined; return this.valueFromJulia[\"changes\"]=false}),self),this[\"index\"].subscribe((function (val){!(this.valueFromJulia[\"index\"]) ? (WebIO.setval({\"name\":\"index\",\"scope\":\"12485731981463297229\",\"id\":\"4372799646158712031\",\"type\":\"observable\"},val)) : undefined; return this.valueFromJulia[\"index\"]=false}),self)]\n        \n    }\n    self.model = new AppViewModel();\n    self.valueFromJulia = {};\n    for (var key in json_data) {\n        self.valueFromJulia[key] = false;\n    }\n    ko.applyBindings(self.model, self.dom);\n}\n);\n    (WebIO.importBlock({\"data\":[{\"name\":\"knockout\",\"type\":\"js\",\"url\":\"/assetserver/847903f5df732148b510ba93542242ba69c4346c-knockout.js\"},{\"name\":\"knockout_punches\",\"type\":\"js\",\"url\":\"/assetserver/c0b325de111f2589153d52b7b74e82babec63146-knockout_punches.js\"}],\"type\":\"async_block\"})).then((imports) => handler.apply(this, imports));\n}\n"
            ],
            "observables": {
             "changes": {
              "id": "6459418785297773801",
              "sync": false,
              "value": 0
             },
             "index": {
              "id": "4372799646158712031",
              "sync": true,
              "value": 1
             }
            },
            "systemjs_options": null
           },
           "nodeType": "Scope",
           "props": {},
           "type": "node"
          }
         ],
         "instanceArgs": {
          "namespace": "html",
          "tag": "div"
         },
         "nodeType": "DOM",
         "props": {
          "className": "field interact-widget"
         },
         "type": "node"
        },
        {
         "children": [
          {
           "children": [
            {
             "children": [
              {
               "children": [
                {
                 "children": [
                  "p_R"
                 ],
                 "instanceArgs": {
                  "namespace": "html",
                  "tag": "label"
                 },
                 "nodeType": "DOM",
                 "props": {
                  "className": "interact ",
                  "style": {
                   "padding": "5px 10px 0px 10px"
                  }
                 },
                 "type": "node"
                }
               ],
               "instanceArgs": {
                "namespace": "html",
                "tag": "div"
               },
               "nodeType": "DOM",
               "props": {
                "className": "interact-flex-row-left"
               },
               "type": "node"
              },
              {
               "children": [
                {
                 "children": [],
                 "instanceArgs": {
                  "namespace": "html",
                  "tag": "input"
                 },
                 "nodeType": "DOM",
                 "props": {
                  "attributes": {
                   "data-bind": "numericValue: index, valueUpdate: 'input', event: {change: function (){this.changes(this.changes()+1)}}",
                   "orient": "horizontal",
                   "type": "range"
                  },
                  "className": "slider slider is-fullwidth",
                  "max": 8,
                  "min": 1,
                  "step": 1,
                  "style": {}
                 },
                 "type": "node"
                }
               ],
               "instanceArgs": {
                "namespace": "html",
                "tag": "div"
               },
               "nodeType": "DOM",
               "props": {
                "className": "interact-flex-row-center"
               },
               "type": "node"
              },
              {
               "children": [
                {
                 "children": [],
                 "instanceArgs": {
                  "namespace": "html",
                  "tag": "p"
                 },
                 "nodeType": "DOM",
                 "props": {
                  "attributes": {
                   "data-bind": "text: formatted_val"
                  }
                 },
                 "type": "node"
                }
               ],
               "instanceArgs": {
                "namespace": "html",
                "tag": "div"
               },
               "nodeType": "DOM",
               "props": {
                "className": "interact-flex-row-right"
               },
               "type": "node"
              }
             ],
             "instanceArgs": {
              "namespace": "html",
              "tag": "div"
             },
             "nodeType": "DOM",
             "props": {
              "className": "interact-flex-row interact-widget"
             },
             "type": "node"
            }
           ],
           "instanceArgs": {
            "handlers": {
             "changes": [
              "(function (val){return (val!=this.model[\"changes\"]()) ? (this.valueFromJulia[\"changes\"]=true, this.model[\"changes\"](val)) : undefined})"
             ],
             "index": [
              "(function (val){return (val!=this.model[\"index\"]()) ? (this.valueFromJulia[\"index\"]=true, this.model[\"index\"](val)) : undefined})"
             ]
            },
            "id": "17291436063026017917",
            "imports": {
             "data": [
              {
               "name": "knockout",
               "type": "js",
               "url": "/assetserver/847903f5df732148b510ba93542242ba69c4346c-knockout.js"
              },
              {
               "name": "knockout_punches",
               "type": "js",
               "url": "/assetserver/c0b325de111f2589153d52b7b74e82babec63146-knockout_punches.js"
              },
              {
               "name": null,
               "type": "js",
               "url": "/assetserver/51952c19a9a6ce93cd17825f07a8fe28d322efde-all.js"
              },
              {
               "name": null,
               "type": "css",
               "url": "/assetserver/104d64c7b780621be0c8d84ac84d7a5a84de4524-style.css"
              },
              {
               "name": null,
               "type": "css",
               "url": "/assetserver/9e3206e22736e731411e8095c384ec75a742e5c8-bulma_confined.min.css"
              }
             ],
             "type": "async_block"
            },
            "mount_callbacks": [
             "function () {\n    var handler = (function (ko, koPunches) {\n    ko.punches.enableAll();\n    ko.bindingHandlers.numericValue = {\n        init: function(element, valueAccessor, allBindings, data, context) {\n            var stringified = ko.observable(ko.unwrap(valueAccessor()));\n            stringified.subscribe(function(value) {\n                var val = parseFloat(value);\n                if (!isNaN(val)) {\n                    valueAccessor()(val);\n                }\n            });\n            valueAccessor().subscribe(function(value) {\n                var str = JSON.stringify(value);\n                if ((str == \"0\") && ([\"-0\", \"-0.\"].indexOf(stringified()) >= 0))\n                     return;\n                 if ([\"null\", \"\"].indexOf(str) >= 0)\n                     return;\n                stringified(str);\n            });\n            ko.applyBindingsToNode(\n                element,\n                {\n                    value: stringified,\n                    valueUpdate: allBindings.get('valueUpdate'),\n                },\n                context,\n            );\n        }\n    };\n    var json_data = {\"formatted_vals\":[\"0.125\",\"0.25\",\"0.375\",\"0.5\",\"0.625\",\"0.75\",\"0.875\",\"1.0\"],\"changes\":WebIO.getval({\"name\":\"changes\",\"scope\":\"17291436063026017917\",\"id\":\"11408755111703707637\",\"type\":\"observable\"}),\"index\":WebIO.getval({\"name\":\"index\",\"scope\":\"17291436063026017917\",\"id\":\"976341695185995934\",\"type\":\"observable\"})};\n    var self = this;\n    function AppViewModel() {\n        for (var key in json_data) {\n            var el = json_data[key];\n            this[key] = Array.isArray(el) ? ko.observableArray(el) : ko.observable(el);\n        }\n        \n        [this[\"formatted_val\"]=ko.computed(    function(){\n        return this.formatted_vals()[parseInt(this.index())-(1)];\n    }\n,this)]\n        [this[\"changes\"].subscribe((function (val){!(this.valueFromJulia[\"changes\"]) ? (WebIO.setval({\"name\":\"changes\",\"scope\":\"17291436063026017917\",\"id\":\"11408755111703707637\",\"type\":\"observable\"},val)) : undefined; return this.valueFromJulia[\"changes\"]=false}),self),this[\"index\"].subscribe((function (val){!(this.valueFromJulia[\"index\"]) ? (WebIO.setval({\"name\":\"index\",\"scope\":\"17291436063026017917\",\"id\":\"976341695185995934\",\"type\":\"observable\"},val)) : undefined; return this.valueFromJulia[\"index\"]=false}),self)]\n        \n    }\n    self.model = new AppViewModel();\n    self.valueFromJulia = {};\n    for (var key in json_data) {\n        self.valueFromJulia[key] = false;\n    }\n    ko.applyBindings(self.model, self.dom);\n}\n);\n    (WebIO.importBlock({\"data\":[{\"name\":\"knockout\",\"type\":\"js\",\"url\":\"/assetserver/847903f5df732148b510ba93542242ba69c4346c-knockout.js\"},{\"name\":\"knockout_punches\",\"type\":\"js\",\"url\":\"/assetserver/c0b325de111f2589153d52b7b74e82babec63146-knockout_punches.js\"}],\"type\":\"async_block\"})).then((imports) => handler.apply(this, imports));\n}\n"
            ],
            "observables": {
             "changes": {
              "id": "11408755111703707637",
              "sync": false,
              "value": 0
             },
             "index": {
              "id": "976341695185995934",
              "sync": true,
              "value": 1
             }
            },
            "systemjs_options": null
           },
           "nodeType": "Scope",
           "props": {},
           "type": "node"
          }
         ],
         "instanceArgs": {
          "namespace": "html",
          "tag": "div"
         },
         "nodeType": "DOM",
         "props": {
          "className": "field interact-widget"
         },
         "type": "node"
        },
        {
         "children": [
          {
           "children": [],
           "instanceArgs": {
            "id": "10416399891843447548",
            "name": "obs-node"
           },
           "nodeType": "ObservableNode",
           "props": {},
           "type": "node"
          }
         ],
         "instanceArgs": {
          "handlers": {},
          "id": "11369283207050833759",
          "imports": {
           "data": [],
           "type": "async_block"
          },
          "mount_callbacks": [],
          "observables": {
           "obs-node": {
            "id": "10416399891843447548",
            "sync": false,
            "value": {
             "children": [
              {
               "children": [],
               "instanceArgs": {
                "namespace": "html",
                "tag": "div"
               },
               "nodeType": "DOM",
               "props": {
                "setInnerHtml": "<?xml version=\"1.0\" encoding=\"utf-8\"?>\n<svg xmlns=\"http://www.w3.org/2000/svg\" xmlns:xlink=\"http://www.w3.org/1999/xlink\" width=\"600\" height=\"400\" viewBox=\"0 0 2400 1600\">\n<defs>\n  <clipPath id=\"clip1700\">\n    <rect x=\"0\" y=\"0\" width=\"2400\" height=\"1600\"/>\n  </clipPath>\n</defs>\n<path clip-path=\"url(#clip1700)\" d=\"\nM0 1600 L2400 1600 L2400 0 L0 0  Z\n  \" fill=\"#ffffff\" fill-rule=\"evenodd\" fill-opacity=\"1\"/>\n<defs>\n  <clipPath id=\"clip1701\">\n    <rect x=\"480\" y=\"0\" width=\"1681\" height=\"1600\"/>\n  </clipPath>\n</defs>\n<path clip-path=\"url(#clip1700)\" d=\"\nM242.516 1425.62 L2352.76 1425.62 L2352.76 121.675 L242.516 121.675  Z\n  \" fill=\"#ffffff\" fill-rule=\"evenodd\" fill-opacity=\"1\"/>\n<defs>\n  <clipPath id=\"clip1702\">\n    <rect x=\"242\" y=\"121\" width=\"2111\" height=\"1305\"/>\n  </clipPath>\n</defs>\n<polyline clip-path=\"url(#clip1702)\" style=\"stroke:#000000; stroke-width:2; stroke-opacity:0.1; fill:none\" points=\"\n  302.24,1425.62 302.24,121.675 \n  \"/>\n<polyline clip-path=\"url(#clip1702)\" style=\"stroke:#000000; stroke-width:2; stroke-opacity:0.1; fill:none\" points=\"\n  711.368,1425.62 711.368,121.675 \n  \"/>\n<polyline clip-path=\"url(#clip1702)\" style=\"stroke:#000000; stroke-width:2; stroke-opacity:0.1; fill:none\" points=\"\n  1120.5,1425.62 1120.5,121.675 \n  \"/>\n<polyline clip-path=\"url(#clip1702)\" style=\"stroke:#000000; stroke-width:2; stroke-opacity:0.1; fill:none\" points=\"\n  1529.62,1425.62 1529.62,121.675 \n  \"/>\n<polyline clip-path=\"url(#clip1702)\" style=\"stroke:#000000; stroke-width:2; stroke-opacity:0.1; fill:none\" points=\"\n  1938.75,1425.62 1938.75,121.675 \n  \"/>\n<polyline clip-path=\"url(#clip1702)\" style=\"stroke:#000000; stroke-width:2; stroke-opacity:0.1; fill:none\" points=\"\n  2347.88,1425.62 2347.88,121.675 \n  \"/>\n<polyline clip-path=\"url(#clip1702)\" style=\"stroke:#000000; stroke-width:2; stroke-opacity:0.1; fill:none\" points=\"\n  242.516,1388.71 2352.76,1388.71 \n  \"/>\n<polyline clip-path=\"url(#clip1702)\" style=\"stroke:#000000; stroke-width:2; stroke-opacity:0.1; fill:none\" points=\"\n  242.516,1081.18 2352.76,1081.18 \n  \"/>\n<polyline clip-path=\"url(#clip1702)\" style=\"stroke:#000000; stroke-width:2; stroke-opacity:0.1; fill:none\" points=\"\n  242.516,773.647 2352.76,773.647 \n  \"/>\n<polyline clip-path=\"url(#clip1702)\" style=\"stroke:#000000; stroke-width:2; stroke-opacity:0.1; fill:none\" points=\"\n  242.516,466.113 2352.76,466.113 \n  \"/>\n<polyline clip-path=\"url(#clip1702)\" style=\"stroke:#000000; stroke-width:2; stroke-opacity:0.1; fill:none\" points=\"\n  242.516,158.579 2352.76,158.579 \n  \"/>\n<polyline clip-path=\"url(#clip1700)\" style=\"stroke:#000000; stroke-width:4; stroke-opacity:1; fill:none\" points=\"\n  242.516,1425.62 2352.76,1425.62 \n  \"/>\n<polyline clip-path=\"url(#clip1700)\" style=\"stroke:#000000; stroke-width:4; stroke-opacity:1; fill:none\" points=\"\n  242.516,1425.62 242.516,121.675 \n  \"/>\n<polyline clip-path=\"url(#clip1700)\" style=\"stroke:#000000; stroke-width:4; stroke-opacity:1; fill:none\" points=\"\n  302.24,1425.62 302.24,1409.97 \n  \"/>\n<polyline clip-path=\"url(#clip1700)\" style=\"stroke:#000000; stroke-width:4; stroke-opacity:1; fill:none\" points=\"\n  711.368,1425.62 711.368,1409.97 \n  \"/>\n<polyline clip-path=\"url(#clip1700)\" style=\"stroke:#000000; stroke-width:4; stroke-opacity:1; fill:none\" points=\"\n  1120.5,1425.62 1120.5,1409.97 \n  \"/>\n<polyline clip-path=\"url(#clip1700)\" style=\"stroke:#000000; stroke-width:4; stroke-opacity:1; fill:none\" points=\"\n  1529.62,1425.62 1529.62,1409.97 \n  \"/>\n<polyline clip-path=\"url(#clip1700)\" style=\"stroke:#000000; stroke-width:4; stroke-opacity:1; fill:none\" points=\"\n  1938.75,1425.62 1938.75,1409.97 \n  \"/>\n<polyline clip-path=\"url(#clip1700)\" style=\"stroke:#000000; stroke-width:4; stroke-opacity:1; fill:none\" points=\"\n  2347.88,1425.62 2347.88,1409.97 \n  \"/>\n<polyline clip-path=\"url(#clip1700)\" style=\"stroke:#000000; stroke-width:4; stroke-opacity:1; fill:none\" points=\"\n  242.516,1388.71 267.839,1388.71 \n  \"/>\n<polyline clip-path=\"url(#clip1700)\" style=\"stroke:#000000; stroke-width:4; stroke-opacity:1; fill:none\" points=\"\n  242.516,1081.18 267.839,1081.18 \n  \"/>\n<polyline clip-path=\"url(#clip1700)\" style=\"stroke:#000000; stroke-width:4; stroke-opacity:1; fill:none\" points=\"\n  242.516,773.647 267.839,773.647 \n  \"/>\n<polyline clip-path=\"url(#clip1700)\" style=\"stroke:#000000; stroke-width:4; stroke-opacity:1; fill:none\" points=\"\n  242.516,466.113 267.839,466.113 \n  \"/>\n<polyline clip-path=\"url(#clip1700)\" style=\"stroke:#000000; stroke-width:4; stroke-opacity:1; fill:none\" points=\"\n  242.516,158.579 267.839,158.579 \n  \"/>\n<g clip-path=\"url(#clip1700)\">\n<text style=\"fill:#000000; fill-opacity:1; font-family:Arial,Helvetica Neue,Helvetica,sans-serif; font-size:48px; text-anchor:start;\" transform=\"rotate(0, 248.297, 1500.63)\" x=\"248.297\" y=\"1500.63\">10</text>\n</g>\n<g clip-path=\"url(#clip1700)\">\n<text style=\"fill:#000000; fill-opacity:1; font-family:Arial,Helvetica Neue,Helvetica,sans-serif; font-size:38px; text-anchor:start;\" transform=\"rotate(0, 301.822, 1473.22)\" x=\"301.822\" y=\"1473.22\">0.0</text>\n</g>\n<g clip-path=\"url(#clip1700)\">\n<text style=\"fill:#000000; fill-opacity:1; font-family:Arial,Helvetica Neue,Helvetica,sans-serif; font-size:48px; text-anchor:start;\" transform=\"rotate(0, 657.425, 1500.63)\" x=\"657.425\" y=\"1500.63\">10</text>\n</g>\n<g clip-path=\"url(#clip1700)\">\n<text style=\"fill:#000000; fill-opacity:1; font-family:Arial,Helvetica Neue,Helvetica,sans-serif; font-size:38px; text-anchor:start;\" transform=\"rotate(0, 710.95, 1473.22)\" x=\"710.95\" y=\"1473.22\">0.5</text>\n</g>\n<g clip-path=\"url(#clip1700)\">\n<text style=\"fill:#000000; fill-opacity:1; font-family:Arial,Helvetica Neue,Helvetica,sans-serif; font-size:48px; text-anchor:start;\" transform=\"rotate(0, 1066.55, 1500.63)\" x=\"1066.55\" y=\"1500.63\">10</text>\n</g>\n<g clip-path=\"url(#clip1700)\">\n<text style=\"fill:#000000; fill-opacity:1; font-family:Arial,Helvetica Neue,Helvetica,sans-serif; font-size:38px; text-anchor:start;\" transform=\"rotate(0, 1120.08, 1473.22)\" x=\"1120.08\" y=\"1473.22\">1.0</text>\n</g>\n<g clip-path=\"url(#clip1700)\">\n<text style=\"fill:#000000; fill-opacity:1; font-family:Arial,Helvetica Neue,Helvetica,sans-serif; font-size:48px; text-anchor:start;\" transform=\"rotate(0, 1475.68, 1500.63)\" x=\"1475.68\" y=\"1500.63\">10</text>\n</g>\n<g clip-path=\"url(#clip1700)\">\n<text style=\"fill:#000000; fill-opacity:1; font-family:Arial,Helvetica Neue,Helvetica,sans-serif; font-size:38px; text-anchor:start;\" transform=\"rotate(0, 1529.21, 1473.22)\" x=\"1529.21\" y=\"1473.22\">1.5</text>\n</g>\n<g clip-path=\"url(#clip1700)\">\n<text style=\"fill:#000000; fill-opacity:1; font-family:Arial,Helvetica Neue,Helvetica,sans-serif; font-size:48px; text-anchor:start;\" transform=\"rotate(0, 1884.81, 1500.63)\" x=\"1884.81\" y=\"1500.63\">10</text>\n</g>\n<g clip-path=\"url(#clip1700)\">\n<text style=\"fill:#000000; fill-opacity:1; font-family:Arial,Helvetica Neue,Helvetica,sans-serif; font-size:38px; text-anchor:start;\" transform=\"rotate(0, 1938.33, 1473.22)\" x=\"1938.33\" y=\"1473.22\">2.0</text>\n</g>\n<g clip-path=\"url(#clip1700)\">\n<text style=\"fill:#000000; fill-opacity:1; font-family:Arial,Helvetica Neue,Helvetica,sans-serif; font-size:48px; text-anchor:start;\" transform=\"rotate(0, 2293.94, 1500.63)\" x=\"2293.94\" y=\"1500.63\">10</text>\n</g>\n<g clip-path=\"url(#clip1700)\">\n<text style=\"fill:#000000; fill-opacity:1; font-family:Arial,Helvetica Neue,Helvetica,sans-serif; font-size:38px; text-anchor:start;\" transform=\"rotate(0, 2347.46, 1473.22)\" x=\"2347.46\" y=\"1473.22\">2.5</text>\n</g>\n<g clip-path=\"url(#clip1700)\">\n<text style=\"fill:#000000; fill-opacity:1; font-family:Arial,Helvetica Neue,Helvetica,sans-serif; font-size:48px; text-anchor:end;\" transform=\"rotate(0, 218.516, 1406.21)\" x=\"218.516\" y=\"1406.21\">0.00</text>\n</g>\n<g clip-path=\"url(#clip1700)\">\n<text style=\"fill:#000000; fill-opacity:1; font-family:Arial,Helvetica Neue,Helvetica,sans-serif; font-size:48px; text-anchor:end;\" transform=\"rotate(0, 218.516, 1098.68)\" x=\"218.516\" y=\"1098.68\">0.25</text>\n</g>\n<g clip-path=\"url(#clip1700)\">\n<text style=\"fill:#000000; fill-opacity:1; font-family:Arial,Helvetica Neue,Helvetica,sans-serif; font-size:48px; text-anchor:end;\" transform=\"rotate(0, 218.516, 791.147)\" x=\"218.516\" y=\"791.147\">0.50</text>\n</g>\n<g clip-path=\"url(#clip1700)\">\n<text style=\"fill:#000000; fill-opacity:1; font-family:Arial,Helvetica Neue,Helvetica,sans-serif; font-size:48px; text-anchor:end;\" transform=\"rotate(0, 218.516, 483.613)\" x=\"218.516\" y=\"483.613\">0.75</text>\n</g>\n<g clip-path=\"url(#clip1700)\">\n<text style=\"fill:#000000; fill-opacity:1; font-family:Arial,Helvetica Neue,Helvetica,sans-serif; font-size:48px; text-anchor:end;\" transform=\"rotate(0, 218.516, 176.079)\" x=\"218.516\" y=\"176.079\">1.00</text>\n</g>\n<g clip-path=\"url(#clip1700)\">\n<text style=\"fill:#000000; fill-opacity:1; font-family:Arial,Helvetica Neue,Helvetica,sans-serif; font-size:84px; text-anchor:middle;\" transform=\"rotate(0, 1297.64, 73.2)\" x=\"1297.64\" y=\"73.2\">SEIR Model</text>\n</g>\n<g clip-path=\"url(#clip1700)\">\n<text style=\"fill:#000000; fill-opacity:1; font-family:Arial,Helvetica Neue,Helvetica,sans-serif; font-size:66px; text-anchor:middle;\" transform=\"rotate(0, 1297.64, 1559.48)\" x=\"1297.64\" y=\"1559.48\">time</text>\n</g>\n<g clip-path=\"url(#clip1700)\">\n<text style=\"fill:#000000; fill-opacity:1; font-family:Arial,Helvetica Neue,Helvetica,sans-serif; font-size:66px; text-anchor:middle;\" transform=\"rotate(-90, 89.2861, 773.647)\" x=\"89.2861\" y=\"773.647\">p [%]</text>\n</g>\n<polyline clip-path=\"url(#clip1702)\" style=\"stroke:#009af9; stroke-width:4; stroke-opacity:1; fill:none\" points=\"\n  302.24,158.579 548.56,467.159 692.648,697.969 794.879,868.712 874.177,997.212 938.967,1095.75 993.747,1168.21 1041.2,1223.36 1083.05,1265.39 1120.5,1295.77 \n  1154.37,1319.94 1185.29,1337.04 1213.73,1350.49 1240.07,1360.45 1264.58,1367.91 1287.52,1373.5 1309.06,1377.16 1329.37,1379.97 1348.59,1381.85 1366.82,1383.58 \n  1384.15,1384.88 1400.69,1385.75 1416.48,1386.43 1431.61,1387 1446.11,1387.47 1460.05,1387.78 1473.46,1388.04 1486.39,1388.26 1498.86,1388.38 1510.9,1388.43 \n  1522.56,1388.49 1533.84,1388.58 1544.77,1388.6 1555.38,1388.64 1565.68,1388.67 1575.69,1388.68 1585.43,1388.68 1594.91,1388.68 1604.14,1388.68 1613.14,1388.68 \n  1621.91,1388.7 1630.47,1388.7 1638.84,1388.7 1647.01,1388.7 1654.99,1388.71 1662.8,1388.71 1670.44,1388.71 1677.93,1388.71 1685.25,1388.71 1692.43,1388.71 \n  1699.47,1388.71 1706.37,1388.71 1713.14,1388.71 1719.78,1388.71 1726.3,1388.71 1732.71,1388.71 1739,1388.71 1745.18,1388.71 1751.25,1388.71 1757.22,1388.71 \n  1763.1,1388.71 1768.88,1388.71 1774.56,1388.71 1780.16,1388.71 1785.67,1388.71 1791.09,1388.71 1796.44,1388.71 1801.7,1388.71 1806.89,1388.71 1812,1388.71 \n  1817.04,1388.71 1822.01,1388.71 1826.92,1388.71 1831.75,1388.71 1836.52,1388.71 1841.23,1388.71 1845.87,1388.71 1850.46,1388.71 1854.99,1388.71 1859.46,1388.71 \n  1863.87,1388.71 1868.23,1388.71 1872.54,1388.71 1876.79,1388.71 1881,1388.71 1885.16,1388.71 1889.26,1388.71 1893.32,1388.71 1897.34,1388.71 1901.31,1388.71 \n  1905.24,1388.71 1909.12,1388.71 1912.96,1388.71 1916.76,1388.71 1920.52,1388.71 1924.25,1388.71 1927.93,1388.71 1931.57,1388.71 1935.18,1388.71 1938.75,1388.71 \n  1942.29,1388.71 1945.79,1388.71 1949.26,1388.71 1952.69,1388.71 1956.09,1388.71 1959.46,1388.71 1962.8,1388.71 1966.1,1388.71 1969.38,1388.71 1972.62,1388.71 \n  1975.84,1388.71 1979.03,1388.71 1982.18,1388.71 1985.32,1388.71 1988.42,1388.71 1991.5,1388.71 1994.55,1388.71 1997.57,1388.71 2000.57,1388.71 2003.54,1388.71 \n  2006.49,1388.71 2009.42,1388.71 2012.32,1388.71 2015.2,1388.71 2018.05,1388.71 2020.88,1388.71 2023.69,1388.71 2026.48,1388.71 2029.24,1388.71 2031.99,1388.71 \n  2034.71,1388.71 2037.41,1388.71 2040.09,1388.71 2042.76,1388.71 2045.4,1388.71 2048.02,1388.71 2050.62,1388.71 2053.21,1388.71 2055.78,1388.71 2058.32,1388.71 \n  2060.85,1388.71 2063.36,1388.71 2065.86,1388.71 2068.33,1388.71 2070.79,1388.71 2073.24,1388.71 2075.66,1388.71 2078.07,1388.71 2080.46,1388.71 2082.84,1388.71 \n  2085.2,1388.71 2087.55,1388.71 2089.88,1388.71 2092.19,1388.71 2094.49,1388.71 2096.78,1388.71 2099.05,1388.71 2101.3,1388.71 2103.55,1388.71 2105.77,1388.71 \n  2107.99,1388.71 2110.19,1388.71 2112.38,1388.71 2114.55,1388.71 2116.71,1388.71 2118.86,1388.71 2120.99,1388.71 2123.11,1388.71 2125.22,1388.71 2127.32,1388.71 \n  2129.4,1388.71 2131.47,1388.71 2133.54,1388.71 2135.58,1388.71 2137.62,1388.71 2139.64,1388.71 2141.66,1388.71 2143.66,1388.71 2145.65,1388.71 2147.63,1388.71 \n  2149.6,1388.71 2151.56,1388.71 2153.5,1388.71 2155.44,1388.71 2157.37,1388.71 2159.28,1388.71 2161.19,1388.71 2163.08,1388.71 2164.97,1388.71 2166.84,1388.71 \n  2168.71,1388.71 2170.57,1388.71 2172.41,1388.71 2174.25,1388.71 2176.07,1388.71 2177.89,1388.71 2179.7,1388.71 2181.5,1388.71 2183.29,1388.71 2185.07,1388.71 \n  2186.84,1388.71 2188.61,1388.71 2190.36,1388.71 2192.11,1388.71 2193.85,1388.71 2195.58,1388.71 2197.3,1388.71 2199.01,1388.71 2200.71,1388.71 2202.41,1388.71 \n  2204.1,1388.71 2205.78,1388.71 2207.45,1388.71 2209.12,1388.71 2210.77,1388.71 2212.42,1388.71 2214.06,1388.71 2215.7,1388.71 2217.32,1388.71 2218.94,1388.71 \n  2220.55,1388.71 2222.16,1388.71 2223.75,1388.71 2225.34,1388.71 2226.93,1388.71 2228.5,1388.71 2230.07,1388.71 2231.63,1388.71 2233.19,1388.71 2234.74,1388.71 \n  2236.28,1388.71 2237.82,1388.71 2239.34,1388.71 2240.87,1388.71 2242.38,1388.71 2243.89,1388.71 2245.39,1388.71 2246.89,1388.71 2248.38,1388.71 2249.86,1388.71 \n  2251.34,1388.71 2252.81,1388.71 2254.28,1388.71 2255.74,1388.71 2257.19,1388.71 2258.64,1388.71 2260.08,1388.71 2261.51,1388.71 2262.94,1388.71 2264.37,1388.71 \n  2265.79,1388.71 2267.2,1388.71 2268.61,1388.71 2270.01,1388.71 2271.41,1388.71 2272.8,1388.71 2274.18,1388.71 2275.56,1388.71 2276.94,1388.71 2278.31,1388.71 \n  2279.67,1388.71 2281.03,1388.71 2282.38,1388.71 2283.73,1388.71 2285.08,1388.71 2286.41,1388.71 2287.75,1388.71 2289.08,1388.71 2290.4,1388.71 2291.72,1388.71 \n  2293.03,1388.71 \n  \"/>\n<polyline clip-path=\"url(#clip1702)\" style=\"stroke:#e26f46; stroke-width:4; stroke-opacity:1; fill:none\" points=\"\n  302.24,1388.71 548.56,1080.14 692.648,881.062 794.879,761.382 874.177,696.456 938.967,667.892 993.747,668.249 1041.2,685.2 1083.05,712.952 1120.5,750.225 \n  1154.37,790.389 1185.29,833.973 1213.73,876.535 1240.07,916.687 1264.58,956.753 1287.52,994.948 1309.06,1030.54 1329.37,1062.96 1348.59,1094.1 1366.82,1121.71 \n  1384.15,1148.2 1400.69,1172.06 1416.48,1193.12 1431.61,1212.34 1446.11,1229.82 1460.05,1245.13 1473.46,1259.81 1486.39,1272.91 1498.86,1284.52 1510.9,1295.21 \n  1522.56,1304.04 1533.84,1312.77 1544.77,1321.01 1555.38,1328.11 1565.68,1334.16 1575.69,1339.68 1585.43,1344.91 1594.91,1348.9 1604.14,1353.24 1613.14,1357.12 \n  1621.91,1360.36 1630.47,1363.18 1638.84,1365.65 1647.01,1368.04 1654.99,1370.16 1662.8,1371.91 1670.44,1373.56 1677.93,1375.1 1685.25,1376.45 1692.43,1377.73 \n  1699.47,1378.79 1706.37,1379.8 1713.14,1380.64 1719.78,1381.32 1726.3,1382.23 1732.71,1383.02 1739,1383.55 1745.18,1384.06 1751.25,1384.5 1757.22,1384.88 \n  1763.1,1385.18 1768.88,1385.48 1774.56,1385.76 1780.16,1386.07 1785.67,1386.3 1791.09,1386.64 1796.44,1386.87 1801.7,1387.08 1806.89,1387.2 1812,1387.31 \n  1817.04,1387.45 1822.01,1387.55 1826.92,1387.72 1831.75,1387.79 1836.52,1387.87 1841.23,1387.94 1845.87,1388 1850.46,1388.07 1854.99,1388.15 1859.46,1388.23 \n  1863.87,1388.3 1868.23,1388.31 1872.54,1388.36 1876.79,1388.39 1881,1388.46 1885.16,1388.48 1889.26,1388.49 1893.32,1388.49 1897.34,1388.53 1901.31,1388.55 \n  1905.24,1388.58 1909.12,1388.58 1912.96,1388.58 1916.76,1388.59 1920.52,1388.59 1924.25,1388.6 1927.93,1388.62 1931.57,1388.62 1935.18,1388.64 1938.75,1388.64 \n  1942.29,1388.64 1945.79,1388.67 1949.26,1388.67 1952.69,1388.68 1956.09,1388.69 1959.46,1388.69 1962.8,1388.69 1966.1,1388.7 1969.38,1388.7 1972.62,1388.7 \n  1975.84,1388.7 1979.03,1388.7 1982.18,1388.71 1985.32,1388.71 1988.42,1388.71 1991.5,1388.71 1994.55,1388.71 1997.57,1388.71 2000.57,1388.71 2003.54,1388.71 \n  2006.49,1388.71 2009.42,1388.71 2012.32,1388.71 2015.2,1388.71 2018.05,1388.71 2020.88,1388.71 2023.69,1388.71 2026.48,1388.71 2029.24,1388.71 2031.99,1388.71 \n  2034.71,1388.71 2037.41,1388.71 2040.09,1388.71 2042.76,1388.71 2045.4,1388.71 2048.02,1388.71 2050.62,1388.71 2053.21,1388.71 2055.78,1388.71 2058.32,1388.71 \n  2060.85,1388.71 2063.36,1388.71 2065.86,1388.71 2068.33,1388.71 2070.79,1388.71 2073.24,1388.71 2075.66,1388.71 2078.07,1388.71 2080.46,1388.71 2082.84,1388.71 \n  2085.2,1388.71 2087.55,1388.71 2089.88,1388.71 2092.19,1388.71 2094.49,1388.71 2096.78,1388.71 2099.05,1388.71 2101.3,1388.71 2103.55,1388.71 2105.77,1388.71 \n  2107.99,1388.71 2110.19,1388.71 2112.38,1388.71 2114.55,1388.71 2116.71,1388.71 2118.86,1388.71 2120.99,1388.71 2123.11,1388.71 2125.22,1388.71 2127.32,1388.71 \n  2129.4,1388.71 2131.47,1388.71 2133.54,1388.71 2135.58,1388.71 2137.62,1388.71 2139.64,1388.71 2141.66,1388.71 2143.66,1388.71 2145.65,1388.71 2147.63,1388.71 \n  2149.6,1388.71 2151.56,1388.71 2153.5,1388.71 2155.44,1388.71 2157.37,1388.71 2159.28,1388.71 2161.19,1388.71 2163.08,1388.71 2164.97,1388.71 2166.84,1388.71 \n  2168.71,1388.71 2170.57,1388.71 2172.41,1388.71 2174.25,1388.71 2176.07,1388.71 2177.89,1388.71 2179.7,1388.71 2181.5,1388.71 2183.29,1388.71 2185.07,1388.71 \n  2186.84,1388.71 2188.61,1388.71 2190.36,1388.71 2192.11,1388.71 2193.85,1388.71 2195.58,1388.71 2197.3,1388.71 2199.01,1388.71 2200.71,1388.71 2202.41,1388.71 \n  2204.1,1388.71 2205.78,1388.71 2207.45,1388.71 2209.12,1388.71 2210.77,1388.71 2212.42,1388.71 2214.06,1388.71 2215.7,1388.71 2217.32,1388.71 2218.94,1388.71 \n  2220.55,1388.71 2222.16,1388.71 2223.75,1388.71 2225.34,1388.71 2226.93,1388.71 2228.5,1388.71 2230.07,1388.71 2231.63,1388.71 2233.19,1388.71 2234.74,1388.71 \n  2236.28,1388.71 2237.82,1388.71 2239.34,1388.71 2240.87,1388.71 2242.38,1388.71 2243.89,1388.71 2245.39,1388.71 2246.89,1388.71 2248.38,1388.71 2249.86,1388.71 \n  2251.34,1388.71 2252.81,1388.71 2254.28,1388.71 2255.74,1388.71 2257.19,1388.71 2258.64,1388.71 2260.08,1388.71 2261.51,1388.71 2262.94,1388.71 2264.37,1388.71 \n  2265.79,1388.71 2267.2,1388.71 2268.61,1388.71 2270.01,1388.71 2271.41,1388.71 2272.8,1388.71 2274.18,1388.71 2275.56,1388.71 2276.94,1388.71 2278.31,1388.71 \n  2279.67,1388.71 2281.03,1388.71 2282.38,1388.71 2283.73,1388.71 2285.08,1388.71 2286.41,1388.71 2287.75,1388.71 2289.08,1388.71 2290.4,1388.71 2291.72,1388.71 \n  2293.03,1388.71 \n  \"/>\n<polyline clip-path=\"url(#clip1702)\" style=\"stroke:#3da44d; stroke-width:4; stroke-opacity:1; fill:none\" points=\"\n  302.24,1388.71 548.56,1388.71 692.648,1356.98 794.879,1307.45 874.177,1247.72 938.967,1184.68 993.747,1121.8 1041.2,1062.91 1083.05,1009.12 1120.5,961.439 \n  1154.37,918.225 1185.29,881.665 1213.73,851.379 1240.07,827.736 1264.58,808.411 1287.52,793.944 1309.06,784.755 1329.37,779.539 1348.59,776.956 1366.82,777.583 \n  1384.15,780.868 1400.69,785.788 1416.48,793.796 1431.61,803.059 1446.11,814.377 1460.05,827.133 1473.46,840.96 1486.39,853.569 1498.86,868.933 1510.9,883.572 \n  1522.56,899.969 1533.84,915.703 1544.77,931.35 1555.38,947.736 1565.68,964.158 1575.69,981.281 1585.43,996.83 1594.91,1012.54 1604.14,1026.65 1613.14,1040.22 \n  1621.91,1053.99 1630.47,1067.33 1638.84,1080.6 1647.01,1093.4 1654.99,1106.4 1662.8,1119.14 1670.44,1131.53 1677.93,1142.96 1685.25,1153.34 1692.43,1163.92 \n  1699.47,1173.98 1706.37,1184.27 1713.14,1193.86 1719.78,1202.99 1726.3,1211.58 1732.71,1219.35 1739,1227.17 1745.18,1234.64 1751.25,1241.61 1757.22,1248.57 \n  1763.1,1255.04 1768.88,1261.65 1774.56,1267.41 1780.16,1273.24 1785.67,1279.11 1791.09,1284.13 1796.44,1289.04 1801.7,1294.03 1806.89,1299.11 1812,1303.32 \n  1817.04,1307.69 1822.01,1311.6 1826.92,1314.71 1831.75,1318.36 1836.52,1321.61 1841.23,1324.76 1845.87,1327.74 1850.46,1331.03 1854.99,1333.96 1859.46,1336.57 \n  1863.87,1338.99 1868.23,1341.33 1872.54,1343.43 1876.79,1345.59 1881,1347.64 1885.16,1349.39 1889.26,1351.29 1893.32,1352.99 1897.34,1354.82 1901.31,1356.31 \n  1905.24,1357.92 1909.12,1359.38 1912.96,1360.93 1916.76,1362.49 1920.52,1363.84 1924.25,1365.21 1927.93,1366.49 1931.57,1367.59 1935.18,1368.71 1938.75,1369.91 \n  1942.29,1370.8 1945.79,1371.78 1949.26,1372.58 1952.69,1373.42 1956.09,1374.22 1959.46,1374.84 1962.8,1375.48 1966.1,1376.19 1969.38,1376.88 1972.62,1377.47 \n  1975.84,1377.98 1979.03,1378.5 1982.18,1378.98 1985.32,1379.46 1988.42,1379.82 1991.5,1380.17 1994.55,1380.57 1997.57,1380.94 2000.57,1381.24 2003.54,1381.63 \n  2006.49,1382.03 2009.42,1382.35 2012.32,1382.64 2015.2,1382.85 2018.05,1383.15 2020.88,1383.41 2023.69,1383.71 2026.48,1383.9 2029.24,1384.18 2031.99,1384.51 \n  2034.71,1384.79 2037.41,1384.94 2040.09,1385.1 2042.76,1385.23 2045.4,1385.37 2048.02,1385.58 2050.62,1385.81 2053.21,1385.91 2055.78,1386.02 2058.32,1386.19 \n  2060.85,1386.36 2063.36,1386.48 2065.86,1386.54 2068.33,1386.65 2070.79,1386.73 2073.24,1386.87 2075.66,1386.96 2078.07,1387 2080.46,1387.07 2082.84,1387.12 \n  2085.2,1387.16 2087.55,1387.25 2089.88,1387.31 2092.19,1387.39 2094.49,1387.46 2096.78,1387.52 2099.05,1387.61 2101.3,1387.67 2103.55,1387.69 2105.77,1387.76 \n  2107.99,1387.8 2110.19,1387.88 2112.38,1387.9 2114.55,1387.94 2116.71,1387.99 2118.86,1388.05 2120.99,1388.06 2123.11,1388.07 2125.22,1388.14 2127.32,1388.15 \n  2129.4,1388.17 2131.47,1388.2 2133.54,1388.21 2135.58,1388.23 2137.62,1388.25 2139.64,1388.27 2141.66,1388.3 2143.66,1388.33 2145.65,1388.33 2147.63,1388.37 \n  2149.6,1388.37 2151.56,1388.37 2153.5,1388.38 2155.44,1388.39 2157.37,1388.39 2159.28,1388.41 2161.19,1388.43 2163.08,1388.44 2164.97,1388.46 2166.84,1388.46 \n  2168.71,1388.48 2170.57,1388.51 2172.41,1388.52 2174.25,1388.54 2176.07,1388.54 2177.89,1388.54 2179.7,1388.55 2181.5,1388.55 2183.29,1388.55 2185.07,1388.57 \n  2186.84,1388.57 2188.61,1388.58 2190.36,1388.58 2192.11,1388.58 2193.85,1388.58 2195.58,1388.58 2197.3,1388.58 2199.01,1388.59 2200.71,1388.59 2202.41,1388.59 \n  2204.1,1388.62 2205.78,1388.62 2207.45,1388.64 2209.12,1388.64 2210.77,1388.65 2212.42,1388.65 2214.06,1388.65 2215.7,1388.65 2217.32,1388.65 2218.94,1388.65 \n  2220.55,1388.65 2222.16,1388.67 2223.75,1388.67 2225.34,1388.67 2226.93,1388.67 2228.5,1388.67 2230.07,1388.67 2231.63,1388.67 2233.19,1388.67 2234.74,1388.68 \n  2236.28,1388.68 2237.82,1388.68 2239.34,1388.68 2240.87,1388.68 2242.38,1388.68 2243.89,1388.68 2245.39,1388.68 2246.89,1388.68 2248.38,1388.68 2249.86,1388.68 \n  2251.34,1388.68 2252.81,1388.68 2254.28,1388.68 2255.74,1388.68 2257.19,1388.68 2258.64,1388.69 2260.08,1388.7 2261.51,1388.7 2262.94,1388.7 2264.37,1388.7 \n  2265.79,1388.7 2267.2,1388.7 2268.61,1388.7 2270.01,1388.7 2271.41,1388.7 2272.8,1388.7 2274.18,1388.7 2275.56,1388.7 2276.94,1388.7 2278.31,1388.7 \n  2279.67,1388.7 2281.03,1388.7 2282.38,1388.7 2283.73,1388.7 2285.08,1388.7 2286.41,1388.7 2287.75,1388.7 2289.08,1388.7 2290.4,1388.7 2291.72,1388.7 \n  2293.03,1388.71 \n  \"/>\n<polyline clip-path=\"url(#clip1702)\" style=\"stroke:#c271d2; stroke-width:4; stroke-opacity:1; fill:none\" points=\"\n  302.24,1388.71 548.56,1388.71 692.648,1388.71 794.879,1387.18 874.177,1383.34 938.967,1376.4 993.747,1366.46 1041.2,1353.25 1083.05,1337.26 1120.5,1317.29 \n  1154.37,1296.17 1185.29,1272.05 1213.73,1246.31 1240.07,1219.85 1264.58,1191.65 1287.52,1162.33 1309.06,1132.27 1329.37,1102.25 1348.59,1071.82 1366.82,1041.84 \n  1384.15,1010.78 1400.69,981.122 1416.48,951.377 1431.61,922.321 1446.11,893.056 1460.05,864.677 1473.46,835.916 1486.39,809.985 1498.86,782.885 1510.9,757.507 \n  1522.56,732.216 1533.84,707.675 1544.77,683.761 1555.38,660.241 1565.68,637.742 1575.69,615.082 1585.43,594.305 1594.91,574.611 1604.14,556.159 1613.14,538.703 \n  1621.91,521.666 1630.47,505.514 1638.84,489.769 1647.01,474.589 1654.99,459.446 1662.8,444.955 1670.44,430.919 1677.93,417.953 1685.25,406.218 1692.43,394.359 \n  1699.47,383.239 1706.37,371.946 1713.14,361.502 1719.78,351.698 1726.3,342.202 1732.71,333.64 1739,325.287 1745.18,317.304 1751.25,309.898 1757.22,302.567 \n  1763.1,295.788 1768.88,288.875 1774.56,282.835 1780.16,276.697 1785.67,270.595 1791.09,265.244 1796.44,260.102 1801.7,254.899 1806.89,249.695 1812,245.378 \n  1817.04,240.875 1822.01,236.865 1826.92,233.581 1831.75,229.853 1836.52,226.532 1841.23,223.309 1845.87,220.27 1850.46,216.9 1854.99,213.898 1859.46,211.204 \n  1863.87,208.72 1868.23,206.37 1872.54,204.217 1876.79,202.028 1881,199.912 1885.16,198.14 1889.26,196.221 1893.32,194.524 1897.34,192.654 1901.31,191.141 \n  1905.24,189.505 1909.12,188.053 1912.96,186.503 1916.76,184.929 1920.52,183.576 1924.25,182.198 1927.93,180.906 1931.57,179.799 1935.18,178.655 1938.75,177.462 \n  1942.29,176.564 1945.79,175.567 1949.26,174.768 1952.69,173.907 1956.09,173.095 1959.46,172.48 1962.8,171.84 1966.1,171.114 1969.38,170.425 1972.62,169.835 \n  1975.84,169.331 1979.03,168.802 1982.18,168.31 1985.32,167.83 1988.42,167.473 1991.5,167.129 1994.55,166.723 1997.57,166.354 2000.57,166.058 2003.54,165.665 \n  2006.49,165.259 2009.42,164.939 2012.32,164.656 2015.2,164.447 2018.05,164.139 2020.88,163.881 2023.69,163.586 2026.48,163.389 2029.24,163.118 2031.99,162.786 \n  2034.71,162.503 2037.41,162.356 2040.09,162.196 2042.76,162.06 2045.4,161.925 2048.02,161.716 2050.62,161.482 2053.21,161.384 2055.78,161.273 2058.32,161.101 \n  2060.85,160.929 2063.36,160.818 2065.86,160.757 2068.33,160.646 2070.79,160.56 2073.24,160.424 2075.66,160.338 2078.07,160.289 2080.46,160.228 2082.84,160.178 \n  2085.2,160.129 2087.55,160.043 2089.88,159.982 2092.19,159.908 2094.49,159.834 2096.78,159.772 2099.05,159.686 2101.3,159.625 2103.55,159.6 2105.77,159.539 \n  2107.99,159.489 2110.19,159.416 2112.38,159.391 2114.55,159.354 2116.71,159.305 2118.86,159.243 2120.99,159.231 2123.11,159.219 2125.22,159.157 2127.32,159.145 \n  2129.4,159.12 2131.47,159.096 2133.54,159.084 2135.58,159.059 2137.62,159.047 2139.64,159.022 2141.66,158.997 2143.66,158.961 2145.65,158.961 2147.63,158.924 \n  2149.6,158.924 2151.56,158.924 2153.5,158.911 2155.44,158.899 2157.37,158.899 2159.28,158.887 2161.19,158.862 2163.08,158.85 2164.97,158.838 2166.84,158.838 \n  2168.71,158.813 2170.57,158.788 2172.41,158.776 2174.25,158.751 2176.07,158.751 2177.89,158.751 2179.7,158.739 2181.5,158.739 2183.29,158.739 2185.07,158.727 \n  2186.84,158.727 2188.61,158.715 2190.36,158.715 2192.11,158.715 2193.85,158.715 2195.58,158.715 2197.3,158.715 2199.01,158.702 2200.71,158.702 2202.41,158.702 \n  2204.1,158.678 2205.78,158.678 2207.45,158.653 2209.12,158.653 2210.77,158.641 2212.42,158.641 2214.06,158.641 2215.7,158.641 2217.32,158.641 2218.94,158.641 \n  2220.55,158.641 2222.16,158.628 2223.75,158.628 2225.34,158.628 2226.93,158.628 2228.5,158.628 2230.07,158.628 2231.63,158.628 2233.19,158.628 2234.74,158.616 \n  2236.28,158.616 2237.82,158.616 2239.34,158.616 2240.87,158.616 2242.38,158.616 2243.89,158.616 2245.39,158.616 2246.89,158.616 2248.38,158.616 2249.86,158.616 \n  2251.34,158.616 2252.81,158.616 2254.28,158.616 2255.74,158.616 2257.19,158.616 2258.64,158.604 2260.08,158.591 2261.51,158.591 2262.94,158.591 2264.37,158.591 \n  2265.79,158.591 2267.2,158.591 2268.61,158.591 2270.01,158.591 2271.41,158.591 2272.8,158.591 2274.18,158.591 2275.56,158.591 2276.94,158.591 2278.31,158.591 \n  2279.67,158.591 2281.03,158.591 2282.38,158.591 2283.73,158.591 2285.08,158.591 2286.41,158.591 2287.75,158.591 2289.08,158.591 2290.4,158.591 2291.72,158.591 \n  2293.03,158.579 \n  \"/>\n<path clip-path=\"url(#clip1700)\" d=\"\nM2006 507.595 L2280.76 507.595 L2280.76 205.195 L2006 205.195  Z\n  \" fill=\"#ffffff\" fill-rule=\"evenodd\" fill-opacity=\"1\"/>\n<polyline clip-path=\"url(#clip1700)\" style=\"stroke:#000000; stroke-width:4; stroke-opacity:1; fill:none\" points=\"\n  2006,507.595 2280.76,507.595 2280.76,205.195 2006,205.195 2006,507.595 \n  \"/>\n<polyline clip-path=\"url(#clip1700)\" style=\"stroke:#009af9; stroke-width:4; stroke-opacity:1; fill:none\" points=\"\n  2030,265.675 2174,265.675 \n  \"/>\n<g clip-path=\"url(#clip1700)\">\n<text style=\"fill:#000000; fill-opacity:1; font-family:Arial,Helvetica Neue,Helvetica,sans-serif; font-size:48px; text-anchor:start;\" transform=\"rotate(0, 2198, 283.175)\" x=\"2198\" y=\"283.175\">S</text>\n</g>\n<polyline clip-path=\"url(#clip1700)\" style=\"stroke:#e26f46; stroke-width:4; stroke-opacity:1; fill:none\" points=\"\n  2030,326.155 2174,326.155 \n  \"/>\n<g clip-path=\"url(#clip1700)\">\n<text style=\"fill:#000000; fill-opacity:1; font-family:Arial,Helvetica Neue,Helvetica,sans-serif; font-size:48px; text-anchor:start;\" transform=\"rotate(0, 2198, 343.655)\" x=\"2198\" y=\"343.655\">E</text>\n</g>\n<polyline clip-path=\"url(#clip1700)\" style=\"stroke:#3da44d; stroke-width:4; stroke-opacity:1; fill:none\" points=\"\n  2030,386.635 2174,386.635 \n  \"/>\n<g clip-path=\"url(#clip1700)\">\n<text style=\"fill:#000000; fill-opacity:1; font-family:Arial,Helvetica Neue,Helvetica,sans-serif; font-size:48px; text-anchor:start;\" transform=\"rotate(0, 2198, 404.135)\" x=\"2198\" y=\"404.135\">I</text>\n</g>\n<polyline clip-path=\"url(#clip1700)\" style=\"stroke:#c271d2; stroke-width:4; stroke-opacity:1; fill:none\" points=\"\n  2030,447.115 2174,447.115 \n  \"/>\n<g clip-path=\"url(#clip1700)\">\n<text style=\"fill:#000000; fill-opacity:1; font-family:Arial,Helvetica Neue,Helvetica,sans-serif; font-size:48px; text-anchor:start;\" transform=\"rotate(0, 2198, 464.615)\" x=\"2198\" y=\"464.615\">R</text>\n</g>\n</svg>\n"
               },
               "type": "node"
              }
             ],
             "instanceArgs": {
              "namespace": "html",
              "tag": "div"
             },
             "nodeType": "DOM",
             "props": {
              "className": "interact-flex-row interact-widget"
             },
             "type": "node"
            }
           }
          },
          "systemjs_options": null
         },
         "nodeType": "Scope",
         "props": {},
         "type": "node"
        }
       ],
       "instanceArgs": {
        "namespace": "html",
        "tag": "div"
       },
       "nodeType": "DOM",
       "props": {},
       "type": "node"
      },
      "text/html": [
       "<div\n",
       "    class=\"webio-mountpoint\"\n",
       "    data-webio-mountpoint=\"11295216661854222209\"\n",
       ">\n",
       "    <script>\n",
       "    if (window.require && require.defined && require.defined(\"nbextensions/webio-jupyter-notebook\")) {\n",
       "        console.log(\"Jupyter WebIO extension detected, not mounting.\");\n",
       "    } else if (window.WebIO) {\n",
       "        WebIO.mount(\n",
       "            document.querySelector('[data-webio-mountpoint=\"11295216661854222209\"]'),\n",
       "            {\"props\":{},\"nodeType\":\"DOM\",\"type\":\"node\",\"instanceArgs\":{\"namespace\":\"html\",\"tag\":\"div\"},\"children\":[{\"props\":{\"className\":\"field interact-widget\"},\"nodeType\":\"DOM\",\"type\":\"node\",\"instanceArgs\":{\"namespace\":\"html\",\"tag\":\"div\"},\"children\":[{\"props\":{},\"nodeType\":\"Scope\",\"type\":\"node\",\"instanceArgs\":{\"imports\":{\"data\":[{\"name\":\"knockout\",\"type\":\"js\",\"url\":\"\\/assetserver\\/847903f5df732148b510ba93542242ba69c4346c-knockout.js\"},{\"name\":\"knockout_punches\",\"type\":\"js\",\"url\":\"\\/assetserver\\/c0b325de111f2589153d52b7b74e82babec63146-knockout_punches.js\"},{\"name\":null,\"type\":\"js\",\"url\":\"\\/assetserver\\/51952c19a9a6ce93cd17825f07a8fe28d322efde-all.js\"},{\"name\":null,\"type\":\"css\",\"url\":\"\\/assetserver\\/104d64c7b780621be0c8d84ac84d7a5a84de4524-style.css\"},{\"name\":null,\"type\":\"css\",\"url\":\"\\/assetserver\\/9e3206e22736e731411e8095c384ec75a742e5c8-bulma_confined.min.css\"}],\"type\":\"async_block\"},\"id\":\"18276822842476609109\",\"handlers\":{\"changes\":[\"(function (val){return (val!=this.model[\\\"changes\\\"]()) ? (this.valueFromJulia[\\\"changes\\\"]=true, this.model[\\\"changes\\\"](val)) : undefined})\"],\"index\":[\"(function (val){return (val!=this.model[\\\"index\\\"]()) ? (this.valueFromJulia[\\\"index\\\"]=true, this.model[\\\"index\\\"](val)) : undefined})\"]},\"systemjs_options\":null,\"mount_callbacks\":[\"function () {\\n    var handler = (function (ko, koPunches) {\\n    ko.punches.enableAll();\\n    ko.bindingHandlers.numericValue = {\\n        init: function(element, valueAccessor, allBindings, data, context) {\\n            var stringified = ko.observable(ko.unwrap(valueAccessor()));\\n            stringified.subscribe(function(value) {\\n                var val = parseFloat(value);\\n                if (!isNaN(val)) {\\n                    valueAccessor()(val);\\n                }\\n            });\\n            valueAccessor().subscribe(function(value) {\\n                var str = JSON.stringify(value);\\n                if ((str == \\\"0\\\") && ([\\\"-0\\\", \\\"-0.\\\"].indexOf(stringified()) >= 0))\\n                     return;\\n                 if ([\\\"null\\\", \\\"\\\"].indexOf(str) >= 0)\\n                     return;\\n                stringified(str);\\n            });\\n            ko.applyBindingsToNode(\\n                element,\\n                {\\n                    value: stringified,\\n                    valueUpdate: allBindings.get('valueUpdate'),\\n                },\\n                context,\\n            );\\n        }\\n    };\\n    var json_data = {\\\"formatted_vals\\\":[\\\"0.125\\\",\\\"0.25\\\",\\\"0.375\\\",\\\"0.5\\\",\\\"0.625\\\",\\\"0.75\\\",\\\"0.875\\\",\\\"1.0\\\"],\\\"changes\\\":WebIO.getval({\\\"name\\\":\\\"changes\\\",\\\"scope\\\":\\\"18276822842476609109\\\",\\\"id\\\":\\\"12852112473873830512\\\",\\\"type\\\":\\\"observable\\\"}),\\\"index\\\":WebIO.getval({\\\"name\\\":\\\"index\\\",\\\"scope\\\":\\\"18276822842476609109\\\",\\\"id\\\":\\\"5372213060805197056\\\",\\\"type\\\":\\\"observable\\\"})};\\n    var self = this;\\n    function AppViewModel() {\\n        for (var key in json_data) {\\n            var el = json_data[key];\\n            this[key] = Array.isArray(el) ? ko.observableArray(el) : ko.observable(el);\\n        }\\n        \\n        [this[\\\"formatted_val\\\"]=ko.computed(    function(){\\n        return this.formatted_vals()[parseInt(this.index())-(1)];\\n    }\\n,this)]\\n        [this[\\\"changes\\\"].subscribe((function (val){!(this.valueFromJulia[\\\"changes\\\"]) ? (WebIO.setval({\\\"name\\\":\\\"changes\\\",\\\"scope\\\":\\\"18276822842476609109\\\",\\\"id\\\":\\\"12852112473873830512\\\",\\\"type\\\":\\\"observable\\\"},val)) : undefined; return this.valueFromJulia[\\\"changes\\\"]=false}),self),this[\\\"index\\\"].subscribe((function (val){!(this.valueFromJulia[\\\"index\\\"]) ? (WebIO.setval({\\\"name\\\":\\\"index\\\",\\\"scope\\\":\\\"18276822842476609109\\\",\\\"id\\\":\\\"5372213060805197056\\\",\\\"type\\\":\\\"observable\\\"},val)) : undefined; return this.valueFromJulia[\\\"index\\\"]=false}),self)]\\n        \\n    }\\n    self.model = new AppViewModel();\\n    self.valueFromJulia = {};\\n    for (var key in json_data) {\\n        self.valueFromJulia[key] = false;\\n    }\\n    ko.applyBindings(self.model, self.dom);\\n}\\n);\\n    (WebIO.importBlock({\\\"data\\\":[{\\\"name\\\":\\\"knockout\\\",\\\"type\\\":\\\"js\\\",\\\"url\\\":\\\"\\/assetserver\\/847903f5df732148b510ba93542242ba69c4346c-knockout.js\\\"},{\\\"name\\\":\\\"knockout_punches\\\",\\\"type\\\":\\\"js\\\",\\\"url\\\":\\\"\\/assetserver\\/c0b325de111f2589153d52b7b74e82babec63146-knockout_punches.js\\\"}],\\\"type\\\":\\\"async_block\\\"})).then((imports) => handler.apply(this, imports));\\n}\\n\"],\"observables\":{\"changes\":{\"sync\":false,\"id\":\"12852112473873830512\",\"value\":0},\"index\":{\"sync\":true,\"id\":\"5372213060805197056\",\"value\":2}}},\"children\":[{\"props\":{\"className\":\"interact-flex-row interact-widget\"},\"nodeType\":\"DOM\",\"type\":\"node\",\"instanceArgs\":{\"namespace\":\"html\",\"tag\":\"div\"},\"children\":[{\"props\":{\"className\":\"interact-flex-row-left\"},\"nodeType\":\"DOM\",\"type\":\"node\",\"instanceArgs\":{\"namespace\":\"html\",\"tag\":\"div\"},\"children\":[{\"props\":{\"className\":\"interact \",\"style\":{\"padding\":\"5px 10px 0px 10px\"}},\"nodeType\":\"DOM\",\"type\":\"node\",\"instanceArgs\":{\"namespace\":\"html\",\"tag\":\"label\"},\"children\":[\"p_E\"]}]},{\"props\":{\"className\":\"interact-flex-row-center\"},\"nodeType\":\"DOM\",\"type\":\"node\",\"instanceArgs\":{\"namespace\":\"html\",\"tag\":\"div\"},\"children\":[{\"props\":{\"max\":8,\"min\":1,\"attributes\":{\"type\":\"range\",\"data-bind\":\"numericValue: index, valueUpdate: 'input', event: {change: function (){this.changes(this.changes()+1)}}\",\"orient\":\"horizontal\"},\"step\":1,\"className\":\"slider slider is-fullwidth\",\"style\":{}},\"nodeType\":\"DOM\",\"type\":\"node\",\"instanceArgs\":{\"namespace\":\"html\",\"tag\":\"input\"},\"children\":[]}]},{\"props\":{\"className\":\"interact-flex-row-right\"},\"nodeType\":\"DOM\",\"type\":\"node\",\"instanceArgs\":{\"namespace\":\"html\",\"tag\":\"div\"},\"children\":[{\"props\":{\"attributes\":{\"data-bind\":\"text: formatted_val\"}},\"nodeType\":\"DOM\",\"type\":\"node\",\"instanceArgs\":{\"namespace\":\"html\",\"tag\":\"p\"},\"children\":[]}]}]}]}]},{\"props\":{\"className\":\"field interact-widget\"},\"nodeType\":\"DOM\",\"type\":\"node\",\"instanceArgs\":{\"namespace\":\"html\",\"tag\":\"div\"},\"children\":[{\"props\":{},\"nodeType\":\"Scope\",\"type\":\"node\",\"instanceArgs\":{\"imports\":{\"data\":[{\"name\":\"knockout\",\"type\":\"js\",\"url\":\"\\/assetserver\\/847903f5df732148b510ba93542242ba69c4346c-knockout.js\"},{\"name\":\"knockout_punches\",\"type\":\"js\",\"url\":\"\\/assetserver\\/c0b325de111f2589153d52b7b74e82babec63146-knockout_punches.js\"},{\"name\":null,\"type\":\"js\",\"url\":\"\\/assetserver\\/51952c19a9a6ce93cd17825f07a8fe28d322efde-all.js\"},{\"name\":null,\"type\":\"css\",\"url\":\"\\/assetserver\\/104d64c7b780621be0c8d84ac84d7a5a84de4524-style.css\"},{\"name\":null,\"type\":\"css\",\"url\":\"\\/assetserver\\/9e3206e22736e731411e8095c384ec75a742e5c8-bulma_confined.min.css\"}],\"type\":\"async_block\"},\"id\":\"12485731981463297229\",\"handlers\":{\"changes\":[\"(function (val){return (val!=this.model[\\\"changes\\\"]()) ? (this.valueFromJulia[\\\"changes\\\"]=true, this.model[\\\"changes\\\"](val)) : undefined})\"],\"index\":[\"(function (val){return (val!=this.model[\\\"index\\\"]()) ? (this.valueFromJulia[\\\"index\\\"]=true, this.model[\\\"index\\\"](val)) : undefined})\"]},\"systemjs_options\":null,\"mount_callbacks\":[\"function () {\\n    var handler = (function (ko, koPunches) {\\n    ko.punches.enableAll();\\n    ko.bindingHandlers.numericValue = {\\n        init: function(element, valueAccessor, allBindings, data, context) {\\n            var stringified = ko.observable(ko.unwrap(valueAccessor()));\\n            stringified.subscribe(function(value) {\\n                var val = parseFloat(value);\\n                if (!isNaN(val)) {\\n                    valueAccessor()(val);\\n                }\\n            });\\n            valueAccessor().subscribe(function(value) {\\n                var str = JSON.stringify(value);\\n                if ((str == \\\"0\\\") && ([\\\"-0\\\", \\\"-0.\\\"].indexOf(stringified()) >= 0))\\n                     return;\\n                 if ([\\\"null\\\", \\\"\\\"].indexOf(str) >= 0)\\n                     return;\\n                stringified(str);\\n            });\\n            ko.applyBindingsToNode(\\n                element,\\n                {\\n                    value: stringified,\\n                    valueUpdate: allBindings.get('valueUpdate'),\\n                },\\n                context,\\n            );\\n        }\\n    };\\n    var json_data = {\\\"formatted_vals\\\":[\\\"0.125\\\",\\\"0.25\\\",\\\"0.375\\\",\\\"0.5\\\",\\\"0.625\\\",\\\"0.75\\\",\\\"0.875\\\",\\\"1.0\\\"],\\\"changes\\\":WebIO.getval({\\\"name\\\":\\\"changes\\\",\\\"scope\\\":\\\"12485731981463297229\\\",\\\"id\\\":\\\"6459418785297773801\\\",\\\"type\\\":\\\"observable\\\"}),\\\"index\\\":WebIO.getval({\\\"name\\\":\\\"index\\\",\\\"scope\\\":\\\"12485731981463297229\\\",\\\"id\\\":\\\"4372799646158712031\\\",\\\"type\\\":\\\"observable\\\"})};\\n    var self = this;\\n    function AppViewModel() {\\n        for (var key in json_data) {\\n            var el = json_data[key];\\n            this[key] = Array.isArray(el) ? ko.observableArray(el) : ko.observable(el);\\n        }\\n        \\n        [this[\\\"formatted_val\\\"]=ko.computed(    function(){\\n        return this.formatted_vals()[parseInt(this.index())-(1)];\\n    }\\n,this)]\\n        [this[\\\"changes\\\"].subscribe((function (val){!(this.valueFromJulia[\\\"changes\\\"]) ? (WebIO.setval({\\\"name\\\":\\\"changes\\\",\\\"scope\\\":\\\"12485731981463297229\\\",\\\"id\\\":\\\"6459418785297773801\\\",\\\"type\\\":\\\"observable\\\"},val)) : undefined; return this.valueFromJulia[\\\"changes\\\"]=false}),self),this[\\\"index\\\"].subscribe((function (val){!(this.valueFromJulia[\\\"index\\\"]) ? (WebIO.setval({\\\"name\\\":\\\"index\\\",\\\"scope\\\":\\\"12485731981463297229\\\",\\\"id\\\":\\\"4372799646158712031\\\",\\\"type\\\":\\\"observable\\\"},val)) : undefined; return this.valueFromJulia[\\\"index\\\"]=false}),self)]\\n        \\n    }\\n    self.model = new AppViewModel();\\n    self.valueFromJulia = {};\\n    for (var key in json_data) {\\n        self.valueFromJulia[key] = false;\\n    }\\n    ko.applyBindings(self.model, self.dom);\\n}\\n);\\n    (WebIO.importBlock({\\\"data\\\":[{\\\"name\\\":\\\"knockout\\\",\\\"type\\\":\\\"js\\\",\\\"url\\\":\\\"\\/assetserver\\/847903f5df732148b510ba93542242ba69c4346c-knockout.js\\\"},{\\\"name\\\":\\\"knockout_punches\\\",\\\"type\\\":\\\"js\\\",\\\"url\\\":\\\"\\/assetserver\\/c0b325de111f2589153d52b7b74e82babec63146-knockout_punches.js\\\"}],\\\"type\\\":\\\"async_block\\\"})).then((imports) => handler.apply(this, imports));\\n}\\n\"],\"observables\":{\"changes\":{\"sync\":false,\"id\":\"6459418785297773801\",\"value\":0},\"index\":{\"sync\":true,\"id\":\"4372799646158712031\",\"value\":1}}},\"children\":[{\"props\":{\"className\":\"interact-flex-row interact-widget\"},\"nodeType\":\"DOM\",\"type\":\"node\",\"instanceArgs\":{\"namespace\":\"html\",\"tag\":\"div\"},\"children\":[{\"props\":{\"className\":\"interact-flex-row-left\"},\"nodeType\":\"DOM\",\"type\":\"node\",\"instanceArgs\":{\"namespace\":\"html\",\"tag\":\"div\"},\"children\":[{\"props\":{\"className\":\"interact \",\"style\":{\"padding\":\"5px 10px 0px 10px\"}},\"nodeType\":\"DOM\",\"type\":\"node\",\"instanceArgs\":{\"namespace\":\"html\",\"tag\":\"label\"},\"children\":[\"p_I\"]}]},{\"props\":{\"className\":\"interact-flex-row-center\"},\"nodeType\":\"DOM\",\"type\":\"node\",\"instanceArgs\":{\"namespace\":\"html\",\"tag\":\"div\"},\"children\":[{\"props\":{\"max\":8,\"min\":1,\"attributes\":{\"type\":\"range\",\"data-bind\":\"numericValue: index, valueUpdate: 'input', event: {change: function (){this.changes(this.changes()+1)}}\",\"orient\":\"horizontal\"},\"step\":1,\"className\":\"slider slider is-fullwidth\",\"style\":{}},\"nodeType\":\"DOM\",\"type\":\"node\",\"instanceArgs\":{\"namespace\":\"html\",\"tag\":\"input\"},\"children\":[]}]},{\"props\":{\"className\":\"interact-flex-row-right\"},\"nodeType\":\"DOM\",\"type\":\"node\",\"instanceArgs\":{\"namespace\":\"html\",\"tag\":\"div\"},\"children\":[{\"props\":{\"attributes\":{\"data-bind\":\"text: formatted_val\"}},\"nodeType\":\"DOM\",\"type\":\"node\",\"instanceArgs\":{\"namespace\":\"html\",\"tag\":\"p\"},\"children\":[]}]}]}]}]},{\"props\":{\"className\":\"field interact-widget\"},\"nodeType\":\"DOM\",\"type\":\"node\",\"instanceArgs\":{\"namespace\":\"html\",\"tag\":\"div\"},\"children\":[{\"props\":{},\"nodeType\":\"Scope\",\"type\":\"node\",\"instanceArgs\":{\"imports\":{\"data\":[{\"name\":\"knockout\",\"type\":\"js\",\"url\":\"\\/assetserver\\/847903f5df732148b510ba93542242ba69c4346c-knockout.js\"},{\"name\":\"knockout_punches\",\"type\":\"js\",\"url\":\"\\/assetserver\\/c0b325de111f2589153d52b7b74e82babec63146-knockout_punches.js\"},{\"name\":null,\"type\":\"js\",\"url\":\"\\/assetserver\\/51952c19a9a6ce93cd17825f07a8fe28d322efde-all.js\"},{\"name\":null,\"type\":\"css\",\"url\":\"\\/assetserver\\/104d64c7b780621be0c8d84ac84d7a5a84de4524-style.css\"},{\"name\":null,\"type\":\"css\",\"url\":\"\\/assetserver\\/9e3206e22736e731411e8095c384ec75a742e5c8-bulma_confined.min.css\"}],\"type\":\"async_block\"},\"id\":\"17291436063026017917\",\"handlers\":{\"changes\":[\"(function (val){return (val!=this.model[\\\"changes\\\"]()) ? (this.valueFromJulia[\\\"changes\\\"]=true, this.model[\\\"changes\\\"](val)) : undefined})\"],\"index\":[\"(function (val){return (val!=this.model[\\\"index\\\"]()) ? (this.valueFromJulia[\\\"index\\\"]=true, this.model[\\\"index\\\"](val)) : undefined})\"]},\"systemjs_options\":null,\"mount_callbacks\":[\"function () {\\n    var handler = (function (ko, koPunches) {\\n    ko.punches.enableAll();\\n    ko.bindingHandlers.numericValue = {\\n        init: function(element, valueAccessor, allBindings, data, context) {\\n            var stringified = ko.observable(ko.unwrap(valueAccessor()));\\n            stringified.subscribe(function(value) {\\n                var val = parseFloat(value);\\n                if (!isNaN(val)) {\\n                    valueAccessor()(val);\\n                }\\n            });\\n            valueAccessor().subscribe(function(value) {\\n                var str = JSON.stringify(value);\\n                if ((str == \\\"0\\\") && ([\\\"-0\\\", \\\"-0.\\\"].indexOf(stringified()) >= 0))\\n                     return;\\n                 if ([\\\"null\\\", \\\"\\\"].indexOf(str) >= 0)\\n                     return;\\n                stringified(str);\\n            });\\n            ko.applyBindingsToNode(\\n                element,\\n                {\\n                    value: stringified,\\n                    valueUpdate: allBindings.get('valueUpdate'),\\n                },\\n                context,\\n            );\\n        }\\n    };\\n    var json_data = {\\\"formatted_vals\\\":[\\\"0.125\\\",\\\"0.25\\\",\\\"0.375\\\",\\\"0.5\\\",\\\"0.625\\\",\\\"0.75\\\",\\\"0.875\\\",\\\"1.0\\\"],\\\"changes\\\":WebIO.getval({\\\"name\\\":\\\"changes\\\",\\\"scope\\\":\\\"17291436063026017917\\\",\\\"id\\\":\\\"11408755111703707637\\\",\\\"type\\\":\\\"observable\\\"}),\\\"index\\\":WebIO.getval({\\\"name\\\":\\\"index\\\",\\\"scope\\\":\\\"17291436063026017917\\\",\\\"id\\\":\\\"976341695185995934\\\",\\\"type\\\":\\\"observable\\\"})};\\n    var self = this;\\n    function AppViewModel() {\\n        for (var key in json_data) {\\n            var el = json_data[key];\\n            this[key] = Array.isArray(el) ? ko.observableArray(el) : ko.observable(el);\\n        }\\n        \\n        [this[\\\"formatted_val\\\"]=ko.computed(    function(){\\n        return this.formatted_vals()[parseInt(this.index())-(1)];\\n    }\\n,this)]\\n        [this[\\\"changes\\\"].subscribe((function (val){!(this.valueFromJulia[\\\"changes\\\"]) ? (WebIO.setval({\\\"name\\\":\\\"changes\\\",\\\"scope\\\":\\\"17291436063026017917\\\",\\\"id\\\":\\\"11408755111703707637\\\",\\\"type\\\":\\\"observable\\\"},val)) : undefined; return this.valueFromJulia[\\\"changes\\\"]=false}),self),this[\\\"index\\\"].subscribe((function (val){!(this.valueFromJulia[\\\"index\\\"]) ? (WebIO.setval({\\\"name\\\":\\\"index\\\",\\\"scope\\\":\\\"17291436063026017917\\\",\\\"id\\\":\\\"976341695185995934\\\",\\\"type\\\":\\\"observable\\\"},val)) : undefined; return this.valueFromJulia[\\\"index\\\"]=false}),self)]\\n        \\n    }\\n    self.model = new AppViewModel();\\n    self.valueFromJulia = {};\\n    for (var key in json_data) {\\n        self.valueFromJulia[key] = false;\\n    }\\n    ko.applyBindings(self.model, self.dom);\\n}\\n);\\n    (WebIO.importBlock({\\\"data\\\":[{\\\"name\\\":\\\"knockout\\\",\\\"type\\\":\\\"js\\\",\\\"url\\\":\\\"\\/assetserver\\/847903f5df732148b510ba93542242ba69c4346c-knockout.js\\\"},{\\\"name\\\":\\\"knockout_punches\\\",\\\"type\\\":\\\"js\\\",\\\"url\\\":\\\"\\/assetserver\\/c0b325de111f2589153d52b7b74e82babec63146-knockout_punches.js\\\"}],\\\"type\\\":\\\"async_block\\\"})).then((imports) => handler.apply(this, imports));\\n}\\n\"],\"observables\":{\"changes\":{\"sync\":false,\"id\":\"11408755111703707637\",\"value\":0},\"index\":{\"sync\":true,\"id\":\"976341695185995934\",\"value\":1}}},\"children\":[{\"props\":{\"className\":\"interact-flex-row interact-widget\"},\"nodeType\":\"DOM\",\"type\":\"node\",\"instanceArgs\":{\"namespace\":\"html\",\"tag\":\"div\"},\"children\":[{\"props\":{\"className\":\"interact-flex-row-left\"},\"nodeType\":\"DOM\",\"type\":\"node\",\"instanceArgs\":{\"namespace\":\"html\",\"tag\":\"div\"},\"children\":[{\"props\":{\"className\":\"interact \",\"style\":{\"padding\":\"5px 10px 0px 10px\"}},\"nodeType\":\"DOM\",\"type\":\"node\",\"instanceArgs\":{\"namespace\":\"html\",\"tag\":\"label\"},\"children\":[\"p_R\"]}]},{\"props\":{\"className\":\"interact-flex-row-center\"},\"nodeType\":\"DOM\",\"type\":\"node\",\"instanceArgs\":{\"namespace\":\"html\",\"tag\":\"div\"},\"children\":[{\"props\":{\"max\":8,\"min\":1,\"attributes\":{\"type\":\"range\",\"data-bind\":\"numericValue: index, valueUpdate: 'input', event: {change: function (){this.changes(this.changes()+1)}}\",\"orient\":\"horizontal\"},\"step\":1,\"className\":\"slider slider is-fullwidth\",\"style\":{}},\"nodeType\":\"DOM\",\"type\":\"node\",\"instanceArgs\":{\"namespace\":\"html\",\"tag\":\"input\"},\"children\":[]}]},{\"props\":{\"className\":\"interact-flex-row-right\"},\"nodeType\":\"DOM\",\"type\":\"node\",\"instanceArgs\":{\"namespace\":\"html\",\"tag\":\"div\"},\"children\":[{\"props\":{\"attributes\":{\"data-bind\":\"text: formatted_val\"}},\"nodeType\":\"DOM\",\"type\":\"node\",\"instanceArgs\":{\"namespace\":\"html\",\"tag\":\"p\"},\"children\":[]}]}]}]}]},{\"props\":{},\"nodeType\":\"Scope\",\"type\":\"node\",\"instanceArgs\":{\"imports\":{\"data\":[],\"type\":\"async_block\"},\"id\":\"17922280726110959910\",\"handlers\":{},\"systemjs_options\":null,\"mount_callbacks\":[],\"observables\":{\"obs-node\":{\"sync\":false,\"id\":\"15241175820839596293\",\"value\":{\"props\":{\"className\":\"interact-flex-row interact-widget\"},\"nodeType\":\"DOM\",\"type\":\"node\",\"instanceArgs\":{\"namespace\":\"html\",\"tag\":\"div\"},\"children\":[{\"props\":{\"setInnerHtml\":\"<?xml version=\\\"1.0\\\" encoding=\\\"utf-8\\\"?>\\n<svg xmlns=\\\"http:\\/\\/www.w3.org\\/2000\\/svg\\\" xmlns:xlink=\\\"http:\\/\\/www.w3.org\\/1999\\/xlink\\\" width=\\\"600\\\" height=\\\"400\\\" viewBox=\\\"0 0 2400 1600\\\">\\n<defs>\\n  <clipPath id=\\\"clip1300\\\">\\n    <rect x=\\\"0\\\" y=\\\"0\\\" width=\\\"2400\\\" height=\\\"1600\\\"\\/>\\n  <\\/clipPath>\\n<\\/defs>\\n<path clip-path=\\\"url(#clip1300)\\\" d=\\\"\\nM0 1600 L2400 1600 L2400 0 L0 0  Z\\n  \\\" fill=\\\"#ffffff\\\" fill-rule=\\\"evenodd\\\" fill-opacity=\\\"1\\\"\\/>\\n<defs>\\n  <clipPath id=\\\"clip1301\\\">\\n    <rect x=\\\"480\\\" y=\\\"0\\\" width=\\\"1681\\\" height=\\\"1600\\\"\\/>\\n  <\\/clipPath>\\n<\\/defs>\\n<path clip-path=\\\"url(#clip1300)\\\" d=\\\"\\nM242.516 1425.62 L2352.76 1425.62 L2352.76 121.675 L242.516 121.675  Z\\n  \\\" fill=\\\"#ffffff\\\" fill-rule=\\\"evenodd\\\" fill-opacity=\\\"1\\\"\\/>\\n<defs>\\n  <clipPath id=\\\"clip1302\\\">\\n    <rect x=\\\"242\\\" y=\\\"121\\\" width=\\\"2111\\\" height=\\\"1305\\\"\\/>\\n  <\\/clipPath>\\n<\\/defs>\\n<polyline clip-path=\\\"url(#clip1302)\\\" style=\\\"stroke:#000000; stroke-width:2; stroke-opacity:0.1; fill:none\\\" points=\\\"\\n  302.24,1425.62 302.24,121.675 \\n  \\\"\\/>\\n<polyline clip-path=\\\"url(#clip1302)\\\" style=\\\"stroke:#000000; stroke-width:2; stroke-opacity:0.1; fill:none\\\" points=\\\"\\n  711.368,1425.62 711.368,121.675 \\n  \\\"\\/>\\n<polyline clip-path=\\\"url(#clip1302)\\\" style=\\\"stroke:#000000; stroke-width:2; stroke-opacity:0.1; fill:none\\\" points=\\\"\\n  1120.5,1425.62 1120.5,121.675 \\n  \\\"\\/>\\n<polyline clip-path=\\\"url(#clip1302)\\\" style=\\\"stroke:#000000; stroke-width:2; stroke-opacity:0.1; fill:none\\\" points=\\\"\\n  1529.62,1425.62 1529.62,121.675 \\n  \\\"\\/>\\n<polyline clip-path=\\\"url(#clip1302)\\\" style=\\\"stroke:#000000; stroke-width:2; stroke-opacity:0.1; fill:none\\\" points=\\\"\\n  1938.75,1425.62 1938.75,121.675 \\n  \\\"\\/>\\n<polyline clip-path=\\\"url(#clip1302)\\\" style=\\\"stroke:#000000; stroke-width:2; stroke-opacity:0.1; fill:none\\\" points=\\\"\\n  2347.88,1425.62 2347.88,121.675 \\n  \\\"\\/>\\n<polyline clip-path=\\\"url(#clip1302)\\\" style=\\\"stroke:#000000; stroke-width:2; stroke-opacity:0.1; fill:none\\\" points=\\\"\\n  242.516,1388.71 2352.76,1388.71 \\n  \\\"\\/>\\n<polyline clip-path=\\\"url(#clip1302)\\\" style=\\\"stroke:#000000; stroke-width:2; stroke-opacity:0.1; fill:none\\\" points=\\\"\\n  242.516,1081.18 2352.76,1081.18 \\n  \\\"\\/>\\n<polyline clip-path=\\\"url(#clip1302)\\\" style=\\\"stroke:#000000; stroke-width:2; stroke-opacity:0.1; fill:none\\\" points=\\\"\\n  242.516,773.647 2352.76,773.647 \\n  \\\"\\/>\\n<polyline clip-path=\\\"url(#clip1302)\\\" style=\\\"stroke:#000000; stroke-width:2; stroke-opacity:0.1; fill:none\\\" points=\\\"\\n  242.516,466.113 2352.76,466.113 \\n  \\\"\\/>\\n<polyline clip-path=\\\"url(#clip1302)\\\" style=\\\"stroke:#000000; stroke-width:2; stroke-opacity:0.1; fill:none\\\" points=\\\"\\n  242.516,158.579 2352.76,158.579 \\n  \\\"\\/>\\n<polyline clip-path=\\\"url(#clip1300)\\\" style=\\\"stroke:#000000; stroke-width:4; stroke-opacity:1; fill:none\\\" points=\\\"\\n  242.516,1425.62 2352.76,1425.62 \\n  \\\"\\/>\\n<polyline clip-path=\\\"url(#clip1300)\\\" style=\\\"stroke:#000000; stroke-width:4; stroke-opacity:1; fill:none\\\" points=\\\"\\n  242.516,1425.62 242.516,121.675 \\n  \\\"\\/>\\n<polyline clip-path=\\\"url(#clip1300)\\\" style=\\\"stroke:#000000; stroke-width:4; stroke-opacity:1; fill:none\\\" points=\\\"\\n  302.24,1425.62 302.24,1409.97 \\n  \\\"\\/>\\n<polyline clip-path=\\\"url(#clip1300)\\\" style=\\\"stroke:#000000; stroke-width:4; stroke-opacity:1; fill:none\\\" points=\\\"\\n  711.368,1425.62 711.368,1409.97 \\n  \\\"\\/>\\n<polyline clip-path=\\\"url(#clip1300)\\\" style=\\\"stroke:#000000; stroke-width:4; stroke-opacity:1; fill:none\\\" points=\\\"\\n  1120.5,1425.62 1120.5,1409.97 \\n  \\\"\\/>\\n<polyline clip-path=\\\"url(#clip1300)\\\" style=\\\"stroke:#000000; stroke-width:4; stroke-opacity:1; fill:none\\\" points=\\\"\\n  1529.62,1425.62 1529.62,1409.97 \\n  \\\"\\/>\\n<polyline clip-path=\\\"url(#clip1300)\\\" style=\\\"stroke:#000000; stroke-width:4; stroke-opacity:1; fill:none\\\" points=\\\"\\n  1938.75,1425.62 1938.75,1409.97 \\n  \\\"\\/>\\n<polyline clip-path=\\\"url(#clip1300)\\\" style=\\\"stroke:#000000; stroke-width:4; stroke-opacity:1; fill:none\\\" points=\\\"\\n  2347.88,1425.62 2347.88,1409.97 \\n  \\\"\\/>\\n<polyline clip-path=\\\"url(#clip1300)\\\" style=\\\"stroke:#000000; stroke-width:4; stroke-opacity:1; fill:none\\\" points=\\\"\\n  242.516,1388.71 267.839,1388.71 \\n  \\\"\\/>\\n<polyline clip-path=\\\"url(#clip1300)\\\" style=\\\"stroke:#000000; stroke-width:4; stroke-opacity:1; fill:none\\\" points=\\\"\\n  242.516,1081.18 267.839,1081.18 \\n  \\\"\\/>\\n<polyline clip-path=\\\"url(#clip1300)\\\" style=\\\"stroke:#000000; stroke-width:4; stroke-opacity:1; fill:none\\\" points=\\\"\\n  242.516,773.647 267.839,773.647 \\n  \\\"\\/>\\n<polyline clip-path=\\\"url(#clip1300)\\\" style=\\\"stroke:#000000; stroke-width:4; stroke-opacity:1; fill:none\\\" points=\\\"\\n  242.516,466.113 267.839,466.113 \\n  \\\"\\/>\\n<polyline clip-path=\\\"url(#clip1300)\\\" style=\\\"stroke:#000000; stroke-width:4; stroke-opacity:1; fill:none\\\" points=\\\"\\n  242.516,158.579 267.839,158.579 \\n  \\\"\\/>\\n<g clip-path=\\\"url(#clip1300)\\\">\\n<text style=\\\"fill:#000000; fill-opacity:1; font-family:Arial,Helvetica Neue,Helvetica,sans-serif; font-size:48px; text-anchor:start;\\\" transform=\\\"rotate(0, 248.297, 1500.63)\\\" x=\\\"248.297\\\" y=\\\"1500.63\\\">10<\\/text>\\n<\\/g>\\n<g clip-path=\\\"url(#clip1300)\\\">\\n<text style=\\\"fill:#000000; fill-opacity:1; font-family:Arial,Helvetica Neue,Helvetica,sans-serif; font-size:38px; text-anchor:start;\\\" transform=\\\"rotate(0, 301.822, 1473.22)\\\" x=\\\"301.822\\\" y=\\\"1473.22\\\">0.0<\\/text>\\n<\\/g>\\n<g clip-path=\\\"url(#clip1300)\\\">\\n<text style=\\\"fill:#000000; fill-opacity:1; font-family:Arial,Helvetica Neue,Helvetica,sans-serif; font-size:48px; text-anchor:start;\\\" transform=\\\"rotate(0, 657.425, 1500.63)\\\" x=\\\"657.425\\\" y=\\\"1500.63\\\">10<\\/text>\\n<\\/g>\\n<g clip-path=\\\"url(#clip1300)\\\">\\n<text style=\\\"fill:#000000; fill-opacity:1; font-family:Arial,Helvetica Neue,Helvetica,sans-serif; font-size:38px; text-anchor:start;\\\" transform=\\\"rotate(0, 710.95, 1473.22)\\\" x=\\\"710.95\\\" y=\\\"1473.22\\\">0.5<\\/text>\\n<\\/g>\\n<g clip-path=\\\"url(#clip1300)\\\">\\n<text style=\\\"fill:#000000; fill-opacity:1; font-family:Arial,Helvetica Neue,Helvetica,sans-serif; font-size:48px; text-anchor:start;\\\" transform=\\\"rotate(0, 1066.55, 1500.63)\\\" x=\\\"1066.55\\\" y=\\\"1500.63\\\">10<\\/text>\\n<\\/g>\\n<g clip-path=\\\"url(#clip1300)\\\">\\n<text style=\\\"fill:#000000; fill-opacity:1; font-family:Arial,Helvetica Neue,Helvetica,sans-serif; font-size:38px; text-anchor:start;\\\" transform=\\\"rotate(0, 1120.08, 1473.22)\\\" x=\\\"1120.08\\\" y=\\\"1473.22\\\">1.0<\\/text>\\n<\\/g>\\n<g clip-path=\\\"url(#clip1300)\\\">\\n<text style=\\\"fill:#000000; fill-opacity:1; font-family:Arial,Helvetica Neue,Helvetica,sans-serif; font-size:48px; text-anchor:start;\\\" transform=\\\"rotate(0, 1475.68, 1500.63)\\\" x=\\\"1475.68\\\" y=\\\"1500.63\\\">10<\\/text>\\n<\\/g>\\n<g clip-path=\\\"url(#clip1300)\\\">\\n<text style=\\\"fill:#000000; fill-opacity:1; font-family:Arial,Helvetica Neue,Helvetica,sans-serif; font-size:38px; text-anchor:start;\\\" transform=\\\"rotate(0, 1529.21, 1473.22)\\\" x=\\\"1529.21\\\" y=\\\"1473.22\\\">1.5<\\/text>\\n<\\/g>\\n<g clip-path=\\\"url(#clip1300)\\\">\\n<text style=\\\"fill:#000000; fill-opacity:1; font-family:Arial,Helvetica Neue,Helvetica,sans-serif; font-size:48px; text-anchor:start;\\\" transform=\\\"rotate(0, 1884.81, 1500.63)\\\" x=\\\"1884.81\\\" y=\\\"1500.63\\\">10<\\/text>\\n<\\/g>\\n<g clip-path=\\\"url(#clip1300)\\\">\\n<text style=\\\"fill:#000000; fill-opacity:1; font-family:Arial,Helvetica Neue,Helvetica,sans-serif; font-size:38px; text-anchor:start;\\\" transform=\\\"rotate(0, 1938.33, 1473.22)\\\" x=\\\"1938.33\\\" y=\\\"1473.22\\\">2.0<\\/text>\\n<\\/g>\\n<g clip-path=\\\"url(#clip1300)\\\">\\n<text style=\\\"fill:#000000; fill-opacity:1; font-family:Arial,Helvetica Neue,Helvetica,sans-serif; font-size:48px; text-anchor:start;\\\" transform=\\\"rotate(0, 2293.94, 1500.63)\\\" x=\\\"2293.94\\\" y=\\\"1500.63\\\">10<\\/text>\\n<\\/g>\\n<g clip-path=\\\"url(#clip1300)\\\">\\n<text style=\\\"fill:#000000; fill-opacity:1; font-family:Arial,Helvetica Neue,Helvetica,sans-serif; font-size:38px; text-anchor:start;\\\" transform=\\\"rotate(0, 2347.46, 1473.22)\\\" x=\\\"2347.46\\\" y=\\\"1473.22\\\">2.5<\\/text>\\n<\\/g>\\n<g clip-path=\\\"url(#clip1300)\\\">\\n<text style=\\\"fill:#000000; fill-opacity:1; font-family:Arial,Helvetica Neue,Helvetica,sans-serif; font-size:48px; text-anchor:end;\\\" transform=\\\"rotate(0, 218.516, 1406.21)\\\" x=\\\"218.516\\\" y=\\\"1406.21\\\">0.00<\\/text>\\n<\\/g>\\n<g clip-path=\\\"url(#clip1300)\\\">\\n<text style=\\\"fill:#000000; fill-opacity:1; font-family:Arial,Helvetica Neue,Helvetica,sans-serif; font-size:48px; text-anchor:end;\\\" transform=\\\"rotate(0, 218.516, 1098.68)\\\" x=\\\"218.516\\\" y=\\\"1098.68\\\">0.25<\\/text>\\n<\\/g>\\n<g clip-path=\\\"url(#clip1300)\\\">\\n<text style=\\\"fill:#000000; fill-opacity:1; font-family:Arial,Helvetica Neue,Helvetica,sans-serif; font-size:48px; text-anchor:end;\\\" transform=\\\"rotate(0, 218.516, 791.147)\\\" x=\\\"218.516\\\" y=\\\"791.147\\\">0.50<\\/text>\\n<\\/g>\\n<g clip-path=\\\"url(#clip1300)\\\">\\n<text style=\\\"fill:#000000; fill-opacity:1; font-family:Arial,Helvetica Neue,Helvetica,sans-serif; font-size:48px; text-anchor:end;\\\" transform=\\\"rotate(0, 218.516, 483.613)\\\" x=\\\"218.516\\\" y=\\\"483.613\\\">0.75<\\/text>\\n<\\/g>\\n<g clip-path=\\\"url(#clip1300)\\\">\\n<text style=\\\"fill:#000000; fill-opacity:1; font-family:Arial,Helvetica Neue,Helvetica,sans-serif; font-size:48px; text-anchor:end;\\\" transform=\\\"rotate(0, 218.516, 176.079)\\\" x=\\\"218.516\\\" y=\\\"176.079\\\">1.00<\\/text>\\n<\\/g>\\n<g clip-path=\\\"url(#clip1300)\\\">\\n<text style=\\\"fill:#000000; fill-opacity:1; font-family:Arial,Helvetica Neue,Helvetica,sans-serif; font-size:84px; text-anchor:middle;\\\" transform=\\\"rotate(0, 1297.64, 73.2)\\\" x=\\\"1297.64\\\" y=\\\"73.2\\\">SEIR Model<\\/text>\\n<\\/g>\\n<g clip-path=\\\"url(#clip1300)\\\">\\n<text style=\\\"fill:#000000; fill-opacity:1; font-family:Arial,Helvetica Neue,Helvetica,sans-serif; font-size:66px; text-anchor:middle;\\\" transform=\\\"rotate(0, 1297.64, 1559.48)\\\" x=\\\"1297.64\\\" y=\\\"1559.48\\\">time<\\/text>\\n<\\/g>\\n<g clip-path=\\\"url(#clip1300)\\\">\\n<text style=\\\"fill:#000000; fill-opacity:1; font-family:Arial,Helvetica Neue,Helvetica,sans-serif; font-size:66px; text-anchor:middle;\\\" transform=\\\"rotate(-90, 89.2861, 773.647)\\\" x=\\\"89.2861\\\" y=\\\"773.647\\\">p [%]<\\/text>\\n<\\/g>\\n<polyline clip-path=\\\"url(#clip1302)\\\" style=\\\"stroke:#009af9; stroke-width:4; stroke-opacity:1; fill:none\\\" points=\\\"\\n  302.24,158.579 548.56,467.159 692.648,697.969 794.879,868.712 874.177,997.212 938.967,1095.75 993.747,1168.21 1041.2,1223.36 1083.05,1265.39 1120.5,1295.77 \\n  1154.37,1319.94 1185.29,1337.04 1213.73,1350.49 1240.07,1360.45 1264.58,1367.91 1287.52,1373.5 1309.06,1377.16 1329.37,1379.97 1348.59,1381.85 1366.82,1383.58 \\n  1384.15,1384.88 1400.69,1385.75 1416.48,1386.43 1431.61,1387 1446.11,1387.47 1460.05,1387.78 1473.46,1388.04 1486.39,1388.26 1498.86,1388.38 1510.9,1388.43 \\n  1522.56,1388.49 1533.84,1388.58 1544.77,1388.6 1555.38,1388.64 1565.68,1388.67 1575.69,1388.68 1585.43,1388.68 1594.91,1388.68 1604.14,1388.68 1613.14,1388.68 \\n  1621.91,1388.7 1630.47,1388.7 1638.84,1388.7 1647.01,1388.7 1654.99,1388.71 1662.8,1388.71 1670.44,1388.71 1677.93,1388.71 1685.25,1388.71 1692.43,1388.71 \\n  1699.47,1388.71 1706.37,1388.71 1713.14,1388.71 1719.78,1388.71 1726.3,1388.71 1732.71,1388.71 1739,1388.71 1745.18,1388.71 1751.25,1388.71 1757.22,1388.71 \\n  1763.1,1388.71 1768.88,1388.71 1774.56,1388.71 1780.16,1388.71 1785.67,1388.71 1791.09,1388.71 1796.44,1388.71 1801.7,1388.71 1806.89,1388.71 1812,1388.71 \\n  1817.04,1388.71 1822.01,1388.71 1826.92,1388.71 1831.75,1388.71 1836.52,1388.71 1841.23,1388.71 1845.87,1388.71 1850.46,1388.71 1854.99,1388.71 1859.46,1388.71 \\n  1863.87,1388.71 1868.23,1388.71 1872.54,1388.71 1876.79,1388.71 1881,1388.71 1885.16,1388.71 1889.26,1388.71 1893.32,1388.71 1897.34,1388.71 1901.31,1388.71 \\n  1905.24,1388.71 1909.12,1388.71 1912.96,1388.71 1916.76,1388.71 1920.52,1388.71 1924.25,1388.71 1927.93,1388.71 1931.57,1388.71 1935.18,1388.71 1938.75,1388.71 \\n  1942.29,1388.71 1945.79,1388.71 1949.26,1388.71 1952.69,1388.71 1956.09,1388.71 1959.46,1388.71 1962.8,1388.71 1966.1,1388.71 1969.38,1388.71 1972.62,1388.71 \\n  1975.84,1388.71 1979.03,1388.71 1982.18,1388.71 1985.32,1388.71 1988.42,1388.71 1991.5,1388.71 1994.55,1388.71 1997.57,1388.71 2000.57,1388.71 2003.54,1388.71 \\n  2006.49,1388.71 2009.42,1388.71 2012.32,1388.71 2015.2,1388.71 2018.05,1388.71 2020.88,1388.71 2023.69,1388.71 2026.48,1388.71 2029.24,1388.71 2031.99,1388.71 \\n  2034.71,1388.71 2037.41,1388.71 2040.09,1388.71 2042.76,1388.71 2045.4,1388.71 2048.02,1388.71 2050.62,1388.71 2053.21,1388.71 2055.78,1388.71 2058.32,1388.71 \\n  2060.85,1388.71 2063.36,1388.71 2065.86,1388.71 2068.33,1388.71 2070.79,1388.71 2073.24,1388.71 2075.66,1388.71 2078.07,1388.71 2080.46,1388.71 2082.84,1388.71 \\n  2085.2,1388.71 2087.55,1388.71 2089.88,1388.71 2092.19,1388.71 2094.49,1388.71 2096.78,1388.71 2099.05,1388.71 2101.3,1388.71 2103.55,1388.71 2105.77,1388.71 \\n  2107.99,1388.71 2110.19,1388.71 2112.38,1388.71 2114.55,1388.71 2116.71,1388.71 2118.86,1388.71 2120.99,1388.71 2123.11,1388.71 2125.22,1388.71 2127.32,1388.71 \\n  2129.4,1388.71 2131.47,1388.71 2133.54,1388.71 2135.58,1388.71 2137.62,1388.71 2139.64,1388.71 2141.66,1388.71 2143.66,1388.71 2145.65,1388.71 2147.63,1388.71 \\n  2149.6,1388.71 2151.56,1388.71 2153.5,1388.71 2155.44,1388.71 2157.37,1388.71 2159.28,1388.71 2161.19,1388.71 2163.08,1388.71 2164.97,1388.71 2166.84,1388.71 \\n  2168.71,1388.71 2170.57,1388.71 2172.41,1388.71 2174.25,1388.71 2176.07,1388.71 2177.89,1388.71 2179.7,1388.71 2181.5,1388.71 2183.29,1388.71 2185.07,1388.71 \\n  2186.84,1388.71 2188.61,1388.71 2190.36,1388.71 2192.11,1388.71 2193.85,1388.71 2195.58,1388.71 2197.3,1388.71 2199.01,1388.71 2200.71,1388.71 2202.41,1388.71 \\n  2204.1,1388.71 2205.78,1388.71 2207.45,1388.71 2209.12,1388.71 2210.77,1388.71 2212.42,1388.71 2214.06,1388.71 2215.7,1388.71 2217.32,1388.71 2218.94,1388.71 \\n  2220.55,1388.71 2222.16,1388.71 2223.75,1388.71 2225.34,1388.71 2226.93,1388.71 2228.5,1388.71 2230.07,1388.71 2231.63,1388.71 2233.19,1388.71 2234.74,1388.71 \\n  2236.28,1388.71 2237.82,1388.71 2239.34,1388.71 2240.87,1388.71 2242.38,1388.71 2243.89,1388.71 2245.39,1388.71 2246.89,1388.71 2248.38,1388.71 2249.86,1388.71 \\n  2251.34,1388.71 2252.81,1388.71 2254.28,1388.71 2255.74,1388.71 2257.19,1388.71 2258.64,1388.71 2260.08,1388.71 2261.51,1388.71 2262.94,1388.71 2264.37,1388.71 \\n  2265.79,1388.71 2267.2,1388.71 2268.61,1388.71 2270.01,1388.71 2271.41,1388.71 2272.8,1388.71 2274.18,1388.71 2275.56,1388.71 2276.94,1388.71 2278.31,1388.71 \\n  2279.67,1388.71 2281.03,1388.71 2282.38,1388.71 2283.73,1388.71 2285.08,1388.71 2286.41,1388.71 2287.75,1388.71 2289.08,1388.71 2290.4,1388.71 2291.72,1388.71 \\n  2293.03,1388.71 \\n  \\\"\\/>\\n<polyline clip-path=\\\"url(#clip1302)\\\" style=\\\"stroke:#e26f46; stroke-width:4; stroke-opacity:1; fill:none\\\" points=\\\"\\n  302.24,1388.71 548.56,1080.14 692.648,881.062 794.879,761.382 874.177,696.456 938.967,667.892 993.747,668.249 1041.2,685.2 1083.05,712.952 1120.5,750.225 \\n  1154.37,790.389 1185.29,833.973 1213.73,876.535 1240.07,916.687 1264.58,956.753 1287.52,994.948 1309.06,1030.54 1329.37,1062.96 1348.59,1094.1 1366.82,1121.71 \\n  1384.15,1148.2 1400.69,1172.06 1416.48,1193.12 1431.61,1212.34 1446.11,1229.82 1460.05,1245.13 1473.46,1259.81 1486.39,1272.91 1498.86,1284.52 1510.9,1295.21 \\n  1522.56,1304.04 1533.84,1312.77 1544.77,1321.01 1555.38,1328.11 1565.68,1334.16 1575.69,1339.68 1585.43,1344.91 1594.91,1348.9 1604.14,1353.24 1613.14,1357.12 \\n  1621.91,1360.36 1630.47,1363.18 1638.84,1365.65 1647.01,1368.04 1654.99,1370.16 1662.8,1371.91 1670.44,1373.56 1677.93,1375.1 1685.25,1376.45 1692.43,1377.73 \\n  1699.47,1378.79 1706.37,1379.8 1713.14,1380.64 1719.78,1381.32 1726.3,1382.23 1732.71,1383.02 1739,1383.55 1745.18,1384.06 1751.25,1384.5 1757.22,1384.88 \\n  1763.1,1385.18 1768.88,1385.48 1774.56,1385.76 1780.16,1386.07 1785.67,1386.3 1791.09,1386.64 1796.44,1386.87 1801.7,1387.08 1806.89,1387.2 1812,1387.31 \\n  1817.04,1387.45 1822.01,1387.55 1826.92,1387.72 1831.75,1387.79 1836.52,1387.87 1841.23,1387.94 1845.87,1388 1850.46,1388.07 1854.99,1388.15 1859.46,1388.23 \\n  1863.87,1388.3 1868.23,1388.31 1872.54,1388.36 1876.79,1388.39 1881,1388.46 1885.16,1388.48 1889.26,1388.49 1893.32,1388.49 1897.34,1388.53 1901.31,1388.55 \\n  1905.24,1388.58 1909.12,1388.58 1912.96,1388.58 1916.76,1388.59 1920.52,1388.59 1924.25,1388.6 1927.93,1388.62 1931.57,1388.62 1935.18,1388.64 1938.75,1388.64 \\n  1942.29,1388.64 1945.79,1388.67 1949.26,1388.67 1952.69,1388.68 1956.09,1388.69 1959.46,1388.69 1962.8,1388.69 1966.1,1388.7 1969.38,1388.7 1972.62,1388.7 \\n  1975.84,1388.7 1979.03,1388.7 1982.18,1388.71 1985.32,1388.71 1988.42,1388.71 1991.5,1388.71 1994.55,1388.71 1997.57,1388.71 2000.57,1388.71 2003.54,1388.71 \\n  2006.49,1388.71 2009.42,1388.71 2012.32,1388.71 2015.2,1388.71 2018.05,1388.71 2020.88,1388.71 2023.69,1388.71 2026.48,1388.71 2029.24,1388.71 2031.99,1388.71 \\n  2034.71,1388.71 2037.41,1388.71 2040.09,1388.71 2042.76,1388.71 2045.4,1388.71 2048.02,1388.71 2050.62,1388.71 2053.21,1388.71 2055.78,1388.71 2058.32,1388.71 \\n  2060.85,1388.71 2063.36,1388.71 2065.86,1388.71 2068.33,1388.71 2070.79,1388.71 2073.24,1388.71 2075.66,1388.71 2078.07,1388.71 2080.46,1388.71 2082.84,1388.71 \\n  2085.2,1388.71 2087.55,1388.71 2089.88,1388.71 2092.19,1388.71 2094.49,1388.71 2096.78,1388.71 2099.05,1388.71 2101.3,1388.71 2103.55,1388.71 2105.77,1388.71 \\n  2107.99,1388.71 2110.19,1388.71 2112.38,1388.71 2114.55,1388.71 2116.71,1388.71 2118.86,1388.71 2120.99,1388.71 2123.11,1388.71 2125.22,1388.71 2127.32,1388.71 \\n  2129.4,1388.71 2131.47,1388.71 2133.54,1388.71 2135.58,1388.71 2137.62,1388.71 2139.64,1388.71 2141.66,1388.71 2143.66,1388.71 2145.65,1388.71 2147.63,1388.71 \\n  2149.6,1388.71 2151.56,1388.71 2153.5,1388.71 2155.44,1388.71 2157.37,1388.71 2159.28,1388.71 2161.19,1388.71 2163.08,1388.71 2164.97,1388.71 2166.84,1388.71 \\n  2168.71,1388.71 2170.57,1388.71 2172.41,1388.71 2174.25,1388.71 2176.07,1388.71 2177.89,1388.71 2179.7,1388.71 2181.5,1388.71 2183.29,1388.71 2185.07,1388.71 \\n  2186.84,1388.71 2188.61,1388.71 2190.36,1388.71 2192.11,1388.71 2193.85,1388.71 2195.58,1388.71 2197.3,1388.71 2199.01,1388.71 2200.71,1388.71 2202.41,1388.71 \\n  2204.1,1388.71 2205.78,1388.71 2207.45,1388.71 2209.12,1388.71 2210.77,1388.71 2212.42,1388.71 2214.06,1388.71 2215.7,1388.71 2217.32,1388.71 2218.94,1388.71 \\n  2220.55,1388.71 2222.16,1388.71 2223.75,1388.71 2225.34,1388.71 2226.93,1388.71 2228.5,1388.71 2230.07,1388.71 2231.63,1388.71 2233.19,1388.71 2234.74,1388.71 \\n  2236.28,1388.71 2237.82,1388.71 2239.34,1388.71 2240.87,1388.71 2242.38,1388.71 2243.89,1388.71 2245.39,1388.71 2246.89,1388.71 2248.38,1388.71 2249.86,1388.71 \\n  2251.34,1388.71 2252.81,1388.71 2254.28,1388.71 2255.74,1388.71 2257.19,1388.71 2258.64,1388.71 2260.08,1388.71 2261.51,1388.71 2262.94,1388.71 2264.37,1388.71 \\n  2265.79,1388.71 2267.2,1388.71 2268.61,1388.71 2270.01,1388.71 2271.41,1388.71 2272.8,1388.71 2274.18,1388.71 2275.56,1388.71 2276.94,1388.71 2278.31,1388.71 \\n  2279.67,1388.71 2281.03,1388.71 2282.38,1388.71 2283.73,1388.71 2285.08,1388.71 2286.41,1388.71 2287.75,1388.71 2289.08,1388.71 2290.4,1388.71 2291.72,1388.71 \\n  2293.03,1388.71 \\n  \\\"\\/>\\n<polyline clip-path=\\\"url(#clip1302)\\\" style=\\\"stroke:#3da44d; stroke-width:4; stroke-opacity:1; fill:none\\\" points=\\\"\\n  302.24,1388.71 548.56,1388.71 692.648,1356.98 794.879,1307.45 874.177,1247.72 938.967,1184.68 993.747,1121.8 1041.2,1062.91 1083.05,1009.12 1120.5,961.439 \\n  1154.37,918.225 1185.29,881.665 1213.73,851.379 1240.07,827.736 1264.58,808.411 1287.52,793.944 1309.06,784.755 1329.37,779.539 1348.59,776.956 1366.82,777.583 \\n  1384.15,780.868 1400.69,785.788 1416.48,793.796 1431.61,803.059 1446.11,814.377 1460.05,827.133 1473.46,840.96 1486.39,853.569 1498.86,868.933 1510.9,883.572 \\n  1522.56,899.969 1533.84,915.703 1544.77,931.35 1555.38,947.736 1565.68,964.158 1575.69,981.281 1585.43,996.83 1594.91,1012.54 1604.14,1026.65 1613.14,1040.22 \\n  1621.91,1053.99 1630.47,1067.33 1638.84,1080.6 1647.01,1093.4 1654.99,1106.4 1662.8,1119.14 1670.44,1131.53 1677.93,1142.96 1685.25,1153.34 1692.43,1163.92 \\n  1699.47,1173.98 1706.37,1184.27 1713.14,1193.86 1719.78,1202.99 1726.3,1211.58 1732.71,1219.35 1739,1227.17 1745.18,1234.64 1751.25,1241.61 1757.22,1248.57 \\n  1763.1,1255.04 1768.88,1261.65 1774.56,1267.41 1780.16,1273.24 1785.67,1279.11 1791.09,1284.13 1796.44,1289.04 1801.7,1294.03 1806.89,1299.11 1812,1303.32 \\n  1817.04,1307.69 1822.01,1311.6 1826.92,1314.71 1831.75,1318.36 1836.52,1321.61 1841.23,1324.76 1845.87,1327.74 1850.46,1331.03 1854.99,1333.96 1859.46,1336.57 \\n  1863.87,1338.99 1868.23,1341.33 1872.54,1343.43 1876.79,1345.59 1881,1347.64 1885.16,1349.39 1889.26,1351.29 1893.32,1352.99 1897.34,1354.82 1901.31,1356.31 \\n  1905.24,1357.92 1909.12,1359.38 1912.96,1360.93 1916.76,1362.49 1920.52,1363.84 1924.25,1365.21 1927.93,1366.49 1931.57,1367.59 1935.18,1368.71 1938.75,1369.91 \\n  1942.29,1370.8 1945.79,1371.78 1949.26,1372.58 1952.69,1373.42 1956.09,1374.22 1959.46,1374.84 1962.8,1375.48 1966.1,1376.19 1969.38,1376.88 1972.62,1377.47 \\n  1975.84,1377.98 1979.03,1378.5 1982.18,1378.98 1985.32,1379.46 1988.42,1379.82 1991.5,1380.17 1994.55,1380.57 1997.57,1380.94 2000.57,1381.24 2003.54,1381.63 \\n  2006.49,1382.03 2009.42,1382.35 2012.32,1382.64 2015.2,1382.85 2018.05,1383.15 2020.88,1383.41 2023.69,1383.71 2026.48,1383.9 2029.24,1384.18 2031.99,1384.51 \\n  2034.71,1384.79 2037.41,1384.94 2040.09,1385.1 2042.76,1385.23 2045.4,1385.37 2048.02,1385.58 2050.62,1385.81 2053.21,1385.91 2055.78,1386.02 2058.32,1386.19 \\n  2060.85,1386.36 2063.36,1386.48 2065.86,1386.54 2068.33,1386.65 2070.79,1386.73 2073.24,1386.87 2075.66,1386.96 2078.07,1387 2080.46,1387.07 2082.84,1387.12 \\n  2085.2,1387.16 2087.55,1387.25 2089.88,1387.31 2092.19,1387.39 2094.49,1387.46 2096.78,1387.52 2099.05,1387.61 2101.3,1387.67 2103.55,1387.69 2105.77,1387.76 \\n  2107.99,1387.8 2110.19,1387.88 2112.38,1387.9 2114.55,1387.94 2116.71,1387.99 2118.86,1388.05 2120.99,1388.06 2123.11,1388.07 2125.22,1388.14 2127.32,1388.15 \\n  2129.4,1388.17 2131.47,1388.2 2133.54,1388.21 2135.58,1388.23 2137.62,1388.25 2139.64,1388.27 2141.66,1388.3 2143.66,1388.33 2145.65,1388.33 2147.63,1388.37 \\n  2149.6,1388.37 2151.56,1388.37 2153.5,1388.38 2155.44,1388.39 2157.37,1388.39 2159.28,1388.41 2161.19,1388.43 2163.08,1388.44 2164.97,1388.46 2166.84,1388.46 \\n  2168.71,1388.48 2170.57,1388.51 2172.41,1388.52 2174.25,1388.54 2176.07,1388.54 2177.89,1388.54 2179.7,1388.55 2181.5,1388.55 2183.29,1388.55 2185.07,1388.57 \\n  2186.84,1388.57 2188.61,1388.58 2190.36,1388.58 2192.11,1388.58 2193.85,1388.58 2195.58,1388.58 2197.3,1388.58 2199.01,1388.59 2200.71,1388.59 2202.41,1388.59 \\n  2204.1,1388.62 2205.78,1388.62 2207.45,1388.64 2209.12,1388.64 2210.77,1388.65 2212.42,1388.65 2214.06,1388.65 2215.7,1388.65 2217.32,1388.65 2218.94,1388.65 \\n  2220.55,1388.65 2222.16,1388.67 2223.75,1388.67 2225.34,1388.67 2226.93,1388.67 2228.5,1388.67 2230.07,1388.67 2231.63,1388.67 2233.19,1388.67 2234.74,1388.68 \\n  2236.28,1388.68 2237.82,1388.68 2239.34,1388.68 2240.87,1388.68 2242.38,1388.68 2243.89,1388.68 2245.39,1388.68 2246.89,1388.68 2248.38,1388.68 2249.86,1388.68 \\n  2251.34,1388.68 2252.81,1388.68 2254.28,1388.68 2255.74,1388.68 2257.19,1388.68 2258.64,1388.69 2260.08,1388.7 2261.51,1388.7 2262.94,1388.7 2264.37,1388.7 \\n  2265.79,1388.7 2267.2,1388.7 2268.61,1388.7 2270.01,1388.7 2271.41,1388.7 2272.8,1388.7 2274.18,1388.7 2275.56,1388.7 2276.94,1388.7 2278.31,1388.7 \\n  2279.67,1388.7 2281.03,1388.7 2282.38,1388.7 2283.73,1388.7 2285.08,1388.7 2286.41,1388.7 2287.75,1388.7 2289.08,1388.7 2290.4,1388.7 2291.72,1388.7 \\n  2293.03,1388.71 \\n  \\\"\\/>\\n<polyline clip-path=\\\"url(#clip1302)\\\" style=\\\"stroke:#c271d2; stroke-width:4; stroke-opacity:1; fill:none\\\" points=\\\"\\n  302.24,1388.71 548.56,1388.71 692.648,1388.71 794.879,1387.18 874.177,1383.34 938.967,1376.4 993.747,1366.46 1041.2,1353.25 1083.05,1337.26 1120.5,1317.29 \\n  1154.37,1296.17 1185.29,1272.05 1213.73,1246.31 1240.07,1219.85 1264.58,1191.65 1287.52,1162.33 1309.06,1132.27 1329.37,1102.25 1348.59,1071.82 1366.82,1041.84 \\n  1384.15,1010.78 1400.69,981.122 1416.48,951.377 1431.61,922.321 1446.11,893.056 1460.05,864.677 1473.46,835.916 1486.39,809.985 1498.86,782.885 1510.9,757.507 \\n  1522.56,732.216 1533.84,707.675 1544.77,683.761 1555.38,660.241 1565.68,637.742 1575.69,615.082 1585.43,594.305 1594.91,574.611 1604.14,556.159 1613.14,538.703 \\n  1621.91,521.666 1630.47,505.514 1638.84,489.769 1647.01,474.589 1654.99,459.446 1662.8,444.955 1670.44,430.919 1677.93,417.953 1685.25,406.218 1692.43,394.359 \\n  1699.47,383.239 1706.37,371.946 1713.14,361.502 1719.78,351.698 1726.3,342.202 1732.71,333.64 1739,325.287 1745.18,317.304 1751.25,309.898 1757.22,302.567 \\n  1763.1,295.788 1768.88,288.875 1774.56,282.835 1780.16,276.697 1785.67,270.595 1791.09,265.244 1796.44,260.102 1801.7,254.899 1806.89,249.695 1812,245.378 \\n  1817.04,240.875 1822.01,236.865 1826.92,233.581 1831.75,229.853 1836.52,226.532 1841.23,223.309 1845.87,220.27 1850.46,216.9 1854.99,213.898 1859.46,211.204 \\n  1863.87,208.72 1868.23,206.37 1872.54,204.217 1876.79,202.028 1881,199.912 1885.16,198.14 1889.26,196.221 1893.32,194.524 1897.34,192.654 1901.31,191.141 \\n  1905.24,189.505 1909.12,188.053 1912.96,186.503 1916.76,184.929 1920.52,183.576 1924.25,182.198 1927.93,180.906 1931.57,179.799 1935.18,178.655 1938.75,177.462 \\n  1942.29,176.564 1945.79,175.567 1949.26,174.768 1952.69,173.907 1956.09,173.095 1959.46,172.48 1962.8,171.84 1966.1,171.114 1969.38,170.425 1972.62,169.835 \\n  1975.84,169.331 1979.03,168.802 1982.18,168.31 1985.32,167.83 1988.42,167.473 1991.5,167.129 1994.55,166.723 1997.57,166.354 2000.57,166.058 2003.54,165.665 \\n  2006.49,165.259 2009.42,164.939 2012.32,164.656 2015.2,164.447 2018.05,164.139 2020.88,163.881 2023.69,163.586 2026.48,163.389 2029.24,163.118 2031.99,162.786 \\n  2034.71,162.503 2037.41,162.356 2040.09,162.196 2042.76,162.06 2045.4,161.925 2048.02,161.716 2050.62,161.482 2053.21,161.384 2055.78,161.273 2058.32,161.101 \\n  2060.85,160.929 2063.36,160.818 2065.86,160.757 2068.33,160.646 2070.79,160.56 2073.24,160.424 2075.66,160.338 2078.07,160.289 2080.46,160.228 2082.84,160.178 \\n  2085.2,160.129 2087.55,160.043 2089.88,159.982 2092.19,159.908 2094.49,159.834 2096.78,159.772 2099.05,159.686 2101.3,159.625 2103.55,159.6 2105.77,159.539 \\n  2107.99,159.489 2110.19,159.416 2112.38,159.391 2114.55,159.354 2116.71,159.305 2118.86,159.243 2120.99,159.231 2123.11,159.219 2125.22,159.157 2127.32,159.145 \\n  2129.4,159.12 2131.47,159.096 2133.54,159.084 2135.58,159.059 2137.62,159.047 2139.64,159.022 2141.66,158.997 2143.66,158.961 2145.65,158.961 2147.63,158.924 \\n  2149.6,158.924 2151.56,158.924 2153.5,158.911 2155.44,158.899 2157.37,158.899 2159.28,158.887 2161.19,158.862 2163.08,158.85 2164.97,158.838 2166.84,158.838 \\n  2168.71,158.813 2170.57,158.788 2172.41,158.776 2174.25,158.751 2176.07,158.751 2177.89,158.751 2179.7,158.739 2181.5,158.739 2183.29,158.739 2185.07,158.727 \\n  2186.84,158.727 2188.61,158.715 2190.36,158.715 2192.11,158.715 2193.85,158.715 2195.58,158.715 2197.3,158.715 2199.01,158.702 2200.71,158.702 2202.41,158.702 \\n  2204.1,158.678 2205.78,158.678 2207.45,158.653 2209.12,158.653 2210.77,158.641 2212.42,158.641 2214.06,158.641 2215.7,158.641 2217.32,158.641 2218.94,158.641 \\n  2220.55,158.641 2222.16,158.628 2223.75,158.628 2225.34,158.628 2226.93,158.628 2228.5,158.628 2230.07,158.628 2231.63,158.628 2233.19,158.628 2234.74,158.616 \\n  2236.28,158.616 2237.82,158.616 2239.34,158.616 2240.87,158.616 2242.38,158.616 2243.89,158.616 2245.39,158.616 2246.89,158.616 2248.38,158.616 2249.86,158.616 \\n  2251.34,158.616 2252.81,158.616 2254.28,158.616 2255.74,158.616 2257.19,158.616 2258.64,158.604 2260.08,158.591 2261.51,158.591 2262.94,158.591 2264.37,158.591 \\n  2265.79,158.591 2267.2,158.591 2268.61,158.591 2270.01,158.591 2271.41,158.591 2272.8,158.591 2274.18,158.591 2275.56,158.591 2276.94,158.591 2278.31,158.591 \\n  2279.67,158.591 2281.03,158.591 2282.38,158.591 2283.73,158.591 2285.08,158.591 2286.41,158.591 2287.75,158.591 2289.08,158.591 2290.4,158.591 2291.72,158.591 \\n  2293.03,158.579 \\n  \\\"\\/>\\n<path clip-path=\\\"url(#clip1300)\\\" d=\\\"\\nM2006 507.595 L2280.76 507.595 L2280.76 205.195 L2006 205.195  Z\\n  \\\" fill=\\\"#ffffff\\\" fill-rule=\\\"evenodd\\\" fill-opacity=\\\"1\\\"\\/>\\n<polyline clip-path=\\\"url(#clip1300)\\\" style=\\\"stroke:#000000; stroke-width:4; stroke-opacity:1; fill:none\\\" points=\\\"\\n  2006,507.595 2280.76,507.595 2280.76,205.195 2006,205.195 2006,507.595 \\n  \\\"\\/>\\n<polyline clip-path=\\\"url(#clip1300)\\\" style=\\\"stroke:#009af9; stroke-width:4; stroke-opacity:1; fill:none\\\" points=\\\"\\n  2030,265.675 2174,265.675 \\n  \\\"\\/>\\n<g clip-path=\\\"url(#clip1300)\\\">\\n<text style=\\\"fill:#000000; fill-opacity:1; font-family:Arial,Helvetica Neue,Helvetica,sans-serif; font-size:48px; text-anchor:start;\\\" transform=\\\"rotate(0, 2198, 283.175)\\\" x=\\\"2198\\\" y=\\\"283.175\\\">S<\\/text>\\n<\\/g>\\n<polyline clip-path=\\\"url(#clip1300)\\\" style=\\\"stroke:#e26f46; stroke-width:4; stroke-opacity:1; fill:none\\\" points=\\\"\\n  2030,326.155 2174,326.155 \\n  \\\"\\/>\\n<g clip-path=\\\"url(#clip1300)\\\">\\n<text style=\\\"fill:#000000; fill-opacity:1; font-family:Arial,Helvetica Neue,Helvetica,sans-serif; font-size:48px; text-anchor:start;\\\" transform=\\\"rotate(0, 2198, 343.655)\\\" x=\\\"2198\\\" y=\\\"343.655\\\">E<\\/text>\\n<\\/g>\\n<polyline clip-path=\\\"url(#clip1300)\\\" style=\\\"stroke:#3da44d; stroke-width:4; stroke-opacity:1; fill:none\\\" points=\\\"\\n  2030,386.635 2174,386.635 \\n  \\\"\\/>\\n<g clip-path=\\\"url(#clip1300)\\\">\\n<text style=\\\"fill:#000000; fill-opacity:1; font-family:Arial,Helvetica Neue,Helvetica,sans-serif; font-size:48px; text-anchor:start;\\\" transform=\\\"rotate(0, 2198, 404.135)\\\" x=\\\"2198\\\" y=\\\"404.135\\\">I<\\/text>\\n<\\/g>\\n<polyline clip-path=\\\"url(#clip1300)\\\" style=\\\"stroke:#c271d2; stroke-width:4; stroke-opacity:1; fill:none\\\" points=\\\"\\n  2030,447.115 2174,447.115 \\n  \\\"\\/>\\n<g clip-path=\\\"url(#clip1300)\\\">\\n<text style=\\\"fill:#000000; fill-opacity:1; font-family:Arial,Helvetica Neue,Helvetica,sans-serif; font-size:48px; text-anchor:start;\\\" transform=\\\"rotate(0, 2198, 464.615)\\\" x=\\\"2198\\\" y=\\\"464.615\\\">R<\\/text>\\n<\\/g>\\n<\\/svg>\\n\"},\"nodeType\":\"DOM\",\"type\":\"node\",\"instanceArgs\":{\"namespace\":\"html\",\"tag\":\"div\"},\"children\":[]}]}}}},\"children\":[{\"props\":{},\"nodeType\":\"ObservableNode\",\"type\":\"node\",\"instanceArgs\":{\"id\":\"15241175820839596293\",\"name\":\"obs-node\"},\"children\":[]}]}]},\n",
       "            window,\n",
       "        );\n",
       "    } else {\n",
       "        document\n",
       "            .querySelector('[data-webio-mountpoint=\"11295216661854222209\"]')\n",
       "            .innerHTML = (\n",
       "                '<strong>WebIO not detected. Please read ' +\n",
       "                '<a href=\"https://juliagizmos.github.io/WebIO.jl/latest/troubleshooting/not-detected/\">the troubleshooting guide</a> ' +\n",
       "                'for more information on how to resolve this issue.' +\n",
       "                '</strong>'\n",
       "            );\n",
       "    }\n",
       "    </script>\n",
       "</div>\n"
      ],
      "text/plain": [
       "Node{WebIO.DOM}(WebIO.DOM(:html, :div), Any[Node{WebIO.DOM}(WebIO.DOM(:html, :div), Any[Scope(Node{WebIO.DOM}(WebIO.DOM(:html, :div), Any[Node{WebIO.DOM}(WebIO.DOM(:html, :div), Any[Node{WebIO.DOM}(WebIO.DOM(:html, :label), Any[\"p_E\"], Dict{Symbol,Any}(:className => \"interact \",:style => Dict{Any,Any}(:padding => \"5px 10px 0px 10px\")))], Dict{Symbol,Any}(:className => \"interact-flex-row-left\")), Node{WebIO.DOM}(WebIO.DOM(:html, :div), Any[Node{WebIO.DOM}(WebIO.DOM(:html, :input), Any[], Dict{Symbol,Any}(:max => 8,:min => 1,:attributes => Dict{Any,Any}(:type => \"range\",Symbol(\"data-bind\") => \"numericValue: index, valueUpdate: 'input', event: {change: function (){this.changes(this.changes()+1)}}\",\"orient\" => \"horizontal\"),:step => 1,:className => \"slider slider is-fullwidth\",:style => Dict{Any,Any}()))], Dict{Symbol,Any}(:className => \"interact-flex-row-center\")), Node{WebIO.DOM}(WebIO.DOM(:html, :div), Any[Node{WebIO.DOM}(WebIO.DOM(:html, :p), Any[], Dict{Symbol,Any}(:attributes => Dict(\"data-bind\" => \"text: formatted_val\")))], Dict{Symbol,Any}(:className => \"interact-flex-row-right\"))], Dict{Symbol,Any}(:className => \"interact-flex-row interact-widget\")), Dict{String,Tuple{Observables.AbstractObservable,Union{Nothing, Bool}}}(\"changes\" => (Observable{Int64} with 1 listeners. Value:\n",
       "0, nothing),\"index\" => (Observable{Any} with 2 listeners. Value:\n",
       "2, nothing)), Set(String[]), nothing, Asset[Asset(\"js\", \"knockout\", \"/Users/dan/.julia/packages/Knockout/IP1uR/src/../assets/knockout.js\"), Asset(\"js\", \"knockout_punches\", \"/Users/dan/.julia/packages/Knockout/IP1uR/src/../assets/knockout_punches.js\"), Asset(\"js\", nothing, \"/Users/dan/.julia/packages/InteractBase/NMcus/src/../assets/all.js\"), Asset(\"css\", nothing, \"/Users/dan/.julia/packages/InteractBase/NMcus/src/../assets/style.css\"), Asset(\"css\", nothing, \"/Users/dan/.julia/packages/Interact/SbgIk/src/../assets/bulma_confined.min.css\")], Dict{Any,Any}(\"changes\" => Any[WebIO.JSString(\"(function (val){return (val!=this.model[\\\"changes\\\"]()) ? (this.valueFromJulia[\\\"changes\\\"]=true, this.model[\\\"changes\\\"](val)) : undefined})\")],\"index\" => Any[WebIO.JSString(\"(function (val){return (val!=this.model[\\\"index\\\"]()) ? (this.valueFromJulia[\\\"index\\\"]=true, this.model[\\\"index\\\"](val)) : undefined})\")]), WebIO.ConnectionPool(Channel{Any}(sz_max:32,sz_curr:0), Set(AbstractConnection[]), Base.GenericCondition{Base.AlwaysLockedST}(Base.InvasiveLinkedList{Task}(Task (runnable) @0x000000010dd81d50, Task (runnable) @0x000000010dd81d50), Base.AlwaysLockedST(1))), WebIO.JSString[WebIO.JSString(\"function () {\\n    var handler = (function (ko, koPunches) {\\n    ko.punches.enableAll();\\n    ko.bindingHandlers.numericValue = {\\n        init: function(element, valueAccessor, allBindings, data, context) {\\n            var stringified = ko.observable(ko.unwrap(valueAccessor()));\\n            stringified.subscribe(function(value) {\\n                var val = parseFloat(value);\\n                if (!isNaN(val)) {\\n                    valueAccessor()(val);\\n                }\\n            });\\n            valueAccessor().subscribe(function(value) {\\n                var str = JSON.stringify(value);\\n                if ((str == \\\"0\\\") && ([\\\"-0\\\", \\\"-0.\\\"].indexOf(stringified()) >= 0))\\n                     return;\\n                 if ([\\\"null\\\", \\\"\\\"].indexOf(str) >= 0)\\n                     return;\\n                stringified(str);\\n            });\\n            ko.applyBindingsToNode(\\n                element,\\n                {\\n                    value: stringified,\\n                    valueUpdate: allBindings.get('valueUpdate'),\\n                },\\n                context,\\n            );\\n        }\\n    };\\n    var json_data = {\\\"formatted_vals\\\":[\\\"0.125\\\",\\\"0.25\\\",\\\"0.375\\\",\\\"0.5\\\",\\\"0.625\\\",\\\"0.75\\\",\\\"0.875\\\",\\\"1.0\\\"],\\\"changes\\\":WebIO.getval({\\\"name\\\":\\\"changes\\\",\\\"scope\\\":\\\"18276822842476609109\\\",\\\"id\\\":\\\"12852112473873830512\\\",\\\"type\\\":\\\"observable\\\"}),\\\"index\\\":WebIO.getval({\\\"name\\\":\\\"index\\\",\\\"scope\\\":\\\"18276822842476609109\\\",\\\"id\\\":\\\"5372213060805197056\\\",\\\"type\\\":\\\"observable\\\"})};\\n    var self = this;\\n    function AppViewModel() {\\n        for (var key in json_data) {\\n            var el = json_data[key];\\n            this[key] = Array.isArray(el) ? ko.observableArray(el) : ko.observable(el);\\n        }\\n        \\n        [this[\\\"formatted_val\\\"]=ko.computed(    function(){\\n        return this.formatted_vals()[parseInt(this.index())-(1)];\\n    }\\n,this)]\\n        [this[\\\"changes\\\"].subscribe((function (val){!(this.valueFromJulia[\\\"changes\\\"]) ? (WebIO.setval({\\\"name\\\":\\\"changes\\\",\\\"scope\\\":\\\"18276822842476609109\\\",\\\"id\\\":\\\"12852112473873830512\\\",\\\"type\\\":\\\"observable\\\"},val)) : undefined; return this.valueFromJulia[\\\"changes\\\"]=false}),self),this[\\\"index\\\"].subscribe((function (val){!(this.valueFromJulia[\\\"index\\\"]) ? (WebIO.setval({\\\"name\\\":\\\"index\\\",\\\"scope\\\":\\\"18276822842476609109\\\",\\\"id\\\":\\\"5372213060805197056\\\",\\\"type\\\":\\\"observable\\\"},val)) : undefined; return this.valueFromJulia[\\\"index\\\"]=false}),self)]\\n        \\n    }\\n    self.model = new AppViewModel();\\n    self.valueFromJulia = {};\\n    for (var key in json_data) {\\n        self.valueFromJulia[key] = false;\\n    }\\n    ko.applyBindings(self.model, self.dom);\\n}\\n);\\n    (WebIO.importBlock({\\\"data\\\":[{\\\"name\\\":\\\"knockout\\\",\\\"type\\\":\\\"js\\\",\\\"url\\\":\\\"/assetserver/847903f5df732148b510ba93542242ba69c4346c-knockout.js\\\"},{\\\"name\\\":\\\"knockout_punches\\\",\\\"type\\\":\\\"js\\\",\\\"url\\\":\\\"/assetserver/c0b325de111f2589153d52b7b74e82babec63146-knockout_punches.js\\\"}],\\\"type\\\":\\\"async_block\\\"})).then((imports) => handler.apply(this, imports));\\n}\\n\")])], Dict{Symbol,Any}(:className => \"field interact-widget\")), Node{WebIO.DOM}(WebIO.DOM(:html, :div), Any[Scope(Node{WebIO.DOM}(WebIO.DOM(:html, :div), Any[Node{WebIO.DOM}(WebIO.DOM(:html, :div), Any[Node{WebIO.DOM}(WebIO.DOM(:html, :label), Any[\"p_I\"], Dict{Symbol,Any}(:className => \"interact \",:style => Dict{Any,Any}(:padding => \"5px 10px 0px 10px\")))], Dict{Symbol,Any}(:className => \"interact-flex-row-left\")), Node{WebIO.DOM}(WebIO.DOM(:html, :div), Any[Node{WebIO.DOM}(WebIO.DOM(:html, :input), Any[], Dict{Symbol,Any}(:max => 8,:min => 1,:attributes => Dict{Any,Any}(:type => \"range\",Symbol(\"data-bind\") => \"numericValue: index, valueUpdate: 'input', event: {change: function (){this.changes(this.changes()+1)}}\",\"orient\" => \"horizontal\"),:step => 1,:className => \"slider slider is-fullwidth\",:style => Dict{Any,Any}()))], Dict{Symbol,Any}(:className => \"interact-flex-row-center\")), Node{WebIO.DOM}(WebIO.DOM(:html, :div), Any[Node{WebIO.DOM}(WebIO.DOM(:html, :p), Any[], Dict{Symbol,Any}(:attributes => Dict(\"data-bind\" => \"text: formatted_val\")))], Dict{Symbol,Any}(:className => \"interact-flex-row-right\"))], Dict{Symbol,Any}(:className => \"interact-flex-row interact-widget\")), Dict{String,Tuple{Observables.AbstractObservable,Union{Nothing, Bool}}}(\"changes\" => (Observable{Int64} with 1 listeners. Value:\n",
       "0, nothing),\"index\" => (Observable{Any} with 2 listeners. Value:\n",
       "1, nothing)), Set(String[]), nothing, Asset[Asset(\"js\", \"knockout\", \"/Users/dan/.julia/packages/Knockout/IP1uR/src/../assets/knockout.js\"), Asset(\"js\", \"knockout_punches\", \"/Users/dan/.julia/packages/Knockout/IP1uR/src/../assets/knockout_punches.js\"), Asset(\"js\", nothing, \"/Users/dan/.julia/packages/InteractBase/NMcus/src/../assets/all.js\"), Asset(\"css\", nothing, \"/Users/dan/.julia/packages/InteractBase/NMcus/src/../assets/style.css\"), Asset(\"css\", nothing, \"/Users/dan/.julia/packages/Interact/SbgIk/src/../assets/bulma_confined.min.css\")], Dict{Any,Any}(\"changes\" => Any[WebIO.JSString(\"(function (val){return (val!=this.model[\\\"changes\\\"]()) ? (this.valueFromJulia[\\\"changes\\\"]=true, this.model[\\\"changes\\\"](val)) : undefined})\")],\"index\" => Any[WebIO.JSString(\"(function (val){return (val!=this.model[\\\"index\\\"]()) ? (this.valueFromJulia[\\\"index\\\"]=true, this.model[\\\"index\\\"](val)) : undefined})\")]), WebIO.ConnectionPool(Channel{Any}(sz_max:32,sz_curr:0), Set(AbstractConnection[]), Base.GenericCondition{Base.AlwaysLockedST}(Base.InvasiveLinkedList{Task}(Task (runnable) @0x000000010dd82410, Task (runnable) @0x000000010dd82410), Base.AlwaysLockedST(1))), WebIO.JSString[WebIO.JSString(\"function () {\\n    var handler = (function (ko, koPunches) {\\n    ko.punches.enableAll();\\n    ko.bindingHandlers.numericValue = {\\n        init: function(element, valueAccessor, allBindings, data, context) {\\n            var stringified = ko.observable(ko.unwrap(valueAccessor()));\\n            stringified.subscribe(function(value) {\\n                var val = parseFloat(value);\\n                if (!isNaN(val)) {\\n                    valueAccessor()(val);\\n                }\\n            });\\n            valueAccessor().subscribe(function(value) {\\n                var str = JSON.stringify(value);\\n                if ((str == \\\"0\\\") && ([\\\"-0\\\", \\\"-0.\\\"].indexOf(stringified()) >= 0))\\n                     return;\\n                 if ([\\\"null\\\", \\\"\\\"].indexOf(str) >= 0)\\n                     return;\\n                stringified(str);\\n            });\\n            ko.applyBindingsToNode(\\n                element,\\n                {\\n                    value: stringified,\\n                    valueUpdate: allBindings.get('valueUpdate'),\\n                },\\n                context,\\n            );\\n        }\\n    };\\n    var json_data = {\\\"formatted_vals\\\":[\\\"0.125\\\",\\\"0.25\\\",\\\"0.375\\\",\\\"0.5\\\",\\\"0.625\\\",\\\"0.75\\\",\\\"0.875\\\",\\\"1.0\\\"],\\\"changes\\\":WebIO.getval({\\\"name\\\":\\\"changes\\\",\\\"scope\\\":\\\"12485731981463297229\\\",\\\"id\\\":\\\"6459418785297773801\\\",\\\"type\\\":\\\"observable\\\"}),\\\"index\\\":WebIO.getval({\\\"name\\\":\\\"index\\\",\\\"scope\\\":\\\"12485731981463297229\\\",\\\"id\\\":\\\"4372799646158712031\\\",\\\"type\\\":\\\"observable\\\"})};\\n    var self = this;\\n    function AppViewModel() {\\n        for (var key in json_data) {\\n            var el = json_data[key];\\n            this[key] = Array.isArray(el) ? ko.observableArray(el) : ko.observable(el);\\n        }\\n        \\n        [this[\\\"formatted_val\\\"]=ko.computed(    function(){\\n        return this.formatted_vals()[parseInt(this.index())-(1)];\\n    }\\n,this)]\\n        [this[\\\"changes\\\"].subscribe((function (val){!(this.valueFromJulia[\\\"changes\\\"]) ? (WebIO.setval({\\\"name\\\":\\\"changes\\\",\\\"scope\\\":\\\"12485731981463297229\\\",\\\"id\\\":\\\"6459418785297773801\\\",\\\"type\\\":\\\"observable\\\"},val)) : undefined; return this.valueFromJulia[\\\"changes\\\"]=false}),self),this[\\\"index\\\"].subscribe((function (val){!(this.valueFromJulia[\\\"index\\\"]) ? (WebIO.setval({\\\"name\\\":\\\"index\\\",\\\"scope\\\":\\\"12485731981463297229\\\",\\\"id\\\":\\\"4372799646158712031\\\",\\\"type\\\":\\\"observable\\\"},val)) : undefined; return this.valueFromJulia[\\\"index\\\"]=false}),self)]\\n        \\n    }\\n    self.model = new AppViewModel();\\n    self.valueFromJulia = {};\\n    for (var key in json_data) {\\n        self.valueFromJulia[key] = false;\\n    }\\n    ko.applyBindings(self.model, self.dom);\\n}\\n);\\n    (WebIO.importBlock({\\\"data\\\":[{\\\"name\\\":\\\"knockout\\\",\\\"type\\\":\\\"js\\\",\\\"url\\\":\\\"/assetserver/847903f5df732148b510ba93542242ba69c4346c-knockout.js\\\"},{\\\"name\\\":\\\"knockout_punches\\\",\\\"type\\\":\\\"js\\\",\\\"url\\\":\\\"/assetserver/c0b325de111f2589153d52b7b74e82babec63146-knockout_punches.js\\\"}],\\\"type\\\":\\\"async_block\\\"})).then((imports) => handler.apply(this, imports));\\n}\\n\")])], Dict{Symbol,Any}(:className => \"field interact-widget\")), Node{WebIO.DOM}(WebIO.DOM(:html, :div), Any[Scope(Node{WebIO.DOM}(WebIO.DOM(:html, :div), Any[Node{WebIO.DOM}(WebIO.DOM(:html, :div), Any[Node{WebIO.DOM}(WebIO.DOM(:html, :label), Any[\"p_R\"], Dict{Symbol,Any}(:className => \"interact \",:style => Dict{Any,Any}(:padding => \"5px 10px 0px 10px\")))], Dict{Symbol,Any}(:className => \"interact-flex-row-left\")), Node{WebIO.DOM}(WebIO.DOM(:html, :div), Any[Node{WebIO.DOM}(WebIO.DOM(:html, :input), Any[], Dict{Symbol,Any}(:max => 8,:min => 1,:attributes => Dict{Any,Any}(:type => \"range\",Symbol(\"data-bind\") => \"numericValue: index, valueUpdate: 'input', event: {change: function (){this.changes(this.changes()+1)}}\",\"orient\" => \"horizontal\"),:step => 1,:className => \"slider slider is-fullwidth\",:style => Dict{Any,Any}()))], Dict{Symbol,Any}(:className => \"interact-flex-row-center\")), Node{WebIO.DOM}(WebIO.DOM(:html, :div), Any[Node{WebIO.DOM}(WebIO.DOM(:html, :p), Any[], Dict{Symbol,Any}(:attributes => Dict(\"data-bind\" => \"text: formatted_val\")))], Dict{Symbol,Any}(:className => \"interact-flex-row-right\"))], Dict{Symbol,Any}(:className => \"interact-flex-row interact-widget\")), Dict{String,Tuple{Observables.AbstractObservable,Union{Nothing, Bool}}}(\"changes\" => (Observable{Int64} with 1 listeners. Value:\n",
       "0, nothing),\"index\" => (Observable{Any} with 2 listeners. Value:\n",
       "1, nothing)), Set(String[]), nothing, Asset[Asset(\"js\", \"knockout\", \"/Users/dan/.julia/packages/Knockout/IP1uR/src/../assets/knockout.js\"), Asset(\"js\", \"knockout_punches\", \"/Users/dan/.julia/packages/Knockout/IP1uR/src/../assets/knockout_punches.js\"), Asset(\"js\", nothing, \"/Users/dan/.julia/packages/InteractBase/NMcus/src/../assets/all.js\"), Asset(\"css\", nothing, \"/Users/dan/.julia/packages/InteractBase/NMcus/src/../assets/style.css\"), Asset(\"css\", nothing, \"/Users/dan/.julia/packages/Interact/SbgIk/src/../assets/bulma_confined.min.css\")], Dict{Any,Any}(\"changes\" => Any[WebIO.JSString(\"(function (val){return (val!=this.model[\\\"changes\\\"]()) ? (this.valueFromJulia[\\\"changes\\\"]=true, this.model[\\\"changes\\\"](val)) : undefined})\")],\"index\" => Any[WebIO.JSString(\"(function (val){return (val!=this.model[\\\"index\\\"]()) ? (this.valueFromJulia[\\\"index\\\"]=true, this.model[\\\"index\\\"](val)) : undefined})\")]), WebIO.ConnectionPool(Channel{Any}(sz_max:32,sz_curr:0), Set(AbstractConnection[]), Base.GenericCondition{Base.AlwaysLockedST}(Base.InvasiveLinkedList{Task}(Task (runnable) @0x000000010dd82d10, Task (runnable) @0x000000010dd82d10), Base.AlwaysLockedST(1))), WebIO.JSString[WebIO.JSString(\"function () {\\n    var handler = (function (ko, koPunches) {\\n    ko.punches.enableAll();\\n    ko.bindingHandlers.numericValue = {\\n        init: function(element, valueAccessor, allBindings, data, context) {\\n            var stringified = ko.observable(ko.unwrap(valueAccessor()));\\n            stringified.subscribe(function(value) {\\n                var val = parseFloat(value);\\n                if (!isNaN(val)) {\\n                    valueAccessor()(val);\\n                }\\n            });\\n            valueAccessor().subscribe(function(value) {\\n                var str = JSON.stringify(value);\\n                if ((str == \\\"0\\\") && ([\\\"-0\\\", \\\"-0.\\\"].indexOf(stringified()) >= 0))\\n                     return;\\n                 if ([\\\"null\\\", \\\"\\\"].indexOf(str) >= 0)\\n                     return;\\n                stringified(str);\\n            });\\n            ko.applyBindingsToNode(\\n                element,\\n                {\\n                    value: stringified,\\n                    valueUpdate: allBindings.get('valueUpdate'),\\n                },\\n                context,\\n            );\\n        }\\n    };\\n    var json_data = {\\\"formatted_vals\\\":[\\\"0.125\\\",\\\"0.25\\\",\\\"0.375\\\",\\\"0.5\\\",\\\"0.625\\\",\\\"0.75\\\",\\\"0.875\\\",\\\"1.0\\\"],\\\"changes\\\":WebIO.getval({\\\"name\\\":\\\"changes\\\",\\\"scope\\\":\\\"17291436063026017917\\\",\\\"id\\\":\\\"11408755111703707637\\\",\\\"type\\\":\\\"observable\\\"}),\\\"index\\\":WebIO.getval({\\\"name\\\":\\\"index\\\",\\\"scope\\\":\\\"17291436063026017917\\\",\\\"id\\\":\\\"976341695185995934\\\",\\\"type\\\":\\\"observable\\\"})};\\n    var self = this;\\n    function AppViewModel() {\\n        for (var key in json_data) {\\n            var el = json_data[key];\\n            this[key] = Array.isArray(el) ? ko.observableArray(el) : ko.observable(el);\\n        }\\n        \\n        [this[\\\"formatted_val\\\"]=ko.computed(    function(){\\n        return this.formatted_vals()[parseInt(this.index())-(1)];\\n    }\\n,this)]\\n        [this[\\\"changes\\\"].subscribe((function (val){!(this.valueFromJulia[\\\"changes\\\"]) ? (WebIO.setval({\\\"name\\\":\\\"changes\\\",\\\"scope\\\":\\\"17291436063026017917\\\",\\\"id\\\":\\\"11408755111703707637\\\",\\\"type\\\":\\\"observable\\\"},val)) : undefined; return this.valueFromJulia[\\\"changes\\\"]=false}),self),this[\\\"index\\\"].subscribe((function (val){!(this.valueFromJulia[\\\"index\\\"]) ? (WebIO.setval({\\\"name\\\":\\\"index\\\",\\\"scope\\\":\\\"17291436063026017917\\\",\\\"id\\\":\\\"976341695185995934\\\",\\\"type\\\":\\\"observable\\\"},val)) : undefined; return this.valueFromJulia[\\\"index\\\"]=false}),self)]\\n        \\n    }\\n    self.model = new AppViewModel();\\n    self.valueFromJulia = {};\\n    for (var key in json_data) {\\n        self.valueFromJulia[key] = false;\\n    }\\n    ko.applyBindings(self.model, self.dom);\\n}\\n);\\n    (WebIO.importBlock({\\\"data\\\":[{\\\"name\\\":\\\"knockout\\\",\\\"type\\\":\\\"js\\\",\\\"url\\\":\\\"/assetserver/847903f5df732148b510ba93542242ba69c4346c-knockout.js\\\"},{\\\"name\\\":\\\"knockout_punches\\\",\\\"type\\\":\\\"js\\\",\\\"url\\\":\\\"/assetserver/c0b325de111f2589153d52b7b74e82babec63146-knockout_punches.js\\\"}],\\\"type\\\":\\\"async_block\\\"})).then((imports) => handler.apply(this, imports));\\n}\\n\")])], Dict{Symbol,Any}(:className => \"field interact-widget\")), Observable{Any} with 0 listeners. Value:\n",
       "Node{WebIO.DOM}(WebIO.DOM(:html, :div), Any[Plot{Plots.GRBackend() n=4}], Dict{Symbol,Any}(:className => \"interact-flex-row interact-widget\"))], Dict{Symbol,Any}())"
      ]
     },
     "execution_count": 32,
     "metadata": {
      "application/vnd.webio.node+json": {
       "kernelId": "61dd9ceb-ee8b-4b1e-aaeb-0fa4699f6c90"
      }
     },
     "output_type": "execute_result"
    }
   ],
   "source": [
    "N = 100000\n",
    "\n",
    "using DataStructures\n",
    "\n",
    "p_E_slider = slider(linspace(0,1,9)[2:end], value=0.25, label=\"p_E\")\n",
    "p_I_slider = slider(linspace(0,1,9)[2:end], value=0.10, label=\"p_I\")\n",
    "p_R_slider = slider(linspace(0,1,9)[2:end], value=0.05, label=\"p_R\")\n",
    "\n",
    "@manipulate for p_E=p_E_slider, p_I=p_I_slider, p_R=p_R_slider\n",
    "  make_seir_plot(N, p_E, p_I, p_R)\n",
    "end"
   ]
  },
  {
   "cell_type": "markdown",
   "metadata": {},
   "source": [
    "----\n",
    "\n",
    "## Extra Credit: Web Dashboard"
   ]
  },
  {
   "cell_type": "code",
   "execution_count": 33,
   "metadata": {},
   "outputs": [],
   "source": [
    "# load file with custom plot extractor\n",
    "\n",
    "include(\"dont_manipulate.jl\")\n"
   ]
  },
  {
   "cell_type": "code",
   "execution_count": 34,
   "metadata": {},
   "outputs": [
    {
     "data": {
      "application/vnd.plotly.v1+json": {
       "data": [
        {
         "colorbar": {
          "title": ""
         },
         "legendgroup": "S",
         "line": {
          "color": "rgba(0, 154, 250, 1.000)",
          "dash": "solid",
          "shape": "linear",
          "width": 1
         },
         "mode": "lines",
         "name": "S",
         "showlegend": true,
         "type": "scatter",
         "x": [
          1,
          2,
          3,
          4
         ],
         "xaxis": "x1",
         "y": [
          1,
          0,
          0,
          0
         ],
         "yaxis": "y1",
         "zmax": null,
         "zmin": null
        },
        {
         "colorbar": {
          "title": ""
         },
         "legendgroup": "E",
         "line": {
          "color": "rgba(227, 111, 71, 1.000)",
          "dash": "solid",
          "shape": "linear",
          "width": 1
         },
         "mode": "lines",
         "name": "E",
         "showlegend": true,
         "type": "scatter",
         "x": [
          1,
          2,
          3,
          4
         ],
         "xaxis": "x1",
         "y": [
          0,
          1,
          0,
          0
         ],
         "yaxis": "y1",
         "zmax": null,
         "zmin": null
        },
        {
         "colorbar": {
          "title": ""
         },
         "legendgroup": "I",
         "line": {
          "color": "rgba(62, 164, 78, 1.000)",
          "dash": "solid",
          "shape": "linear",
          "width": 1
         },
         "mode": "lines",
         "name": "I",
         "showlegend": true,
         "type": "scatter",
         "x": [
          1,
          2,
          3,
          4
         ],
         "xaxis": "x1",
         "y": [
          0,
          0,
          1,
          0
         ],
         "yaxis": "y1",
         "zmax": null,
         "zmin": null
        },
        {
         "colorbar": {
          "title": ""
         },
         "legendgroup": "R",
         "line": {
          "color": "rgba(195, 113, 210, 1.000)",
          "dash": "solid",
          "shape": "linear",
          "width": 1
         },
         "mode": "lines",
         "name": "R",
         "showlegend": true,
         "type": "scatter",
         "x": [
          1,
          2,
          3,
          4
         ],
         "xaxis": "x1",
         "y": [
          0,
          0,
          0,
          1
         ],
         "yaxis": "y1",
         "zmax": null,
         "zmin": null
        }
       ],
       "layout": {
        "annotations": [
         {
          "font": {
           "color": "rgba(0, 0, 0, 1.000)",
           "family": "sans-serif",
           "size": 20
          },
          "rotation": 0,
          "showarrow": false,
          "text": "SEIR Model",
          "x": 0.5423611111111111,
          "xanchor": "center",
          "xref": "paper",
          "y": 1,
          "yanchor": "top",
          "yref": "paper"
         }
        ],
        "height": 400,
        "legend": {
         "bgcolor": "rgba(255, 255, 255, 1.000)",
         "bordercolor": "rgba(0, 0, 0, 1.000)",
         "font": {
          "color": "rgba(0, 0, 0, 1.000)",
          "family": "sans-serif",
          "size": 11
         },
         "tracegroupgap": 0,
         "x": 1,
         "y": 1
        },
        "margin": {
         "b": 20,
         "l": 0,
         "r": 0,
         "t": 20
        },
        "paper_bgcolor": "rgba(255, 255, 255, 1.000)",
        "plot_bgcolor": "rgba(255, 255, 255, 1.000)",
        "showlegend": true,
        "width": 600,
        "xaxis": {
         "anchor": "y1",
         "domain": [
          0.09128390201224845,
          0.9934383202099738
         ],
         "gridcolor": "rgba(0, 0, 0, 0.100)",
         "gridwidth": 0.5,
         "linecolor": "rgba(0, 0, 0, 1.000)",
         "mirror": false,
         "range": [
          -0.018061799739838895,
          0.6201217910678013
         ],
         "showgrid": true,
         "showline": true,
         "showticklabels": true,
         "tickangle": 0,
         "tickcolor": "rgb(0, 0, 0)",
         "tickfont": {
          "color": "rgba(0, 0, 0, 1.000)",
          "family": "sans-serif",
          "size": 11
         },
         "tickmode": "array",
         "ticks": "inside",
         "ticktext": [
          "10^0.0",
          "10^0.1",
          "10^0.2",
          "10^0.3",
          "10^0.4",
          "10^0.5",
          "10^0.6"
         ],
         "tickvals": [
          1,
          1.2589254117941673,
          1.5848931924611136,
          1.9952623149688797,
          2.51188643150958,
          3.162277660168379,
          3.981071705534973
         ],
         "title": "time",
         "titlefont": {
          "color": "rgba(0, 0, 0, 1.000)",
          "family": "sans-serif",
          "size": 15
         },
         "type": "log",
         "visible": true,
         "zeroline": false,
         "zerolinecolor": "rgba(0, 0, 0, 1.000)"
        },
        "yaxis": {
         "anchor": "x1",
         "domain": [
          0.07581474190726165,
          0.9415463692038496
         ],
         "gridcolor": "rgba(0, 0, 0, 0.100)",
         "gridwidth": 0.5,
         "linecolor": "rgba(0, 0, 0, 1.000)",
         "mirror": false,
         "range": [
          -0.03,
          1.03
         ],
         "showgrid": true,
         "showline": true,
         "showticklabels": true,
         "tickangle": 0,
         "tickcolor": "rgb(0, 0, 0)",
         "tickfont": {
          "color": "rgba(0, 0, 0, 1.000)",
          "family": "sans-serif",
          "size": 11
         },
         "tickmode": "array",
         "ticks": "inside",
         "ticktext": [
          "0.00",
          "0.25",
          "0.50",
          "0.75",
          "1.00"
         ],
         "tickvals": [
          0,
          0.25,
          0.5,
          0.75,
          1
         ],
         "title": "p [%]",
         "titlefont": {
          "color": "rgba(0, 0, 0, 1.000)",
          "family": "sans-serif",
          "size": 15
         },
         "type": "-",
         "visible": true,
         "zeroline": false,
         "zerolinecolor": "rgba(0, 0, 0, 1.000)"
        }
       }
      },
      "text/html": [
       "<!DOCTYPE html>\n",
       "<html>\n",
       "    <head>\n",
       "        <title>Plots.jl</title>\n",
       "        <meta http-equiv=\"content-type\" content=\"text/html; charset=UTF-8\">\n",
       "        <script src=\"https://cdn.plot.ly/plotly-latest.min.js\"></script>\n",
       "    </head>\n",
       "    <body>\n",
       "            <div id=\"0c004f24-1826-43da-93cd-fc52b43f5492\" style=\"width:600px;height:400px;\"></div>\n",
       "    <script>\n",
       "    PLOT = document.getElementById('0c004f24-1826-43da-93cd-fc52b43f5492');\n",
       "    Plotly.plot(PLOT, [\n",
       "    {\n",
       "        \"xaxis\": \"x1\",\n",
       "        \"colorbar\": {\n",
       "            \"title\": \"\"\n",
       "        },\n",
       "        \"yaxis\": \"y1\",\n",
       "        \"x\": [\n",
       "            1,\n",
       "            2,\n",
       "            3,\n",
       "            4\n",
       "        ],\n",
       "        \"showlegend\": true,\n",
       "        \"mode\": \"lines\",\n",
       "        \"name\": \"S\",\n",
       "        \"zmin\": null,\n",
       "        \"legendgroup\": \"S\",\n",
       "        \"zmax\": null,\n",
       "        \"line\": {\n",
       "            \"color\": \"rgba(0, 154, 250, 1.000)\",\n",
       "            \"shape\": \"linear\",\n",
       "            \"dash\": \"solid\",\n",
       "            \"width\": 1\n",
       "        },\n",
       "        \"y\": [\n",
       "            1.0,\n",
       "            0.0,\n",
       "            0.0,\n",
       "            0.0\n",
       "        ],\n",
       "        \"type\": \"scatter\"\n",
       "    },\n",
       "    {\n",
       "        \"xaxis\": \"x1\",\n",
       "        \"colorbar\": {\n",
       "            \"title\": \"\"\n",
       "        },\n",
       "        \"yaxis\": \"y1\",\n",
       "        \"x\": [\n",
       "            1,\n",
       "            2,\n",
       "            3,\n",
       "            4\n",
       "        ],\n",
       "        \"showlegend\": true,\n",
       "        \"mode\": \"lines\",\n",
       "        \"name\": \"E\",\n",
       "        \"zmin\": null,\n",
       "        \"legendgroup\": \"E\",\n",
       "        \"zmax\": null,\n",
       "        \"line\": {\n",
       "            \"color\": \"rgba(227, 111, 71, 1.000)\",\n",
       "            \"shape\": \"linear\",\n",
       "            \"dash\": \"solid\",\n",
       "            \"width\": 1\n",
       "        },\n",
       "        \"y\": [\n",
       "            0.0,\n",
       "            1.0,\n",
       "            0.0,\n",
       "            0.0\n",
       "        ],\n",
       "        \"type\": \"scatter\"\n",
       "    },\n",
       "    {\n",
       "        \"xaxis\": \"x1\",\n",
       "        \"colorbar\": {\n",
       "            \"title\": \"\"\n",
       "        },\n",
       "        \"yaxis\": \"y1\",\n",
       "        \"x\": [\n",
       "            1,\n",
       "            2,\n",
       "            3,\n",
       "            4\n",
       "        ],\n",
       "        \"showlegend\": true,\n",
       "        \"mode\": \"lines\",\n",
       "        \"name\": \"I\",\n",
       "        \"zmin\": null,\n",
       "        \"legendgroup\": \"I\",\n",
       "        \"zmax\": null,\n",
       "        \"line\": {\n",
       "            \"color\": \"rgba(62, 164, 78, 1.000)\",\n",
       "            \"shape\": \"linear\",\n",
       "            \"dash\": \"solid\",\n",
       "            \"width\": 1\n",
       "        },\n",
       "        \"y\": [\n",
       "            0.0,\n",
       "            0.0,\n",
       "            1.0,\n",
       "            0.0\n",
       "        ],\n",
       "        \"type\": \"scatter\"\n",
       "    },\n",
       "    {\n",
       "        \"xaxis\": \"x1\",\n",
       "        \"colorbar\": {\n",
       "            \"title\": \"\"\n",
       "        },\n",
       "        \"yaxis\": \"y1\",\n",
       "        \"x\": [\n",
       "            1,\n",
       "            2,\n",
       "            3,\n",
       "            4\n",
       "        ],\n",
       "        \"showlegend\": true,\n",
       "        \"mode\": \"lines\",\n",
       "        \"name\": \"R\",\n",
       "        \"zmin\": null,\n",
       "        \"legendgroup\": \"R\",\n",
       "        \"zmax\": null,\n",
       "        \"line\": {\n",
       "            \"color\": \"rgba(195, 113, 210, 1.000)\",\n",
       "            \"shape\": \"linear\",\n",
       "            \"dash\": \"solid\",\n",
       "            \"width\": 1\n",
       "        },\n",
       "        \"y\": [\n",
       "            0.0,\n",
       "            0.0,\n",
       "            0.0,\n",
       "            1.0\n",
       "        ],\n",
       "        \"type\": \"scatter\"\n",
       "    }\n",
       "]\n",
       ", {\n",
       "    \"showlegend\": true,\n",
       "    \"xaxis\": {\n",
       "        \"showticklabels\": true,\n",
       "        \"gridwidth\": 0.5,\n",
       "        \"tickvals\": [\n",
       "            1.0,\n",
       "            1.2589254117941673,\n",
       "            1.5848931924611136,\n",
       "            1.9952623149688797,\n",
       "            2.51188643150958,\n",
       "            3.162277660168379,\n",
       "            3.981071705534973\n",
       "        ],\n",
       "        \"visible\": true,\n",
       "        \"ticks\": \"inside\",\n",
       "        \"range\": [\n",
       "            -0.018061799739838895,\n",
       "            0.6201217910678013\n",
       "        ],\n",
       "        \"domain\": [\n",
       "            0.09128390201224845,\n",
       "            0.9934383202099738\n",
       "        ],\n",
       "        \"tickmode\": \"array\",\n",
       "        \"linecolor\": \"rgba(0, 0, 0, 1.000)\",\n",
       "        \"showgrid\": true,\n",
       "        \"title\": \"time\",\n",
       "        \"mirror\": false,\n",
       "        \"tickangle\": 0,\n",
       "        \"showline\": true,\n",
       "        \"gridcolor\": \"rgba(0, 0, 0, 0.100)\",\n",
       "        \"titlefont\": {\n",
       "            \"color\": \"rgba(0, 0, 0, 1.000)\",\n",
       "            \"family\": \"sans-serif\",\n",
       "            \"size\": 15\n",
       "        },\n",
       "        \"tickcolor\": \"rgb(0, 0, 0)\",\n",
       "        \"ticktext\": [\n",
       "            \"10^0.0\",\n",
       "            \"10^0.1\",\n",
       "            \"10^0.2\",\n",
       "            \"10^0.3\",\n",
       "            \"10^0.4\",\n",
       "            \"10^0.5\",\n",
       "            \"10^0.6\"\n",
       "        ],\n",
       "        \"zeroline\": false,\n",
       "        \"type\": \"log\",\n",
       "        \"tickfont\": {\n",
       "            \"color\": \"rgba(0, 0, 0, 1.000)\",\n",
       "            \"family\": \"sans-serif\",\n",
       "            \"size\": 11\n",
       "        },\n",
       "        \"zerolinecolor\": \"rgba(0, 0, 0, 1.000)\",\n",
       "        \"anchor\": \"y1\"\n",
       "    },\n",
       "    \"paper_bgcolor\": \"rgba(255, 255, 255, 1.000)\",\n",
       "    \"annotations\": [\n",
       "        {\n",
       "            \"yanchor\": \"top\",\n",
       "            \"xanchor\": \"center\",\n",
       "            \"rotation\": -0.0,\n",
       "            \"y\": 1.0,\n",
       "            \"font\": {\n",
       "                \"color\": \"rgba(0, 0, 0, 1.000)\",\n",
       "                \"family\": \"sans-serif\",\n",
       "                \"size\": 20\n",
       "            },\n",
       "            \"yref\": \"paper\",\n",
       "            \"showarrow\": false,\n",
       "            \"text\": \"SEIR Model\",\n",
       "            \"xref\": \"paper\",\n",
       "            \"x\": 0.5423611111111111\n",
       "        }\n",
       "    ],\n",
       "    \"height\": 400,\n",
       "    \"margin\": {\n",
       "        \"l\": 0,\n",
       "        \"b\": 20,\n",
       "        \"r\": 0,\n",
       "        \"t\": 20\n",
       "    },\n",
       "    \"plot_bgcolor\": \"rgba(255, 255, 255, 1.000)\",\n",
       "    \"yaxis\": {\n",
       "        \"showticklabels\": true,\n",
       "        \"gridwidth\": 0.5,\n",
       "        \"tickvals\": [\n",
       "            0.0,\n",
       "            0.25,\n",
       "            0.5,\n",
       "            0.75,\n",
       "            1.0\n",
       "        ],\n",
       "        \"visible\": true,\n",
       "        \"ticks\": \"inside\",\n",
       "        \"range\": [\n",
       "            -0.03,\n",
       "            1.03\n",
       "        ],\n",
       "        \"domain\": [\n",
       "            0.07581474190726165,\n",
       "            0.9415463692038496\n",
       "        ],\n",
       "        \"tickmode\": \"array\",\n",
       "        \"linecolor\": \"rgba(0, 0, 0, 1.000)\",\n",
       "        \"showgrid\": true,\n",
       "        \"title\": \"p [%]\",\n",
       "        \"mirror\": false,\n",
       "        \"tickangle\": 0,\n",
       "        \"showline\": true,\n",
       "        \"gridcolor\": \"rgba(0, 0, 0, 0.100)\",\n",
       "        \"titlefont\": {\n",
       "            \"color\": \"rgba(0, 0, 0, 1.000)\",\n",
       "            \"family\": \"sans-serif\",\n",
       "            \"size\": 15\n",
       "        },\n",
       "        \"tickcolor\": \"rgb(0, 0, 0)\",\n",
       "        \"ticktext\": [\n",
       "            \"0.00\",\n",
       "            \"0.25\",\n",
       "            \"0.50\",\n",
       "            \"0.75\",\n",
       "            \"1.00\"\n",
       "        ],\n",
       "        \"zeroline\": false,\n",
       "        \"type\": \"-\",\n",
       "        \"tickfont\": {\n",
       "            \"color\": \"rgba(0, 0, 0, 1.000)\",\n",
       "            \"family\": \"sans-serif\",\n",
       "            \"size\": 11\n",
       "        },\n",
       "        \"zerolinecolor\": \"rgba(0, 0, 0, 1.000)\",\n",
       "        \"anchor\": \"x1\"\n",
       "    },\n",
       "    \"legend\": {\n",
       "        \"tracegroupgap\": 0,\n",
       "        \"bordercolor\": \"rgba(0, 0, 0, 1.000)\",\n",
       "        \"bgcolor\": \"rgba(255, 255, 255, 1.000)\",\n",
       "        \"font\": {\n",
       "            \"color\": \"rgba(0, 0, 0, 1.000)\",\n",
       "            \"family\": \"sans-serif\",\n",
       "            \"size\": 11\n",
       "        },\n",
       "        \"y\": 1.0,\n",
       "        \"x\": 1.0\n",
       "    },\n",
       "    \"width\": 600\n",
       "}\n",
       ");\n",
       "    </script>\n",
       "\n",
       "    </body>\n",
       "</html>\n"
      ]
     },
     "metadata": {},
     "output_type": "display_data"
    },
    {
     "data": {
      "text/plain": [
       "Plots.GRBackend()"
      ]
     },
     "execution_count": 34,
     "metadata": {},
     "output_type": "execute_result"
    }
   ],
   "source": [
    "plotlyjs()\n",
    "\n",
    "@dont_manipulate \"../docs/assets/json/recovery-time.json\" for p in linspace(0,1,11)[2:end], N=logspace(1, 10^5, 6)\n",
    "  make_recovery_plot(p, N)\n",
    "end\n",
    "\n",
    "p_E_slider = slider(linspace(0,1,9)[2:end], value=0.375, label=\"p_E\")\n",
    "p_I_slider = slider(linspace(0,1,9)[2:end], value=0.250, label=\"p_I\")\n",
    "p_R_slider = slider(linspace(0,1,9)[2:end], value=0.125, label=\"p_R\")\n",
    "\n",
    "@dont_manipulate \"../docs/assets/json/seir-model.json\" for p_E=p_E_slider, p_I=p_I_slider, p_R=p_R_slider\n",
    "  make_seir_plot(N, p_E, p_I, p_R)\n",
    "end\n",
    "\n",
    "gr()\n"
   ]
  },
  {
   "cell_type": "code",
   "execution_count": null,
   "metadata": {},
   "outputs": [],
   "source": []
  }
 ],
 "metadata": {
  "@webio": {
   "lastCommId": "bbe336dba5a640cbb3f20bcdd7926658",
   "lastKernelId": "61dd9ceb-ee8b-4b1e-aaeb-0fa4699f6c90"
  },
  "kernelspec": {
   "display_name": "Julia 1.4.0",
   "language": "julia",
   "name": "julia-1.4"
  },
  "language_info": {
   "file_extension": ".jl",
   "mimetype": "application/julia",
   "name": "julia",
   "version": "1.4.0"
  }
 },
 "nbformat": 4,
 "nbformat_minor": 2
}
